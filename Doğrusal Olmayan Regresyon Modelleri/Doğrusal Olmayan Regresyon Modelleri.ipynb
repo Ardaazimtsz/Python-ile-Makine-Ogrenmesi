{
 "cells": [
  {
   "cell_type": "markdown",
   "source": [
    "Doğrusal Olmayan Regresyon Modelleri"
   ],
   "metadata": {
    "collapsed": false
   },
   "id": "dc4d2fc69ba52f44"
  },
  {
   "cell_type": "code",
   "outputs": [],
   "source": [
    "# GEREKLİ KÜTÜPHANELER\n",
    "import numpy as np\n",
    "import pandas as pd\n",
    "import matplotlib.pyplot as plt\n",
    "import seaborn as sns\n",
    "from sklearn.preprocessing import scale\n",
    "from sklearn.preprocessing import StandardScaler\n",
    "from sklearn import model_selection\n",
    "from sklearn.linear_model import LinearRegression\n",
    "from sklearn.tree import DecisionTreeRegressor\n",
    "from sklearn.ensemble import RandomForestRegressor\n",
    "from sklearn.neighbors import KNeighborsRegressor\n",
    "from sklearn.neural_network import MLPRegressor\n",
    "from sklearn import neighbors\n",
    "from sklearn.metrics import mean_squared_error, r2_score\n",
    "from sklearn.model_selection import train_test_split,GridSearchCV\n",
    "from sklearn.ensemble import GradientBoostingRegressor\n",
    "from sklearn.svm import SVR\n",
    "import xgboost as xgb"
   ],
   "metadata": {
    "collapsed": false,
    "ExecuteTime": {
     "end_time": "2024-03-01T15:55:49.545309Z",
     "start_time": "2024-03-01T15:55:49.536015Z"
    }
   },
   "id": "14050d9ec105e111",
   "execution_count": 68
  },
  {
   "cell_type": "code",
   "outputs": [],
   "source": [
    "# Önemsiz Hatalardan Kurtulmak İçin\n",
    "from warnings import filterwarnings\n",
    "filterwarnings(\"ignore\")"
   ],
   "metadata": {
    "collapsed": false,
    "ExecuteTime": {
     "end_time": "2024-03-01T15:22:57.377491Z",
     "start_time": "2024-03-01T15:22:57.368002Z"
    }
   },
   "id": "d1669f93743f8f46",
   "execution_count": 2
  },
  {
   "cell_type": "markdown",
   "source": [
    "1-K En Yakın Komşu (KNN)"
   ],
   "metadata": {
    "collapsed": false
   },
   "id": "764f0add6c3ae119"
  },
  {
   "cell_type": "code",
   "execution_count": 3,
   "id": "initial_id",
   "metadata": {
    "collapsed": true,
    "ExecuteTime": {
     "end_time": "2024-03-01T15:23:02.295707Z",
     "start_time": "2024-03-01T15:23:02.288935Z"
    }
   },
   "outputs": [],
   "source": [
    "# Gözlemlerin birbirine olan benzerlikleri üzerinden tahmin yapılır."
   ]
  },
  {
   "cell_type": "code",
   "outputs": [],
   "source": [
    "df = pd.read_csv(\"Hitters.csv\")"
   ],
   "metadata": {
    "collapsed": false,
    "ExecuteTime": {
     "end_time": "2024-03-01T15:23:02.513200Z",
     "start_time": "2024-03-01T15:23:02.497738Z"
    }
   },
   "id": "cf2bf3674074166",
   "execution_count": 4
  },
  {
   "cell_type": "code",
   "outputs": [
    {
     "data": {
      "text/plain": "   AtBat  Hits  HmRun  Runs  RBI  Walks  Years  CAtBat  CHits  CHmRun  CRuns  \\\n0    293    66      1    30   29     14      1     293     66       1     30   \n1    315    81      7    24   38     39     14    3449    835      69    321   \n2    479   130     18    66   72     76      3    1624    457      63    224   \n3    496   141     20    65   78     37     11    5628   1575     225    828   \n4    321    87     10    39   42     30      2     396    101      12     48   \n5    594   169      4    74   51     35     11    4408   1133      19    501   \n6    185    37      1    23    8     21      2     214     42       1     30   \n7    298    73      0    24   24      7      3     509    108       0     41   \n8    323    81      6    26   32      8      2     341     86       6     32   \n9    401    92     17    49   66     65     13    5206   1332     253    784   \n\n   CRBI  CWalks League Division  PutOuts  Assists  Errors  Salary NewLeague  \n0    29      14      A        E      446       33      20     NaN         A  \n1   414     375      N        W      632       43      10   475.0         N  \n2   266     263      A        W      880       82      14   480.0         A  \n3   838     354      N        E      200       11       3   500.0         N  \n4    46      33      N        E      805       40       4    91.5         N  \n5   336     194      A        W      282      421      25   750.0         A  \n6     9      24      N        E       76      127       7    70.0         A  \n7    37      12      A        W      121      283       9   100.0         A  \n8    34       8      N        W      143      290      19    75.0         N  \n9   890     866      A        E        0        0       0  1100.0         A  ",
      "text/html": "<div>\n<style scoped>\n    .dataframe tbody tr th:only-of-type {\n        vertical-align: middle;\n    }\n\n    .dataframe tbody tr th {\n        vertical-align: top;\n    }\n\n    .dataframe thead th {\n        text-align: right;\n    }\n</style>\n<table border=\"1\" class=\"dataframe\">\n  <thead>\n    <tr style=\"text-align: right;\">\n      <th></th>\n      <th>AtBat</th>\n      <th>Hits</th>\n      <th>HmRun</th>\n      <th>Runs</th>\n      <th>RBI</th>\n      <th>Walks</th>\n      <th>Years</th>\n      <th>CAtBat</th>\n      <th>CHits</th>\n      <th>CHmRun</th>\n      <th>CRuns</th>\n      <th>CRBI</th>\n      <th>CWalks</th>\n      <th>League</th>\n      <th>Division</th>\n      <th>PutOuts</th>\n      <th>Assists</th>\n      <th>Errors</th>\n      <th>Salary</th>\n      <th>NewLeague</th>\n    </tr>\n  </thead>\n  <tbody>\n    <tr>\n      <th>0</th>\n      <td>293</td>\n      <td>66</td>\n      <td>1</td>\n      <td>30</td>\n      <td>29</td>\n      <td>14</td>\n      <td>1</td>\n      <td>293</td>\n      <td>66</td>\n      <td>1</td>\n      <td>30</td>\n      <td>29</td>\n      <td>14</td>\n      <td>A</td>\n      <td>E</td>\n      <td>446</td>\n      <td>33</td>\n      <td>20</td>\n      <td>NaN</td>\n      <td>A</td>\n    </tr>\n    <tr>\n      <th>1</th>\n      <td>315</td>\n      <td>81</td>\n      <td>7</td>\n      <td>24</td>\n      <td>38</td>\n      <td>39</td>\n      <td>14</td>\n      <td>3449</td>\n      <td>835</td>\n      <td>69</td>\n      <td>321</td>\n      <td>414</td>\n      <td>375</td>\n      <td>N</td>\n      <td>W</td>\n      <td>632</td>\n      <td>43</td>\n      <td>10</td>\n      <td>475.0</td>\n      <td>N</td>\n    </tr>\n    <tr>\n      <th>2</th>\n      <td>479</td>\n      <td>130</td>\n      <td>18</td>\n      <td>66</td>\n      <td>72</td>\n      <td>76</td>\n      <td>3</td>\n      <td>1624</td>\n      <td>457</td>\n      <td>63</td>\n      <td>224</td>\n      <td>266</td>\n      <td>263</td>\n      <td>A</td>\n      <td>W</td>\n      <td>880</td>\n      <td>82</td>\n      <td>14</td>\n      <td>480.0</td>\n      <td>A</td>\n    </tr>\n    <tr>\n      <th>3</th>\n      <td>496</td>\n      <td>141</td>\n      <td>20</td>\n      <td>65</td>\n      <td>78</td>\n      <td>37</td>\n      <td>11</td>\n      <td>5628</td>\n      <td>1575</td>\n      <td>225</td>\n      <td>828</td>\n      <td>838</td>\n      <td>354</td>\n      <td>N</td>\n      <td>E</td>\n      <td>200</td>\n      <td>11</td>\n      <td>3</td>\n      <td>500.0</td>\n      <td>N</td>\n    </tr>\n    <tr>\n      <th>4</th>\n      <td>321</td>\n      <td>87</td>\n      <td>10</td>\n      <td>39</td>\n      <td>42</td>\n      <td>30</td>\n      <td>2</td>\n      <td>396</td>\n      <td>101</td>\n      <td>12</td>\n      <td>48</td>\n      <td>46</td>\n      <td>33</td>\n      <td>N</td>\n      <td>E</td>\n      <td>805</td>\n      <td>40</td>\n      <td>4</td>\n      <td>91.5</td>\n      <td>N</td>\n    </tr>\n    <tr>\n      <th>5</th>\n      <td>594</td>\n      <td>169</td>\n      <td>4</td>\n      <td>74</td>\n      <td>51</td>\n      <td>35</td>\n      <td>11</td>\n      <td>4408</td>\n      <td>1133</td>\n      <td>19</td>\n      <td>501</td>\n      <td>336</td>\n      <td>194</td>\n      <td>A</td>\n      <td>W</td>\n      <td>282</td>\n      <td>421</td>\n      <td>25</td>\n      <td>750.0</td>\n      <td>A</td>\n    </tr>\n    <tr>\n      <th>6</th>\n      <td>185</td>\n      <td>37</td>\n      <td>1</td>\n      <td>23</td>\n      <td>8</td>\n      <td>21</td>\n      <td>2</td>\n      <td>214</td>\n      <td>42</td>\n      <td>1</td>\n      <td>30</td>\n      <td>9</td>\n      <td>24</td>\n      <td>N</td>\n      <td>E</td>\n      <td>76</td>\n      <td>127</td>\n      <td>7</td>\n      <td>70.0</td>\n      <td>A</td>\n    </tr>\n    <tr>\n      <th>7</th>\n      <td>298</td>\n      <td>73</td>\n      <td>0</td>\n      <td>24</td>\n      <td>24</td>\n      <td>7</td>\n      <td>3</td>\n      <td>509</td>\n      <td>108</td>\n      <td>0</td>\n      <td>41</td>\n      <td>37</td>\n      <td>12</td>\n      <td>A</td>\n      <td>W</td>\n      <td>121</td>\n      <td>283</td>\n      <td>9</td>\n      <td>100.0</td>\n      <td>A</td>\n    </tr>\n    <tr>\n      <th>8</th>\n      <td>323</td>\n      <td>81</td>\n      <td>6</td>\n      <td>26</td>\n      <td>32</td>\n      <td>8</td>\n      <td>2</td>\n      <td>341</td>\n      <td>86</td>\n      <td>6</td>\n      <td>32</td>\n      <td>34</td>\n      <td>8</td>\n      <td>N</td>\n      <td>W</td>\n      <td>143</td>\n      <td>290</td>\n      <td>19</td>\n      <td>75.0</td>\n      <td>N</td>\n    </tr>\n    <tr>\n      <th>9</th>\n      <td>401</td>\n      <td>92</td>\n      <td>17</td>\n      <td>49</td>\n      <td>66</td>\n      <td>65</td>\n      <td>13</td>\n      <td>5206</td>\n      <td>1332</td>\n      <td>253</td>\n      <td>784</td>\n      <td>890</td>\n      <td>866</td>\n      <td>A</td>\n      <td>E</td>\n      <td>0</td>\n      <td>0</td>\n      <td>0</td>\n      <td>1100.0</td>\n      <td>A</td>\n    </tr>\n  </tbody>\n</table>\n</div>"
     },
     "execution_count": 5,
     "metadata": {},
     "output_type": "execute_result"
    }
   ],
   "source": [
    "df.head(10)"
   ],
   "metadata": {
    "collapsed": false,
    "ExecuteTime": {
     "end_time": "2024-03-01T15:23:02.729265Z",
     "start_time": "2024-03-01T15:23:02.701658Z"
    }
   },
   "id": "c1cb6ee771f2190a",
   "execution_count": 5
  },
  {
   "cell_type": "code",
   "outputs": [
    {
     "name": "stdout",
     "output_type": "stream",
     "text": [
      "<class 'pandas.core.frame.DataFrame'>\n",
      "RangeIndex: 322 entries, 0 to 321\n",
      "Data columns (total 20 columns):\n",
      " #   Column     Non-Null Count  Dtype  \n",
      "---  ------     --------------  -----  \n",
      " 0   AtBat      322 non-null    int64  \n",
      " 1   Hits       322 non-null    int64  \n",
      " 2   HmRun      322 non-null    int64  \n",
      " 3   Runs       322 non-null    int64  \n",
      " 4   RBI        322 non-null    int64  \n",
      " 5   Walks      322 non-null    int64  \n",
      " 6   Years      322 non-null    int64  \n",
      " 7   CAtBat     322 non-null    int64  \n",
      " 8   CHits      322 non-null    int64  \n",
      " 9   CHmRun     322 non-null    int64  \n",
      " 10  CRuns      322 non-null    int64  \n",
      " 11  CRBI       322 non-null    int64  \n",
      " 12  CWalks     322 non-null    int64  \n",
      " 13  League     322 non-null    object \n",
      " 14  Division   322 non-null    object \n",
      " 15  PutOuts    322 non-null    int64  \n",
      " 16  Assists    322 non-null    int64  \n",
      " 17  Errors     322 non-null    int64  \n",
      " 18  Salary     263 non-null    float64\n",
      " 19  NewLeague  322 non-null    object \n",
      "dtypes: float64(1), int64(16), object(3)\n",
      "memory usage: 50.4+ KB\n"
     ]
    }
   ],
   "source": [
    "df.info()"
   ],
   "metadata": {
    "collapsed": false,
    "ExecuteTime": {
     "end_time": "2024-03-01T15:23:02.945771Z",
     "start_time": "2024-03-01T15:23:02.934177Z"
    }
   },
   "id": "7e91dcdd3e6ac1f",
   "execution_count": 6
  },
  {
   "cell_type": "code",
   "outputs": [],
   "source": [
    "df = df.dropna() # Eksik bilgileri sildik"
   ],
   "metadata": {
    "collapsed": false,
    "ExecuteTime": {
     "end_time": "2024-03-01T15:23:03.133551Z",
     "start_time": "2024-03-01T15:23:03.113975Z"
    }
   },
   "id": "4f1ba8f0c38634fa",
   "execution_count": 7
  },
  {
   "cell_type": "code",
   "outputs": [
    {
     "data": {
      "text/plain": "     AtBat  Hits  HmRun  Runs  RBI  Walks  Years  CAtBat  CHits  CHmRun  \\\n1      315    81      7    24   38     39     14    3449    835      69   \n2      479   130     18    66   72     76      3    1624    457      63   \n3      496   141     20    65   78     37     11    5628   1575     225   \n4      321    87     10    39   42     30      2     396    101      12   \n5      594   169      4    74   51     35     11    4408   1133      19   \n..     ...   ...    ...   ...  ...    ...    ...     ...    ...     ...   \n317    497   127      7    65   48     37      5    2703    806      32   \n318    492   136      5    76   50     94     12    5511   1511      39   \n319    475   126      3    61   43     52      6    1700    433       7   \n320    573   144      9    85   60     78      8    3198    857      97   \n321    631   170      9    77   44     31     11    4908   1457      30   \n\n     CRuns  CRBI  CWalks League Division  PutOuts  Assists  Errors  Salary  \\\n1      321   414     375      N        W      632       43      10   475.0   \n2      224   266     263      A        W      880       82      14   480.0   \n3      828   838     354      N        E      200       11       3   500.0   \n4       48    46      33      N        E      805       40       4    91.5   \n5      501   336     194      A        W      282      421      25   750.0   \n..     ...   ...     ...    ...      ...      ...      ...     ...     ...   \n317    379   311     138      N        E      325        9       3   700.0   \n318    897   451     875      A        E      313      381      20   875.0   \n319    217    93     146      A        W       37      113       7   385.0   \n320    470   420     332      A        E     1314      131      12   960.0   \n321    775   357     249      A        W      408        4       3  1000.0   \n\n    NewLeague  \n1           N  \n2           A  \n3           N  \n4           N  \n5           A  \n..        ...  \n317         N  \n318         A  \n319         A  \n320         A  \n321         A  \n\n[263 rows x 20 columns]",
      "text/html": "<div>\n<style scoped>\n    .dataframe tbody tr th:only-of-type {\n        vertical-align: middle;\n    }\n\n    .dataframe tbody tr th {\n        vertical-align: top;\n    }\n\n    .dataframe thead th {\n        text-align: right;\n    }\n</style>\n<table border=\"1\" class=\"dataframe\">\n  <thead>\n    <tr style=\"text-align: right;\">\n      <th></th>\n      <th>AtBat</th>\n      <th>Hits</th>\n      <th>HmRun</th>\n      <th>Runs</th>\n      <th>RBI</th>\n      <th>Walks</th>\n      <th>Years</th>\n      <th>CAtBat</th>\n      <th>CHits</th>\n      <th>CHmRun</th>\n      <th>CRuns</th>\n      <th>CRBI</th>\n      <th>CWalks</th>\n      <th>League</th>\n      <th>Division</th>\n      <th>PutOuts</th>\n      <th>Assists</th>\n      <th>Errors</th>\n      <th>Salary</th>\n      <th>NewLeague</th>\n    </tr>\n  </thead>\n  <tbody>\n    <tr>\n      <th>1</th>\n      <td>315</td>\n      <td>81</td>\n      <td>7</td>\n      <td>24</td>\n      <td>38</td>\n      <td>39</td>\n      <td>14</td>\n      <td>3449</td>\n      <td>835</td>\n      <td>69</td>\n      <td>321</td>\n      <td>414</td>\n      <td>375</td>\n      <td>N</td>\n      <td>W</td>\n      <td>632</td>\n      <td>43</td>\n      <td>10</td>\n      <td>475.0</td>\n      <td>N</td>\n    </tr>\n    <tr>\n      <th>2</th>\n      <td>479</td>\n      <td>130</td>\n      <td>18</td>\n      <td>66</td>\n      <td>72</td>\n      <td>76</td>\n      <td>3</td>\n      <td>1624</td>\n      <td>457</td>\n      <td>63</td>\n      <td>224</td>\n      <td>266</td>\n      <td>263</td>\n      <td>A</td>\n      <td>W</td>\n      <td>880</td>\n      <td>82</td>\n      <td>14</td>\n      <td>480.0</td>\n      <td>A</td>\n    </tr>\n    <tr>\n      <th>3</th>\n      <td>496</td>\n      <td>141</td>\n      <td>20</td>\n      <td>65</td>\n      <td>78</td>\n      <td>37</td>\n      <td>11</td>\n      <td>5628</td>\n      <td>1575</td>\n      <td>225</td>\n      <td>828</td>\n      <td>838</td>\n      <td>354</td>\n      <td>N</td>\n      <td>E</td>\n      <td>200</td>\n      <td>11</td>\n      <td>3</td>\n      <td>500.0</td>\n      <td>N</td>\n    </tr>\n    <tr>\n      <th>4</th>\n      <td>321</td>\n      <td>87</td>\n      <td>10</td>\n      <td>39</td>\n      <td>42</td>\n      <td>30</td>\n      <td>2</td>\n      <td>396</td>\n      <td>101</td>\n      <td>12</td>\n      <td>48</td>\n      <td>46</td>\n      <td>33</td>\n      <td>N</td>\n      <td>E</td>\n      <td>805</td>\n      <td>40</td>\n      <td>4</td>\n      <td>91.5</td>\n      <td>N</td>\n    </tr>\n    <tr>\n      <th>5</th>\n      <td>594</td>\n      <td>169</td>\n      <td>4</td>\n      <td>74</td>\n      <td>51</td>\n      <td>35</td>\n      <td>11</td>\n      <td>4408</td>\n      <td>1133</td>\n      <td>19</td>\n      <td>501</td>\n      <td>336</td>\n      <td>194</td>\n      <td>A</td>\n      <td>W</td>\n      <td>282</td>\n      <td>421</td>\n      <td>25</td>\n      <td>750.0</td>\n      <td>A</td>\n    </tr>\n    <tr>\n      <th>...</th>\n      <td>...</td>\n      <td>...</td>\n      <td>...</td>\n      <td>...</td>\n      <td>...</td>\n      <td>...</td>\n      <td>...</td>\n      <td>...</td>\n      <td>...</td>\n      <td>...</td>\n      <td>...</td>\n      <td>...</td>\n      <td>...</td>\n      <td>...</td>\n      <td>...</td>\n      <td>...</td>\n      <td>...</td>\n      <td>...</td>\n      <td>...</td>\n      <td>...</td>\n    </tr>\n    <tr>\n      <th>317</th>\n      <td>497</td>\n      <td>127</td>\n      <td>7</td>\n      <td>65</td>\n      <td>48</td>\n      <td>37</td>\n      <td>5</td>\n      <td>2703</td>\n      <td>806</td>\n      <td>32</td>\n      <td>379</td>\n      <td>311</td>\n      <td>138</td>\n      <td>N</td>\n      <td>E</td>\n      <td>325</td>\n      <td>9</td>\n      <td>3</td>\n      <td>700.0</td>\n      <td>N</td>\n    </tr>\n    <tr>\n      <th>318</th>\n      <td>492</td>\n      <td>136</td>\n      <td>5</td>\n      <td>76</td>\n      <td>50</td>\n      <td>94</td>\n      <td>12</td>\n      <td>5511</td>\n      <td>1511</td>\n      <td>39</td>\n      <td>897</td>\n      <td>451</td>\n      <td>875</td>\n      <td>A</td>\n      <td>E</td>\n      <td>313</td>\n      <td>381</td>\n      <td>20</td>\n      <td>875.0</td>\n      <td>A</td>\n    </tr>\n    <tr>\n      <th>319</th>\n      <td>475</td>\n      <td>126</td>\n      <td>3</td>\n      <td>61</td>\n      <td>43</td>\n      <td>52</td>\n      <td>6</td>\n      <td>1700</td>\n      <td>433</td>\n      <td>7</td>\n      <td>217</td>\n      <td>93</td>\n      <td>146</td>\n      <td>A</td>\n      <td>W</td>\n      <td>37</td>\n      <td>113</td>\n      <td>7</td>\n      <td>385.0</td>\n      <td>A</td>\n    </tr>\n    <tr>\n      <th>320</th>\n      <td>573</td>\n      <td>144</td>\n      <td>9</td>\n      <td>85</td>\n      <td>60</td>\n      <td>78</td>\n      <td>8</td>\n      <td>3198</td>\n      <td>857</td>\n      <td>97</td>\n      <td>470</td>\n      <td>420</td>\n      <td>332</td>\n      <td>A</td>\n      <td>E</td>\n      <td>1314</td>\n      <td>131</td>\n      <td>12</td>\n      <td>960.0</td>\n      <td>A</td>\n    </tr>\n    <tr>\n      <th>321</th>\n      <td>631</td>\n      <td>170</td>\n      <td>9</td>\n      <td>77</td>\n      <td>44</td>\n      <td>31</td>\n      <td>11</td>\n      <td>4908</td>\n      <td>1457</td>\n      <td>30</td>\n      <td>775</td>\n      <td>357</td>\n      <td>249</td>\n      <td>A</td>\n      <td>W</td>\n      <td>408</td>\n      <td>4</td>\n      <td>3</td>\n      <td>1000.0</td>\n      <td>A</td>\n    </tr>\n  </tbody>\n</table>\n<p>263 rows × 20 columns</p>\n</div>"
     },
     "execution_count": 8,
     "metadata": {},
     "output_type": "execute_result"
    }
   ],
   "source": [
    "df"
   ],
   "metadata": {
    "collapsed": false,
    "ExecuteTime": {
     "end_time": "2024-03-01T15:23:03.320899Z",
     "start_time": "2024-03-01T15:23:03.307367Z"
    }
   },
   "id": "727ee087969cdcad",
   "execution_count": 8
  },
  {
   "cell_type": "code",
   "outputs": [],
   "source": [
    "dms = pd.get_dummies(df[[\"League\",\"Division\",\"NewLeague\"]]) # Kategorik verileri nümerik değerlere çevirdik"
   ],
   "metadata": {
    "collapsed": false,
    "ExecuteTime": {
     "end_time": "2024-03-01T15:23:03.836446Z",
     "start_time": "2024-03-01T15:23:03.828942Z"
    }
   },
   "id": "3a471d71715a0402",
   "execution_count": 9
  },
  {
   "cell_type": "code",
   "outputs": [
    {
     "data": {
      "text/plain": "     League_A  League_N  Division_E  Division_W  NewLeague_A  NewLeague_N\n1       False      True       False        True        False         True\n2        True     False       False        True         True        False\n3       False      True        True       False        False         True\n4       False      True        True       False        False         True\n5        True     False       False        True         True        False\n..        ...       ...         ...         ...          ...          ...\n317     False      True        True       False        False         True\n318      True     False        True       False         True        False\n319      True     False       False        True         True        False\n320      True     False        True       False         True        False\n321      True     False       False        True         True        False\n\n[263 rows x 6 columns]",
      "text/html": "<div>\n<style scoped>\n    .dataframe tbody tr th:only-of-type {\n        vertical-align: middle;\n    }\n\n    .dataframe tbody tr th {\n        vertical-align: top;\n    }\n\n    .dataframe thead th {\n        text-align: right;\n    }\n</style>\n<table border=\"1\" class=\"dataframe\">\n  <thead>\n    <tr style=\"text-align: right;\">\n      <th></th>\n      <th>League_A</th>\n      <th>League_N</th>\n      <th>Division_E</th>\n      <th>Division_W</th>\n      <th>NewLeague_A</th>\n      <th>NewLeague_N</th>\n    </tr>\n  </thead>\n  <tbody>\n    <tr>\n      <th>1</th>\n      <td>False</td>\n      <td>True</td>\n      <td>False</td>\n      <td>True</td>\n      <td>False</td>\n      <td>True</td>\n    </tr>\n    <tr>\n      <th>2</th>\n      <td>True</td>\n      <td>False</td>\n      <td>False</td>\n      <td>True</td>\n      <td>True</td>\n      <td>False</td>\n    </tr>\n    <tr>\n      <th>3</th>\n      <td>False</td>\n      <td>True</td>\n      <td>True</td>\n      <td>False</td>\n      <td>False</td>\n      <td>True</td>\n    </tr>\n    <tr>\n      <th>4</th>\n      <td>False</td>\n      <td>True</td>\n      <td>True</td>\n      <td>False</td>\n      <td>False</td>\n      <td>True</td>\n    </tr>\n    <tr>\n      <th>5</th>\n      <td>True</td>\n      <td>False</td>\n      <td>False</td>\n      <td>True</td>\n      <td>True</td>\n      <td>False</td>\n    </tr>\n    <tr>\n      <th>...</th>\n      <td>...</td>\n      <td>...</td>\n      <td>...</td>\n      <td>...</td>\n      <td>...</td>\n      <td>...</td>\n    </tr>\n    <tr>\n      <th>317</th>\n      <td>False</td>\n      <td>True</td>\n      <td>True</td>\n      <td>False</td>\n      <td>False</td>\n      <td>True</td>\n    </tr>\n    <tr>\n      <th>318</th>\n      <td>True</td>\n      <td>False</td>\n      <td>True</td>\n      <td>False</td>\n      <td>True</td>\n      <td>False</td>\n    </tr>\n    <tr>\n      <th>319</th>\n      <td>True</td>\n      <td>False</td>\n      <td>False</td>\n      <td>True</td>\n      <td>True</td>\n      <td>False</td>\n    </tr>\n    <tr>\n      <th>320</th>\n      <td>True</td>\n      <td>False</td>\n      <td>True</td>\n      <td>False</td>\n      <td>True</td>\n      <td>False</td>\n    </tr>\n    <tr>\n      <th>321</th>\n      <td>True</td>\n      <td>False</td>\n      <td>False</td>\n      <td>True</td>\n      <td>True</td>\n      <td>False</td>\n    </tr>\n  </tbody>\n</table>\n<p>263 rows × 6 columns</p>\n</div>"
     },
     "execution_count": 10,
     "metadata": {},
     "output_type": "execute_result"
    }
   ],
   "source": [
    "dms"
   ],
   "metadata": {
    "collapsed": false,
    "ExecuteTime": {
     "end_time": "2024-03-01T15:23:04.053415Z",
     "start_time": "2024-03-01T15:23:04.028330Z"
    }
   },
   "id": "e8c497a1f491c1fb",
   "execution_count": 10
  },
  {
   "cell_type": "code",
   "outputs": [],
   "source": [
    "y = df[\"Salary\"] # Bağımlı değişkeni y'ye atadık"
   ],
   "metadata": {
    "collapsed": false,
    "ExecuteTime": {
     "end_time": "2024-03-01T15:23:04.254035Z",
     "start_time": "2024-03-01T15:23:04.247547Z"
    }
   },
   "id": "acd5f9b31fd06087",
   "execution_count": 11
  },
  {
   "cell_type": "code",
   "outputs": [
    {
     "data": {
      "text/plain": "1       475.0\n2       480.0\n3       500.0\n4        91.5\n5       750.0\n        ...  \n317     700.0\n318     875.0\n319     385.0\n320     960.0\n321    1000.0\nName: Salary, Length: 263, dtype: float64"
     },
     "execution_count": 12,
     "metadata": {},
     "output_type": "execute_result"
    }
   ],
   "source": [
    "y"
   ],
   "metadata": {
    "collapsed": false,
    "ExecuteTime": {
     "end_time": "2024-03-01T15:23:04.519115Z",
     "start_time": "2024-03-01T15:23:04.512621Z"
    }
   },
   "id": "f2dac2b4afbeed2d",
   "execution_count": 12
  },
  {
   "cell_type": "code",
   "outputs": [],
   "source": [
    "x_ = df.drop([\"Salary\",\"League\",\"Division\",\"NewLeague\"], axis=1).astype(\"float64\") # Bağımlı değişkeni ve kategorik değişkenleri attık\n"
   ],
   "metadata": {
    "collapsed": false,
    "ExecuteTime": {
     "end_time": "2024-03-01T15:23:04.628842Z",
     "start_time": "2024-03-01T15:23:04.619788Z"
    }
   },
   "id": "785cc3066de8f46b",
   "execution_count": 13
  },
  {
   "cell_type": "code",
   "outputs": [
    {
     "data": {
      "text/plain": "     AtBat   Hits  HmRun  Runs   RBI  Walks  Years  CAtBat   CHits  CHmRun  \\\n1    315.0   81.0    7.0  24.0  38.0   39.0   14.0  3449.0   835.0    69.0   \n2    479.0  130.0   18.0  66.0  72.0   76.0    3.0  1624.0   457.0    63.0   \n3    496.0  141.0   20.0  65.0  78.0   37.0   11.0  5628.0  1575.0   225.0   \n4    321.0   87.0   10.0  39.0  42.0   30.0    2.0   396.0   101.0    12.0   \n5    594.0  169.0    4.0  74.0  51.0   35.0   11.0  4408.0  1133.0    19.0   \n..     ...    ...    ...   ...   ...    ...    ...     ...     ...     ...   \n317  497.0  127.0    7.0  65.0  48.0   37.0    5.0  2703.0   806.0    32.0   \n318  492.0  136.0    5.0  76.0  50.0   94.0   12.0  5511.0  1511.0    39.0   \n319  475.0  126.0    3.0  61.0  43.0   52.0    6.0  1700.0   433.0     7.0   \n320  573.0  144.0    9.0  85.0  60.0   78.0    8.0  3198.0   857.0    97.0   \n321  631.0  170.0    9.0  77.0  44.0   31.0   11.0  4908.0  1457.0    30.0   \n\n     CRuns   CRBI  CWalks  PutOuts  Assists  Errors  \n1    321.0  414.0   375.0    632.0     43.0    10.0  \n2    224.0  266.0   263.0    880.0     82.0    14.0  \n3    828.0  838.0   354.0    200.0     11.0     3.0  \n4     48.0   46.0    33.0    805.0     40.0     4.0  \n5    501.0  336.0   194.0    282.0    421.0    25.0  \n..     ...    ...     ...      ...      ...     ...  \n317  379.0  311.0   138.0    325.0      9.0     3.0  \n318  897.0  451.0   875.0    313.0    381.0    20.0  \n319  217.0   93.0   146.0     37.0    113.0     7.0  \n320  470.0  420.0   332.0   1314.0    131.0    12.0  \n321  775.0  357.0   249.0    408.0      4.0     3.0  \n\n[263 rows x 16 columns]",
      "text/html": "<div>\n<style scoped>\n    .dataframe tbody tr th:only-of-type {\n        vertical-align: middle;\n    }\n\n    .dataframe tbody tr th {\n        vertical-align: top;\n    }\n\n    .dataframe thead th {\n        text-align: right;\n    }\n</style>\n<table border=\"1\" class=\"dataframe\">\n  <thead>\n    <tr style=\"text-align: right;\">\n      <th></th>\n      <th>AtBat</th>\n      <th>Hits</th>\n      <th>HmRun</th>\n      <th>Runs</th>\n      <th>RBI</th>\n      <th>Walks</th>\n      <th>Years</th>\n      <th>CAtBat</th>\n      <th>CHits</th>\n      <th>CHmRun</th>\n      <th>CRuns</th>\n      <th>CRBI</th>\n      <th>CWalks</th>\n      <th>PutOuts</th>\n      <th>Assists</th>\n      <th>Errors</th>\n    </tr>\n  </thead>\n  <tbody>\n    <tr>\n      <th>1</th>\n      <td>315.0</td>\n      <td>81.0</td>\n      <td>7.0</td>\n      <td>24.0</td>\n      <td>38.0</td>\n      <td>39.0</td>\n      <td>14.0</td>\n      <td>3449.0</td>\n      <td>835.0</td>\n      <td>69.0</td>\n      <td>321.0</td>\n      <td>414.0</td>\n      <td>375.0</td>\n      <td>632.0</td>\n      <td>43.0</td>\n      <td>10.0</td>\n    </tr>\n    <tr>\n      <th>2</th>\n      <td>479.0</td>\n      <td>130.0</td>\n      <td>18.0</td>\n      <td>66.0</td>\n      <td>72.0</td>\n      <td>76.0</td>\n      <td>3.0</td>\n      <td>1624.0</td>\n      <td>457.0</td>\n      <td>63.0</td>\n      <td>224.0</td>\n      <td>266.0</td>\n      <td>263.0</td>\n      <td>880.0</td>\n      <td>82.0</td>\n      <td>14.0</td>\n    </tr>\n    <tr>\n      <th>3</th>\n      <td>496.0</td>\n      <td>141.0</td>\n      <td>20.0</td>\n      <td>65.0</td>\n      <td>78.0</td>\n      <td>37.0</td>\n      <td>11.0</td>\n      <td>5628.0</td>\n      <td>1575.0</td>\n      <td>225.0</td>\n      <td>828.0</td>\n      <td>838.0</td>\n      <td>354.0</td>\n      <td>200.0</td>\n      <td>11.0</td>\n      <td>3.0</td>\n    </tr>\n    <tr>\n      <th>4</th>\n      <td>321.0</td>\n      <td>87.0</td>\n      <td>10.0</td>\n      <td>39.0</td>\n      <td>42.0</td>\n      <td>30.0</td>\n      <td>2.0</td>\n      <td>396.0</td>\n      <td>101.0</td>\n      <td>12.0</td>\n      <td>48.0</td>\n      <td>46.0</td>\n      <td>33.0</td>\n      <td>805.0</td>\n      <td>40.0</td>\n      <td>4.0</td>\n    </tr>\n    <tr>\n      <th>5</th>\n      <td>594.0</td>\n      <td>169.0</td>\n      <td>4.0</td>\n      <td>74.0</td>\n      <td>51.0</td>\n      <td>35.0</td>\n      <td>11.0</td>\n      <td>4408.0</td>\n      <td>1133.0</td>\n      <td>19.0</td>\n      <td>501.0</td>\n      <td>336.0</td>\n      <td>194.0</td>\n      <td>282.0</td>\n      <td>421.0</td>\n      <td>25.0</td>\n    </tr>\n    <tr>\n      <th>...</th>\n      <td>...</td>\n      <td>...</td>\n      <td>...</td>\n      <td>...</td>\n      <td>...</td>\n      <td>...</td>\n      <td>...</td>\n      <td>...</td>\n      <td>...</td>\n      <td>...</td>\n      <td>...</td>\n      <td>...</td>\n      <td>...</td>\n      <td>...</td>\n      <td>...</td>\n      <td>...</td>\n    </tr>\n    <tr>\n      <th>317</th>\n      <td>497.0</td>\n      <td>127.0</td>\n      <td>7.0</td>\n      <td>65.0</td>\n      <td>48.0</td>\n      <td>37.0</td>\n      <td>5.0</td>\n      <td>2703.0</td>\n      <td>806.0</td>\n      <td>32.0</td>\n      <td>379.0</td>\n      <td>311.0</td>\n      <td>138.0</td>\n      <td>325.0</td>\n      <td>9.0</td>\n      <td>3.0</td>\n    </tr>\n    <tr>\n      <th>318</th>\n      <td>492.0</td>\n      <td>136.0</td>\n      <td>5.0</td>\n      <td>76.0</td>\n      <td>50.0</td>\n      <td>94.0</td>\n      <td>12.0</td>\n      <td>5511.0</td>\n      <td>1511.0</td>\n      <td>39.0</td>\n      <td>897.0</td>\n      <td>451.0</td>\n      <td>875.0</td>\n      <td>313.0</td>\n      <td>381.0</td>\n      <td>20.0</td>\n    </tr>\n    <tr>\n      <th>319</th>\n      <td>475.0</td>\n      <td>126.0</td>\n      <td>3.0</td>\n      <td>61.0</td>\n      <td>43.0</td>\n      <td>52.0</td>\n      <td>6.0</td>\n      <td>1700.0</td>\n      <td>433.0</td>\n      <td>7.0</td>\n      <td>217.0</td>\n      <td>93.0</td>\n      <td>146.0</td>\n      <td>37.0</td>\n      <td>113.0</td>\n      <td>7.0</td>\n    </tr>\n    <tr>\n      <th>320</th>\n      <td>573.0</td>\n      <td>144.0</td>\n      <td>9.0</td>\n      <td>85.0</td>\n      <td>60.0</td>\n      <td>78.0</td>\n      <td>8.0</td>\n      <td>3198.0</td>\n      <td>857.0</td>\n      <td>97.0</td>\n      <td>470.0</td>\n      <td>420.0</td>\n      <td>332.0</td>\n      <td>1314.0</td>\n      <td>131.0</td>\n      <td>12.0</td>\n    </tr>\n    <tr>\n      <th>321</th>\n      <td>631.0</td>\n      <td>170.0</td>\n      <td>9.0</td>\n      <td>77.0</td>\n      <td>44.0</td>\n      <td>31.0</td>\n      <td>11.0</td>\n      <td>4908.0</td>\n      <td>1457.0</td>\n      <td>30.0</td>\n      <td>775.0</td>\n      <td>357.0</td>\n      <td>249.0</td>\n      <td>408.0</td>\n      <td>4.0</td>\n      <td>3.0</td>\n    </tr>\n  </tbody>\n</table>\n<p>263 rows × 16 columns</p>\n</div>"
     },
     "execution_count": 14,
     "metadata": {},
     "output_type": "execute_result"
    }
   ],
   "source": [
    "x_"
   ],
   "metadata": {
    "collapsed": false,
    "ExecuteTime": {
     "end_time": "2024-03-01T15:23:05.142780Z",
     "start_time": "2024-03-01T15:23:05.111827Z"
    }
   },
   "id": "679c955da8efb7a9",
   "execution_count": 14
  },
  {
   "cell_type": "code",
   "outputs": [],
   "source": [
    "x = pd.concat([x_, dms[[\"League_N\",'Division_W',\"NewLeague_N\"]]], axis=1) # bağımsız değişkenlerimizle, bağımlı değişkenleri ve dummiesleri bir araya getirdik."
   ],
   "metadata": {
    "collapsed": false,
    "ExecuteTime": {
     "end_time": "2024-03-01T15:23:05.375331Z",
     "start_time": "2024-03-01T15:23:05.355337Z"
    }
   },
   "id": "c07fd56b7e5484ea",
   "execution_count": 15
  },
  {
   "cell_type": "code",
   "outputs": [
    {
     "data": {
      "text/plain": "     AtBat   Hits  HmRun  Runs   RBI  Walks  Years  CAtBat   CHits  CHmRun  \\\n1    315.0   81.0    7.0  24.0  38.0   39.0   14.0  3449.0   835.0    69.0   \n2    479.0  130.0   18.0  66.0  72.0   76.0    3.0  1624.0   457.0    63.0   \n3    496.0  141.0   20.0  65.0  78.0   37.0   11.0  5628.0  1575.0   225.0   \n4    321.0   87.0   10.0  39.0  42.0   30.0    2.0   396.0   101.0    12.0   \n5    594.0  169.0    4.0  74.0  51.0   35.0   11.0  4408.0  1133.0    19.0   \n..     ...    ...    ...   ...   ...    ...    ...     ...     ...     ...   \n317  497.0  127.0    7.0  65.0  48.0   37.0    5.0  2703.0   806.0    32.0   \n318  492.0  136.0    5.0  76.0  50.0   94.0   12.0  5511.0  1511.0    39.0   \n319  475.0  126.0    3.0  61.0  43.0   52.0    6.0  1700.0   433.0     7.0   \n320  573.0  144.0    9.0  85.0  60.0   78.0    8.0  3198.0   857.0    97.0   \n321  631.0  170.0    9.0  77.0  44.0   31.0   11.0  4908.0  1457.0    30.0   \n\n     CRuns   CRBI  CWalks  PutOuts  Assists  Errors  League_N  Division_W  \\\n1    321.0  414.0   375.0    632.0     43.0    10.0      True        True   \n2    224.0  266.0   263.0    880.0     82.0    14.0     False        True   \n3    828.0  838.0   354.0    200.0     11.0     3.0      True       False   \n4     48.0   46.0    33.0    805.0     40.0     4.0      True       False   \n5    501.0  336.0   194.0    282.0    421.0    25.0     False        True   \n..     ...    ...     ...      ...      ...     ...       ...         ...   \n317  379.0  311.0   138.0    325.0      9.0     3.0      True       False   \n318  897.0  451.0   875.0    313.0    381.0    20.0     False       False   \n319  217.0   93.0   146.0     37.0    113.0     7.0     False        True   \n320  470.0  420.0   332.0   1314.0    131.0    12.0     False       False   \n321  775.0  357.0   249.0    408.0      4.0     3.0     False        True   \n\n     NewLeague_N  \n1           True  \n2          False  \n3           True  \n4           True  \n5          False  \n..           ...  \n317         True  \n318        False  \n319        False  \n320        False  \n321        False  \n\n[263 rows x 19 columns]",
      "text/html": "<div>\n<style scoped>\n    .dataframe tbody tr th:only-of-type {\n        vertical-align: middle;\n    }\n\n    .dataframe tbody tr th {\n        vertical-align: top;\n    }\n\n    .dataframe thead th {\n        text-align: right;\n    }\n</style>\n<table border=\"1\" class=\"dataframe\">\n  <thead>\n    <tr style=\"text-align: right;\">\n      <th></th>\n      <th>AtBat</th>\n      <th>Hits</th>\n      <th>HmRun</th>\n      <th>Runs</th>\n      <th>RBI</th>\n      <th>Walks</th>\n      <th>Years</th>\n      <th>CAtBat</th>\n      <th>CHits</th>\n      <th>CHmRun</th>\n      <th>CRuns</th>\n      <th>CRBI</th>\n      <th>CWalks</th>\n      <th>PutOuts</th>\n      <th>Assists</th>\n      <th>Errors</th>\n      <th>League_N</th>\n      <th>Division_W</th>\n      <th>NewLeague_N</th>\n    </tr>\n  </thead>\n  <tbody>\n    <tr>\n      <th>1</th>\n      <td>315.0</td>\n      <td>81.0</td>\n      <td>7.0</td>\n      <td>24.0</td>\n      <td>38.0</td>\n      <td>39.0</td>\n      <td>14.0</td>\n      <td>3449.0</td>\n      <td>835.0</td>\n      <td>69.0</td>\n      <td>321.0</td>\n      <td>414.0</td>\n      <td>375.0</td>\n      <td>632.0</td>\n      <td>43.0</td>\n      <td>10.0</td>\n      <td>True</td>\n      <td>True</td>\n      <td>True</td>\n    </tr>\n    <tr>\n      <th>2</th>\n      <td>479.0</td>\n      <td>130.0</td>\n      <td>18.0</td>\n      <td>66.0</td>\n      <td>72.0</td>\n      <td>76.0</td>\n      <td>3.0</td>\n      <td>1624.0</td>\n      <td>457.0</td>\n      <td>63.0</td>\n      <td>224.0</td>\n      <td>266.0</td>\n      <td>263.0</td>\n      <td>880.0</td>\n      <td>82.0</td>\n      <td>14.0</td>\n      <td>False</td>\n      <td>True</td>\n      <td>False</td>\n    </tr>\n    <tr>\n      <th>3</th>\n      <td>496.0</td>\n      <td>141.0</td>\n      <td>20.0</td>\n      <td>65.0</td>\n      <td>78.0</td>\n      <td>37.0</td>\n      <td>11.0</td>\n      <td>5628.0</td>\n      <td>1575.0</td>\n      <td>225.0</td>\n      <td>828.0</td>\n      <td>838.0</td>\n      <td>354.0</td>\n      <td>200.0</td>\n      <td>11.0</td>\n      <td>3.0</td>\n      <td>True</td>\n      <td>False</td>\n      <td>True</td>\n    </tr>\n    <tr>\n      <th>4</th>\n      <td>321.0</td>\n      <td>87.0</td>\n      <td>10.0</td>\n      <td>39.0</td>\n      <td>42.0</td>\n      <td>30.0</td>\n      <td>2.0</td>\n      <td>396.0</td>\n      <td>101.0</td>\n      <td>12.0</td>\n      <td>48.0</td>\n      <td>46.0</td>\n      <td>33.0</td>\n      <td>805.0</td>\n      <td>40.0</td>\n      <td>4.0</td>\n      <td>True</td>\n      <td>False</td>\n      <td>True</td>\n    </tr>\n    <tr>\n      <th>5</th>\n      <td>594.0</td>\n      <td>169.0</td>\n      <td>4.0</td>\n      <td>74.0</td>\n      <td>51.0</td>\n      <td>35.0</td>\n      <td>11.0</td>\n      <td>4408.0</td>\n      <td>1133.0</td>\n      <td>19.0</td>\n      <td>501.0</td>\n      <td>336.0</td>\n      <td>194.0</td>\n      <td>282.0</td>\n      <td>421.0</td>\n      <td>25.0</td>\n      <td>False</td>\n      <td>True</td>\n      <td>False</td>\n    </tr>\n    <tr>\n      <th>...</th>\n      <td>...</td>\n      <td>...</td>\n      <td>...</td>\n      <td>...</td>\n      <td>...</td>\n      <td>...</td>\n      <td>...</td>\n      <td>...</td>\n      <td>...</td>\n      <td>...</td>\n      <td>...</td>\n      <td>...</td>\n      <td>...</td>\n      <td>...</td>\n      <td>...</td>\n      <td>...</td>\n      <td>...</td>\n      <td>...</td>\n      <td>...</td>\n    </tr>\n    <tr>\n      <th>317</th>\n      <td>497.0</td>\n      <td>127.0</td>\n      <td>7.0</td>\n      <td>65.0</td>\n      <td>48.0</td>\n      <td>37.0</td>\n      <td>5.0</td>\n      <td>2703.0</td>\n      <td>806.0</td>\n      <td>32.0</td>\n      <td>379.0</td>\n      <td>311.0</td>\n      <td>138.0</td>\n      <td>325.0</td>\n      <td>9.0</td>\n      <td>3.0</td>\n      <td>True</td>\n      <td>False</td>\n      <td>True</td>\n    </tr>\n    <tr>\n      <th>318</th>\n      <td>492.0</td>\n      <td>136.0</td>\n      <td>5.0</td>\n      <td>76.0</td>\n      <td>50.0</td>\n      <td>94.0</td>\n      <td>12.0</td>\n      <td>5511.0</td>\n      <td>1511.0</td>\n      <td>39.0</td>\n      <td>897.0</td>\n      <td>451.0</td>\n      <td>875.0</td>\n      <td>313.0</td>\n      <td>381.0</td>\n      <td>20.0</td>\n      <td>False</td>\n      <td>False</td>\n      <td>False</td>\n    </tr>\n    <tr>\n      <th>319</th>\n      <td>475.0</td>\n      <td>126.0</td>\n      <td>3.0</td>\n      <td>61.0</td>\n      <td>43.0</td>\n      <td>52.0</td>\n      <td>6.0</td>\n      <td>1700.0</td>\n      <td>433.0</td>\n      <td>7.0</td>\n      <td>217.0</td>\n      <td>93.0</td>\n      <td>146.0</td>\n      <td>37.0</td>\n      <td>113.0</td>\n      <td>7.0</td>\n      <td>False</td>\n      <td>True</td>\n      <td>False</td>\n    </tr>\n    <tr>\n      <th>320</th>\n      <td>573.0</td>\n      <td>144.0</td>\n      <td>9.0</td>\n      <td>85.0</td>\n      <td>60.0</td>\n      <td>78.0</td>\n      <td>8.0</td>\n      <td>3198.0</td>\n      <td>857.0</td>\n      <td>97.0</td>\n      <td>470.0</td>\n      <td>420.0</td>\n      <td>332.0</td>\n      <td>1314.0</td>\n      <td>131.0</td>\n      <td>12.0</td>\n      <td>False</td>\n      <td>False</td>\n      <td>False</td>\n    </tr>\n    <tr>\n      <th>321</th>\n      <td>631.0</td>\n      <td>170.0</td>\n      <td>9.0</td>\n      <td>77.0</td>\n      <td>44.0</td>\n      <td>31.0</td>\n      <td>11.0</td>\n      <td>4908.0</td>\n      <td>1457.0</td>\n      <td>30.0</td>\n      <td>775.0</td>\n      <td>357.0</td>\n      <td>249.0</td>\n      <td>408.0</td>\n      <td>4.0</td>\n      <td>3.0</td>\n      <td>False</td>\n      <td>True</td>\n      <td>False</td>\n    </tr>\n  </tbody>\n</table>\n<p>263 rows × 19 columns</p>\n</div>"
     },
     "execution_count": 16,
     "metadata": {},
     "output_type": "execute_result"
    }
   ],
   "source": [
    "x"
   ],
   "metadata": {
    "collapsed": false,
    "ExecuteTime": {
     "end_time": "2024-03-01T15:23:05.641095Z",
     "start_time": "2024-03-01T15:23:05.610582Z"
    }
   },
   "id": "ebc88e387e08a04b",
   "execution_count": 16
  },
  {
   "cell_type": "code",
   "outputs": [],
   "source": [
    "x_train, x_test, y_train, y_test = model_selection.train_test_split(x, y, test_size=0.25, random_state=42)"
   ],
   "metadata": {
    "collapsed": false,
    "ExecuteTime": {
     "end_time": "2024-03-01T15:23:05.735304Z",
     "start_time": "2024-03-01T15:23:05.718266Z"
    }
   },
   "id": "15ec1f7e0790d8e0",
   "execution_count": 17
  },
  {
   "cell_type": "code",
   "outputs": [
    {
     "data": {
      "text/plain": "     AtBat   Hits  HmRun  Runs    RBI  Walks  Years   CAtBat   CHits  CHmRun  \\\n183  328.0   91.0   12.0  51.0   43.0   33.0    2.0    342.0    94.0    12.0   \n229  514.0  144.0    0.0  67.0   54.0   79.0    9.0   4739.0  1169.0    13.0   \n286  593.0  152.0   23.0  69.0   75.0   53.0    6.0   2765.0   686.0   133.0   \n102  233.0   49.0    2.0  41.0   23.0   18.0    8.0   1350.0   336.0     7.0   \n153  341.0   95.0    6.0  48.0   42.0   20.0   10.0   2964.0   808.0    81.0   \n..     ...    ...    ...   ...    ...    ...    ...      ...     ...     ...   \n24   629.0  168.0   18.0  73.0  102.0   40.0   18.0   8424.0  2464.0   164.0   \n236  237.0   52.0    0.0  15.0   25.0   30.0   24.0  14053.0  4256.0   160.0   \n93   511.0  138.0   25.0  76.0   96.0   61.0    3.0    592.0   164.0    28.0   \n137  343.0  103.0    6.0  48.0   36.0   40.0   15.0   4338.0  1193.0    70.0   \n133  445.0   99.0    1.0  46.0   24.0   29.0    4.0    618.0   129.0     1.0   \n\n      CRuns    CRBI  CWalks  PutOuts  Assists  Errors  League_N  Division_W  \\\n183    51.0    44.0    33.0    145.0     59.0     8.0      True       False   \n229   583.0   374.0   528.0    229.0    453.0    15.0      True       False   \n286   369.0   384.0   321.0    315.0     10.0     6.0     False        True   \n102   166.0   122.0   106.0    102.0    132.0    10.0     False       False   \n153   379.0   428.0   221.0    158.0      4.0     5.0      True        True   \n..      ...     ...     ...      ...      ...     ...       ...         ...   \n24   1008.0  1072.0   402.0   1067.0    157.0    14.0     False       False   \n236  2165.0  1314.0  1566.0    523.0     43.0     6.0      True        True   \n93     87.0   110.0    71.0    157.0      7.0     8.0     False        True   \n137   581.0   421.0   325.0    211.0     56.0    13.0     False       False   \n133    72.0    31.0    48.0    278.0    415.0    16.0     False        True   \n\n     NewLeague_N  \n183         True  \n229         True  \n286        False  \n102        False  \n153         True  \n..           ...  \n24         False  \n236         True  \n93         False  \n137        False  \n133        False  \n\n[197 rows x 19 columns]",
      "text/html": "<div>\n<style scoped>\n    .dataframe tbody tr th:only-of-type {\n        vertical-align: middle;\n    }\n\n    .dataframe tbody tr th {\n        vertical-align: top;\n    }\n\n    .dataframe thead th {\n        text-align: right;\n    }\n</style>\n<table border=\"1\" class=\"dataframe\">\n  <thead>\n    <tr style=\"text-align: right;\">\n      <th></th>\n      <th>AtBat</th>\n      <th>Hits</th>\n      <th>HmRun</th>\n      <th>Runs</th>\n      <th>RBI</th>\n      <th>Walks</th>\n      <th>Years</th>\n      <th>CAtBat</th>\n      <th>CHits</th>\n      <th>CHmRun</th>\n      <th>CRuns</th>\n      <th>CRBI</th>\n      <th>CWalks</th>\n      <th>PutOuts</th>\n      <th>Assists</th>\n      <th>Errors</th>\n      <th>League_N</th>\n      <th>Division_W</th>\n      <th>NewLeague_N</th>\n    </tr>\n  </thead>\n  <tbody>\n    <tr>\n      <th>183</th>\n      <td>328.0</td>\n      <td>91.0</td>\n      <td>12.0</td>\n      <td>51.0</td>\n      <td>43.0</td>\n      <td>33.0</td>\n      <td>2.0</td>\n      <td>342.0</td>\n      <td>94.0</td>\n      <td>12.0</td>\n      <td>51.0</td>\n      <td>44.0</td>\n      <td>33.0</td>\n      <td>145.0</td>\n      <td>59.0</td>\n      <td>8.0</td>\n      <td>True</td>\n      <td>False</td>\n      <td>True</td>\n    </tr>\n    <tr>\n      <th>229</th>\n      <td>514.0</td>\n      <td>144.0</td>\n      <td>0.0</td>\n      <td>67.0</td>\n      <td>54.0</td>\n      <td>79.0</td>\n      <td>9.0</td>\n      <td>4739.0</td>\n      <td>1169.0</td>\n      <td>13.0</td>\n      <td>583.0</td>\n      <td>374.0</td>\n      <td>528.0</td>\n      <td>229.0</td>\n      <td>453.0</td>\n      <td>15.0</td>\n      <td>True</td>\n      <td>False</td>\n      <td>True</td>\n    </tr>\n    <tr>\n      <th>286</th>\n      <td>593.0</td>\n      <td>152.0</td>\n      <td>23.0</td>\n      <td>69.0</td>\n      <td>75.0</td>\n      <td>53.0</td>\n      <td>6.0</td>\n      <td>2765.0</td>\n      <td>686.0</td>\n      <td>133.0</td>\n      <td>369.0</td>\n      <td>384.0</td>\n      <td>321.0</td>\n      <td>315.0</td>\n      <td>10.0</td>\n      <td>6.0</td>\n      <td>False</td>\n      <td>True</td>\n      <td>False</td>\n    </tr>\n    <tr>\n      <th>102</th>\n      <td>233.0</td>\n      <td>49.0</td>\n      <td>2.0</td>\n      <td>41.0</td>\n      <td>23.0</td>\n      <td>18.0</td>\n      <td>8.0</td>\n      <td>1350.0</td>\n      <td>336.0</td>\n      <td>7.0</td>\n      <td>166.0</td>\n      <td>122.0</td>\n      <td>106.0</td>\n      <td>102.0</td>\n      <td>132.0</td>\n      <td>10.0</td>\n      <td>False</td>\n      <td>False</td>\n      <td>False</td>\n    </tr>\n    <tr>\n      <th>153</th>\n      <td>341.0</td>\n      <td>95.0</td>\n      <td>6.0</td>\n      <td>48.0</td>\n      <td>42.0</td>\n      <td>20.0</td>\n      <td>10.0</td>\n      <td>2964.0</td>\n      <td>808.0</td>\n      <td>81.0</td>\n      <td>379.0</td>\n      <td>428.0</td>\n      <td>221.0</td>\n      <td>158.0</td>\n      <td>4.0</td>\n      <td>5.0</td>\n      <td>True</td>\n      <td>True</td>\n      <td>True</td>\n    </tr>\n    <tr>\n      <th>...</th>\n      <td>...</td>\n      <td>...</td>\n      <td>...</td>\n      <td>...</td>\n      <td>...</td>\n      <td>...</td>\n      <td>...</td>\n      <td>...</td>\n      <td>...</td>\n      <td>...</td>\n      <td>...</td>\n      <td>...</td>\n      <td>...</td>\n      <td>...</td>\n      <td>...</td>\n      <td>...</td>\n      <td>...</td>\n      <td>...</td>\n      <td>...</td>\n    </tr>\n    <tr>\n      <th>24</th>\n      <td>629.0</td>\n      <td>168.0</td>\n      <td>18.0</td>\n      <td>73.0</td>\n      <td>102.0</td>\n      <td>40.0</td>\n      <td>18.0</td>\n      <td>8424.0</td>\n      <td>2464.0</td>\n      <td>164.0</td>\n      <td>1008.0</td>\n      <td>1072.0</td>\n      <td>402.0</td>\n      <td>1067.0</td>\n      <td>157.0</td>\n      <td>14.0</td>\n      <td>False</td>\n      <td>False</td>\n      <td>False</td>\n    </tr>\n    <tr>\n      <th>236</th>\n      <td>237.0</td>\n      <td>52.0</td>\n      <td>0.0</td>\n      <td>15.0</td>\n      <td>25.0</td>\n      <td>30.0</td>\n      <td>24.0</td>\n      <td>14053.0</td>\n      <td>4256.0</td>\n      <td>160.0</td>\n      <td>2165.0</td>\n      <td>1314.0</td>\n      <td>1566.0</td>\n      <td>523.0</td>\n      <td>43.0</td>\n      <td>6.0</td>\n      <td>True</td>\n      <td>True</td>\n      <td>True</td>\n    </tr>\n    <tr>\n      <th>93</th>\n      <td>511.0</td>\n      <td>138.0</td>\n      <td>25.0</td>\n      <td>76.0</td>\n      <td>96.0</td>\n      <td>61.0</td>\n      <td>3.0</td>\n      <td>592.0</td>\n      <td>164.0</td>\n      <td>28.0</td>\n      <td>87.0</td>\n      <td>110.0</td>\n      <td>71.0</td>\n      <td>157.0</td>\n      <td>7.0</td>\n      <td>8.0</td>\n      <td>False</td>\n      <td>True</td>\n      <td>False</td>\n    </tr>\n    <tr>\n      <th>137</th>\n      <td>343.0</td>\n      <td>103.0</td>\n      <td>6.0</td>\n      <td>48.0</td>\n      <td>36.0</td>\n      <td>40.0</td>\n      <td>15.0</td>\n      <td>4338.0</td>\n      <td>1193.0</td>\n      <td>70.0</td>\n      <td>581.0</td>\n      <td>421.0</td>\n      <td>325.0</td>\n      <td>211.0</td>\n      <td>56.0</td>\n      <td>13.0</td>\n      <td>False</td>\n      <td>False</td>\n      <td>False</td>\n    </tr>\n    <tr>\n      <th>133</th>\n      <td>445.0</td>\n      <td>99.0</td>\n      <td>1.0</td>\n      <td>46.0</td>\n      <td>24.0</td>\n      <td>29.0</td>\n      <td>4.0</td>\n      <td>618.0</td>\n      <td>129.0</td>\n      <td>1.0</td>\n      <td>72.0</td>\n      <td>31.0</td>\n      <td>48.0</td>\n      <td>278.0</td>\n      <td>415.0</td>\n      <td>16.0</td>\n      <td>False</td>\n      <td>True</td>\n      <td>False</td>\n    </tr>\n  </tbody>\n</table>\n<p>197 rows × 19 columns</p>\n</div>"
     },
     "execution_count": 18,
     "metadata": {},
     "output_type": "execute_result"
    }
   ],
   "source": [
    "x_train"
   ],
   "metadata": {
    "collapsed": false,
    "ExecuteTime": {
     "end_time": "2024-03-01T15:23:05.999138Z",
     "start_time": "2024-03-01T15:23:05.976918Z"
    }
   },
   "id": "4d71c1cbb4ef078f",
   "execution_count": 18
  },
  {
   "cell_type": "code",
   "outputs": [
    {
     "data": {
      "text/plain": "     AtBat   Hits  HmRun  Runs   RBI  Walks  Years  CAtBat   CHits  CHmRun  \\\n148  497.0  136.0    7.0  58.0  38.0   26.0   11.0  3871.0  1066.0    40.0   \n154  537.0  147.0   23.0  58.0  88.0   47.0   10.0  2744.0   730.0    97.0   \n318  492.0  136.0    5.0  76.0  50.0   94.0   12.0  5511.0  1511.0    39.0   \n279  439.0   96.0    0.0  44.0  36.0   65.0    4.0   711.0   148.0     1.0   \n88   155.0   41.0   12.0  21.0  29.0   22.0   16.0  5409.0  1338.0   181.0   \n..     ...    ...    ...   ...   ...    ...    ...     ...     ...     ...   \n122  539.0  139.0    5.0  93.0  58.0   69.0    5.0  1469.0   369.0    12.0   \n282  633.0  210.0    6.0  91.0  56.0   59.0    6.0  3070.0   872.0    19.0   \n111  325.0   76.0   16.0  33.0  52.0   37.0    5.0  1506.0   351.0    71.0   \n232  313.0   83.0    9.0  43.0  41.0   30.0   14.0  5885.0  1543.0   104.0   \n51   214.0   53.0    2.0  30.0  29.0   23.0    2.0   226.0    59.0     2.0   \n\n     CRuns   CRBI  CWalks  PutOuts  Assists  Errors  League_N  Division_W  \\\n148  450.0  367.0   241.0    304.0    347.0    10.0     False       False   \n154  302.0  351.0   174.0     92.0    257.0    20.0      True       False   \n318  897.0  451.0   875.0    313.0    381.0    20.0     False       False   \n279   68.0   56.0    99.0    229.0    406.0    22.0      True       False   \n88   746.0  805.0   875.0    165.0      9.0     1.0     False        True   \n..     ...    ...     ...      ...      ...     ...       ...         ...   \n122  247.0  126.0   198.0    462.0      9.0     7.0     False        True   \n282  420.0  230.0   274.0    367.0    432.0    16.0      True        True   \n111  195.0  219.0   214.0    726.0     87.0     3.0      True        True   \n232  751.0  714.0   535.0     58.0    141.0    23.0      True        True   \n51    32.0   32.0    27.0    109.0      7.0     3.0      True       False   \n\n     NewLeague_N  \n148        False  \n154         True  \n318        False  \n279         True  \n88         False  \n..           ...  \n122        False  \n282         True  \n111        False  \n232         True  \n51          True  \n\n[66 rows x 19 columns]",
      "text/html": "<div>\n<style scoped>\n    .dataframe tbody tr th:only-of-type {\n        vertical-align: middle;\n    }\n\n    .dataframe tbody tr th {\n        vertical-align: top;\n    }\n\n    .dataframe thead th {\n        text-align: right;\n    }\n</style>\n<table border=\"1\" class=\"dataframe\">\n  <thead>\n    <tr style=\"text-align: right;\">\n      <th></th>\n      <th>AtBat</th>\n      <th>Hits</th>\n      <th>HmRun</th>\n      <th>Runs</th>\n      <th>RBI</th>\n      <th>Walks</th>\n      <th>Years</th>\n      <th>CAtBat</th>\n      <th>CHits</th>\n      <th>CHmRun</th>\n      <th>CRuns</th>\n      <th>CRBI</th>\n      <th>CWalks</th>\n      <th>PutOuts</th>\n      <th>Assists</th>\n      <th>Errors</th>\n      <th>League_N</th>\n      <th>Division_W</th>\n      <th>NewLeague_N</th>\n    </tr>\n  </thead>\n  <tbody>\n    <tr>\n      <th>148</th>\n      <td>497.0</td>\n      <td>136.0</td>\n      <td>7.0</td>\n      <td>58.0</td>\n      <td>38.0</td>\n      <td>26.0</td>\n      <td>11.0</td>\n      <td>3871.0</td>\n      <td>1066.0</td>\n      <td>40.0</td>\n      <td>450.0</td>\n      <td>367.0</td>\n      <td>241.0</td>\n      <td>304.0</td>\n      <td>347.0</td>\n      <td>10.0</td>\n      <td>False</td>\n      <td>False</td>\n      <td>False</td>\n    </tr>\n    <tr>\n      <th>154</th>\n      <td>537.0</td>\n      <td>147.0</td>\n      <td>23.0</td>\n      <td>58.0</td>\n      <td>88.0</td>\n      <td>47.0</td>\n      <td>10.0</td>\n      <td>2744.0</td>\n      <td>730.0</td>\n      <td>97.0</td>\n      <td>302.0</td>\n      <td>351.0</td>\n      <td>174.0</td>\n      <td>92.0</td>\n      <td>257.0</td>\n      <td>20.0</td>\n      <td>True</td>\n      <td>False</td>\n      <td>True</td>\n    </tr>\n    <tr>\n      <th>318</th>\n      <td>492.0</td>\n      <td>136.0</td>\n      <td>5.0</td>\n      <td>76.0</td>\n      <td>50.0</td>\n      <td>94.0</td>\n      <td>12.0</td>\n      <td>5511.0</td>\n      <td>1511.0</td>\n      <td>39.0</td>\n      <td>897.0</td>\n      <td>451.0</td>\n      <td>875.0</td>\n      <td>313.0</td>\n      <td>381.0</td>\n      <td>20.0</td>\n      <td>False</td>\n      <td>False</td>\n      <td>False</td>\n    </tr>\n    <tr>\n      <th>279</th>\n      <td>439.0</td>\n      <td>96.0</td>\n      <td>0.0</td>\n      <td>44.0</td>\n      <td>36.0</td>\n      <td>65.0</td>\n      <td>4.0</td>\n      <td>711.0</td>\n      <td>148.0</td>\n      <td>1.0</td>\n      <td>68.0</td>\n      <td>56.0</td>\n      <td>99.0</td>\n      <td>229.0</td>\n      <td>406.0</td>\n      <td>22.0</td>\n      <td>True</td>\n      <td>False</td>\n      <td>True</td>\n    </tr>\n    <tr>\n      <th>88</th>\n      <td>155.0</td>\n      <td>41.0</td>\n      <td>12.0</td>\n      <td>21.0</td>\n      <td>29.0</td>\n      <td>22.0</td>\n      <td>16.0</td>\n      <td>5409.0</td>\n      <td>1338.0</td>\n      <td>181.0</td>\n      <td>746.0</td>\n      <td>805.0</td>\n      <td>875.0</td>\n      <td>165.0</td>\n      <td>9.0</td>\n      <td>1.0</td>\n      <td>False</td>\n      <td>True</td>\n      <td>False</td>\n    </tr>\n    <tr>\n      <th>...</th>\n      <td>...</td>\n      <td>...</td>\n      <td>...</td>\n      <td>...</td>\n      <td>...</td>\n      <td>...</td>\n      <td>...</td>\n      <td>...</td>\n      <td>...</td>\n      <td>...</td>\n      <td>...</td>\n      <td>...</td>\n      <td>...</td>\n      <td>...</td>\n      <td>...</td>\n      <td>...</td>\n      <td>...</td>\n      <td>...</td>\n      <td>...</td>\n    </tr>\n    <tr>\n      <th>122</th>\n      <td>539.0</td>\n      <td>139.0</td>\n      <td>5.0</td>\n      <td>93.0</td>\n      <td>58.0</td>\n      <td>69.0</td>\n      <td>5.0</td>\n      <td>1469.0</td>\n      <td>369.0</td>\n      <td>12.0</td>\n      <td>247.0</td>\n      <td>126.0</td>\n      <td>198.0</td>\n      <td>462.0</td>\n      <td>9.0</td>\n      <td>7.0</td>\n      <td>False</td>\n      <td>True</td>\n      <td>False</td>\n    </tr>\n    <tr>\n      <th>282</th>\n      <td>633.0</td>\n      <td>210.0</td>\n      <td>6.0</td>\n      <td>91.0</td>\n      <td>56.0</td>\n      <td>59.0</td>\n      <td>6.0</td>\n      <td>3070.0</td>\n      <td>872.0</td>\n      <td>19.0</td>\n      <td>420.0</td>\n      <td>230.0</td>\n      <td>274.0</td>\n      <td>367.0</td>\n      <td>432.0</td>\n      <td>16.0</td>\n      <td>True</td>\n      <td>True</td>\n      <td>True</td>\n    </tr>\n    <tr>\n      <th>111</th>\n      <td>325.0</td>\n      <td>76.0</td>\n      <td>16.0</td>\n      <td>33.0</td>\n      <td>52.0</td>\n      <td>37.0</td>\n      <td>5.0</td>\n      <td>1506.0</td>\n      <td>351.0</td>\n      <td>71.0</td>\n      <td>195.0</td>\n      <td>219.0</td>\n      <td>214.0</td>\n      <td>726.0</td>\n      <td>87.0</td>\n      <td>3.0</td>\n      <td>True</td>\n      <td>True</td>\n      <td>False</td>\n    </tr>\n    <tr>\n      <th>232</th>\n      <td>313.0</td>\n      <td>83.0</td>\n      <td>9.0</td>\n      <td>43.0</td>\n      <td>41.0</td>\n      <td>30.0</td>\n      <td>14.0</td>\n      <td>5885.0</td>\n      <td>1543.0</td>\n      <td>104.0</td>\n      <td>751.0</td>\n      <td>714.0</td>\n      <td>535.0</td>\n      <td>58.0</td>\n      <td>141.0</td>\n      <td>23.0</td>\n      <td>True</td>\n      <td>True</td>\n      <td>True</td>\n    </tr>\n    <tr>\n      <th>51</th>\n      <td>214.0</td>\n      <td>53.0</td>\n      <td>2.0</td>\n      <td>30.0</td>\n      <td>29.0</td>\n      <td>23.0</td>\n      <td>2.0</td>\n      <td>226.0</td>\n      <td>59.0</td>\n      <td>2.0</td>\n      <td>32.0</td>\n      <td>32.0</td>\n      <td>27.0</td>\n      <td>109.0</td>\n      <td>7.0</td>\n      <td>3.0</td>\n      <td>True</td>\n      <td>False</td>\n      <td>True</td>\n    </tr>\n  </tbody>\n</table>\n<p>66 rows × 19 columns</p>\n</div>"
     },
     "execution_count": 19,
     "metadata": {},
     "output_type": "execute_result"
    }
   ],
   "source": [
    "x_test"
   ],
   "metadata": {
    "collapsed": false,
    "ExecuteTime": {
     "end_time": "2024-03-01T15:23:06.140756Z",
     "start_time": "2024-03-01T15:23:06.118173Z"
    }
   },
   "id": "92b3e42d8d437cef",
   "execution_count": 19
  },
  {
   "cell_type": "code",
   "outputs": [
    {
     "data": {
      "text/plain": "183     125.000\n229    1940.000\n286     940.000\n102     375.000\n153     100.000\n         ...   \n24      776.667\n236     750.000\n93      145.000\n137     430.000\n133      87.500\nName: Salary, Length: 197, dtype: float64"
     },
     "execution_count": 20,
     "metadata": {},
     "output_type": "execute_result"
    }
   ],
   "source": [
    "y_train"
   ],
   "metadata": {
    "collapsed": false,
    "ExecuteTime": {
     "end_time": "2024-03-01T15:23:06.281604Z",
     "start_time": "2024-03-01T15:23:06.263535Z"
    }
   },
   "id": "61d5c573b685c549",
   "execution_count": 20
  },
  {
   "cell_type": "code",
   "outputs": [],
   "source": [
    "y_test"
   ],
   "metadata": {
    "collapsed": false,
    "ExecuteTime": {
     "start_time": "2024-03-01T15:22:37.936163Z"
    }
   },
   "id": "fa610aa8c6e03a83",
   "execution_count": null
  },
  {
   "cell_type": "markdown",
   "source": [
    "1.1-Model"
   ],
   "metadata": {
    "collapsed": false
   },
   "id": "793d10aa8d5b1e04"
  },
  {
   "cell_type": "code",
   "outputs": [],
   "source": [
    "knnModel = KNeighborsRegressor().fit(x_train, y_train)"
   ],
   "metadata": {
    "collapsed": false,
    "ExecuteTime": {
     "start_time": "2024-03-01T15:22:37.947631Z"
    }
   },
   "id": "82b453e8d8e1349f",
   "execution_count": null
  },
  {
   "cell_type": "code",
   "outputs": [],
   "source": [
    "knnModel"
   ],
   "metadata": {
    "collapsed": false,
    "ExecuteTime": {
     "start_time": "2024-03-01T15:22:37.962665Z"
    }
   },
   "id": "4d96ea1326f83ad",
   "execution_count": null
  },
  {
   "cell_type": "code",
   "outputs": [],
   "source": [
    "knnModel.n_neighbors"
   ],
   "metadata": {
    "collapsed": false,
    "ExecuteTime": {
     "start_time": "2024-03-01T15:22:37.978235Z"
    }
   },
   "id": "5a5ace3f24f6bf59",
   "execution_count": null
  },
  {
   "cell_type": "code",
   "outputs": [],
   "source": [
    "knnModel.metric"
   ],
   "metadata": {
    "collapsed": false,
    "ExecuteTime": {
     "start_time": "2024-03-01T15:22:37.993747Z"
    }
   },
   "id": "a6d03bceb1488496",
   "execution_count": null
  },
  {
   "cell_type": "code",
   "outputs": [],
   "source": [
    "dir(knnModel)"
   ],
   "metadata": {
    "collapsed": false,
    "ExecuteTime": {
     "start_time": "2024-03-01T15:22:38.010298Z"
    }
   },
   "id": "5c2095c5f68949d7",
   "execution_count": null
  },
  {
   "cell_type": "markdown",
   "source": [
    "1.2-Tahmin"
   ],
   "metadata": {
    "collapsed": false
   },
   "id": "16ce63f1a30751e"
  },
  {
   "cell_type": "code",
   "outputs": [],
   "source": [
    "knnModel.predict(x_test)"
   ],
   "metadata": {
    "collapsed": false,
    "ExecuteTime": {
     "start_time": "2024-03-01T15:22:38.024764Z"
    }
   },
   "id": "351795681396c170",
   "execution_count": null
  },
  {
   "cell_type": "code",
   "outputs": [],
   "source": [
    "yTahmin = knnModel.predict(x_test)"
   ],
   "metadata": {
    "collapsed": false,
    "ExecuteTime": {
     "start_time": "2024-03-01T15:22:38.086593Z"
    }
   },
   "id": "8500fd04e86792fe",
   "execution_count": null
  },
  {
   "cell_type": "code",
   "outputs": [],
   "source": [
    "hataKarelerOrtalaması = np.sqrt(mean_squared_error(y_test, yTahmin))"
   ],
   "metadata": {
    "collapsed": false,
    "ExecuteTime": {
     "start_time": "2024-03-01T15:22:38.132816Z"
    }
   },
   "id": "d169bc375747db3a",
   "execution_count": null
  },
  {
   "cell_type": "code",
   "outputs": [],
   "source": [
    "hataKarelerOrtalaması"
   ],
   "metadata": {
    "collapsed": false,
    "ExecuteTime": {
     "start_time": "2024-03-01T15:22:38.147282Z"
    }
   },
   "id": "1de4a56920ba6868",
   "execution_count": null
  },
  {
   "cell_type": "markdown",
   "source": [
    "1.3-Model Tuning"
   ],
   "metadata": {
    "collapsed": false
   },
   "id": "13d30e20cbb3d26a"
  },
  {
   "cell_type": "code",
   "outputs": [],
   "source": [
    "knnModel"
   ],
   "metadata": {
    "collapsed": false,
    "ExecuteTime": {
     "start_time": "2024-03-01T15:22:38.163335Z"
    }
   },
   "id": "cf65bd966809a829",
   "execution_count": null
  },
  {
   "cell_type": "code",
   "outputs": [],
   "source": [
    "RMSE = []\n",
    "\n",
    "for k in range(10):\n",
    "    k = k + 1\n",
    "    knnModel = KNeighborsRegressor(n_neighbors=k).fit(x_train,y_train)\n",
    "    yTahmin = knnModel.predict(x_test)\n",
    "    rmse = np.sqrt(mean_squared_error(y_test,yTahmin))\n",
    "    RMSE.append(rmse)\n",
    "    print(\"k=\",k ,\"için RMSE değeri:\", rmse)"
   ],
   "metadata": {
    "collapsed": false,
    "ExecuteTime": {
     "start_time": "2024-03-01T15:22:38.178806Z"
    }
   },
   "id": "e0254fc433a7657d",
   "execution_count": null
  },
  {
   "cell_type": "code",
   "outputs": [],
   "source": [
    "# GridSearchCV Parametre kombinasyonları değerlendirmek ve kıyaslamak için kullanırız."
   ],
   "metadata": {
    "collapsed": false,
    "ExecuteTime": {
     "start_time": "2024-03-01T15:22:38.537136Z"
    }
   },
   "id": "f716cc49770ce7f5",
   "execution_count": null
  },
  {
   "cell_type": "code",
   "outputs": [],
   "source": [
    "knnParams = {\"n_neighbors\":np.arange(1,30,1)}"
   ],
   "metadata": {
    "collapsed": false,
    "ExecuteTime": {
     "start_time": "2024-03-01T15:22:38.552671Z"
    }
   },
   "id": "93fc3c46518ebba2",
   "execution_count": null
  },
  {
   "cell_type": "code",
   "outputs": [],
   "source": [
    "knn = KNeighborsRegressor()"
   ],
   "metadata": {
    "collapsed": false,
    "ExecuteTime": {
     "start_time": "2024-03-01T15:22:38.568129Z"
    }
   },
   "id": "e3d654b1e43721fb",
   "execution_count": null
  },
  {
   "cell_type": "code",
   "outputs": [],
   "source": [
    "knnCvModel = GridSearchCV(knn,knnParams,cv=10).fit(x_train,y_train)"
   ],
   "metadata": {
    "collapsed": false,
    "ExecuteTime": {
     "start_time": "2024-03-01T15:22:38.584157Z"
    }
   },
   "id": "84421d80fd5a5102",
   "execution_count": null
  },
  {
   "cell_type": "code",
   "outputs": [],
   "source": [
    "knnCvModel.best_params_"
   ],
   "metadata": {
    "collapsed": false
   },
   "id": "7819ce5c781543d7",
   "execution_count": null
  },
  {
   "cell_type": "markdown",
   "source": [
    "1.4-Final Model"
   ],
   "metadata": {
    "collapsed": false
   },
   "id": "f21373433efc4f42"
  },
  {
   "cell_type": "code",
   "outputs": [],
   "source": [
    "knnTuned = KNeighborsRegressor(n_neighbors=knnCvModel.best_params_[\"n_neighbors\"]).fit(x_train,y_train)"
   ],
   "metadata": {
    "collapsed": false
   },
   "id": "b1313841cfe1db1a",
   "execution_count": null
  },
  {
   "cell_type": "code",
   "outputs": [],
   "source": [
    "knnTuned"
   ],
   "metadata": {
    "collapsed": false
   },
   "id": "30f4d3d097bba551",
   "execution_count": null
  },
  {
   "cell_type": "code",
   "outputs": [],
   "source": [
    "yTahmin = knnTuned.predict(x_test)"
   ],
   "metadata": {
    "collapsed": false
   },
   "id": "37a9245ad949af6",
   "execution_count": null
  },
  {
   "cell_type": "code",
   "outputs": [],
   "source": [
    "np.sqrt(mean_squared_error(y_test,yTahmin))"
   ],
   "metadata": {
    "collapsed": false
   },
   "id": "697af2560c933124",
   "execution_count": null
  },
  {
   "cell_type": "markdown",
   "source": [
    "2-Destek Vektör Regresyonu(Support Vector Regression)"
   ],
   "metadata": {
    "collapsed": false
   },
   "id": "a0105d0003aa5a10"
  },
  {
   "cell_type": "markdown",
   "source": [
    "2.1-Model"
   ],
   "metadata": {
    "collapsed": false
   },
   "id": "47414062bcd9f75"
  },
  {
   "cell_type": "code",
   "outputs": [],
   "source": [
    "svrModel = SVR(kernel=\"linear\").fit(x_train, y_train)"
   ],
   "metadata": {
    "collapsed": false
   },
   "id": "477edae249cde8d2",
   "execution_count": null
  },
  {
   "cell_type": "code",
   "outputs": [],
   "source": [
    "svrModel"
   ],
   "metadata": {
    "collapsed": false
   },
   "id": "4a76b4ffc793714",
   "execution_count": null
  },
  {
   "cell_type": "code",
   "outputs": [],
   "source": [
    "svrModel.predict(x_train)"
   ],
   "metadata": {
    "collapsed": false
   },
   "id": "20a72282373e914",
   "execution_count": null
  },
  {
   "cell_type": "code",
   "outputs": [],
   "source": [
    "svrModel.predict(x_test)"
   ],
   "metadata": {
    "collapsed": false
   },
   "id": "9348151ed935c1df",
   "execution_count": null
  },
  {
   "cell_type": "code",
   "outputs": [],
   "source": [
    "svrModel.intercept_"
   ],
   "metadata": {
    "collapsed": false
   },
   "id": "8da8055042087cae",
   "execution_count": null
  },
  {
   "cell_type": "code",
   "outputs": [],
   "source": [
    "svrModel.coef_"
   ],
   "metadata": {
    "collapsed": false
   },
   "id": "ff2897df2615048f",
   "execution_count": null
  },
  {
   "cell_type": "markdown",
   "source": [
    "2.2-Test"
   ],
   "metadata": {
    "collapsed": false
   },
   "id": "caa3fe83932c74ca"
  },
  {
   "cell_type": "code",
   "outputs": [],
   "source": [
    "yTahmin = svrModel.predict(x_test)"
   ],
   "metadata": {
    "collapsed": false
   },
   "id": "7639d2bdd34a75f5",
   "execution_count": null
  },
  {
   "cell_type": "code",
   "outputs": [],
   "source": [
    "np.sqrt(mean_squared_error(y_test, yTahmin))"
   ],
   "metadata": {
    "collapsed": false
   },
   "id": "e18c3c9997df2394",
   "execution_count": null
  },
  {
   "cell_type": "markdown",
   "source": [
    "2.3-Model Tuning"
   ],
   "metadata": {
    "collapsed": false
   },
   "id": "11f91ad568fa5ce8"
  },
  {
   "cell_type": "code",
   "outputs": [],
   "source": [
    "svrModel = SVR(kernel=\"linear\")"
   ],
   "metadata": {
    "collapsed": false
   },
   "id": "991beb706ac01435",
   "execution_count": null
  },
  {
   "cell_type": "code",
   "outputs": [],
   "source": [
    "svrModel"
   ],
   "metadata": {
    "collapsed": false
   },
   "id": "eac905a1b5f9cff3",
   "execution_count": null
  },
  {
   "cell_type": "code",
   "outputs": [],
   "source": [
    "svrParams = {\"C\": [0.1,0.5,1.3]}"
   ],
   "metadata": {
    "collapsed": false
   },
   "id": "4e80dcbb2bac90fa",
   "execution_count": null
  },
  {
   "cell_type": "code",
   "outputs": [],
   "source": [
    "svrCvModel = GridSearchCV(svrModel,svrParams,cv=5).fit(x_train, y_train)"
   ],
   "metadata": {
    "collapsed": false
   },
   "id": "20080b7ede9d1c8b",
   "execution_count": null
  },
  {
   "cell_type": "code",
   "outputs": [],
   "source": [
    "svrCvModel.best_params_"
   ],
   "metadata": {
    "collapsed": false
   },
   "id": "b0269040a2ecf561",
   "execution_count": null
  },
  {
   "cell_type": "code",
   "outputs": [],
   "source": [
    "svrCvModel = GridSearchCV(svrModel,svrParams,cv=5,verbose = 2,n_jobs= -1).fit(x_train, y_train) #verbose = 2 durumu raporlayarak çalıştırırır, n_jobs=-1 bilgisayar maximum gücünde çalışır"
   ],
   "metadata": {
    "collapsed": false
   },
   "id": "162025dbdd9cbeec",
   "execution_count": null
  },
  {
   "cell_type": "code",
   "outputs": [],
   "source": [
    "svrCvModel.best_params_"
   ],
   "metadata": {
    "collapsed": false
   },
   "id": "4841502a4978d52f",
   "execution_count": null
  },
  {
   "cell_type": "markdown",
   "source": [
    "2.4-Final Modeli"
   ],
   "metadata": {
    "collapsed": false
   },
   "id": "95710ec9b0897611"
  },
  {
   "cell_type": "code",
   "outputs": [],
   "source": [
    "svrTuned = SVR(kernel=\"linear\",C=0.5).fit(x_train, y_train)"
   ],
   "metadata": {
    "collapsed": false
   },
   "id": "a22c1864b5a1e378",
   "execution_count": null
  },
  {
   "cell_type": "code",
   "outputs": [],
   "source": [
    "yTahmin = svrTuned.predict(x_test)"
   ],
   "metadata": {
    "collapsed": false
   },
   "id": "1888e85f7a3d5dae",
   "execution_count": null
  },
  {
   "cell_type": "code",
   "outputs": [],
   "source": [
    "hataKarelerOrtalaması = np.sqrt(mean_squared_error(y_test,yTahmin))"
   ],
   "metadata": {
    "collapsed": false
   },
   "id": "f27f8977dbb516c0",
   "execution_count": null
  },
  {
   "cell_type": "code",
   "outputs": [],
   "source": [
    "hataKarelerOrtalaması"
   ],
   "metadata": {
    "collapsed": false
   },
   "id": "14a5ecebe739e4c6",
   "execution_count": null
  },
  {
   "cell_type": "markdown",
   "source": [
    "3-Yapay Sinir Ağları"
   ],
   "metadata": {
    "collapsed": false
   },
   "id": "c7d101ad2cfb382"
  },
  {
   "cell_type": "code",
   "outputs": [],
   "source": [
    "# Amaç, en küçük hata ile tahmin yapabilecek katsayılara erişmektir"
   ],
   "metadata": {
    "collapsed": false
   },
   "id": "9e6cbbc7ed27195c",
   "execution_count": null
  },
  {
   "cell_type": "markdown",
   "source": [
    "3.1 Model"
   ],
   "metadata": {
    "collapsed": false
   },
   "id": "d9f53b8221910fb2"
  },
  {
   "cell_type": "code",
   "outputs": [],
   "source": [
    "scaler = StandardScaler()"
   ],
   "metadata": {
    "collapsed": false
   },
   "id": "d1d98b6dfe56c21a",
   "execution_count": null
  },
  {
   "cell_type": "code",
   "outputs": [],
   "source": [
    "scaler"
   ],
   "metadata": {
    "collapsed": false
   },
   "id": "3578b7a69a80e168",
   "execution_count": null
  },
  {
   "cell_type": "code",
   "outputs": [],
   "source": [
    "scaler.fit(x_train)\n",
    "x_trainScaled = scaler.transform(x_train)"
   ],
   "metadata": {
    "collapsed": false
   },
   "id": "3daea729f219c98c",
   "execution_count": null
  },
  {
   "cell_type": "code",
   "outputs": [],
   "source": [
    "x_testScaled = scaler.transform(x_test)"
   ],
   "metadata": {
    "collapsed": false
   },
   "id": "1880a47054aaa1bc",
   "execution_count": null
  },
  {
   "cell_type": "code",
   "outputs": [],
   "source": [
    "mlpModel = MLPRegressor().fit(x_trainScaled,y_train)"
   ],
   "metadata": {
    "collapsed": false
   },
   "id": "4f2568e3323ec434",
   "execution_count": null
  },
  {
   "cell_type": "code",
   "outputs": [],
   "source": [
    "mlpModel"
   ],
   "metadata": {
    "collapsed": false
   },
   "id": "f4d72767646223d0",
   "execution_count": null
  },
  {
   "cell_type": "markdown",
   "source": [
    "3.2-Tahmin"
   ],
   "metadata": {
    "collapsed": false
   },
   "id": "4021f6e187fdca61"
  },
  {
   "cell_type": "code",
   "outputs": [],
   "source": [
    "yTahmin = mlpModel.predict(x_testScaled)"
   ],
   "metadata": {
    "collapsed": false
   },
   "id": "3a4dba9f4bdd072b",
   "execution_count": null
  },
  {
   "cell_type": "code",
   "outputs": [],
   "source": [
    "yTahmin"
   ],
   "metadata": {
    "collapsed": false
   },
   "id": "11052d86f537a4a8",
   "execution_count": null
  },
  {
   "cell_type": "code",
   "outputs": [],
   "source": [
    "hataKarelerOrtalaması = np.sqrt(mean_squared_error(y_test,yTahmin))"
   ],
   "metadata": {
    "collapsed": false
   },
   "id": "fe1b818ed57840af",
   "execution_count": null
  },
  {
   "cell_type": "code",
   "outputs": [],
   "source": [
    "hataKarelerOrtalaması"
   ],
   "metadata": {
    "collapsed": false
   },
   "id": "e20928c554caaa27",
   "execution_count": null
  },
  {
   "cell_type": "markdown",
   "source": [
    "3.3-Model Tuning "
   ],
   "metadata": {
    "collapsed": false
   },
   "id": "540acdb3fe617754"
  },
  {
   "cell_type": "code",
   "outputs": [],
   "source": [
    "mlpParams = {\n",
    "    \"alpha\": [0.1, 0.01,0.02, 0.001, 0.0001],\n",
    "    \"hidden_layer_sizes\": [(10, 10, 10, 10), (20, 20, 20, 20), (100, 100, 100, 100)]}\n"
   ],
   "metadata": {
    "collapsed": false
   },
   "id": "7d3cd9699cb05ccc",
   "execution_count": null
  },
  {
   "cell_type": "code",
   "outputs": [],
   "source": [
    "mlpCvModel = GridSearchCV(mlpModel,mlpParams,cv=10,verbose=2,n_jobs=-1).fit(x_trainScaled,y_train)"
   ],
   "metadata": {
    "collapsed": false
   },
   "id": "f720aaf66d7a1b1c",
   "execution_count": null
  },
  {
   "cell_type": "code",
   "outputs": [],
   "source": [
    "mlpCvModel.best_params_"
   ],
   "metadata": {
    "collapsed": false
   },
   "id": "3ceafa42ecb9953d",
   "execution_count": null
  },
  {
   "cell_type": "markdown",
   "source": [
    "3.4-Final Mdel"
   ],
   "metadata": {
    "collapsed": false
   },
   "id": "49a4f236a58e4687"
  },
  {
   "cell_type": "code",
   "outputs": [],
   "source": [
    "mlpTuned = MLPRegressor(alpha=0.01,hidden_layer_sizes=(100,100,100,100)).fit(x_train,y_train)"
   ],
   "metadata": {
    "collapsed": false
   },
   "id": "76b613bb04744c5a",
   "execution_count": null
  },
  {
   "cell_type": "code",
   "outputs": [],
   "source": [
    "mlpTuned.predict(x_test)"
   ],
   "metadata": {
    "collapsed": false
   },
   "id": "9f8684ae685cba25",
   "execution_count": null
  },
  {
   "cell_type": "code",
   "outputs": [],
   "source": [
    "yTahmin = mlpTuned.predict(x_test)"
   ],
   "metadata": {
    "collapsed": false
   },
   "id": "7c6ee9a110b1afd0",
   "execution_count": null
  },
  {
   "cell_type": "code",
   "outputs": [],
   "source": [
    "hataKarelerOrtalaması = np.sqrt(mean_squared_error(y_test,yTahmin))"
   ],
   "metadata": {
    "collapsed": false
   },
   "id": "a7dd993296ac9500",
   "execution_count": null
  },
  {
   "cell_type": "code",
   "outputs": [],
   "source": [
    "hataKarelerOrtalaması"
   ],
   "metadata": {
    "collapsed": false
   },
   "id": "a4002d26d4a7330d",
   "execution_count": null
  },
  {
   "cell_type": "markdown",
   "source": [
    "4-CART"
   ],
   "metadata": {
    "collapsed": false
   },
   "id": "911e6573cc70dc0e"
  },
  {
   "cell_type": "markdown",
   "source": [
    "4.1-Model"
   ],
   "metadata": {
    "collapsed": false
   },
   "id": "1b695ff146600625"
  },
  {
   "cell_type": "code",
   "outputs": [],
   "source": [
    "x_train = pd.DataFrame(x_train[\"Hits\"])"
   ],
   "metadata": {
    "collapsed": false
   },
   "id": "9c0e6ef5c2df6e71",
   "execution_count": null
  },
  {
   "cell_type": "code",
   "outputs": [],
   "source": [
    "x_test = pd.DataFrame(x_test[\"Hits\"])"
   ],
   "metadata": {
    "collapsed": false
   },
   "id": "f242850119af737a",
   "execution_count": null
  },
  {
   "cell_type": "code",
   "outputs": [],
   "source": [
    "cartModel = DecisionTreeRegressor(max_leaf_nodes=10)"
   ],
   "metadata": {
    "collapsed": false
   },
   "id": "b3cbc7ce2e579cb5",
   "execution_count": null
  },
  {
   "cell_type": "code",
   "outputs": [],
   "source": [
    "cartModel.fit(x_train,y_train)"
   ],
   "metadata": {
    "collapsed": false
   },
   "id": "d66438ef26daf230",
   "execution_count": null
  },
  {
   "cell_type": "code",
   "outputs": [],
   "source": [
    "xGrid = np.arange(min(np.array(x_train)), max(np.array(x_train)), 0.01)\n",
    "xGrid = xGrid.reshape((len(xGrid), 1))  # Reshape to a 2D array with a single column\n",
    "\n",
    "plt.scatter(x_train, y_train, color=\"red\")\n",
    "plt.plot(xGrid, cartModel.predict(xGrid), color=\"blue\")\n",
    "plt.title(\"Cart Regresyon Ağacı\")\n",
    "plt.xlabel(\"Artış Sayısı(Hits)\")\n",
    "plt.ylabel(\"Maaş(Salary)\")"
   ],
   "metadata": {
    "collapsed": false
   },
   "id": "7685d064de2e6d37",
   "execution_count": null
  },
  {
   "cell_type": "markdown",
   "source": [
    "4.2 Tahmin"
   ],
   "metadata": {
    "collapsed": false
   },
   "id": "76afb489a32a6946"
  },
  {
   "cell_type": "code",
   "outputs": [],
   "source": [
    "# Tek değişkenli\n",
    "cartModel.predict(x_test)"
   ],
   "metadata": {
    "collapsed": false
   },
   "id": "b79c9d109d934f29",
   "execution_count": null
  },
  {
   "cell_type": "code",
   "outputs": [],
   "source": [
    "yTahmin = cartModel.predict(x_test) "
   ],
   "metadata": {
    "collapsed": false
   },
   "id": "ac2b43ebc897a9bd",
   "execution_count": null
  },
  {
   "cell_type": "code",
   "outputs": [],
   "source": [
    "np.sqrt(mean_squared_error(y_test,yTahmin))"
   ],
   "metadata": {
    "collapsed": false
   },
   "id": "bf7dc99c256e5589",
   "execution_count": null
  },
  {
   "cell_type": "markdown",
   "source": [
    "4.3 Model Tuning"
   ],
   "metadata": {
    "collapsed": false
   },
   "id": "2ccc7b734fd6d7c7"
  },
  {
   "cell_type": "code",
   "outputs": [],
   "source": [
    "cartModel"
   ],
   "metadata": {
    "collapsed": false
   },
   "id": "8bc01c47b0e8edba",
   "execution_count": null
  },
  {
   "cell_type": "code",
   "outputs": [],
   "source": [
    "cartModel = DecisionTreeRegressor(max_depth=2).fit(x_train,y_train)"
   ],
   "metadata": {
    "collapsed": false
   },
   "id": "f4cc560d5d1bbf7f",
   "execution_count": null
  },
  {
   "cell_type": "code",
   "outputs": [],
   "source": [
    "yTahmin = cartModel.predict(x_test)"
   ],
   "metadata": {
    "collapsed": false
   },
   "id": "1798a73c393db434",
   "execution_count": null
  },
  {
   "cell_type": "code",
   "outputs": [],
   "source": [
    "hataKarelerOrtalaması = np.sqrt(mean_squared_error(y_test,yTahmin))"
   ],
   "metadata": {
    "collapsed": false
   },
   "id": "bd3595996d47b5d6",
   "execution_count": null
  },
  {
   "cell_type": "code",
   "outputs": [],
   "source": [
    "hataKarelerOrtalaması"
   ],
   "metadata": {
    "collapsed": false
   },
   "id": "977062bb0bb91df8",
   "execution_count": null
  },
  {
   "cell_type": "code",
   "outputs": [],
   "source": [
    "cartModel = DecisionTreeRegressor()"
   ],
   "metadata": {
    "collapsed": false
   },
   "id": "d47c91efa06899da",
   "execution_count": null
  },
  {
   "cell_type": "code",
   "outputs": [],
   "source": [
    "cartParams = {\"max_depth\":[2,3,4,5,6,7,8,9,10,11,12,13,14],\"min_samples_leaf\":[2,10,5,30,50,100,200,300,400,500]}"
   ],
   "metadata": {
    "collapsed": false
   },
   "id": "167f12ad7e2c5f88",
   "execution_count": null
  },
  {
   "cell_type": "code",
   "outputs": [],
   "source": [
    "cartCvModel = GridSearchCV(cartModel,cartParams,cv=10,verbose=2,n_jobs=-1).fit(x_train,y_train)"
   ],
   "metadata": {
    "collapsed": false
   },
   "id": "5ae968ed99e0519a",
   "execution_count": null
  },
  {
   "cell_type": "code",
   "outputs": [],
   "source": [
    "cartCvModel"
   ],
   "metadata": {
    "collapsed": false
   },
   "id": "2e07a60bdfe573a5",
   "execution_count": null
  },
  {
   "cell_type": "code",
   "outputs": [],
   "source": [
    "cartCvModel.best_params_"
   ],
   "metadata": {
    "collapsed": false
   },
   "id": "93da533d78994faa",
   "execution_count": null
  },
  {
   "cell_type": "markdown",
   "source": [
    "4.4-Final Modeli"
   ],
   "metadata": {
    "collapsed": false
   },
   "id": "765724934e1f27e1"
  },
  {
   "cell_type": "code",
   "outputs": [],
   "source": [
    "cartTunedModel = DecisionTreeRegressor(max_depth=10,min_samples_split=50).fit(x_train,y_train)"
   ],
   "metadata": {
    "collapsed": false
   },
   "id": "4ff86bf639f5d89b",
   "execution_count": null
  },
  {
   "cell_type": "code",
   "outputs": [],
   "source": [
    "cartTunedModel"
   ],
   "metadata": {
    "collapsed": false
   },
   "id": "3c809a33b653df8",
   "execution_count": null
  },
  {
   "cell_type": "code",
   "outputs": [],
   "source": [
    "yTahmin = cartTunedModel.predict(x_test)"
   ],
   "metadata": {
    "collapsed": false
   },
   "id": "ee4d1768312fa35b",
   "execution_count": null
  },
  {
   "cell_type": "code",
   "outputs": [],
   "source": [
    "hataKarelerOrtalaması = np.sqrt(mean_squared_error(y_test,yTahmin))"
   ],
   "metadata": {
    "collapsed": false
   },
   "id": "289c3f30939c5bcd",
   "execution_count": null
  },
  {
   "cell_type": "code",
   "outputs": [],
   "source": [
    "hataKarelerOrtalaması"
   ],
   "metadata": {
    "collapsed": false
   },
   "id": "ed83d8fa47e7b003",
   "execution_count": null
  },
  {
   "cell_type": "markdown",
   "source": [
    "5-Random Forest"
   ],
   "metadata": {
    "collapsed": false
   },
   "id": "bb03028e48c5553e"
  },
  {
   "cell_type": "code",
   "outputs": [],
   "source": [
    "# Temel bootstrap yöntemi ile oluşturulan birden fazla karar ağacının ürettiği tahminlerin bir araya getirilerek değerlendirimesine dayanır.Birden çok karar ağacının ürettiği tahminlerin bir araya getirilerek değerlendirilmesine dayanır."
   ],
   "metadata": {
    "collapsed": false
   },
   "id": "a992ed3ded490cd0",
   "execution_count": null
  },
  {
   "cell_type": "markdown",
   "source": [
    "5.1 Model"
   ],
   "metadata": {
    "collapsed": false
   },
   "id": "7108be9e89dec197"
  },
  {
   "cell_type": "code",
   "outputs": [],
   "source": [
    "rfModel = RandomForestRegressor(random_state=42).fit(x_train,y_train)"
   ],
   "metadata": {
    "collapsed": false
   },
   "id": "bacf3171914b548a",
   "execution_count": null
  },
  {
   "cell_type": "code",
   "outputs": [],
   "source": [
    "rfModel"
   ],
   "metadata": {
    "collapsed": false
   },
   "id": "d2a61cae0242602e",
   "execution_count": null
  },
  {
   "cell_type": "markdown",
   "source": [
    "5.2-Tahmin"
   ],
   "metadata": {
    "collapsed": false
   },
   "id": "b28774274f062508"
  },
  {
   "cell_type": "code",
   "outputs": [],
   "source": [
    "yTahmin=rfModel.predict(x_test)"
   ],
   "metadata": {
    "collapsed": false
   },
   "id": "ddafdd3e63db1bdb",
   "execution_count": null
  },
  {
   "cell_type": "code",
   "outputs": [],
   "source": [
    "hataKarelerOrtalaması = np.sqrt(mean_squared_error(y_test,yTahmin))"
   ],
   "metadata": {
    "collapsed": false
   },
   "id": "6d1a6159a37d39d",
   "execution_count": null
  },
  {
   "cell_type": "code",
   "outputs": [],
   "source": [
    "hataKarelerOrtalaması"
   ],
   "metadata": {
    "collapsed": false
   },
   "id": "4defca7618ad5751",
   "execution_count": null
  },
  {
   "cell_type": "markdown",
   "source": [
    "5.3-Model"
   ],
   "metadata": {
    "collapsed": false
   },
   "id": "5f34127c836a15f2"
  },
  {
   "cell_type": "code",
   "outputs": [],
   "source": [
    "rfParams = {\"max_depth\": range(1,10), \"min_samples_split\":[1,2,5,10],\"n_estimators\":[200,500,1000,2000],\"min_samples_leaf\":[2,10,80,100]}"
   ],
   "metadata": {
    "collapsed": false
   },
   "id": "31d5198e89800895",
   "execution_count": null
  },
  {
   "cell_type": "code",
   "outputs": [],
   "source": [
    "rfParams"
   ],
   "metadata": {
    "collapsed": false
   },
   "id": "684f7a668c441cb8",
   "execution_count": null
  },
  {
   "cell_type": "code",
   "outputs": [],
   "source": [
    "rfCvModel = GridSearchCV(rfModel,rfParams, cv=10,n_jobs=-1,verbose=2).fit(x_train,y_train)"
   ],
   "metadata": {
    "collapsed": false
   },
   "id": "62697307912731d8",
   "execution_count": null
  },
  {
   "cell_type": "code",
   "outputs": [],
   "source": [
    "rfCvModel.best_params_"
   ],
   "metadata": {
    "collapsed": false
   },
   "id": "a843276ed18f564c",
   "execution_count": null
  },
  {
   "cell_type": "code",
   "outputs": [],
   "source": [
    "rfTuned = RandomForestRegressor(random_state=42,\n",
    "                                max_depth=2,\n",
    "                                max_features=2,\n",
    "                                min_samples_leaf=10,\n",
    "                                n_estimators=1000\n",
    "                                ).fit(x_train,y_train)"
   ],
   "metadata": {
    "collapsed": false
   },
   "id": "22242e09540b02cc",
   "execution_count": null
  },
  {
   "cell_type": "code",
   "outputs": [],
   "source": [
    "rfTuned"
   ],
   "metadata": {
    "collapsed": false
   },
   "id": "af08e18e3dbefb54",
   "execution_count": null
  },
  {
   "cell_type": "code",
   "outputs": [],
   "source": [
    "yTahmin = rfTuned.predict(x_test)"
   ],
   "metadata": {
    "collapsed": false
   },
   "id": "2060b39cd6e0963d",
   "execution_count": null
  },
  {
   "cell_type": "code",
   "outputs": [],
   "source": [
    "hataKarelerOrtalaması = np.sqrt(mean_squared_error(y_test,yTahmin))"
   ],
   "metadata": {
    "collapsed": false
   },
   "id": "5d3182a291963baa",
   "execution_count": null
  },
  {
   "cell_type": "code",
   "outputs": [],
   "source": [
    "hataKarelerOrtalaması"
   ],
   "metadata": {
    "collapsed": false
   },
   "id": "294b3a73c989bb88",
   "execution_count": null
  },
  {
   "cell_type": "markdown",
   "source": [
    "Değişken Önem Düzeyi"
   ],
   "metadata": {
    "collapsed": false
   },
   "id": "e425ae10346df2cc"
  },
  {
   "cell_type": "code",
   "outputs": [],
   "source": [
    "rfTuned.feature_importances_*100"
   ],
   "metadata": {
    "collapsed": false
   },
   "id": "bf64a706a56cde1",
   "execution_count": null
  },
  {
   "cell_type": "code",
   "outputs": [],
   "source": [
    "\n",
    "Importance = pd.DataFrame({\"Importance\": rfTuned.feature_importances_ * 100}, index=x_train.columns)\n",
    "sorted_importance = Importance.sort_values(by=\"Importance\", axis=0, ascending=True)\n",
    "\n",
    "sorted_importance.plot(kind=\"barh\", color=\"r\")\n",
    "plt.xlabel(\"Variable Importance\")\n",
    "plt.legend().set_visible(False)  \n",
    "plt.show()"
   ],
   "metadata": {
    "collapsed": false
   },
   "id": "6adebf83c89d2818",
   "execution_count": null
  },
  {
   "cell_type": "markdown",
   "source": [
    "6-Gradient Boosting Machines (GBM)"
   ],
   "metadata": {
    "collapsed": false
   },
   "id": "4eabc5fa813a7b34"
  },
  {
   "cell_type": "markdown",
   "source": [
    "6.1 Model ve Tahmin"
   ],
   "metadata": {
    "collapsed": false
   },
   "id": "7bd148cac1289acd"
  },
  {
   "cell_type": "code",
   "outputs": [],
   "source": [
    "gbmModel = GradientBoostingRegressor().fit(x_train,y_train)"
   ],
   "metadata": {
    "collapsed": false
   },
   "id": "49449ae1dd5e4158",
   "execution_count": null
  },
  {
   "cell_type": "code",
   "outputs": [],
   "source": [
    "gbmModel"
   ],
   "metadata": {
    "collapsed": false
   },
   "id": "80579a73e867d0c9",
   "execution_count": null
  },
  {
   "cell_type": "code",
   "outputs": [],
   "source": [
    "yTahmin = gbmModel.predict(x_test)"
   ],
   "metadata": {
    "collapsed": false
   },
   "id": "115438cc335575a7",
   "execution_count": null
  },
  {
   "cell_type": "code",
   "outputs": [],
   "source": [
    "hataKarelerOrtalaması = np.sqrt(mean_squared_error(y_test,yTahmin))"
   ],
   "metadata": {
    "collapsed": false
   },
   "id": "a5f1efa508c923ca",
   "execution_count": null
  },
  {
   "cell_type": "code",
   "outputs": [],
   "source": [
    "hataKarelerOrtalaması"
   ],
   "metadata": {
    "collapsed": false
   },
   "id": "de19d3d9b4e70925",
   "execution_count": null
  },
  {
   "cell_type": "code",
   "outputs": [],
   "source": [
    "gbmParams = {\"learning_rate\":[0.001,0.1,0.01],\n",
    "             \"max_depth\":[3,5,8],\n",
    "             \"n_estimators\":[100,200,500],\n",
    "             \"subsample\":[1,0.5,0.8],\n",
    "             \"loss\":['huber', 'quantile', 'absolute_error', 'squared_error']}"
   ],
   "metadata": {
    "collapsed": false
   },
   "id": "40c7ac028804f2d2",
   "execution_count": null
  },
  {
   "cell_type": "code",
   "outputs": [],
   "source": [
    "gbmParams"
   ],
   "metadata": {
    "collapsed": false
   },
   "id": "626f5473cdddecd4",
   "execution_count": null
  },
  {
   "cell_type": "code",
   "outputs": [],
   "source": [
    "gbmModel = GradientBoostingRegressor().fit(x_train,y_train)"
   ],
   "metadata": {
    "collapsed": false
   },
   "id": "fd8da09723033379",
   "execution_count": null
  },
  {
   "cell_type": "code",
   "outputs": [],
   "source": [
    "gbmCvModel = GridSearchCV(gbmModel,gbmParams,\n",
    "                          cv=10,n_jobs=-1,verbose=2).fit(x_train,y_train)"
   ],
   "metadata": {
    "collapsed": false
   },
   "id": "c92f2e88a4bc361b",
   "execution_count": null
  },
  {
   "cell_type": "code",
   "outputs": [],
   "source": [
    "gbmCvModel.best_params_"
   ],
   "metadata": {
    "collapsed": false
   },
   "id": "be27d4c97ffc7b7c",
   "execution_count": null
  },
  {
   "cell_type": "code",
   "outputs": [],
   "source": [
    "gbmTuned = GradientBoostingRegressor(learning_rate = 0.01,\n",
    " loss =  'absolute_error',\n",
    " max_depth = 3,\n",
    " n_estimators = 200,\n",
    " subsample = 0.5).fit(x_train,y_train)"
   ],
   "metadata": {
    "collapsed": false
   },
   "id": "d3a36327eaff7d72",
   "execution_count": null
  },
  {
   "cell_type": "code",
   "outputs": [],
   "source": [
    "yTahmin = gbmTuned.predict(x_test)"
   ],
   "metadata": {
    "collapsed": false
   },
   "id": "edb564a764ed7729",
   "execution_count": null
  },
  {
   "cell_type": "code",
   "outputs": [],
   "source": [
    "hataKarelerOrtalaması = np.sqrt(mean_squared_error(y_test,yTahmin))"
   ],
   "metadata": {
    "collapsed": false
   },
   "id": "cc125c5810f36c83",
   "execution_count": null
  },
  {
   "cell_type": "code",
   "outputs": [],
   "source": [
    "hataKarelerOrtalaması"
   ],
   "metadata": {
    "collapsed": false
   },
   "id": "5fed2af2232eb230",
   "execution_count": null
  },
  {
   "cell_type": "markdown",
   "source": [
    "Değisken Önem Düzeyleri"
   ],
   "metadata": {
    "collapsed": false
   },
   "id": "229c2a82fb1a6801"
  },
  {
   "cell_type": "code",
   "outputs": [],
   "source": [
    "Importance = pd.DataFrame({\"Importance\": gbmTuned.feature_importances_ * 100}, index=x_train.columns)\n",
    "sorted_importance = Importance.sort_values(by=\"Importance\", axis=0, ascending=True)\n",
    "\n",
    "sorted_importance.plot(kind=\"barh\", color=\"r\")\n",
    "plt.xlabel(\"Variable Importance\")\n",
    "plt.gca().legend_ = None"
   ],
   "metadata": {
    "collapsed": false
   },
   "id": "ba2e3919aeb2fa58",
   "execution_count": null
  },
  {
   "cell_type": "markdown",
   "source": [
    "7-XGBoost"
   ],
   "metadata": {
    "collapsed": false
   },
   "id": "d67a17604b9cef88"
  },
  {
   "cell_type": "code",
   "outputs": [],
   "source": [
    "!pip install xgboost"
   ],
   "metadata": {
    "collapsed": false
   },
   "id": "cab5d1b047ffe769",
   "execution_count": null
  },
  {
   "cell_type": "code",
   "outputs": [],
   "source": [
    "from xgboost import XGBRegressor"
   ],
   "metadata": {
    "collapsed": false,
    "ExecuteTime": {
     "end_time": "2024-03-01T15:56:01.700911Z",
     "start_time": "2024-03-01T15:56:01.692824Z"
    }
   },
   "id": "e1c521a98d826294",
   "execution_count": 69
  },
  {
   "cell_type": "markdown",
   "source": [
    "7.1-Model ve Tahmin"
   ],
   "metadata": {
    "collapsed": false
   },
   "id": "f2874bcd52b8b5b"
  },
  {
   "cell_type": "code",
   "outputs": [],
   "source": [
    "xgb = XGBRegressor().fit(x_train,y_train)"
   ],
   "metadata": {
    "collapsed": false,
    "ExecuteTime": {
     "end_time": "2024-03-01T15:56:05.854883Z",
     "start_time": "2024-03-01T15:56:04.525684Z"
    }
   },
   "id": "558e84780fe82f68",
   "execution_count": 70
  },
  {
   "cell_type": "code",
   "outputs": [
    {
     "data": {
      "text/plain": "XGBRegressor(base_score=None, booster=None, callbacks=None,\n             colsample_bylevel=None, colsample_bynode=None,\n             colsample_bytree=None, device=None, early_stopping_rounds=None,\n             enable_categorical=False, eval_metric=None, feature_types=None,\n             gamma=None, grow_policy=None, importance_type=None,\n             interaction_constraints=None, learning_rate=None, max_bin=None,\n             max_cat_threshold=None, max_cat_to_onehot=None,\n             max_delta_step=None, max_depth=None, max_leaves=None,\n             min_child_weight=None, missing=nan, monotone_constraints=None,\n             multi_strategy=None, n_estimators=None, n_jobs=None,\n             num_parallel_tree=None, random_state=None, ...)",
      "text/html": "<style>#sk-container-id-1 {color: black;}#sk-container-id-1 pre{padding: 0;}#sk-container-id-1 div.sk-toggleable {background-color: white;}#sk-container-id-1 label.sk-toggleable__label {cursor: pointer;display: block;width: 100%;margin-bottom: 0;padding: 0.3em;box-sizing: border-box;text-align: center;}#sk-container-id-1 label.sk-toggleable__label-arrow:before {content: \"▸\";float: left;margin-right: 0.25em;color: #696969;}#sk-container-id-1 label.sk-toggleable__label-arrow:hover:before {color: black;}#sk-container-id-1 div.sk-estimator:hover label.sk-toggleable__label-arrow:before {color: black;}#sk-container-id-1 div.sk-toggleable__content {max-height: 0;max-width: 0;overflow: hidden;text-align: left;background-color: #f0f8ff;}#sk-container-id-1 div.sk-toggleable__content pre {margin: 0.2em;color: black;border-radius: 0.25em;background-color: #f0f8ff;}#sk-container-id-1 input.sk-toggleable__control:checked~div.sk-toggleable__content {max-height: 200px;max-width: 100%;overflow: auto;}#sk-container-id-1 input.sk-toggleable__control:checked~label.sk-toggleable__label-arrow:before {content: \"▾\";}#sk-container-id-1 div.sk-estimator input.sk-toggleable__control:checked~label.sk-toggleable__label {background-color: #d4ebff;}#sk-container-id-1 div.sk-label input.sk-toggleable__control:checked~label.sk-toggleable__label {background-color: #d4ebff;}#sk-container-id-1 input.sk-hidden--visually {border: 0;clip: rect(1px 1px 1px 1px);clip: rect(1px, 1px, 1px, 1px);height: 1px;margin: -1px;overflow: hidden;padding: 0;position: absolute;width: 1px;}#sk-container-id-1 div.sk-estimator {font-family: monospace;background-color: #f0f8ff;border: 1px dotted black;border-radius: 0.25em;box-sizing: border-box;margin-bottom: 0.5em;}#sk-container-id-1 div.sk-estimator:hover {background-color: #d4ebff;}#sk-container-id-1 div.sk-parallel-item::after {content: \"\";width: 100%;border-bottom: 1px solid gray;flex-grow: 1;}#sk-container-id-1 div.sk-label:hover label.sk-toggleable__label {background-color: #d4ebff;}#sk-container-id-1 div.sk-serial::before {content: \"\";position: absolute;border-left: 1px solid gray;box-sizing: border-box;top: 0;bottom: 0;left: 50%;z-index: 0;}#sk-container-id-1 div.sk-serial {display: flex;flex-direction: column;align-items: center;background-color: white;padding-right: 0.2em;padding-left: 0.2em;position: relative;}#sk-container-id-1 div.sk-item {position: relative;z-index: 1;}#sk-container-id-1 div.sk-parallel {display: flex;align-items: stretch;justify-content: center;background-color: white;position: relative;}#sk-container-id-1 div.sk-item::before, #sk-container-id-1 div.sk-parallel-item::before {content: \"\";position: absolute;border-left: 1px solid gray;box-sizing: border-box;top: 0;bottom: 0;left: 50%;z-index: -1;}#sk-container-id-1 div.sk-parallel-item {display: flex;flex-direction: column;z-index: 1;position: relative;background-color: white;}#sk-container-id-1 div.sk-parallel-item:first-child::after {align-self: flex-end;width: 50%;}#sk-container-id-1 div.sk-parallel-item:last-child::after {align-self: flex-start;width: 50%;}#sk-container-id-1 div.sk-parallel-item:only-child::after {width: 0;}#sk-container-id-1 div.sk-dashed-wrapped {border: 1px dashed gray;margin: 0 0.4em 0.5em 0.4em;box-sizing: border-box;padding-bottom: 0.4em;background-color: white;}#sk-container-id-1 div.sk-label label {font-family: monospace;font-weight: bold;display: inline-block;line-height: 1.2em;}#sk-container-id-1 div.sk-label-container {text-align: center;}#sk-container-id-1 div.sk-container {/* jupyter's `normalize.less` sets `[hidden] { display: none; }` but bootstrap.min.css set `[hidden] { display: none !important; }` so we also need the `!important` here to be able to override the default hidden behavior on the sphinx rendered scikit-learn.org. See: https://github.com/scikit-learn/scikit-learn/issues/21755 */display: inline-block !important;position: relative;}#sk-container-id-1 div.sk-text-repr-fallback {display: none;}</style><div id=\"sk-container-id-1\" class=\"sk-top-container\"><div class=\"sk-text-repr-fallback\"><pre>XGBRegressor(base_score=None, booster=None, callbacks=None,\n             colsample_bylevel=None, colsample_bynode=None,\n             colsample_bytree=None, device=None, early_stopping_rounds=None,\n             enable_categorical=False, eval_metric=None, feature_types=None,\n             gamma=None, grow_policy=None, importance_type=None,\n             interaction_constraints=None, learning_rate=None, max_bin=None,\n             max_cat_threshold=None, max_cat_to_onehot=None,\n             max_delta_step=None, max_depth=None, max_leaves=None,\n             min_child_weight=None, missing=nan, monotone_constraints=None,\n             multi_strategy=None, n_estimators=None, n_jobs=None,\n             num_parallel_tree=None, random_state=None, ...)</pre><b>In a Jupyter environment, please rerun this cell to show the HTML representation or trust the notebook. <br />On GitHub, the HTML representation is unable to render, please try loading this page with nbviewer.org.</b></div><div class=\"sk-container\" hidden><div class=\"sk-item\"><div class=\"sk-estimator sk-toggleable\"><input class=\"sk-toggleable__control sk-hidden--visually\" id=\"sk-estimator-id-1\" type=\"checkbox\" checked><label for=\"sk-estimator-id-1\" class=\"sk-toggleable__label sk-toggleable__label-arrow\">XGBRegressor</label><div class=\"sk-toggleable__content\"><pre>XGBRegressor(base_score=None, booster=None, callbacks=None,\n             colsample_bylevel=None, colsample_bynode=None,\n             colsample_bytree=None, device=None, early_stopping_rounds=None,\n             enable_categorical=False, eval_metric=None, feature_types=None,\n             gamma=None, grow_policy=None, importance_type=None,\n             interaction_constraints=None, learning_rate=None, max_bin=None,\n             max_cat_threshold=None, max_cat_to_onehot=None,\n             max_delta_step=None, max_depth=None, max_leaves=None,\n             min_child_weight=None, missing=nan, monotone_constraints=None,\n             multi_strategy=None, n_estimators=None, n_jobs=None,\n             num_parallel_tree=None, random_state=None, ...)</pre></div></div></div></div></div>"
     },
     "execution_count": 71,
     "metadata": {},
     "output_type": "execute_result"
    }
   ],
   "source": [
    "xgb"
   ],
   "metadata": {
    "collapsed": false,
    "ExecuteTime": {
     "end_time": "2024-03-01T15:56:05.870219Z",
     "start_time": "2024-03-01T15:56:05.856876Z"
    }
   },
   "id": "532ef3535195c221",
   "execution_count": 71
  },
  {
   "cell_type": "code",
   "outputs": [],
   "source": [
    "yTahmin = xgb.predict(x_test)"
   ],
   "metadata": {
    "collapsed": false,
    "ExecuteTime": {
     "end_time": "2024-03-01T15:56:05.885677Z",
     "start_time": "2024-03-01T15:56:05.871218Z"
    }
   },
   "id": "a04c9d1732a6edf1",
   "execution_count": 72
  },
  {
   "cell_type": "code",
   "outputs": [],
   "source": [
    "hataKarelerOrtalaması = np.sqrt(mean_squared_error(y_test,yTahmin))"
   ],
   "metadata": {
    "collapsed": false,
    "ExecuteTime": {
     "end_time": "2024-03-01T15:56:05.901624Z",
     "start_time": "2024-03-01T15:56:05.887671Z"
    }
   },
   "id": "eeed26992de15a4d",
   "execution_count": 73
  },
  {
   "cell_type": "code",
   "outputs": [
    {
     "data": {
      "text/plain": "366.3863437634965"
     },
     "execution_count": 74,
     "metadata": {},
     "output_type": "execute_result"
    }
   ],
   "source": [
    "hataKarelerOrtalaması"
   ],
   "metadata": {
    "collapsed": false,
    "ExecuteTime": {
     "end_time": "2024-03-01T15:56:05.917098Z",
     "start_time": "2024-03-01T15:56:05.902639Z"
    }
   },
   "id": "fae478e05e042d03",
   "execution_count": 74
  },
  {
   "cell_type": "markdown",
   "source": [
    "7.2-Model Tuning"
   ],
   "metadata": {
    "collapsed": false
   },
   "id": "7367c9e200ab6620"
  },
  {
   "cell_type": "code",
   "outputs": [
    {
     "name": "stdout",
     "output_type": "stream",
     "text": [
      "Requirement already satisfied: joblib in c:\\users\\arda_\\anaconda3\\lib\\site-packages (1.3.2)\n",
      "Requirement already satisfied: xgboost in c:\\users\\arda_\\anaconda3\\lib\\site-packages (2.0.3)\n",
      "Requirement already satisfied: numpy in c:\\users\\arda_\\anaconda3\\lib\\site-packages (from xgboost) (1.24.3)\n",
      "Requirement already satisfied: scipy in c:\\users\\arda_\\anaconda3\\lib\\site-packages (from xgboost) (1.10.1)\n",
      "Note: you may need to restart the kernel to use updated packages.\n"
     ]
    }
   ],
   "source": [
    "pip install --upgrade joblib xgboost"
   ],
   "metadata": {
    "collapsed": false,
    "ExecuteTime": {
     "end_time": "2024-03-01T15:56:11.213688Z",
     "start_time": "2024-03-01T15:56:06.346237Z"
    }
   },
   "id": "e9a5bfe36c5f488f",
   "execution_count": 75
  },
  {
   "cell_type": "code",
   "outputs": [],
   "source": [
    "xgb = XGBRegressor"
   ],
   "metadata": {
    "collapsed": false,
    "ExecuteTime": {
     "end_time": "2024-03-01T15:56:11.229635Z",
     "start_time": "2024-03-01T15:56:11.214686Z"
    }
   },
   "id": "6811b6056ad2a2c5",
   "execution_count": 76
  },
  {
   "cell_type": "code",
   "outputs": [
    {
     "data": {
      "text/plain": "xgboost.sklearn.XGBRegressor"
     },
     "execution_count": 77,
     "metadata": {},
     "output_type": "execute_result"
    }
   ],
   "source": [
    "xgb"
   ],
   "metadata": {
    "collapsed": false,
    "ExecuteTime": {
     "end_time": "2024-03-01T15:56:11.244816Z",
     "start_time": "2024-03-01T15:56:11.230327Z"
    }
   },
   "id": "83228f06e451396f",
   "execution_count": 77
  },
  {
   "cell_type": "code",
   "outputs": [],
   "source": [
    "xgbParams = {\"learing_rate\": [0.1,0.01,0.5],\n",
    "              \"max_depth\":[2,3,4,5,8],\n",
    "              \"n_estimators\":[100,200,500,1000],\n",
    "              \"colsample_bytree\": [0.4,0.7,1]}"
   ],
   "metadata": {
    "collapsed": false,
    "ExecuteTime": {
     "end_time": "2024-03-01T15:56:11.260513Z",
     "start_time": "2024-03-01T15:56:11.246810Z"
    }
   },
   "id": "ee0d4d07b070f313",
   "execution_count": 78
  },
  {
   "cell_type": "code",
   "outputs": [
    {
     "ename": "TypeError",
     "evalue": "Cannot clone object. You should provide an instance of scikit-learn estimator instead of a class.",
     "output_type": "error",
     "traceback": [
      "\u001B[1;31m---------------------------------------------------------------------------\u001B[0m",
      "\u001B[1;31mTypeError\u001B[0m                                 Traceback (most recent call last)",
      "Cell \u001B[1;32mIn[79], line 1\u001B[0m\n\u001B[1;32m----> 1\u001B[0m xgbCvParams \u001B[38;5;241m=\u001B[39m \u001B[43mGridSearchCV\u001B[49m\u001B[43m(\u001B[49m\u001B[43mxgb\u001B[49m\u001B[43m,\u001B[49m\u001B[43m \u001B[49m\u001B[43mxgbParams\u001B[49m\u001B[43m,\u001B[49m\u001B[43m \u001B[49m\u001B[43mcv\u001B[49m\u001B[38;5;241;43m=\u001B[39;49m\u001B[38;5;241;43m10\u001B[39;49m\u001B[43m,\u001B[49m\u001B[43m \u001B[49m\u001B[43mn_jobs\u001B[49m\u001B[38;5;241;43m=\u001B[39;49m\u001B[38;5;241;43m1\u001B[39;49m\u001B[43m,\u001B[49m\u001B[43m \u001B[49m\u001B[43mverbose\u001B[49m\u001B[38;5;241;43m=\u001B[39;49m\u001B[38;5;241;43m2\u001B[39;49m\u001B[43m)\u001B[49m\u001B[38;5;241;43m.\u001B[39;49m\u001B[43mfit\u001B[49m\u001B[43m(\u001B[49m\u001B[43mx_train\u001B[49m\u001B[43m,\u001B[49m\u001B[43m \u001B[49m\u001B[43my_train\u001B[49m\u001B[43m)\u001B[49m\n",
      "File \u001B[1;32m~\\anaconda3\\lib\\site-packages\\sklearn\\base.py:1151\u001B[0m, in \u001B[0;36m_fit_context.<locals>.decorator.<locals>.wrapper\u001B[1;34m(estimator, *args, **kwargs)\u001B[0m\n\u001B[0;32m   1144\u001B[0m     estimator\u001B[38;5;241m.\u001B[39m_validate_params()\n\u001B[0;32m   1146\u001B[0m \u001B[38;5;28;01mwith\u001B[39;00m config_context(\n\u001B[0;32m   1147\u001B[0m     skip_parameter_validation\u001B[38;5;241m=\u001B[39m(\n\u001B[0;32m   1148\u001B[0m         prefer_skip_nested_validation \u001B[38;5;129;01mor\u001B[39;00m global_skip_validation\n\u001B[0;32m   1149\u001B[0m     )\n\u001B[0;32m   1150\u001B[0m ):\n\u001B[1;32m-> 1151\u001B[0m     \u001B[38;5;28;01mreturn\u001B[39;00m \u001B[43mfit_method\u001B[49m\u001B[43m(\u001B[49m\u001B[43mestimator\u001B[49m\u001B[43m,\u001B[49m\u001B[43m \u001B[49m\u001B[38;5;241;43m*\u001B[39;49m\u001B[43margs\u001B[49m\u001B[43m,\u001B[49m\u001B[43m \u001B[49m\u001B[38;5;241;43m*\u001B[39;49m\u001B[38;5;241;43m*\u001B[39;49m\u001B[43mkwargs\u001B[49m\u001B[43m)\u001B[49m\n",
      "File \u001B[1;32m~\\anaconda3\\lib\\site-packages\\sklearn\\model_selection\\_search.py:812\u001B[0m, in \u001B[0;36mBaseSearchCV.fit\u001B[1;34m(self, X, y, groups, **fit_params)\u001B[0m\n\u001B[0;32m    809\u001B[0m cv_orig \u001B[38;5;241m=\u001B[39m check_cv(\u001B[38;5;28mself\u001B[39m\u001B[38;5;241m.\u001B[39mcv, y, classifier\u001B[38;5;241m=\u001B[39mis_classifier(estimator))\n\u001B[0;32m    810\u001B[0m n_splits \u001B[38;5;241m=\u001B[39m cv_orig\u001B[38;5;241m.\u001B[39mget_n_splits(X, y, groups)\n\u001B[1;32m--> 812\u001B[0m base_estimator \u001B[38;5;241m=\u001B[39m \u001B[43mclone\u001B[49m\u001B[43m(\u001B[49m\u001B[38;5;28;43mself\u001B[39;49m\u001B[38;5;241;43m.\u001B[39;49m\u001B[43mestimator\u001B[49m\u001B[43m)\u001B[49m\n\u001B[0;32m    814\u001B[0m parallel \u001B[38;5;241m=\u001B[39m Parallel(n_jobs\u001B[38;5;241m=\u001B[39m\u001B[38;5;28mself\u001B[39m\u001B[38;5;241m.\u001B[39mn_jobs, pre_dispatch\u001B[38;5;241m=\u001B[39m\u001B[38;5;28mself\u001B[39m\u001B[38;5;241m.\u001B[39mpre_dispatch)\n\u001B[0;32m    816\u001B[0m fit_and_score_kwargs \u001B[38;5;241m=\u001B[39m \u001B[38;5;28mdict\u001B[39m(\n\u001B[0;32m    817\u001B[0m     scorer\u001B[38;5;241m=\u001B[39mscorers,\n\u001B[0;32m    818\u001B[0m     fit_params\u001B[38;5;241m=\u001B[39mfit_params,\n\u001B[1;32m   (...)\u001B[0m\n\u001B[0;32m    824\u001B[0m     verbose\u001B[38;5;241m=\u001B[39m\u001B[38;5;28mself\u001B[39m\u001B[38;5;241m.\u001B[39mverbose,\n\u001B[0;32m    825\u001B[0m )\n",
      "File \u001B[1;32m~\\anaconda3\\lib\\site-packages\\sklearn\\base.py:76\u001B[0m, in \u001B[0;36mclone\u001B[1;34m(estimator, safe)\u001B[0m\n\u001B[0;32m     74\u001B[0m \u001B[38;5;28;01mif\u001B[39;00m \u001B[38;5;28mhasattr\u001B[39m(estimator, \u001B[38;5;124m\"\u001B[39m\u001B[38;5;124m__sklearn_clone__\u001B[39m\u001B[38;5;124m\"\u001B[39m) \u001B[38;5;129;01mand\u001B[39;00m \u001B[38;5;129;01mnot\u001B[39;00m inspect\u001B[38;5;241m.\u001B[39misclass(estimator):\n\u001B[0;32m     75\u001B[0m     \u001B[38;5;28;01mreturn\u001B[39;00m estimator\u001B[38;5;241m.\u001B[39m__sklearn_clone__()\n\u001B[1;32m---> 76\u001B[0m \u001B[38;5;28;01mreturn\u001B[39;00m \u001B[43m_clone_parametrized\u001B[49m\u001B[43m(\u001B[49m\u001B[43mestimator\u001B[49m\u001B[43m,\u001B[49m\u001B[43m \u001B[49m\u001B[43msafe\u001B[49m\u001B[38;5;241;43m=\u001B[39;49m\u001B[43msafe\u001B[49m\u001B[43m)\u001B[49m\n",
      "File \u001B[1;32m~\\anaconda3\\lib\\site-packages\\sklearn\\base.py:91\u001B[0m, in \u001B[0;36m_clone_parametrized\u001B[1;34m(estimator, safe)\u001B[0m\n\u001B[0;32m     89\u001B[0m \u001B[38;5;28;01melse\u001B[39;00m:\n\u001B[0;32m     90\u001B[0m     \u001B[38;5;28;01mif\u001B[39;00m \u001B[38;5;28misinstance\u001B[39m(estimator, \u001B[38;5;28mtype\u001B[39m):\n\u001B[1;32m---> 91\u001B[0m         \u001B[38;5;28;01mraise\u001B[39;00m \u001B[38;5;167;01mTypeError\u001B[39;00m(\n\u001B[0;32m     92\u001B[0m             \u001B[38;5;124m\"\u001B[39m\u001B[38;5;124mCannot clone object. \u001B[39m\u001B[38;5;124m\"\u001B[39m\n\u001B[0;32m     93\u001B[0m             \u001B[38;5;241m+\u001B[39m \u001B[38;5;124m\"\u001B[39m\u001B[38;5;124mYou should provide an instance of \u001B[39m\u001B[38;5;124m\"\u001B[39m\n\u001B[0;32m     94\u001B[0m             \u001B[38;5;241m+\u001B[39m \u001B[38;5;124m\"\u001B[39m\u001B[38;5;124mscikit-learn estimator instead of a class.\u001B[39m\u001B[38;5;124m\"\u001B[39m\n\u001B[0;32m     95\u001B[0m         )\n\u001B[0;32m     96\u001B[0m     \u001B[38;5;28;01melse\u001B[39;00m:\n\u001B[0;32m     97\u001B[0m         \u001B[38;5;28;01mraise\u001B[39;00m \u001B[38;5;167;01mTypeError\u001B[39;00m(\n\u001B[0;32m     98\u001B[0m             \u001B[38;5;124m\"\u001B[39m\u001B[38;5;124mCannot clone object \u001B[39m\u001B[38;5;124m'\u001B[39m\u001B[38;5;132;01m%s\u001B[39;00m\u001B[38;5;124m'\u001B[39m\u001B[38;5;124m (type \u001B[39m\u001B[38;5;132;01m%s\u001B[39;00m\u001B[38;5;124m): \u001B[39m\u001B[38;5;124m\"\u001B[39m\n\u001B[0;32m     99\u001B[0m             \u001B[38;5;124m\"\u001B[39m\u001B[38;5;124mit does not seem to be a scikit-learn \u001B[39m\u001B[38;5;124m\"\u001B[39m\n\u001B[0;32m    100\u001B[0m             \u001B[38;5;124m\"\u001B[39m\u001B[38;5;124mestimator as it does not implement a \u001B[39m\u001B[38;5;124m\"\u001B[39m\n\u001B[0;32m    101\u001B[0m             \u001B[38;5;124m\"\u001B[39m\u001B[38;5;124m'\u001B[39m\u001B[38;5;124mget_params\u001B[39m\u001B[38;5;124m'\u001B[39m\u001B[38;5;124m method.\u001B[39m\u001B[38;5;124m\"\u001B[39m \u001B[38;5;241m%\u001B[39m (\u001B[38;5;28mrepr\u001B[39m(estimator), \u001B[38;5;28mtype\u001B[39m(estimator))\n\u001B[0;32m    102\u001B[0m         )\n",
      "\u001B[1;31mTypeError\u001B[0m: Cannot clone object. You should provide an instance of scikit-learn estimator instead of a class."
     ]
    }
   ],
   "source": [
    "xgbCvParams = GridSearchCV(xgb, xgbParams, cv=10, n_jobs=1, verbose=2).fit(x_train, y_train)"
   ],
   "metadata": {
    "collapsed": false,
    "ExecuteTime": {
     "end_time": "2024-03-01T15:56:11.339045Z",
     "start_time": "2024-03-01T15:56:11.262509Z"
    }
   },
   "id": "3ee585140f2061cd",
   "execution_count": 79
  },
  {
   "cell_type": "code",
   "outputs": [],
   "source": [
    "xgbCvParams.best_params_"
   ],
   "metadata": {
    "collapsed": false,
    "ExecuteTime": {
     "end_time": "2024-03-01T15:56:11.340048Z",
     "start_time": "2024-03-01T15:56:11.340048Z"
    }
   },
   "id": "5091ec0c69f9bdad",
   "execution_count": null
  },
  {
   "cell_type": "code",
   "outputs": [],
   "source": [
    "xgbTuned = XGBRegressor(colsample_bytree=0.4, \n",
    "                        learning_rate=0.1, \n",
    "                        max_depth=2, \n",
    "                        n_estimators=100).fit(x_train, y_train)"
   ],
   "metadata": {
    "collapsed": false
   },
   "id": "f5627d4b970e3ba3",
   "execution_count": null
  },
  {
   "cell_type": "code",
   "outputs": [],
   "source": [
    "xgbTuned"
   ],
   "metadata": {
    "collapsed": false,
    "ExecuteTime": {
     "start_time": "2024-03-01T15:56:11.342036Z"
    }
   },
   "id": "8097144fb8e710ba",
   "execution_count": null
  },
  {
   "cell_type": "code",
   "outputs": [],
   "source": [
    "yTahmin = xgbTuned.predict(x_test)"
   ],
   "metadata": {
    "collapsed": false,
    "ExecuteTime": {
     "start_time": "2024-03-01T15:56:11.343033Z"
    }
   },
   "id": "e735397779e348dd",
   "execution_count": null
  },
  {
   "cell_type": "code",
   "outputs": [],
   "source": [
    "hataKarelerOrtalaması = np.sqrt(mean_squared_error(x_test,yTahmin))"
   ],
   "metadata": {
    "collapsed": false,
    "ExecuteTime": {
     "start_time": "2024-03-01T15:56:11.344030Z"
    }
   },
   "id": "60b6c5aeacfdb931",
   "execution_count": null
  },
  {
   "cell_type": "code",
   "outputs": [],
   "source": [
    "hataKarelerOrtalaması"
   ],
   "metadata": {
    "collapsed": false,
    "ExecuteTime": {
     "start_time": "2024-03-01T15:56:11.345026Z"
    }
   },
   "id": "1c58d85ab79746b5",
   "execution_count": null
  },
  {
   "cell_type": "markdown",
   "source": [
    "8-LIGHT GBM"
   ],
   "metadata": {
    "collapsed": false
   },
   "id": "1a1a2810a1d1d995"
  },
  {
   "cell_type": "code",
   "outputs": [],
   "source": [
    "!pip install lightgbm"
   ],
   "metadata": {
    "collapsed": false,
    "ExecuteTime": {
     "start_time": "2024-03-01T15:56:11.346023Z"
    }
   },
   "id": "92c088fc1698732e",
   "execution_count": null
  },
  {
   "cell_type": "code",
   "outputs": [],
   "source": [
    "# conda install -c conda-forge lightgbm"
   ],
   "metadata": {
    "collapsed": false
   },
   "id": "e831d4c1326b272b",
   "execution_count": null
  },
  {
   "cell_type": "markdown",
   "source": [
    "8.1-Model ve Tahmin"
   ],
   "metadata": {
    "collapsed": false
   },
   "id": "af499cd488f559c5"
  },
  {
   "cell_type": "code",
   "outputs": [],
   "source": [
    "from lightgbm import LGBMRegressor"
   ],
   "metadata": {
    "collapsed": false,
    "ExecuteTime": {
     "start_time": "2024-03-01T15:56:11.347020Z"
    }
   },
   "id": "e5ac4f859f4b14f9",
   "execution_count": null
  },
  {
   "cell_type": "code",
   "outputs": [],
   "source": [
    "lgmModel = LGBMRegressor().fit(x_train,y_train)"
   ],
   "metadata": {
    "collapsed": false,
    "ExecuteTime": {
     "start_time": "2024-03-01T15:56:11.348016Z"
    }
   },
   "id": "e0548dab1dbda62d",
   "execution_count": null
  },
  {
   "cell_type": "code",
   "outputs": [],
   "source": [
    "yTahmin = lgmModel.predict(x_test)"
   ],
   "metadata": {
    "collapsed": false,
    "ExecuteTime": {
     "start_time": "2024-03-01T15:56:11.348016Z"
    }
   },
   "id": "c216bf99f8a518cb",
   "execution_count": null
  },
  {
   "cell_type": "code",
   "outputs": [],
   "source": [
    "hataKarelerOrtalaması = np.sqrt(mean_squared_error(y_test,yTahmin))"
   ],
   "metadata": {
    "collapsed": false,
    "ExecuteTime": {
     "start_time": "2024-03-01T15:56:11.349518Z"
    }
   },
   "id": "334c182e4be6eb64",
   "execution_count": null
  },
  {
   "cell_type": "code",
   "outputs": [],
   "source": [
    "hataKarelerOrtalaması"
   ],
   "metadata": {
    "collapsed": false,
    "ExecuteTime": {
     "start_time": "2024-03-01T15:56:11.350532Z"
    }
   },
   "id": "aed26150ffa26e1",
   "execution_count": null
  },
  {
   "cell_type": "markdown",
   "source": [
    "8.2-Model Tuning"
   ],
   "metadata": {
    "collapsed": false
   },
   "id": "a98c990dc479a9f6"
  },
  {
   "cell_type": "code",
   "outputs": [],
   "source": [
    "lgbmParams = {\"learning_rate\":[0.01,0.1,0.5,1],\n",
    "             \"max_depth\":[1,2,3,4,5,6,7,8,9,10],\n",
    "             \"n_estimators\":[20,40,100,200,500,1000]}"
   ],
   "metadata": {
    "collapsed": false,
    "ExecuteTime": {
     "start_time": "2024-03-01T15:56:11.351529Z"
    }
   },
   "id": "b14a6ef736e86b53",
   "execution_count": null
  },
  {
   "cell_type": "code",
   "outputs": [],
   "source": [
    "lgbmCvModel = GridSearchCV(lgmModel,lgbmParams,cv=10,n_jobs=-1,verbose=2).fit(x_train,y_train)"
   ],
   "metadata": {
    "collapsed": false,
    "ExecuteTime": {
     "start_time": "2024-03-01T15:56:11.352526Z"
    }
   },
   "id": "4d6bc8f327e5da93",
   "execution_count": null
  },
  {
   "cell_type": "code",
   "outputs": [],
   "source": [
    "lgbmCvModel.best_params_"
   ],
   "metadata": {
    "collapsed": false,
    "ExecuteTime": {
     "start_time": "2024-03-01T15:56:11.353522Z"
    }
   },
   "id": "db4308c079a33ab2",
   "execution_count": null
  },
  {
   "cell_type": "code",
   "outputs": [],
   "source": [
    "lgmTuned = LGBMRegressor(learning_rate=0.1,\n",
    "                         max_depth=1,\n",
    "                         n_estimators=40).fit(x_train,y_train)"
   ],
   "metadata": {
    "collapsed": false,
    "ExecuteTime": {
     "start_time": "2024-03-01T15:56:11.354519Z"
    }
   },
   "id": "9606719871887f7d",
   "execution_count": null
  },
  {
   "cell_type": "code",
   "outputs": [
    {
     "ename": "NameError",
     "evalue": "name 'lgmTuned' is not defined",
     "output_type": "error",
     "traceback": [
      "\u001B[1;31m---------------------------------------------------------------------------\u001B[0m",
      "\u001B[1;31mNameError\u001B[0m                                 Traceback (most recent call last)",
      "Cell \u001B[1;32mIn[80], line 1\u001B[0m\n\u001B[1;32m----> 1\u001B[0m yTahmin \u001B[38;5;241m=\u001B[39m \u001B[43mlgmTuned\u001B[49m\u001B[38;5;241m.\u001B[39mpredict(x_test)\n",
      "\u001B[1;31mNameError\u001B[0m: name 'lgmTuned' is not defined"
     ]
    }
   ],
   "source": [
    "yTahmin = lgmTuned.predict(x_test)"
   ],
   "metadata": {
    "collapsed": false,
    "ExecuteTime": {
     "end_time": "2024-03-01T15:56:11.587030Z",
     "start_time": "2024-03-01T15:56:11.558422Z"
    }
   },
   "id": "a8565c5e15d1aae9",
   "execution_count": 80
  },
  {
   "cell_type": "code",
   "outputs": [],
   "source": [
    "hataKarelerOrtalaması = np.sqrt(mean_squared_error(y_test,yTahmin))"
   ],
   "metadata": {
    "collapsed": false
   },
   "id": "b1aa24fd44a298be",
   "execution_count": null
  },
  {
   "cell_type": "code",
   "outputs": [],
   "source": [
    "hataKarelerOrtalaması"
   ],
   "metadata": {
    "collapsed": false
   },
   "id": "761210f54d63d4a6",
   "execution_count": null
  },
  {
   "cell_type": "markdown",
   "source": [
    " 8-CatBoost "
   ],
   "metadata": {
    "collapsed": false
   },
   "id": "b46ba1a7939464cd"
  },
  {
   "cell_type": "code",
   "outputs": [
    {
     "name": "stdout",
     "output_type": "stream",
     "text": [
      "Requirement already satisfied: catboost in c:\\users\\arda_\\anaconda3\\lib\\site-packages (1.2.3)\n",
      "Requirement already satisfied: graphviz in c:\\users\\arda_\\anaconda3\\lib\\site-packages (from catboost) (0.20.1)\n",
      "Requirement already satisfied: matplotlib in c:\\users\\arda_\\anaconda3\\lib\\site-packages (from catboost) (3.7.2)\n",
      "Requirement already satisfied: numpy>=1.16.0 in c:\\users\\arda_\\anaconda3\\lib\\site-packages (from catboost) (1.24.3)\n",
      "Requirement already satisfied: pandas>=0.24 in c:\\users\\arda_\\anaconda3\\lib\\site-packages (from catboost) (2.0.3)\n",
      "Requirement already satisfied: scipy in c:\\users\\arda_\\anaconda3\\lib\\site-packages (from catboost) (1.10.1)\n",
      "Requirement already satisfied: plotly in c:\\users\\arda_\\anaconda3\\lib\\site-packages (from catboost) (5.19.0)\n",
      "Requirement already satisfied: six in c:\\users\\arda_\\anaconda3\\lib\\site-packages (from catboost) (1.16.0)\n",
      "Requirement already satisfied: python-dateutil>=2.8.2 in c:\\users\\arda_\\anaconda3\\lib\\site-packages (from pandas>=0.24->catboost) (2.8.2)\n",
      "Requirement already satisfied: pytz>=2020.1 in c:\\users\\arda_\\anaconda3\\lib\\site-packages (from pandas>=0.24->catboost) (2023.3.post1)\n",
      "Requirement already satisfied: tzdata>=2022.1 in c:\\users\\arda_\\anaconda3\\lib\\site-packages (from pandas>=0.24->catboost) (2023.3)\n",
      "Requirement already satisfied: contourpy>=1.0.1 in c:\\users\\arda_\\anaconda3\\lib\\site-packages (from matplotlib->catboost) (1.0.5)\n",
      "Requirement already satisfied: cycler>=0.10 in c:\\users\\arda_\\anaconda3\\lib\\site-packages (from matplotlib->catboost) (0.11.0)\n",
      "Requirement already satisfied: fonttools>=4.22.0 in c:\\users\\arda_\\anaconda3\\lib\\site-packages (from matplotlib->catboost) (4.25.0)\n",
      "Requirement already satisfied: kiwisolver>=1.0.1 in c:\\users\\arda_\\anaconda3\\lib\\site-packages (from matplotlib->catboost) (1.4.4)\n",
      "Requirement already satisfied: packaging>=20.0 in c:\\users\\arda_\\anaconda3\\lib\\site-packages (from matplotlib->catboost) (23.1)\n",
      "Requirement already satisfied: pillow>=6.2.0 in c:\\users\\arda_\\anaconda3\\lib\\site-packages (from matplotlib->catboost) (10.2.0)\n",
      "Requirement already satisfied: pyparsing<3.1,>=2.3.1 in c:\\users\\arda_\\anaconda3\\lib\\site-packages (from matplotlib->catboost) (3.0.9)\n",
      "Requirement already satisfied: importlib-resources>=3.2.0 in c:\\users\\arda_\\anaconda3\\lib\\site-packages (from matplotlib->catboost) (6.1.1)\n",
      "Requirement already satisfied: tenacity>=6.2.0 in c:\\users\\arda_\\anaconda3\\lib\\site-packages (from plotly->catboost) (8.2.2)\n",
      "Requirement already satisfied: zipp>=3.1.0 in c:\\users\\arda_\\anaconda3\\lib\\site-packages (from importlib-resources>=3.2.0->matplotlib->catboost) (3.17.0)\n"
     ]
    }
   ],
   "source": [
    "!pip install catboost"
   ],
   "metadata": {
    "collapsed": false,
    "ExecuteTime": {
     "end_time": "2024-03-01T15:23:20.233907Z",
     "start_time": "2024-03-01T15:23:16.333147Z"
    }
   },
   "id": "d27e505297dd98c1",
   "execution_count": 21
  },
  {
   "cell_type": "code",
   "outputs": [],
   "source": [
    "from catboost import CatBoostRegressor"
   ],
   "metadata": {
    "collapsed": false,
    "ExecuteTime": {
     "end_time": "2024-03-01T15:23:25.416490Z",
     "start_time": "2024-03-01T15:23:20.234912Z"
    }
   },
   "id": "444d5cdd9d8fe7ac",
   "execution_count": 22
  },
  {
   "cell_type": "markdown",
   "source": [
    "8.1 Model ve Tahmin"
   ],
   "metadata": {
    "collapsed": false
   },
   "id": "95b47329cd4c88e8"
  },
  {
   "cell_type": "code",
   "outputs": [
    {
     "name": "stdout",
     "output_type": "stream",
     "text": [
      "Learning rate set to 0.031674\n",
      "0:\tlearn: 437.6430699\ttotal: 157ms\tremaining: 2m 37s\n",
      "1:\tlearn: 431.3923642\ttotal: 158ms\tremaining: 1m 18s\n",
      "2:\tlearn: 424.8820360\ttotal: 159ms\tremaining: 52.9s\n",
      "3:\tlearn: 418.2514904\ttotal: 160ms\tremaining: 39.8s\n",
      "4:\tlearn: 412.6394021\ttotal: 161ms\tremaining: 32s\n",
      "5:\tlearn: 406.6247020\ttotal: 161ms\tremaining: 26.7s\n",
      "6:\tlearn: 400.5321206\ttotal: 162ms\tremaining: 23s\n",
      "7:\tlearn: 394.6683437\ttotal: 163ms\tremaining: 20.2s\n",
      "8:\tlearn: 388.2496484\ttotal: 164ms\tremaining: 18s\n",
      "9:\tlearn: 382.9448842\ttotal: 164ms\tremaining: 16.3s\n",
      "10:\tlearn: 377.2600080\ttotal: 165ms\tremaining: 14.8s\n",
      "11:\tlearn: 372.4829606\ttotal: 166ms\tremaining: 13.6s\n",
      "12:\tlearn: 366.6823437\ttotal: 166ms\tremaining: 12.6s\n",
      "13:\tlearn: 362.6076230\ttotal: 167ms\tremaining: 11.8s\n",
      "14:\tlearn: 358.0107745\ttotal: 168ms\tremaining: 11s\n",
      "15:\tlearn: 353.2802665\ttotal: 168ms\tremaining: 10.4s\n",
      "16:\tlearn: 348.5646265\ttotal: 169ms\tremaining: 9.78s\n",
      "17:\tlearn: 343.6407912\ttotal: 170ms\tremaining: 9.27s\n",
      "18:\tlearn: 339.2363847\ttotal: 171ms\tremaining: 8.81s\n",
      "19:\tlearn: 334.3431252\ttotal: 171ms\tremaining: 8.39s\n",
      "20:\tlearn: 330.3247028\ttotal: 172ms\tremaining: 8.02s\n",
      "21:\tlearn: 326.6118334\ttotal: 173ms\tremaining: 7.67s\n",
      "22:\tlearn: 322.7759981\ttotal: 173ms\tremaining: 7.36s\n",
      "23:\tlearn: 318.9511822\ttotal: 174ms\tremaining: 7.07s\n",
      "24:\tlearn: 315.4216253\ttotal: 175ms\tremaining: 6.81s\n",
      "25:\tlearn: 311.3551377\ttotal: 175ms\tremaining: 6.57s\n",
      "26:\tlearn: 308.1492371\ttotal: 176ms\tremaining: 6.35s\n",
      "27:\tlearn: 304.7284729\ttotal: 177ms\tremaining: 6.14s\n",
      "28:\tlearn: 301.3893204\ttotal: 177ms\tremaining: 5.94s\n",
      "29:\tlearn: 298.2080758\ttotal: 178ms\tremaining: 5.76s\n",
      "30:\tlearn: 295.6878398\ttotal: 179ms\tremaining: 5.59s\n",
      "31:\tlearn: 292.3912243\ttotal: 180ms\tremaining: 5.43s\n",
      "32:\tlearn: 289.6345744\ttotal: 180ms\tremaining: 5.29s\n",
      "33:\tlearn: 287.2158711\ttotal: 181ms\tremaining: 5.14s\n",
      "34:\tlearn: 284.3879081\ttotal: 182ms\tremaining: 5.01s\n",
      "35:\tlearn: 281.7994818\ttotal: 182ms\tremaining: 4.89s\n",
      "36:\tlearn: 279.2028261\ttotal: 183ms\tremaining: 4.77s\n",
      "37:\tlearn: 276.5821160\ttotal: 184ms\tremaining: 4.66s\n",
      "38:\tlearn: 273.8890894\ttotal: 185ms\tremaining: 4.55s\n",
      "39:\tlearn: 271.1681677\ttotal: 186ms\tremaining: 4.45s\n",
      "40:\tlearn: 269.0159531\ttotal: 186ms\tremaining: 4.36s\n",
      "41:\tlearn: 266.3601804\ttotal: 187ms\tremaining: 4.27s\n",
      "42:\tlearn: 263.8608958\ttotal: 188ms\tremaining: 4.18s\n",
      "43:\tlearn: 261.1405566\ttotal: 189ms\tremaining: 4.1s\n",
      "44:\tlearn: 258.9314736\ttotal: 189ms\tremaining: 4.01s\n",
      "45:\tlearn: 256.3885577\ttotal: 190ms\tremaining: 3.94s\n",
      "46:\tlearn: 254.2857349\ttotal: 191ms\tremaining: 3.86s\n",
      "47:\tlearn: 252.2347121\ttotal: 191ms\tremaining: 3.79s\n",
      "48:\tlearn: 250.1779367\ttotal: 192ms\tremaining: 3.73s\n",
      "49:\tlearn: 248.2687430\ttotal: 193ms\tremaining: 3.66s\n",
      "50:\tlearn: 246.3685582\ttotal: 193ms\tremaining: 3.6s\n",
      "51:\tlearn: 244.8719988\ttotal: 194ms\tremaining: 3.54s\n",
      "52:\tlearn: 242.7348892\ttotal: 195ms\tremaining: 3.48s\n",
      "53:\tlearn: 241.1611112\ttotal: 196ms\tremaining: 3.43s\n",
      "54:\tlearn: 239.4819462\ttotal: 196ms\tremaining: 3.37s\n",
      "55:\tlearn: 237.3877895\ttotal: 197ms\tremaining: 3.32s\n",
      "56:\tlearn: 235.7619262\ttotal: 198ms\tremaining: 3.27s\n",
      "57:\tlearn: 233.9604804\ttotal: 198ms\tremaining: 3.22s\n",
      "58:\tlearn: 232.4948011\ttotal: 199ms\tremaining: 3.17s\n",
      "59:\tlearn: 230.6283304\ttotal: 200ms\tremaining: 3.13s\n",
      "60:\tlearn: 228.9920307\ttotal: 201ms\tremaining: 3.09s\n",
      "61:\tlearn: 227.5197637\ttotal: 201ms\tremaining: 3.04s\n",
      "62:\tlearn: 226.0561213\ttotal: 202ms\tremaining: 3s\n",
      "63:\tlearn: 224.3484762\ttotal: 203ms\tremaining: 2.96s\n",
      "64:\tlearn: 223.0652023\ttotal: 203ms\tremaining: 2.92s\n",
      "65:\tlearn: 221.6608069\ttotal: 204ms\tremaining: 2.89s\n",
      "66:\tlearn: 220.2445284\ttotal: 205ms\tremaining: 2.85s\n",
      "67:\tlearn: 219.0044262\ttotal: 205ms\tremaining: 2.81s\n",
      "68:\tlearn: 217.4624313\ttotal: 206ms\tremaining: 2.78s\n",
      "69:\tlearn: 216.0502248\ttotal: 207ms\tremaining: 2.75s\n",
      "70:\tlearn: 214.5361705\ttotal: 207ms\tremaining: 2.71s\n",
      "71:\tlearn: 213.1812509\ttotal: 208ms\tremaining: 2.68s\n",
      "72:\tlearn: 211.7399390\ttotal: 209ms\tremaining: 2.65s\n",
      "73:\tlearn: 210.5557639\ttotal: 209ms\tremaining: 2.62s\n",
      "74:\tlearn: 209.4242283\ttotal: 210ms\tremaining: 2.59s\n",
      "75:\tlearn: 208.4366109\ttotal: 211ms\tremaining: 2.56s\n",
      "76:\tlearn: 207.4514860\ttotal: 211ms\tremaining: 2.54s\n",
      "77:\tlearn: 206.1912213\ttotal: 212ms\tremaining: 2.51s\n",
      "78:\tlearn: 205.2585316\ttotal: 213ms\tremaining: 2.48s\n",
      "79:\tlearn: 203.8747879\ttotal: 214ms\tremaining: 2.46s\n",
      "80:\tlearn: 202.5993031\ttotal: 214ms\tremaining: 2.43s\n",
      "81:\tlearn: 201.4719061\ttotal: 215ms\tremaining: 2.41s\n",
      "82:\tlearn: 200.2871874\ttotal: 216ms\tremaining: 2.38s\n",
      "83:\tlearn: 199.1074683\ttotal: 217ms\tremaining: 2.36s\n",
      "84:\tlearn: 197.8511342\ttotal: 217ms\tremaining: 2.34s\n",
      "85:\tlearn: 196.8788042\ttotal: 218ms\tremaining: 2.32s\n",
      "86:\tlearn: 195.9815130\ttotal: 219ms\tremaining: 2.3s\n",
      "87:\tlearn: 195.0807956\ttotal: 220ms\tremaining: 2.28s\n",
      "88:\tlearn: 193.9775466\ttotal: 220ms\tremaining: 2.26s\n",
      "89:\tlearn: 192.8810426\ttotal: 221ms\tremaining: 2.23s\n",
      "90:\tlearn: 192.5363626\ttotal: 222ms\tremaining: 2.22s\n",
      "91:\tlearn: 191.3259849\ttotal: 223ms\tremaining: 2.2s\n",
      "92:\tlearn: 190.3650025\ttotal: 224ms\tremaining: 2.18s\n",
      "93:\tlearn: 189.3255643\ttotal: 225ms\tremaining: 2.16s\n",
      "94:\tlearn: 188.2433480\ttotal: 225ms\tremaining: 2.15s\n",
      "95:\tlearn: 187.2786096\ttotal: 226ms\tremaining: 2.13s\n",
      "96:\tlearn: 186.1284681\ttotal: 227ms\tremaining: 2.11s\n",
      "97:\tlearn: 185.0190872\ttotal: 228ms\tremaining: 2.09s\n",
      "98:\tlearn: 184.2888024\ttotal: 228ms\tremaining: 2.08s\n",
      "99:\tlearn: 183.3111217\ttotal: 229ms\tremaining: 2.06s\n",
      "100:\tlearn: 182.2519940\ttotal: 230ms\tremaining: 2.05s\n",
      "101:\tlearn: 181.0186200\ttotal: 231ms\tremaining: 2.03s\n",
      "102:\tlearn: 179.9672344\ttotal: 231ms\tremaining: 2.01s\n",
      "103:\tlearn: 178.9776753\ttotal: 232ms\tremaining: 2s\n",
      "104:\tlearn: 178.2445101\ttotal: 233ms\tremaining: 1.98s\n",
      "105:\tlearn: 177.4055906\ttotal: 234ms\tremaining: 1.97s\n",
      "106:\tlearn: 176.2405445\ttotal: 234ms\tremaining: 1.96s\n",
      "107:\tlearn: 175.1813091\ttotal: 235ms\tremaining: 1.94s\n",
      "108:\tlearn: 174.5537682\ttotal: 236ms\tremaining: 1.93s\n",
      "109:\tlearn: 173.8231890\ttotal: 236ms\tremaining: 1.91s\n",
      "110:\tlearn: 172.9324461\ttotal: 237ms\tremaining: 1.9s\n",
      "111:\tlearn: 172.0019421\ttotal: 238ms\tremaining: 1.89s\n",
      "112:\tlearn: 171.2945678\ttotal: 239ms\tremaining: 1.87s\n",
      "113:\tlearn: 170.4815313\ttotal: 239ms\tremaining: 1.86s\n",
      "114:\tlearn: 169.9491294\ttotal: 240ms\tremaining: 1.85s\n",
      "115:\tlearn: 169.2483859\ttotal: 241ms\tremaining: 1.83s\n",
      "116:\tlearn: 168.7342383\ttotal: 241ms\tremaining: 1.82s\n",
      "117:\tlearn: 168.1837140\ttotal: 242ms\tremaining: 1.81s\n",
      "118:\tlearn: 167.1222358\ttotal: 243ms\tremaining: 1.8s\n",
      "119:\tlearn: 166.3472734\ttotal: 244ms\tremaining: 1.78s\n",
      "120:\tlearn: 165.5330342\ttotal: 244ms\tremaining: 1.77s\n",
      "121:\tlearn: 164.8476246\ttotal: 245ms\tremaining: 1.76s\n",
      "122:\tlearn: 164.2399797\ttotal: 246ms\tremaining: 1.75s\n",
      "123:\tlearn: 164.0121571\ttotal: 246ms\tremaining: 1.74s\n",
      "124:\tlearn: 162.9794212\ttotal: 247ms\tremaining: 1.73s\n",
      "125:\tlearn: 162.2095741\ttotal: 248ms\tremaining: 1.72s\n",
      "126:\tlearn: 161.1695920\ttotal: 248ms\tremaining: 1.71s\n",
      "127:\tlearn: 160.3516612\ttotal: 249ms\tremaining: 1.7s\n",
      "128:\tlearn: 159.1596356\ttotal: 250ms\tremaining: 1.69s\n",
      "129:\tlearn: 158.5354394\ttotal: 250ms\tremaining: 1.68s\n",
      "130:\tlearn: 157.5922383\ttotal: 251ms\tremaining: 1.67s\n",
      "131:\tlearn: 156.9689796\ttotal: 252ms\tremaining: 1.66s\n",
      "132:\tlearn: 156.4170623\ttotal: 253ms\tremaining: 1.65s\n",
      "133:\tlearn: 156.1222595\ttotal: 253ms\tremaining: 1.64s\n",
      "134:\tlearn: 155.5996569\ttotal: 254ms\tremaining: 1.63s\n",
      "135:\tlearn: 154.8990155\ttotal: 255ms\tremaining: 1.62s\n",
      "136:\tlearn: 154.3704896\ttotal: 256ms\tremaining: 1.61s\n",
      "137:\tlearn: 153.8560012\ttotal: 257ms\tremaining: 1.6s\n",
      "138:\tlearn: 153.2399938\ttotal: 257ms\tremaining: 1.59s\n",
      "139:\tlearn: 152.2142414\ttotal: 258ms\tremaining: 1.58s\n",
      "140:\tlearn: 151.5976950\ttotal: 259ms\tremaining: 1.57s\n",
      "141:\tlearn: 151.4426506\ttotal: 259ms\tremaining: 1.57s\n",
      "142:\tlearn: 150.8467135\ttotal: 260ms\tremaining: 1.56s\n",
      "143:\tlearn: 150.0175883\ttotal: 261ms\tremaining: 1.55s\n",
      "144:\tlearn: 149.6327647\ttotal: 261ms\tremaining: 1.54s\n",
      "145:\tlearn: 148.9265718\ttotal: 262ms\tremaining: 1.53s\n",
      "146:\tlearn: 148.4460764\ttotal: 263ms\tremaining: 1.52s\n",
      "147:\tlearn: 147.8108318\ttotal: 264ms\tremaining: 1.52s\n",
      "148:\tlearn: 147.2766525\ttotal: 264ms\tremaining: 1.51s\n",
      "149:\tlearn: 146.8537279\ttotal: 265ms\tremaining: 1.5s\n",
      "150:\tlearn: 146.0227438\ttotal: 266ms\tremaining: 1.49s\n",
      "151:\tlearn: 145.5603059\ttotal: 266ms\tremaining: 1.49s\n",
      "152:\tlearn: 145.0318400\ttotal: 267ms\tremaining: 1.48s\n",
      "153:\tlearn: 144.6082188\ttotal: 268ms\tremaining: 1.47s\n",
      "154:\tlearn: 144.2070501\ttotal: 268ms\tremaining: 1.46s\n",
      "155:\tlearn: 143.8060676\ttotal: 269ms\tremaining: 1.46s\n",
      "156:\tlearn: 143.3819707\ttotal: 270ms\tremaining: 1.45s\n",
      "157:\tlearn: 143.0764402\ttotal: 271ms\tremaining: 1.44s\n",
      "158:\tlearn: 142.4609449\ttotal: 271ms\tremaining: 1.43s\n",
      "159:\tlearn: 142.3321970\ttotal: 272ms\tremaining: 1.43s\n",
      "160:\tlearn: 141.9044208\ttotal: 273ms\tremaining: 1.42s\n",
      "161:\tlearn: 141.4544471\ttotal: 274ms\tremaining: 1.41s\n",
      "162:\tlearn: 140.9391569\ttotal: 274ms\tremaining: 1.41s\n",
      "163:\tlearn: 140.3413557\ttotal: 275ms\tremaining: 1.4s\n",
      "164:\tlearn: 139.7992277\ttotal: 276ms\tremaining: 1.4s\n",
      "165:\tlearn: 139.3139418\ttotal: 277ms\tremaining: 1.39s\n",
      "166:\tlearn: 139.1617594\ttotal: 277ms\tremaining: 1.38s\n",
      "167:\tlearn: 138.8837397\ttotal: 278ms\tremaining: 1.38s\n",
      "168:\tlearn: 138.6951410\ttotal: 279ms\tremaining: 1.37s\n",
      "169:\tlearn: 138.0167618\ttotal: 280ms\tremaining: 1.37s\n",
      "170:\tlearn: 137.7020324\ttotal: 281ms\tremaining: 1.36s\n",
      "171:\tlearn: 137.1976478\ttotal: 282ms\tremaining: 1.35s\n",
      "172:\tlearn: 136.6670434\ttotal: 282ms\tremaining: 1.35s\n",
      "173:\tlearn: 136.4670074\ttotal: 283ms\tremaining: 1.34s\n",
      "174:\tlearn: 136.0663779\ttotal: 284ms\tremaining: 1.34s\n",
      "175:\tlearn: 135.9542221\ttotal: 285ms\tremaining: 1.33s\n",
      "176:\tlearn: 135.6178437\ttotal: 286ms\tremaining: 1.33s\n",
      "177:\tlearn: 134.6062854\ttotal: 286ms\tremaining: 1.32s\n",
      "178:\tlearn: 134.5063344\ttotal: 287ms\tremaining: 1.31s\n",
      "179:\tlearn: 133.9371247\ttotal: 287ms\tremaining: 1.31s\n",
      "180:\tlearn: 133.8431589\ttotal: 288ms\tremaining: 1.3s\n",
      "181:\tlearn: 133.4293648\ttotal: 288ms\tremaining: 1.3s\n",
      "182:\tlearn: 133.2065999\ttotal: 289ms\tremaining: 1.29s\n",
      "183:\tlearn: 132.9235113\ttotal: 290ms\tremaining: 1.29s\n",
      "184:\tlearn: 132.6695944\ttotal: 291ms\tremaining: 1.28s\n",
      "185:\tlearn: 132.3135234\ttotal: 292ms\tremaining: 1.28s\n",
      "186:\tlearn: 132.2233433\ttotal: 292ms\tremaining: 1.27s\n",
      "187:\tlearn: 132.0628764\ttotal: 293ms\tremaining: 1.26s\n",
      "188:\tlearn: 131.8624217\ttotal: 294ms\tremaining: 1.26s\n",
      "189:\tlearn: 131.3846390\ttotal: 294ms\tremaining: 1.25s\n",
      "190:\tlearn: 131.0638781\ttotal: 295ms\tremaining: 1.25s\n",
      "191:\tlearn: 130.4721276\ttotal: 296ms\tremaining: 1.25s\n",
      "192:\tlearn: 129.9910319\ttotal: 297ms\tremaining: 1.24s\n",
      "193:\tlearn: 129.7074214\ttotal: 297ms\tremaining: 1.24s\n",
      "194:\tlearn: 129.0491404\ttotal: 298ms\tremaining: 1.23s\n",
      "195:\tlearn: 128.6928621\ttotal: 299ms\tremaining: 1.23s\n",
      "196:\tlearn: 128.5117514\ttotal: 300ms\tremaining: 1.22s\n",
      "197:\tlearn: 128.4035709\ttotal: 301ms\tremaining: 1.22s\n",
      "198:\tlearn: 127.9924182\ttotal: 302ms\tremaining: 1.21s\n",
      "199:\tlearn: 127.7690317\ttotal: 302ms\tremaining: 1.21s\n",
      "200:\tlearn: 127.6252249\ttotal: 303ms\tremaining: 1.21s\n",
      "201:\tlearn: 127.4951417\ttotal: 304ms\tremaining: 1.2s\n",
      "202:\tlearn: 127.0315349\ttotal: 305ms\tremaining: 1.2s\n",
      "203:\tlearn: 126.7791475\ttotal: 305ms\tremaining: 1.19s\n",
      "204:\tlearn: 126.4903107\ttotal: 306ms\tremaining: 1.19s\n",
      "205:\tlearn: 126.0664803\ttotal: 307ms\tremaining: 1.18s\n",
      "206:\tlearn: 125.3934071\ttotal: 308ms\tremaining: 1.18s\n",
      "207:\tlearn: 125.0899622\ttotal: 308ms\tremaining: 1.17s\n",
      "208:\tlearn: 124.7757310\ttotal: 309ms\tremaining: 1.17s\n",
      "209:\tlearn: 124.5475960\ttotal: 310ms\tremaining: 1.16s\n",
      "210:\tlearn: 124.1962887\ttotal: 310ms\tremaining: 1.16s\n",
      "211:\tlearn: 123.9686937\ttotal: 311ms\tremaining: 1.16s\n",
      "212:\tlearn: 123.0280048\ttotal: 312ms\tremaining: 1.15s\n",
      "213:\tlearn: 122.5447141\ttotal: 313ms\tremaining: 1.15s\n",
      "214:\tlearn: 122.1785305\ttotal: 313ms\tremaining: 1.14s\n",
      "215:\tlearn: 121.4403560\ttotal: 314ms\tremaining: 1.14s\n",
      "216:\tlearn: 120.8269584\ttotal: 315ms\tremaining: 1.14s\n",
      "217:\tlearn: 120.2399329\ttotal: 315ms\tremaining: 1.13s\n",
      "218:\tlearn: 119.4852557\ttotal: 316ms\tremaining: 1.13s\n",
      "219:\tlearn: 119.2094151\ttotal: 317ms\tremaining: 1.12s\n",
      "220:\tlearn: 119.0417229\ttotal: 317ms\tremaining: 1.12s\n",
      "221:\tlearn: 118.9557915\ttotal: 318ms\tremaining: 1.11s\n",
      "222:\tlearn: 118.3082421\ttotal: 319ms\tremaining: 1.11s\n",
      "223:\tlearn: 117.7364211\ttotal: 320ms\tremaining: 1.11s\n",
      "224:\tlearn: 117.6324235\ttotal: 320ms\tremaining: 1.1s\n",
      "225:\tlearn: 117.2879743\ttotal: 321ms\tremaining: 1.1s\n",
      "226:\tlearn: 117.0422612\ttotal: 321ms\tremaining: 1.09s\n",
      "227:\tlearn: 116.8001379\ttotal: 322ms\tremaining: 1.09s\n",
      "228:\tlearn: 116.4854978\ttotal: 323ms\tremaining: 1.09s\n",
      "229:\tlearn: 115.7559740\ttotal: 324ms\tremaining: 1.08s\n",
      "230:\tlearn: 115.1896271\ttotal: 324ms\tremaining: 1.08s\n",
      "231:\tlearn: 114.9666291\ttotal: 325ms\tremaining: 1.07s\n",
      "232:\tlearn: 114.1239318\ttotal: 326ms\tremaining: 1.07s\n",
      "233:\tlearn: 113.9964466\ttotal: 326ms\tremaining: 1.07s\n",
      "234:\tlearn: 113.8912592\ttotal: 327ms\tremaining: 1.06s\n",
      "235:\tlearn: 113.4606970\ttotal: 328ms\tremaining: 1.06s\n",
      "236:\tlearn: 113.0958922\ttotal: 328ms\tremaining: 1.06s\n",
      "237:\tlearn: 113.0091361\ttotal: 329ms\tremaining: 1.05s\n",
      "238:\tlearn: 112.7657197\ttotal: 330ms\tremaining: 1.05s\n",
      "239:\tlearn: 112.2315070\ttotal: 330ms\tremaining: 1.05s\n",
      "240:\tlearn: 111.9507125\ttotal: 331ms\tremaining: 1.04s\n",
      "241:\tlearn: 111.7384492\ttotal: 332ms\tremaining: 1.04s\n",
      "242:\tlearn: 111.0693763\ttotal: 332ms\tremaining: 1.03s\n",
      "243:\tlearn: 110.3499926\ttotal: 333ms\tremaining: 1.03s\n",
      "244:\tlearn: 110.2316231\ttotal: 334ms\tremaining: 1.03s\n",
      "245:\tlearn: 109.6985998\ttotal: 335ms\tremaining: 1.02s\n",
      "246:\tlearn: 109.4279824\ttotal: 335ms\tremaining: 1.02s\n",
      "247:\tlearn: 109.1466762\ttotal: 336ms\tremaining: 1.02s\n",
      "248:\tlearn: 108.9628542\ttotal: 337ms\tremaining: 1.01s\n",
      "249:\tlearn: 108.7268676\ttotal: 337ms\tremaining: 1.01s\n",
      "250:\tlearn: 108.0921190\ttotal: 338ms\tremaining: 1.01s\n",
      "251:\tlearn: 107.6167844\ttotal: 339ms\tremaining: 1s\n",
      "252:\tlearn: 106.9716563\ttotal: 339ms\tremaining: 1s\n",
      "253:\tlearn: 106.4272485\ttotal: 340ms\tremaining: 999ms\n",
      "254:\tlearn: 106.2032614\ttotal: 341ms\tremaining: 996ms\n",
      "255:\tlearn: 105.5756794\ttotal: 341ms\tremaining: 992ms\n",
      "256:\tlearn: 105.4918649\ttotal: 342ms\tremaining: 990ms\n",
      "257:\tlearn: 105.2466976\ttotal: 344ms\tremaining: 988ms\n",
      "258:\tlearn: 105.0461428\ttotal: 345ms\tremaining: 986ms\n",
      "259:\tlearn: 104.5887628\ttotal: 345ms\tremaining: 983ms\n",
      "260:\tlearn: 104.1305873\ttotal: 346ms\tremaining: 980ms\n",
      "261:\tlearn: 103.5527158\ttotal: 347ms\tremaining: 978ms\n",
      "262:\tlearn: 103.0334823\ttotal: 348ms\tremaining: 975ms\n",
      "263:\tlearn: 102.6732388\ttotal: 349ms\tremaining: 972ms\n",
      "264:\tlearn: 102.4678728\ttotal: 349ms\tremaining: 969ms\n",
      "265:\tlearn: 101.9608852\ttotal: 350ms\tremaining: 966ms\n",
      "266:\tlearn: 101.4449668\ttotal: 351ms\tremaining: 963ms\n",
      "267:\tlearn: 100.9647899\ttotal: 352ms\tremaining: 961ms\n",
      "268:\tlearn: 100.4376357\ttotal: 353ms\tremaining: 958ms\n",
      "269:\tlearn: 100.1038322\ttotal: 353ms\tremaining: 955ms\n",
      "270:\tlearn: 99.8991183\ttotal: 354ms\tremaining: 953ms\n",
      "271:\tlearn: 99.4016031\ttotal: 355ms\tremaining: 950ms\n",
      "272:\tlearn: 98.9231252\ttotal: 356ms\tremaining: 947ms\n",
      "273:\tlearn: 98.5734863\ttotal: 357ms\tremaining: 945ms\n",
      "274:\tlearn: 98.3333355\ttotal: 358ms\tremaining: 943ms\n",
      "275:\tlearn: 97.9164082\ttotal: 359ms\tremaining: 941ms\n",
      "276:\tlearn: 97.3911203\ttotal: 359ms\tremaining: 938ms\n",
      "277:\tlearn: 96.9317789\ttotal: 360ms\tremaining: 936ms\n",
      "278:\tlearn: 96.6243997\ttotal: 361ms\tremaining: 933ms\n",
      "279:\tlearn: 96.3288821\ttotal: 362ms\tremaining: 930ms\n",
      "280:\tlearn: 95.8579534\ttotal: 363ms\tremaining: 928ms\n",
      "281:\tlearn: 95.4136026\ttotal: 364ms\tremaining: 926ms\n",
      "282:\tlearn: 95.3442077\ttotal: 364ms\tremaining: 923ms\n",
      "283:\tlearn: 95.1166584\ttotal: 365ms\tremaining: 920ms\n",
      "284:\tlearn: 94.8017360\ttotal: 366ms\tremaining: 918ms\n",
      "285:\tlearn: 94.5863908\ttotal: 367ms\tremaining: 915ms\n",
      "286:\tlearn: 94.4111694\ttotal: 367ms\tremaining: 912ms\n",
      "287:\tlearn: 94.2678024\ttotal: 368ms\tremaining: 910ms\n",
      "288:\tlearn: 93.7753419\ttotal: 369ms\tremaining: 908ms\n",
      "289:\tlearn: 93.3772710\ttotal: 370ms\tremaining: 905ms\n",
      "290:\tlearn: 92.8750904\ttotal: 371ms\tremaining: 903ms\n",
      "291:\tlearn: 92.6654794\ttotal: 371ms\tremaining: 900ms\n",
      "292:\tlearn: 92.2659876\ttotal: 372ms\tremaining: 898ms\n",
      "293:\tlearn: 92.0282495\ttotal: 373ms\tremaining: 895ms\n",
      "294:\tlearn: 91.8288855\ttotal: 374ms\tremaining: 893ms\n",
      "295:\tlearn: 91.6752612\ttotal: 374ms\tremaining: 890ms\n",
      "296:\tlearn: 91.2561883\ttotal: 375ms\tremaining: 888ms\n",
      "297:\tlearn: 91.0227123\ttotal: 376ms\tremaining: 885ms\n",
      "298:\tlearn: 90.8392142\ttotal: 377ms\tremaining: 883ms\n",
      "299:\tlearn: 90.6853014\ttotal: 377ms\tremaining: 881ms\n",
      "300:\tlearn: 90.5986761\ttotal: 378ms\tremaining: 878ms\n",
      "301:\tlearn: 90.2180036\ttotal: 379ms\tremaining: 876ms\n",
      "302:\tlearn: 89.8313622\ttotal: 380ms\tremaining: 874ms\n",
      "303:\tlearn: 89.6872837\ttotal: 381ms\tremaining: 871ms\n",
      "304:\tlearn: 89.3853276\ttotal: 381ms\tremaining: 869ms\n",
      "305:\tlearn: 88.9459206\ttotal: 382ms\tremaining: 866ms\n",
      "306:\tlearn: 88.7258770\ttotal: 383ms\tremaining: 864ms\n",
      "307:\tlearn: 88.5374358\ttotal: 383ms\tremaining: 862ms\n",
      "308:\tlearn: 88.0624447\ttotal: 384ms\tremaining: 859ms\n",
      "309:\tlearn: 87.7942692\ttotal: 385ms\tremaining: 858ms\n",
      "310:\tlearn: 87.6354184\ttotal: 386ms\tremaining: 856ms\n",
      "311:\tlearn: 87.4879486\ttotal: 387ms\tremaining: 853ms\n",
      "312:\tlearn: 87.0294739\ttotal: 388ms\tremaining: 851ms\n",
      "313:\tlearn: 86.6746221\ttotal: 388ms\tremaining: 848ms\n",
      "314:\tlearn: 86.2792146\ttotal: 389ms\tremaining: 846ms\n",
      "315:\tlearn: 86.2127070\ttotal: 390ms\tremaining: 844ms\n",
      "316:\tlearn: 86.1507368\ttotal: 391ms\tremaining: 842ms\n",
      "317:\tlearn: 85.7089141\ttotal: 391ms\tremaining: 840ms\n",
      "318:\tlearn: 85.6035137\ttotal: 392ms\tremaining: 837ms\n",
      "319:\tlearn: 85.3587988\ttotal: 393ms\tremaining: 835ms\n",
      "320:\tlearn: 84.9660906\ttotal: 394ms\tremaining: 833ms\n",
      "321:\tlearn: 84.5474713\ttotal: 395ms\tremaining: 831ms\n",
      "322:\tlearn: 84.1996852\ttotal: 395ms\tremaining: 828ms\n",
      "323:\tlearn: 84.0654282\ttotal: 396ms\tremaining: 826ms\n",
      "324:\tlearn: 83.7937327\ttotal: 397ms\tremaining: 824ms\n",
      "325:\tlearn: 83.5064288\ttotal: 397ms\tremaining: 822ms\n",
      "326:\tlearn: 83.3997655\ttotal: 398ms\tremaining: 819ms\n",
      "327:\tlearn: 83.2958622\ttotal: 399ms\tremaining: 817ms\n",
      "328:\tlearn: 82.9877578\ttotal: 400ms\tremaining: 815ms\n",
      "329:\tlearn: 82.6286638\ttotal: 400ms\tremaining: 813ms\n",
      "330:\tlearn: 82.2827132\ttotal: 401ms\tremaining: 810ms\n",
      "331:\tlearn: 82.0895251\ttotal: 402ms\tremaining: 808ms\n",
      "332:\tlearn: 82.0130649\ttotal: 403ms\tremaining: 806ms\n",
      "333:\tlearn: 81.6771734\ttotal: 403ms\tremaining: 804ms\n",
      "334:\tlearn: 81.3519124\ttotal: 404ms\tremaining: 802ms\n",
      "335:\tlearn: 81.0170326\ttotal: 405ms\tremaining: 800ms\n",
      "336:\tlearn: 80.6917886\ttotal: 405ms\tremaining: 798ms\n",
      "337:\tlearn: 80.3455177\ttotal: 406ms\tremaining: 795ms\n",
      "338:\tlearn: 80.0260727\ttotal: 407ms\tremaining: 793ms\n",
      "339:\tlearn: 79.9154748\ttotal: 408ms\tremaining: 791ms\n",
      "340:\tlearn: 79.7813079\ttotal: 408ms\tremaining: 789ms\n",
      "341:\tlearn: 79.3513293\ttotal: 409ms\tremaining: 787ms\n",
      "342:\tlearn: 78.8666019\ttotal: 410ms\tremaining: 785ms\n",
      "343:\tlearn: 78.7959013\ttotal: 411ms\tremaining: 783ms\n",
      "344:\tlearn: 78.7081334\ttotal: 411ms\tremaining: 781ms\n",
      "345:\tlearn: 78.3354931\ttotal: 412ms\tremaining: 779ms\n",
      "346:\tlearn: 77.9475067\ttotal: 413ms\tremaining: 777ms\n",
      "347:\tlearn: 77.8910420\ttotal: 414ms\tremaining: 775ms\n",
      "348:\tlearn: 77.5461672\ttotal: 415ms\tremaining: 773ms\n",
      "349:\tlearn: 77.3717101\ttotal: 415ms\tremaining: 771ms\n",
      "350:\tlearn: 77.0729657\ttotal: 416ms\tremaining: 769ms\n",
      "351:\tlearn: 76.7699287\ttotal: 417ms\tremaining: 767ms\n",
      "352:\tlearn: 76.6029759\ttotal: 417ms\tremaining: 765ms\n",
      "353:\tlearn: 76.1642615\ttotal: 418ms\tremaining: 763ms\n",
      "354:\tlearn: 76.1202523\ttotal: 419ms\tremaining: 761ms\n",
      "355:\tlearn: 75.9487132\ttotal: 420ms\tremaining: 759ms\n",
      "356:\tlearn: 75.6748479\ttotal: 420ms\tremaining: 757ms\n",
      "357:\tlearn: 75.4290864\ttotal: 421ms\tremaining: 755ms\n",
      "358:\tlearn: 75.0463849\ttotal: 422ms\tremaining: 753ms\n",
      "359:\tlearn: 74.9902381\ttotal: 423ms\tremaining: 751ms\n",
      "360:\tlearn: 74.5243875\ttotal: 423ms\tremaining: 749ms\n",
      "361:\tlearn: 74.1913065\ttotal: 424ms\tremaining: 748ms\n",
      "362:\tlearn: 73.8413359\ttotal: 425ms\tremaining: 746ms\n",
      "363:\tlearn: 73.7602119\ttotal: 426ms\tremaining: 744ms\n",
      "364:\tlearn: 73.3278135\ttotal: 426ms\tremaining: 742ms\n",
      "365:\tlearn: 72.9524336\ttotal: 427ms\tremaining: 740ms\n",
      "366:\tlearn: 72.6791856\ttotal: 428ms\tremaining: 738ms\n",
      "367:\tlearn: 72.4333577\ttotal: 429ms\tremaining: 736ms\n",
      "368:\tlearn: 72.1672937\ttotal: 429ms\tremaining: 734ms\n",
      "369:\tlearn: 71.9070276\ttotal: 430ms\tremaining: 732ms\n",
      "370:\tlearn: 71.5496196\ttotal: 431ms\tremaining: 730ms\n",
      "371:\tlearn: 71.3161902\ttotal: 431ms\tremaining: 728ms\n",
      "372:\tlearn: 71.1259191\ttotal: 432ms\tremaining: 726ms\n",
      "373:\tlearn: 70.9889962\ttotal: 433ms\tremaining: 724ms\n",
      "374:\tlearn: 70.7417966\ttotal: 434ms\tremaining: 723ms\n",
      "375:\tlearn: 70.4931174\ttotal: 434ms\tremaining: 721ms\n",
      "376:\tlearn: 70.3300576\ttotal: 435ms\tremaining: 719ms\n",
      "377:\tlearn: 69.9233248\ttotal: 436ms\tremaining: 717ms\n",
      "378:\tlearn: 69.6261005\ttotal: 437ms\tremaining: 715ms\n",
      "379:\tlearn: 69.3989708\ttotal: 437ms\tremaining: 714ms\n",
      "380:\tlearn: 69.0085387\ttotal: 438ms\tremaining: 712ms\n",
      "381:\tlearn: 68.7604153\ttotal: 439ms\tremaining: 710ms\n",
      "382:\tlearn: 68.4602767\ttotal: 440ms\tremaining: 708ms\n",
      "383:\tlearn: 68.1005452\ttotal: 440ms\tremaining: 707ms\n",
      "384:\tlearn: 68.0540467\ttotal: 441ms\tremaining: 705ms\n",
      "385:\tlearn: 67.8972753\ttotal: 442ms\tremaining: 704ms\n",
      "386:\tlearn: 67.5389629\ttotal: 443ms\tremaining: 702ms\n",
      "387:\tlearn: 67.2390178\ttotal: 444ms\tremaining: 700ms\n",
      "388:\tlearn: 67.0279888\ttotal: 445ms\tremaining: 698ms\n",
      "389:\tlearn: 66.8375919\ttotal: 445ms\tremaining: 697ms\n",
      "390:\tlearn: 66.4118315\ttotal: 446ms\tremaining: 695ms\n",
      "391:\tlearn: 66.3642690\ttotal: 447ms\tremaining: 693ms\n",
      "392:\tlearn: 66.1673138\ttotal: 448ms\tremaining: 692ms\n",
      "393:\tlearn: 66.0177482\ttotal: 449ms\tremaining: 690ms\n",
      "394:\tlearn: 65.8018038\ttotal: 449ms\tremaining: 688ms\n",
      "395:\tlearn: 65.6886505\ttotal: 450ms\tremaining: 686ms\n",
      "396:\tlearn: 65.6120185\ttotal: 451ms\tremaining: 684ms\n",
      "397:\tlearn: 65.5746662\ttotal: 451ms\tremaining: 683ms\n",
      "398:\tlearn: 65.2974851\ttotal: 452ms\tremaining: 681ms\n",
      "399:\tlearn: 65.2464764\ttotal: 453ms\tremaining: 679ms\n",
      "400:\tlearn: 65.1241314\ttotal: 453ms\tremaining: 677ms\n",
      "401:\tlearn: 65.0515740\ttotal: 454ms\tremaining: 676ms\n",
      "402:\tlearn: 64.8089636\ttotal: 455ms\tremaining: 674ms\n",
      "403:\tlearn: 64.5992230\ttotal: 456ms\tremaining: 672ms\n",
      "404:\tlearn: 64.2907010\ttotal: 456ms\tremaining: 670ms\n",
      "405:\tlearn: 64.1568642\ttotal: 457ms\tremaining: 668ms\n",
      "406:\tlearn: 63.8279106\ttotal: 458ms\tremaining: 667ms\n",
      "407:\tlearn: 63.5558565\ttotal: 458ms\tremaining: 665ms\n",
      "408:\tlearn: 63.3865445\ttotal: 459ms\tremaining: 663ms\n",
      "409:\tlearn: 63.2752408\ttotal: 460ms\tremaining: 662ms\n",
      "410:\tlearn: 63.1070190\ttotal: 460ms\tremaining: 660ms\n",
      "411:\tlearn: 62.7868376\ttotal: 461ms\tremaining: 658ms\n",
      "412:\tlearn: 62.5345803\ttotal: 462ms\tremaining: 656ms\n",
      "413:\tlearn: 62.2729058\ttotal: 463ms\tremaining: 655ms\n",
      "414:\tlearn: 61.9850985\ttotal: 463ms\tremaining: 653ms\n",
      "415:\tlearn: 61.7784164\ttotal: 464ms\tremaining: 652ms\n",
      "416:\tlearn: 61.7431976\ttotal: 465ms\tremaining: 650ms\n",
      "417:\tlearn: 61.4309964\ttotal: 466ms\tremaining: 648ms\n",
      "418:\tlearn: 61.3513660\ttotal: 466ms\tremaining: 647ms\n",
      "419:\tlearn: 61.1253739\ttotal: 467ms\tremaining: 645ms\n",
      "420:\tlearn: 61.0742571\ttotal: 468ms\tremaining: 643ms\n",
      "421:\tlearn: 61.0390980\ttotal: 469ms\tremaining: 642ms\n",
      "422:\tlearn: 61.0095757\ttotal: 469ms\tremaining: 640ms\n",
      "423:\tlearn: 60.6843255\ttotal: 470ms\tremaining: 638ms\n",
      "424:\tlearn: 60.4045551\ttotal: 471ms\tremaining: 637ms\n",
      "425:\tlearn: 60.3649587\ttotal: 471ms\tremaining: 635ms\n",
      "426:\tlearn: 60.3315828\ttotal: 472ms\tremaining: 633ms\n",
      "427:\tlearn: 60.1047027\ttotal: 473ms\tremaining: 632ms\n",
      "428:\tlearn: 59.9170736\ttotal: 473ms\tremaining: 630ms\n",
      "429:\tlearn: 59.6875648\ttotal: 474ms\tremaining: 628ms\n",
      "430:\tlearn: 59.6662150\ttotal: 475ms\tremaining: 627ms\n",
      "431:\tlearn: 59.4208112\ttotal: 475ms\tremaining: 625ms\n",
      "432:\tlearn: 59.2358034\ttotal: 476ms\tremaining: 624ms\n",
      "433:\tlearn: 58.9818868\ttotal: 477ms\tremaining: 622ms\n",
      "434:\tlearn: 58.7089433\ttotal: 478ms\tremaining: 620ms\n",
      "435:\tlearn: 58.5898817\ttotal: 478ms\tremaining: 619ms\n",
      "436:\tlearn: 58.5425342\ttotal: 479ms\tremaining: 617ms\n",
      "437:\tlearn: 58.2884605\ttotal: 480ms\tremaining: 616ms\n",
      "438:\tlearn: 58.2643873\ttotal: 480ms\tremaining: 614ms\n",
      "439:\tlearn: 58.2330868\ttotal: 481ms\tremaining: 612ms\n",
      "440:\tlearn: 57.9676592\ttotal: 482ms\tremaining: 611ms\n",
      "441:\tlearn: 57.7670212\ttotal: 483ms\tremaining: 609ms\n",
      "442:\tlearn: 57.5322464\ttotal: 483ms\tremaining: 608ms\n",
      "443:\tlearn: 57.2771620\ttotal: 484ms\tremaining: 606ms\n",
      "444:\tlearn: 57.0227885\ttotal: 485ms\tremaining: 605ms\n",
      "445:\tlearn: 56.7616770\ttotal: 486ms\tremaining: 603ms\n",
      "446:\tlearn: 56.7367450\ttotal: 486ms\tremaining: 602ms\n",
      "447:\tlearn: 56.6715001\ttotal: 487ms\tremaining: 600ms\n",
      "448:\tlearn: 56.4881346\ttotal: 488ms\tremaining: 598ms\n",
      "449:\tlearn: 56.3749776\ttotal: 488ms\tremaining: 597ms\n",
      "450:\tlearn: 56.2172319\ttotal: 489ms\tremaining: 595ms\n",
      "451:\tlearn: 55.9461925\ttotal: 490ms\tremaining: 594ms\n",
      "452:\tlearn: 55.8884270\ttotal: 490ms\tremaining: 592ms\n",
      "453:\tlearn: 55.7987432\ttotal: 491ms\tremaining: 590ms\n",
      "454:\tlearn: 55.7376337\ttotal: 492ms\tremaining: 589ms\n",
      "455:\tlearn: 55.5150595\ttotal: 492ms\tremaining: 587ms\n",
      "456:\tlearn: 55.4819680\ttotal: 493ms\tremaining: 586ms\n",
      "457:\tlearn: 55.1719919\ttotal: 494ms\tremaining: 584ms\n",
      "458:\tlearn: 55.1295759\ttotal: 494ms\tremaining: 583ms\n",
      "459:\tlearn: 55.0856302\ttotal: 495ms\tremaining: 581ms\n",
      "460:\tlearn: 54.8056235\ttotal: 496ms\tremaining: 580ms\n",
      "461:\tlearn: 54.4030407\ttotal: 497ms\tremaining: 578ms\n",
      "462:\tlearn: 54.3308204\ttotal: 497ms\tremaining: 577ms\n",
      "463:\tlearn: 54.0283724\ttotal: 498ms\tremaining: 576ms\n",
      "464:\tlearn: 53.9962714\ttotal: 499ms\tremaining: 574ms\n",
      "465:\tlearn: 53.8149476\ttotal: 500ms\tremaining: 573ms\n",
      "466:\tlearn: 53.7806209\ttotal: 501ms\tremaining: 571ms\n",
      "467:\tlearn: 53.7585727\ttotal: 501ms\tremaining: 570ms\n",
      "468:\tlearn: 53.5042777\ttotal: 502ms\tremaining: 568ms\n",
      "469:\tlearn: 53.3257034\ttotal: 503ms\tremaining: 567ms\n",
      "470:\tlearn: 53.0801119\ttotal: 504ms\tremaining: 566ms\n",
      "471:\tlearn: 53.0136550\ttotal: 504ms\tremaining: 564ms\n",
      "472:\tlearn: 52.9408930\ttotal: 505ms\tremaining: 563ms\n",
      "473:\tlearn: 52.7089062\ttotal: 506ms\tremaining: 561ms\n",
      "474:\tlearn: 52.6819781\ttotal: 506ms\tremaining: 560ms\n",
      "475:\tlearn: 52.5065568\ttotal: 507ms\tremaining: 558ms\n",
      "476:\tlearn: 52.3688770\ttotal: 508ms\tremaining: 557ms\n",
      "477:\tlearn: 52.2402473\ttotal: 509ms\tremaining: 555ms\n",
      "478:\tlearn: 52.1406517\ttotal: 509ms\tremaining: 554ms\n",
      "479:\tlearn: 52.1107144\ttotal: 510ms\tremaining: 552ms\n",
      "480:\tlearn: 51.9239449\ttotal: 511ms\tremaining: 551ms\n",
      "481:\tlearn: 51.7096820\ttotal: 511ms\tremaining: 549ms\n",
      "482:\tlearn: 51.6266918\ttotal: 512ms\tremaining: 548ms\n",
      "483:\tlearn: 51.5969797\ttotal: 513ms\tremaining: 547ms\n",
      "484:\tlearn: 51.4480162\ttotal: 513ms\tremaining: 545ms\n",
      "485:\tlearn: 51.2269261\ttotal: 514ms\tremaining: 544ms\n",
      "486:\tlearn: 50.9904632\ttotal: 515ms\tremaining: 542ms\n",
      "487:\tlearn: 50.9342043\ttotal: 516ms\tremaining: 541ms\n",
      "488:\tlearn: 50.8423680\ttotal: 516ms\tremaining: 539ms\n",
      "489:\tlearn: 50.7269788\ttotal: 517ms\tremaining: 538ms\n",
      "490:\tlearn: 50.5384699\ttotal: 518ms\tremaining: 537ms\n",
      "491:\tlearn: 50.5047793\ttotal: 518ms\tremaining: 535ms\n",
      "492:\tlearn: 50.3234448\ttotal: 519ms\tremaining: 534ms\n",
      "493:\tlearn: 50.1653421\ttotal: 520ms\tremaining: 532ms\n",
      "494:\tlearn: 49.9835558\ttotal: 520ms\tremaining: 531ms\n",
      "495:\tlearn: 49.8884283\ttotal: 521ms\tremaining: 530ms\n",
      "496:\tlearn: 49.6217364\ttotal: 522ms\tremaining: 528ms\n",
      "497:\tlearn: 49.5268562\ttotal: 523ms\tremaining: 527ms\n",
      "498:\tlearn: 49.3078402\ttotal: 523ms\tremaining: 525ms\n",
      "499:\tlearn: 49.2571676\ttotal: 524ms\tremaining: 524ms\n",
      "500:\tlearn: 49.2173141\ttotal: 525ms\tremaining: 523ms\n",
      "501:\tlearn: 48.9813103\ttotal: 525ms\tremaining: 521ms\n",
      "502:\tlearn: 48.8304542\ttotal: 526ms\tremaining: 520ms\n",
      "503:\tlearn: 48.7430936\ttotal: 527ms\tremaining: 519ms\n",
      "504:\tlearn: 48.5493989\ttotal: 528ms\tremaining: 517ms\n",
      "505:\tlearn: 48.5134839\ttotal: 528ms\tremaining: 516ms\n",
      "506:\tlearn: 48.3516141\ttotal: 529ms\tremaining: 515ms\n",
      "507:\tlearn: 48.0631542\ttotal: 530ms\tremaining: 513ms\n",
      "508:\tlearn: 47.8591880\ttotal: 531ms\tremaining: 512ms\n",
      "509:\tlearn: 47.7182444\ttotal: 531ms\tremaining: 511ms\n",
      "510:\tlearn: 47.6301870\ttotal: 532ms\tremaining: 509ms\n",
      "511:\tlearn: 47.4767324\ttotal: 533ms\tremaining: 508ms\n",
      "512:\tlearn: 47.2822625\ttotal: 534ms\tremaining: 507ms\n",
      "513:\tlearn: 47.1022658\ttotal: 534ms\tremaining: 505ms\n",
      "514:\tlearn: 47.0536181\ttotal: 535ms\tremaining: 504ms\n",
      "515:\tlearn: 47.0249559\ttotal: 536ms\tremaining: 503ms\n",
      "516:\tlearn: 46.8789720\ttotal: 537ms\tremaining: 501ms\n",
      "517:\tlearn: 46.7133769\ttotal: 537ms\tremaining: 500ms\n",
      "518:\tlearn: 46.5157986\ttotal: 538ms\tremaining: 499ms\n",
      "519:\tlearn: 46.3630405\ttotal: 539ms\tremaining: 497ms\n",
      "520:\tlearn: 46.1730188\ttotal: 540ms\tremaining: 496ms\n",
      "521:\tlearn: 46.1360908\ttotal: 540ms\tremaining: 495ms\n",
      "522:\tlearn: 45.9652487\ttotal: 541ms\tremaining: 493ms\n",
      "523:\tlearn: 45.8122703\ttotal: 542ms\tremaining: 492ms\n",
      "524:\tlearn: 45.4984451\ttotal: 543ms\tremaining: 491ms\n",
      "525:\tlearn: 45.3161076\ttotal: 543ms\tremaining: 490ms\n",
      "526:\tlearn: 45.2802854\ttotal: 544ms\tremaining: 488ms\n",
      "527:\tlearn: 45.2448275\ttotal: 545ms\tremaining: 487ms\n",
      "528:\tlearn: 45.0816321\ttotal: 545ms\tremaining: 486ms\n",
      "529:\tlearn: 44.9794319\ttotal: 546ms\tremaining: 484ms\n",
      "530:\tlearn: 44.6832140\ttotal: 547ms\tremaining: 483ms\n",
      "531:\tlearn: 44.4460046\ttotal: 548ms\tremaining: 482ms\n",
      "532:\tlearn: 44.2118287\ttotal: 548ms\tremaining: 480ms\n",
      "533:\tlearn: 44.0693524\ttotal: 549ms\tremaining: 479ms\n",
      "534:\tlearn: 43.7781614\ttotal: 550ms\tremaining: 478ms\n",
      "535:\tlearn: 43.5541731\ttotal: 551ms\tremaining: 477ms\n",
      "536:\tlearn: 43.5134866\ttotal: 551ms\tremaining: 475ms\n",
      "537:\tlearn: 43.3609810\ttotal: 552ms\tremaining: 474ms\n",
      "538:\tlearn: 43.1828364\ttotal: 553ms\tremaining: 473ms\n",
      "539:\tlearn: 43.1681810\ttotal: 553ms\tremaining: 471ms\n",
      "540:\tlearn: 43.0597548\ttotal: 554ms\tremaining: 470ms\n",
      "541:\tlearn: 43.0399237\ttotal: 555ms\tremaining: 469ms\n",
      "542:\tlearn: 42.7955247\ttotal: 556ms\tremaining: 468ms\n",
      "543:\tlearn: 42.5339065\ttotal: 557ms\tremaining: 467ms\n",
      "544:\tlearn: 42.4295635\ttotal: 557ms\tremaining: 465ms\n",
      "545:\tlearn: 42.2338376\ttotal: 558ms\tremaining: 464ms\n",
      "546:\tlearn: 42.0124060\ttotal: 559ms\tremaining: 463ms\n",
      "547:\tlearn: 41.8255183\ttotal: 560ms\tremaining: 462ms\n",
      "548:\tlearn: 41.6388681\ttotal: 560ms\tremaining: 460ms\n",
      "549:\tlearn: 41.4001270\ttotal: 561ms\tremaining: 459ms\n",
      "550:\tlearn: 41.1013528\ttotal: 562ms\tremaining: 458ms\n",
      "551:\tlearn: 41.0100295\ttotal: 563ms\tremaining: 457ms\n",
      "552:\tlearn: 40.9906076\ttotal: 564ms\tremaining: 455ms\n",
      "553:\tlearn: 40.8809109\ttotal: 564ms\tremaining: 454ms\n",
      "554:\tlearn: 40.7831302\ttotal: 565ms\tremaining: 453ms\n",
      "555:\tlearn: 40.7317763\ttotal: 566ms\tremaining: 452ms\n",
      "556:\tlearn: 40.6321710\ttotal: 566ms\tremaining: 450ms\n",
      "557:\tlearn: 40.4475073\ttotal: 567ms\tremaining: 449ms\n",
      "558:\tlearn: 40.2859957\ttotal: 568ms\tremaining: 448ms\n",
      "559:\tlearn: 40.0262057\ttotal: 568ms\tremaining: 447ms\n",
      "560:\tlearn: 39.9326350\ttotal: 569ms\tremaining: 445ms\n",
      "561:\tlearn: 39.8735956\ttotal: 570ms\tremaining: 444ms\n",
      "562:\tlearn: 39.7083019\ttotal: 571ms\tremaining: 443ms\n",
      "563:\tlearn: 39.5379855\ttotal: 571ms\tremaining: 442ms\n",
      "564:\tlearn: 39.3451301\ttotal: 572ms\tremaining: 440ms\n",
      "565:\tlearn: 39.2041273\ttotal: 573ms\tremaining: 439ms\n",
      "566:\tlearn: 38.9870162\ttotal: 573ms\tremaining: 438ms\n",
      "567:\tlearn: 38.8638040\ttotal: 574ms\tremaining: 437ms\n",
      "568:\tlearn: 38.7752116\ttotal: 575ms\tremaining: 435ms\n",
      "569:\tlearn: 38.6530297\ttotal: 575ms\tremaining: 434ms\n",
      "570:\tlearn: 38.5505372\ttotal: 576ms\tremaining: 433ms\n",
      "571:\tlearn: 38.5134486\ttotal: 577ms\tremaining: 432ms\n",
      "572:\tlearn: 38.3680902\ttotal: 577ms\tremaining: 430ms\n",
      "573:\tlearn: 38.1897295\ttotal: 578ms\tremaining: 429ms\n",
      "574:\tlearn: 38.1083536\ttotal: 579ms\tremaining: 428ms\n",
      "575:\tlearn: 37.9229216\ttotal: 580ms\tremaining: 427ms\n",
      "576:\tlearn: 37.8377087\ttotal: 580ms\tremaining: 425ms\n",
      "577:\tlearn: 37.7966900\ttotal: 581ms\tremaining: 424ms\n",
      "578:\tlearn: 37.6700761\ttotal: 582ms\tremaining: 423ms\n",
      "579:\tlearn: 37.6355177\ttotal: 583ms\tremaining: 422ms\n",
      "580:\tlearn: 37.4648199\ttotal: 584ms\tremaining: 421ms\n",
      "581:\tlearn: 37.2959505\ttotal: 585ms\tremaining: 420ms\n",
      "582:\tlearn: 37.1423961\ttotal: 585ms\tremaining: 419ms\n",
      "583:\tlearn: 36.9297315\ttotal: 586ms\tremaining: 418ms\n",
      "584:\tlearn: 36.8850382\ttotal: 587ms\tremaining: 417ms\n",
      "585:\tlearn: 36.7546519\ttotal: 588ms\tremaining: 415ms\n",
      "586:\tlearn: 36.7377554\ttotal: 589ms\tremaining: 414ms\n",
      "587:\tlearn: 36.6899102\ttotal: 589ms\tremaining: 413ms\n",
      "588:\tlearn: 36.5617094\ttotal: 590ms\tremaining: 412ms\n",
      "589:\tlearn: 36.4272921\ttotal: 591ms\tremaining: 411ms\n",
      "590:\tlearn: 36.2657889\ttotal: 592ms\tremaining: 409ms\n",
      "591:\tlearn: 36.2539345\ttotal: 592ms\tremaining: 408ms\n",
      "592:\tlearn: 36.2314399\ttotal: 593ms\tremaining: 407ms\n",
      "593:\tlearn: 36.0683824\ttotal: 594ms\tremaining: 406ms\n",
      "594:\tlearn: 35.9283095\ttotal: 594ms\tremaining: 405ms\n",
      "595:\tlearn: 35.7968288\ttotal: 595ms\tremaining: 403ms\n",
      "596:\tlearn: 35.7223423\ttotal: 596ms\tremaining: 402ms\n",
      "597:\tlearn: 35.5848854\ttotal: 597ms\tremaining: 401ms\n",
      "598:\tlearn: 35.4754344\ttotal: 598ms\tremaining: 400ms\n",
      "599:\tlearn: 35.3533890\ttotal: 598ms\tremaining: 399ms\n",
      "600:\tlearn: 35.2201505\ttotal: 599ms\tremaining: 398ms\n",
      "601:\tlearn: 35.0873272\ttotal: 600ms\tremaining: 397ms\n",
      "602:\tlearn: 35.0461873\ttotal: 600ms\tremaining: 395ms\n",
      "603:\tlearn: 34.9273071\ttotal: 601ms\tremaining: 394ms\n",
      "604:\tlearn: 34.8162855\ttotal: 602ms\tremaining: 393ms\n",
      "605:\tlearn: 34.7130059\ttotal: 602ms\tremaining: 392ms\n",
      "606:\tlearn: 34.5585617\ttotal: 603ms\tremaining: 391ms\n",
      "607:\tlearn: 34.4611907\ttotal: 604ms\tremaining: 389ms\n",
      "608:\tlearn: 34.4326546\ttotal: 605ms\tremaining: 388ms\n",
      "609:\tlearn: 34.2846979\ttotal: 606ms\tremaining: 387ms\n",
      "610:\tlearn: 34.1734501\ttotal: 606ms\tremaining: 386ms\n",
      "611:\tlearn: 34.0230965\ttotal: 607ms\tremaining: 385ms\n",
      "612:\tlearn: 33.8282501\ttotal: 608ms\tremaining: 384ms\n",
      "613:\tlearn: 33.7746747\ttotal: 609ms\tremaining: 383ms\n",
      "614:\tlearn: 33.7068386\ttotal: 610ms\tremaining: 382ms\n",
      "615:\tlearn: 33.5780800\ttotal: 611ms\tremaining: 381ms\n",
      "616:\tlearn: 33.4695325\ttotal: 611ms\tremaining: 379ms\n",
      "617:\tlearn: 33.3463443\ttotal: 612ms\tremaining: 378ms\n",
      "618:\tlearn: 33.2877395\ttotal: 613ms\tremaining: 377ms\n",
      "619:\tlearn: 33.2418826\ttotal: 614ms\tremaining: 376ms\n",
      "620:\tlearn: 33.1045465\ttotal: 615ms\tremaining: 375ms\n",
      "621:\tlearn: 32.9400639\ttotal: 615ms\tremaining: 374ms\n",
      "622:\tlearn: 32.8996970\ttotal: 616ms\tremaining: 373ms\n",
      "623:\tlearn: 32.7429487\ttotal: 617ms\tremaining: 372ms\n",
      "624:\tlearn: 32.6132355\ttotal: 618ms\tremaining: 371ms\n",
      "625:\tlearn: 32.4714976\ttotal: 619ms\tremaining: 370ms\n",
      "626:\tlearn: 32.4320448\ttotal: 619ms\tremaining: 368ms\n",
      "627:\tlearn: 32.2628258\ttotal: 620ms\tremaining: 367ms\n",
      "628:\tlearn: 32.2038569\ttotal: 621ms\tremaining: 366ms\n",
      "629:\tlearn: 32.0940738\ttotal: 622ms\tremaining: 365ms\n",
      "630:\tlearn: 32.0068495\ttotal: 623ms\tremaining: 364ms\n",
      "631:\tlearn: 31.9053748\ttotal: 623ms\tremaining: 363ms\n",
      "632:\tlearn: 31.7715772\ttotal: 624ms\tremaining: 362ms\n",
      "633:\tlearn: 31.6687835\ttotal: 625ms\tremaining: 361ms\n",
      "634:\tlearn: 31.6368050\ttotal: 626ms\tremaining: 360ms\n",
      "635:\tlearn: 31.5709628\ttotal: 627ms\tremaining: 359ms\n",
      "636:\tlearn: 31.4052213\ttotal: 627ms\tremaining: 358ms\n",
      "637:\tlearn: 31.2452229\ttotal: 628ms\tremaining: 356ms\n",
      "638:\tlearn: 31.1221828\ttotal: 629ms\tremaining: 355ms\n",
      "639:\tlearn: 31.0853500\ttotal: 630ms\tremaining: 354ms\n",
      "640:\tlearn: 30.9167355\ttotal: 631ms\tremaining: 353ms\n",
      "641:\tlearn: 30.8667253\ttotal: 632ms\tremaining: 352ms\n",
      "642:\tlearn: 30.7427129\ttotal: 633ms\tremaining: 351ms\n",
      "643:\tlearn: 30.5748228\ttotal: 634ms\tremaining: 350ms\n",
      "644:\tlearn: 30.5080592\ttotal: 634ms\tremaining: 349ms\n",
      "645:\tlearn: 30.3444228\ttotal: 635ms\tremaining: 348ms\n",
      "646:\tlearn: 30.1858385\ttotal: 636ms\tremaining: 347ms\n",
      "647:\tlearn: 30.1481951\ttotal: 637ms\tremaining: 346ms\n",
      "648:\tlearn: 30.1139150\ttotal: 638ms\tremaining: 345ms\n",
      "649:\tlearn: 30.0147177\ttotal: 639ms\tremaining: 344ms\n",
      "650:\tlearn: 29.8610501\ttotal: 640ms\tremaining: 343ms\n",
      "651:\tlearn: 29.7793561\ttotal: 641ms\tremaining: 342ms\n",
      "652:\tlearn: 29.6870188\ttotal: 642ms\tremaining: 341ms\n",
      "653:\tlearn: 29.6229921\ttotal: 643ms\tremaining: 340ms\n",
      "654:\tlearn: 29.5806823\ttotal: 644ms\tremaining: 339ms\n",
      "655:\tlearn: 29.4903496\ttotal: 644ms\tremaining: 338ms\n",
      "656:\tlearn: 29.4011642\ttotal: 645ms\tremaining: 337ms\n",
      "657:\tlearn: 29.3880977\ttotal: 646ms\tremaining: 336ms\n",
      "658:\tlearn: 29.2615919\ttotal: 647ms\tremaining: 335ms\n",
      "659:\tlearn: 29.1004727\ttotal: 648ms\tremaining: 334ms\n",
      "660:\tlearn: 29.0530692\ttotal: 649ms\tremaining: 333ms\n",
      "661:\tlearn: 28.9863628\ttotal: 650ms\tremaining: 332ms\n",
      "662:\tlearn: 28.8714304\ttotal: 650ms\tremaining: 331ms\n",
      "663:\tlearn: 28.7331979\ttotal: 651ms\tremaining: 329ms\n",
      "664:\tlearn: 28.6366801\ttotal: 652ms\tremaining: 329ms\n",
      "665:\tlearn: 28.5716341\ttotal: 653ms\tremaining: 328ms\n",
      "666:\tlearn: 28.4974876\ttotal: 654ms\tremaining: 327ms\n",
      "667:\tlearn: 28.4112710\ttotal: 655ms\tremaining: 325ms\n",
      "668:\tlearn: 28.2984651\ttotal: 655ms\tremaining: 324ms\n",
      "669:\tlearn: 28.1339510\ttotal: 656ms\tremaining: 323ms\n",
      "670:\tlearn: 28.1075789\ttotal: 657ms\tremaining: 322ms\n",
      "671:\tlearn: 28.0922293\ttotal: 658ms\tremaining: 321ms\n",
      "672:\tlearn: 27.9723760\ttotal: 658ms\tremaining: 320ms\n",
      "673:\tlearn: 27.9055283\ttotal: 659ms\tremaining: 319ms\n",
      "674:\tlearn: 27.8205243\ttotal: 660ms\tremaining: 318ms\n",
      "675:\tlearn: 27.8084834\ttotal: 661ms\tremaining: 317ms\n",
      "676:\tlearn: 27.7891840\ttotal: 662ms\tremaining: 316ms\n",
      "677:\tlearn: 27.6730952\ttotal: 662ms\tremaining: 315ms\n",
      "678:\tlearn: 27.6094279\ttotal: 663ms\tremaining: 314ms\n",
      "679:\tlearn: 27.5709406\ttotal: 664ms\tremaining: 312ms\n",
      "680:\tlearn: 27.5062932\ttotal: 665ms\tremaining: 311ms\n",
      "681:\tlearn: 27.4149358\ttotal: 665ms\tremaining: 310ms\n",
      "682:\tlearn: 27.3480578\ttotal: 667ms\tremaining: 309ms\n",
      "683:\tlearn: 27.2546632\ttotal: 667ms\tremaining: 308ms\n",
      "684:\tlearn: 27.1581242\ttotal: 668ms\tremaining: 307ms\n",
      "685:\tlearn: 27.1291330\ttotal: 669ms\tremaining: 306ms\n",
      "686:\tlearn: 27.0589760\ttotal: 670ms\tremaining: 305ms\n",
      "687:\tlearn: 26.9207571\ttotal: 671ms\tremaining: 304ms\n",
      "688:\tlearn: 26.8046340\ttotal: 672ms\tremaining: 303ms\n",
      "689:\tlearn: 26.7346039\ttotal: 672ms\tremaining: 302ms\n",
      "690:\tlearn: 26.6359238\ttotal: 673ms\tremaining: 301ms\n",
      "691:\tlearn: 26.5458163\ttotal: 674ms\tremaining: 300ms\n",
      "692:\tlearn: 26.5287024\ttotal: 675ms\tremaining: 299ms\n",
      "693:\tlearn: 26.4436127\ttotal: 676ms\tremaining: 298ms\n",
      "694:\tlearn: 26.3860996\ttotal: 677ms\tremaining: 297ms\n",
      "695:\tlearn: 26.3271824\ttotal: 678ms\tremaining: 296ms\n",
      "696:\tlearn: 26.1929180\ttotal: 679ms\tremaining: 295ms\n",
      "697:\tlearn: 26.0989501\ttotal: 680ms\tremaining: 294ms\n",
      "698:\tlearn: 26.0348052\ttotal: 681ms\tremaining: 293ms\n",
      "699:\tlearn: 25.9715846\ttotal: 681ms\tremaining: 292ms\n",
      "700:\tlearn: 25.8624783\ttotal: 682ms\tremaining: 291ms\n",
      "701:\tlearn: 25.8020332\ttotal: 683ms\tremaining: 290ms\n",
      "702:\tlearn: 25.7940141\ttotal: 684ms\tremaining: 289ms\n",
      "703:\tlearn: 25.6937173\ttotal: 685ms\tremaining: 288ms\n",
      "704:\tlearn: 25.6133995\ttotal: 686ms\tremaining: 287ms\n",
      "705:\tlearn: 25.5272559\ttotal: 686ms\tremaining: 286ms\n",
      "706:\tlearn: 25.5087600\ttotal: 687ms\tremaining: 285ms\n",
      "707:\tlearn: 25.3506858\ttotal: 688ms\tremaining: 284ms\n",
      "708:\tlearn: 25.3314352\ttotal: 689ms\tremaining: 283ms\n",
      "709:\tlearn: 25.3263712\ttotal: 689ms\tremaining: 281ms\n",
      "710:\tlearn: 25.2377772\ttotal: 690ms\tremaining: 280ms\n",
      "711:\tlearn: 25.1296003\ttotal: 691ms\tremaining: 279ms\n",
      "712:\tlearn: 25.1138661\ttotal: 691ms\tremaining: 278ms\n",
      "713:\tlearn: 25.0606164\ttotal: 692ms\tremaining: 277ms\n",
      "714:\tlearn: 24.9701122\ttotal: 693ms\tremaining: 276ms\n",
      "715:\tlearn: 24.9266980\ttotal: 693ms\tremaining: 275ms\n",
      "716:\tlearn: 24.8355245\ttotal: 694ms\tremaining: 274ms\n",
      "717:\tlearn: 24.7892595\ttotal: 695ms\tremaining: 273ms\n",
      "718:\tlearn: 24.7784156\ttotal: 696ms\tremaining: 272ms\n",
      "719:\tlearn: 24.7204068\ttotal: 696ms\tremaining: 271ms\n",
      "720:\tlearn: 24.6868946\ttotal: 697ms\tremaining: 270ms\n",
      "721:\tlearn: 24.5835248\ttotal: 698ms\tremaining: 269ms\n",
      "722:\tlearn: 24.4605667\ttotal: 699ms\tremaining: 268ms\n",
      "723:\tlearn: 24.3780491\ttotal: 699ms\tremaining: 267ms\n",
      "724:\tlearn: 24.3695387\ttotal: 700ms\tremaining: 266ms\n",
      "725:\tlearn: 24.2713928\ttotal: 701ms\tremaining: 265ms\n",
      "726:\tlearn: 24.2564573\ttotal: 702ms\tremaining: 264ms\n",
      "727:\tlearn: 24.1259045\ttotal: 702ms\tremaining: 262ms\n",
      "728:\tlearn: 24.0410925\ttotal: 703ms\tremaining: 261ms\n",
      "729:\tlearn: 23.9454740\ttotal: 704ms\tremaining: 260ms\n",
      "730:\tlearn: 23.9293944\ttotal: 705ms\tremaining: 259ms\n",
      "731:\tlearn: 23.8408373\ttotal: 705ms\tremaining: 258ms\n",
      "732:\tlearn: 23.7301307\ttotal: 706ms\tremaining: 257ms\n",
      "733:\tlearn: 23.6751178\ttotal: 707ms\tremaining: 256ms\n",
      "734:\tlearn: 23.5518474\ttotal: 708ms\tremaining: 255ms\n",
      "735:\tlearn: 23.5054838\ttotal: 708ms\tremaining: 254ms\n",
      "736:\tlearn: 23.4781040\ttotal: 709ms\tremaining: 253ms\n",
      "737:\tlearn: 23.3774725\ttotal: 710ms\tremaining: 252ms\n",
      "738:\tlearn: 23.3081022\ttotal: 711ms\tremaining: 251ms\n",
      "739:\tlearn: 23.2915892\ttotal: 711ms\tremaining: 250ms\n",
      "740:\tlearn: 23.2095735\ttotal: 712ms\tremaining: 249ms\n",
      "741:\tlearn: 23.1588315\ttotal: 713ms\tremaining: 248ms\n",
      "742:\tlearn: 23.1197993\ttotal: 714ms\tremaining: 247ms\n",
      "743:\tlearn: 23.0327780\ttotal: 714ms\tremaining: 246ms\n",
      "744:\tlearn: 22.9759480\ttotal: 715ms\tremaining: 245ms\n",
      "745:\tlearn: 22.8751423\ttotal: 716ms\tremaining: 244ms\n",
      "746:\tlearn: 22.7768127\ttotal: 716ms\tremaining: 243ms\n",
      "747:\tlearn: 22.6474970\ttotal: 717ms\tremaining: 242ms\n",
      "748:\tlearn: 22.5780525\ttotal: 718ms\tremaining: 241ms\n",
      "749:\tlearn: 22.5338308\ttotal: 719ms\tremaining: 240ms\n",
      "750:\tlearn: 22.4330276\ttotal: 719ms\tremaining: 238ms\n",
      "751:\tlearn: 22.4193891\ttotal: 720ms\tremaining: 237ms\n",
      "752:\tlearn: 22.4093040\ttotal: 721ms\tremaining: 236ms\n",
      "753:\tlearn: 22.3758979\ttotal: 721ms\tremaining: 235ms\n",
      "754:\tlearn: 22.3560173\ttotal: 722ms\tremaining: 234ms\n",
      "755:\tlearn: 22.3264261\ttotal: 723ms\tremaining: 233ms\n",
      "756:\tlearn: 22.2796605\ttotal: 724ms\tremaining: 232ms\n",
      "757:\tlearn: 22.2253439\ttotal: 724ms\tremaining: 231ms\n",
      "758:\tlearn: 22.1636409\ttotal: 725ms\tremaining: 230ms\n",
      "759:\tlearn: 22.1078491\ttotal: 726ms\tremaining: 229ms\n",
      "760:\tlearn: 22.0275756\ttotal: 727ms\tremaining: 228ms\n",
      "761:\tlearn: 22.0174143\ttotal: 728ms\tremaining: 227ms\n",
      "762:\tlearn: 21.9887391\ttotal: 728ms\tremaining: 226ms\n",
      "763:\tlearn: 21.9746733\ttotal: 729ms\tremaining: 225ms\n",
      "764:\tlearn: 21.9529216\ttotal: 730ms\tremaining: 224ms\n",
      "765:\tlearn: 21.8767644\ttotal: 731ms\tremaining: 223ms\n",
      "766:\tlearn: 21.8668039\ttotal: 732ms\tremaining: 222ms\n",
      "767:\tlearn: 21.8008688\ttotal: 732ms\tremaining: 221ms\n",
      "768:\tlearn: 21.7612208\ttotal: 733ms\tremaining: 220ms\n",
      "769:\tlearn: 21.6977978\ttotal: 734ms\tremaining: 219ms\n",
      "770:\tlearn: 21.6870461\ttotal: 734ms\tremaining: 218ms\n",
      "771:\tlearn: 21.6599780\ttotal: 735ms\tremaining: 217ms\n",
      "772:\tlearn: 21.5522064\ttotal: 736ms\tremaining: 216ms\n",
      "773:\tlearn: 21.5426327\ttotal: 737ms\tremaining: 215ms\n",
      "774:\tlearn: 21.4391089\ttotal: 737ms\tremaining: 214ms\n",
      "775:\tlearn: 21.4042993\ttotal: 738ms\tremaining: 213ms\n",
      "776:\tlearn: 21.3284836\ttotal: 739ms\tremaining: 212ms\n",
      "777:\tlearn: 21.3163774\ttotal: 740ms\tremaining: 211ms\n",
      "778:\tlearn: 21.2708416\ttotal: 741ms\tremaining: 210ms\n",
      "779:\tlearn: 21.2056943\ttotal: 742ms\tremaining: 209ms\n",
      "780:\tlearn: 21.1434774\ttotal: 743ms\tremaining: 208ms\n",
      "781:\tlearn: 21.0672473\ttotal: 744ms\tremaining: 207ms\n",
      "782:\tlearn: 20.9629645\ttotal: 744ms\tremaining: 206ms\n",
      "783:\tlearn: 20.9522537\ttotal: 745ms\tremaining: 205ms\n",
      "784:\tlearn: 20.9252425\ttotal: 746ms\tremaining: 204ms\n",
      "785:\tlearn: 20.8576799\ttotal: 747ms\tremaining: 203ms\n",
      "786:\tlearn: 20.7922970\ttotal: 747ms\tremaining: 202ms\n",
      "787:\tlearn: 20.7802134\ttotal: 748ms\tremaining: 201ms\n",
      "788:\tlearn: 20.7125213\ttotal: 749ms\tremaining: 200ms\n",
      "789:\tlearn: 20.7000005\ttotal: 750ms\tremaining: 199ms\n",
      "790:\tlearn: 20.6366378\ttotal: 750ms\tremaining: 198ms\n",
      "791:\tlearn: 20.6170923\ttotal: 751ms\tremaining: 197ms\n",
      "792:\tlearn: 20.5485950\ttotal: 752ms\tremaining: 196ms\n",
      "793:\tlearn: 20.5212323\ttotal: 752ms\tremaining: 195ms\n",
      "794:\tlearn: 20.5004347\ttotal: 753ms\tremaining: 194ms\n",
      "795:\tlearn: 20.4884649\ttotal: 754ms\tremaining: 193ms\n",
      "796:\tlearn: 20.3727007\ttotal: 755ms\tremaining: 192ms\n",
      "797:\tlearn: 20.2776166\ttotal: 756ms\tremaining: 191ms\n",
      "798:\tlearn: 20.2690965\ttotal: 756ms\tremaining: 190ms\n",
      "799:\tlearn: 20.2166634\ttotal: 757ms\tremaining: 189ms\n",
      "800:\tlearn: 20.1160179\ttotal: 758ms\tremaining: 188ms\n",
      "801:\tlearn: 20.0642268\ttotal: 759ms\tremaining: 187ms\n",
      "802:\tlearn: 20.0323601\ttotal: 760ms\tremaining: 186ms\n",
      "803:\tlearn: 19.9485334\ttotal: 761ms\tremaining: 185ms\n",
      "804:\tlearn: 19.9071725\ttotal: 761ms\tremaining: 184ms\n",
      "805:\tlearn: 19.8943564\ttotal: 762ms\tremaining: 183ms\n",
      "806:\tlearn: 19.7804687\ttotal: 763ms\tremaining: 182ms\n",
      "807:\tlearn: 19.7343406\ttotal: 764ms\tremaining: 182ms\n",
      "808:\tlearn: 19.6963930\ttotal: 765ms\tremaining: 181ms\n",
      "809:\tlearn: 19.6705675\ttotal: 766ms\tremaining: 180ms\n",
      "810:\tlearn: 19.6382933\ttotal: 766ms\tremaining: 179ms\n",
      "811:\tlearn: 19.5889191\ttotal: 767ms\tremaining: 178ms\n",
      "812:\tlearn: 19.5638487\ttotal: 768ms\tremaining: 177ms\n",
      "813:\tlearn: 19.4926424\ttotal: 769ms\tremaining: 176ms\n",
      "814:\tlearn: 19.3961396\ttotal: 770ms\tremaining: 175ms\n",
      "815:\tlearn: 19.3880242\ttotal: 771ms\tremaining: 174ms\n",
      "816:\tlearn: 19.2808372\ttotal: 771ms\tremaining: 173ms\n",
      "817:\tlearn: 19.1712815\ttotal: 772ms\tremaining: 172ms\n",
      "818:\tlearn: 19.0909823\ttotal: 773ms\tremaining: 171ms\n",
      "819:\tlearn: 18.9993504\ttotal: 773ms\tremaining: 170ms\n",
      "820:\tlearn: 18.9773399\ttotal: 774ms\tremaining: 169ms\n",
      "821:\tlearn: 18.8989735\ttotal: 775ms\tremaining: 168ms\n",
      "822:\tlearn: 18.8275176\ttotal: 776ms\tremaining: 167ms\n",
      "823:\tlearn: 18.8092278\ttotal: 776ms\tremaining: 166ms\n",
      "824:\tlearn: 18.7938447\ttotal: 777ms\tremaining: 165ms\n",
      "825:\tlearn: 18.7871267\ttotal: 778ms\tremaining: 164ms\n",
      "826:\tlearn: 18.7299674\ttotal: 778ms\tremaining: 163ms\n",
      "827:\tlearn: 18.6808264\ttotal: 779ms\tremaining: 162ms\n",
      "828:\tlearn: 18.5984875\ttotal: 780ms\tremaining: 161ms\n",
      "829:\tlearn: 18.5170088\ttotal: 781ms\tremaining: 160ms\n",
      "830:\tlearn: 18.4707382\ttotal: 782ms\tremaining: 159ms\n",
      "831:\tlearn: 18.4368619\ttotal: 783ms\tremaining: 158ms\n",
      "832:\tlearn: 18.3683191\ttotal: 784ms\tremaining: 157ms\n",
      "833:\tlearn: 18.3295058\ttotal: 784ms\tremaining: 156ms\n",
      "834:\tlearn: 18.2587263\ttotal: 785ms\tremaining: 155ms\n",
      "835:\tlearn: 18.2103679\ttotal: 786ms\tremaining: 154ms\n",
      "836:\tlearn: 18.1781032\ttotal: 787ms\tremaining: 153ms\n",
      "837:\tlearn: 18.0746921\ttotal: 787ms\tremaining: 152ms\n",
      "838:\tlearn: 18.0131984\ttotal: 788ms\tremaining: 151ms\n",
      "839:\tlearn: 17.9510877\ttotal: 789ms\tremaining: 150ms\n",
      "840:\tlearn: 17.8893536\ttotal: 790ms\tremaining: 149ms\n",
      "841:\tlearn: 17.8813583\ttotal: 790ms\tremaining: 148ms\n",
      "842:\tlearn: 17.8129857\ttotal: 791ms\tremaining: 147ms\n",
      "843:\tlearn: 17.7981202\ttotal: 792ms\tremaining: 146ms\n",
      "844:\tlearn: 17.7414627\ttotal: 793ms\tremaining: 145ms\n",
      "845:\tlearn: 17.7255534\ttotal: 793ms\tremaining: 144ms\n",
      "846:\tlearn: 17.6965545\ttotal: 794ms\tremaining: 143ms\n",
      "847:\tlearn: 17.6499397\ttotal: 795ms\tremaining: 142ms\n",
      "848:\tlearn: 17.6133852\ttotal: 795ms\tremaining: 141ms\n",
      "849:\tlearn: 17.5621620\ttotal: 796ms\tremaining: 140ms\n",
      "850:\tlearn: 17.5064049\ttotal: 797ms\tremaining: 140ms\n",
      "851:\tlearn: 17.4643467\ttotal: 798ms\tremaining: 139ms\n",
      "852:\tlearn: 17.4569544\ttotal: 798ms\tremaining: 138ms\n",
      "853:\tlearn: 17.3731897\ttotal: 799ms\tremaining: 137ms\n",
      "854:\tlearn: 17.3313609\ttotal: 800ms\tremaining: 136ms\n",
      "855:\tlearn: 17.2781582\ttotal: 800ms\tremaining: 135ms\n",
      "856:\tlearn: 17.2283433\ttotal: 801ms\tremaining: 134ms\n",
      "857:\tlearn: 17.1944614\ttotal: 802ms\tremaining: 133ms\n",
      "858:\tlearn: 17.1573393\ttotal: 803ms\tremaining: 132ms\n",
      "859:\tlearn: 17.0975067\ttotal: 804ms\tremaining: 131ms\n",
      "860:\tlearn: 17.0462043\ttotal: 804ms\tremaining: 130ms\n",
      "861:\tlearn: 17.0118805\ttotal: 805ms\tremaining: 129ms\n",
      "862:\tlearn: 17.0045195\ttotal: 806ms\tremaining: 128ms\n",
      "863:\tlearn: 16.9528999\ttotal: 807ms\tremaining: 127ms\n",
      "864:\tlearn: 16.9270632\ttotal: 808ms\tremaining: 126ms\n",
      "865:\tlearn: 16.8915252\ttotal: 809ms\tremaining: 125ms\n",
      "866:\tlearn: 16.7946576\ttotal: 809ms\tremaining: 124ms\n",
      "867:\tlearn: 16.7737222\ttotal: 810ms\tremaining: 123ms\n",
      "868:\tlearn: 16.7192509\ttotal: 811ms\tremaining: 122ms\n",
      "869:\tlearn: 16.7138388\ttotal: 812ms\tremaining: 121ms\n",
      "870:\tlearn: 16.6877768\ttotal: 812ms\tremaining: 120ms\n",
      "871:\tlearn: 16.6265748\ttotal: 813ms\tremaining: 119ms\n",
      "872:\tlearn: 16.5641199\ttotal: 814ms\tremaining: 118ms\n",
      "873:\tlearn: 16.4935111\ttotal: 815ms\tremaining: 117ms\n",
      "874:\tlearn: 16.4250863\ttotal: 816ms\tremaining: 117ms\n",
      "875:\tlearn: 16.3566947\ttotal: 817ms\tremaining: 116ms\n",
      "876:\tlearn: 16.2731185\ttotal: 818ms\tremaining: 115ms\n",
      "877:\tlearn: 16.2207923\ttotal: 819ms\tremaining: 114ms\n",
      "878:\tlearn: 16.2073108\ttotal: 819ms\tremaining: 113ms\n",
      "879:\tlearn: 16.1336576\ttotal: 820ms\tremaining: 112ms\n",
      "880:\tlearn: 16.0994139\ttotal: 821ms\tremaining: 111ms\n",
      "881:\tlearn: 16.0720217\ttotal: 822ms\tremaining: 110ms\n",
      "882:\tlearn: 16.0192163\ttotal: 823ms\tremaining: 109ms\n",
      "883:\tlearn: 16.0021989\ttotal: 824ms\tremaining: 108ms\n",
      "884:\tlearn: 15.9003005\ttotal: 825ms\tremaining: 107ms\n",
      "885:\tlearn: 15.8685768\ttotal: 826ms\tremaining: 106ms\n",
      "886:\tlearn: 15.7757199\ttotal: 827ms\tremaining: 105ms\n",
      "887:\tlearn: 15.7280015\ttotal: 828ms\tremaining: 104ms\n",
      "888:\tlearn: 15.7037867\ttotal: 828ms\tremaining: 103ms\n",
      "889:\tlearn: 15.6876254\ttotal: 829ms\tremaining: 103ms\n",
      "890:\tlearn: 15.6002589\ttotal: 830ms\tremaining: 102ms\n",
      "891:\tlearn: 15.5663914\ttotal: 831ms\tremaining: 101ms\n",
      "892:\tlearn: 15.4827503\ttotal: 832ms\tremaining: 99.7ms\n",
      "893:\tlearn: 15.4422647\ttotal: 833ms\tremaining: 98.7ms\n",
      "894:\tlearn: 15.4230904\ttotal: 834ms\tremaining: 97.8ms\n",
      "895:\tlearn: 15.3907978\ttotal: 834ms\tremaining: 96.8ms\n",
      "896:\tlearn: 15.3022423\ttotal: 835ms\tremaining: 95.9ms\n",
      "897:\tlearn: 15.2770800\ttotal: 836ms\tremaining: 95ms\n",
      "898:\tlearn: 15.2708396\ttotal: 837ms\tremaining: 94ms\n",
      "899:\tlearn: 15.2217814\ttotal: 838ms\tremaining: 93.1ms\n",
      "900:\tlearn: 15.2150872\ttotal: 838ms\tremaining: 92.1ms\n",
      "901:\tlearn: 15.1938758\ttotal: 839ms\tremaining: 91.2ms\n",
      "902:\tlearn: 15.1087389\ttotal: 840ms\tremaining: 90.2ms\n",
      "903:\tlearn: 15.0270836\ttotal: 841ms\tremaining: 89.3ms\n",
      "904:\tlearn: 14.9579009\ttotal: 842ms\tremaining: 88.3ms\n",
      "905:\tlearn: 14.9321713\ttotal: 842ms\tremaining: 87.4ms\n",
      "906:\tlearn: 14.9254894\ttotal: 843ms\tremaining: 86.5ms\n",
      "907:\tlearn: 14.8662999\ttotal: 844ms\tremaining: 85.5ms\n",
      "908:\tlearn: 14.7969088\ttotal: 845ms\tremaining: 84.6ms\n",
      "909:\tlearn: 14.7187437\ttotal: 846ms\tremaining: 83.6ms\n",
      "910:\tlearn: 14.6594229\ttotal: 847ms\tremaining: 82.7ms\n",
      "911:\tlearn: 14.6109629\ttotal: 848ms\tremaining: 81.8ms\n",
      "912:\tlearn: 14.5833869\ttotal: 848ms\tremaining: 80.8ms\n",
      "913:\tlearn: 14.5677206\ttotal: 849ms\tremaining: 79.9ms\n",
      "914:\tlearn: 14.5260964\ttotal: 850ms\tremaining: 79ms\n",
      "915:\tlearn: 14.4838792\ttotal: 851ms\tremaining: 78ms\n",
      "916:\tlearn: 14.4614097\ttotal: 852ms\tremaining: 77.1ms\n",
      "917:\tlearn: 14.4432212\ttotal: 852ms\tremaining: 76.1ms\n",
      "918:\tlearn: 14.4363977\ttotal: 853ms\tremaining: 75.2ms\n",
      "919:\tlearn: 14.3740822\ttotal: 854ms\tremaining: 74.2ms\n",
      "920:\tlearn: 14.3363459\ttotal: 855ms\tremaining: 73.3ms\n",
      "921:\tlearn: 14.2862425\ttotal: 855ms\tremaining: 72.4ms\n",
      "922:\tlearn: 14.2195191\ttotal: 856ms\tremaining: 71.4ms\n",
      "923:\tlearn: 14.1752422\ttotal: 857ms\tremaining: 70.5ms\n",
      "924:\tlearn: 14.1582897\ttotal: 858ms\tremaining: 69.5ms\n",
      "925:\tlearn: 14.0892518\ttotal: 858ms\tremaining: 68.6ms\n",
      "926:\tlearn: 14.0163904\ttotal: 859ms\tremaining: 67.7ms\n",
      "927:\tlearn: 13.9674906\ttotal: 860ms\tremaining: 66.7ms\n",
      "928:\tlearn: 13.9421041\ttotal: 861ms\tremaining: 65.8ms\n",
      "929:\tlearn: 13.9264108\ttotal: 861ms\tremaining: 64.8ms\n",
      "930:\tlearn: 13.8953443\ttotal: 862ms\tremaining: 63.9ms\n",
      "931:\tlearn: 13.8514821\ttotal: 863ms\tremaining: 63ms\n",
      "932:\tlearn: 13.8317730\ttotal: 864ms\tremaining: 62ms\n",
      "933:\tlearn: 13.7980615\ttotal: 865ms\tremaining: 61.1ms\n",
      "934:\tlearn: 13.7252551\ttotal: 865ms\tremaining: 60.2ms\n",
      "935:\tlearn: 13.6867475\ttotal: 866ms\tremaining: 59.2ms\n",
      "936:\tlearn: 13.6663164\ttotal: 867ms\tremaining: 58.3ms\n",
      "937:\tlearn: 13.6108173\ttotal: 868ms\tremaining: 57.3ms\n",
      "938:\tlearn: 13.5827380\ttotal: 868ms\tremaining: 56.4ms\n",
      "939:\tlearn: 13.5211246\ttotal: 869ms\tremaining: 55.5ms\n",
      "940:\tlearn: 13.4752089\ttotal: 870ms\tremaining: 54.5ms\n",
      "941:\tlearn: 13.4283115\ttotal: 871ms\tremaining: 53.6ms\n",
      "942:\tlearn: 13.3912327\ttotal: 871ms\tremaining: 52.7ms\n",
      "943:\tlearn: 13.3593766\ttotal: 872ms\tremaining: 51.7ms\n",
      "944:\tlearn: 13.3015250\ttotal: 873ms\tremaining: 50.8ms\n",
      "945:\tlearn: 13.2587480\ttotal: 873ms\tremaining: 49.9ms\n",
      "946:\tlearn: 13.1949436\ttotal: 874ms\tremaining: 48.9ms\n",
      "947:\tlearn: 13.1552441\ttotal: 875ms\tremaining: 48ms\n",
      "948:\tlearn: 13.0700947\ttotal: 876ms\tremaining: 47.1ms\n",
      "949:\tlearn: 13.0460884\ttotal: 876ms\tremaining: 46.1ms\n",
      "950:\tlearn: 13.0315972\ttotal: 877ms\tremaining: 45.2ms\n",
      "951:\tlearn: 12.9964111\ttotal: 878ms\tremaining: 44.3ms\n",
      "952:\tlearn: 12.9757139\ttotal: 879ms\tremaining: 43.3ms\n",
      "953:\tlearn: 12.9120533\ttotal: 880ms\tremaining: 42.4ms\n",
      "954:\tlearn: 12.8776679\ttotal: 881ms\tremaining: 41.5ms\n",
      "955:\tlearn: 12.8703243\ttotal: 881ms\tremaining: 40.6ms\n",
      "956:\tlearn: 12.8058615\ttotal: 882ms\tremaining: 39.6ms\n",
      "957:\tlearn: 12.7637381\ttotal: 883ms\tremaining: 38.7ms\n",
      "958:\tlearn: 12.7517063\ttotal: 884ms\tremaining: 37.8ms\n",
      "959:\tlearn: 12.7382108\ttotal: 885ms\tremaining: 36.9ms\n",
      "960:\tlearn: 12.6881713\ttotal: 885ms\tremaining: 35.9ms\n",
      "961:\tlearn: 12.6728317\ttotal: 886ms\tremaining: 35ms\n",
      "962:\tlearn: 12.6386609\ttotal: 887ms\tremaining: 34.1ms\n",
      "963:\tlearn: 12.5837642\ttotal: 887ms\tremaining: 33.1ms\n",
      "964:\tlearn: 12.5689789\ttotal: 888ms\tremaining: 32.2ms\n",
      "965:\tlearn: 12.5362136\ttotal: 889ms\tremaining: 31.3ms\n",
      "966:\tlearn: 12.5186020\ttotal: 890ms\tremaining: 30.4ms\n",
      "967:\tlearn: 12.4787889\ttotal: 890ms\tremaining: 29.4ms\n",
      "968:\tlearn: 12.4463866\ttotal: 891ms\tremaining: 28.5ms\n",
      "969:\tlearn: 12.3919484\ttotal: 892ms\tremaining: 27.6ms\n",
      "970:\tlearn: 12.3583173\ttotal: 893ms\tremaining: 26.7ms\n",
      "971:\tlearn: 12.3430204\ttotal: 893ms\tremaining: 25.7ms\n",
      "972:\tlearn: 12.3036135\ttotal: 894ms\tremaining: 24.8ms\n",
      "973:\tlearn: 12.2785886\ttotal: 895ms\tremaining: 23.9ms\n",
      "974:\tlearn: 12.2424148\ttotal: 896ms\tremaining: 23ms\n",
      "975:\tlearn: 12.2287225\ttotal: 896ms\tremaining: 22ms\n",
      "976:\tlearn: 12.1894056\ttotal: 897ms\tremaining: 21.1ms\n",
      "977:\tlearn: 12.1399699\ttotal: 898ms\tremaining: 20.2ms\n",
      "978:\tlearn: 12.1165698\ttotal: 899ms\tremaining: 19.3ms\n",
      "979:\tlearn: 12.1084930\ttotal: 899ms\tremaining: 18.4ms\n",
      "980:\tlearn: 12.1041455\ttotal: 900ms\tremaining: 17.4ms\n",
      "981:\tlearn: 12.0749440\ttotal: 901ms\tremaining: 16.5ms\n",
      "982:\tlearn: 12.0676323\ttotal: 902ms\tremaining: 15.6ms\n",
      "983:\tlearn: 12.0253491\ttotal: 902ms\tremaining: 14.7ms\n",
      "984:\tlearn: 11.9725269\ttotal: 903ms\tremaining: 13.8ms\n",
      "985:\tlearn: 11.9344239\ttotal: 904ms\tremaining: 12.8ms\n",
      "986:\tlearn: 11.8870660\ttotal: 905ms\tremaining: 11.9ms\n",
      "987:\tlearn: 11.8411099\ttotal: 905ms\tremaining: 11ms\n",
      "988:\tlearn: 11.7973602\ttotal: 906ms\tremaining: 10.1ms\n",
      "989:\tlearn: 11.7514376\ttotal: 907ms\tremaining: 9.16ms\n",
      "990:\tlearn: 11.7232746\ttotal: 908ms\tremaining: 8.24ms\n",
      "991:\tlearn: 11.6852796\ttotal: 908ms\tremaining: 7.33ms\n",
      "992:\tlearn: 11.6463794\ttotal: 909ms\tremaining: 6.41ms\n",
      "993:\tlearn: 11.6106308\ttotal: 910ms\tremaining: 5.49ms\n",
      "994:\tlearn: 11.5731961\ttotal: 911ms\tremaining: 4.58ms\n",
      "995:\tlearn: 11.5417359\ttotal: 912ms\tremaining: 3.66ms\n",
      "996:\tlearn: 11.5167117\ttotal: 912ms\tremaining: 2.75ms\n",
      "997:\tlearn: 11.4745232\ttotal: 913ms\tremaining: 1.83ms\n",
      "998:\tlearn: 11.4604481\ttotal: 914ms\tremaining: 915us\n",
      "999:\tlearn: 11.4510502\ttotal: 915ms\tremaining: 0us\n"
     ]
    }
   ],
   "source": [
    "catbModel = CatBoostRegressor().fit(x_train,y_train)"
   ],
   "metadata": {
    "collapsed": false,
    "ExecuteTime": {
     "end_time": "2024-03-01T15:23:28.401325Z",
     "start_time": "2024-03-01T15:23:27.349317Z"
    }
   },
   "id": "6409fc08cadbb972",
   "execution_count": 23
  },
  {
   "cell_type": "code",
   "outputs": [],
   "source": [
    "yTahmin = catbModel.predict(x_test)"
   ],
   "metadata": {
    "collapsed": false,
    "ExecuteTime": {
     "end_time": "2024-03-01T15:23:30.083215Z",
     "start_time": "2024-03-01T15:23:30.071737Z"
    }
   },
   "id": "d1c482972da647a9",
   "execution_count": 24
  },
  {
   "cell_type": "code",
   "outputs": [],
   "source": [
    "hataKarelerOrtalaması = np.sqrt(mean_squared_error(y_test,yTahmin))"
   ],
   "metadata": {
    "collapsed": false,
    "ExecuteTime": {
     "end_time": "2024-03-01T15:23:31.767361Z",
     "start_time": "2024-03-01T15:23:31.749148Z"
    }
   },
   "id": "f22ba13d114c6cc1",
   "execution_count": 25
  },
  {
   "cell_type": "code",
   "outputs": [
    {
     "data": {
      "text/plain": "351.194631344607"
     },
     "execution_count": 26,
     "metadata": {},
     "output_type": "execute_result"
    }
   ],
   "source": [
    "hataKarelerOrtalaması"
   ],
   "metadata": {
    "collapsed": false,
    "ExecuteTime": {
     "end_time": "2024-03-01T15:23:38.099528Z",
     "start_time": "2024-03-01T15:23:38.092292Z"
    }
   },
   "id": "4f95143915066e15",
   "execution_count": 26
  },
  {
   "cell_type": "markdown",
   "source": [
    "8.2 Model Tuning"
   ],
   "metadata": {
    "collapsed": false
   },
   "id": "dc4612af5c81d71"
  },
  {
   "cell_type": "code",
   "outputs": [],
   "source": [
    "catbParams = {\"iterations\":[200,500,1000],\n",
    "              \"learning_rate\":[0.01,0.1],\n",
    "              \"depth\":[3,6,8]}"
   ],
   "metadata": {
    "collapsed": false,
    "ExecuteTime": {
     "end_time": "2024-03-01T15:23:58.231164Z",
     "start_time": "2024-03-01T15:23:58.217576Z"
    }
   },
   "id": "cd40e4346f44e0ea",
   "execution_count": 28
  },
  {
   "cell_type": "code",
   "outputs": [],
   "source": [
    "catbModel = CatBoostRegressor()"
   ],
   "metadata": {
    "collapsed": false,
    "ExecuteTime": {
     "end_time": "2024-03-01T15:24:20.478818Z",
     "start_time": "2024-03-01T15:24:20.460338Z"
    }
   },
   "id": "112d965380752c77",
   "execution_count": 29
  },
  {
   "cell_type": "code",
   "outputs": [
    {
     "name": "stdout",
     "output_type": "stream",
     "text": [
      "Fitting 10 folds for each of 18 candidates, totalling 180 fits\n",
      "0:\tlearn: 425.7900818\ttotal: 402us\tremaining: 80.1ms\n",
      "1:\tlearn: 404.8723520\ttotal: 930us\tremaining: 92.1ms\n",
      "2:\tlearn: 387.4057666\ttotal: 1.24ms\tremaining: 81.4ms\n",
      "3:\tlearn: 372.2801584\ttotal: 1.53ms\tremaining: 75.2ms\n",
      "4:\tlearn: 358.9204229\ttotal: 1.88ms\tremaining: 73.1ms\n",
      "5:\tlearn: 347.0083933\ttotal: 2.16ms\tremaining: 69.7ms\n",
      "6:\tlearn: 336.0130818\ttotal: 2.44ms\tremaining: 67.4ms\n",
      "7:\tlearn: 324.3923300\ttotal: 2.75ms\tremaining: 66ms\n",
      "8:\tlearn: 314.8690957\ttotal: 3.05ms\tremaining: 64.8ms\n",
      "9:\tlearn: 308.5075563\ttotal: 3.38ms\tremaining: 64.2ms\n",
      "10:\tlearn: 298.8587285\ttotal: 3.65ms\tremaining: 62.8ms\n",
      "11:\tlearn: 294.7655438\ttotal: 3.94ms\tremaining: 61.7ms\n",
      "12:\tlearn: 288.0697862\ttotal: 4.25ms\tremaining: 61.1ms\n",
      "13:\tlearn: 282.6697154\ttotal: 4.53ms\tremaining: 60.1ms\n",
      "14:\tlearn: 277.6121667\ttotal: 4.83ms\tremaining: 59.6ms\n",
      "15:\tlearn: 273.4383979\ttotal: 5.1ms\tremaining: 58.7ms\n",
      "16:\tlearn: 269.1556201\ttotal: 5.36ms\tremaining: 57.7ms\n",
      "17:\tlearn: 264.8098704\ttotal: 5.8ms\tremaining: 58.7ms\n",
      "18:\tlearn: 261.6700768\ttotal: 6.1ms\tremaining: 58.1ms\n",
      "19:\tlearn: 257.3961290\ttotal: 6.47ms\tremaining: 58.2ms\n",
      "20:\tlearn: 252.2691509\ttotal: 6.76ms\tremaining: 57.6ms\n",
      "21:\tlearn: 249.0686482\ttotal: 7.02ms\tremaining: 56.8ms\n",
      "22:\tlearn: 244.1881041\ttotal: 7.3ms\tremaining: 56.2ms\n",
      "23:\tlearn: 242.1696687\ttotal: 7.57ms\tremaining: 55.5ms\n",
      "24:\tlearn: 239.2131476\ttotal: 7.86ms\tremaining: 55ms\n",
      "25:\tlearn: 236.6883901\ttotal: 8.14ms\tremaining: 54.5ms\n",
      "26:\tlearn: 234.5295613\ttotal: 8.4ms\tremaining: 53.8ms\n",
      "27:\tlearn: 231.7788834\ttotal: 8.65ms\tremaining: 53.2ms\n",
      "28:\tlearn: 228.8020330\ttotal: 8.93ms\tremaining: 52.7ms\n",
      "29:\tlearn: 226.8420565\ttotal: 9.28ms\tremaining: 52.6ms\n",
      "30:\tlearn: 224.0686558\ttotal: 9.61ms\tremaining: 52.4ms\n",
      "31:\tlearn: 222.6644699\ttotal: 9.9ms\tremaining: 52ms\n",
      "32:\tlearn: 221.6889573\ttotal: 10.3ms\tremaining: 52ms\n",
      "33:\tlearn: 220.5171653\ttotal: 10.6ms\tremaining: 52ms\n",
      "34:\tlearn: 217.7686033\ttotal: 11ms\tremaining: 51.8ms\n",
      "35:\tlearn: 214.8462789\ttotal: 11.4ms\tremaining: 51.8ms\n",
      "36:\tlearn: 214.4799251\ttotal: 11.7ms\tremaining: 51.5ms\n",
      "37:\tlearn: 212.3480429\ttotal: 12ms\tremaining: 51.3ms\n",
      "38:\tlearn: 210.0040644\ttotal: 12.3ms\tremaining: 50.9ms\n",
      "39:\tlearn: 208.3086913\ttotal: 12.7ms\tremaining: 50.8ms\n",
      "40:\tlearn: 207.5469119\ttotal: 13ms\tremaining: 50.5ms\n",
      "41:\tlearn: 205.9351113\ttotal: 13.4ms\tremaining: 50.4ms\n",
      "42:\tlearn: 205.3580824\ttotal: 13.7ms\tremaining: 50.2ms\n",
      "43:\tlearn: 204.6204266\ttotal: 14.1ms\tremaining: 49.9ms\n",
      "44:\tlearn: 202.5023220\ttotal: 14.4ms\tremaining: 49.7ms\n",
      "45:\tlearn: 201.4347853\ttotal: 14.7ms\tremaining: 49.2ms\n",
      "46:\tlearn: 200.8752553\ttotal: 15.1ms\tremaining: 49.1ms\n",
      "47:\tlearn: 200.4047344\ttotal: 15.4ms\tremaining: 48.6ms\n",
      "48:\tlearn: 197.5433004\ttotal: 15.7ms\tremaining: 48.5ms\n",
      "49:\tlearn: 194.6943292\ttotal: 16.1ms\tremaining: 48.3ms\n",
      "50:\tlearn: 194.3011982\ttotal: 16.6ms\tremaining: 48.4ms\n",
      "51:\tlearn: 193.4011843\ttotal: 16.9ms\tremaining: 48ms\n",
      "52:\tlearn: 193.0109753\ttotal: 17.2ms\tremaining: 47.6ms\n",
      "53:\tlearn: 192.6071142\ttotal: 17.5ms\tremaining: 47.3ms\n",
      "54:\tlearn: 191.9666153\ttotal: 17.8ms\tremaining: 46.9ms\n",
      "55:\tlearn: 191.5789727\ttotal: 18.1ms\tremaining: 46.6ms\n",
      "56:\tlearn: 190.7186284\ttotal: 18.5ms\tremaining: 46.3ms\n",
      "57:\tlearn: 190.4543087\ttotal: 18.7ms\tremaining: 45.8ms\n",
      "58:\tlearn: 190.1336317\ttotal: 19.1ms\tremaining: 45.6ms\n",
      "59:\tlearn: 188.2286484\ttotal: 19.4ms\tremaining: 45.3ms\n",
      "60:\tlearn: 187.7652417\ttotal: 19.8ms\tremaining: 45ms\n",
      "61:\tlearn: 187.4227950\ttotal: 20.1ms\tremaining: 44.8ms\n",
      "62:\tlearn: 186.9289182\ttotal: 20.5ms\tremaining: 44.5ms\n",
      "63:\tlearn: 185.2993487\ttotal: 20.8ms\tremaining: 44.2ms\n",
      "64:\tlearn: 185.0349598\ttotal: 21.2ms\tremaining: 44ms\n",
      "65:\tlearn: 183.9773430\ttotal: 21.5ms\tremaining: 43.7ms\n",
      "66:\tlearn: 183.4463166\ttotal: 21.9ms\tremaining: 43.4ms\n",
      "67:\tlearn: 181.6627740\ttotal: 22.2ms\tremaining: 43.1ms\n",
      "68:\tlearn: 179.8785055\ttotal: 22.6ms\tremaining: 42.9ms\n",
      "69:\tlearn: 179.6737527\ttotal: 23ms\tremaining: 42.7ms\n",
      "70:\tlearn: 177.0830981\ttotal: 23.4ms\tremaining: 42.4ms\n",
      "71:\tlearn: 176.5917790\ttotal: 23.7ms\tremaining: 42.1ms\n",
      "72:\tlearn: 176.1240502\ttotal: 24ms\tremaining: 41.8ms\n",
      "73:\tlearn: 174.4828953\ttotal: 24.4ms\tremaining: 41.5ms\n",
      "74:\tlearn: 173.4220482\ttotal: 24.7ms\tremaining: 41.2ms\n",
      "75:\tlearn: 171.9903405\ttotal: 25.1ms\tremaining: 40.9ms\n",
      "76:\tlearn: 171.5803116\ttotal: 25.4ms\tremaining: 40.5ms\n",
      "77:\tlearn: 170.1411594\ttotal: 25.6ms\tremaining: 40.1ms\n",
      "78:\tlearn: 167.9868133\ttotal: 26ms\tremaining: 39.8ms\n",
      "79:\tlearn: 166.5304475\ttotal: 26.4ms\tremaining: 39.6ms\n",
      "80:\tlearn: 166.1741622\ttotal: 26.7ms\tremaining: 39.2ms\n",
      "81:\tlearn: 165.8411762\ttotal: 27ms\tremaining: 38.9ms\n",
      "82:\tlearn: 165.1041583\ttotal: 27.3ms\tremaining: 38.5ms\n",
      "83:\tlearn: 163.5641543\ttotal: 27.6ms\tremaining: 38.1ms\n",
      "84:\tlearn: 163.2003311\ttotal: 27.9ms\tremaining: 37.8ms\n",
      "85:\tlearn: 161.1781702\ttotal: 28.2ms\tremaining: 37.4ms\n",
      "86:\tlearn: 160.8727658\ttotal: 28.6ms\tremaining: 37.1ms\n",
      "87:\tlearn: 159.7954077\ttotal: 28.9ms\tremaining: 36.7ms\n",
      "88:\tlearn: 158.8759132\ttotal: 29.2ms\tremaining: 36.4ms\n",
      "89:\tlearn: 158.4831323\ttotal: 29.5ms\tremaining: 36ms\n",
      "90:\tlearn: 157.4808127\ttotal: 29.8ms\tremaining: 35.6ms\n",
      "91:\tlearn: 157.1703230\ttotal: 30.1ms\tremaining: 35.3ms\n",
      "92:\tlearn: 155.3184755\ttotal: 30.4ms\tremaining: 34.9ms\n",
      "93:\tlearn: 154.3988879\ttotal: 30.7ms\tremaining: 34.6ms\n",
      "94:\tlearn: 153.4591935\ttotal: 31ms\tremaining: 34.2ms\n",
      "95:\tlearn: 153.1206893\ttotal: 31.3ms\tremaining: 34ms\n",
      "96:\tlearn: 152.7897351\ttotal: 31.7ms\tremaining: 33.6ms\n",
      "97:\tlearn: 150.9293164\ttotal: 32ms\tremaining: 33.4ms\n",
      "98:\tlearn: 149.7127171\ttotal: 32.4ms\tremaining: 33ms\n",
      "99:\tlearn: 149.5089324\ttotal: 32.7ms\tremaining: 32.7ms\n",
      "100:\tlearn: 149.3156312\ttotal: 32.9ms\tremaining: 32.3ms\n",
      "101:\tlearn: 147.7226718\ttotal: 33.3ms\tremaining: 32ms\n",
      "102:\tlearn: 146.7692282\ttotal: 33.5ms\tremaining: 31.6ms\n",
      "103:\tlearn: 145.9084983\ttotal: 33.8ms\tremaining: 31.2ms\n",
      "104:\tlearn: 144.8780979\ttotal: 34.1ms\tremaining: 30.9ms\n",
      "105:\tlearn: 143.8090268\ttotal: 34.4ms\tremaining: 30.5ms\n",
      "106:\tlearn: 143.1272551\ttotal: 34.8ms\tremaining: 30.2ms\n",
      "107:\tlearn: 142.4863018\ttotal: 35.1ms\tremaining: 29.9ms\n",
      "108:\tlearn: 141.4861279\ttotal: 35.4ms\tremaining: 29.5ms\n",
      "109:\tlearn: 140.8689530\ttotal: 35.7ms\tremaining: 29.2ms\n",
      "110:\tlearn: 140.4009570\ttotal: 36.1ms\tremaining: 29ms\n",
      "111:\tlearn: 140.0344439\ttotal: 36.6ms\tremaining: 28.8ms\n",
      "112:\tlearn: 139.4290096\ttotal: 37.1ms\tremaining: 28.5ms\n",
      "113:\tlearn: 139.2008874\ttotal: 37.4ms\tremaining: 28.2ms\n",
      "114:\tlearn: 138.6000188\ttotal: 37.7ms\tremaining: 27.9ms\n",
      "115:\tlearn: 138.3962706\ttotal: 38.1ms\tremaining: 27.6ms\n",
      "116:\tlearn: 138.1737256\ttotal: 38.4ms\tremaining: 27.2ms\n",
      "117:\tlearn: 137.6342361\ttotal: 38.7ms\tremaining: 26.9ms\n",
      "118:\tlearn: 136.7119826\ttotal: 39ms\tremaining: 26.5ms\n",
      "119:\tlearn: 135.3057402\ttotal: 39.3ms\tremaining: 26.2ms\n",
      "120:\tlearn: 134.4797815\ttotal: 39.6ms\tremaining: 25.9ms\n",
      "121:\tlearn: 133.0774331\ttotal: 40ms\tremaining: 25.5ms\n",
      "122:\tlearn: 131.8739238\ttotal: 40.3ms\tremaining: 25.2ms\n",
      "123:\tlearn: 131.3203837\ttotal: 40.6ms\tremaining: 24.9ms\n",
      "124:\tlearn: 130.8294604\ttotal: 40.9ms\tremaining: 24.5ms\n",
      "125:\tlearn: 130.6107905\ttotal: 41.3ms\tremaining: 24.3ms\n",
      "126:\tlearn: 130.1614924\ttotal: 41.6ms\tremaining: 23.9ms\n",
      "127:\tlearn: 129.3166972\ttotal: 41.9ms\tremaining: 23.6ms\n",
      "128:\tlearn: 129.1038672\ttotal: 42.2ms\tremaining: 23.3ms\n",
      "129:\tlearn: 128.9594874\ttotal: 42.6ms\tremaining: 22.9ms\n",
      "130:\tlearn: 128.1849638\ttotal: 42.9ms\tremaining: 22.6ms\n",
      "131:\tlearn: 128.0307033\ttotal: 43.2ms\tremaining: 22.3ms\n",
      "132:\tlearn: 127.3373882\ttotal: 43.6ms\tremaining: 21.9ms\n",
      "133:\tlearn: 126.2856989\ttotal: 43.9ms\tremaining: 21.6ms\n",
      "134:\tlearn: 126.1379832\ttotal: 44.2ms\tremaining: 21.3ms\n",
      "135:\tlearn: 126.0180019\ttotal: 44.5ms\tremaining: 20.9ms\n",
      "136:\tlearn: 125.8843963\ttotal: 44.9ms\tremaining: 20.6ms\n",
      "137:\tlearn: 125.7576333\ttotal: 45.2ms\tremaining: 20.3ms\n",
      "138:\tlearn: 125.4794581\ttotal: 45.5ms\tremaining: 20ms\n",
      "139:\tlearn: 124.7920270\ttotal: 45.8ms\tremaining: 19.6ms\n",
      "140:\tlearn: 124.6530278\ttotal: 46.1ms\tremaining: 19.3ms\n",
      "141:\tlearn: 123.4539010\ttotal: 46.4ms\tremaining: 18.9ms\n",
      "142:\tlearn: 122.8980001\ttotal: 46.7ms\tremaining: 18.6ms\n",
      "143:\tlearn: 122.0911177\ttotal: 47.1ms\tremaining: 18.3ms\n",
      "144:\tlearn: 121.1209154\ttotal: 47.4ms\tremaining: 18ms\n",
      "145:\tlearn: 120.1613553\ttotal: 47.7ms\tremaining: 17.6ms\n",
      "146:\tlearn: 119.1894727\ttotal: 48ms\tremaining: 17.3ms\n",
      "147:\tlearn: 118.0325732\ttotal: 48.4ms\tremaining: 17ms\n",
      "148:\tlearn: 117.9138240\ttotal: 48.7ms\tremaining: 16.7ms\n",
      "149:\tlearn: 117.3831462\ttotal: 49ms\tremaining: 16.3ms\n",
      "150:\tlearn: 116.8475244\ttotal: 49.4ms\tremaining: 16ms\n",
      "151:\tlearn: 116.3821954\ttotal: 49.7ms\tremaining: 15.7ms\n",
      "152:\tlearn: 115.5293176\ttotal: 50ms\tremaining: 15.4ms\n",
      "153:\tlearn: 115.0975175\ttotal: 50.3ms\tremaining: 15ms\n",
      "154:\tlearn: 114.0649594\ttotal: 50.6ms\tremaining: 14.7ms\n",
      "155:\tlearn: 113.2562326\ttotal: 50.8ms\tremaining: 14.3ms\n",
      "156:\tlearn: 112.7557871\ttotal: 51.1ms\tremaining: 14ms\n",
      "157:\tlearn: 112.5657565\ttotal: 51.4ms\tremaining: 13.7ms\n",
      "158:\tlearn: 112.3541525\ttotal: 51.8ms\tremaining: 13.4ms\n",
      "159:\tlearn: 111.8527982\ttotal: 52.1ms\tremaining: 13ms\n",
      "160:\tlearn: 111.1619644\ttotal: 52.4ms\tremaining: 12.7ms\n",
      "161:\tlearn: 110.3588257\ttotal: 52.7ms\tremaining: 12.4ms\n",
      "162:\tlearn: 109.6664293\ttotal: 53ms\tremaining: 12ms\n",
      "163:\tlearn: 109.5577303\ttotal: 53.3ms\tremaining: 11.7ms\n",
      "164:\tlearn: 109.0570285\ttotal: 53.6ms\tremaining: 11.4ms\n",
      "165:\tlearn: 108.7601467\ttotal: 53.9ms\tremaining: 11ms\n",
      "166:\tlearn: 108.0448620\ttotal: 54.2ms\tremaining: 10.7ms\n",
      "167:\tlearn: 107.5593372\ttotal: 54.5ms\tremaining: 10.4ms\n",
      "168:\tlearn: 106.3862999\ttotal: 54.8ms\tremaining: 10.1ms\n",
      "169:\tlearn: 106.2180807\ttotal: 55.2ms\tremaining: 9.73ms\n",
      "170:\tlearn: 106.0695603\ttotal: 55.4ms\tremaining: 9.4ms\n",
      "171:\tlearn: 105.6940213\ttotal: 55.7ms\tremaining: 9.07ms\n",
      "172:\tlearn: 104.7598987\ttotal: 56ms\tremaining: 8.74ms\n",
      "173:\tlearn: 104.6589992\ttotal: 56.3ms\tremaining: 8.42ms\n",
      "174:\tlearn: 103.7203657\ttotal: 56.7ms\tremaining: 8.1ms\n",
      "175:\tlearn: 103.2660987\ttotal: 57ms\tremaining: 7.78ms\n",
      "176:\tlearn: 103.0926213\ttotal: 57.3ms\tremaining: 7.45ms\n",
      "177:\tlearn: 102.6925209\ttotal: 57.6ms\tremaining: 7.12ms\n",
      "178:\tlearn: 102.1655154\ttotal: 57.9ms\tremaining: 6.79ms\n",
      "179:\tlearn: 101.8273108\ttotal: 58.2ms\tremaining: 6.46ms\n",
      "180:\tlearn: 101.7264515\ttotal: 58.5ms\tremaining: 6.14ms\n",
      "181:\tlearn: 101.1102333\ttotal: 58.7ms\tremaining: 5.81ms\n",
      "182:\tlearn: 100.7880364\ttotal: 59ms\tremaining: 5.48ms\n",
      "183:\tlearn: 100.6673014\ttotal: 59.3ms\tremaining: 5.16ms\n",
      "184:\tlearn: 100.0153055\ttotal: 59.6ms\tremaining: 4.83ms\n",
      "185:\tlearn: 99.7667281\ttotal: 59.9ms\tremaining: 4.51ms\n",
      "186:\tlearn: 99.1860593\ttotal: 60.2ms\tremaining: 4.18ms\n",
      "187:\tlearn: 99.0408133\ttotal: 60.5ms\tremaining: 3.86ms\n",
      "188:\tlearn: 98.9030718\ttotal: 60.8ms\tremaining: 3.54ms\n",
      "189:\tlearn: 97.4513860\ttotal: 61.1ms\tremaining: 3.22ms\n",
      "190:\tlearn: 97.3322959\ttotal: 61.4ms\tremaining: 2.89ms\n",
      "191:\tlearn: 97.1950848\ttotal: 61.7ms\tremaining: 2.57ms\n",
      "192:\tlearn: 96.6789532\ttotal: 62ms\tremaining: 2.25ms\n",
      "193:\tlearn: 96.5506179\ttotal: 62.4ms\tremaining: 1.93ms\n",
      "194:\tlearn: 95.6635039\ttotal: 62.6ms\tremaining: 1.61ms\n",
      "195:\tlearn: 94.8850777\ttotal: 63ms\tremaining: 1.28ms\n",
      "196:\tlearn: 94.1624589\ttotal: 63.3ms\tremaining: 964us\n",
      "197:\tlearn: 93.8220662\ttotal: 63.6ms\tremaining: 642us\n",
      "198:\tlearn: 93.7300351\ttotal: 63.9ms\tremaining: 321us\n",
      "199:\tlearn: 93.3339522\ttotal: 64.2ms\tremaining: 0us\n"
     ]
    }
   ],
   "source": [
    "catbCvModel = GridSearchCV(catbModel,catbParams,cv=10,n_jobs=-1,verbose=2).fit(x_train,y_train)"
   ],
   "metadata": {
    "collapsed": false,
    "ExecuteTime": {
     "end_time": "2024-03-01T15:27:10.909708Z",
     "start_time": "2024-03-01T15:25:49.277609Z"
    }
   },
   "id": "8f84d1768696d2e8",
   "execution_count": 33
  },
  {
   "cell_type": "code",
   "outputs": [
    {
     "data": {
      "text/plain": "{'depth': 3, 'iterations': 200, 'learning_rate': 0.1}"
     },
     "execution_count": 34,
     "metadata": {},
     "output_type": "execute_result"
    }
   ],
   "source": [
    "catbCvModel.best_params_"
   ],
   "metadata": {
    "collapsed": false,
    "ExecuteTime": {
     "end_time": "2024-03-01T15:27:10.925172Z",
     "start_time": "2024-03-01T15:27:10.911703Z"
    }
   },
   "id": "759800474d6911cd",
   "execution_count": 34
  },
  {
   "cell_type": "code",
   "outputs": [
    {
     "name": "stdout",
     "output_type": "stream",
     "text": [
      "0:\tlearn: 425.7900818\ttotal: 567us\tremaining: 113ms\n",
      "1:\tlearn: 404.8723520\ttotal: 1.08ms\tremaining: 107ms\n",
      "2:\tlearn: 387.4057666\ttotal: 1.41ms\tremaining: 92.3ms\n",
      "3:\tlearn: 372.2801584\ttotal: 1.7ms\tremaining: 83.3ms\n",
      "4:\tlearn: 358.9204229\ttotal: 2.02ms\tremaining: 78.8ms\n",
      "5:\tlearn: 347.0083933\ttotal: 2.31ms\tremaining: 74.6ms\n",
      "6:\tlearn: 336.0130818\ttotal: 2.64ms\tremaining: 72.7ms\n",
      "7:\tlearn: 324.3923300\ttotal: 2.93ms\tremaining: 70.3ms\n",
      "8:\tlearn: 314.8690957\ttotal: 3.26ms\tremaining: 69.1ms\n",
      "9:\tlearn: 308.5075563\ttotal: 3.58ms\tremaining: 68ms\n",
      "10:\tlearn: 298.8587285\ttotal: 3.87ms\tremaining: 66.5ms\n",
      "11:\tlearn: 294.7655438\ttotal: 4.18ms\tremaining: 65.5ms\n",
      "12:\tlearn: 288.0697862\ttotal: 4.49ms\tremaining: 64.5ms\n",
      "13:\tlearn: 282.6697154\ttotal: 4.8ms\tremaining: 63.8ms\n",
      "14:\tlearn: 277.6121667\ttotal: 5.09ms\tremaining: 62.8ms\n",
      "15:\tlearn: 273.4383979\ttotal: 5.37ms\tremaining: 61.8ms\n",
      "16:\tlearn: 269.1556201\ttotal: 5.7ms\tremaining: 61.4ms\n",
      "17:\tlearn: 264.8098704\ttotal: 6.05ms\tremaining: 61.2ms\n",
      "18:\tlearn: 261.6700768\ttotal: 6.38ms\tremaining: 60.8ms\n",
      "19:\tlearn: 257.3961290\ttotal: 6.7ms\tremaining: 60.3ms\n",
      "20:\tlearn: 252.2691509\ttotal: 7ms\tremaining: 59.7ms\n",
      "21:\tlearn: 249.0686482\ttotal: 7.32ms\tremaining: 59.2ms\n",
      "22:\tlearn: 244.1881041\ttotal: 7.71ms\tremaining: 59.4ms\n",
      "23:\tlearn: 242.1696687\ttotal: 8.03ms\tremaining: 58.9ms\n",
      "24:\tlearn: 239.2131476\ttotal: 8.33ms\tremaining: 58.3ms\n",
      "25:\tlearn: 236.6883901\ttotal: 8.66ms\tremaining: 58ms\n",
      "26:\tlearn: 234.5295613\ttotal: 8.97ms\tremaining: 57.5ms\n",
      "27:\tlearn: 231.7788834\ttotal: 9.36ms\tremaining: 57.5ms\n",
      "28:\tlearn: 228.8020330\ttotal: 9.7ms\tremaining: 57.2ms\n",
      "29:\tlearn: 226.8420565\ttotal: 10.1ms\tremaining: 57.2ms\n",
      "30:\tlearn: 224.0686558\ttotal: 10.5ms\tremaining: 57.3ms\n",
      "31:\tlearn: 222.6644699\ttotal: 10.8ms\tremaining: 56.9ms\n",
      "32:\tlearn: 221.6889573\ttotal: 11.2ms\tremaining: 56.6ms\n",
      "33:\tlearn: 220.5171653\ttotal: 11.5ms\tremaining: 56.3ms\n",
      "34:\tlearn: 217.7686033\ttotal: 11.9ms\tremaining: 55.9ms\n",
      "35:\tlearn: 214.8462789\ttotal: 12.3ms\tremaining: 56ms\n",
      "36:\tlearn: 214.4799251\ttotal: 12.6ms\tremaining: 55.7ms\n",
      "37:\tlearn: 212.3480429\ttotal: 12.9ms\tremaining: 55.1ms\n",
      "38:\tlearn: 210.0040644\ttotal: 13.2ms\tremaining: 54.7ms\n",
      "39:\tlearn: 208.3086913\ttotal: 13.6ms\tremaining: 54.3ms\n",
      "40:\tlearn: 207.5469119\ttotal: 13.9ms\tremaining: 54.1ms\n",
      "41:\tlearn: 205.9351113\ttotal: 14.3ms\tremaining: 53.7ms\n",
      "42:\tlearn: 205.3580824\ttotal: 14.6ms\tremaining: 53.3ms\n",
      "43:\tlearn: 204.6204266\ttotal: 14.9ms\tremaining: 53ms\n",
      "44:\tlearn: 202.5023220\ttotal: 15.3ms\tremaining: 52.6ms\n",
      "45:\tlearn: 201.4347853\ttotal: 15.6ms\tremaining: 52.3ms\n",
      "46:\tlearn: 200.8752553\ttotal: 15.9ms\tremaining: 51.9ms\n",
      "47:\tlearn: 200.4047344\ttotal: 16.2ms\tremaining: 51.4ms\n",
      "48:\tlearn: 197.5433004\ttotal: 16.5ms\tremaining: 51ms\n",
      "49:\tlearn: 194.6943292\ttotal: 16.9ms\tremaining: 50.6ms\n",
      "50:\tlearn: 194.3011982\ttotal: 17.2ms\tremaining: 50.3ms\n",
      "51:\tlearn: 193.4011843\ttotal: 17.5ms\tremaining: 49.9ms\n",
      "52:\tlearn: 193.0109753\ttotal: 17.9ms\tremaining: 49.6ms\n",
      "53:\tlearn: 192.6071142\ttotal: 18.2ms\tremaining: 49.3ms\n",
      "54:\tlearn: 191.9666153\ttotal: 18.5ms\tremaining: 48.9ms\n",
      "55:\tlearn: 191.5789727\ttotal: 18.8ms\tremaining: 48.4ms\n",
      "56:\tlearn: 190.7186284\ttotal: 19.1ms\tremaining: 48ms\n",
      "57:\tlearn: 190.4543087\ttotal: 19.4ms\tremaining: 47.6ms\n",
      "58:\tlearn: 190.1336317\ttotal: 19.8ms\tremaining: 47.3ms\n",
      "59:\tlearn: 188.2286484\ttotal: 20.1ms\tremaining: 46.9ms\n",
      "60:\tlearn: 187.7652417\ttotal: 20.4ms\tremaining: 46.5ms\n",
      "61:\tlearn: 187.4227950\ttotal: 20.7ms\tremaining: 46.1ms\n",
      "62:\tlearn: 186.9289182\ttotal: 21.1ms\tremaining: 45.9ms\n",
      "63:\tlearn: 185.2993487\ttotal: 21.4ms\tremaining: 45.5ms\n",
      "64:\tlearn: 185.0349598\ttotal: 21.7ms\tremaining: 45.1ms\n",
      "65:\tlearn: 183.9773430\ttotal: 22.1ms\tremaining: 44.8ms\n",
      "66:\tlearn: 183.4463166\ttotal: 22.4ms\tremaining: 44.5ms\n",
      "67:\tlearn: 181.6627740\ttotal: 22.7ms\tremaining: 44.1ms\n",
      "68:\tlearn: 179.8785055\ttotal: 23.1ms\tremaining: 43.8ms\n",
      "69:\tlearn: 179.6737527\ttotal: 23.4ms\tremaining: 43.5ms\n",
      "70:\tlearn: 177.0830981\ttotal: 23.7ms\tremaining: 43.1ms\n",
      "71:\tlearn: 176.5917790\ttotal: 24.1ms\tremaining: 42.8ms\n",
      "72:\tlearn: 176.1240502\ttotal: 24.4ms\tremaining: 42.4ms\n",
      "73:\tlearn: 174.4828953\ttotal: 24.7ms\tremaining: 42ms\n",
      "74:\tlearn: 173.4220482\ttotal: 25ms\tremaining: 41.6ms\n",
      "75:\tlearn: 171.9903405\ttotal: 25.3ms\tremaining: 41.3ms\n",
      "76:\tlearn: 171.5803116\ttotal: 25.7ms\tremaining: 41ms\n",
      "77:\tlearn: 170.1411594\ttotal: 26ms\tremaining: 40.6ms\n",
      "78:\tlearn: 167.9868133\ttotal: 26.3ms\tremaining: 40.3ms\n",
      "79:\tlearn: 166.5304475\ttotal: 26.7ms\tremaining: 40.1ms\n",
      "80:\tlearn: 166.1741622\ttotal: 27.1ms\tremaining: 39.9ms\n",
      "81:\tlearn: 165.8411762\ttotal: 27.5ms\tremaining: 39.5ms\n",
      "82:\tlearn: 165.1041583\ttotal: 27.8ms\tremaining: 39.1ms\n",
      "83:\tlearn: 163.5641543\ttotal: 28.1ms\tremaining: 38.8ms\n",
      "84:\tlearn: 163.2003311\ttotal: 28.4ms\tremaining: 38.4ms\n",
      "85:\tlearn: 161.1781702\ttotal: 28.7ms\tremaining: 38.1ms\n",
      "86:\tlearn: 160.8727658\ttotal: 29ms\tremaining: 37.7ms\n",
      "87:\tlearn: 159.7954077\ttotal: 29.3ms\tremaining: 37.3ms\n",
      "88:\tlearn: 158.8759132\ttotal: 29.6ms\tremaining: 37ms\n",
      "89:\tlearn: 158.4831323\ttotal: 30ms\tremaining: 36.6ms\n",
      "90:\tlearn: 157.4808127\ttotal: 30.3ms\tremaining: 36.3ms\n",
      "91:\tlearn: 157.1703230\ttotal: 30.6ms\tremaining: 35.9ms\n",
      "92:\tlearn: 155.3184755\ttotal: 30.9ms\tremaining: 35.5ms\n",
      "93:\tlearn: 154.3988879\ttotal: 31.2ms\tremaining: 35.2ms\n",
      "94:\tlearn: 153.4591935\ttotal: 31.6ms\tremaining: 34.9ms\n",
      "95:\tlearn: 153.1206893\ttotal: 31.9ms\tremaining: 34.6ms\n",
      "96:\tlearn: 152.7897351\ttotal: 32.2ms\tremaining: 34.2ms\n",
      "97:\tlearn: 150.9293164\ttotal: 32.6ms\tremaining: 33.9ms\n",
      "98:\tlearn: 149.7127171\ttotal: 32.9ms\tremaining: 33.6ms\n",
      "99:\tlearn: 149.5089324\ttotal: 33.2ms\tremaining: 33.2ms\n",
      "100:\tlearn: 149.3156312\ttotal: 33.5ms\tremaining: 32.9ms\n",
      "101:\tlearn: 147.7226718\ttotal: 33.8ms\tremaining: 32.5ms\n",
      "102:\tlearn: 146.7692282\ttotal: 34.1ms\tremaining: 32.1ms\n",
      "103:\tlearn: 145.9084983\ttotal: 34.5ms\tremaining: 31.8ms\n",
      "104:\tlearn: 144.8780979\ttotal: 34.8ms\tremaining: 31.5ms\n",
      "105:\tlearn: 143.8090268\ttotal: 35.1ms\tremaining: 31.1ms\n",
      "106:\tlearn: 143.1272551\ttotal: 35.5ms\tremaining: 30.8ms\n",
      "107:\tlearn: 142.4863018\ttotal: 35.8ms\tremaining: 30.5ms\n",
      "108:\tlearn: 141.4861279\ttotal: 36.1ms\tremaining: 30.2ms\n",
      "109:\tlearn: 140.8689530\ttotal: 36.5ms\tremaining: 29.9ms\n",
      "110:\tlearn: 140.4009570\ttotal: 36.8ms\tremaining: 29.5ms\n",
      "111:\tlearn: 140.0344439\ttotal: 37.1ms\tremaining: 29.2ms\n",
      "112:\tlearn: 139.4290096\ttotal: 37.5ms\tremaining: 28.9ms\n",
      "113:\tlearn: 139.2008874\ttotal: 37.9ms\tremaining: 28.6ms\n",
      "114:\tlearn: 138.6000188\ttotal: 38.1ms\tremaining: 28.2ms\n",
      "115:\tlearn: 138.3962706\ttotal: 38.5ms\tremaining: 27.9ms\n",
      "116:\tlearn: 138.1737256\ttotal: 38.8ms\tremaining: 27.5ms\n",
      "117:\tlearn: 137.6342361\ttotal: 39.2ms\tremaining: 27.2ms\n",
      "118:\tlearn: 136.7119826\ttotal: 39.5ms\tremaining: 26.9ms\n",
      "119:\tlearn: 135.3057402\ttotal: 39.8ms\tremaining: 26.5ms\n",
      "120:\tlearn: 134.4797815\ttotal: 40.2ms\tremaining: 26.2ms\n",
      "121:\tlearn: 133.0774331\ttotal: 40.5ms\tremaining: 25.9ms\n",
      "122:\tlearn: 131.8739238\ttotal: 41ms\tremaining: 25.6ms\n",
      "123:\tlearn: 131.3203837\ttotal: 41.3ms\tremaining: 25.3ms\n",
      "124:\tlearn: 130.8294604\ttotal: 41.7ms\tremaining: 25ms\n",
      "125:\tlearn: 130.6107905\ttotal: 42ms\tremaining: 24.7ms\n",
      "126:\tlearn: 130.1614924\ttotal: 42.4ms\tremaining: 24.4ms\n",
      "127:\tlearn: 129.3166972\ttotal: 42.7ms\tremaining: 24ms\n",
      "128:\tlearn: 129.1038672\ttotal: 43ms\tremaining: 23.7ms\n",
      "129:\tlearn: 128.9594874\ttotal: 43.3ms\tremaining: 23.3ms\n",
      "130:\tlearn: 128.1849638\ttotal: 43.6ms\tremaining: 23ms\n",
      "131:\tlearn: 128.0307033\ttotal: 44ms\tremaining: 22.7ms\n",
      "132:\tlearn: 127.3373882\ttotal: 44.3ms\tremaining: 22.3ms\n",
      "133:\tlearn: 126.2856989\ttotal: 44.6ms\tremaining: 22ms\n",
      "134:\tlearn: 126.1379832\ttotal: 44.9ms\tremaining: 21.6ms\n",
      "135:\tlearn: 126.0180019\ttotal: 45.3ms\tremaining: 21.3ms\n",
      "136:\tlearn: 125.8843963\ttotal: 45.6ms\tremaining: 21ms\n",
      "137:\tlearn: 125.7576333\ttotal: 45.9ms\tremaining: 20.6ms\n",
      "138:\tlearn: 125.4794581\ttotal: 46.2ms\tremaining: 20.3ms\n",
      "139:\tlearn: 124.7920270\ttotal: 46.7ms\tremaining: 20ms\n",
      "140:\tlearn: 124.6530278\ttotal: 47ms\tremaining: 19.7ms\n",
      "141:\tlearn: 123.4539010\ttotal: 47.4ms\tremaining: 19.3ms\n",
      "142:\tlearn: 122.8980001\ttotal: 47.7ms\tremaining: 19ms\n",
      "143:\tlearn: 122.0911177\ttotal: 48ms\tremaining: 18.7ms\n",
      "144:\tlearn: 121.1209154\ttotal: 48.4ms\tremaining: 18.4ms\n",
      "145:\tlearn: 120.1613553\ttotal: 48.7ms\tremaining: 18ms\n",
      "146:\tlearn: 119.1894727\ttotal: 49.1ms\tremaining: 17.7ms\n",
      "147:\tlearn: 118.0325732\ttotal: 49.4ms\tremaining: 17.4ms\n",
      "148:\tlearn: 117.9138240\ttotal: 49.7ms\tremaining: 17ms\n",
      "149:\tlearn: 117.3831462\ttotal: 50.1ms\tremaining: 16.7ms\n",
      "150:\tlearn: 116.8475244\ttotal: 50.4ms\tremaining: 16.4ms\n",
      "151:\tlearn: 116.3821954\ttotal: 50.7ms\tremaining: 16ms\n",
      "152:\tlearn: 115.5293176\ttotal: 51.1ms\tremaining: 15.7ms\n",
      "153:\tlearn: 115.0975175\ttotal: 51.4ms\tremaining: 15.3ms\n",
      "154:\tlearn: 114.0649594\ttotal: 51.7ms\tremaining: 15ms\n",
      "155:\tlearn: 113.2562326\ttotal: 52ms\tremaining: 14.7ms\n",
      "156:\tlearn: 112.7557871\ttotal: 52.3ms\tremaining: 14.3ms\n",
      "157:\tlearn: 112.5657565\ttotal: 52.6ms\tremaining: 14ms\n",
      "158:\tlearn: 112.3541525\ttotal: 52.9ms\tremaining: 13.6ms\n",
      "159:\tlearn: 111.8527982\ttotal: 53.2ms\tremaining: 13.3ms\n",
      "160:\tlearn: 111.1619644\ttotal: 53.5ms\tremaining: 13ms\n",
      "161:\tlearn: 110.3588257\ttotal: 53.9ms\tremaining: 12.6ms\n",
      "162:\tlearn: 109.6664293\ttotal: 54.2ms\tremaining: 12.3ms\n",
      "163:\tlearn: 109.5577303\ttotal: 54.6ms\tremaining: 12ms\n",
      "164:\tlearn: 109.0570285\ttotal: 54.9ms\tremaining: 11.7ms\n",
      "165:\tlearn: 108.7601467\ttotal: 55.3ms\tremaining: 11.3ms\n",
      "166:\tlearn: 108.0448620\ttotal: 55.6ms\tremaining: 11ms\n",
      "167:\tlearn: 107.5593372\ttotal: 56ms\tremaining: 10.7ms\n",
      "168:\tlearn: 106.3862999\ttotal: 56.3ms\tremaining: 10.3ms\n",
      "169:\tlearn: 106.2180807\ttotal: 56.7ms\tremaining: 10ms\n",
      "170:\tlearn: 106.0695603\ttotal: 57.1ms\tremaining: 9.68ms\n",
      "171:\tlearn: 105.6940213\ttotal: 57.5ms\tremaining: 9.36ms\n",
      "172:\tlearn: 104.7598987\ttotal: 57.8ms\tremaining: 9.03ms\n",
      "173:\tlearn: 104.6589992\ttotal: 58.2ms\tremaining: 8.69ms\n",
      "174:\tlearn: 103.7203657\ttotal: 58.6ms\tremaining: 8.37ms\n",
      "175:\tlearn: 103.2660987\ttotal: 59ms\tremaining: 8.04ms\n",
      "176:\tlearn: 103.0926213\ttotal: 59.3ms\tremaining: 7.7ms\n",
      "177:\tlearn: 102.6925209\ttotal: 60ms\tremaining: 7.42ms\n",
      "178:\tlearn: 102.1655154\ttotal: 60.4ms\tremaining: 7.09ms\n",
      "179:\tlearn: 101.8273108\ttotal: 60.8ms\tremaining: 6.75ms\n",
      "180:\tlearn: 101.7264515\ttotal: 61.2ms\tremaining: 6.42ms\n",
      "181:\tlearn: 101.1102333\ttotal: 61.5ms\tremaining: 6.08ms\n",
      "182:\tlearn: 100.7880364\ttotal: 61.8ms\tremaining: 5.74ms\n",
      "183:\tlearn: 100.6673014\ttotal: 62.2ms\tremaining: 5.41ms\n",
      "184:\tlearn: 100.0153055\ttotal: 62.6ms\tremaining: 5.07ms\n",
      "185:\tlearn: 99.7667281\ttotal: 62.9ms\tremaining: 4.73ms\n",
      "186:\tlearn: 99.1860593\ttotal: 63.2ms\tremaining: 4.39ms\n",
      "187:\tlearn: 99.0408133\ttotal: 63.5ms\tremaining: 4.05ms\n",
      "188:\tlearn: 98.9030718\ttotal: 63.8ms\tremaining: 3.71ms\n",
      "189:\tlearn: 97.4513860\ttotal: 64.1ms\tremaining: 3.38ms\n",
      "190:\tlearn: 97.3322959\ttotal: 64.5ms\tremaining: 3.04ms\n",
      "191:\tlearn: 97.1950848\ttotal: 64.8ms\tremaining: 2.7ms\n",
      "192:\tlearn: 96.6789532\ttotal: 65.1ms\tremaining: 2.36ms\n",
      "193:\tlearn: 96.5506179\ttotal: 65.5ms\tremaining: 2.03ms\n",
      "194:\tlearn: 95.6635039\ttotal: 65.9ms\tremaining: 1.69ms\n",
      "195:\tlearn: 94.8850777\ttotal: 66.3ms\tremaining: 1.35ms\n",
      "196:\tlearn: 94.1624589\ttotal: 66.6ms\tremaining: 1.01ms\n",
      "197:\tlearn: 93.8220662\ttotal: 67ms\tremaining: 677us\n",
      "198:\tlearn: 93.7300351\ttotal: 67.4ms\tremaining: 338us\n",
      "199:\tlearn: 93.3339522\ttotal: 67.7ms\tremaining: 0us\n"
     ]
    }
   ],
   "source": [
    "catbTuned = CatBoostRegressor(depth=3,iterations=200,learning_rate=0.1).fit(x_train,y_train)"
   ],
   "metadata": {
    "collapsed": false,
    "ExecuteTime": {
     "end_time": "2024-03-01T15:28:29.089960Z",
     "start_time": "2024-03-01T15:28:28.952678Z"
    }
   },
   "id": "f1487a91194e021e",
   "execution_count": 38
  },
  {
   "cell_type": "code",
   "outputs": [
    {
     "data": {
      "text/plain": "<catboost.core.CatBoostRegressor at 0x25f8d79ed90>"
     },
     "execution_count": 39,
     "metadata": {},
     "output_type": "execute_result"
    }
   ],
   "source": [
    "catbTuned"
   ],
   "metadata": {
    "collapsed": false,
    "ExecuteTime": {
     "end_time": "2024-03-01T15:28:30.909088Z",
     "start_time": "2024-03-01T15:28:30.897039Z"
    }
   },
   "id": "3501b0e919ee7523",
   "execution_count": 39
  },
  {
   "cell_type": "code",
   "outputs": [],
   "source": [
    "yTahmin = catbTuned.predict(x_test)"
   ],
   "metadata": {
    "collapsed": false,
    "ExecuteTime": {
     "end_time": "2024-03-01T15:28:53.165375Z",
     "start_time": "2024-03-01T15:28:53.153259Z"
    }
   },
   "id": "95e975df38524515",
   "execution_count": 41
  },
  {
   "cell_type": "code",
   "outputs": [
    {
     "data": {
      "text/plain": "array([ 722.46372317,  739.44452032, 1251.01146267,  228.40809895,\n        568.1391357 ,  294.82134202,  263.70791045,  110.63536874,\n        850.39846471,  477.6679629 ,  875.61311096,  822.59713753,\n        629.42167583,  291.1266889 ,  293.05294386, 1100.70110471,\n        696.83467334,   82.76119898, 1037.2438691 ,  269.94989996,\n        442.30836962,  818.24748001,  795.98255811,  503.81615166,\n        487.7809396 ,  100.07299874,  766.41397905,  328.39434047,\n        476.43611996,  175.33908422,  152.39258771,  557.14148239,\n        513.08901487,  209.62538319,  241.34839213, 1025.82084463,\n       1542.24574885,  224.60976128,  222.18456749,  455.08374627,\n         77.61516459,  118.26196248,  711.43695161,  610.06173101,\n       1273.29340755,  707.28080763,  505.55407192,  116.84586252,\n        214.33867342,  684.7285287 ,  634.44605078,  516.4992399 ,\n        738.90093826,  162.40811423,  104.53245336,  758.45064869,\n        698.41271799,  693.02916774,  243.87570676, 1467.3904598 ,\n        961.36381894,  524.94457235,  758.21544183,  491.8837482 ,\n        487.65567599,   82.68459334])"
     },
     "execution_count": 42,
     "metadata": {},
     "output_type": "execute_result"
    }
   ],
   "source": [
    "yTahmin"
   ],
   "metadata": {
    "collapsed": false,
    "ExecuteTime": {
     "end_time": "2024-03-01T15:28:55.941921Z",
     "start_time": "2024-03-01T15:28:55.927948Z"
    }
   },
   "id": "595c998f4b0eb636",
   "execution_count": 42
  },
  {
   "cell_type": "code",
   "outputs": [],
   "source": [
    "hataKarelerOrtalaması = np.sqrt(mean_squared_error(y_test,yTahmin))"
   ],
   "metadata": {
    "collapsed": false,
    "ExecuteTime": {
     "end_time": "2024-03-01T15:29:28.909405Z",
     "start_time": "2024-03-01T15:29:28.894339Z"
    }
   },
   "id": "f888d6bf858acd89",
   "execution_count": 43
  },
  {
   "cell_type": "code",
   "outputs": [
    {
     "data": {
      "text/plain": "344.3125832615482"
     },
     "execution_count": 44,
     "metadata": {},
     "output_type": "execute_result"
    }
   ],
   "source": [
    "hataKarelerOrtalaması"
   ],
   "metadata": {
    "collapsed": false,
    "ExecuteTime": {
     "end_time": "2024-03-01T15:29:31.743137Z",
     "start_time": "2024-03-01T15:29:31.726508Z"
    }
   },
   "id": "5b6cb7044a911508",
   "execution_count": 44
  },
  {
   "cell_type": "markdown",
   "source": [
    "9- Makine Öğrenmesi Görevlerinin Otomatikleştirilmesi"
   ],
   "metadata": {
    "collapsed": false
   },
   "id": "a2aa888d8aef6ea6"
  },
  {
   "cell_type": "code",
   "outputs": [],
   "source": [
    "df = pd.read_csv(\"Hitters.csv\")\n",
    "df = df.dropna()  \n",
    "dms = ms = pd.get_dummies(df[[\"League\",\"Division\",\"NewLeague\"]])"
   ],
   "metadata": {
    "collapsed": false,
    "ExecuteTime": {
     "end_time": "2024-03-01T15:36:51.549499Z",
     "start_time": "2024-03-01T15:36:51.539417Z"
    }
   },
   "id": "8eb2ea742af00aaa",
   "execution_count": 46
  },
  {
   "cell_type": "code",
   "outputs": [],
   "source": [
    "def compML(df,y,alg):\n",
    "    import numpy as np\n",
    "    import pandas as pd\n",
    "    import matplotlib.pyplot as plt\n",
    "    import seaborn as sns\n",
    "    from sklearn.preprocessing import scale\n",
    "    from sklearn.preprocessing import StandardScaler\n",
    "    from sklearn import model_selection\n",
    "    from sklearn.linear_model import LinearRegression\n",
    "    from sklearn.tree import DecisionTreeRegressor\n",
    "    from sklearn.ensemble import RandomForestRegressor\n",
    "    from sklearn.neighbors import KNeighborsRegressor\n",
    "    from sklearn.neural_network import MLPRegressor\n",
    "    from sklearn import neighbors\n",
    "    from sklearn.metrics import mean_squared_error, r2_score\n",
    "    from sklearn.model_selection import train_test_split,GridSearchCV\n",
    "    from sklearn.ensemble import GradientBoostingRegressor\n",
    "    from lightgbm import LGBMRegressor\n",
    "    import xgboost as xgb\n",
    "    #train-test ayrımı\n",
    "    y = df[y]\n",
    "    x_ = df.drop([\"Salary\", \"League\", \"Division\", \"NewLeague\"], axis=1).astype(\n",
    "    \"float64\")  \n",
    "    x = pd.concat([x_, dms[[\"League_N\", 'Division_W', \"NewLeague_N\"]]],\n",
    "              axis=1)  \n",
    "    x_train, x_test, y_train, y_test = model_selection.train_test_split(x, y, test_size=0.25, random_state=42)\n",
    "    # Modelleme\n",
    "    model = alg().fit(x_train,y_train)\n",
    "    yTahmin = model.predict(x_test)\n",
    "    hataKarelerOrtalaması = np.sqrt(mean_squared_error(y_test, yTahmin))\n",
    "    modelİsmi = alg.__name__\n",
    "    print(modelİsmi,\"Modeli Test Hatası\",hataKarelerOrtalaması)"
   ],
   "metadata": {
    "collapsed": false,
    "ExecuteTime": {
     "end_time": "2024-03-01T15:59:45.368873Z",
     "start_time": "2024-03-01T15:59:45.352348Z"
    }
   },
   "id": "a391143b56e407",
   "execution_count": 90
  },
  {
   "cell_type": "code",
   "outputs": [
    {
     "name": "stdout",
     "output_type": "stream",
     "text": [
      "SVR : 460.0032657244849\n"
     ]
    }
   ],
   "source": [
    "compML(df,\"Salary\",SVR)"
   ],
   "metadata": {
    "collapsed": false,
    "ExecuteTime": {
     "end_time": "2024-03-01T15:59:24.859198Z",
     "start_time": "2024-03-01T15:59:24.834404Z"
    }
   },
   "id": "eaca0f227eb85f4f",
   "execution_count": 87
  },
  {
   "cell_type": "code",
   "outputs": [],
   "source": [
    "models = [LGBMRegressor,\n",
    "          XGBRegressor,\n",
    "          GradientBoostingRegressor,\n",
    "          RandomForestRegressor,\n",
    "          DecisionTreeRegressor,\n",
    "          MLPRegressor,\n",
    "          KNeighborsRegressor,\n",
    "          SVR]"
   ],
   "metadata": {
    "collapsed": false,
    "ExecuteTime": {
     "end_time": "2024-03-01T15:59:25.527486Z",
     "start_time": "2024-03-01T15:59:25.513760Z"
    }
   },
   "id": "acd9d6cf8e99bd98",
   "execution_count": 88
  },
  {
   "cell_type": "code",
   "outputs": [
    {
     "name": "stdout",
     "output_type": "stream",
     "text": [
      "[LightGBM] [Info] Auto-choosing col-wise multi-threading, the overhead of testing was 0.000094 seconds.\n",
      "You can set `force_col_wise=true` to remove the overhead.\n",
      "[LightGBM] [Info] Total Bins 831\n",
      "[LightGBM] [Info] Number of data points in the train set: 197, number of used features: 19\n",
      "[LightGBM] [Info] Start training from score 543.483442\n",
      "[LightGBM] [Warning] No further splits with positive gain, best gain: -inf\n",
      "[LightGBM] [Warning] No further splits with positive gain, best gain: -inf\n",
      "[LightGBM] [Warning] No further splits with positive gain, best gain: -inf\n",
      "[LightGBM] [Warning] No further splits with positive gain, best gain: -inf\n",
      "[LightGBM] [Warning] No further splits with positive gain, best gain: -inf\n",
      "[LightGBM] [Warning] No further splits with positive gain, best gain: -inf\n",
      "[LightGBM] [Warning] No further splits with positive gain, best gain: -inf\n",
      "[LightGBM] [Warning] No further splits with positive gain, best gain: -inf\n",
      "[LightGBM] [Warning] No further splits with positive gain, best gain: -inf\n",
      "[LightGBM] [Warning] No further splits with positive gain, best gain: -inf\n",
      "[LightGBM] [Warning] No further splits with positive gain, best gain: -inf\n",
      "[LightGBM] [Warning] No further splits with positive gain, best gain: -inf\n",
      "[LightGBM] [Warning] No further splits with positive gain, best gain: -inf\n",
      "[LightGBM] [Warning] No further splits with positive gain, best gain: -inf\n",
      "[LightGBM] [Warning] No further splits with positive gain, best gain: -inf\n",
      "[LightGBM] [Warning] No further splits with positive gain, best gain: -inf\n",
      "[LightGBM] [Warning] No further splits with positive gain, best gain: -inf\n",
      "[LightGBM] [Warning] No further splits with positive gain, best gain: -inf\n",
      "[LightGBM] [Warning] No further splits with positive gain, best gain: -inf\n",
      "[LightGBM] [Warning] No further splits with positive gain, best gain: -inf\n",
      "[LightGBM] [Warning] No further splits with positive gain, best gain: -inf\n",
      "[LightGBM] [Warning] No further splits with positive gain, best gain: -inf\n",
      "[LightGBM] [Warning] No further splits with positive gain, best gain: -inf\n",
      "[LightGBM] [Warning] No further splits with positive gain, best gain: -inf\n",
      "[LightGBM] [Warning] No further splits with positive gain, best gain: -inf\n",
      "[LightGBM] [Warning] No further splits with positive gain, best gain: -inf\n",
      "[LightGBM] [Warning] No further splits with positive gain, best gain: -inf\n",
      "[LightGBM] [Warning] No further splits with positive gain, best gain: -inf\n",
      "[LightGBM] [Warning] No further splits with positive gain, best gain: -inf\n",
      "[LightGBM] [Warning] No further splits with positive gain, best gain: -inf\n",
      "[LightGBM] [Warning] No further splits with positive gain, best gain: -inf\n",
      "[LightGBM] [Warning] No further splits with positive gain, best gain: -inf\n",
      "[LightGBM] [Warning] No further splits with positive gain, best gain: -inf\n",
      "[LightGBM] [Warning] No further splits with positive gain, best gain: -inf\n",
      "[LightGBM] [Warning] No further splits with positive gain, best gain: -inf\n",
      "[LightGBM] [Warning] No further splits with positive gain, best gain: -inf\n",
      "[LightGBM] [Warning] No further splits with positive gain, best gain: -inf\n",
      "[LightGBM] [Warning] No further splits with positive gain, best gain: -inf\n",
      "[LightGBM] [Warning] No further splits with positive gain, best gain: -inf\n",
      "[LightGBM] [Warning] No further splits with positive gain, best gain: -inf\n",
      "[LightGBM] [Warning] No further splits with positive gain, best gain: -inf\n",
      "[LightGBM] [Warning] No further splits with positive gain, best gain: -inf\n",
      "[LightGBM] [Warning] No further splits with positive gain, best gain: -inf\n",
      "[LightGBM] [Warning] No further splits with positive gain, best gain: -inf\n",
      "[LightGBM] [Warning] No further splits with positive gain, best gain: -inf\n",
      "[LightGBM] [Warning] No further splits with positive gain, best gain: -inf\n",
      "[LightGBM] [Warning] No further splits with positive gain, best gain: -inf\n",
      "[LightGBM] [Warning] No further splits with positive gain, best gain: -inf\n",
      "[LightGBM] [Warning] No further splits with positive gain, best gain: -inf\n",
      "[LightGBM] [Warning] No further splits with positive gain, best gain: -inf\n",
      "[LightGBM] [Warning] No further splits with positive gain, best gain: -inf\n",
      "[LightGBM] [Warning] No further splits with positive gain, best gain: -inf\n",
      "[LightGBM] [Warning] No further splits with positive gain, best gain: -inf\n",
      "[LightGBM] [Warning] No further splits with positive gain, best gain: -inf\n",
      "[LightGBM] [Warning] No further splits with positive gain, best gain: -inf\n",
      "[LightGBM] [Warning] No further splits with positive gain, best gain: -inf\n",
      "[LightGBM] [Warning] No further splits with positive gain, best gain: -inf\n",
      "[LightGBM] [Warning] No further splits with positive gain, best gain: -inf\n",
      "[LightGBM] [Warning] No further splits with positive gain, best gain: -inf\n",
      "[LightGBM] [Warning] No further splits with positive gain, best gain: -inf\n",
      "[LightGBM] [Warning] No further splits with positive gain, best gain: -inf\n",
      "[LightGBM] [Warning] No further splits with positive gain, best gain: -inf\n",
      "[LightGBM] [Warning] No further splits with positive gain, best gain: -inf\n",
      "[LightGBM] [Warning] No further splits with positive gain, best gain: -inf\n",
      "[LightGBM] [Warning] No further splits with positive gain, best gain: -inf\n",
      "[LightGBM] [Warning] No further splits with positive gain, best gain: -inf\n",
      "[LightGBM] [Warning] No further splits with positive gain, best gain: -inf\n",
      "[LightGBM] [Warning] No further splits with positive gain, best gain: -inf\n",
      "[LightGBM] [Warning] No further splits with positive gain, best gain: -inf\n",
      "[LightGBM] [Warning] No further splits with positive gain, best gain: -inf\n",
      "[LightGBM] [Warning] No further splits with positive gain, best gain: -inf\n",
      "[LightGBM] [Warning] No further splits with positive gain, best gain: -inf\n",
      "[LightGBM] [Warning] No further splits with positive gain, best gain: -inf\n",
      "[LightGBM] [Warning] No further splits with positive gain, best gain: -inf\n",
      "[LightGBM] [Warning] No further splits with positive gain, best gain: -inf\n",
      "[LightGBM] [Warning] No further splits with positive gain, best gain: -inf\n",
      "[LightGBM] [Warning] No further splits with positive gain, best gain: -inf\n",
      "[LightGBM] [Warning] No further splits with positive gain, best gain: -inf\n",
      "[LightGBM] [Warning] No further splits with positive gain, best gain: -inf\n",
      "[LightGBM] [Warning] No further splits with positive gain, best gain: -inf\n",
      "[LightGBM] [Warning] No further splits with positive gain, best gain: -inf\n",
      "[LightGBM] [Warning] No further splits with positive gain, best gain: -inf\n",
      "[LightGBM] [Warning] No further splits with positive gain, best gain: -inf\n",
      "[LightGBM] [Warning] No further splits with positive gain, best gain: -inf\n",
      "[LightGBM] [Warning] No further splits with positive gain, best gain: -inf\n",
      "[LightGBM] [Warning] No further splits with positive gain, best gain: -inf\n",
      "[LightGBM] [Warning] No further splits with positive gain, best gain: -inf\n",
      "[LightGBM] [Warning] No further splits with positive gain, best gain: -inf\n",
      "[LightGBM] [Warning] No further splits with positive gain, best gain: -inf\n",
      "[LightGBM] [Warning] No further splits with positive gain, best gain: -inf\n",
      "[LightGBM] [Warning] No further splits with positive gain, best gain: -inf\n",
      "[LightGBM] [Warning] No further splits with positive gain, best gain: -inf\n",
      "[LightGBM] [Warning] No further splits with positive gain, best gain: -inf\n",
      "[LightGBM] [Warning] No further splits with positive gain, best gain: -inf\n",
      "[LightGBM] [Warning] No further splits with positive gain, best gain: -inf\n",
      "[LightGBM] [Warning] No further splits with positive gain, best gain: -inf\n",
      "[LightGBM] [Warning] No further splits with positive gain, best gain: -inf\n",
      "[LightGBM] [Warning] No further splits with positive gain, best gain: -inf\n",
      "[LightGBM] [Warning] No further splits with positive gain, best gain: -inf\n",
      "[LightGBM] [Warning] No further splits with positive gain, best gain: -inf\n",
      "LGBMRegressor Modeli Test Hatası 363.8712087611089\n",
      "XGBRegressor Modeli Test Hatası 366.3863437634965\n",
      "GradientBoostingRegressor Modeli Test Hatası 346.9448819872041\n",
      "RandomForestRegressor Modeli Test Hatası 351.77562598682374\n",
      "DecisionTreeRegressor Modeli Test Hatası 469.4320012799156\n",
      "MLPRegressor Modeli Test Hatası 357.0070313076711\n",
      "KNeighborsRegressor Modeli Test Hatası 426.6570764525201\n",
      "SVR Modeli Test Hatası 460.0032657244849\n"
     ]
    }
   ],
   "source": [
    "for i in models:\n",
    "    compML(df,\"Salary\",i)"
   ],
   "metadata": {
    "collapsed": false,
    "ExecuteTime": {
     "end_time": "2024-03-01T16:00:23.909480Z",
     "start_time": "2024-03-01T16:00:22.790340Z"
    }
   },
   "id": "65a70e6f09047187",
   "execution_count": 92
  }
 ],
 "metadata": {
  "kernelspec": {
   "display_name": "Python 3",
   "language": "python",
   "name": "python3"
  },
  "language_info": {
   "codemirror_mode": {
    "name": "ipython",
    "version": 2
   },
   "file_extension": ".py",
   "mimetype": "text/x-python",
   "name": "python",
   "nbconvert_exporter": "python",
   "pygments_lexer": "ipython2",
   "version": "2.7.6"
  }
 },
 "nbformat": 4,
 "nbformat_minor": 5
}
