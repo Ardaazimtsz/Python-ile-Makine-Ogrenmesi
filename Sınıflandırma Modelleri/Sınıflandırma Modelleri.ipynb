{
 "cells": [
  {
   "cell_type": "markdown",
   "source": [
    "SINIFLANDIRMA MODELLERİ"
   ],
   "metadata": {
    "collapsed": false
   },
   "id": "d88a884b2d9ccbfe"
  },
  {
   "cell_type": "markdown",
   "source": [
    "1-Lojistik Regresyon"
   ],
   "metadata": {
    "collapsed": false
   },
   "id": "6b101a955834db46"
  },
  {
   "cell_type": "code",
   "execution_count": 187,
   "id": "initial_id",
   "metadata": {
    "collapsed": true,
    "ExecuteTime": {
     "end_time": "2024-03-02T08:08:30.020508Z",
     "start_time": "2024-03-02T08:08:30.002775Z"
    }
   },
   "outputs": [],
   "source": [
    "# GEREKLİ KÜTÜPHANELER\n",
    "import numpy as np\n",
    "import pandas as pd\n",
    "import matplotlib.pyplot as plt\n",
    "import seaborn as sns\n",
    "from sklearn.preprocessing import scale\n",
    "from sklearn.preprocessing import StandardScaler\n",
    "from sklearn import model_selection\n",
    "from sklearn.linear_model import LinearRegression\n",
    "from sklearn.tree import DecisionTreeClassifier\n",
    "from sklearn.ensemble import RandomForestClassifier\n",
    "from sklearn.neighbors import KNeighborsClassifier\n",
    "from sklearn.neural_network import MLPClassifier\n",
    "from sklearn import neighbors\n",
    "from sklearn.metrics import mean_squared_error, r2_score,confusion_matrix,accuracy_score,roc_curve,roc_auc_score,classification_report\n",
    "from sklearn.ensemble import GradientBoostingClassifier\n",
    "from sklearn.svm import SVC\n",
    "import xgboost as xgb\n",
    "from sklearn.linear_model import LogisticRegression\n",
    "from sklearn.model_selection import cross_val_score\n",
    "from sklearn.model_selection import train_test_split"
   ]
  },
  {
   "cell_type": "code",
   "outputs": [],
   "source": [
    "# Önemsiz Hatalardan Kurtulmak İçin\n",
    "import warnings\n",
    "warnings.filterwarnings(\"ignore\", category=FutureWarning)\n",
    "warnings.filterwarnings(\"ignore\", category=DeprecationWarning)"
   ],
   "metadata": {
    "collapsed": false,
    "ExecuteTime": {
     "end_time": "2024-03-02T08:08:31.737716Z",
     "start_time": "2024-03-02T08:08:31.729938Z"
    }
   },
   "id": "537538b4334cd908",
   "execution_count": 188
  },
  {
   "cell_type": "code",
   "outputs": [],
   "source": [
    "df = pd.read_csv('diabetes.csv')"
   ],
   "metadata": {
    "collapsed": false,
    "ExecuteTime": {
     "end_time": "2024-03-02T08:08:31.799778Z",
     "start_time": "2024-03-02T08:08:31.792239Z"
    }
   },
   "id": "158eb5a20dedc2d7",
   "execution_count": 189
  },
  {
   "cell_type": "code",
   "outputs": [
    {
     "data": {
      "text/plain": "   Pregnancies  Glucose  BloodPressure  SkinThickness  Insulin   BMI  \\\n0            6      148             72             35        0  33.6   \n1            1       85             66             29        0  26.6   \n2            8      183             64              0        0  23.3   \n3            1       89             66             23       94  28.1   \n4            0      137             40             35      168  43.1   \n\n   DiabetesPedigreeFunction  Age  Outcome  \n0                     0.627   50        1  \n1                     0.351   31        0  \n2                     0.672   32        1  \n3                     0.167   21        0  \n4                     2.288   33        1  ",
      "text/html": "<div>\n<style scoped>\n    .dataframe tbody tr th:only-of-type {\n        vertical-align: middle;\n    }\n\n    .dataframe tbody tr th {\n        vertical-align: top;\n    }\n\n    .dataframe thead th {\n        text-align: right;\n    }\n</style>\n<table border=\"1\" class=\"dataframe\">\n  <thead>\n    <tr style=\"text-align: right;\">\n      <th></th>\n      <th>Pregnancies</th>\n      <th>Glucose</th>\n      <th>BloodPressure</th>\n      <th>SkinThickness</th>\n      <th>Insulin</th>\n      <th>BMI</th>\n      <th>DiabetesPedigreeFunction</th>\n      <th>Age</th>\n      <th>Outcome</th>\n    </tr>\n  </thead>\n  <tbody>\n    <tr>\n      <th>0</th>\n      <td>6</td>\n      <td>148</td>\n      <td>72</td>\n      <td>35</td>\n      <td>0</td>\n      <td>33.6</td>\n      <td>0.627</td>\n      <td>50</td>\n      <td>1</td>\n    </tr>\n    <tr>\n      <th>1</th>\n      <td>1</td>\n      <td>85</td>\n      <td>66</td>\n      <td>29</td>\n      <td>0</td>\n      <td>26.6</td>\n      <td>0.351</td>\n      <td>31</td>\n      <td>0</td>\n    </tr>\n    <tr>\n      <th>2</th>\n      <td>8</td>\n      <td>183</td>\n      <td>64</td>\n      <td>0</td>\n      <td>0</td>\n      <td>23.3</td>\n      <td>0.672</td>\n      <td>32</td>\n      <td>1</td>\n    </tr>\n    <tr>\n      <th>3</th>\n      <td>1</td>\n      <td>89</td>\n      <td>66</td>\n      <td>23</td>\n      <td>94</td>\n      <td>28.1</td>\n      <td>0.167</td>\n      <td>21</td>\n      <td>0</td>\n    </tr>\n    <tr>\n      <th>4</th>\n      <td>0</td>\n      <td>137</td>\n      <td>40</td>\n      <td>35</td>\n      <td>168</td>\n      <td>43.1</td>\n      <td>2.288</td>\n      <td>33</td>\n      <td>1</td>\n    </tr>\n  </tbody>\n</table>\n</div>"
     },
     "execution_count": 190,
     "metadata": {},
     "output_type": "execute_result"
    }
   ],
   "source": [
    "df.head()"
   ],
   "metadata": {
    "collapsed": false,
    "ExecuteTime": {
     "end_time": "2024-03-02T08:08:31.894199Z",
     "start_time": "2024-03-02T08:08:31.871498Z"
    }
   },
   "id": "f94f1145880f80f0",
   "execution_count": 190
  },
  {
   "cell_type": "code",
   "outputs": [
    {
     "data": {
      "text/plain": "Outcome\n0    500\n1    268\nName: count, dtype: int64"
     },
     "execution_count": 191,
     "metadata": {},
     "output_type": "execute_result"
    }
   ],
   "source": [
    "df[\"Outcome\"].value_counts()"
   ],
   "metadata": {
    "collapsed": false,
    "ExecuteTime": {
     "end_time": "2024-03-02T08:08:31.926211Z",
     "start_time": "2024-03-02T08:08:31.911241Z"
    }
   },
   "id": "f3983c33af878617",
   "execution_count": 191
  },
  {
   "cell_type": "code",
   "outputs": [
    {
     "data": {
      "text/plain": "                          count        mean         std     min       25%  \\\nPregnancies               768.0    3.845052    3.369578   0.000   1.00000   \nGlucose                   768.0  120.894531   31.972618   0.000  99.00000   \nBloodPressure             768.0   69.105469   19.355807   0.000  62.00000   \nSkinThickness             768.0   20.536458   15.952218   0.000   0.00000   \nInsulin                   768.0   79.799479  115.244002   0.000   0.00000   \nBMI                       768.0   31.992578    7.884160   0.000  27.30000   \nDiabetesPedigreeFunction  768.0    0.471876    0.331329   0.078   0.24375   \nAge                       768.0   33.240885   11.760232  21.000  24.00000   \nOutcome                   768.0    0.348958    0.476951   0.000   0.00000   \n\n                               50%        75%     max  \nPregnancies                 3.0000    6.00000   17.00  \nGlucose                   117.0000  140.25000  199.00  \nBloodPressure              72.0000   80.00000  122.00  \nSkinThickness              23.0000   32.00000   99.00  \nInsulin                    30.5000  127.25000  846.00  \nBMI                        32.0000   36.60000   67.10  \nDiabetesPedigreeFunction    0.3725    0.62625    2.42  \nAge                        29.0000   41.00000   81.00  \nOutcome                     0.0000    1.00000    1.00  ",
      "text/html": "<div>\n<style scoped>\n    .dataframe tbody tr th:only-of-type {\n        vertical-align: middle;\n    }\n\n    .dataframe tbody tr th {\n        vertical-align: top;\n    }\n\n    .dataframe thead th {\n        text-align: right;\n    }\n</style>\n<table border=\"1\" class=\"dataframe\">\n  <thead>\n    <tr style=\"text-align: right;\">\n      <th></th>\n      <th>count</th>\n      <th>mean</th>\n      <th>std</th>\n      <th>min</th>\n      <th>25%</th>\n      <th>50%</th>\n      <th>75%</th>\n      <th>max</th>\n    </tr>\n  </thead>\n  <tbody>\n    <tr>\n      <th>Pregnancies</th>\n      <td>768.0</td>\n      <td>3.845052</td>\n      <td>3.369578</td>\n      <td>0.000</td>\n      <td>1.00000</td>\n      <td>3.0000</td>\n      <td>6.00000</td>\n      <td>17.00</td>\n    </tr>\n    <tr>\n      <th>Glucose</th>\n      <td>768.0</td>\n      <td>120.894531</td>\n      <td>31.972618</td>\n      <td>0.000</td>\n      <td>99.00000</td>\n      <td>117.0000</td>\n      <td>140.25000</td>\n      <td>199.00</td>\n    </tr>\n    <tr>\n      <th>BloodPressure</th>\n      <td>768.0</td>\n      <td>69.105469</td>\n      <td>19.355807</td>\n      <td>0.000</td>\n      <td>62.00000</td>\n      <td>72.0000</td>\n      <td>80.00000</td>\n      <td>122.00</td>\n    </tr>\n    <tr>\n      <th>SkinThickness</th>\n      <td>768.0</td>\n      <td>20.536458</td>\n      <td>15.952218</td>\n      <td>0.000</td>\n      <td>0.00000</td>\n      <td>23.0000</td>\n      <td>32.00000</td>\n      <td>99.00</td>\n    </tr>\n    <tr>\n      <th>Insulin</th>\n      <td>768.0</td>\n      <td>79.799479</td>\n      <td>115.244002</td>\n      <td>0.000</td>\n      <td>0.00000</td>\n      <td>30.5000</td>\n      <td>127.25000</td>\n      <td>846.00</td>\n    </tr>\n    <tr>\n      <th>BMI</th>\n      <td>768.0</td>\n      <td>31.992578</td>\n      <td>7.884160</td>\n      <td>0.000</td>\n      <td>27.30000</td>\n      <td>32.0000</td>\n      <td>36.60000</td>\n      <td>67.10</td>\n    </tr>\n    <tr>\n      <th>DiabetesPedigreeFunction</th>\n      <td>768.0</td>\n      <td>0.471876</td>\n      <td>0.331329</td>\n      <td>0.078</td>\n      <td>0.24375</td>\n      <td>0.3725</td>\n      <td>0.62625</td>\n      <td>2.42</td>\n    </tr>\n    <tr>\n      <th>Age</th>\n      <td>768.0</td>\n      <td>33.240885</td>\n      <td>11.760232</td>\n      <td>21.000</td>\n      <td>24.00000</td>\n      <td>29.0000</td>\n      <td>41.00000</td>\n      <td>81.00</td>\n    </tr>\n    <tr>\n      <th>Outcome</th>\n      <td>768.0</td>\n      <td>0.348958</td>\n      <td>0.476951</td>\n      <td>0.000</td>\n      <td>0.00000</td>\n      <td>0.0000</td>\n      <td>1.00000</td>\n      <td>1.00</td>\n    </tr>\n  </tbody>\n</table>\n</div>"
     },
     "execution_count": 192,
     "metadata": {},
     "output_type": "execute_result"
    }
   ],
   "source": [
    "df.describe().T"
   ],
   "metadata": {
    "collapsed": false,
    "ExecuteTime": {
     "end_time": "2024-03-02T08:08:32.032832Z",
     "start_time": "2024-03-02T08:08:32.006793Z"
    }
   },
   "id": "bf97eb1d78fc0a66",
   "execution_count": 192
  },
  {
   "cell_type": "code",
   "outputs": [],
   "source": [
    "y = df[\"Outcome\"]"
   ],
   "metadata": {
    "collapsed": false,
    "ExecuteTime": {
     "end_time": "2024-03-02T08:08:32.158159Z",
     "start_time": "2024-03-02T08:08:32.143021Z"
    }
   },
   "id": "66f5edacfda5055f",
   "execution_count": 193
  },
  {
   "cell_type": "code",
   "outputs": [],
   "source": [
    "x = df.drop([\"Outcome\"], axis=1)"
   ],
   "metadata": {
    "collapsed": false,
    "ExecuteTime": {
     "end_time": "2024-03-02T08:08:32.251086Z",
     "start_time": "2024-03-02T08:08:32.239573Z"
    }
   },
   "id": "6f18c1b92200c0fe",
   "execution_count": 194
  },
  {
   "cell_type": "code",
   "outputs": [
    {
     "data": {
      "text/plain": "0    1\n1    0\n2    1\n3    0\n4    1\nName: Outcome, dtype: int64"
     },
     "execution_count": 195,
     "metadata": {},
     "output_type": "execute_result"
    }
   ],
   "source": [
    "y.head()"
   ],
   "metadata": {
    "collapsed": false,
    "ExecuteTime": {
     "end_time": "2024-03-02T08:08:32.326826Z",
     "start_time": "2024-03-02T08:08:32.318771Z"
    }
   },
   "id": "b55f7d1b6a92731c",
   "execution_count": 195
  },
  {
   "cell_type": "code",
   "outputs": [
    {
     "data": {
      "text/plain": "   Pregnancies  Glucose  BloodPressure  SkinThickness  Insulin   BMI  \\\n0            6      148             72             35        0  33.6   \n1            1       85             66             29        0  26.6   \n2            8      183             64              0        0  23.3   \n3            1       89             66             23       94  28.1   \n4            0      137             40             35      168  43.1   \n\n   DiabetesPedigreeFunction  Age  \n0                     0.627   50  \n1                     0.351   31  \n2                     0.672   32  \n3                     0.167   21  \n4                     2.288   33  ",
      "text/html": "<div>\n<style scoped>\n    .dataframe tbody tr th:only-of-type {\n        vertical-align: middle;\n    }\n\n    .dataframe tbody tr th {\n        vertical-align: top;\n    }\n\n    .dataframe thead th {\n        text-align: right;\n    }\n</style>\n<table border=\"1\" class=\"dataframe\">\n  <thead>\n    <tr style=\"text-align: right;\">\n      <th></th>\n      <th>Pregnancies</th>\n      <th>Glucose</th>\n      <th>BloodPressure</th>\n      <th>SkinThickness</th>\n      <th>Insulin</th>\n      <th>BMI</th>\n      <th>DiabetesPedigreeFunction</th>\n      <th>Age</th>\n    </tr>\n  </thead>\n  <tbody>\n    <tr>\n      <th>0</th>\n      <td>6</td>\n      <td>148</td>\n      <td>72</td>\n      <td>35</td>\n      <td>0</td>\n      <td>33.6</td>\n      <td>0.627</td>\n      <td>50</td>\n    </tr>\n    <tr>\n      <th>1</th>\n      <td>1</td>\n      <td>85</td>\n      <td>66</td>\n      <td>29</td>\n      <td>0</td>\n      <td>26.6</td>\n      <td>0.351</td>\n      <td>31</td>\n    </tr>\n    <tr>\n      <th>2</th>\n      <td>8</td>\n      <td>183</td>\n      <td>64</td>\n      <td>0</td>\n      <td>0</td>\n      <td>23.3</td>\n      <td>0.672</td>\n      <td>32</td>\n    </tr>\n    <tr>\n      <th>3</th>\n      <td>1</td>\n      <td>89</td>\n      <td>66</td>\n      <td>23</td>\n      <td>94</td>\n      <td>28.1</td>\n      <td>0.167</td>\n      <td>21</td>\n    </tr>\n    <tr>\n      <th>4</th>\n      <td>0</td>\n      <td>137</td>\n      <td>40</td>\n      <td>35</td>\n      <td>168</td>\n      <td>43.1</td>\n      <td>2.288</td>\n      <td>33</td>\n    </tr>\n  </tbody>\n</table>\n</div>"
     },
     "execution_count": 196,
     "metadata": {},
     "output_type": "execute_result"
    }
   ],
   "source": [
    "x.head()"
   ],
   "metadata": {
    "collapsed": false,
    "ExecuteTime": {
     "end_time": "2024-03-02T08:08:32.435579Z",
     "start_time": "2024-03-02T08:08:32.412005Z"
    }
   },
   "id": "544d82077c0df6ec",
   "execution_count": 196
  },
  {
   "cell_type": "markdown",
   "source": [
    "1.1-Model ve Tahmin"
   ],
   "metadata": {
    "collapsed": false
   },
   "id": "4f45a423d02ceaa3"
  },
  {
   "cell_type": "code",
   "outputs": [],
   "source": [
    "logModel = LogisticRegression (solver = \"liblinear\").fit(x,y)"
   ],
   "metadata": {
    "collapsed": false,
    "ExecuteTime": {
     "end_time": "2024-03-02T08:08:32.574635Z",
     "start_time": "2024-03-02T08:08:32.558015Z"
    }
   },
   "id": "d2a0422fb6a9c7d2",
   "execution_count": 197
  },
  {
   "cell_type": "code",
   "outputs": [
    {
     "data": {
      "text/plain": "LogisticRegression(solver='liblinear')",
      "text/html": "<style>#sk-container-id-3 {color: black;}#sk-container-id-3 pre{padding: 0;}#sk-container-id-3 div.sk-toggleable {background-color: white;}#sk-container-id-3 label.sk-toggleable__label {cursor: pointer;display: block;width: 100%;margin-bottom: 0;padding: 0.3em;box-sizing: border-box;text-align: center;}#sk-container-id-3 label.sk-toggleable__label-arrow:before {content: \"▸\";float: left;margin-right: 0.25em;color: #696969;}#sk-container-id-3 label.sk-toggleable__label-arrow:hover:before {color: black;}#sk-container-id-3 div.sk-estimator:hover label.sk-toggleable__label-arrow:before {color: black;}#sk-container-id-3 div.sk-toggleable__content {max-height: 0;max-width: 0;overflow: hidden;text-align: left;background-color: #f0f8ff;}#sk-container-id-3 div.sk-toggleable__content pre {margin: 0.2em;color: black;border-radius: 0.25em;background-color: #f0f8ff;}#sk-container-id-3 input.sk-toggleable__control:checked~div.sk-toggleable__content {max-height: 200px;max-width: 100%;overflow: auto;}#sk-container-id-3 input.sk-toggleable__control:checked~label.sk-toggleable__label-arrow:before {content: \"▾\";}#sk-container-id-3 div.sk-estimator input.sk-toggleable__control:checked~label.sk-toggleable__label {background-color: #d4ebff;}#sk-container-id-3 div.sk-label input.sk-toggleable__control:checked~label.sk-toggleable__label {background-color: #d4ebff;}#sk-container-id-3 input.sk-hidden--visually {border: 0;clip: rect(1px 1px 1px 1px);clip: rect(1px, 1px, 1px, 1px);height: 1px;margin: -1px;overflow: hidden;padding: 0;position: absolute;width: 1px;}#sk-container-id-3 div.sk-estimator {font-family: monospace;background-color: #f0f8ff;border: 1px dotted black;border-radius: 0.25em;box-sizing: border-box;margin-bottom: 0.5em;}#sk-container-id-3 div.sk-estimator:hover {background-color: #d4ebff;}#sk-container-id-3 div.sk-parallel-item::after {content: \"\";width: 100%;border-bottom: 1px solid gray;flex-grow: 1;}#sk-container-id-3 div.sk-label:hover label.sk-toggleable__label {background-color: #d4ebff;}#sk-container-id-3 div.sk-serial::before {content: \"\";position: absolute;border-left: 1px solid gray;box-sizing: border-box;top: 0;bottom: 0;left: 50%;z-index: 0;}#sk-container-id-3 div.sk-serial {display: flex;flex-direction: column;align-items: center;background-color: white;padding-right: 0.2em;padding-left: 0.2em;position: relative;}#sk-container-id-3 div.sk-item {position: relative;z-index: 1;}#sk-container-id-3 div.sk-parallel {display: flex;align-items: stretch;justify-content: center;background-color: white;position: relative;}#sk-container-id-3 div.sk-item::before, #sk-container-id-3 div.sk-parallel-item::before {content: \"\";position: absolute;border-left: 1px solid gray;box-sizing: border-box;top: 0;bottom: 0;left: 50%;z-index: -1;}#sk-container-id-3 div.sk-parallel-item {display: flex;flex-direction: column;z-index: 1;position: relative;background-color: white;}#sk-container-id-3 div.sk-parallel-item:first-child::after {align-self: flex-end;width: 50%;}#sk-container-id-3 div.sk-parallel-item:last-child::after {align-self: flex-start;width: 50%;}#sk-container-id-3 div.sk-parallel-item:only-child::after {width: 0;}#sk-container-id-3 div.sk-dashed-wrapped {border: 1px dashed gray;margin: 0 0.4em 0.5em 0.4em;box-sizing: border-box;padding-bottom: 0.4em;background-color: white;}#sk-container-id-3 div.sk-label label {font-family: monospace;font-weight: bold;display: inline-block;line-height: 1.2em;}#sk-container-id-3 div.sk-label-container {text-align: center;}#sk-container-id-3 div.sk-container {/* jupyter's `normalize.less` sets `[hidden] { display: none; }` but bootstrap.min.css set `[hidden] { display: none !important; }` so we also need the `!important` here to be able to override the default hidden behavior on the sphinx rendered scikit-learn.org. See: https://github.com/scikit-learn/scikit-learn/issues/21755 */display: inline-block !important;position: relative;}#sk-container-id-3 div.sk-text-repr-fallback {display: none;}</style><div id=\"sk-container-id-3\" class=\"sk-top-container\"><div class=\"sk-text-repr-fallback\"><pre>LogisticRegression(solver=&#x27;liblinear&#x27;)</pre><b>In a Jupyter environment, please rerun this cell to show the HTML representation or trust the notebook. <br />On GitHub, the HTML representation is unable to render, please try loading this page with nbviewer.org.</b></div><div class=\"sk-container\" hidden><div class=\"sk-item\"><div class=\"sk-estimator sk-toggleable\"><input class=\"sk-toggleable__control sk-hidden--visually\" id=\"sk-estimator-id-3\" type=\"checkbox\" checked><label for=\"sk-estimator-id-3\" class=\"sk-toggleable__label sk-toggleable__label-arrow\">LogisticRegression</label><div class=\"sk-toggleable__content\"><pre>LogisticRegression(solver=&#x27;liblinear&#x27;)</pre></div></div></div></div></div>"
     },
     "execution_count": 198,
     "metadata": {},
     "output_type": "execute_result"
    }
   ],
   "source": [
    "logModel"
   ],
   "metadata": {
    "collapsed": false,
    "ExecuteTime": {
     "end_time": "2024-03-02T08:08:32.590667Z",
     "start_time": "2024-03-02T08:08:32.584644Z"
    }
   },
   "id": "77aa7c48412c8401",
   "execution_count": 198
  },
  {
   "cell_type": "code",
   "outputs": [
    {
     "data": {
      "text/plain": "array([-5.89244725])"
     },
     "execution_count": 199,
     "metadata": {},
     "output_type": "execute_result"
    }
   ],
   "source": [
    "logModel.intercept_"
   ],
   "metadata": {
    "collapsed": false,
    "ExecuteTime": {
     "end_time": "2024-03-02T08:08:32.653717Z",
     "start_time": "2024-03-02T08:08:32.639636Z"
    }
   },
   "id": "ef0f8f7e09a28b99",
   "execution_count": 199
  },
  {
   "cell_type": "code",
   "outputs": [
    {
     "data": {
      "text/plain": "array([[ 1.17062307e-01,  2.83894485e-02, -1.68884383e-02,\n         7.55570124e-04, -6.42898509e-04,  5.97750887e-02,\n         6.77485486e-01,  7.24141933e-03]])"
     },
     "execution_count": 200,
     "metadata": {},
     "output_type": "execute_result"
    }
   ],
   "source": [
    "logModel.coef_"
   ],
   "metadata": {
    "collapsed": false,
    "ExecuteTime": {
     "end_time": "2024-03-02T08:08:32.747013Z",
     "start_time": "2024-03-02T08:08:32.741117Z"
    }
   },
   "id": "e0304a5e368de231",
   "execution_count": 200
  },
  {
   "cell_type": "code",
   "outputs": [
    {
     "data": {
      "text/plain": "array([1, 0, 1, 0, 1, 0, 0, 1, 1, 0], dtype=int64)"
     },
     "execution_count": 201,
     "metadata": {},
     "output_type": "execute_result"
    }
   ],
   "source": [
    "logModel.predict(x)[0:10]"
   ],
   "metadata": {
    "collapsed": false,
    "ExecuteTime": {
     "end_time": "2024-03-02T08:08:32.889370Z",
     "start_time": "2024-03-02T08:08:32.872330Z"
    }
   },
   "id": "8580b29ea590d67",
   "execution_count": 201
  },
  {
   "cell_type": "code",
   "outputs": [
    {
     "data": {
      "text/plain": "0    1\n1    0\n2    1\n3    0\n4    1\n5    0\n6    1\n7    0\n8    1\n9    1\nName: Outcome, dtype: int64"
     },
     "execution_count": 202,
     "metadata": {},
     "output_type": "execute_result"
    }
   ],
   "source": [
    "y[0:10]"
   ],
   "metadata": {
    "collapsed": false,
    "ExecuteTime": {
     "end_time": "2024-03-02T08:08:32.996551Z",
     "start_time": "2024-03-02T08:08:32.986036Z"
    }
   },
   "id": "f58ee633f8190bcd",
   "execution_count": 202
  },
  {
   "cell_type": "code",
   "outputs": [],
   "source": [
    "yTahmin = logModel.predict(x)"
   ],
   "metadata": {
    "collapsed": false,
    "ExecuteTime": {
     "end_time": "2024-03-02T08:08:33.073812Z",
     "start_time": "2024-03-02T08:08:33.056714Z"
    }
   },
   "id": "9e67e726ea8c00d4",
   "execution_count": 203
  },
  {
   "cell_type": "code",
   "outputs": [
    {
     "data": {
      "text/plain": "array([[448,  52],\n       [121, 147]], dtype=int64)"
     },
     "execution_count": 204,
     "metadata": {},
     "output_type": "execute_result"
    }
   ],
   "source": [
    "confusion_matrix(y,yTahmin)"
   ],
   "metadata": {
    "collapsed": false,
    "ExecuteTime": {
     "end_time": "2024-03-02T08:08:33.120503Z",
     "start_time": "2024-03-02T08:08:33.101056Z"
    }
   },
   "id": "b5a34ed15a637ca0",
   "execution_count": 204
  },
  {
   "cell_type": "code",
   "outputs": [
    {
     "data": {
      "text/plain": "0.7747395833333334"
     },
     "execution_count": 205,
     "metadata": {},
     "output_type": "execute_result"
    }
   ],
   "source": [
    "accuracy_score(y,yTahmin)"
   ],
   "metadata": {
    "collapsed": false,
    "ExecuteTime": {
     "end_time": "2024-03-02T08:08:33.199922Z",
     "start_time": "2024-03-02T08:08:33.180842Z"
    }
   },
   "id": "47cd082bb8ec4d56",
   "execution_count": 205
  },
  {
   "cell_type": "code",
   "outputs": [
    {
     "name": "stdout",
     "output_type": "stream",
     "text": [
      "              precision    recall  f1-score   support\n",
      "\n",
      "           0       0.79      0.90      0.84       500\n",
      "           1       0.74      0.55      0.63       268\n",
      "\n",
      "    accuracy                           0.77       768\n",
      "   macro avg       0.76      0.72      0.73       768\n",
      "weighted avg       0.77      0.77      0.77       768\n"
     ]
    }
   ],
   "source": [
    "print(classification_report(y,yTahmin))"
   ],
   "metadata": {
    "collapsed": false,
    "ExecuteTime": {
     "end_time": "2024-03-02T08:08:33.262144Z",
     "start_time": "2024-03-02T08:08:33.237419Z"
    }
   },
   "id": "b36f44848e6467bd",
   "execution_count": 206
  },
  {
   "cell_type": "code",
   "outputs": [
    {
     "data": {
      "text/plain": "array([[0.35038673, 0.64961327],\n       [0.9170336 , 0.0829664 ],\n       [0.22474676, 0.77525324],\n       [0.92140021, 0.07859979],\n       [0.16726061, 0.83273939],\n       [0.79899818, 0.20100182],\n       [0.88020586, 0.11979414],\n       [0.2781198 , 0.7218802 ],\n       [0.3205832 , 0.6794168 ],\n       [0.92275236, 0.07724764]])"
     },
     "execution_count": 207,
     "metadata": {},
     "output_type": "execute_result"
    }
   ],
   "source": [
    "logModel.predict_proba(x)[0:10]"
   ],
   "metadata": {
    "collapsed": false,
    "ExecuteTime": {
     "end_time": "2024-03-02T08:08:33.354162Z",
     "start_time": "2024-03-02T08:08:33.339682Z"
    }
   },
   "id": "c69cf6477724ea0",
   "execution_count": 207
  },
  {
   "cell_type": "markdown",
   "source": [
    "1.2 Model Tuning"
   ],
   "metadata": {
    "collapsed": false
   },
   "id": "cec710c17fe56a93"
  },
  {
   "cell_type": "code",
   "outputs": [],
   "source": [
    "x_train, x_test, y_train, y_test = train_test_split(x,y,test_size=0.30,random_state=42)"
   ],
   "metadata": {
    "collapsed": false,
    "ExecuteTime": {
     "end_time": "2024-03-02T08:08:33.433212Z",
     "start_time": "2024-03-02T08:08:33.423185Z"
    }
   },
   "id": "70e672e7824257eb",
   "execution_count": 208
  },
  {
   "cell_type": "code",
   "outputs": [],
   "source": [
    "logCvModel = LogisticRegression (solver = \"liblinear\").fit(x_train,y_train)"
   ],
   "metadata": {
    "collapsed": false,
    "ExecuteTime": {
     "end_time": "2024-03-02T08:08:33.479750Z",
     "start_time": "2024-03-02T08:08:33.460203Z"
    }
   },
   "id": "64792ad2e8f86ee4",
   "execution_count": 209
  },
  {
   "cell_type": "code",
   "outputs": [
    {
     "data": {
      "text/plain": "LogisticRegression(solver='liblinear')",
      "text/html": "<style>#sk-container-id-4 {color: black;}#sk-container-id-4 pre{padding: 0;}#sk-container-id-4 div.sk-toggleable {background-color: white;}#sk-container-id-4 label.sk-toggleable__label {cursor: pointer;display: block;width: 100%;margin-bottom: 0;padding: 0.3em;box-sizing: border-box;text-align: center;}#sk-container-id-4 label.sk-toggleable__label-arrow:before {content: \"▸\";float: left;margin-right: 0.25em;color: #696969;}#sk-container-id-4 label.sk-toggleable__label-arrow:hover:before {color: black;}#sk-container-id-4 div.sk-estimator:hover label.sk-toggleable__label-arrow:before {color: black;}#sk-container-id-4 div.sk-toggleable__content {max-height: 0;max-width: 0;overflow: hidden;text-align: left;background-color: #f0f8ff;}#sk-container-id-4 div.sk-toggleable__content pre {margin: 0.2em;color: black;border-radius: 0.25em;background-color: #f0f8ff;}#sk-container-id-4 input.sk-toggleable__control:checked~div.sk-toggleable__content {max-height: 200px;max-width: 100%;overflow: auto;}#sk-container-id-4 input.sk-toggleable__control:checked~label.sk-toggleable__label-arrow:before {content: \"▾\";}#sk-container-id-4 div.sk-estimator input.sk-toggleable__control:checked~label.sk-toggleable__label {background-color: #d4ebff;}#sk-container-id-4 div.sk-label input.sk-toggleable__control:checked~label.sk-toggleable__label {background-color: #d4ebff;}#sk-container-id-4 input.sk-hidden--visually {border: 0;clip: rect(1px 1px 1px 1px);clip: rect(1px, 1px, 1px, 1px);height: 1px;margin: -1px;overflow: hidden;padding: 0;position: absolute;width: 1px;}#sk-container-id-4 div.sk-estimator {font-family: monospace;background-color: #f0f8ff;border: 1px dotted black;border-radius: 0.25em;box-sizing: border-box;margin-bottom: 0.5em;}#sk-container-id-4 div.sk-estimator:hover {background-color: #d4ebff;}#sk-container-id-4 div.sk-parallel-item::after {content: \"\";width: 100%;border-bottom: 1px solid gray;flex-grow: 1;}#sk-container-id-4 div.sk-label:hover label.sk-toggleable__label {background-color: #d4ebff;}#sk-container-id-4 div.sk-serial::before {content: \"\";position: absolute;border-left: 1px solid gray;box-sizing: border-box;top: 0;bottom: 0;left: 50%;z-index: 0;}#sk-container-id-4 div.sk-serial {display: flex;flex-direction: column;align-items: center;background-color: white;padding-right: 0.2em;padding-left: 0.2em;position: relative;}#sk-container-id-4 div.sk-item {position: relative;z-index: 1;}#sk-container-id-4 div.sk-parallel {display: flex;align-items: stretch;justify-content: center;background-color: white;position: relative;}#sk-container-id-4 div.sk-item::before, #sk-container-id-4 div.sk-parallel-item::before {content: \"\";position: absolute;border-left: 1px solid gray;box-sizing: border-box;top: 0;bottom: 0;left: 50%;z-index: -1;}#sk-container-id-4 div.sk-parallel-item {display: flex;flex-direction: column;z-index: 1;position: relative;background-color: white;}#sk-container-id-4 div.sk-parallel-item:first-child::after {align-self: flex-end;width: 50%;}#sk-container-id-4 div.sk-parallel-item:last-child::after {align-self: flex-start;width: 50%;}#sk-container-id-4 div.sk-parallel-item:only-child::after {width: 0;}#sk-container-id-4 div.sk-dashed-wrapped {border: 1px dashed gray;margin: 0 0.4em 0.5em 0.4em;box-sizing: border-box;padding-bottom: 0.4em;background-color: white;}#sk-container-id-4 div.sk-label label {font-family: monospace;font-weight: bold;display: inline-block;line-height: 1.2em;}#sk-container-id-4 div.sk-label-container {text-align: center;}#sk-container-id-4 div.sk-container {/* jupyter's `normalize.less` sets `[hidden] { display: none; }` but bootstrap.min.css set `[hidden] { display: none !important; }` so we also need the `!important` here to be able to override the default hidden behavior on the sphinx rendered scikit-learn.org. See: https://github.com/scikit-learn/scikit-learn/issues/21755 */display: inline-block !important;position: relative;}#sk-container-id-4 div.sk-text-repr-fallback {display: none;}</style><div id=\"sk-container-id-4\" class=\"sk-top-container\"><div class=\"sk-text-repr-fallback\"><pre>LogisticRegression(solver=&#x27;liblinear&#x27;)</pre><b>In a Jupyter environment, please rerun this cell to show the HTML representation or trust the notebook. <br />On GitHub, the HTML representation is unable to render, please try loading this page with nbviewer.org.</b></div><div class=\"sk-container\" hidden><div class=\"sk-item\"><div class=\"sk-estimator sk-toggleable\"><input class=\"sk-toggleable__control sk-hidden--visually\" id=\"sk-estimator-id-4\" type=\"checkbox\" checked><label for=\"sk-estimator-id-4\" class=\"sk-toggleable__label sk-toggleable__label-arrow\">LogisticRegression</label><div class=\"sk-toggleable__content\"><pre>LogisticRegression(solver=&#x27;liblinear&#x27;)</pre></div></div></div></div></div>"
     },
     "execution_count": 210,
     "metadata": {},
     "output_type": "execute_result"
    }
   ],
   "source": [
    "logCvModel"
   ],
   "metadata": {
    "collapsed": false,
    "ExecuteTime": {
     "end_time": "2024-03-02T08:08:33.574150Z",
     "start_time": "2024-03-02T08:08:33.565178Z"
    }
   },
   "id": "aa6608a65247390",
   "execution_count": 210
  },
  {
   "cell_type": "code",
   "outputs": [],
   "source": [
    "yTahmin = logModel.predict(x_test)"
   ],
   "metadata": {
    "collapsed": false,
    "ExecuteTime": {
     "end_time": "2024-03-02T08:08:33.649447Z",
     "start_time": "2024-03-02T08:08:33.630452Z"
    }
   },
   "id": "1cc375f01258d9a3",
   "execution_count": 211
  },
  {
   "cell_type": "code",
   "outputs": [
    {
     "name": "stdout",
     "output_type": "stream",
     "text": [
      "0.7662337662337663\n"
     ]
    }
   ],
   "source": [
    "print(accuracy_score(y_test,yTahmin))"
   ],
   "metadata": {
    "collapsed": false,
    "ExecuteTime": {
     "end_time": "2024-03-02T08:08:33.726545Z",
     "start_time": "2024-03-02T08:08:33.720569Z"
    }
   },
   "id": "36dccbafcd9bb0e6",
   "execution_count": 212
  },
  {
   "cell_type": "code",
   "outputs": [],
   "source": [
    "crossValScore = cross_val_score(logModel,x_test,y_test)"
   ],
   "metadata": {
    "collapsed": false,
    "ExecuteTime": {
     "end_time": "2024-03-02T08:08:33.803173Z",
     "start_time": "2024-03-02T08:08:33.769960Z"
    }
   },
   "id": "f5c8f24b764fa89",
   "execution_count": 213
  },
  {
   "cell_type": "code",
   "outputs": [
    {
     "data": {
      "text/plain": "array([0.78723404, 0.82608696, 0.82608696, 0.69565217, 0.73913043])"
     },
     "execution_count": 214,
     "metadata": {},
     "output_type": "execute_result"
    }
   ],
   "source": [
    "crossValScore"
   ],
   "metadata": {
    "collapsed": false,
    "ExecuteTime": {
     "end_time": "2024-03-02T08:08:33.865604Z",
     "start_time": "2024-03-02T08:08:33.858620Z"
    }
   },
   "id": "2fb45652cd760bc5",
   "execution_count": 214
  },
  {
   "cell_type": "markdown",
   "source": [
    "2-K EN YAKIN KOMŞU"
   ],
   "metadata": {
    "collapsed": false
   },
   "id": "8c4cab995e799b33"
  },
  {
   "cell_type": "markdown",
   "source": [
    "2.1-Model ve Tahmin"
   ],
   "metadata": {
    "collapsed": false
   },
   "id": "df389d1408c50270"
  },
  {
   "cell_type": "code",
   "outputs": [],
   "source": [
    "y = df[\"Outcome\"]\n",
    "X = df.drop(\"Outcome\",axis=1)\n",
    "x_train, x_test, y_train, y_test = train_test_split(x,y,test_size=0.30,random_state=42)"
   ],
   "metadata": {
    "collapsed": false,
    "ExecuteTime": {
     "end_time": "2024-03-02T08:08:33.926816Z",
     "start_time": "2024-03-02T08:08:33.912349Z"
    }
   },
   "id": "658dced10fa843f8",
   "execution_count": 215
  },
  {
   "cell_type": "code",
   "outputs": [],
   "source": [
    "knnModel = KNeighborsClassifier().fit(x_train,y_train)"
   ],
   "metadata": {
    "collapsed": false,
    "ExecuteTime": {
     "end_time": "2024-03-02T08:08:34.021207Z",
     "start_time": "2024-03-02T08:08:34.008680Z"
    }
   },
   "id": "33235232d4f8e505",
   "execution_count": 216
  },
  {
   "cell_type": "code",
   "outputs": [
    {
     "data": {
      "text/plain": "KNeighborsClassifier()",
      "text/html": "<style>#sk-container-id-5 {color: black;}#sk-container-id-5 pre{padding: 0;}#sk-container-id-5 div.sk-toggleable {background-color: white;}#sk-container-id-5 label.sk-toggleable__label {cursor: pointer;display: block;width: 100%;margin-bottom: 0;padding: 0.3em;box-sizing: border-box;text-align: center;}#sk-container-id-5 label.sk-toggleable__label-arrow:before {content: \"▸\";float: left;margin-right: 0.25em;color: #696969;}#sk-container-id-5 label.sk-toggleable__label-arrow:hover:before {color: black;}#sk-container-id-5 div.sk-estimator:hover label.sk-toggleable__label-arrow:before {color: black;}#sk-container-id-5 div.sk-toggleable__content {max-height: 0;max-width: 0;overflow: hidden;text-align: left;background-color: #f0f8ff;}#sk-container-id-5 div.sk-toggleable__content pre {margin: 0.2em;color: black;border-radius: 0.25em;background-color: #f0f8ff;}#sk-container-id-5 input.sk-toggleable__control:checked~div.sk-toggleable__content {max-height: 200px;max-width: 100%;overflow: auto;}#sk-container-id-5 input.sk-toggleable__control:checked~label.sk-toggleable__label-arrow:before {content: \"▾\";}#sk-container-id-5 div.sk-estimator input.sk-toggleable__control:checked~label.sk-toggleable__label {background-color: #d4ebff;}#sk-container-id-5 div.sk-label input.sk-toggleable__control:checked~label.sk-toggleable__label {background-color: #d4ebff;}#sk-container-id-5 input.sk-hidden--visually {border: 0;clip: rect(1px 1px 1px 1px);clip: rect(1px, 1px, 1px, 1px);height: 1px;margin: -1px;overflow: hidden;padding: 0;position: absolute;width: 1px;}#sk-container-id-5 div.sk-estimator {font-family: monospace;background-color: #f0f8ff;border: 1px dotted black;border-radius: 0.25em;box-sizing: border-box;margin-bottom: 0.5em;}#sk-container-id-5 div.sk-estimator:hover {background-color: #d4ebff;}#sk-container-id-5 div.sk-parallel-item::after {content: \"\";width: 100%;border-bottom: 1px solid gray;flex-grow: 1;}#sk-container-id-5 div.sk-label:hover label.sk-toggleable__label {background-color: #d4ebff;}#sk-container-id-5 div.sk-serial::before {content: \"\";position: absolute;border-left: 1px solid gray;box-sizing: border-box;top: 0;bottom: 0;left: 50%;z-index: 0;}#sk-container-id-5 div.sk-serial {display: flex;flex-direction: column;align-items: center;background-color: white;padding-right: 0.2em;padding-left: 0.2em;position: relative;}#sk-container-id-5 div.sk-item {position: relative;z-index: 1;}#sk-container-id-5 div.sk-parallel {display: flex;align-items: stretch;justify-content: center;background-color: white;position: relative;}#sk-container-id-5 div.sk-item::before, #sk-container-id-5 div.sk-parallel-item::before {content: \"\";position: absolute;border-left: 1px solid gray;box-sizing: border-box;top: 0;bottom: 0;left: 50%;z-index: -1;}#sk-container-id-5 div.sk-parallel-item {display: flex;flex-direction: column;z-index: 1;position: relative;background-color: white;}#sk-container-id-5 div.sk-parallel-item:first-child::after {align-self: flex-end;width: 50%;}#sk-container-id-5 div.sk-parallel-item:last-child::after {align-self: flex-start;width: 50%;}#sk-container-id-5 div.sk-parallel-item:only-child::after {width: 0;}#sk-container-id-5 div.sk-dashed-wrapped {border: 1px dashed gray;margin: 0 0.4em 0.5em 0.4em;box-sizing: border-box;padding-bottom: 0.4em;background-color: white;}#sk-container-id-5 div.sk-label label {font-family: monospace;font-weight: bold;display: inline-block;line-height: 1.2em;}#sk-container-id-5 div.sk-label-container {text-align: center;}#sk-container-id-5 div.sk-container {/* jupyter's `normalize.less` sets `[hidden] { display: none; }` but bootstrap.min.css set `[hidden] { display: none !important; }` so we also need the `!important` here to be able to override the default hidden behavior on the sphinx rendered scikit-learn.org. See: https://github.com/scikit-learn/scikit-learn/issues/21755 */display: inline-block !important;position: relative;}#sk-container-id-5 div.sk-text-repr-fallback {display: none;}</style><div id=\"sk-container-id-5\" class=\"sk-top-container\"><div class=\"sk-text-repr-fallback\"><pre>KNeighborsClassifier()</pre><b>In a Jupyter environment, please rerun this cell to show the HTML representation or trust the notebook. <br />On GitHub, the HTML representation is unable to render, please try loading this page with nbviewer.org.</b></div><div class=\"sk-container\" hidden><div class=\"sk-item\"><div class=\"sk-estimator sk-toggleable\"><input class=\"sk-toggleable__control sk-hidden--visually\" id=\"sk-estimator-id-5\" type=\"checkbox\" checked><label for=\"sk-estimator-id-5\" class=\"sk-toggleable__label sk-toggleable__label-arrow\">KNeighborsClassifier</label><div class=\"sk-toggleable__content\"><pre>KNeighborsClassifier()</pre></div></div></div></div></div>"
     },
     "execution_count": 217,
     "metadata": {},
     "output_type": "execute_result"
    }
   ],
   "source": [
    "knnModel"
   ],
   "metadata": {
    "collapsed": false,
    "ExecuteTime": {
     "end_time": "2024-03-02T08:08:34.052654Z",
     "start_time": "2024-03-02T08:08:34.045147Z"
    }
   },
   "id": "f6885c2b27e2cdc1",
   "execution_count": 217
  },
  {
   "cell_type": "code",
   "outputs": [],
   "source": [
    "yTahmin = knnModel.predict(x_test)"
   ],
   "metadata": {
    "collapsed": false,
    "ExecuteTime": {
     "end_time": "2024-03-02T08:08:34.148375Z",
     "start_time": "2024-03-02T08:08:34.130713Z"
    }
   },
   "id": "ef8ee20eb7140c48",
   "execution_count": 218
  },
  {
   "cell_type": "code",
   "outputs": [
    {
     "data": {
      "text/plain": "0.6883116883116883"
     },
     "execution_count": 219,
     "metadata": {},
     "output_type": "execute_result"
    }
   ],
   "source": [
    "accuracy_score(y_test,yTahmin)"
   ],
   "metadata": {
    "collapsed": false,
    "ExecuteTime": {
     "end_time": "2024-03-02T08:08:34.178877Z",
     "start_time": "2024-03-02T08:08:34.159847Z"
    }
   },
   "id": "33e6c2a8a702bf02",
   "execution_count": 219
  },
  {
   "cell_type": "code",
   "outputs": [
    {
     "name": "stdout",
     "output_type": "stream",
     "text": [
      "              precision    recall  f1-score   support\n",
      "\n",
      "           0       0.77      0.75      0.76       151\n",
      "           1       0.55      0.56      0.56        80\n",
      "\n",
      "    accuracy                           0.69       231\n",
      "   macro avg       0.66      0.66      0.66       231\n",
      "weighted avg       0.69      0.69      0.69       231\n"
     ]
    }
   ],
   "source": [
    "print(classification_report(y_test,yTahmin))"
   ],
   "metadata": {
    "collapsed": false,
    "ExecuteTime": {
     "end_time": "2024-03-02T08:08:34.256909Z",
     "start_time": "2024-03-02T08:08:34.234379Z"
    }
   },
   "id": "747174d81a40da13",
   "execution_count": 220
  },
  {
   "cell_type": "markdown",
   "source": [
    "2.2-Model Tuning"
   ],
   "metadata": {
    "collapsed": false
   },
   "id": "8b3c60859e215d9d"
  },
  {
   "cell_type": "code",
   "outputs": [],
   "source": [
    "knn = KNeighborsClassifier()"
   ],
   "metadata": {
    "collapsed": false,
    "ExecuteTime": {
     "end_time": "2024-03-02T08:08:34.380153Z",
     "start_time": "2024-03-02T08:08:34.372668Z"
    }
   },
   "id": "5a4d45aa7217bb71",
   "execution_count": 221
  },
  {
   "cell_type": "code",
   "outputs": [],
   "source": [
    "knnParams = {\"n_neighbors\":np.arange(1,50)}"
   ],
   "metadata": {
    "collapsed": false,
    "ExecuteTime": {
     "end_time": "2024-03-02T08:08:34.427758Z",
     "start_time": "2024-03-02T08:08:34.421696Z"
    }
   },
   "id": "6cfae7a173725891",
   "execution_count": 222
  },
  {
   "cell_type": "code",
   "outputs": [
    {
     "data": {
      "text/plain": "{'n_neighbors': array([ 1,  2,  3,  4,  5,  6,  7,  8,  9, 10, 11, 12, 13, 14, 15, 16, 17,\n        18, 19, 20, 21, 22, 23, 24, 25, 26, 27, 28, 29, 30, 31, 32, 33, 34,\n        35, 36, 37, 38, 39, 40, 41, 42, 43, 44, 45, 46, 47, 48, 49])}"
     },
     "execution_count": 223,
     "metadata": {},
     "output_type": "execute_result"
    }
   ],
   "source": [
    "knnParams"
   ],
   "metadata": {
    "collapsed": false,
    "ExecuteTime": {
     "end_time": "2024-03-02T08:08:34.568715Z",
     "start_time": "2024-03-02T08:08:34.553161Z"
    }
   },
   "id": "5eac7984bade16ad",
   "execution_count": 223
  },
  {
   "cell_type": "code",
   "outputs": [],
   "source": [
    "knnCvModel = GridSearchCV(knn,knnParams,cv=10).fit(x_train,y_train)"
   ],
   "metadata": {
    "collapsed": false,
    "ExecuteTime": {
     "end_time": "2024-03-02T08:08:36.926931Z",
     "start_time": "2024-03-02T08:08:34.607277Z"
    }
   },
   "id": "d998471845e51ef4",
   "execution_count": 224
  },
  {
   "cell_type": "code",
   "outputs": [
    {
     "data": {
      "text/plain": "GridSearchCV(cv=10, estimator=KNeighborsClassifier(),\n             param_grid={'n_neighbors': array([ 1,  2,  3,  4,  5,  6,  7,  8,  9, 10, 11, 12, 13, 14, 15, 16, 17,\n       18, 19, 20, 21, 22, 23, 24, 25, 26, 27, 28, 29, 30, 31, 32, 33, 34,\n       35, 36, 37, 38, 39, 40, 41, 42, 43, 44, 45, 46, 47, 48, 49])})",
      "text/html": "<style>#sk-container-id-6 {color: black;}#sk-container-id-6 pre{padding: 0;}#sk-container-id-6 div.sk-toggleable {background-color: white;}#sk-container-id-6 label.sk-toggleable__label {cursor: pointer;display: block;width: 100%;margin-bottom: 0;padding: 0.3em;box-sizing: border-box;text-align: center;}#sk-container-id-6 label.sk-toggleable__label-arrow:before {content: \"▸\";float: left;margin-right: 0.25em;color: #696969;}#sk-container-id-6 label.sk-toggleable__label-arrow:hover:before {color: black;}#sk-container-id-6 div.sk-estimator:hover label.sk-toggleable__label-arrow:before {color: black;}#sk-container-id-6 div.sk-toggleable__content {max-height: 0;max-width: 0;overflow: hidden;text-align: left;background-color: #f0f8ff;}#sk-container-id-6 div.sk-toggleable__content pre {margin: 0.2em;color: black;border-radius: 0.25em;background-color: #f0f8ff;}#sk-container-id-6 input.sk-toggleable__control:checked~div.sk-toggleable__content {max-height: 200px;max-width: 100%;overflow: auto;}#sk-container-id-6 input.sk-toggleable__control:checked~label.sk-toggleable__label-arrow:before {content: \"▾\";}#sk-container-id-6 div.sk-estimator input.sk-toggleable__control:checked~label.sk-toggleable__label {background-color: #d4ebff;}#sk-container-id-6 div.sk-label input.sk-toggleable__control:checked~label.sk-toggleable__label {background-color: #d4ebff;}#sk-container-id-6 input.sk-hidden--visually {border: 0;clip: rect(1px 1px 1px 1px);clip: rect(1px, 1px, 1px, 1px);height: 1px;margin: -1px;overflow: hidden;padding: 0;position: absolute;width: 1px;}#sk-container-id-6 div.sk-estimator {font-family: monospace;background-color: #f0f8ff;border: 1px dotted black;border-radius: 0.25em;box-sizing: border-box;margin-bottom: 0.5em;}#sk-container-id-6 div.sk-estimator:hover {background-color: #d4ebff;}#sk-container-id-6 div.sk-parallel-item::after {content: \"\";width: 100%;border-bottom: 1px solid gray;flex-grow: 1;}#sk-container-id-6 div.sk-label:hover label.sk-toggleable__label {background-color: #d4ebff;}#sk-container-id-6 div.sk-serial::before {content: \"\";position: absolute;border-left: 1px solid gray;box-sizing: border-box;top: 0;bottom: 0;left: 50%;z-index: 0;}#sk-container-id-6 div.sk-serial {display: flex;flex-direction: column;align-items: center;background-color: white;padding-right: 0.2em;padding-left: 0.2em;position: relative;}#sk-container-id-6 div.sk-item {position: relative;z-index: 1;}#sk-container-id-6 div.sk-parallel {display: flex;align-items: stretch;justify-content: center;background-color: white;position: relative;}#sk-container-id-6 div.sk-item::before, #sk-container-id-6 div.sk-parallel-item::before {content: \"\";position: absolute;border-left: 1px solid gray;box-sizing: border-box;top: 0;bottom: 0;left: 50%;z-index: -1;}#sk-container-id-6 div.sk-parallel-item {display: flex;flex-direction: column;z-index: 1;position: relative;background-color: white;}#sk-container-id-6 div.sk-parallel-item:first-child::after {align-self: flex-end;width: 50%;}#sk-container-id-6 div.sk-parallel-item:last-child::after {align-self: flex-start;width: 50%;}#sk-container-id-6 div.sk-parallel-item:only-child::after {width: 0;}#sk-container-id-6 div.sk-dashed-wrapped {border: 1px dashed gray;margin: 0 0.4em 0.5em 0.4em;box-sizing: border-box;padding-bottom: 0.4em;background-color: white;}#sk-container-id-6 div.sk-label label {font-family: monospace;font-weight: bold;display: inline-block;line-height: 1.2em;}#sk-container-id-6 div.sk-label-container {text-align: center;}#sk-container-id-6 div.sk-container {/* jupyter's `normalize.less` sets `[hidden] { display: none; }` but bootstrap.min.css set `[hidden] { display: none !important; }` so we also need the `!important` here to be able to override the default hidden behavior on the sphinx rendered scikit-learn.org. See: https://github.com/scikit-learn/scikit-learn/issues/21755 */display: inline-block !important;position: relative;}#sk-container-id-6 div.sk-text-repr-fallback {display: none;}</style><div id=\"sk-container-id-6\" class=\"sk-top-container\"><div class=\"sk-text-repr-fallback\"><pre>GridSearchCV(cv=10, estimator=KNeighborsClassifier(),\n             param_grid={&#x27;n_neighbors&#x27;: array([ 1,  2,  3,  4,  5,  6,  7,  8,  9, 10, 11, 12, 13, 14, 15, 16, 17,\n       18, 19, 20, 21, 22, 23, 24, 25, 26, 27, 28, 29, 30, 31, 32, 33, 34,\n       35, 36, 37, 38, 39, 40, 41, 42, 43, 44, 45, 46, 47, 48, 49])})</pre><b>In a Jupyter environment, please rerun this cell to show the HTML representation or trust the notebook. <br />On GitHub, the HTML representation is unable to render, please try loading this page with nbviewer.org.</b></div><div class=\"sk-container\" hidden><div class=\"sk-item sk-dashed-wrapped\"><div class=\"sk-label-container\"><div class=\"sk-label sk-toggleable\"><input class=\"sk-toggleable__control sk-hidden--visually\" id=\"sk-estimator-id-6\" type=\"checkbox\" ><label for=\"sk-estimator-id-6\" class=\"sk-toggleable__label sk-toggleable__label-arrow\">GridSearchCV</label><div class=\"sk-toggleable__content\"><pre>GridSearchCV(cv=10, estimator=KNeighborsClassifier(),\n             param_grid={&#x27;n_neighbors&#x27;: array([ 1,  2,  3,  4,  5,  6,  7,  8,  9, 10, 11, 12, 13, 14, 15, 16, 17,\n       18, 19, 20, 21, 22, 23, 24, 25, 26, 27, 28, 29, 30, 31, 32, 33, 34,\n       35, 36, 37, 38, 39, 40, 41, 42, 43, 44, 45, 46, 47, 48, 49])})</pre></div></div></div><div class=\"sk-parallel\"><div class=\"sk-parallel-item\"><div class=\"sk-item\"><div class=\"sk-label-container\"><div class=\"sk-label sk-toggleable\"><input class=\"sk-toggleable__control sk-hidden--visually\" id=\"sk-estimator-id-7\" type=\"checkbox\" ><label for=\"sk-estimator-id-7\" class=\"sk-toggleable__label sk-toggleable__label-arrow\">estimator: KNeighborsClassifier</label><div class=\"sk-toggleable__content\"><pre>KNeighborsClassifier()</pre></div></div></div><div class=\"sk-serial\"><div class=\"sk-item\"><div class=\"sk-estimator sk-toggleable\"><input class=\"sk-toggleable__control sk-hidden--visually\" id=\"sk-estimator-id-8\" type=\"checkbox\" ><label for=\"sk-estimator-id-8\" class=\"sk-toggleable__label sk-toggleable__label-arrow\">KNeighborsClassifier</label><div class=\"sk-toggleable__content\"><pre>KNeighborsClassifier()</pre></div></div></div></div></div></div></div></div></div></div>"
     },
     "execution_count": 225,
     "metadata": {},
     "output_type": "execute_result"
    }
   ],
   "source": [
    "knnCvModel"
   ],
   "metadata": {
    "collapsed": false,
    "ExecuteTime": {
     "end_time": "2024-03-02T08:08:36.941950Z",
     "start_time": "2024-03-02T08:08:36.928933Z"
    }
   },
   "id": "f2c398a2c3a6bdec",
   "execution_count": 225
  },
  {
   "cell_type": "code",
   "outputs": [
    {
     "data": {
      "text/plain": "0.748637316561845"
     },
     "execution_count": 226,
     "metadata": {},
     "output_type": "execute_result"
    }
   ],
   "source": [
    "knnCvModel.best_score_"
   ],
   "metadata": {
    "collapsed": false,
    "ExecuteTime": {
     "end_time": "2024-03-02T08:08:36.957428Z",
     "start_time": "2024-03-02T08:08:36.942950Z"
    }
   },
   "id": "232da5b0e0f22fa3",
   "execution_count": 226
  },
  {
   "cell_type": "code",
   "outputs": [
    {
     "data": {
      "text/plain": "{'n_neighbors': 11}"
     },
     "execution_count": 227,
     "metadata": {},
     "output_type": "execute_result"
    }
   ],
   "source": [
    "knnCvModel.best_params_"
   ],
   "metadata": {
    "collapsed": false,
    "ExecuteTime": {
     "end_time": "2024-03-02T08:08:36.973375Z",
     "start_time": "2024-03-02T08:08:36.959419Z"
    }
   },
   "id": "7dce976dc25ee46",
   "execution_count": 227
  },
  {
   "cell_type": "code",
   "outputs": [],
   "source": [
    "knnTuned = KNeighborsClassifier(n_neighbors=11).fit(x_train,y_train)"
   ],
   "metadata": {
    "collapsed": false,
    "ExecuteTime": {
     "end_time": "2024-03-02T08:08:36.989095Z",
     "start_time": "2024-03-02T08:08:36.974531Z"
    }
   },
   "id": "d76c0242acac70aa",
   "execution_count": 228
  },
  {
   "cell_type": "code",
   "outputs": [],
   "source": [
    "yTahmin = knnTuned.predict(x_test)"
   ],
   "metadata": {
    "collapsed": false,
    "ExecuteTime": {
     "end_time": "2024-03-02T08:08:37.004583Z",
     "start_time": "2024-03-02T08:08:36.990096Z"
    }
   },
   "id": "dfdd2b6667791463",
   "execution_count": 229
  },
  {
   "cell_type": "code",
   "outputs": [
    {
     "data": {
      "text/plain": "0.7316017316017316"
     },
     "execution_count": 230,
     "metadata": {},
     "output_type": "execute_result"
    }
   ],
   "source": [
    "accuracy_score(y_test,yTahmin)"
   ],
   "metadata": {
    "collapsed": false,
    "ExecuteTime": {
     "end_time": "2024-03-02T08:08:37.020044Z",
     "start_time": "2024-03-02T08:08:37.005575Z"
    }
   },
   "id": "b66833182ee6a3a1",
   "execution_count": 230
  },
  {
   "cell_type": "code",
   "outputs": [
    {
     "data": {
      "text/plain": "0.7316017316017316"
     },
     "execution_count": 231,
     "metadata": {},
     "output_type": "execute_result"
    }
   ],
   "source": [
    "knnTuned.score(x_test,y_test)"
   ],
   "metadata": {
    "collapsed": false,
    "ExecuteTime": {
     "end_time": "2024-03-02T08:08:37.035995Z",
     "start_time": "2024-03-02T08:08:37.022037Z"
    }
   },
   "id": "5576a6933fbfe09f",
   "execution_count": 231
  },
  {
   "cell_type": "markdown",
   "source": [
    "3-Destek Vektör Makineleri"
   ],
   "metadata": {
    "collapsed": false
   },
   "id": "a2af5af55c2c09ab"
  },
  {
   "cell_type": "markdown",
   "source": [
    "3.1-Model ve Tahmini"
   ],
   "metadata": {
    "collapsed": false
   },
   "id": "a22ff0a0d4eb3dc1"
  },
  {
   "cell_type": "code",
   "outputs": [],
   "source": [
    "svmModel = SVC(kernel=\"linear\").fit(x_train,y_train)"
   ],
   "metadata": {
    "collapsed": false,
    "ExecuteTime": {
     "end_time": "2024-03-02T08:08:39.012302Z",
     "start_time": "2024-03-02T08:08:37.037142Z"
    }
   },
   "id": "538f880cad483fb9",
   "execution_count": 232
  },
  {
   "cell_type": "code",
   "outputs": [
    {
     "data": {
      "text/plain": "SVC(kernel='linear')",
      "text/html": "<style>#sk-container-id-7 {color: black;}#sk-container-id-7 pre{padding: 0;}#sk-container-id-7 div.sk-toggleable {background-color: white;}#sk-container-id-7 label.sk-toggleable__label {cursor: pointer;display: block;width: 100%;margin-bottom: 0;padding: 0.3em;box-sizing: border-box;text-align: center;}#sk-container-id-7 label.sk-toggleable__label-arrow:before {content: \"▸\";float: left;margin-right: 0.25em;color: #696969;}#sk-container-id-7 label.sk-toggleable__label-arrow:hover:before {color: black;}#sk-container-id-7 div.sk-estimator:hover label.sk-toggleable__label-arrow:before {color: black;}#sk-container-id-7 div.sk-toggleable__content {max-height: 0;max-width: 0;overflow: hidden;text-align: left;background-color: #f0f8ff;}#sk-container-id-7 div.sk-toggleable__content pre {margin: 0.2em;color: black;border-radius: 0.25em;background-color: #f0f8ff;}#sk-container-id-7 input.sk-toggleable__control:checked~div.sk-toggleable__content {max-height: 200px;max-width: 100%;overflow: auto;}#sk-container-id-7 input.sk-toggleable__control:checked~label.sk-toggleable__label-arrow:before {content: \"▾\";}#sk-container-id-7 div.sk-estimator input.sk-toggleable__control:checked~label.sk-toggleable__label {background-color: #d4ebff;}#sk-container-id-7 div.sk-label input.sk-toggleable__control:checked~label.sk-toggleable__label {background-color: #d4ebff;}#sk-container-id-7 input.sk-hidden--visually {border: 0;clip: rect(1px 1px 1px 1px);clip: rect(1px, 1px, 1px, 1px);height: 1px;margin: -1px;overflow: hidden;padding: 0;position: absolute;width: 1px;}#sk-container-id-7 div.sk-estimator {font-family: monospace;background-color: #f0f8ff;border: 1px dotted black;border-radius: 0.25em;box-sizing: border-box;margin-bottom: 0.5em;}#sk-container-id-7 div.sk-estimator:hover {background-color: #d4ebff;}#sk-container-id-7 div.sk-parallel-item::after {content: \"\";width: 100%;border-bottom: 1px solid gray;flex-grow: 1;}#sk-container-id-7 div.sk-label:hover label.sk-toggleable__label {background-color: #d4ebff;}#sk-container-id-7 div.sk-serial::before {content: \"\";position: absolute;border-left: 1px solid gray;box-sizing: border-box;top: 0;bottom: 0;left: 50%;z-index: 0;}#sk-container-id-7 div.sk-serial {display: flex;flex-direction: column;align-items: center;background-color: white;padding-right: 0.2em;padding-left: 0.2em;position: relative;}#sk-container-id-7 div.sk-item {position: relative;z-index: 1;}#sk-container-id-7 div.sk-parallel {display: flex;align-items: stretch;justify-content: center;background-color: white;position: relative;}#sk-container-id-7 div.sk-item::before, #sk-container-id-7 div.sk-parallel-item::before {content: \"\";position: absolute;border-left: 1px solid gray;box-sizing: border-box;top: 0;bottom: 0;left: 50%;z-index: -1;}#sk-container-id-7 div.sk-parallel-item {display: flex;flex-direction: column;z-index: 1;position: relative;background-color: white;}#sk-container-id-7 div.sk-parallel-item:first-child::after {align-self: flex-end;width: 50%;}#sk-container-id-7 div.sk-parallel-item:last-child::after {align-self: flex-start;width: 50%;}#sk-container-id-7 div.sk-parallel-item:only-child::after {width: 0;}#sk-container-id-7 div.sk-dashed-wrapped {border: 1px dashed gray;margin: 0 0.4em 0.5em 0.4em;box-sizing: border-box;padding-bottom: 0.4em;background-color: white;}#sk-container-id-7 div.sk-label label {font-family: monospace;font-weight: bold;display: inline-block;line-height: 1.2em;}#sk-container-id-7 div.sk-label-container {text-align: center;}#sk-container-id-7 div.sk-container {/* jupyter's `normalize.less` sets `[hidden] { display: none; }` but bootstrap.min.css set `[hidden] { display: none !important; }` so we also need the `!important` here to be able to override the default hidden behavior on the sphinx rendered scikit-learn.org. See: https://github.com/scikit-learn/scikit-learn/issues/21755 */display: inline-block !important;position: relative;}#sk-container-id-7 div.sk-text-repr-fallback {display: none;}</style><div id=\"sk-container-id-7\" class=\"sk-top-container\"><div class=\"sk-text-repr-fallback\"><pre>SVC(kernel=&#x27;linear&#x27;)</pre><b>In a Jupyter environment, please rerun this cell to show the HTML representation or trust the notebook. <br />On GitHub, the HTML representation is unable to render, please try loading this page with nbviewer.org.</b></div><div class=\"sk-container\" hidden><div class=\"sk-item\"><div class=\"sk-estimator sk-toggleable\"><input class=\"sk-toggleable__control sk-hidden--visually\" id=\"sk-estimator-id-9\" type=\"checkbox\" checked><label for=\"sk-estimator-id-9\" class=\"sk-toggleable__label sk-toggleable__label-arrow\">SVC</label><div class=\"sk-toggleable__content\"><pre>SVC(kernel=&#x27;linear&#x27;)</pre></div></div></div></div></div>"
     },
     "execution_count": 233,
     "metadata": {},
     "output_type": "execute_result"
    }
   ],
   "source": [
    "svmModel"
   ],
   "metadata": {
    "collapsed": false,
    "ExecuteTime": {
     "end_time": "2024-03-02T08:08:39.027808Z",
     "start_time": "2024-03-02T08:08:39.014807Z"
    }
   },
   "id": "e7eade33aa570",
   "execution_count": 233
  },
  {
   "cell_type": "code",
   "outputs": [],
   "source": [
    "yTahmin = svmModel.predict(x_test)"
   ],
   "metadata": {
    "collapsed": false,
    "ExecuteTime": {
     "end_time": "2024-03-02T08:08:39.043371Z",
     "start_time": "2024-03-02T08:08:39.028800Z"
    }
   },
   "id": "a4fbf0efc4181413",
   "execution_count": 234
  },
  {
   "cell_type": "code",
   "outputs": [
    {
     "data": {
      "text/plain": "0.7445887445887446"
     },
     "execution_count": 235,
     "metadata": {},
     "output_type": "execute_result"
    }
   ],
   "source": [
    "accuracy_score(y_test,yTahmin)"
   ],
   "metadata": {
    "collapsed": false,
    "ExecuteTime": {
     "end_time": "2024-03-02T08:08:39.058845Z",
     "start_time": "2024-03-02T08:08:39.044370Z"
    }
   },
   "id": "34d2b9f828d4108d",
   "execution_count": 235
  },
  {
   "cell_type": "markdown",
   "source": [
    "3.2-Model Tuning"
   ],
   "metadata": {
    "collapsed": false
   },
   "id": "31ce09f6c632860b"
  },
  {
   "cell_type": "code",
   "outputs": [],
   "source": [
    "svm = SVC()"
   ],
   "metadata": {
    "collapsed": false,
    "ExecuteTime": {
     "end_time": "2024-03-02T08:08:39.073866Z",
     "start_time": "2024-03-02T08:08:39.059844Z"
    }
   },
   "id": "8b73106386595f8",
   "execution_count": 236
  },
  {
   "cell_type": "code",
   "outputs": [],
   "source": [
    "svmParams = {\"C\":np.arange(1,10),\"kernel\":[\"linear\",\"rbf\",\"poly\",\"sigmoid\"]}"
   ],
   "metadata": {
    "collapsed": false,
    "ExecuteTime": {
     "end_time": "2024-03-02T08:08:39.089483Z",
     "start_time": "2024-03-02T08:08:39.074865Z"
    }
   },
   "id": "9988539cbc2779b",
   "execution_count": 237
  },
  {
   "cell_type": "code",
   "outputs": [
    {
     "name": "stdout",
     "output_type": "stream",
     "text": [
      "Fitting 5 folds for each of 36 candidates, totalling 180 fits\n"
     ]
    }
   ],
   "source": [
    "svmCvModel = GridSearchCV(svm, svmParams, cv=5,n_jobs=-1,verbose=2).fit(x_train,y_train)"
   ],
   "metadata": {
    "collapsed": false,
    "ExecuteTime": {
     "end_time": "2024-03-02T08:09:36.942269Z",
     "start_time": "2024-03-02T08:08:39.090482Z"
    }
   },
   "id": "2458593735eada0a",
   "execution_count": 238
  },
  {
   "cell_type": "code",
   "outputs": [
    {
     "data": {
      "text/plain": "0.7839044652128765"
     },
     "execution_count": 239,
     "metadata": {},
     "output_type": "execute_result"
    }
   ],
   "source": [
    "svmCvModel.best_score_"
   ],
   "metadata": {
    "collapsed": false,
    "ExecuteTime": {
     "end_time": "2024-03-02T08:09:36.957554Z",
     "start_time": "2024-03-02T08:09:36.943802Z"
    }
   },
   "id": "da62788891991c4c",
   "execution_count": 239
  },
  {
   "cell_type": "code",
   "outputs": [
    {
     "data": {
      "text/plain": "{'C': 2, 'kernel': 'linear'}"
     },
     "execution_count": 240,
     "metadata": {},
     "output_type": "execute_result"
    }
   ],
   "source": [
    "svmCvModel.best_params_"
   ],
   "metadata": {
    "collapsed": false,
    "ExecuteTime": {
     "end_time": "2024-03-02T08:09:36.972707Z",
     "start_time": "2024-03-02T08:09:36.958552Z"
    }
   },
   "id": "2091f1f408a713af",
   "execution_count": 240
  },
  {
   "cell_type": "markdown",
   "source": [
    "Final Model"
   ],
   "metadata": {
    "collapsed": false
   },
   "id": "df460c7434e3a828"
  },
  {
   "cell_type": "code",
   "outputs": [],
   "source": [
    "svmTuned = SVC(C = 2, kernel=\"linear\").fit(x_train,y_train)"
   ],
   "metadata": {
    "collapsed": false,
    "ExecuteTime": {
     "end_time": "2024-03-02T08:09:43.105478Z",
     "start_time": "2024-03-02T08:09:36.973700Z"
    }
   },
   "id": "ed75a8986a04ed97",
   "execution_count": 241
  },
  {
   "cell_type": "code",
   "outputs": [
    {
     "data": {
      "text/plain": "SVC(C=2, kernel='linear')",
      "text/html": "<style>#sk-container-id-8 {color: black;}#sk-container-id-8 pre{padding: 0;}#sk-container-id-8 div.sk-toggleable {background-color: white;}#sk-container-id-8 label.sk-toggleable__label {cursor: pointer;display: block;width: 100%;margin-bottom: 0;padding: 0.3em;box-sizing: border-box;text-align: center;}#sk-container-id-8 label.sk-toggleable__label-arrow:before {content: \"▸\";float: left;margin-right: 0.25em;color: #696969;}#sk-container-id-8 label.sk-toggleable__label-arrow:hover:before {color: black;}#sk-container-id-8 div.sk-estimator:hover label.sk-toggleable__label-arrow:before {color: black;}#sk-container-id-8 div.sk-toggleable__content {max-height: 0;max-width: 0;overflow: hidden;text-align: left;background-color: #f0f8ff;}#sk-container-id-8 div.sk-toggleable__content pre {margin: 0.2em;color: black;border-radius: 0.25em;background-color: #f0f8ff;}#sk-container-id-8 input.sk-toggleable__control:checked~div.sk-toggleable__content {max-height: 200px;max-width: 100%;overflow: auto;}#sk-container-id-8 input.sk-toggleable__control:checked~label.sk-toggleable__label-arrow:before {content: \"▾\";}#sk-container-id-8 div.sk-estimator input.sk-toggleable__control:checked~label.sk-toggleable__label {background-color: #d4ebff;}#sk-container-id-8 div.sk-label input.sk-toggleable__control:checked~label.sk-toggleable__label {background-color: #d4ebff;}#sk-container-id-8 input.sk-hidden--visually {border: 0;clip: rect(1px 1px 1px 1px);clip: rect(1px, 1px, 1px, 1px);height: 1px;margin: -1px;overflow: hidden;padding: 0;position: absolute;width: 1px;}#sk-container-id-8 div.sk-estimator {font-family: monospace;background-color: #f0f8ff;border: 1px dotted black;border-radius: 0.25em;box-sizing: border-box;margin-bottom: 0.5em;}#sk-container-id-8 div.sk-estimator:hover {background-color: #d4ebff;}#sk-container-id-8 div.sk-parallel-item::after {content: \"\";width: 100%;border-bottom: 1px solid gray;flex-grow: 1;}#sk-container-id-8 div.sk-label:hover label.sk-toggleable__label {background-color: #d4ebff;}#sk-container-id-8 div.sk-serial::before {content: \"\";position: absolute;border-left: 1px solid gray;box-sizing: border-box;top: 0;bottom: 0;left: 50%;z-index: 0;}#sk-container-id-8 div.sk-serial {display: flex;flex-direction: column;align-items: center;background-color: white;padding-right: 0.2em;padding-left: 0.2em;position: relative;}#sk-container-id-8 div.sk-item {position: relative;z-index: 1;}#sk-container-id-8 div.sk-parallel {display: flex;align-items: stretch;justify-content: center;background-color: white;position: relative;}#sk-container-id-8 div.sk-item::before, #sk-container-id-8 div.sk-parallel-item::before {content: \"\";position: absolute;border-left: 1px solid gray;box-sizing: border-box;top: 0;bottom: 0;left: 50%;z-index: -1;}#sk-container-id-8 div.sk-parallel-item {display: flex;flex-direction: column;z-index: 1;position: relative;background-color: white;}#sk-container-id-8 div.sk-parallel-item:first-child::after {align-self: flex-end;width: 50%;}#sk-container-id-8 div.sk-parallel-item:last-child::after {align-self: flex-start;width: 50%;}#sk-container-id-8 div.sk-parallel-item:only-child::after {width: 0;}#sk-container-id-8 div.sk-dashed-wrapped {border: 1px dashed gray;margin: 0 0.4em 0.5em 0.4em;box-sizing: border-box;padding-bottom: 0.4em;background-color: white;}#sk-container-id-8 div.sk-label label {font-family: monospace;font-weight: bold;display: inline-block;line-height: 1.2em;}#sk-container-id-8 div.sk-label-container {text-align: center;}#sk-container-id-8 div.sk-container {/* jupyter's `normalize.less` sets `[hidden] { display: none; }` but bootstrap.min.css set `[hidden] { display: none !important; }` so we also need the `!important` here to be able to override the default hidden behavior on the sphinx rendered scikit-learn.org. See: https://github.com/scikit-learn/scikit-learn/issues/21755 */display: inline-block !important;position: relative;}#sk-container-id-8 div.sk-text-repr-fallback {display: none;}</style><div id=\"sk-container-id-8\" class=\"sk-top-container\"><div class=\"sk-text-repr-fallback\"><pre>SVC(C=2, kernel=&#x27;linear&#x27;)</pre><b>In a Jupyter environment, please rerun this cell to show the HTML representation or trust the notebook. <br />On GitHub, the HTML representation is unable to render, please try loading this page with nbviewer.org.</b></div><div class=\"sk-container\" hidden><div class=\"sk-item\"><div class=\"sk-estimator sk-toggleable\"><input class=\"sk-toggleable__control sk-hidden--visually\" id=\"sk-estimator-id-10\" type=\"checkbox\" checked><label for=\"sk-estimator-id-10\" class=\"sk-toggleable__label sk-toggleable__label-arrow\">SVC</label><div class=\"sk-toggleable__content\"><pre>SVC(C=2, kernel=&#x27;linear&#x27;)</pre></div></div></div></div></div>"
     },
     "execution_count": 242,
     "metadata": {},
     "output_type": "execute_result"
    }
   ],
   "source": [
    "svmTuned"
   ],
   "metadata": {
    "collapsed": false,
    "ExecuteTime": {
     "end_time": "2024-03-02T08:09:43.120538Z",
     "start_time": "2024-03-02T08:09:43.106471Z"
    }
   },
   "id": "9c61fdbf99922e7d",
   "execution_count": 242
  },
  {
   "cell_type": "code",
   "outputs": [],
   "source": [
    "yTahmin = svmTuned.predict(x_test)"
   ],
   "metadata": {
    "collapsed": false,
    "ExecuteTime": {
     "end_time": "2024-03-02T08:09:43.136166Z",
     "start_time": "2024-03-02T08:09:43.121041Z"
    }
   },
   "id": "f1569b4c3d1ced70",
   "execution_count": 243
  },
  {
   "cell_type": "code",
   "outputs": [
    {
     "data": {
      "text/plain": "0.7445887445887446"
     },
     "execution_count": 244,
     "metadata": {},
     "output_type": "execute_result"
    }
   ],
   "source": [
    "accuracy_score(y_test,yTahmin)"
   ],
   "metadata": {
    "collapsed": false,
    "ExecuteTime": {
     "end_time": "2024-03-02T08:09:43.151274Z",
     "start_time": "2024-03-02T08:09:43.137164Z"
    }
   },
   "id": "328f21192b3158f0",
   "execution_count": 244
  },
  {
   "cell_type": "markdown",
   "source": [
    "4-Yapay Sinir Ağları"
   ],
   "metadata": {
    "collapsed": false
   },
   "id": "3cba24c4f07c6934"
  },
  {
   "cell_type": "code",
   "outputs": [],
   "source": [
    "x_train, x_test, y_train, y_test =train_test_split (x,y,test_size=0.30,random_state=42)"
   ],
   "metadata": {
    "collapsed": false,
    "ExecuteTime": {
     "end_time": "2024-03-02T08:09:43.166814Z",
     "start_time": "2024-03-02T08:09:43.152317Z"
    }
   },
   "id": "d4527ead1ed87752",
   "execution_count": 245
  },
  {
   "cell_type": "code",
   "outputs": [],
   "source": [
    "scaler = StandardScaler()\n",
    "scaler.fit(x_train)\n",
    "x_train = scaler.transform(x_train)"
   ],
   "metadata": {
    "collapsed": false,
    "ExecuteTime": {
     "end_time": "2024-03-02T08:09:43.182816Z",
     "start_time": "2024-03-02T08:09:43.168808Z"
    }
   },
   "id": "545de75175aa1513",
   "execution_count": 246
  },
  {
   "cell_type": "code",
   "outputs": [],
   "source": [
    "scaler.fit(x_test)\n",
    "x_test = scaler.transform(x_test)"
   ],
   "metadata": {
    "collapsed": false,
    "ExecuteTime": {
     "end_time": "2024-03-02T08:09:43.197996Z",
     "start_time": "2024-03-02T08:09:43.183814Z"
    }
   },
   "id": "518d36e0c77e90fa",
   "execution_count": 247
  },
  {
   "cell_type": "markdown",
   "source": [
    "4.1- Model ve Tahmin"
   ],
   "metadata": {
    "collapsed": false
   },
   "id": "adbf9276229d862d"
  },
  {
   "cell_type": "code",
   "outputs": [
    {
     "name": "stderr",
     "output_type": "stream",
     "text": [
      "C:\\Users\\arda_\\anaconda3\\lib\\site-packages\\sklearn\\neural_network\\_multilayer_perceptron.py:691: ConvergenceWarning: Stochastic Optimizer: Maximum iterations (200) reached and the optimization hasn't converged yet.\n",
      "  warnings.warn(\n"
     ]
    }
   ],
   "source": [
    "mlpcModel = MLPClassifier().fit(x_train,y_train)"
   ],
   "metadata": {
    "collapsed": false,
    "ExecuteTime": {
     "end_time": "2024-03-02T08:09:43.553187Z",
     "start_time": "2024-03-02T08:09:43.198993Z"
    }
   },
   "id": "586f65efc94e232b",
   "execution_count": 248
  },
  {
   "cell_type": "code",
   "outputs": [
    {
     "data": {
      "text/plain": "[array([[ 2.84144237e-02,  1.37647067e-01,  7.83619104e-02,\n          2.69254948e-02, -8.32187352e-02, -6.28267544e-02,\n         -5.06609444e-02, -3.81851908e-01,  9.29790761e-02,\n          5.11814125e-02, -7.07739246e-02, -4.12133682e-02,\n          1.12942595e-01, -2.53853896e-01, -3.50843973e-02,\n         -2.43016860e-02, -8.62339495e-02,  1.01486370e-01,\n          9.04491740e-02,  8.67118748e-02, -2.78339495e-01,\n          1.44932695e-01, -5.42381126e-01,  2.39308957e-01,\n          1.25628222e-01, -2.59918342e-01, -1.05811333e-01,\n          7.63854001e-03, -3.24766275e-01,  1.51144191e-01,\n          1.48554524e-01,  2.41443507e-01, -2.53036615e-01,\n          8.02244837e-02,  6.97035483e-02,  1.94352477e-01,\n         -5.21206766e-02,  6.72208719e-02,  2.62617598e-01,\n         -8.81715719e-02, -6.91949057e-02, -2.22643058e-01,\n          2.65154575e-02,  3.10649393e-03,  5.24917042e-02,\n         -3.54096997e-01,  1.89656054e-01,  1.44696441e-01,\n         -1.37465766e-02, -1.14625228e-01,  3.00106137e-01,\n          1.37168135e-01,  2.77394401e-02,  1.85239173e-02,\n         -1.18170781e-01,  8.14765596e-02,  1.16576632e-01,\n         -2.06521314e-01, -6.45119164e-02,  2.19575816e-01,\n         -1.42646090e-01, -2.57546646e-01, -6.17280697e-02,\n         -4.07653301e-01, -3.17559866e-01, -8.33136909e-02,\n         -2.25320136e-01,  1.15571207e-01,  1.65593757e-01,\n          1.70435209e-01, -4.05718009e-02, -1.94231210e-01,\n         -1.37257136e-01, -1.55272476e-01,  2.50814626e-01,\n         -4.48199905e-03,  6.17660365e-03,  1.28615524e-01,\n          4.92938355e-02,  2.90729836e-01, -3.64214930e-01,\n         -2.24257813e-01, -1.55295268e-01, -1.73503591e-01,\n         -1.48107465e-01, -1.76605799e-01,  6.01462545e-02,\n         -4.43934272e-01,  4.00634485e-02, -1.05727026e-01,\n         -3.94763146e-01, -7.51796901e-02, -3.39703878e-01,\n         -7.20862208e-02, -2.25801445e-02, -6.72145234e-02,\n         -2.69443433e-01, -1.55719029e-01, -1.77251423e-01,\n          2.63488307e-01],\n        [-9.00244812e-02, -5.46238544e-02, -2.29455847e-01,\n         -1.09921582e-01,  3.71238666e-02, -6.33497698e-02,\n         -6.59059479e-02, -1.44316003e-01, -1.57594752e-01,\n         -5.39203701e-02,  4.43993941e-02,  2.13049252e-01,\n          2.50448283e-01, -4.70585594e-02, -8.21327100e-02,\n          3.77849824e-02,  4.85866174e-02, -2.62001214e-01,\n          2.85030187e-01,  2.42181366e-01,  2.74537371e-01,\n         -1.83974323e-01,  3.97881623e-01, -1.13215180e-01,\n          1.74185931e-01,  3.49478792e-02, -4.40459827e-02,\n         -8.30249534e-04, -1.63656401e-01, -1.28424760e-01,\n          5.89377764e-02,  2.07645380e-01, -1.94184555e-01,\n          3.14281792e-01,  2.79687846e-01,  3.09723863e-01,\n         -8.66960099e-02,  1.38704407e-01,  1.93851442e-01,\n          2.72689397e-02, -2.30254141e-01, -3.60260803e-02,\n         -6.20826459e-02, -6.14419295e-02,  8.43398230e-03,\n          3.48696375e-01,  9.76284023e-02,  2.45938113e-01,\n          3.60583985e-02, -8.95749534e-02, -2.38896548e-01,\n         -1.17407275e-01, -1.58659831e-01, -2.23986065e-02,\n         -2.16701855e-01, -7.31462243e-02,  8.65079745e-02,\n          3.56827667e-01, -1.31747281e-01, -3.32693965e-01,\n         -1.11834804e-01, -1.95215755e-01, -5.91011675e-02,\n          3.24519218e-01, -2.40828393e-01, -2.35921207e-01,\n          1.39634609e-01,  4.96815950e-02, -1.96727624e-02,\n          4.59927302e-03,  3.34671373e-01, -3.72408667e-01,\n          5.58196036e-02,  2.06059166e-01,  9.18754918e-02,\n          9.32095370e-03,  2.24610320e-01, -3.36843799e-01,\n         -5.82674723e-02, -2.91644794e-01, -2.74403540e-01,\n          7.27104973e-03,  1.40422089e-01,  6.25145302e-02,\n         -1.84774358e-01,  1.49529598e-01, -2.37109138e-02,\n          1.87065215e-01, -8.24094545e-02, -7.89097893e-02,\n         -3.11801343e-01, -8.02895736e-02,  1.96482597e-01,\n         -5.76790465e-02,  2.77764292e-01, -1.20502924e-01,\n          3.33126574e-01,  3.94705003e-01, -2.00750499e-01,\n         -3.86171981e-02],\n        [-6.62794928e-02,  1.19055960e-01,  3.16617415e-01,\n         -3.26268366e-01,  4.78578605e-02, -9.18132451e-02,\n          1.65777742e-01, -3.38457667e-03,  1.10360026e-01,\n          2.41768534e-01,  1.61648632e-01, -5.70557137e-02,\n          2.62960403e-01,  2.35066898e-01, -1.45483464e-01,\n         -6.02660673e-02, -2.57500019e-01, -1.78206964e-01,\n          2.50616696e-01, -2.40804182e-01,  3.54021308e-02,\n          1.82580878e-02, -1.85047114e-01, -3.87790050e-02,\n          2.01683316e-01,  1.43776396e-01,  7.54029804e-02,\n          3.04736693e-02,  2.02549498e-01,  7.62944261e-02,\n          1.85233303e-02,  2.89246169e-01,  8.80047963e-03,\n         -5.75159305e-03,  1.60384626e-01, -2.32461622e-01,\n          9.97057113e-02, -5.40172857e-02, -8.92212181e-02,\n          2.35725677e-01,  2.03477483e-01, -7.74761907e-02,\n         -1.13064225e-01, -2.49969695e-01, -1.10207110e-01,\n          2.91422405e-01, -7.03118061e-02,  1.98166584e-01,\n         -2.25711601e-02,  3.53764928e-01,  7.31190540e-02,\n          1.46364552e-01,  1.03630431e-01, -1.56938975e-01,\n          2.67455118e-01, -5.89256976e-02,  2.21206969e-01,\n         -1.09751026e-01, -6.69746467e-02,  2.47874502e-02,\n         -1.91116511e-01, -8.06974961e-02,  3.03682276e-01,\n          3.48884313e-01,  1.87641165e-01, -2.02807796e-01,\n          3.19303983e-01,  2.19808684e-01,  9.17532785e-02,\n          3.20516127e-01, -2.11251333e-01, -6.69243197e-02,\n          1.42413760e-01, -1.65484314e-01,  1.06400857e-01,\n          1.08789058e-01, -5.96985962e-03,  5.64918023e-03,\n          4.06038633e-02, -1.37250822e-01,  1.18813633e-01,\n         -4.08663061e-01, -2.42365304e-01, -2.27815914e-01,\n          9.25125029e-02,  1.52670107e-01,  3.75492598e-01,\n         -1.21202217e-02,  3.08256125e-01, -1.20593283e-02,\n          7.16691949e-02, -1.19845604e-01, -1.37650250e-01,\n         -1.39162863e-01, -1.65180476e-01, -1.92160477e-01,\n         -8.59950005e-02, -2.16242445e-01, -2.30016125e-01,\n         -8.91828031e-02],\n        [-1.93388842e-02, -1.39756746e-02, -1.11263432e-01,\n          4.98767768e-03, -1.32886825e-01,  2.17864705e-01,\n          1.23723623e-01,  2.50656365e-02,  3.10479282e-01,\n          5.72789945e-02,  4.29884482e-02, -1.33597895e-01,\n         -1.97252481e-01,  2.58645759e-01,  2.99857190e-02,\n          1.64436330e-01,  2.29636915e-01,  1.62826765e-01,\n         -1.87179094e-02,  6.71453883e-02,  2.93603724e-01,\n         -1.37911598e-01, -6.93859049e-02, -4.00623894e-02,\n         -4.80367977e-02,  1.04795044e-01,  1.33751482e-01,\n         -1.53407653e-01, -3.13872517e-01,  2.06605797e-01,\n         -1.09379612e-01, -2.54323564e-02, -2.45041725e-01,\n         -1.02708356e-01,  2.86728738e-01, -1.02893756e-01,\n         -2.60791205e-01,  2.06589045e-03,  2.46958506e-01,\n          1.97814481e-01, -4.06106999e-01,  1.02797049e-01,\n          2.58908947e-01, -2.97771581e-02,  1.30780742e-01,\n          1.65936499e-01,  8.26060925e-02,  2.23709504e-01,\n         -2.31760451e-01,  1.63461896e-01,  5.16727810e-01,\n         -1.44506784e-01,  2.07770893e-01, -6.14817478e-02,\n          1.55163718e-01, -2.16265992e-01, -2.51280881e-01,\n          1.88331460e-01,  7.19379722e-02,  1.83785013e-01,\n          1.79548543e-01, -1.55697556e-01,  2.68263259e-02,\n          1.64859067e-01, -4.20782142e-01,  1.91851949e-01,\n         -3.30956406e-01, -1.99504570e-02,  1.37836355e-01,\n          4.83731448e-02, -9.51187716e-02,  1.56403744e-01,\n          9.46400614e-02, -2.54931741e-01, -1.66869690e-01,\n         -3.97041021e-03, -1.13796583e-01,  1.20789647e-01,\n         -6.87091364e-02,  1.93400551e-01, -3.92475693e-01,\n          5.17598152e-02, -2.60087516e-01, -4.40193055e-02,\n         -1.90173544e-01,  1.77270708e-01, -1.42462092e-02,\n          1.68688077e-02, -2.18811969e-01,  1.16120802e-01,\n          1.69747843e-01, -2.47710123e-01,  2.14033764e-01,\n         -2.80659524e-01, -1.52188458e-01,  1.14074121e-01,\n         -2.82837495e-01, -2.84019677e-01, -7.37976076e-02,\n         -1.61413160e-01],\n        [ 2.69003817e-02, -1.15198877e-01, -1.86007563e-01,\n          7.89362054e-02,  3.00609744e-01, -2.06665865e-01,\n          1.32072773e-01, -2.87247392e-01,  1.04432491e-01,\n          1.07625532e-02,  3.04986617e-01,  1.20185294e-01,\n         -1.02427531e-01, -3.49659090e-02,  2.29249758e-01,\n         -1.23444394e-01,  1.00909184e-01,  1.13417964e-01,\n          1.05820537e-01,  1.70415910e-01,  2.78074750e-01,\n         -2.27473272e-01, -2.13787406e-02,  1.71769341e-01,\n          2.03003918e-01, -3.38276983e-01, -1.15053817e-02,\n         -2.55153927e-01,  1.01879756e-01,  1.18001531e-01,\n          1.14393446e-01, -4.92521577e-02,  3.28300515e-01,\n         -3.74105122e-02,  1.11117656e-01,  7.50805496e-03,\n          1.49190309e-01,  1.62326997e-01, -1.71365770e-01,\n         -1.50835066e-01,  2.17895873e-02,  1.80096627e-01,\n         -1.73060844e-01, -2.91028587e-03,  9.92867042e-02,\n          7.30341680e-03,  1.51255362e-01,  1.75212900e-01,\n         -1.26263931e-01,  9.14663930e-02, -2.29886300e-01,\n          2.69465202e-01,  2.33885699e-01, -1.40690701e-01,\n         -3.38548338e-02,  1.02244063e-01, -2.21171094e-02,\n          2.29182459e-02,  1.63069102e-01,  2.63249486e-01,\n          8.65612882e-02,  2.05937118e-01, -8.66910241e-02,\n         -9.26976056e-02,  7.69615534e-02,  1.24918396e-01,\n          2.07844569e-01, -1.54141048e-01,  1.22293864e-01,\n          2.04389070e-01, -2.93943115e-01,  7.24297597e-02,\n          3.05927310e-01, -1.54115192e-01,  9.65954043e-02,\n         -1.35742925e-01,  3.79043503e-02,  2.03636404e-01,\n          2.66826656e-02,  2.48966084e-01,  6.40059117e-02,\n          3.30112200e-01, -7.99259076e-02, -3.74607002e-02,\n          2.02663868e-01,  1.28906249e-01, -5.52563905e-02,\n          2.13296561e-01,  4.23878436e-02,  1.42677010e-01,\n         -4.31872635e-01, -1.35634927e-01,  9.45300562e-02,\n         -9.59342336e-03, -3.95516703e-01,  2.92096032e-01,\n          1.80625757e-01, -2.25790832e-01,  2.40438304e-01,\n         -8.19805805e-02],\n        [-4.06437185e-01, -1.56632831e-01,  1.07815806e-01,\n         -3.22930778e-01, -1.57102230e-01, -1.42568977e-01,\n         -1.40550081e-01, -1.87530020e-01,  1.76847589e-01,\n          9.22846224e-02, -2.13410867e-01,  1.42944853e-01,\n         -7.96739089e-02, -1.63026485e-01, -6.55641547e-02,\n          1.55555462e-01, -2.11746510e-01, -2.78026176e-01,\n          1.86670503e-01,  1.30853828e-01, -1.24919961e-01,\n          2.64085330e-01,  2.35160646e-01,  1.78342303e-01,\n         -1.69361337e-01, -3.13841646e-02,  2.40855623e-01,\n         -2.44773318e-01, -4.90063934e-02,  1.82934510e-01,\n         -1.53645976e-01, -9.67441204e-02, -8.68463487e-02,\n          1.14972036e-01, -1.67921531e-01, -1.79685778e-01,\n         -5.35872784e-02, -1.45630924e-01,  1.18811705e-01,\n          9.32642585e-02, -8.68499977e-02,  9.06197886e-02,\n         -1.93257171e-01, -2.45770624e-01, -1.29758905e-01,\n          3.78821119e-02, -2.17263321e-01,  7.71527643e-02,\n          1.63495138e-01,  3.31312114e-01,  2.65855396e-01,\n         -3.00344195e-01, -9.59198359e-02,  5.81190187e-02,\n          1.04018295e-01, -3.04021179e-01, -9.07462069e-02,\n         -9.23931257e-03,  3.32020760e-02,  1.19391948e-01,\n          2.79630137e-02, -2.87410249e-01,  1.29367202e-01,\n         -2.48370870e-01, -1.55913495e-01,  9.40688149e-02,\n          4.37544142e-02,  1.45278026e-01, -1.06210941e-01,\n          9.81498853e-02,  1.33913493e-01,  6.08226101e-02,\n         -2.33264564e-01,  1.17256265e-01, -1.18371424e-01,\n          1.90056615e-01,  5.76629584e-02, -3.41784413e-02,\n         -2.49826114e-01,  1.87907683e-01, -2.06138449e-01,\n          1.97207188e-01,  9.00942140e-02,  5.07455840e-02,\n          1.12873514e-01, -2.10131511e-01, -2.23901568e-01,\n          3.93535395e-02,  8.43770803e-02, -1.79315829e-01,\n         -1.81667762e-01,  9.14206254e-03,  4.46352330e-02,\n          3.06636030e-01,  1.34306785e-01, -2.17028201e-01,\n          2.31846099e-01,  3.38971583e-01, -2.40593833e-01,\n          1.28098063e-01],\n        [-7.90681446e-02, -3.62145086e-01,  9.30516633e-02,\n          3.98708426e-02, -1.96217867e-01, -4.74018911e-02,\n          5.93376757e-02, -3.11582103e-01, -1.50342522e-01,\n         -5.05103098e-01,  1.64597063e-01,  3.39039723e-02,\n         -2.27043162e-01,  3.57825750e-02, -4.80817425e-01,\n         -1.11136552e-01, -7.16977470e-02, -4.33039318e-01,\n         -6.64959261e-02, -4.33292435e-02,  8.51200183e-02,\n         -1.41360477e-01, -1.07724927e-01,  5.18661890e-02,\n         -1.41307182e-01, -4.25789118e-02, -1.00036857e-01,\n          1.00729060e-01,  3.92830115e-01,  2.43650908e-01,\n         -1.19343394e-01,  1.45073530e-01, -1.13989213e-01,\n         -1.47293881e-01, -1.25635222e-01, -1.58733707e-01,\n         -1.42485816e-01,  2.31774779e-02, -1.74452320e-01,\n         -4.11055917e-01,  1.26779785e-01,  1.51730212e-01,\n         -4.17759112e-01, -1.46617377e-01,  1.29638495e-01,\n         -1.72912152e-01, -8.00515919e-02, -1.65213354e-01,\n         -1.01078644e-01, -3.90373571e-01,  2.26768303e-01,\n         -1.18113884e-01,  1.36019752e-01,  4.73903839e-02,\n         -4.22666908e-01,  1.78714367e-01,  1.99097134e-01,\n          1.49821995e-01,  2.17932801e-01, -1.18367425e-01,\n         -2.56805872e-01,  1.99041271e-02, -3.06324444e-01,\n         -1.56188603e-01,  5.89472384e-02, -3.43568646e-01,\n         -2.67428439e-01, -1.32627193e-01, -1.84694232e-01,\n         -3.60571415e-03,  1.15146628e-01, -7.60031128e-02,\n          9.74638673e-02, -6.39152459e-02, -9.15237498e-02,\n         -5.56960652e-02,  2.69031132e-02, -4.05401431e-02,\n         -2.31492085e-01,  5.84441381e-02,  8.54910624e-02,\n          8.19143027e-02,  5.09138601e-02,  3.19100577e-01,\n          3.48415488e-01,  3.59992410e-02,  1.36757876e-01,\n         -2.70785930e-01,  1.56654731e-01, -1.18727559e-02,\n         -7.50896523e-02,  1.84018445e-01,  6.57930232e-02,\n          4.47674682e-02,  5.16070213e-02, -4.86433008e-02,\n          7.97423762e-02,  1.06304763e-01,  3.40909523e-01,\n          1.06073238e-01],\n        [ 1.70318223e-02, -1.68238759e-02, -3.15434766e-01,\n          1.39450760e-01, -3.97652721e-01,  1.74873658e-01,\n          2.62177832e-03, -3.80707701e-01, -6.17310206e-02,\n         -8.31769274e-02, -5.32265761e-03, -2.10679615e-02,\n          1.44344716e-01,  1.84721861e-01, -2.88849572e-01,\n         -1.14180123e-01,  2.40285608e-01,  4.57990359e-02,\n          2.26443199e-02,  1.90818357e-03,  3.03557145e-02,\n          5.11631350e-02,  6.21520707e-02, -7.46557711e-02,\n         -5.20740435e-02, -1.25652377e-01, -1.22615652e-01,\n          4.91683861e-01, -3.00437583e-01, -3.66381109e-02,\n         -7.21562378e-02, -5.95289300e-02, -3.18422725e-01,\n          7.67828866e-02,  1.01616711e-01, -1.78999817e-01,\n         -4.07712953e-01, -2.92979541e-01,  3.60912644e-01,\n          2.41663254e-02, -3.11581361e-01, -4.42647513e-01,\n         -2.25117723e-01,  1.00381849e-01,  7.71278324e-02,\n         -2.78392859e-02, -7.04771059e-03, -8.73425743e-02,\n         -1.08838254e-02,  9.04195597e-02, -1.13647396e-01,\n         -4.77288845e-02,  1.80207489e-01,  2.66662476e-01,\n         -4.07530705e-03,  4.45925490e-02,  3.05069766e-01,\n          4.83498902e-02, -2.65306049e-01,  8.86336747e-03,\n         -3.55367040e-01, -2.09330719e-01, -3.86766564e-01,\n          1.57329666e-01, -5.08572988e-01, -1.08768196e-02,\n          8.40894199e-02,  1.71523664e-01, -4.14634939e-01,\n         -4.33834629e-01, -1.06660433e-01, -8.28067235e-05,\n          5.64203754e-03, -8.58064619e-02, -1.91805251e-01,\n         -1.21599761e-01,  4.23953010e-02,  4.72775667e-02,\n         -2.76766184e-01,  2.73620877e-02, -5.24594694e-01,\n         -1.91281542e-01, -2.94869197e-02,  2.59722275e-01,\n         -3.46523487e-01,  1.05778615e-01, -4.05130267e-03,\n          2.03708114e-01, -3.60631967e-01, -3.43317495e-01,\n         -2.95717420e-01, -2.97387547e-01,  1.86987523e-01,\n          1.19338690e-01, -1.90737402e-01, -1.20191700e-01,\n          1.78930120e-01, -4.95575643e-02, -1.13009900e-01,\n          2.78995315e-01]]),\n array([[-0.14764068],\n        [-0.24171271],\n        [-0.09265785],\n        [-0.30674958],\n        [-0.44989139],\n        [-0.31873654],\n        [ 0.03700886],\n        [-0.16188433],\n        [ 0.08866462],\n        [-0.39130507],\n        [ 0.19848118],\n        [ 0.25620041],\n        [ 0.14250811],\n        [ 0.25455467],\n        [-0.36887014],\n        [-0.04510307],\n        [-0.44279858],\n        [-0.17566424],\n        [ 0.37245481],\n        [ 0.3085375 ],\n        [ 0.2248352 ],\n        [ 0.17306415],\n        [ 0.36721998],\n        [ 0.2232299 ],\n        [-0.23622102],\n        [-0.27119084],\n        [ 0.03068755],\n        [-0.24070003],\n        [-0.28802811],\n        [ 0.18361877],\n        [ 0.2133482 ],\n        [ 0.19131909],\n        [-0.15619419],\n        [ 0.27372373],\n        [ 0.25850961],\n        [ 0.34883051],\n        [-0.30394865],\n        [-0.28955498],\n        [-0.32544014],\n        [-0.43709467],\n        [-0.17943037],\n        [-0.19710555],\n        [-0.19019383],\n        [-0.18813324],\n        [-0.0690057 ],\n        [ 0.32448478],\n        [-0.23091447],\n        [ 0.27497046],\n        [-0.10008471],\n        [-0.21199135],\n        [ 0.34464072],\n        [-0.21441451],\n        [ 0.24922066],\n        [-0.1706519 ],\n        [-0.20943328],\n        [-0.11547387],\n        [-0.22172952],\n        [ 0.15835102],\n        [-0.27725245],\n        [ 0.31615395],\n        [-0.14666224],\n        [-0.29050226],\n        [-0.29462041],\n        [ 0.32115793],\n        [-0.31577666],\n        [-0.27545592],\n        [ 0.32525785],\n        [-0.2386321 ],\n        [-0.34402721],\n        [-0.11550072],\n        [ 0.33826857],\n        [-0.31285535],\n        [ 0.16438381],\n        [ 0.23216474],\n        [ 0.28547732],\n        [ 0.19718428],\n        [ 0.05095574],\n        [ 0.41498328],\n        [-0.19669409],\n        [ 0.42542645],\n        [-0.17689425],\n        [-0.10555956],\n        [ 0.24044283],\n        [-0.22462555],\n        [-0.349329  ],\n        [ 0.15140056],\n        [-0.32378706],\n        [ 0.37960678],\n        [-0.24925008],\n        [-0.17008747],\n        [-0.24079935],\n        [-0.11527729],\n        [ 0.34597862],\n        [ 0.31601776],\n        [ 0.53342491],\n        [-0.42546498],\n        [ 0.12420965],\n        [ 0.22292678],\n        [-0.19057212],\n        [-0.44321794]])]"
     },
     "execution_count": 249,
     "metadata": {},
     "output_type": "execute_result"
    }
   ],
   "source": [
    "mlpcModel.coefs_"
   ],
   "metadata": {
    "collapsed": false,
    "ExecuteTime": {
     "end_time": "2024-03-02T08:09:43.568666Z",
     "start_time": "2024-03-02T08:09:43.554183Z"
    }
   },
   "id": "f183e0a97b7de31f",
   "execution_count": 249
  },
  {
   "cell_type": "code",
   "outputs": [
    {
     "name": "stdout",
     "output_type": "stream",
     "text": [
      "[array([ 0.16897825,  0.1555515 ,  0.24368917,  0.04599973, -0.0138508 ,\n",
      "        0.12268847,  0.06606807,  0.03588958,  0.08710528,  0.06788506,\n",
      "        0.05330707,  0.24377298,  0.19526471, -0.03686466, -0.07400743,\n",
      "        0.02237032,  0.02531679,  0.08955938, -0.21037777, -0.1143951 ,\n",
      "       -0.09027348, -0.0396439 , -0.23348408, -0.10655841,  0.21244714,\n",
      "        0.0279376 , -0.04038907, -0.14995322,  0.01235455, -0.01502254,\n",
      "       -0.01078094, -0.02734418, -0.05768477,  0.33181259,  0.11074467,\n",
      "        0.27317393,  0.09389024, -0.3870946 , -0.03625893, -0.03101063,\n",
      "        0.10690234,  0.13907137, -0.0171668 ,  0.12714407, -0.26535953,\n",
      "       -0.10996285,  0.21433765,  0.05583694,  0.28489375, -0.1244145 ,\n",
      "       -0.17975586,  0.26502457, -0.0606069 ,  0.20335688,  0.122438  ,\n",
      "        0.22106667, -0.33452584,  0.16226324,  0.09356209, -0.29003172,\n",
      "        0.24635609, -0.06945402,  0.28802237, -0.0735563 , -0.03284915,\n",
      "       -0.13460258, -0.04475328, -0.35512053,  0.23520975,  0.1998528 ,\n",
      "        0.30022532,  0.0247541 ,  0.03178045,  0.1630223 , -0.06199689,\n",
      "       -0.37606434,  0.29580093, -0.26295841,  0.17868641, -0.31292762,\n",
      "        0.00313751,  0.23796286,  0.15444408, -0.05459244,  0.2584054 ,\n",
      "       -0.00872086, -0.01529557, -0.17356681,  0.28846706,  0.25189967,\n",
      "       -0.01507533, -0.00274377,  0.06314678,  0.12019149,  0.10538427,\n",
      "       -0.00229897,  0.05387492,  0.26130661,  0.12355741, -0.37764424]), array([0.15100685])]\n"
     ]
    }
   ],
   "source": [
    "print(mlpcModel.intercepts_)"
   ],
   "metadata": {
    "collapsed": false,
    "ExecuteTime": {
     "end_time": "2024-03-02T08:09:43.584152Z",
     "start_time": "2024-03-02T08:09:43.568666Z"
    }
   },
   "id": "9a57b7abe9351194",
   "execution_count": 250
  },
  {
   "cell_type": "code",
   "outputs": [],
   "source": [
    "yTahmin =mlpcModel.predict(x_test)"
   ],
   "metadata": {
    "collapsed": false,
    "ExecuteTime": {
     "end_time": "2024-03-02T08:09:43.600197Z",
     "start_time": "2024-03-02T08:09:43.590132Z"
    }
   },
   "id": "447d09f36e392882",
   "execution_count": 251
  },
  {
   "cell_type": "code",
   "outputs": [
    {
     "data": {
      "text/plain": "0.7359307359307359"
     },
     "execution_count": 252,
     "metadata": {},
     "output_type": "execute_result"
    }
   ],
   "source": [
    "accuracy_score(y_test,yTahmin)"
   ],
   "metadata": {
    "collapsed": false,
    "ExecuteTime": {
     "end_time": "2024-03-02T08:09:43.615181Z",
     "start_time": "2024-03-02T08:09:43.601201Z"
    }
   },
   "id": "b0cd095c38f92de5",
   "execution_count": 252
  },
  {
   "cell_type": "markdown",
   "source": [
    "4.2-Model Tuning"
   ],
   "metadata": {
    "collapsed": false
   },
   "id": "38fa444c23c3df06"
  },
  {
   "cell_type": "code",
   "outputs": [],
   "source": [
    "mlpcParams ={\"alpha\":[1,2,3,5,0.1,0.01,0.03,0.4,0.005,0.0001], \"hidden_layer_sizes\":[(10,10),(100,100,100),(100,100),(3,5)]}"
   ],
   "metadata": {
    "collapsed": false,
    "ExecuteTime": {
     "end_time": "2024-03-02T08:09:43.630216Z",
     "start_time": "2024-03-02T08:09:43.616615Z"
    }
   },
   "id": "e5caf5de61bf28a1",
   "execution_count": 253
  },
  {
   "cell_type": "code",
   "outputs": [],
   "source": [
    "mlpc = MLPClassifier(solver=\"lbfgs\")"
   ],
   "metadata": {
    "collapsed": false,
    "ExecuteTime": {
     "end_time": "2024-03-02T08:09:43.645508Z",
     "start_time": "2024-03-02T08:09:43.631221Z"
    }
   },
   "id": "2bde4012b29dc1fe",
   "execution_count": 254
  },
  {
   "cell_type": "code",
   "outputs": [
    {
     "name": "stdout",
     "output_type": "stream",
     "text": [
      "Fitting 10 folds for each of 40 candidates, totalling 400 fits\n"
     ]
    },
    {
     "name": "stderr",
     "output_type": "stream",
     "text": [
      "C:\\Users\\arda_\\anaconda3\\lib\\site-packages\\sklearn\\neural_network\\_multilayer_perceptron.py:546: ConvergenceWarning: lbfgs failed to converge (status=1):\n",
      "STOP: TOTAL NO. of ITERATIONS REACHED LIMIT.\n",
      "\n",
      "Increase the number of iterations (max_iter) or scale the data as shown in:\n",
      "    https://scikit-learn.org/stable/modules/preprocessing.html\n",
      "  self.n_iter_ = _check_optimize_result(\"lbfgs\", opt_res, self.max_iter)\n"
     ]
    }
   ],
   "source": [
    "mlpcCvModel =GridSearchCV(mlpc,mlpcParams,cv=10,n_jobs=-1,verbose=2).fit(x_train,y_train)"
   ],
   "metadata": {
    "collapsed": false,
    "ExecuteTime": {
     "end_time": "2024-03-02T08:10:41.020640Z",
     "start_time": "2024-03-02T08:09:43.647501Z"
    }
   },
   "id": "b4ea562ce7d14a1",
   "execution_count": 255
  },
  {
   "cell_type": "code",
   "outputs": [
    {
     "data": {
      "text/plain": "{'alpha': 5, 'hidden_layer_sizes': (3, 5)}"
     },
     "execution_count": 256,
     "metadata": {},
     "output_type": "execute_result"
    }
   ],
   "source": [
    "mlpcCvModel.best_params_"
   ],
   "metadata": {
    "collapsed": false,
    "ExecuteTime": {
     "end_time": "2024-03-02T08:10:41.035670Z",
     "start_time": "2024-03-02T08:10:41.022151Z"
    }
   },
   "id": "94cfd330916cc0fd",
   "execution_count": 256
  },
  {
   "cell_type": "markdown",
   "source": [
    "4.3-Final Model"
   ],
   "metadata": {
    "collapsed": false
   },
   "id": "524d188c7b455909"
  },
  {
   "cell_type": "code",
   "outputs": [],
   "source": [
    "mlpcTuned =MLPClassifier(solver=\"lbfgs\",alpha=5,hidden_layer_sizes=(3,5)).fit(x_train,y_train)"
   ],
   "metadata": {
    "collapsed": false,
    "ExecuteTime": {
     "end_time": "2024-03-02T08:10:41.128823Z",
     "start_time": "2024-03-02T08:10:41.036667Z"
    }
   },
   "id": "827b49340b73c841",
   "execution_count": 257
  },
  {
   "cell_type": "code",
   "outputs": [],
   "source": [
    "yTahmin = mlpcModel.predict(x_test) "
   ],
   "metadata": {
    "collapsed": false,
    "ExecuteTime": {
     "end_time": "2024-03-02T08:10:41.144648Z",
     "start_time": "2024-03-02T08:10:41.130462Z"
    }
   },
   "id": "9615b5a581e6dc64",
   "execution_count": 258
  },
  {
   "cell_type": "code",
   "outputs": [
    {
     "data": {
      "text/plain": "0.7359307359307359"
     },
     "execution_count": 259,
     "metadata": {},
     "output_type": "execute_result"
    }
   ],
   "source": [
    "accuracy_score(y_test,yTahmin)"
   ],
   "metadata": {
    "collapsed": false,
    "ExecuteTime": {
     "end_time": "2024-03-02T08:10:41.160183Z",
     "start_time": "2024-03-02T08:10:41.145642Z"
    }
   },
   "id": "54b09e91a71de077",
   "execution_count": 259
  },
  {
   "cell_type": "markdown",
   "source": [
    "5-Cart Modeli"
   ],
   "metadata": {
    "collapsed": false
   },
   "id": "de4b99c2406dd33b"
  },
  {
   "cell_type": "markdown",
   "source": [
    "5.1- Model ve Tahmin"
   ],
   "metadata": {
    "collapsed": false
   },
   "id": "204bb82914f36b0f"
  },
  {
   "cell_type": "code",
   "outputs": [],
   "source": [
    "cartModel = DecisionTreeClassifier().fit(x_train,y_train)"
   ],
   "metadata": {
    "collapsed": false,
    "ExecuteTime": {
     "end_time": "2024-03-02T08:10:41.175405Z",
     "start_time": "2024-03-02T08:10:41.162434Z"
    }
   },
   "id": "f4aec912b4b2c7e1",
   "execution_count": 260
  },
  {
   "cell_type": "code",
   "outputs": [],
   "source": [
    "yTahmin = cartModel.predict(x_test)"
   ],
   "metadata": {
    "collapsed": false,
    "ExecuteTime": {
     "end_time": "2024-03-02T08:10:41.190663Z",
     "start_time": "2024-03-02T08:10:41.176401Z"
    }
   },
   "id": "ff23b80fcda704b8",
   "execution_count": 261
  },
  {
   "cell_type": "code",
   "outputs": [
    {
     "data": {
      "text/plain": "0.7272727272727273"
     },
     "execution_count": 262,
     "metadata": {},
     "output_type": "execute_result"
    }
   ],
   "source": [
    "accuracy_score(y_test,yTahmin)"
   ],
   "metadata": {
    "collapsed": false,
    "ExecuteTime": {
     "end_time": "2024-03-02T08:10:41.206766Z",
     "start_time": "2024-03-02T08:10:41.191165Z"
    }
   },
   "id": "5ca0539b0beebb83",
   "execution_count": 262
  },
  {
   "cell_type": "markdown",
   "source": [
    "5.2-Model Tuning"
   ],
   "metadata": {
    "collapsed": false
   },
   "id": "9c722d0d78b18a21"
  },
  {
   "cell_type": "code",
   "outputs": [],
   "source": [
    "cart = DecisionTreeClassifier()"
   ],
   "metadata": {
    "collapsed": false,
    "ExecuteTime": {
     "end_time": "2024-03-02T08:10:41.222521Z",
     "start_time": "2024-03-02T08:10:41.208755Z"
    }
   },
   "id": "d252c48e42158560",
   "execution_count": 263
  },
  {
   "cell_type": "code",
   "outputs": [],
   "source": [
    "cartParams = {\"max_depth\": [1,3,5,8,10],\"min_samples_leaf\":[1,3,5,10,20,50]}"
   ],
   "metadata": {
    "collapsed": false,
    "ExecuteTime": {
     "end_time": "2024-03-02T08:10:41.238001Z",
     "start_time": "2024-03-02T08:10:41.224516Z"
    }
   },
   "id": "c51f21e8732c5fb6",
   "execution_count": 264
  },
  {
   "cell_type": "code",
   "outputs": [
    {
     "name": "stdout",
     "output_type": "stream",
     "text": [
      "Fitting 10 folds for each of 30 candidates, totalling 300 fits\n"
     ]
    }
   ],
   "source": [
    "cartCvModel = GridSearchCV(cart,cartParams,cv=10,n_jobs=-1,verbose=2).fit(x_train,y_train)"
   ],
   "metadata": {
    "collapsed": false,
    "ExecuteTime": {
     "end_time": "2024-03-02T08:10:41.565782Z",
     "start_time": "2024-03-02T08:10:41.238998Z"
    }
   },
   "id": "6154ac0fe61c49b0",
   "execution_count": 265
  },
  {
   "cell_type": "code",
   "outputs": [
    {
     "data": {
      "text/plain": "{'max_depth': 5, 'min_samples_leaf': 10}"
     },
     "execution_count": 266,
     "metadata": {},
     "output_type": "execute_result"
    }
   ],
   "source": [
    "cartCvModel.best_params_"
   ],
   "metadata": {
    "collapsed": false,
    "ExecuteTime": {
     "end_time": "2024-03-02T08:10:41.581174Z",
     "start_time": "2024-03-02T08:10:41.567408Z"
    }
   },
   "id": "60e3ff03e966118e",
   "execution_count": 266
  },
  {
   "cell_type": "markdown",
   "source": [
    "5.3 Final Model"
   ],
   "metadata": {
    "collapsed": false
   },
   "id": "58220302e3885877"
  },
  {
   "cell_type": "code",
   "outputs": [],
   "source": [
    "cartTuned =DecisionTreeClassifier(max_depth=5,min_samples_leaf=10).fit(x_train,y_train)"
   ],
   "metadata": {
    "collapsed": false,
    "ExecuteTime": {
     "end_time": "2024-03-02T08:10:41.596531Z",
     "start_time": "2024-03-02T08:10:41.582274Z"
    }
   },
   "id": "f75452b33e4db97b",
   "execution_count": 267
  },
  {
   "cell_type": "code",
   "outputs": [],
   "source": [
    "yTahmin = cartTuned.predict(x_train)"
   ],
   "metadata": {
    "collapsed": false,
    "ExecuteTime": {
     "end_time": "2024-03-02T08:10:41.611945Z",
     "start_time": "2024-03-02T08:10:41.598525Z"
    }
   },
   "id": "2fe2f2f60f302bd1",
   "execution_count": 268
  },
  {
   "cell_type": "code",
   "outputs": [
    {
     "data": {
      "text/plain": "0.8063314711359404"
     },
     "execution_count": 269,
     "metadata": {},
     "output_type": "execute_result"
    }
   ],
   "source": [
    "accuracy_score(y_train,yTahmin)"
   ],
   "metadata": {
    "collapsed": false,
    "ExecuteTime": {
     "end_time": "2024-03-02T08:10:41.627591Z",
     "start_time": "2024-03-02T08:10:41.612945Z"
    }
   },
   "id": "60ff31683db262f0",
   "execution_count": 269
  },
  {
   "cell_type": "markdown",
   "source": [
    "6-Random Forests"
   ],
   "metadata": {
    "collapsed": false
   },
   "id": "20dc1f1edc845735"
  },
  {
   "cell_type": "markdown",
   "source": [
    "6.1-Model ve Tahmin"
   ],
   "metadata": {
    "collapsed": false
   },
   "id": "4c2abc82b3664744"
  },
  {
   "cell_type": "code",
   "outputs": [],
   "source": [
    "rfModel = RandomForestClassifier().fit(x_train,y_train)"
   ],
   "metadata": {
    "collapsed": false,
    "ExecuteTime": {
     "end_time": "2024-03-02T08:10:41.812924Z",
     "start_time": "2024-03-02T08:10:41.628589Z"
    }
   },
   "id": "f784384602c23db",
   "execution_count": 270
  },
  {
   "cell_type": "code",
   "outputs": [],
   "source": [
    "yTahmin = rfModel.predict(x_test)"
   ],
   "metadata": {
    "collapsed": false,
    "ExecuteTime": {
     "end_time": "2024-03-02T08:10:41.829016Z",
     "start_time": "2024-03-02T08:10:41.813920Z"
    }
   },
   "id": "7b212465dd7316ad",
   "execution_count": 271
  },
  {
   "cell_type": "code",
   "outputs": [
    {
     "data": {
      "text/plain": "0.7489177489177489"
     },
     "execution_count": 272,
     "metadata": {},
     "output_type": "execute_result"
    }
   ],
   "source": [
    "accuracy_score(y_test,yTahmin)"
   ],
   "metadata": {
    "collapsed": false,
    "ExecuteTime": {
     "end_time": "2024-03-02T08:10:41.844799Z",
     "start_time": "2024-03-02T08:10:41.831034Z"
    }
   },
   "id": "3d745f7585df0da3",
   "execution_count": 272
  },
  {
   "cell_type": "markdown",
   "source": [
    "6.2-Model Tuning"
   ],
   "metadata": {
    "collapsed": false
   },
   "id": "914f475db99c168b"
  },
  {
   "cell_type": "code",
   "outputs": [],
   "source": [
    "rf = RandomForestClassifier()"
   ],
   "metadata": {
    "collapsed": false,
    "ExecuteTime": {
     "end_time": "2024-03-02T08:10:41.859534Z",
     "start_time": "2024-03-02T08:10:41.845796Z"
    }
   },
   "id": "31df99c96fc88b86",
   "execution_count": 273
  },
  {
   "cell_type": "code",
   "outputs": [],
   "source": [
    "rfParams = {\"n_estimators\":[100,200,500,1000],\"max_features\":[2,4,6,8],\"min_samples_split\":[2,5,10,20]}"
   ],
   "metadata": {
    "collapsed": false,
    "ExecuteTime": {
     "end_time": "2024-03-02T08:10:41.874868Z",
     "start_time": "2024-03-02T08:10:41.861057Z"
    }
   },
   "id": "147c2c23afb957e0",
   "execution_count": 274
  },
  {
   "cell_type": "code",
   "outputs": [
    {
     "name": "stdout",
     "output_type": "stream",
     "text": [
      "Fitting 10 folds for each of 64 candidates, totalling 640 fits\n"
     ]
    }
   ],
   "source": [
    "rfCvModel = GridSearchCV(rf,rfParams,cv=10,n_jobs=-1,verbose=2).fit(x_train, y_train)"
   ],
   "metadata": {
    "collapsed": false,
    "ExecuteTime": {
     "end_time": "2024-03-02T08:12:31.009515Z",
     "start_time": "2024-03-02T08:10:41.875865Z"
    }
   },
   "id": "2e30447846a7c169",
   "execution_count": 275
  },
  {
   "cell_type": "code",
   "outputs": [
    {
     "data": {
      "text/plain": "{'max_features': 8, 'min_samples_split': 5, 'n_estimators': 100}"
     },
     "execution_count": 276,
     "metadata": {},
     "output_type": "execute_result"
    }
   ],
   "source": [
    "rfCvModel.best_params_"
   ],
   "metadata": {
    "collapsed": false,
    "ExecuteTime": {
     "end_time": "2024-03-02T08:12:31.025483Z",
     "start_time": "2024-03-02T08:12:31.010514Z"
    }
   },
   "id": "d1c521857a95fcc2",
   "execution_count": 276
  },
  {
   "cell_type": "markdown",
   "source": [
    "6.3 Final Modeli"
   ],
   "metadata": {
    "collapsed": false
   },
   "id": "16dfbc14d0c54c4"
  },
  {
   "cell_type": "code",
   "outputs": [],
   "source": [
    "rfTuned = RandomForestClassifier(max_features=4,min_samples_split=10,n_estimators=100).fit(x_train,y_train)"
   ],
   "metadata": {
    "collapsed": false,
    "ExecuteTime": {
     "end_time": "2024-03-02T08:12:31.227427Z",
     "start_time": "2024-03-02T08:12:31.026476Z"
    }
   },
   "id": "6636dbee3d894e20",
   "execution_count": 277
  },
  {
   "cell_type": "code",
   "outputs": [],
   "source": [
    "yTahmin = rfTuned.predict(x_test)"
   ],
   "metadata": {
    "collapsed": false,
    "ExecuteTime": {
     "end_time": "2024-03-02T08:12:31.243428Z",
     "start_time": "2024-03-02T08:12:31.228360Z"
    }
   },
   "id": "66aea060deccd43d",
   "execution_count": 278
  },
  {
   "cell_type": "code",
   "outputs": [
    {
     "data": {
      "text/plain": "0.7445887445887446"
     },
     "execution_count": 279,
     "metadata": {},
     "output_type": "execute_result"
    }
   ],
   "source": [
    "accuracy_score(y_test,yTahmin)"
   ],
   "metadata": {
    "collapsed": false,
    "ExecuteTime": {
     "end_time": "2024-03-02T08:12:31.258902Z",
     "start_time": "2024-03-02T08:12:31.244427Z"
    }
   },
   "id": "a2c5994523ac24e8",
   "execution_count": 279
  },
  {
   "cell_type": "markdown",
   "source": [
    "6.4 Değişken Önem Düzeyi"
   ],
   "metadata": {
    "collapsed": false
   },
   "id": "6a919a0bf45ca93c"
  },
  {
   "cell_type": "code",
   "outputs": [
    {
     "data": {
      "text/plain": "RandomForestClassifier(max_features=4, min_samples_split=10)",
      "text/html": "<style>#sk-container-id-9 {color: black;}#sk-container-id-9 pre{padding: 0;}#sk-container-id-9 div.sk-toggleable {background-color: white;}#sk-container-id-9 label.sk-toggleable__label {cursor: pointer;display: block;width: 100%;margin-bottom: 0;padding: 0.3em;box-sizing: border-box;text-align: center;}#sk-container-id-9 label.sk-toggleable__label-arrow:before {content: \"▸\";float: left;margin-right: 0.25em;color: #696969;}#sk-container-id-9 label.sk-toggleable__label-arrow:hover:before {color: black;}#sk-container-id-9 div.sk-estimator:hover label.sk-toggleable__label-arrow:before {color: black;}#sk-container-id-9 div.sk-toggleable__content {max-height: 0;max-width: 0;overflow: hidden;text-align: left;background-color: #f0f8ff;}#sk-container-id-9 div.sk-toggleable__content pre {margin: 0.2em;color: black;border-radius: 0.25em;background-color: #f0f8ff;}#sk-container-id-9 input.sk-toggleable__control:checked~div.sk-toggleable__content {max-height: 200px;max-width: 100%;overflow: auto;}#sk-container-id-9 input.sk-toggleable__control:checked~label.sk-toggleable__label-arrow:before {content: \"▾\";}#sk-container-id-9 div.sk-estimator input.sk-toggleable__control:checked~label.sk-toggleable__label {background-color: #d4ebff;}#sk-container-id-9 div.sk-label input.sk-toggleable__control:checked~label.sk-toggleable__label {background-color: #d4ebff;}#sk-container-id-9 input.sk-hidden--visually {border: 0;clip: rect(1px 1px 1px 1px);clip: rect(1px, 1px, 1px, 1px);height: 1px;margin: -1px;overflow: hidden;padding: 0;position: absolute;width: 1px;}#sk-container-id-9 div.sk-estimator {font-family: monospace;background-color: #f0f8ff;border: 1px dotted black;border-radius: 0.25em;box-sizing: border-box;margin-bottom: 0.5em;}#sk-container-id-9 div.sk-estimator:hover {background-color: #d4ebff;}#sk-container-id-9 div.sk-parallel-item::after {content: \"\";width: 100%;border-bottom: 1px solid gray;flex-grow: 1;}#sk-container-id-9 div.sk-label:hover label.sk-toggleable__label {background-color: #d4ebff;}#sk-container-id-9 div.sk-serial::before {content: \"\";position: absolute;border-left: 1px solid gray;box-sizing: border-box;top: 0;bottom: 0;left: 50%;z-index: 0;}#sk-container-id-9 div.sk-serial {display: flex;flex-direction: column;align-items: center;background-color: white;padding-right: 0.2em;padding-left: 0.2em;position: relative;}#sk-container-id-9 div.sk-item {position: relative;z-index: 1;}#sk-container-id-9 div.sk-parallel {display: flex;align-items: stretch;justify-content: center;background-color: white;position: relative;}#sk-container-id-9 div.sk-item::before, #sk-container-id-9 div.sk-parallel-item::before {content: \"\";position: absolute;border-left: 1px solid gray;box-sizing: border-box;top: 0;bottom: 0;left: 50%;z-index: -1;}#sk-container-id-9 div.sk-parallel-item {display: flex;flex-direction: column;z-index: 1;position: relative;background-color: white;}#sk-container-id-9 div.sk-parallel-item:first-child::after {align-self: flex-end;width: 50%;}#sk-container-id-9 div.sk-parallel-item:last-child::after {align-self: flex-start;width: 50%;}#sk-container-id-9 div.sk-parallel-item:only-child::after {width: 0;}#sk-container-id-9 div.sk-dashed-wrapped {border: 1px dashed gray;margin: 0 0.4em 0.5em 0.4em;box-sizing: border-box;padding-bottom: 0.4em;background-color: white;}#sk-container-id-9 div.sk-label label {font-family: monospace;font-weight: bold;display: inline-block;line-height: 1.2em;}#sk-container-id-9 div.sk-label-container {text-align: center;}#sk-container-id-9 div.sk-container {/* jupyter's `normalize.less` sets `[hidden] { display: none; }` but bootstrap.min.css set `[hidden] { display: none !important; }` so we also need the `!important` here to be able to override the default hidden behavior on the sphinx rendered scikit-learn.org. See: https://github.com/scikit-learn/scikit-learn/issues/21755 */display: inline-block !important;position: relative;}#sk-container-id-9 div.sk-text-repr-fallback {display: none;}</style><div id=\"sk-container-id-9\" class=\"sk-top-container\"><div class=\"sk-text-repr-fallback\"><pre>RandomForestClassifier(max_features=4, min_samples_split=10)</pre><b>In a Jupyter environment, please rerun this cell to show the HTML representation or trust the notebook. <br />On GitHub, the HTML representation is unable to render, please try loading this page with nbviewer.org.</b></div><div class=\"sk-container\" hidden><div class=\"sk-item\"><div class=\"sk-estimator sk-toggleable\"><input class=\"sk-toggleable__control sk-hidden--visually\" id=\"sk-estimator-id-11\" type=\"checkbox\" checked><label for=\"sk-estimator-id-11\" class=\"sk-toggleable__label sk-toggleable__label-arrow\">RandomForestClassifier</label><div class=\"sk-toggleable__content\"><pre>RandomForestClassifier(max_features=4, min_samples_split=10)</pre></div></div></div></div></div>"
     },
     "execution_count": 280,
     "metadata": {},
     "output_type": "execute_result"
    }
   ],
   "source": [
    "rfTuned"
   ],
   "metadata": {
    "collapsed": false,
    "ExecuteTime": {
     "end_time": "2024-03-02T08:12:31.274845Z",
     "start_time": "2024-03-02T08:12:31.259896Z"
    }
   },
   "id": "bdf6ccb469ac2946",
   "execution_count": 280
  },
  {
   "cell_type": "code",
   "outputs": [
    {
     "data": {
      "text/plain": "<Figure size 1000x600 with 1 Axes>",
      "image/png": "[encoded data removed]"
     },
     "metadata": {},
     "output_type": "display_data"
    }
   ],
   "source": [
    "feature_importances = pd.Series(rfTuned.feature_importances_)\n",
    "feature_names = X.columns\n",
    "plt.figure(figsize=(10, 6))\n",
    "plt.barh(range(len(feature_importances)), feature_importances, align='center')\n",
    "plt.yticks(range(len(feature_importances)), feature_names)\n",
    "plt.xlabel('Feature Importance')\n",
    "plt.title('Random Forest Feature Importances')\n",
    "plt.show()"
   ],
   "metadata": {
    "collapsed": false,
    "ExecuteTime": {
     "end_time": "2024-03-02T08:12:31.540182Z",
     "start_time": "2024-03-02T08:12:31.275906Z"
    }
   },
   "id": "1a5252b038793eff",
   "execution_count": 281
  },
  {
   "cell_type": "markdown",
   "source": [
    "7-GBoost"
   ],
   "metadata": {
    "collapsed": false
   },
   "id": "f6b2cc6e1ac71976"
  },
  {
   "cell_type": "markdown",
   "source": [
    "7.1-Model ve Tahmin"
   ],
   "metadata": {
    "collapsed": false
   },
   "id": "9eedf5dd177af9e2"
  },
  {
   "cell_type": "code",
   "outputs": [],
   "source": [
    "gbmModel = GradientBoostingClassifier().fit(x_train,y_train)"
   ],
   "metadata": {
    "collapsed": false,
    "ExecuteTime": {
     "end_time": "2024-03-02T08:12:31.712821Z",
     "start_time": "2024-03-02T08:12:31.541183Z"
    }
   },
   "id": "5b1829f7ae256ca0",
   "execution_count": 282
  },
  {
   "cell_type": "code",
   "outputs": [],
   "source": [
    "gbmModel?"
   ],
   "metadata": {
    "collapsed": false,
    "ExecuteTime": {
     "end_time": "2024-03-02T08:12:31.728874Z",
     "start_time": "2024-03-02T08:12:31.713826Z"
    }
   },
   "id": "7e8b157708e9f88b",
   "execution_count": 283
  },
  {
   "cell_type": "code",
   "outputs": [],
   "source": [
    "yTahmin =gbmModel.predict(x_test)"
   ],
   "metadata": {
    "collapsed": false,
    "ExecuteTime": {
     "end_time": "2024-03-02T08:12:31.744389Z",
     "start_time": "2024-03-02T08:12:31.729872Z"
    }
   },
   "id": "1fe4405fd8dfaa62",
   "execution_count": 284
  },
  {
   "cell_type": "code",
   "outputs": [
    {
     "data": {
      "text/plain": "0.7316017316017316"
     },
     "execution_count": 285,
     "metadata": {},
     "output_type": "execute_result"
    }
   ],
   "source": [
    "accuracy_score(y_test,yTahmin)"
   ],
   "metadata": {
    "collapsed": false,
    "ExecuteTime": {
     "end_time": "2024-03-02T08:12:31.760406Z",
     "start_time": "2024-03-02T08:12:31.745381Z"
    }
   },
   "id": "a6a540000f08d1da",
   "execution_count": 285
  },
  {
   "cell_type": "markdown",
   "source": [
    "7.2-Model Tuning"
   ],
   "metadata": {
    "collapsed": false
   },
   "id": "617d08c64759f582"
  },
  {
   "cell_type": "code",
   "outputs": [
    {
     "name": "stdout",
     "output_type": "stream",
     "text": [
      "Fitting 10 folds for each of 80 candidates, totalling 800 fits\n",
      "{'learning_rate': 0.05, 'max_depth': 1, 'n_estimators': 100}\n"
     ]
    }
   ],
   "source": [
    "from sklearn.ensemble import GradientBoostingClassifier\n",
    "from sklearn.model_selection import GridSearchCV\n",
    "\n",
    "# Assuming you have your data x_train and y_train\n",
    "gbm = GradientBoostingClassifier()\n",
    "gbmParams = {\"learning_rate\": [0.1, 0.01, 0.001, 0.05], \"n_estimators\": [100, 300, 500, 1000], \"max_depth\": [1, 3, 5, 7, 9]}\n",
    "\n",
    "gbmCvModel = GridSearchCV(estimator=gbm, param_grid=gbmParams, cv=10, n_jobs=-1, verbose=2)\n",
    "gbmCvModel.fit(x_train, y_train)\n",
    "best_params = gbmCvModel.best_params_\n",
    "print(best_params)"
   ],
   "metadata": {
    "collapsed": false,
    "ExecuteTime": {
     "end_time": "2024-03-02T08:15:18.330519Z",
     "start_time": "2024-03-02T08:12:31.761512Z"
    }
   },
   "id": "79569d680b585ba6",
   "execution_count": 286
  },
  {
   "cell_type": "markdown",
   "source": [
    "7.3-Final Model"
   ],
   "metadata": {
    "collapsed": false
   },
   "id": "9dd614046e02616e"
  },
  {
   "cell_type": "code",
   "outputs": [],
   "source": [
    "gbmTuned = GradientBoostingClassifier(learning_rate=0.05,\n",
    "                                      max_depth=1,\n",
    "                                      n_estimators=100).fit(x_train,y_train)"
   ],
   "metadata": {
    "collapsed": false,
    "ExecuteTime": {
     "end_time": "2024-03-02T08:15:18.424042Z",
     "start_time": "2024-03-02T08:15:18.332143Z"
    }
   },
   "id": "10cf66d45308058",
   "execution_count": 287
  },
  {
   "cell_type": "code",
   "outputs": [],
   "source": [
    "yTahmin = gbmTuned.predict(x_test)"
   ],
   "metadata": {
    "collapsed": false,
    "ExecuteTime": {
     "end_time": "2024-03-02T08:15:18.439981Z",
     "start_time": "2024-03-02T08:15:18.424974Z"
    }
   },
   "id": "d0f0de17b80728e3",
   "execution_count": 288
  },
  {
   "cell_type": "code",
   "outputs": [
    {
     "data": {
      "text/plain": "0.7619047619047619"
     },
     "execution_count": 289,
     "metadata": {},
     "output_type": "execute_result"
    }
   ],
   "source": [
    "accuracy_score(y_test,yTahmin)"
   ],
   "metadata": {
    "collapsed": false,
    "ExecuteTime": {
     "end_time": "2024-03-02T08:15:18.455133Z",
     "start_time": "2024-03-02T08:15:18.440992Z"
    }
   },
   "id": "52c27be190b08e49",
   "execution_count": 289
  },
  {
   "cell_type": "markdown",
   "source": [
    "7.4-Değişken Önem Sırası"
   ],
   "metadata": {
    "collapsed": false
   },
   "id": "68bd56b5c3481aef"
  },
  {
   "cell_type": "code",
   "outputs": [
    {
     "data": {
      "text/plain": "<Figure size 1000x600 with 1 Axes>",
      "image/png": "[encoded data removed]"
     },
     "metadata": {},
     "output_type": "display_data"
    }
   ],
   "source": [
    "gbmTuned\n",
    "feature_importances = pd.Series(gbmTuned.feature_importances_)\n",
    "feature_names = X.columns\n",
    "plt.figure(figsize=(10, 6))\n",
    "plt.barh(range(len(feature_importances)), feature_importances, align='center')\n",
    "plt.yticks(range(len(feature_importances)), feature_names)\n",
    "plt.xlabel('Feature Importance')\n",
    "plt.title('Random Forest Feature Importances')\n",
    "plt.show()"
   ],
   "metadata": {
    "collapsed": false,
    "ExecuteTime": {
     "end_time": "2024-03-02T08:15:18.641840Z",
     "start_time": "2024-03-02T08:15:18.456129Z"
    }
   },
   "id": "173fa005f1593ce8",
   "execution_count": 290
  },
  {
   "cell_type": "markdown",
   "source": [
    "8-XGBoost"
   ],
   "metadata": {
    "collapsed": false
   },
   "id": "f935f671257d4b51"
  },
  {
   "cell_type": "code",
   "outputs": [
    {
     "name": "stdout",
     "output_type": "stream",
     "text": [
      "Requirement already satisfied: xgboost in c:\\users\\arda_\\anaconda3\\lib\\site-packages (2.0.3)\n",
      "Requirement already satisfied: numpy in c:\\users\\arda_\\anaconda3\\lib\\site-packages (from xgboost) (1.24.3)\n",
      "Requirement already satisfied: scipy in c:\\users\\arda_\\anaconda3\\lib\\site-packages (from xgboost) (1.10.1)\n"
     ]
    }
   ],
   "source": [
    "!pip install xgboost"
   ],
   "metadata": {
    "collapsed": false,
    "ExecuteTime": {
     "end_time": "2024-03-02T08:15:23.376811Z",
     "start_time": "2024-03-02T08:15:18.642933Z"
    }
   },
   "id": "5017f076c2886443",
   "execution_count": 291
  },
  {
   "cell_type": "code",
   "outputs": [],
   "source": [
    "from xgboost import XGBClassifier"
   ],
   "metadata": {
    "collapsed": false,
    "ExecuteTime": {
     "end_time": "2024-03-02T08:15:23.392433Z",
     "start_time": "2024-03-02T08:15:23.377809Z"
    }
   },
   "id": "b9250bfe380b57d5",
   "execution_count": 292
  },
  {
   "cell_type": "markdown",
   "source": [
    "8.1-Model ve Tahmin"
   ],
   "metadata": {
    "collapsed": false
   },
   "id": "44f95872218f49f4"
  },
  {
   "cell_type": "code",
   "outputs": [],
   "source": [
    "xgbModel = XGBClassifier().fit(x_train,y_train)"
   ],
   "metadata": {
    "collapsed": false,
    "ExecuteTime": {
     "end_time": "2024-03-02T08:15:24.793479Z",
     "start_time": "2024-03-02T08:15:23.393938Z"
    }
   },
   "id": "8044013910812ffc",
   "execution_count": 293
  },
  {
   "cell_type": "code",
   "outputs": [],
   "source": [
    "xgbModel?"
   ],
   "metadata": {
    "collapsed": false,
    "ExecuteTime": {
     "end_time": "2024-03-02T08:15:24.810057Z",
     "start_time": "2024-03-02T08:15:24.795473Z"
    }
   },
   "id": "4eb1cd15b41df13b",
   "execution_count": 294
  },
  {
   "cell_type": "code",
   "outputs": [],
   "source": [
    "yTahmin = xgbModel.predict(x_test)"
   ],
   "metadata": {
    "collapsed": false,
    "ExecuteTime": {
     "end_time": "2024-03-02T08:15:24.825524Z",
     "start_time": "2024-03-02T08:15:24.811556Z"
    }
   },
   "id": "e134b74db92306b",
   "execution_count": 295
  },
  {
   "cell_type": "code",
   "outputs": [
    {
     "data": {
      "text/plain": "0.7532467532467533"
     },
     "execution_count": 296,
     "metadata": {},
     "output_type": "execute_result"
    }
   ],
   "source": [
    "accuracy_score(y_test,yTahmin)"
   ],
   "metadata": {
    "collapsed": false,
    "ExecuteTime": {
     "end_time": "2024-03-02T08:15:24.841059Z",
     "start_time": "2024-03-02T08:15:24.827518Z"
    }
   },
   "id": "f03a8b4582b5adab",
   "execution_count": 296
  },
  {
   "cell_type": "markdown",
   "source": [
    "8.2- Model Tuning"
   ],
   "metadata": {
    "collapsed": false
   },
   "id": "6459113f29c6e46b"
  },
  {
   "cell_type": "code",
   "outputs": [],
   "source": [
    "xgb = XGBClassifier()"
   ],
   "metadata": {
    "collapsed": false,
    "ExecuteTime": {
     "end_time": "2024-03-02T08:15:24.856380Z",
     "start_time": "2024-03-02T08:15:24.842150Z"
    }
   },
   "id": "7ffc8dabe7c4e91",
   "execution_count": 297
  },
  {
   "cell_type": "code",
   "outputs": [],
   "source": [
    "xgbParams = {\"n_estimators\":[100,500,1000,2000],\n",
    "             \"subsample\":[0.6,0.8,1],\n",
    "             \"max_depth\":[3,5,7],\n",
    "             \"learning_rate\":[0.1,0.01,0.001],}"
   ],
   "metadata": {
    "collapsed": false,
    "ExecuteTime": {
     "end_time": "2024-03-02T08:15:24.871900Z",
     "start_time": "2024-03-02T08:15:24.857377Z"
    }
   },
   "id": "93c12a693b8dbd86",
   "execution_count": 298
  },
  {
   "cell_type": "code",
   "outputs": [
    {
     "name": "stdout",
     "output_type": "stream",
     "text": [
      "Fitting 10 folds for each of 108 candidates, totalling 1080 fits\n"
     ]
    }
   ],
   "source": [
    "xgbCvModel = GridSearchCV(xgb,xgbParams,cv=10,n_jobs=-1,verbose=2).fit(x_train,y_train)"
   ],
   "metadata": {
    "collapsed": false,
    "ExecuteTime": {
     "end_time": "2024-03-02T08:16:18.969174Z",
     "start_time": "2024-03-02T08:15:24.872898Z"
    }
   },
   "id": "b7d0429b7b3253f",
   "execution_count": 299
  },
  {
   "cell_type": "code",
   "outputs": [
    {
     "data": {
      "text/plain": "{'learning_rate': 0.001, 'max_depth': 7, 'n_estimators': 2000, 'subsample': 1}"
     },
     "execution_count": 300,
     "metadata": {},
     "output_type": "execute_result"
    }
   ],
   "source": [
    "xgbCvModel.best_params_"
   ],
   "metadata": {
    "collapsed": false,
    "ExecuteTime": {
     "end_time": "2024-03-02T08:16:18.984197Z",
     "start_time": "2024-03-02T08:16:18.971176Z"
    }
   },
   "id": "89eb53bd88e822dc",
   "execution_count": 300
  },
  {
   "cell_type": "code",
   "outputs": [],
   "source": [
    "xgbTuned = XGBClassifier(learning_rate=0.001,n_estimators=200,subsample=1,max_depth=7).fit(x_train,y_train)"
   ],
   "metadata": {
    "collapsed": false,
    "ExecuteTime": {
     "end_time": "2024-03-02T08:16:19.169084Z",
     "start_time": "2024-03-02T08:16:18.985193Z"
    }
   },
   "id": "17f09d4c1663a83d",
   "execution_count": 301
  },
  {
   "cell_type": "code",
   "outputs": [],
   "source": [
    "yTahmin = xgbTuned.predict(x_test)"
   ],
   "metadata": {
    "collapsed": false,
    "ExecuteTime": {
     "end_time": "2024-03-02T08:16:19.184463Z",
     "start_time": "2024-03-02T08:16:19.171084Z"
    }
   },
   "id": "e6f7690ca6897938",
   "execution_count": 302
  },
  {
   "cell_type": "code",
   "outputs": [
    {
     "data": {
      "text/plain": "0.6536796536796536"
     },
     "execution_count": 303,
     "metadata": {},
     "output_type": "execute_result"
    }
   ],
   "source": [
    "accuracy_score(y_test,yTahmin)"
   ],
   "metadata": {
    "collapsed": false,
    "ExecuteTime": {
     "end_time": "2024-03-02T08:16:19.200144Z",
     "start_time": "2024-03-02T08:16:19.185460Z"
    }
   },
   "id": "1f6d69be7c7f296b",
   "execution_count": 303
  },
  {
   "cell_type": "markdown",
   "source": [
    "8.3 Değişken Önem Sırası"
   ],
   "metadata": {
    "collapsed": false
   },
   "id": "b41b160920e17df6"
  },
  {
   "cell_type": "code",
   "outputs": [
    {
     "data": {
      "text/plain": "<Figure size 1000x600 with 1 Axes>",
      "image/png": "[encoded data removed]"
     },
     "metadata": {},
     "output_type": "display_data"
    }
   ],
   "source": [
    "xgbTuned\n",
    "feature_importances = pd.Series(xgbTuned.feature_importances_)\n",
    "feature_names = X.columns\n",
    "plt.figure(figsize=(10, 6))\n",
    "plt.barh(range(len(feature_importances)), feature_importances, align='center')\n",
    "plt.yticks(range(len(feature_importances)), feature_names)\n",
    "plt.xlabel('Feature Importance')\n",
    "plt.title('Random Forest Feature Importances')\n",
    "plt.show()"
   ],
   "metadata": {
    "collapsed": false,
    "ExecuteTime": {
     "end_time": "2024-03-02T08:16:19.445031Z",
     "start_time": "2024-03-02T08:16:19.201148Z"
    }
   },
   "id": "f93051e6dc15dcdb",
   "execution_count": 304
  },
  {
   "cell_type": "markdown",
   "source": [
    "9-LGBM"
   ],
   "metadata": {
    "collapsed": false
   },
   "id": "d1a996c67209c2bc"
  },
  {
   "cell_type": "code",
   "outputs": [
    {
     "name": "stdout",
     "output_type": "stream",
     "text": [
      "Requirement already satisfied: lightgbm in c:\\users\\arda_\\anaconda3\\lib\\site-packages (4.3.0)\n",
      "Requirement already satisfied: numpy in c:\\users\\arda_\\anaconda3\\lib\\site-packages (from lightgbm) (1.24.3)\n",
      "Requirement already satisfied: scipy in c:\\users\\arda_\\anaconda3\\lib\\site-packages (from lightgbm) (1.10.1)\n"
     ]
    }
   ],
   "source": [
    "!pip install lightgbm"
   ],
   "metadata": {
    "collapsed": false,
    "ExecuteTime": {
     "end_time": "2024-03-02T08:16:24.456656Z",
     "start_time": "2024-03-02T08:16:19.452339Z"
    }
   },
   "id": "4c10cbd62c940035",
   "execution_count": 305
  },
  {
   "cell_type": "code",
   "outputs": [],
   "source": [
    "from lightgbm import LGBMClassifier"
   ],
   "metadata": {
    "collapsed": false,
    "ExecuteTime": {
     "end_time": "2024-03-02T08:16:25.342866Z",
     "start_time": "2024-03-02T08:16:24.458660Z"
    }
   },
   "id": "35eb9754b208af78",
   "execution_count": 306
  },
  {
   "cell_type": "markdown",
   "source": [
    "9.1-Model ve Tahmin"
   ],
   "metadata": {
    "collapsed": false
   },
   "id": "a138c0f41f1cfcd"
  },
  {
   "cell_type": "code",
   "outputs": [
    {
     "name": "stdout",
     "output_type": "stream",
     "text": [
      "[LightGBM] [Info] Number of positive: 188, number of negative: 349\n",
      "[LightGBM] [Info] Auto-choosing row-wise multi-threading, the overhead of testing was 0.000472 seconds.\n",
      "You can set `force_row_wise=true` to remove the overhead.\n",
      "And if memory is not enough, you can set `force_col_wise=true`.\n",
      "[LightGBM] [Info] Total Bins 611\n",
      "[LightGBM] [Info] Number of data points in the train set: 537, number of used features: 8\n",
      "[LightGBM] [Info] [binary:BoostFromScore]: pavg=0.350093 -> initscore=-0.618630\n",
      "[LightGBM] [Info] Start training from score -0.618630\n",
      "[LightGBM] [Warning] No further splits with positive gain, best gain: -inf\n",
      "[LightGBM] [Warning] No further splits with positive gain, best gain: -inf\n",
      "[LightGBM] [Warning] No further splits with positive gain, best gain: -inf\n",
      "[LightGBM] [Warning] No further splits with positive gain, best gain: -inf\n",
      "[LightGBM] [Warning] No further splits with positive gain, best gain: -inf\n",
      "[LightGBM] [Warning] No further splits with positive gain, best gain: -inf\n",
      "[LightGBM] [Warning] No further splits with positive gain, best gain: -inf\n",
      "[LightGBM] [Warning] No further splits with positive gain, best gain: -inf\n",
      "[LightGBM] [Warning] No further splits with positive gain, best gain: -inf\n",
      "[LightGBM] [Warning] No further splits with positive gain, best gain: -inf\n",
      "[LightGBM] [Warning] No further splits with positive gain, best gain: -inf\n",
      "[LightGBM] [Warning] No further splits with positive gain, best gain: -inf\n",
      "[LightGBM] [Warning] No further splits with positive gain, best gain: -inf\n",
      "[LightGBM] [Warning] No further splits with positive gain, best gain: -inf\n",
      "[LightGBM] [Warning] No further splits with positive gain, best gain: -inf\n",
      "[LightGBM] [Warning] No further splits with positive gain, best gain: -inf\n",
      "[LightGBM] [Warning] No further splits with positive gain, best gain: -inf\n",
      "[LightGBM] [Warning] No further splits with positive gain, best gain: -inf\n",
      "[LightGBM] [Warning] No further splits with positive gain, best gain: -inf\n",
      "[LightGBM] [Warning] No further splits with positive gain, best gain: -inf\n",
      "[LightGBM] [Warning] No further splits with positive gain, best gain: -inf\n",
      "[LightGBM] [Warning] No further splits with positive gain, best gain: -inf\n",
      "[LightGBM] [Warning] No further splits with positive gain, best gain: -inf\n",
      "[LightGBM] [Warning] No further splits with positive gain, best gain: -inf\n",
      "[LightGBM] [Warning] No further splits with positive gain, best gain: -inf\n",
      "[LightGBM] [Warning] No further splits with positive gain, best gain: -inf\n",
      "[LightGBM] [Warning] No further splits with positive gain, best gain: -inf\n",
      "[LightGBM] [Warning] No further splits with positive gain, best gain: -inf\n",
      "[LightGBM] [Warning] No further splits with positive gain, best gain: -inf\n",
      "[LightGBM] [Warning] No further splits with positive gain, best gain: -inf\n",
      "[LightGBM] [Warning] No further splits with positive gain, best gain: -inf\n",
      "[LightGBM] [Warning] No further splits with positive gain, best gain: -inf\n",
      "[LightGBM] [Warning] No further splits with positive gain, best gain: -inf\n",
      "[LightGBM] [Warning] No further splits with positive gain, best gain: -inf\n",
      "[LightGBM] [Warning] No further splits with positive gain, best gain: -inf\n",
      "[LightGBM] [Warning] No further splits with positive gain, best gain: -inf\n",
      "[LightGBM] [Warning] No further splits with positive gain, best gain: -inf\n",
      "[LightGBM] [Warning] No further splits with positive gain, best gain: -inf\n",
      "[LightGBM] [Warning] No further splits with positive gain, best gain: -inf\n",
      "[LightGBM] [Warning] No further splits with positive gain, best gain: -inf\n",
      "[LightGBM] [Warning] No further splits with positive gain, best gain: -inf\n",
      "[LightGBM] [Warning] No further splits with positive gain, best gain: -inf\n",
      "[LightGBM] [Warning] No further splits with positive gain, best gain: -inf\n",
      "[LightGBM] [Warning] No further splits with positive gain, best gain: -inf\n",
      "[LightGBM] [Warning] No further splits with positive gain, best gain: -inf\n",
      "[LightGBM] [Warning] No further splits with positive gain, best gain: -inf\n",
      "[LightGBM] [Warning] No further splits with positive gain, best gain: -inf\n",
      "[LightGBM] [Warning] No further splits with positive gain, best gain: -inf\n",
      "[LightGBM] [Warning] No further splits with positive gain, best gain: -inf\n",
      "[LightGBM] [Warning] No further splits with positive gain, best gain: -inf\n",
      "[LightGBM] [Warning] No further splits with positive gain, best gain: -inf\n",
      "[LightGBM] [Warning] No further splits with positive gain, best gain: -inf\n",
      "[LightGBM] [Warning] No further splits with positive gain, best gain: -inf\n",
      "[LightGBM] [Warning] No further splits with positive gain, best gain: -inf\n",
      "[LightGBM] [Warning] No further splits with positive gain, best gain: -inf\n",
      "[LightGBM] [Warning] No further splits with positive gain, best gain: -inf\n",
      "[LightGBM] [Warning] No further splits with positive gain, best gain: -inf\n",
      "[LightGBM] [Warning] No further splits with positive gain, best gain: -inf\n",
      "[LightGBM] [Warning] No further splits with positive gain, best gain: -inf\n",
      "[LightGBM] [Warning] No further splits with positive gain, best gain: -inf\n",
      "[LightGBM] [Warning] No further splits with positive gain, best gain: -inf\n",
      "[LightGBM] [Warning] No further splits with positive gain, best gain: -inf\n",
      "[LightGBM] [Warning] No further splits with positive gain, best gain: -inf\n",
      "[LightGBM] [Warning] No further splits with positive gain, best gain: -inf\n",
      "[LightGBM] [Warning] No further splits with positive gain, best gain: -inf\n",
      "[LightGBM] [Warning] No further splits with positive gain, best gain: -inf\n",
      "[LightGBM] [Warning] No further splits with positive gain, best gain: -inf\n",
      "[LightGBM] [Warning] No further splits with positive gain, best gain: -inf\n",
      "[LightGBM] [Warning] No further splits with positive gain, best gain: -inf\n",
      "[LightGBM] [Warning] No further splits with positive gain, best gain: -inf\n",
      "[LightGBM] [Warning] No further splits with positive gain, best gain: -inf\n",
      "[LightGBM] [Warning] No further splits with positive gain, best gain: -inf\n",
      "[LightGBM] [Warning] No further splits with positive gain, best gain: -inf\n",
      "[LightGBM] [Warning] No further splits with positive gain, best gain: -inf\n",
      "[LightGBM] [Warning] No further splits with positive gain, best gain: -inf\n",
      "[LightGBM] [Warning] No further splits with positive gain, best gain: -inf\n",
      "[LightGBM] [Warning] No further splits with positive gain, best gain: -inf\n",
      "[LightGBM] [Warning] No further splits with positive gain, best gain: -inf\n",
      "[LightGBM] [Warning] No further splits with positive gain, best gain: -inf\n",
      "[LightGBM] [Warning] No further splits with positive gain, best gain: -inf\n",
      "[LightGBM] [Warning] No further splits with positive gain, best gain: -inf\n",
      "[LightGBM] [Warning] No further splits with positive gain, best gain: -inf\n",
      "[LightGBM] [Warning] No further splits with positive gain, best gain: -inf\n",
      "[LightGBM] [Warning] No further splits with positive gain, best gain: -inf\n",
      "[LightGBM] [Warning] No further splits with positive gain, best gain: -inf\n",
      "[LightGBM] [Warning] No further splits with positive gain, best gain: -inf\n",
      "[LightGBM] [Warning] No further splits with positive gain, best gain: -inf\n",
      "[LightGBM] [Warning] No further splits with positive gain, best gain: -inf\n",
      "[LightGBM] [Warning] No further splits with positive gain, best gain: -inf\n",
      "[LightGBM] [Warning] No further splits with positive gain, best gain: -inf\n",
      "[LightGBM] [Warning] No further splits with positive gain, best gain: -inf\n",
      "[LightGBM] [Warning] No further splits with positive gain, best gain: -inf\n",
      "[LightGBM] [Warning] No further splits with positive gain, best gain: -inf\n",
      "[LightGBM] [Warning] No further splits with positive gain, best gain: -inf\n",
      "[LightGBM] [Warning] No further splits with positive gain, best gain: -inf\n",
      "[LightGBM] [Warning] No further splits with positive gain, best gain: -inf\n",
      "[LightGBM] [Warning] No further splits with positive gain, best gain: -inf\n",
      "[LightGBM] [Warning] No further splits with positive gain, best gain: -inf\n",
      "[LightGBM] [Warning] No further splits with positive gain, best gain: -inf\n",
      "[LightGBM] [Warning] No further splits with positive gain, best gain: -inf\n"
     ]
    }
   ],
   "source": [
    "lgbmModel = LGBMClassifier().fit(x_train,y_train)"
   ],
   "metadata": {
    "collapsed": false,
    "ExecuteTime": {
     "end_time": "2024-03-02T08:16:25.452730Z",
     "start_time": "2024-03-02T08:16:25.343979Z"
    }
   },
   "id": "3175734ad337879e",
   "execution_count": 307
  },
  {
   "cell_type": "code",
   "outputs": [],
   "source": [
    "lgbmModel?"
   ],
   "metadata": {
    "collapsed": false,
    "ExecuteTime": {
     "end_time": "2024-03-02T08:16:25.468222Z",
     "start_time": "2024-03-02T08:16:25.454757Z"
    }
   },
   "id": "15fa45656c067cc6",
   "execution_count": 308
  },
  {
   "cell_type": "code",
   "outputs": [],
   "source": [
    "yTahmin = lgbmModel.predict(x_test)"
   ],
   "metadata": {
    "collapsed": false,
    "ExecuteTime": {
     "end_time": "2024-03-02T08:16:25.483226Z",
     "start_time": "2024-03-02T08:16:25.469217Z"
    }
   },
   "id": "f65e354534add7a9",
   "execution_count": 309
  },
  {
   "cell_type": "code",
   "outputs": [
    {
     "data": {
      "text/plain": "0.7445887445887446"
     },
     "execution_count": 310,
     "metadata": {},
     "output_type": "execute_result"
    }
   ],
   "source": [
    "accuracy_score(y_test,yTahmin)"
   ],
   "metadata": {
    "collapsed": false,
    "ExecuteTime": {
     "end_time": "2024-03-02T08:16:25.498194Z",
     "start_time": "2024-03-02T08:16:25.484225Z"
    }
   },
   "id": "95e79841762f7058",
   "execution_count": 310
  },
  {
   "cell_type": "markdown",
   "source": [
    "9.2-Model Tuning"
   ],
   "metadata": {
    "collapsed": false
   },
   "id": "ff010b4b01316da7"
  },
  {
   "cell_type": "code",
   "outputs": [],
   "source": [
    "lgbm = LGBMClassifier()"
   ],
   "metadata": {
    "collapsed": false,
    "ExecuteTime": {
     "end_time": "2024-03-02T08:16:25.513711Z",
     "start_time": "2024-03-02T08:16:25.499193Z"
    }
   },
   "id": "bb4271f434485bfd",
   "execution_count": 311
  },
  {
   "cell_type": "code",
   "outputs": [],
   "source": [
    "lgbmParams = {\"learning_rate\":[0.01,0.01,0.1],\"n_estimators\":[200,500,1000],\"max_depth\":[1,2,35,8]}"
   ],
   "metadata": {
    "collapsed": false,
    "ExecuteTime": {
     "end_time": "2024-03-02T08:16:25.529169Z",
     "start_time": "2024-03-02T08:16:25.515706Z"
    }
   },
   "id": "2510b695cc5794ae",
   "execution_count": 312
  },
  {
   "cell_type": "code",
   "outputs": [
    {
     "name": "stdout",
     "output_type": "stream",
     "text": [
      "Fitting 10 folds for each of 36 candidates, totalling 360 fits\n",
      "[LightGBM] [Info] Number of positive: 188, number of negative: 349\n",
      "[LightGBM] [Info] Auto-choosing col-wise multi-threading, the overhead of testing was 0.000140 seconds.\n",
      "You can set `force_col_wise=true` to remove the overhead.\n",
      "[LightGBM] [Info] Total Bins 611\n",
      "[LightGBM] [Info] Number of data points in the train set: 537, number of used features: 8\n",
      "[LightGBM] [Info] [binary:BoostFromScore]: pavg=0.350093 -> initscore=-0.618630\n",
      "[LightGBM] [Info] Start training from score -0.618630\n"
     ]
    }
   ],
   "source": [
    "lgbmCvModel = GridSearchCV(lgbm,lgbmParams,cv = 10,n_jobs=-1,verbose=2).fit(x_train,y_train)"
   ],
   "metadata": {
    "collapsed": false,
    "ExecuteTime": {
     "end_time": "2024-03-02T08:17:09.160528Z",
     "start_time": "2024-03-02T08:16:25.530166Z"
    }
   },
   "id": "5e731ad56be9f060",
   "execution_count": 313
  },
  {
   "cell_type": "code",
   "outputs": [
    {
     "data": {
      "text/plain": "{'learning_rate': 0.01, 'max_depth': 1, 'n_estimators': 500}"
     },
     "execution_count": 314,
     "metadata": {},
     "output_type": "execute_result"
    }
   ],
   "source": [
    "lgbmCvModel.best_params_"
   ],
   "metadata": {
    "collapsed": false,
    "ExecuteTime": {
     "end_time": "2024-03-02T08:17:09.176117Z",
     "start_time": "2024-03-02T08:17:09.162524Z"
    }
   },
   "id": "b284dd3a1781e359",
   "execution_count": 314
  },
  {
   "cell_type": "markdown",
   "source": [
    "9.3-Final Modeli"
   ],
   "metadata": {
    "collapsed": false
   },
   "id": "8d638b32f353f96f"
  },
  {
   "cell_type": "code",
   "outputs": [
    {
     "name": "stdout",
     "output_type": "stream",
     "text": [
      "[LightGBM] [Info] Number of positive: 188, number of negative: 349\n",
      "[LightGBM] [Info] Auto-choosing row-wise multi-threading, the overhead of testing was 0.000039 seconds.\n",
      "You can set `force_row_wise=true` to remove the overhead.\n",
      "And if memory is not enough, you can set `force_col_wise=true`.\n",
      "[LightGBM] [Info] Total Bins 611\n",
      "[LightGBM] [Info] Number of data points in the train set: 537, number of used features: 8\n",
      "[LightGBM] [Info] [binary:BoostFromScore]: pavg=0.350093 -> initscore=-0.618630\n",
      "[LightGBM] [Info] Start training from score -0.618630\n"
     ]
    }
   ],
   "source": [
    "lgbmTuned = LGBMClassifier(learning_rate=0.01,max_depth=1,n_estimators=500).fit(x_train,y_train)"
   ],
   "metadata": {
    "collapsed": false,
    "ExecuteTime": {
     "end_time": "2024-03-02T08:17:09.236107Z",
     "start_time": "2024-03-02T08:17:09.178614Z"
    }
   },
   "id": "35e346245d052acf",
   "execution_count": 315
  },
  {
   "cell_type": "code",
   "outputs": [],
   "source": [
    "yTahmin = lgbmTuned.predict(x_test)"
   ],
   "metadata": {
    "collapsed": false,
    "ExecuteTime": {
     "end_time": "2024-03-02T08:17:09.250945Z",
     "start_time": "2024-03-02T08:17:09.239474Z"
    }
   },
   "id": "d19bf70607b11d02",
   "execution_count": 316
  },
  {
   "cell_type": "code",
   "outputs": [
    {
     "data": {
      "text/plain": "0.7575757575757576"
     },
     "execution_count": 317,
     "metadata": {},
     "output_type": "execute_result"
    }
   ],
   "source": [
    "accuracy_score(y_test,yTahmin)"
   ],
   "metadata": {
    "collapsed": false,
    "ExecuteTime": {
     "end_time": "2024-03-02T08:17:09.266189Z",
     "start_time": "2024-03-02T08:17:09.252938Z"
    }
   },
   "id": "e6f771860602eb22",
   "execution_count": 317
  },
  {
   "cell_type": "markdown",
   "source": [
    "9.4 Değişken Önem Sırası"
   ],
   "metadata": {
    "collapsed": false
   },
   "id": "c3d9c7c6071e9a7e"
  },
  {
   "cell_type": "code",
   "outputs": [
    {
     "data": {
      "text/plain": "<Figure size 1000x600 with 1 Axes>",
      "image/png": "[encoded data removed]"
     },
     "metadata": {},
     "output_type": "display_data"
    }
   ],
   "source": [
    "lgbmTuned\n",
    "feature_importances = pd.Series(lgbmTuned.feature_importances_)\n",
    "feature_names = X.columns\n",
    "plt.figure(figsize=(10, 6))\n",
    "plt.barh(range(len(feature_importances)), feature_importances, align='center')\n",
    "plt.yticks(range(len(feature_importances)), feature_names)\n",
    "plt.xlabel('Feature Importance')\n",
    "plt.title('Random Forest Feature Importances')\n",
    "plt.show()"
   ],
   "metadata": {
    "collapsed": false,
    "ExecuteTime": {
     "end_time": "2024-03-02T08:17:09.686456Z",
     "start_time": "2024-03-02T08:17:09.268666Z"
    }
   },
   "id": "192ace112ce6ab9d",
   "execution_count": 318
  },
  {
   "cell_type": "markdown",
   "source": [
    "10-CatBoost"
   ],
   "metadata": {
    "collapsed": false
   },
   "id": "655a25d95a3a797c"
  },
  {
   "cell_type": "code",
   "outputs": [
    {
     "name": "stdout",
     "output_type": "stream",
     "text": [
      "Requirement already satisfied: catboost in c:\\users\\arda_\\anaconda3\\lib\\site-packages (1.2.3)\n",
      "Requirement already satisfied: graphviz in c:\\users\\arda_\\anaconda3\\lib\\site-packages (from catboost) (0.20.1)\n",
      "Requirement already satisfied: matplotlib in c:\\users\\arda_\\anaconda3\\lib\\site-packages (from catboost) (3.7.2)\n",
      "Requirement already satisfied: numpy>=1.16.0 in c:\\users\\arda_\\anaconda3\\lib\\site-packages (from catboost) (1.24.3)\n",
      "Requirement already satisfied: pandas>=0.24 in c:\\users\\arda_\\anaconda3\\lib\\site-packages (from catboost) (2.0.3)\n",
      "Requirement already satisfied: scipy in c:\\users\\arda_\\anaconda3\\lib\\site-packages (from catboost) (1.10.1)\n",
      "Requirement already satisfied: plotly in c:\\users\\arda_\\anaconda3\\lib\\site-packages (from catboost) (5.19.0)\n",
      "Requirement already satisfied: six in c:\\users\\arda_\\anaconda3\\lib\\site-packages (from catboost) (1.16.0)\n",
      "Requirement already satisfied: python-dateutil>=2.8.2 in c:\\users\\arda_\\anaconda3\\lib\\site-packages (from pandas>=0.24->catboost) (2.8.2)\n",
      "Requirement already satisfied: pytz>=2020.1 in c:\\users\\arda_\\anaconda3\\lib\\site-packages (from pandas>=0.24->catboost) (2023.3.post1)\n",
      "Requirement already satisfied: tzdata>=2022.1 in c:\\users\\arda_\\anaconda3\\lib\\site-packages (from pandas>=0.24->catboost) (2023.3)\n",
      "Requirement already satisfied: contourpy>=1.0.1 in c:\\users\\arda_\\anaconda3\\lib\\site-packages (from matplotlib->catboost) (1.0.5)\n",
      "Requirement already satisfied: cycler>=0.10 in c:\\users\\arda_\\anaconda3\\lib\\site-packages (from matplotlib->catboost) (0.11.0)\n",
      "Requirement already satisfied: fonttools>=4.22.0 in c:\\users\\arda_\\anaconda3\\lib\\site-packages (from matplotlib->catboost) (4.25.0)\n",
      "Requirement already satisfied: kiwisolver>=1.0.1 in c:\\users\\arda_\\anaconda3\\lib\\site-packages (from matplotlib->catboost) (1.4.4)\n",
      "Requirement already satisfied: packaging>=20.0 in c:\\users\\arda_\\anaconda3\\lib\\site-packages (from matplotlib->catboost) (23.1)\n",
      "Requirement already satisfied: pillow>=6.2.0 in c:\\users\\arda_\\anaconda3\\lib\\site-packages (from matplotlib->catboost) (10.2.0)\n",
      "Requirement already satisfied: pyparsing<3.1,>=2.3.1 in c:\\users\\arda_\\anaconda3\\lib\\site-packages (from matplotlib->catboost) (3.0.9)\n",
      "Requirement already satisfied: importlib-resources>=3.2.0 in c:\\users\\arda_\\anaconda3\\lib\\site-packages (from matplotlib->catboost) (6.1.1)\n",
      "Requirement already satisfied: tenacity>=6.2.0 in c:\\users\\arda_\\anaconda3\\lib\\site-packages (from plotly->catboost) (8.2.2)\n",
      "Requirement already satisfied: zipp>=3.1.0 in c:\\users\\arda_\\anaconda3\\lib\\site-packages (from importlib-resources>=3.2.0->matplotlib->catboost) (3.17.0)\n"
     ]
    }
   ],
   "source": [
    "!pip install catboost"
   ],
   "metadata": {
    "collapsed": false,
    "ExecuteTime": {
     "end_time": "2024-03-02T08:22:28.465452Z",
     "start_time": "2024-03-02T08:22:22.119376Z"
    }
   },
   "id": "3a1475a67e6045c5",
   "execution_count": 345
  },
  {
   "cell_type": "code",
   "outputs": [],
   "source": [
    "from catboost import CatBoostClassifier"
   ],
   "metadata": {
    "collapsed": false,
    "ExecuteTime": {
     "end_time": "2024-03-02T08:22:28.481473Z",
     "start_time": "2024-03-02T08:22:28.466451Z"
    }
   },
   "id": "f80e08fc30e90386",
   "execution_count": 346
  },
  {
   "cell_type": "markdown",
   "source": [
    "10.1-Model ve Tahmin"
   ],
   "metadata": {
    "collapsed": false
   },
   "id": "e64327339cf4070a"
  },
  {
   "cell_type": "code",
   "outputs": [],
   "source": [
    "catbmodel = CatBoostClassifier().fit(x_train,y_train,verbose = False)"
   ],
   "metadata": {
    "collapsed": false,
    "ExecuteTime": {
     "end_time": "2024-03-02T08:22:30.197359Z",
     "start_time": "2024-03-02T08:22:28.482474Z"
    }
   },
   "id": "6b381f5f2db79e40",
   "execution_count": 347
  },
  {
   "cell_type": "code",
   "outputs": [],
   "source": [
    "yTahmin = catbmodel.predict(x_test)"
   ],
   "metadata": {
    "collapsed": false,
    "ExecuteTime": {
     "end_time": "2024-03-02T08:22:30.212824Z",
     "start_time": "2024-03-02T08:22:30.198360Z"
    }
   },
   "id": "a2953fe5f77cb472",
   "execution_count": 348
  },
  {
   "cell_type": "code",
   "outputs": [
    {
     "data": {
      "text/plain": "0.7445887445887446"
     },
     "execution_count": 349,
     "metadata": {},
     "output_type": "execute_result"
    }
   ],
   "source": [
    "accuracy_score(y_test,yTahmin)"
   ],
   "metadata": {
    "collapsed": false,
    "ExecuteTime": {
     "end_time": "2024-03-02T08:22:30.228841Z",
     "start_time": "2024-03-02T08:22:30.213820Z"
    }
   },
   "id": "3400e4019780a3ca",
   "execution_count": 349
  },
  {
   "cell_type": "code",
   "outputs": [],
   "source": [
    "catbmodel?"
   ],
   "metadata": {
    "collapsed": false,
    "ExecuteTime": {
     "end_time": "2024-03-02T08:22:30.244327Z",
     "start_time": "2024-03-02T08:22:30.229844Z"
    }
   },
   "id": "986f9ee14db1e835",
   "execution_count": 350
  },
  {
   "cell_type": "markdown",
   "source": [
    "10.2-Model Tuning"
   ],
   "metadata": {
    "collapsed": false
   },
   "id": "8b2573039f33b3ed"
  },
  {
   "cell_type": "code",
   "outputs": [],
   "source": [
    "catb = CatBoostClassifier(verbose=False)"
   ],
   "metadata": {
    "collapsed": false,
    "ExecuteTime": {
     "end_time": "2024-03-02T08:23:06.143183Z",
     "start_time": "2024-03-02T08:23:06.132618Z"
    }
   },
   "id": "b5b576576fef5829",
   "execution_count": 358
  },
  {
   "cell_type": "code",
   "outputs": [],
   "source": [
    "catbParams = {\"iterations\":[200,500,1000],\"learning_rate\":[0.01,0.03,0.1],\"depth\":[4,5,8]}"
   ],
   "metadata": {
    "collapsed": false,
    "ExecuteTime": {
     "end_time": "2024-03-02T08:23:47.022452Z",
     "start_time": "2024-03-02T08:23:47.012423Z"
    }
   },
   "id": "9d72fe3557965d0b",
   "execution_count": 362
  },
  {
   "cell_type": "code",
   "outputs": [
    {
     "name": "stdout",
     "output_type": "stream",
     "text": [
      "Fitting 5 folds for each of 27 candidates, totalling 135 fits\n"
     ]
    }
   ],
   "source": [
    "catbCvModel = GridSearchCV(catb,catbParams,cv=5,n_jobs=-1,verbose=2).fit(x_train,y_train)"
   ],
   "metadata": {
    "collapsed": false,
    "ExecuteTime": {
     "end_time": "2024-03-02T08:24:47.343673Z",
     "start_time": "2024-03-02T08:23:48.410809Z"
    }
   },
   "id": "190cb4d9c2d71998",
   "execution_count": 363
  },
  {
   "cell_type": "code",
   "outputs": [
    {
     "data": {
      "text/plain": "{'depth': 8, 'iterations': 200, 'learning_rate': 0.01}"
     },
     "execution_count": 364,
     "metadata": {},
     "output_type": "execute_result"
    }
   ],
   "source": [
    "catbCvModel.best_params_"
   ],
   "metadata": {
    "collapsed": false,
    "ExecuteTime": {
     "end_time": "2024-03-02T08:24:47.358854Z",
     "start_time": "2024-03-02T08:24:47.344769Z"
    }
   },
   "id": "38e6ea1097afef68",
   "execution_count": 364
  },
  {
   "cell_type": "markdown",
   "source": [
    "10.3-Final Modeli"
   ],
   "metadata": {
    "collapsed": false
   },
   "id": "32d85dd7e0d61927"
  },
  {
   "cell_type": "code",
   "outputs": [
    {
     "name": "stdout",
     "output_type": "stream",
     "text": [
      "0:\tlearn: 0.6863312\ttotal: 3.13ms\tremaining: 624ms\n",
      "1:\tlearn: 0.6811157\ttotal: 6.09ms\tremaining: 603ms\n",
      "2:\tlearn: 0.6752970\ttotal: 8.63ms\tremaining: 566ms\n",
      "3:\tlearn: 0.6697432\ttotal: 11.1ms\tremaining: 544ms\n",
      "4:\tlearn: 0.6641758\ttotal: 13.9ms\tremaining: 542ms\n",
      "5:\tlearn: 0.6576656\ttotal: 16.6ms\tremaining: 537ms\n",
      "6:\tlearn: 0.6521870\ttotal: 19.3ms\tremaining: 532ms\n",
      "7:\tlearn: 0.6465564\ttotal: 21.8ms\tremaining: 523ms\n",
      "8:\tlearn: 0.6407595\ttotal: 24.3ms\tremaining: 516ms\n",
      "9:\tlearn: 0.6357725\ttotal: 26.8ms\tremaining: 508ms\n",
      "10:\tlearn: 0.6299942\ttotal: 29.2ms\tremaining: 502ms\n",
      "11:\tlearn: 0.6240480\ttotal: 31.8ms\tremaining: 497ms\n",
      "12:\tlearn: 0.6196095\ttotal: 34.3ms\tremaining: 494ms\n",
      "13:\tlearn: 0.6148715\ttotal: 36.7ms\tremaining: 487ms\n",
      "14:\tlearn: 0.6092626\ttotal: 39ms\tremaining: 482ms\n",
      "15:\tlearn: 0.6046764\ttotal: 41.6ms\tremaining: 479ms\n",
      "16:\tlearn: 0.6012725\ttotal: 44.2ms\tremaining: 476ms\n",
      "17:\tlearn: 0.5958121\ttotal: 46.8ms\tremaining: 473ms\n",
      "18:\tlearn: 0.5903243\ttotal: 49.2ms\tremaining: 468ms\n",
      "19:\tlearn: 0.5866024\ttotal: 51.6ms\tremaining: 464ms\n",
      "20:\tlearn: 0.5831390\ttotal: 54.2ms\tremaining: 462ms\n",
      "21:\tlearn: 0.5787381\ttotal: 56.8ms\tremaining: 460ms\n",
      "22:\tlearn: 0.5749016\ttotal: 59.5ms\tremaining: 458ms\n",
      "23:\tlearn: 0.5703199\ttotal: 62.1ms\tremaining: 455ms\n",
      "24:\tlearn: 0.5662368\ttotal: 64.9ms\tremaining: 454ms\n",
      "25:\tlearn: 0.5628682\ttotal: 67.5ms\tremaining: 452ms\n",
      "26:\tlearn: 0.5589082\ttotal: 70.1ms\tremaining: 449ms\n",
      "27:\tlearn: 0.5543910\ttotal: 72.7ms\tremaining: 447ms\n",
      "28:\tlearn: 0.5503864\ttotal: 75.2ms\tremaining: 443ms\n",
      "29:\tlearn: 0.5470574\ttotal: 77.5ms\tremaining: 439ms\n",
      "30:\tlearn: 0.5441267\ttotal: 80.1ms\tremaining: 437ms\n",
      "31:\tlearn: 0.5396280\ttotal: 82.6ms\tremaining: 434ms\n",
      "32:\tlearn: 0.5356242\ttotal: 85.1ms\tremaining: 431ms\n",
      "33:\tlearn: 0.5315397\ttotal: 87.7ms\tremaining: 428ms\n",
      "34:\tlearn: 0.5279847\ttotal: 90.7ms\tremaining: 427ms\n",
      "35:\tlearn: 0.5248380\ttotal: 93.5ms\tremaining: 426ms\n",
      "36:\tlearn: 0.5223885\ttotal: 96.2ms\tremaining: 424ms\n",
      "37:\tlearn: 0.5198269\ttotal: 99ms\tremaining: 422ms\n",
      "38:\tlearn: 0.5167431\ttotal: 102ms\tremaining: 419ms\n",
      "39:\tlearn: 0.5138833\ttotal: 104ms\tremaining: 418ms\n",
      "40:\tlearn: 0.5101494\ttotal: 107ms\tremaining: 416ms\n",
      "41:\tlearn: 0.5066102\ttotal: 110ms\tremaining: 414ms\n",
      "42:\tlearn: 0.5033714\ttotal: 113ms\tremaining: 412ms\n",
      "43:\tlearn: 0.5005898\ttotal: 116ms\tremaining: 410ms\n",
      "44:\tlearn: 0.4980703\ttotal: 118ms\tremaining: 407ms\n",
      "45:\tlearn: 0.4959251\ttotal: 121ms\tremaining: 404ms\n",
      "46:\tlearn: 0.4933987\ttotal: 123ms\tremaining: 401ms\n",
      "47:\tlearn: 0.4906194\ttotal: 126ms\tremaining: 398ms\n",
      "48:\tlearn: 0.4878359\ttotal: 128ms\tremaining: 396ms\n",
      "49:\tlearn: 0.4850755\ttotal: 131ms\tremaining: 393ms\n",
      "50:\tlearn: 0.4825927\ttotal: 134ms\tremaining: 390ms\n",
      "51:\tlearn: 0.4798298\ttotal: 136ms\tremaining: 387ms\n",
      "52:\tlearn: 0.4776108\ttotal: 139ms\tremaining: 384ms\n",
      "53:\tlearn: 0.4754405\ttotal: 141ms\tremaining: 382ms\n",
      "54:\tlearn: 0.4733501\ttotal: 144ms\tremaining: 379ms\n",
      "55:\tlearn: 0.4706076\ttotal: 146ms\tremaining: 377ms\n",
      "56:\tlearn: 0.4677355\ttotal: 149ms\tremaining: 374ms\n",
      "57:\tlearn: 0.4656740\ttotal: 152ms\tremaining: 372ms\n",
      "58:\tlearn: 0.4637413\ttotal: 155ms\tremaining: 369ms\n",
      "59:\tlearn: 0.4615248\ttotal: 157ms\tremaining: 367ms\n",
      "60:\tlearn: 0.4599759\ttotal: 160ms\tremaining: 364ms\n",
      "61:\tlearn: 0.4583985\ttotal: 161ms\tremaining: 359ms\n",
      "62:\tlearn: 0.4567064\ttotal: 164ms\tremaining: 356ms\n",
      "63:\tlearn: 0.4540942\ttotal: 166ms\tremaining: 354ms\n",
      "64:\tlearn: 0.4529822\ttotal: 167ms\tremaining: 348ms\n",
      "65:\tlearn: 0.4512090\ttotal: 170ms\tremaining: 345ms\n",
      "66:\tlearn: 0.4486739\ttotal: 173ms\tremaining: 343ms\n",
      "67:\tlearn: 0.4467865\ttotal: 176ms\tremaining: 341ms\n",
      "68:\tlearn: 0.4449614\ttotal: 178ms\tremaining: 338ms\n",
      "69:\tlearn: 0.4426120\ttotal: 181ms\tremaining: 335ms\n",
      "70:\tlearn: 0.4401612\ttotal: 183ms\tremaining: 333ms\n",
      "71:\tlearn: 0.4380696\ttotal: 185ms\tremaining: 330ms\n",
      "72:\tlearn: 0.4367153\ttotal: 188ms\tremaining: 327ms\n",
      "73:\tlearn: 0.4353223\ttotal: 190ms\tremaining: 324ms\n",
      "74:\tlearn: 0.4339943\ttotal: 193ms\tremaining: 321ms\n",
      "75:\tlearn: 0.4315641\ttotal: 195ms\tremaining: 319ms\n",
      "76:\tlearn: 0.4298680\ttotal: 198ms\tremaining: 316ms\n",
      "77:\tlearn: 0.4285275\ttotal: 200ms\tremaining: 313ms\n",
      "78:\tlearn: 0.4265791\ttotal: 203ms\tremaining: 310ms\n",
      "79:\tlearn: 0.4244024\ttotal: 205ms\tremaining: 308ms\n",
      "80:\tlearn: 0.4228361\ttotal: 208ms\tremaining: 306ms\n",
      "81:\tlearn: 0.4214212\ttotal: 211ms\tremaining: 304ms\n",
      "82:\tlearn: 0.4200602\ttotal: 214ms\tremaining: 301ms\n",
      "83:\tlearn: 0.4184320\ttotal: 216ms\tremaining: 299ms\n",
      "84:\tlearn: 0.4167986\ttotal: 219ms\tremaining: 296ms\n",
      "85:\tlearn: 0.4156404\ttotal: 221ms\tremaining: 293ms\n",
      "86:\tlearn: 0.4140656\ttotal: 224ms\tremaining: 290ms\n",
      "87:\tlearn: 0.4124223\ttotal: 226ms\tremaining: 288ms\n",
      "88:\tlearn: 0.4107329\ttotal: 228ms\tremaining: 285ms\n",
      "89:\tlearn: 0.4090922\ttotal: 231ms\tremaining: 282ms\n",
      "90:\tlearn: 0.4075416\ttotal: 234ms\tremaining: 280ms\n",
      "91:\tlearn: 0.4062399\ttotal: 236ms\tremaining: 278ms\n",
      "92:\tlearn: 0.4044658\ttotal: 239ms\tremaining: 275ms\n",
      "93:\tlearn: 0.4030179\ttotal: 241ms\tremaining: 272ms\n",
      "94:\tlearn: 0.4012034\ttotal: 244ms\tremaining: 270ms\n",
      "95:\tlearn: 0.3994677\ttotal: 246ms\tremaining: 267ms\n",
      "96:\tlearn: 0.3983236\ttotal: 249ms\tremaining: 264ms\n",
      "97:\tlearn: 0.3969830\ttotal: 251ms\tremaining: 261ms\n",
      "98:\tlearn: 0.3955620\ttotal: 254ms\tremaining: 259ms\n",
      "99:\tlearn: 0.3946122\ttotal: 256ms\tremaining: 256ms\n",
      "100:\tlearn: 0.3932345\ttotal: 259ms\tremaining: 254ms\n",
      "101:\tlearn: 0.3920746\ttotal: 262ms\tremaining: 251ms\n",
      "102:\tlearn: 0.3911707\ttotal: 264ms\tremaining: 249ms\n",
      "103:\tlearn: 0.3895752\ttotal: 267ms\tremaining: 247ms\n",
      "104:\tlearn: 0.3880976\ttotal: 270ms\tremaining: 244ms\n",
      "105:\tlearn: 0.3867508\ttotal: 273ms\tremaining: 242ms\n",
      "106:\tlearn: 0.3855281\ttotal: 276ms\tremaining: 240ms\n",
      "107:\tlearn: 0.3841015\ttotal: 278ms\tremaining: 237ms\n",
      "108:\tlearn: 0.3829276\ttotal: 281ms\tremaining: 234ms\n",
      "109:\tlearn: 0.3818795\ttotal: 283ms\tremaining: 232ms\n",
      "110:\tlearn: 0.3809667\ttotal: 286ms\tremaining: 230ms\n",
      "111:\tlearn: 0.3790017\ttotal: 289ms\tremaining: 227ms\n",
      "112:\tlearn: 0.3774333\ttotal: 292ms\tremaining: 225ms\n",
      "113:\tlearn: 0.3762372\ttotal: 295ms\tremaining: 222ms\n",
      "114:\tlearn: 0.3750418\ttotal: 297ms\tremaining: 220ms\n",
      "115:\tlearn: 0.3735203\ttotal: 300ms\tremaining: 217ms\n",
      "116:\tlearn: 0.3727671\ttotal: 302ms\tremaining: 214ms\n",
      "117:\tlearn: 0.3713847\ttotal: 305ms\tremaining: 212ms\n",
      "118:\tlearn: 0.3705588\ttotal: 307ms\tremaining: 209ms\n",
      "119:\tlearn: 0.3694386\ttotal: 309ms\tremaining: 206ms\n",
      "120:\tlearn: 0.3687438\ttotal: 312ms\tremaining: 204ms\n",
      "121:\tlearn: 0.3679429\ttotal: 314ms\tremaining: 201ms\n",
      "122:\tlearn: 0.3666192\ttotal: 317ms\tremaining: 198ms\n",
      "123:\tlearn: 0.3654787\ttotal: 319ms\tremaining: 196ms\n",
      "124:\tlearn: 0.3643185\ttotal: 322ms\tremaining: 193ms\n",
      "125:\tlearn: 0.3636195\ttotal: 324ms\tremaining: 190ms\n",
      "126:\tlearn: 0.3625184\ttotal: 327ms\tremaining: 188ms\n",
      "127:\tlearn: 0.3609778\ttotal: 329ms\tremaining: 185ms\n",
      "128:\tlearn: 0.3595979\ttotal: 331ms\tremaining: 182ms\n",
      "129:\tlearn: 0.3583702\ttotal: 334ms\tremaining: 180ms\n",
      "130:\tlearn: 0.3569225\ttotal: 336ms\tremaining: 177ms\n",
      "131:\tlearn: 0.3558535\ttotal: 339ms\tremaining: 175ms\n",
      "132:\tlearn: 0.3548312\ttotal: 342ms\tremaining: 172ms\n",
      "133:\tlearn: 0.3533459\ttotal: 345ms\tremaining: 170ms\n",
      "134:\tlearn: 0.3524239\ttotal: 348ms\tremaining: 167ms\n",
      "135:\tlearn: 0.3517958\ttotal: 350ms\tremaining: 165ms\n",
      "136:\tlearn: 0.3504984\ttotal: 353ms\tremaining: 162ms\n",
      "137:\tlearn: 0.3497339\ttotal: 356ms\tremaining: 160ms\n",
      "138:\tlearn: 0.3488643\ttotal: 358ms\tremaining: 157ms\n",
      "139:\tlearn: 0.3482265\ttotal: 361ms\tremaining: 155ms\n",
      "140:\tlearn: 0.3470774\ttotal: 364ms\tremaining: 152ms\n",
      "141:\tlearn: 0.3458237\ttotal: 366ms\tremaining: 150ms\n",
      "142:\tlearn: 0.3445470\ttotal: 369ms\tremaining: 147ms\n",
      "143:\tlearn: 0.3436377\ttotal: 372ms\tremaining: 145ms\n",
      "144:\tlearn: 0.3426585\ttotal: 374ms\tremaining: 142ms\n",
      "145:\tlearn: 0.3417233\ttotal: 377ms\tremaining: 139ms\n",
      "146:\tlearn: 0.3407541\ttotal: 379ms\tremaining: 137ms\n",
      "147:\tlearn: 0.3397798\ttotal: 381ms\tremaining: 134ms\n",
      "148:\tlearn: 0.3390128\ttotal: 384ms\tremaining: 131ms\n",
      "149:\tlearn: 0.3381272\ttotal: 387ms\tremaining: 129ms\n",
      "150:\tlearn: 0.3374740\ttotal: 389ms\tremaining: 126ms\n",
      "151:\tlearn: 0.3365500\ttotal: 391ms\tremaining: 124ms\n",
      "152:\tlearn: 0.3358489\ttotal: 394ms\tremaining: 121ms\n",
      "153:\tlearn: 0.3346096\ttotal: 396ms\tremaining: 118ms\n",
      "154:\tlearn: 0.3335622\ttotal: 398ms\tremaining: 116ms\n",
      "155:\tlearn: 0.3330435\ttotal: 401ms\tremaining: 113ms\n",
      "156:\tlearn: 0.3323843\ttotal: 403ms\tremaining: 110ms\n",
      "157:\tlearn: 0.3312172\ttotal: 406ms\tremaining: 108ms\n",
      "158:\tlearn: 0.3299437\ttotal: 408ms\tremaining: 105ms\n",
      "159:\tlearn: 0.3286515\ttotal: 410ms\tremaining: 103ms\n",
      "160:\tlearn: 0.3275885\ttotal: 413ms\tremaining: 100ms\n",
      "161:\tlearn: 0.3266739\ttotal: 416ms\tremaining: 97.5ms\n",
      "162:\tlearn: 0.3258986\ttotal: 418ms\tremaining: 94.9ms\n",
      "163:\tlearn: 0.3249133\ttotal: 421ms\tremaining: 92.3ms\n",
      "164:\tlearn: 0.3241480\ttotal: 423ms\tremaining: 89.8ms\n",
      "165:\tlearn: 0.3237404\ttotal: 426ms\tremaining: 87.2ms\n",
      "166:\tlearn: 0.3228217\ttotal: 428ms\tremaining: 84.7ms\n",
      "167:\tlearn: 0.3218088\ttotal: 431ms\tremaining: 82.2ms\n",
      "168:\tlearn: 0.3209179\ttotal: 434ms\tremaining: 79.6ms\n",
      "169:\tlearn: 0.3200101\ttotal: 437ms\tremaining: 77.1ms\n",
      "170:\tlearn: 0.3188984\ttotal: 439ms\tremaining: 74.5ms\n",
      "171:\tlearn: 0.3178642\ttotal: 441ms\tremaining: 71.9ms\n",
      "172:\tlearn: 0.3172455\ttotal: 444ms\tremaining: 69.3ms\n",
      "173:\tlearn: 0.3166261\ttotal: 446ms\tremaining: 66.7ms\n",
      "174:\tlearn: 0.3157320\ttotal: 449ms\tremaining: 64.1ms\n",
      "175:\tlearn: 0.3149761\ttotal: 451ms\tremaining: 61.5ms\n",
      "176:\tlearn: 0.3142430\ttotal: 454ms\tremaining: 59ms\n",
      "177:\tlearn: 0.3138263\ttotal: 457ms\tremaining: 56.4ms\n",
      "178:\tlearn: 0.3133229\ttotal: 459ms\tremaining: 53.9ms\n",
      "179:\tlearn: 0.3124656\ttotal: 462ms\tremaining: 51.3ms\n",
      "180:\tlearn: 0.3114844\ttotal: 465ms\tremaining: 48.8ms\n",
      "181:\tlearn: 0.3109799\ttotal: 467ms\tremaining: 46.2ms\n",
      "182:\tlearn: 0.3105137\ttotal: 470ms\tremaining: 43.7ms\n",
      "183:\tlearn: 0.3094123\ttotal: 473ms\tremaining: 41.1ms\n",
      "184:\tlearn: 0.3087045\ttotal: 476ms\tremaining: 38.6ms\n",
      "185:\tlearn: 0.3079423\ttotal: 479ms\tremaining: 36ms\n",
      "186:\tlearn: 0.3071831\ttotal: 481ms\tremaining: 33.5ms\n",
      "187:\tlearn: 0.3061123\ttotal: 484ms\tremaining: 30.9ms\n",
      "188:\tlearn: 0.3054302\ttotal: 487ms\tremaining: 28.3ms\n",
      "189:\tlearn: 0.3048047\ttotal: 489ms\tremaining: 25.7ms\n",
      "190:\tlearn: 0.3042241\ttotal: 492ms\tremaining: 23.2ms\n",
      "191:\tlearn: 0.3036602\ttotal: 495ms\tremaining: 20.6ms\n",
      "192:\tlearn: 0.3028507\ttotal: 498ms\tremaining: 18.1ms\n",
      "193:\tlearn: 0.3019733\ttotal: 500ms\tremaining: 15.5ms\n",
      "194:\tlearn: 0.3009586\ttotal: 503ms\tremaining: 12.9ms\n",
      "195:\tlearn: 0.3001835\ttotal: 506ms\tremaining: 10.3ms\n",
      "196:\tlearn: 0.2999266\ttotal: 508ms\tremaining: 7.73ms\n",
      "197:\tlearn: 0.2993811\ttotal: 510ms\tremaining: 5.15ms\n",
      "198:\tlearn: 0.2986293\ttotal: 513ms\tremaining: 2.58ms\n",
      "199:\tlearn: 0.2980044\ttotal: 516ms\tremaining: 0us\n"
     ]
    }
   ],
   "source": [
    "catbTuned = CatBoostClassifier(depth=8,iterations=200,learning_rate=0.01).fit(x_train,y_train)"
   ],
   "metadata": {
    "collapsed": false,
    "ExecuteTime": {
     "end_time": "2024-03-02T08:27:58.600351Z",
     "start_time": "2024-03-02T08:27:58.015101Z"
    }
   },
   "id": "e598bb0fede2d86d",
   "execution_count": 369
  },
  {
   "cell_type": "code",
   "outputs": [],
   "source": [
    "yTahmin = catbTuned.predict(x_test)"
   ],
   "metadata": {
    "collapsed": false,
    "ExecuteTime": {
     "end_time": "2024-03-02T08:28:02.262564Z",
     "start_time": "2024-03-02T08:28:02.249036Z"
    }
   },
   "id": "7eb3f52da86a10f9",
   "execution_count": 370
  },
  {
   "cell_type": "code",
   "outputs": [
    {
     "data": {
      "text/plain": "0.7575757575757576"
     },
     "execution_count": 371,
     "metadata": {},
     "output_type": "execute_result"
    }
   ],
   "source": [
    "accuracy_score(y_test,yTahmin)"
   ],
   "metadata": {
    "collapsed": false,
    "ExecuteTime": {
     "end_time": "2024-03-02T08:28:03.181144Z",
     "start_time": "2024-03-02T08:28:03.160625Z"
    }
   },
   "id": "3609be77c1af07c9",
   "execution_count": 371
  },
  {
   "cell_type": "markdown",
   "source": [
    "10.4 Değişken Önem Sırası"
   ],
   "metadata": {
    "collapsed": false
   },
   "id": "d8efa7d9302665a7"
  },
  {
   "cell_type": "code",
   "outputs": [
    {
     "data": {
      "text/plain": "<Figure size 1000x600 with 1 Axes>",
      "image/png": "[encoded data removed]"
     },
     "metadata": {},
     "output_type": "display_data"
    }
   ],
   "source": [
    "lgbmTuned\n",
    "feature_importances = pd.Series(lgbmTuned.feature_importances_)\n",
    "feature_names = X.columns\n",
    "plt.figure(figsize=(10, 6))\n",
    "plt.barh(range(len(feature_importances)), feature_importances, align='center')\n",
    "plt.yticks(range(len(feature_importances)), feature_names)\n",
    "plt.xlabel('Feature Importance')\n",
    "plt.title('Random Forest Feature Importances')\n",
    "plt.show()"
   ],
   "metadata": {
    "collapsed": false,
    "ExecuteTime": {
     "end_time": "2024-03-02T08:28:05.690194Z",
     "start_time": "2024-03-02T08:28:05.521582Z"
    }
   },
   "id": "5015c897bd08b8d5",
   "execution_count": 372
  },
  {
   "cell_type": "markdown",
   "source": [
    "11-Tüm Modellerin Karşılaştırılması"
   ],
   "metadata": {
    "collapsed": false
   },
   "id": "32685fe38e7fe8f8"
  },
  {
   "cell_type": "code",
   "outputs": [
    {
     "name": "stderr",
     "output_type": "stream",
     "text": [
      "C:\\Users\\arda_\\anaconda3\\lib\\site-packages\\sklearn\\base.py:465: UserWarning: X does not have valid feature names, but KNeighborsClassifier was fitted with feature names\n",
      "  warnings.warn(\n",
      "C:\\Users\\arda_\\anaconda3\\lib\\site-packages\\sklearn\\base.py:465: UserWarning: X does not have valid feature names, but LogisticRegression was fitted with feature names\n",
      "  warnings.warn(\n",
      "C:\\Users\\arda_\\anaconda3\\lib\\site-packages\\sklearn\\base.py:465: UserWarning: X does not have valid feature names, but SVC was fitted with feature names\n",
      "  warnings.warn(\n"
     ]
    }
   ],
   "source": [
    "from sklearn.metrics import accuracy_score\n",
    "import pandas as pd\n",
    "\n",
    "modeller = [knnTuned, logModel, svmTuned, mlpcTuned, cartTuned, rfTuned, gbmTuned, catbTuned, lgbmTuned, xgbTuned]\n",
    "sonuclar_list = []\n",
    "\n",
    "for model in modeller:\n",
    "    isimler = model.__class__.__name__\n",
    "    \n",
    "    try:\n",
    "        # Assuming x_test is a DataFrame, you can get the feature names\n",
    "        feature_names = x_test.columns.tolist()\n",
    "        \n",
    "        # Use feature names when making predictions\n",
    "        y_pred = model.predict(x_test)\n",
    "    except AttributeError:\n",
    "        # If AttributeError occurs, proceed without feature names\n",
    "        y_pred = model.predict(x_test)\n",
    "    \n",
    "    dogruluk = accuracy_score(y_test, y_pred)\n",
    "    \n",
    "    sonuc = {\"Modeller\": isimler, \"Accuracy\": dogruluk * 100}\n",
    "    sonuclar_list.append(sonuc)\n",
    "\n",
    "sonuclar = pd.DataFrame(sonuclar_list)\n"
   ],
   "metadata": {
    "collapsed": false,
    "ExecuteTime": {
     "end_time": "2024-03-02T08:39:27.099556Z",
     "start_time": "2024-03-02T08:39:27.051749Z"
    }
   },
   "id": "a9645efead6a873e",
   "execution_count": 387
  },
  {
   "cell_type": "markdown",
   "source": [],
   "metadata": {
    "collapsed": false
   },
   "id": "dce57164b8abd709"
  },
  {
   "cell_type": "code",
   "outputs": [
    {
     "data": {
      "text/plain": "Text(0.5, 1.0, 'Modellerin Doğruluk Oranları:')"
     },
     "execution_count": 390,
     "metadata": {},
     "output_type": "execute_result"
    },
    {
     "data": {
      "text/plain": "<Figure size 640x480 with 1 Axes>",
      "image/png": "[encoded data removed]"
     },
     "metadata": {},
     "output_type": "display_data"
    }
   ],
   "source": [
    "\n",
    "sns.barplot(x= \"Accuracy\", y= \"Modeller\",data= sonuclar,color =\"r\")\n",
    "plt.xlabel(\"Accuracy %\" )\n",
    "plt.title(\"Modellerin Doğruluk Oranları:\")"
   ],
   "metadata": {
    "collapsed": false,
    "ExecuteTime": {
     "end_time": "2024-03-02T08:43:38.553261Z",
     "start_time": "2024-03-02T08:43:38.239406Z"
    }
   },
   "id": "bbb4043286c451ac",
   "execution_count": 390
  },
  {
   "cell_type": "code",
   "outputs": [
    {
     "data": {
      "text/plain": "                     Modeller   Accuracy\n0        KNeighborsClassifier  65.367965\n1          LogisticRegression  65.367965\n2                         SVC  65.367965\n3               MLPClassifier  74.891775\n4      DecisionTreeClassifier  76.623377\n5      RandomForestClassifier  74.458874\n6  GradientBoostingClassifier  76.190476\n7          CatBoostClassifier  75.757576\n8              LGBMClassifier  75.757576\n9               XGBClassifier  65.367965",
      "text/html": "<div>\n<style scoped>\n    .dataframe tbody tr th:only-of-type {\n        vertical-align: middle;\n    }\n\n    .dataframe tbody tr th {\n        vertical-align: top;\n    }\n\n    .dataframe thead th {\n        text-align: right;\n    }\n</style>\n<table border=\"1\" class=\"dataframe\">\n  <thead>\n    <tr style=\"text-align: right;\">\n      <th></th>\n      <th>Modeller</th>\n      <th>Accuracy</th>\n    </tr>\n  </thead>\n  <tbody>\n    <tr>\n      <th>0</th>\n      <td>KNeighborsClassifier</td>\n      <td>65.367965</td>\n    </tr>\n    <tr>\n      <th>1</th>\n      <td>LogisticRegression</td>\n      <td>65.367965</td>\n    </tr>\n    <tr>\n      <th>2</th>\n      <td>SVC</td>\n      <td>65.367965</td>\n    </tr>\n    <tr>\n      <th>3</th>\n      <td>MLPClassifier</td>\n      <td>74.891775</td>\n    </tr>\n    <tr>\n      <th>4</th>\n      <td>DecisionTreeClassifier</td>\n      <td>76.623377</td>\n    </tr>\n    <tr>\n      <th>5</th>\n      <td>RandomForestClassifier</td>\n      <td>74.458874</td>\n    </tr>\n    <tr>\n      <th>6</th>\n      <td>GradientBoostingClassifier</td>\n      <td>76.190476</td>\n    </tr>\n    <tr>\n      <th>7</th>\n      <td>CatBoostClassifier</td>\n      <td>75.757576</td>\n    </tr>\n    <tr>\n      <th>8</th>\n      <td>LGBMClassifier</td>\n      <td>75.757576</td>\n    </tr>\n    <tr>\n      <th>9</th>\n      <td>XGBClassifier</td>\n      <td>65.367965</td>\n    </tr>\n  </tbody>\n</table>\n</div>"
     },
     "execution_count": 391,
     "metadata": {},
     "output_type": "execute_result"
    }
   ],
   "source": [
    "sonuclar"
   ],
   "metadata": {
    "collapsed": false,
    "ExecuteTime": {
     "end_time": "2024-03-02T08:44:35.772701Z",
     "start_time": "2024-03-02T08:44:35.753530Z"
    }
   },
   "id": "1ad17e49c2d7ae8c",
   "execution_count": 391
  },
  {
   "cell_type": "code",
   "outputs": [],
   "source": [],
   "metadata": {
    "collapsed": false
   },
   "id": "adb265c22108fb96"
  }
 ],
 "metadata": {
  "kernelspec": {
   "display_name": "Python 3",
   "language": "python",
   "name": "python3"
  },
  "language_info": {
   "codemirror_mode": {
    "name": "ipython",
    "version": 2
   },
   "file_extension": ".py",
   "mimetype": "text/x-python",
   "name": "python",
   "nbconvert_exporter": "python",
   "pygments_lexer": "ipython2",
   "version": "2.7.6"
  }
 },
 "nbformat": 4,
 "nbformat_minor": 5
}
