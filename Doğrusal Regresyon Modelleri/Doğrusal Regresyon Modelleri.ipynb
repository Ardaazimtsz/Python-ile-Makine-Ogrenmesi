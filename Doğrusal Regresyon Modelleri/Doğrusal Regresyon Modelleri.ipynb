{
 "cells": [
  {
   "cell_type": "markdown",
   "source": [
    "1-Basit Doğrusal Regresyon Model"
   ],
   "metadata": {
    "collapsed": false
   },
   "id": "75788fb868a4c01"
  },
  {
   "cell_type": "code",
   "execution_count": 240,
   "id": "initial_id",
   "metadata": {
    "collapsed": true,
    "ExecuteTime": {
     "end_time": "2024-02-25T15:27:35.317941200Z",
     "start_time": "2024-02-25T15:27:32.754492600Z"
    }
   },
   "outputs": [],
   "source": [
    "# Temel amaç, bağımlı ve bağımsız değişken arasındaki ilişkiyi ifade eden doğrusal fonksiyonu bulmaktır.\n",
    "# Tahmin Modeli = y = b_0 +b_1*x_i"
   ]
  },
  {
   "cell_type": "markdown",
   "source": [
    "1.1-Model"
   ],
   "metadata": {
    "collapsed": false
   },
   "id": "ccd69b3b648f954d"
  },
  {
   "cell_type": "code",
   "outputs": [],
   "source": [
    "import numpy as np\n",
    "import pandas as pd"
   ],
   "metadata": {
    "collapsed": false,
    "ExecuteTime": {
     "end_time": "2024-02-25T15:27:35.425883100Z",
     "start_time": "2024-02-25T15:27:35.278286600Z"
    }
   },
   "id": "1ccde180f3bc07a1",
   "execution_count": 241
  },
  {
   "cell_type": "code",
   "outputs": [],
   "source": [
    "df = pd.read_csv(\"Advertising.csv\")"
   ],
   "metadata": {
    "collapsed": false,
    "ExecuteTime": {
     "end_time": "2024-02-25T15:27:35.557990Z",
     "start_time": "2024-02-25T15:27:35.426879900Z"
    }
   },
   "id": "a612f62ad2f8933",
   "execution_count": 242
  },
  {
   "cell_type": "code",
   "outputs": [
    {
     "data": {
      "text/plain": "   Unnamed: 0     TV  radio  newspaper  sales\n0           1  230.1   37.8       69.2   22.1\n1           2   44.5   39.3       45.1   10.4\n2           3   17.2   45.9       69.3    9.3\n3           4  151.5   41.3       58.5   18.5\n4           5  180.8   10.8       58.4   12.9",
      "text/html": "<div>\n<style scoped>\n    .dataframe tbody tr th:only-of-type {\n        vertical-align: middle;\n    }\n\n    .dataframe tbody tr th {\n        vertical-align: top;\n    }\n\n    .dataframe thead th {\n        text-align: right;\n    }\n</style>\n<table border=\"1\" class=\"dataframe\">\n  <thead>\n    <tr style=\"text-align: right;\">\n      <th></th>\n      <th>Unnamed: 0</th>\n      <th>TV</th>\n      <th>radio</th>\n      <th>newspaper</th>\n      <th>sales</th>\n    </tr>\n  </thead>\n  <tbody>\n    <tr>\n      <th>0</th>\n      <td>1</td>\n      <td>230.1</td>\n      <td>37.8</td>\n      <td>69.2</td>\n      <td>22.1</td>\n    </tr>\n    <tr>\n      <th>1</th>\n      <td>2</td>\n      <td>44.5</td>\n      <td>39.3</td>\n      <td>45.1</td>\n      <td>10.4</td>\n    </tr>\n    <tr>\n      <th>2</th>\n      <td>3</td>\n      <td>17.2</td>\n      <td>45.9</td>\n      <td>69.3</td>\n      <td>9.3</td>\n    </tr>\n    <tr>\n      <th>3</th>\n      <td>4</td>\n      <td>151.5</td>\n      <td>41.3</td>\n      <td>58.5</td>\n      <td>18.5</td>\n    </tr>\n    <tr>\n      <th>4</th>\n      <td>5</td>\n      <td>180.8</td>\n      <td>10.8</td>\n      <td>58.4</td>\n      <td>12.9</td>\n    </tr>\n  </tbody>\n</table>\n</div>"
     },
     "execution_count": 243,
     "metadata": {},
     "output_type": "execute_result"
    }
   ],
   "source": [
    "df.head()"
   ],
   "metadata": {
    "collapsed": false,
    "ExecuteTime": {
     "end_time": "2024-02-25T15:27:35.602631500Z",
     "start_time": "2024-02-25T15:27:35.534559100Z"
    }
   },
   "id": "d11f0e81d13bd216",
   "execution_count": 243
  },
  {
   "cell_type": "code",
   "outputs": [],
   "source": [
    "df = df.iloc[:,1:len(df)] #unnamed kısmını listeden çıkardık"
   ],
   "metadata": {
    "collapsed": false,
    "ExecuteTime": {
     "end_time": "2024-02-25T15:27:35.741657700Z",
     "start_time": "2024-02-25T15:27:35.589494900Z"
    }
   },
   "id": "ccb1b72c0a96a98",
   "execution_count": 244
  },
  {
   "cell_type": "code",
   "outputs": [
    {
     "data": {
      "text/plain": "        TV  radio  newspaper  sales\n0    230.1   37.8       69.2   22.1\n1     44.5   39.3       45.1   10.4\n2     17.2   45.9       69.3    9.3\n3    151.5   41.3       58.5   18.5\n4    180.8   10.8       58.4   12.9\n..     ...    ...        ...    ...\n195   38.2    3.7       13.8    7.6\n196   94.2    4.9        8.1    9.7\n197  177.0    9.3        6.4   12.8\n198  283.6   42.0       66.2   25.5\n199  232.1    8.6        8.7   13.4\n\n[200 rows x 4 columns]",
      "text/html": "<div>\n<style scoped>\n    .dataframe tbody tr th:only-of-type {\n        vertical-align: middle;\n    }\n\n    .dataframe tbody tr th {\n        vertical-align: top;\n    }\n\n    .dataframe thead th {\n        text-align: right;\n    }\n</style>\n<table border=\"1\" class=\"dataframe\">\n  <thead>\n    <tr style=\"text-align: right;\">\n      <th></th>\n      <th>TV</th>\n      <th>radio</th>\n      <th>newspaper</th>\n      <th>sales</th>\n    </tr>\n  </thead>\n  <tbody>\n    <tr>\n      <th>0</th>\n      <td>230.1</td>\n      <td>37.8</td>\n      <td>69.2</td>\n      <td>22.1</td>\n    </tr>\n    <tr>\n      <th>1</th>\n      <td>44.5</td>\n      <td>39.3</td>\n      <td>45.1</td>\n      <td>10.4</td>\n    </tr>\n    <tr>\n      <th>2</th>\n      <td>17.2</td>\n      <td>45.9</td>\n      <td>69.3</td>\n      <td>9.3</td>\n    </tr>\n    <tr>\n      <th>3</th>\n      <td>151.5</td>\n      <td>41.3</td>\n      <td>58.5</td>\n      <td>18.5</td>\n    </tr>\n    <tr>\n      <th>4</th>\n      <td>180.8</td>\n      <td>10.8</td>\n      <td>58.4</td>\n      <td>12.9</td>\n    </tr>\n    <tr>\n      <th>...</th>\n      <td>...</td>\n      <td>...</td>\n      <td>...</td>\n      <td>...</td>\n    </tr>\n    <tr>\n      <th>195</th>\n      <td>38.2</td>\n      <td>3.7</td>\n      <td>13.8</td>\n      <td>7.6</td>\n    </tr>\n    <tr>\n      <th>196</th>\n      <td>94.2</td>\n      <td>4.9</td>\n      <td>8.1</td>\n      <td>9.7</td>\n    </tr>\n    <tr>\n      <th>197</th>\n      <td>177.0</td>\n      <td>9.3</td>\n      <td>6.4</td>\n      <td>12.8</td>\n    </tr>\n    <tr>\n      <th>198</th>\n      <td>283.6</td>\n      <td>42.0</td>\n      <td>66.2</td>\n      <td>25.5</td>\n    </tr>\n    <tr>\n      <th>199</th>\n      <td>232.1</td>\n      <td>8.6</td>\n      <td>8.7</td>\n      <td>13.4</td>\n    </tr>\n  </tbody>\n</table>\n<p>200 rows × 4 columns</p>\n</div>"
     },
     "execution_count": 245,
     "metadata": {},
     "output_type": "execute_result"
    }
   ],
   "source": [
    "df"
   ],
   "metadata": {
    "collapsed": false,
    "ExecuteTime": {
     "end_time": "2024-02-25T15:27:35.893453900Z",
     "start_time": "2024-02-25T15:27:35.736573300Z"
    }
   },
   "id": "9a24c91e0b41be12",
   "execution_count": 245
  },
  {
   "cell_type": "code",
   "outputs": [
    {
     "name": "stdout",
     "output_type": "stream",
     "text": [
      "<class 'pandas.core.frame.DataFrame'>\n",
      "RangeIndex: 200 entries, 0 to 199\n",
      "Data columns (total 4 columns):\n",
      " #   Column     Non-Null Count  Dtype  \n",
      "---  ------     --------------  -----  \n",
      " 0   TV         200 non-null    float64\n",
      " 1   radio      200 non-null    float64\n",
      " 2   newspaper  200 non-null    float64\n",
      " 3   sales      200 non-null    float64\n",
      "dtypes: float64(4)\n",
      "memory usage: 6.4 KB\n"
     ]
    }
   ],
   "source": [
    "df.info()"
   ],
   "metadata": {
    "collapsed": false,
    "ExecuteTime": {
     "end_time": "2024-02-25T15:27:36.046314300Z",
     "start_time": "2024-02-25T15:27:35.836818600Z"
    }
   },
   "id": "fea6daafe5fdd9e4",
   "execution_count": 246
  },
  {
   "cell_type": "code",
   "outputs": [
    {
     "data": {
      "text/plain": "<Figure size 600x600 with 3 Axes>",
      "image/png": "[encoded data removed]"
     },
     "metadata": {},
     "output_type": "display_data"
    }
   ],
   "source": [
    "import seaborn as sns\n",
    "sns.jointplot(x=\"TV\", y=\"sales\", data=df, kind=\"reg\");"
   ],
   "metadata": {
    "collapsed": false,
    "ExecuteTime": {
     "end_time": "2024-02-25T15:27:36.918993900Z",
     "start_time": "2024-02-25T15:27:36.038814900Z"
    }
   },
   "id": "a891e64fe224e74e",
   "execution_count": 247
  },
  {
   "cell_type": "code",
   "outputs": [],
   "source": [
    "from sklearn.linear_model import LinearRegression"
   ],
   "metadata": {
    "collapsed": false,
    "ExecuteTime": {
     "end_time": "2024-02-25T15:27:36.939577700Z",
     "start_time": "2024-02-25T15:27:36.880130400Z"
    }
   },
   "id": "90dc21e3c82f2870",
   "execution_count": 248
  },
  {
   "cell_type": "code",
   "outputs": [],
   "source": [
    "x = df[[\"TV\"]]"
   ],
   "metadata": {
    "collapsed": false,
    "ExecuteTime": {
     "end_time": "2024-02-25T15:27:37.065022400Z",
     "start_time": "2024-02-25T15:27:36.897140800Z"
    }
   },
   "id": "459d51524921a3c6",
   "execution_count": 249
  },
  {
   "cell_type": "code",
   "outputs": [
    {
     "data": {
      "text/plain": "      TV\n0  230.1\n1   44.5\n2   17.2\n3  151.5\n4  180.8",
      "text/html": "<div>\n<style scoped>\n    .dataframe tbody tr th:only-of-type {\n        vertical-align: middle;\n    }\n\n    .dataframe tbody tr th {\n        vertical-align: top;\n    }\n\n    .dataframe thead th {\n        text-align: right;\n    }\n</style>\n<table border=\"1\" class=\"dataframe\">\n  <thead>\n    <tr style=\"text-align: right;\">\n      <th></th>\n      <th>TV</th>\n    </tr>\n  </thead>\n  <tbody>\n    <tr>\n      <th>0</th>\n      <td>230.1</td>\n    </tr>\n    <tr>\n      <th>1</th>\n      <td>44.5</td>\n    </tr>\n    <tr>\n      <th>2</th>\n      <td>17.2</td>\n    </tr>\n    <tr>\n      <th>3</th>\n      <td>151.5</td>\n    </tr>\n    <tr>\n      <th>4</th>\n      <td>180.8</td>\n    </tr>\n  </tbody>\n</table>\n</div>"
     },
     "execution_count": 250,
     "metadata": {},
     "output_type": "execute_result"
    }
   ],
   "source": [
    "x.head()"
   ],
   "metadata": {
    "collapsed": false,
    "ExecuteTime": {
     "end_time": "2024-02-25T15:27:37.149614700Z",
     "start_time": "2024-02-25T15:27:36.916493900Z"
    }
   },
   "id": "4ec267483071f4a8",
   "execution_count": 250
  },
  {
   "cell_type": "code",
   "outputs": [],
   "source": [
    "y = df[[\"sales\"]]"
   ],
   "metadata": {
    "collapsed": false,
    "ExecuteTime": {
     "end_time": "2024-02-25T15:27:37.172175300Z",
     "start_time": "2024-02-25T15:27:36.930506200Z"
    }
   },
   "id": "8e979542066c2e80",
   "execution_count": 251
  },
  {
   "cell_type": "code",
   "outputs": [
    {
     "data": {
      "text/plain": "   sales\n0   22.1\n1   10.4\n2    9.3\n3   18.5\n4   12.9",
      "text/html": "<div>\n<style scoped>\n    .dataframe tbody tr th:only-of-type {\n        vertical-align: middle;\n    }\n\n    .dataframe tbody tr th {\n        vertical-align: top;\n    }\n\n    .dataframe thead th {\n        text-align: right;\n    }\n</style>\n<table border=\"1\" class=\"dataframe\">\n  <thead>\n    <tr style=\"text-align: right;\">\n      <th></th>\n      <th>sales</th>\n    </tr>\n  </thead>\n  <tbody>\n    <tr>\n      <th>0</th>\n      <td>22.1</td>\n    </tr>\n    <tr>\n      <th>1</th>\n      <td>10.4</td>\n    </tr>\n    <tr>\n      <th>2</th>\n      <td>9.3</td>\n    </tr>\n    <tr>\n      <th>3</th>\n      <td>18.5</td>\n    </tr>\n    <tr>\n      <th>4</th>\n      <td>12.9</td>\n    </tr>\n  </tbody>\n</table>\n</div>"
     },
     "execution_count": 252,
     "metadata": {},
     "output_type": "execute_result"
    }
   ],
   "source": [
    "y.head()"
   ],
   "metadata": {
    "collapsed": false,
    "ExecuteTime": {
     "end_time": "2024-02-25T15:27:37.198935300Z",
     "start_time": "2024-02-25T15:27:36.943566700Z"
    }
   },
   "id": "907b87b71248f0da",
   "execution_count": 252
  },
  {
   "cell_type": "code",
   "outputs": [],
   "source": [
    "reg = LinearRegression()"
   ],
   "metadata": {
    "collapsed": false,
    "ExecuteTime": {
     "end_time": "2024-02-25T15:27:37.216007200Z",
     "start_time": "2024-02-25T15:27:36.958028700Z"
    }
   },
   "id": "e247663c4390dc32",
   "execution_count": 253
  },
  {
   "cell_type": "code",
   "outputs": [],
   "source": [
    "model = reg.fit(x, y)"
   ],
   "metadata": {
    "collapsed": false,
    "ExecuteTime": {
     "end_time": "2024-02-25T15:27:37.235548600Z",
     "start_time": "2024-02-25T15:27:36.974075200Z"
    }
   },
   "id": "a42a2c283a2e3274",
   "execution_count": 254
  },
  {
   "cell_type": "code",
   "outputs": [
    {
     "data": {
      "text/plain": "LinearRegression()",
      "text/html": "<style>#sk-container-id-11 {color: black;}#sk-container-id-11 pre{padding: 0;}#sk-container-id-11 div.sk-toggleable {background-color: white;}#sk-container-id-11 label.sk-toggleable__label {cursor: pointer;display: block;width: 100%;margin-bottom: 0;padding: 0.3em;box-sizing: border-box;text-align: center;}#sk-container-id-11 label.sk-toggleable__label-arrow:before {content: \"▸\";float: left;margin-right: 0.25em;color: #696969;}#sk-container-id-11 label.sk-toggleable__label-arrow:hover:before {color: black;}#sk-container-id-11 div.sk-estimator:hover label.sk-toggleable__label-arrow:before {color: black;}#sk-container-id-11 div.sk-toggleable__content {max-height: 0;max-width: 0;overflow: hidden;text-align: left;background-color: #f0f8ff;}#sk-container-id-11 div.sk-toggleable__content pre {margin: 0.2em;color: black;border-radius: 0.25em;background-color: #f0f8ff;}#sk-container-id-11 input.sk-toggleable__control:checked~div.sk-toggleable__content {max-height: 200px;max-width: 100%;overflow: auto;}#sk-container-id-11 input.sk-toggleable__control:checked~label.sk-toggleable__label-arrow:before {content: \"▾\";}#sk-container-id-11 div.sk-estimator input.sk-toggleable__control:checked~label.sk-toggleable__label {background-color: #d4ebff;}#sk-container-id-11 div.sk-label input.sk-toggleable__control:checked~label.sk-toggleable__label {background-color: #d4ebff;}#sk-container-id-11 input.sk-hidden--visually {border: 0;clip: rect(1px 1px 1px 1px);clip: rect(1px, 1px, 1px, 1px);height: 1px;margin: -1px;overflow: hidden;padding: 0;position: absolute;width: 1px;}#sk-container-id-11 div.sk-estimator {font-family: monospace;background-color: #f0f8ff;border: 1px dotted black;border-radius: 0.25em;box-sizing: border-box;margin-bottom: 0.5em;}#sk-container-id-11 div.sk-estimator:hover {background-color: #d4ebff;}#sk-container-id-11 div.sk-parallel-item::after {content: \"\";width: 100%;border-bottom: 1px solid gray;flex-grow: 1;}#sk-container-id-11 div.sk-label:hover label.sk-toggleable__label {background-color: #d4ebff;}#sk-container-id-11 div.sk-serial::before {content: \"\";position: absolute;border-left: 1px solid gray;box-sizing: border-box;top: 0;bottom: 0;left: 50%;z-index: 0;}#sk-container-id-11 div.sk-serial {display: flex;flex-direction: column;align-items: center;background-color: white;padding-right: 0.2em;padding-left: 0.2em;position: relative;}#sk-container-id-11 div.sk-item {position: relative;z-index: 1;}#sk-container-id-11 div.sk-parallel {display: flex;align-items: stretch;justify-content: center;background-color: white;position: relative;}#sk-container-id-11 div.sk-item::before, #sk-container-id-11 div.sk-parallel-item::before {content: \"\";position: absolute;border-left: 1px solid gray;box-sizing: border-box;top: 0;bottom: 0;left: 50%;z-index: -1;}#sk-container-id-11 div.sk-parallel-item {display: flex;flex-direction: column;z-index: 1;position: relative;background-color: white;}#sk-container-id-11 div.sk-parallel-item:first-child::after {align-self: flex-end;width: 50%;}#sk-container-id-11 div.sk-parallel-item:last-child::after {align-self: flex-start;width: 50%;}#sk-container-id-11 div.sk-parallel-item:only-child::after {width: 0;}#sk-container-id-11 div.sk-dashed-wrapped {border: 1px dashed gray;margin: 0 0.4em 0.5em 0.4em;box-sizing: border-box;padding-bottom: 0.4em;background-color: white;}#sk-container-id-11 div.sk-label label {font-family: monospace;font-weight: bold;display: inline-block;line-height: 1.2em;}#sk-container-id-11 div.sk-label-container {text-align: center;}#sk-container-id-11 div.sk-container {/* jupyter's `normalize.less` sets `[hidden] { display: none; }` but bootstrap.min.css set `[hidden] { display: none !important; }` so we also need the `!important` here to be able to override the default hidden behavior on the sphinx rendered scikit-learn.org. See: https://github.com/scikit-learn/scikit-learn/issues/21755 */display: inline-block !important;position: relative;}#sk-container-id-11 div.sk-text-repr-fallback {display: none;}</style><div id=\"sk-container-id-11\" class=\"sk-top-container\"><div class=\"sk-text-repr-fallback\"><pre>LinearRegression()</pre><b>In a Jupyter environment, please rerun this cell to show the HTML representation or trust the notebook. <br />On GitHub, the HTML representation is unable to render, please try loading this page with nbviewer.org.</b></div><div class=\"sk-container\" hidden><div class=\"sk-item\"><div class=\"sk-estimator sk-toggleable\"><input class=\"sk-toggleable__control sk-hidden--visually\" id=\"sk-estimator-id-11\" type=\"checkbox\" checked><label for=\"sk-estimator-id-11\" class=\"sk-toggleable__label sk-toggleable__label-arrow\">LinearRegression</label><div class=\"sk-toggleable__content\"><pre>LinearRegression()</pre></div></div></div></div></div>"
     },
     "execution_count": 255,
     "metadata": {},
     "output_type": "execute_result"
    }
   ],
   "source": [
    "model"
   ],
   "metadata": {
    "collapsed": false,
    "ExecuteTime": {
     "end_time": "2024-02-25T15:27:37.290549800Z",
     "start_time": "2024-02-25T15:27:36.988550100Z"
    }
   },
   "id": "c6e4627a1a6a956a",
   "execution_count": 255
  },
  {
   "cell_type": "code",
   "outputs": [
    {
     "data": {
      "text/plain": "'LinearRegression()'"
     },
     "execution_count": 256,
     "metadata": {},
     "output_type": "execute_result"
    }
   ],
   "source": [
    "str(model)"
   ],
   "metadata": {
    "collapsed": false,
    "ExecuteTime": {
     "end_time": "2024-02-25T15:27:37.328019400Z",
     "start_time": "2024-02-25T15:27:37.006528500Z"
    }
   },
   "id": "d5412c55f62885bf",
   "execution_count": 256
  },
  {
   "cell_type": "code",
   "outputs": [
    {
     "data": {
      "text/plain": "['__abstractmethods__',\n '__annotations__',\n '__class__',\n '__delattr__',\n '__dict__',\n '__dir__',\n '__doc__',\n '__eq__',\n '__format__',\n '__ge__',\n '__getattribute__',\n '__getstate__',\n '__gt__',\n '__hash__',\n '__init__',\n '__init_subclass__',\n '__le__',\n '__lt__',\n '__module__',\n '__ne__',\n '__new__',\n '__reduce__',\n '__reduce_ex__',\n '__repr__',\n '__setattr__',\n '__setstate__',\n '__sizeof__',\n '__sklearn_clone__',\n '__str__',\n '__subclasshook__',\n '__weakref__',\n '_abc_impl',\n '_build_request_for_signature',\n '_check_feature_names',\n '_check_n_features',\n '_decision_function',\n '_estimator_type',\n '_get_default_requests',\n '_get_metadata_request',\n '_get_param_names',\n '_get_tags',\n '_more_tags',\n '_parameter_constraints',\n '_repr_html_',\n '_repr_html_inner',\n '_repr_mimebundle_',\n '_set_intercept',\n '_validate_data',\n '_validate_params',\n 'coef_',\n 'copy_X',\n 'feature_names_in_',\n 'fit',\n 'fit_intercept',\n 'get_metadata_routing',\n 'get_params',\n 'intercept_',\n 'n_features_in_',\n 'n_jobs',\n 'positive',\n 'predict',\n 'rank_',\n 'score',\n 'set_fit_request',\n 'set_params',\n 'set_score_request',\n 'singular_']"
     },
     "execution_count": 257,
     "metadata": {},
     "output_type": "execute_result"
    }
   ],
   "source": [
    "dir(model)"
   ],
   "metadata": {
    "collapsed": false,
    "ExecuteTime": {
     "end_time": "2024-02-25T15:27:37.351526700Z",
     "start_time": "2024-02-25T15:27:37.022995500Z"
    }
   },
   "id": "18729728a831338c",
   "execution_count": 257
  },
  {
   "cell_type": "code",
   "outputs": [
    {
     "data": {
      "text/plain": "array([7.03259355])"
     },
     "execution_count": 258,
     "metadata": {},
     "output_type": "execute_result"
    }
   ],
   "source": [
    "model.intercept_ # sabit, b_0 değeri"
   ],
   "metadata": {
    "collapsed": false,
    "ExecuteTime": {
     "end_time": "2024-02-25T15:27:37.369570100Z",
     "start_time": "2024-02-25T15:27:37.036480300Z"
    }
   },
   "id": "4223010660028390",
   "execution_count": 258
  },
  {
   "cell_type": "code",
   "outputs": [
    {
     "data": {
      "text/plain": "array([[0.04753664]])"
     },
     "execution_count": 259,
     "metadata": {},
     "output_type": "execute_result"
    }
   ],
   "source": [
    "model.coef_ # b_1 değeri"
   ],
   "metadata": {
    "collapsed": false,
    "ExecuteTime": {
     "end_time": "2024-02-25T15:27:37.418592600Z",
     "start_time": "2024-02-25T15:27:37.051948600Z"
    }
   },
   "id": "84f8ded6df91f8ae",
   "execution_count": 259
  },
  {
   "cell_type": "code",
   "outputs": [
    {
     "data": {
      "text/plain": "0.611875050850071"
     },
     "execution_count": 260,
     "metadata": {},
     "output_type": "execute_result"
    }
   ],
   "source": [
    "# rKare = Bağımlı değişkendeki değişiklğin bağımsız değişkenlerce açıklanma yüzdesidir\n",
    "model.score(x,y)"
   ],
   "metadata": {
    "collapsed": false,
    "ExecuteTime": {
     "end_time": "2024-02-25T15:27:37.476254Z",
     "start_time": "2024-02-25T15:27:37.120076200Z"
    }
   },
   "id": "efc3f55cdf7a451d",
   "execution_count": 260
  },
  {
   "cell_type": "markdown",
   "source": [
    "1.2-Tahmin"
   ],
   "metadata": {
    "collapsed": false
   },
   "id": "a114845c819a8fcb"
  },
  {
   "cell_type": "code",
   "outputs": [],
   "source": [
    "import seaborn as sns\n",
    "import matplotlib.pyplot as plt"
   ],
   "metadata": {
    "collapsed": false,
    "ExecuteTime": {
     "end_time": "2024-02-25T15:27:37.872316400Z",
     "start_time": "2024-02-25T15:27:37.458247600Z"
    }
   },
   "id": "ea19aaa0ed9eb988",
   "execution_count": 261
  },
  {
   "cell_type": "code",
   "outputs": [
    {
     "data": {
      "text/plain": "(0.0, 28.27)"
     },
     "execution_count": 262,
     "metadata": {},
     "output_type": "execute_result"
    },
    {
     "data": {
      "text/plain": "<Figure size 640x480 with 1 Axes>",
      "image/png": "[encoded data removed]"
     },
     "metadata": {},
     "output_type": "display_data"
    }
   ],
   "source": [
    "g = sns.regplot(x=\"TV\", y=\"sales\", data=df, ci=None, scatter_kws={\"color\": \"r\", \"s\": 9}) # Ci güven aralığını temsil eder\n",
    "g.set_title(\"Model Denklemi: Sales = 7.03 + TV*0.05\")\n",
    "g.set_ylabel(\"Satış Sayısı\")\n",
    "g.set_xlabel(\"TV Harcamaları\")\n",
    "plt.xlim(-10,310)\n",
    "plt.ylim(bottom=0)"
   ],
   "metadata": {
    "collapsed": false,
    "ExecuteTime": {
     "end_time": "2024-02-25T15:27:38.187569400Z",
     "start_time": "2024-02-25T15:27:37.857797200Z"
    }
   },
   "id": "f6dc10f814f26e47",
   "execution_count": 262
  },
  {
   "cell_type": "code",
   "outputs": [],
   "source": [
    "modelPredict = model.intercept_ + model.coef_*165"
   ],
   "metadata": {
    "collapsed": false,
    "ExecuteTime": {
     "end_time": "2024-02-25T15:27:38.207585800Z",
     "start_time": "2024-02-25T15:27:38.082936900Z"
    }
   },
   "id": "a40066b886f31ed",
   "execution_count": 263
  },
  {
   "cell_type": "code",
   "outputs": [
    {
     "data": {
      "text/plain": "array([[14.87613922]])"
     },
     "execution_count": 264,
     "metadata": {},
     "output_type": "execute_result"
    }
   ],
   "source": [
    "modelPredict"
   ],
   "metadata": {
    "collapsed": false,
    "ExecuteTime": {
     "end_time": "2024-02-25T15:27:38.321415400Z",
     "start_time": "2024-02-25T15:27:38.146509200Z"
    }
   },
   "id": "d80e9ede6a82bd72",
   "execution_count": 264
  },
  {
   "cell_type": "code",
   "outputs": [
    {
     "name": "stderr",
     "output_type": "stream",
     "text": [
      "C:\\Users\\arda_\\anaconda3\\lib\\site-packages\\sklearn\\base.py:464: UserWarning: X does not have valid feature names, but LinearRegression was fitted with feature names\n",
      "  warnings.warn(\n"
     ]
    },
    {
     "data": {
      "text/plain": "array([[14.87613922]])"
     },
     "execution_count": 265,
     "metadata": {},
     "output_type": "execute_result"
    }
   ],
   "source": [
    "model.predict([[165]])"
   ],
   "metadata": {
    "collapsed": false,
    "ExecuteTime": {
     "end_time": "2024-02-25T15:27:38.445028600Z",
     "start_time": "2024-02-25T15:27:38.300486100Z"
    }
   },
   "id": "fdfc64be14012044",
   "execution_count": 265
  },
  {
   "cell_type": "code",
   "outputs": [],
   "source": [
    "yeniVeri = [[5],[15],[30]]"
   ],
   "metadata": {
    "collapsed": false,
    "ExecuteTime": {
     "end_time": "2024-02-25T15:27:38.630468400Z",
     "start_time": "2024-02-25T15:27:38.411836500Z"
    }
   },
   "id": "d91236e8cf8ee263",
   "execution_count": 266
  },
  {
   "cell_type": "code",
   "outputs": [
    {
     "name": "stderr",
     "output_type": "stream",
     "text": [
      "C:\\Users\\arda_\\anaconda3\\lib\\site-packages\\sklearn\\base.py:464: UserWarning: X does not have valid feature names, but LinearRegression was fitted with feature names\n",
      "  warnings.warn(\n"
     ]
    },
    {
     "data": {
      "text/plain": "array([[7.27027675],\n       [7.74564316],\n       [8.45869276]])"
     },
     "execution_count": 267,
     "metadata": {},
     "output_type": "execute_result"
    }
   ],
   "source": [
    "model.predict(yeniVeri)"
   ],
   "metadata": {
    "collapsed": false,
    "ExecuteTime": {
     "end_time": "2024-02-25T15:27:38.741098400Z",
     "start_time": "2024-02-25T15:27:38.616870100Z"
    }
   },
   "id": "6abe5f0703f1558b",
   "execution_count": 267
  },
  {
   "cell_type": "markdown",
   "source": [
    "1.3-Artıklar ve Makine Öğrenmesindeki Önemi"
   ],
   "metadata": {
    "collapsed": false
   },
   "id": "c5faa0326e2bd0f7"
  },
  {
   "cell_type": "code",
   "outputs": [],
   "source": [
    "# MSE: Hata Kareler Ortalaması\n",
    "# RMSE: Hata Kareler Ortalamasının Karekökü"
   ],
   "metadata": {
    "collapsed": false,
    "ExecuteTime": {
     "end_time": "2024-02-25T15:27:38.867530Z",
     "start_time": "2024-02-25T15:27:38.724514800Z"
    }
   },
   "id": "16daca215c411271",
   "execution_count": 268
  },
  {
   "cell_type": "code",
   "outputs": [
    {
     "data": {
      "text/plain": "   sales\n0   22.1\n1   10.4\n2    9.3\n3   18.5\n4   12.9",
      "text/html": "<div>\n<style scoped>\n    .dataframe tbody tr th:only-of-type {\n        vertical-align: middle;\n    }\n\n    .dataframe tbody tr th {\n        vertical-align: top;\n    }\n\n    .dataframe thead th {\n        text-align: right;\n    }\n</style>\n<table border=\"1\" class=\"dataframe\">\n  <thead>\n    <tr style=\"text-align: right;\">\n      <th></th>\n      <th>sales</th>\n    </tr>\n  </thead>\n  <tbody>\n    <tr>\n      <th>0</th>\n      <td>22.1</td>\n    </tr>\n    <tr>\n      <th>1</th>\n      <td>10.4</td>\n    </tr>\n    <tr>\n      <th>2</th>\n      <td>9.3</td>\n    </tr>\n    <tr>\n      <th>3</th>\n      <td>18.5</td>\n    </tr>\n    <tr>\n      <th>4</th>\n      <td>12.9</td>\n    </tr>\n  </tbody>\n</table>\n</div>"
     },
     "execution_count": 269,
     "metadata": {},
     "output_type": "execute_result"
    }
   ],
   "source": [
    "y.head()"
   ],
   "metadata": {
    "collapsed": false,
    "ExecuteTime": {
     "end_time": "2024-02-25T15:27:39.027698200Z",
     "start_time": "2024-02-25T15:27:38.856562600Z"
    }
   },
   "id": "682b4a0bafcb4b54",
   "execution_count": 269
  },
  {
   "cell_type": "code",
   "outputs": [
    {
     "data": {
      "text/plain": "array([[17.97077451],\n       [ 9.14797405],\n       [ 7.85022376],\n       [14.23439457],\n       [15.62721814],\n       [ 7.44616232]])"
     },
     "execution_count": 270,
     "metadata": {},
     "output_type": "execute_result"
    }
   ],
   "source": [
    "model.predict(x)[0:6]"
   ],
   "metadata": {
    "collapsed": false,
    "ExecuteTime": {
     "end_time": "2024-02-25T15:27:39.134011600Z",
     "start_time": "2024-02-25T15:27:38.936243900Z"
    }
   },
   "id": "846f3f82f6bfc59a",
   "execution_count": 270
  },
  {
   "cell_type": "code",
   "outputs": [],
   "source": [
    "gercekY = y[0:10]"
   ],
   "metadata": {
    "collapsed": false,
    "ExecuteTime": {
     "end_time": "2024-02-25T15:27:39.351160800Z",
     "start_time": "2024-02-25T15:27:39.115051900Z"
    }
   },
   "id": "ab8732a84b9bc4c2",
   "execution_count": 271
  },
  {
   "cell_type": "code",
   "outputs": [
    {
     "data": {
      "text/plain": "   sales\n0   22.1\n1   10.4\n2    9.3\n3   18.5\n4   12.9\n5    7.2\n6   11.8\n7   13.2\n8    4.8\n9   10.6",
      "text/html": "<div>\n<style scoped>\n    .dataframe tbody tr th:only-of-type {\n        vertical-align: middle;\n    }\n\n    .dataframe tbody tr th {\n        vertical-align: top;\n    }\n\n    .dataframe thead th {\n        text-align: right;\n    }\n</style>\n<table border=\"1\" class=\"dataframe\">\n  <thead>\n    <tr style=\"text-align: right;\">\n      <th></th>\n      <th>sales</th>\n    </tr>\n  </thead>\n  <tbody>\n    <tr>\n      <th>0</th>\n      <td>22.1</td>\n    </tr>\n    <tr>\n      <th>1</th>\n      <td>10.4</td>\n    </tr>\n    <tr>\n      <th>2</th>\n      <td>9.3</td>\n    </tr>\n    <tr>\n      <th>3</th>\n      <td>18.5</td>\n    </tr>\n    <tr>\n      <th>4</th>\n      <td>12.9</td>\n    </tr>\n    <tr>\n      <th>5</th>\n      <td>7.2</td>\n    </tr>\n    <tr>\n      <th>6</th>\n      <td>11.8</td>\n    </tr>\n    <tr>\n      <th>7</th>\n      <td>13.2</td>\n    </tr>\n    <tr>\n      <th>8</th>\n      <td>4.8</td>\n    </tr>\n    <tr>\n      <th>9</th>\n      <td>10.6</td>\n    </tr>\n  </tbody>\n</table>\n</div>"
     },
     "execution_count": 272,
     "metadata": {},
     "output_type": "execute_result"
    }
   ],
   "source": [
    "gercekY"
   ],
   "metadata": {
    "collapsed": false,
    "ExecuteTime": {
     "end_time": "2024-02-25T15:27:39.509439400Z",
     "start_time": "2024-02-25T15:27:39.333625300Z"
    }
   },
   "id": "2011fa2b8019ce8d",
   "execution_count": 272
  },
  {
   "cell_type": "code",
   "outputs": [],
   "source": [
    "tahminEdilenY = pd.DataFrame(model.predict(x)[0:10])"
   ],
   "metadata": {
    "collapsed": false,
    "ExecuteTime": {
     "end_time": "2024-02-25T15:27:39.633037800Z",
     "start_time": "2024-02-25T15:27:39.488865700Z"
    }
   },
   "id": "1fb49939a7b2a1f8",
   "execution_count": 273
  },
  {
   "cell_type": "code",
   "outputs": [
    {
     "data": {
      "text/plain": "           0\n0  17.970775\n1   9.147974\n2   7.850224\n3  14.234395\n4  15.627218\n5   7.446162\n6   9.765950\n7  12.746498\n8   7.441409\n9  16.530414",
      "text/html": "<div>\n<style scoped>\n    .dataframe tbody tr th:only-of-type {\n        vertical-align: middle;\n    }\n\n    .dataframe tbody tr th {\n        vertical-align: top;\n    }\n\n    .dataframe thead th {\n        text-align: right;\n    }\n</style>\n<table border=\"1\" class=\"dataframe\">\n  <thead>\n    <tr style=\"text-align: right;\">\n      <th></th>\n      <th>0</th>\n    </tr>\n  </thead>\n  <tbody>\n    <tr>\n      <th>0</th>\n      <td>17.970775</td>\n    </tr>\n    <tr>\n      <th>1</th>\n      <td>9.147974</td>\n    </tr>\n    <tr>\n      <th>2</th>\n      <td>7.850224</td>\n    </tr>\n    <tr>\n      <th>3</th>\n      <td>14.234395</td>\n    </tr>\n    <tr>\n      <th>4</th>\n      <td>15.627218</td>\n    </tr>\n    <tr>\n      <th>5</th>\n      <td>7.446162</td>\n    </tr>\n    <tr>\n      <th>6</th>\n      <td>9.765950</td>\n    </tr>\n    <tr>\n      <th>7</th>\n      <td>12.746498</td>\n    </tr>\n    <tr>\n      <th>8</th>\n      <td>7.441409</td>\n    </tr>\n    <tr>\n      <th>9</th>\n      <td>16.530414</td>\n    </tr>\n  </tbody>\n</table>\n</div>"
     },
     "execution_count": 274,
     "metadata": {},
     "output_type": "execute_result"
    }
   ],
   "source": [
    "tahminEdilenY"
   ],
   "metadata": {
    "collapsed": false,
    "ExecuteTime": {
     "end_time": "2024-02-25T15:27:39.844384200Z",
     "start_time": "2024-02-25T15:27:39.613901400Z"
    }
   },
   "id": "f5615d088a5a4321",
   "execution_count": 274
  },
  {
   "cell_type": "code",
   "outputs": [],
   "source": [
    "hatalar = pd.concat([gercekY,tahminEdilenY],axis=1)"
   ],
   "metadata": {
    "collapsed": false,
    "ExecuteTime": {
     "end_time": "2024-02-25T15:27:39.948219100Z",
     "start_time": "2024-02-25T15:27:39.760280800Z"
    }
   },
   "id": "7fecb233630c3699",
   "execution_count": 275
  },
  {
   "cell_type": "code",
   "outputs": [],
   "source": [
    "hatalar.columns =[\"Gerçek Y\",\"Tahmin Edilen Y\"] "
   ],
   "metadata": {
    "collapsed": false,
    "ExecuteTime": {
     "end_time": "2024-02-25T15:27:40.102586700Z",
     "start_time": "2024-02-25T15:27:39.930515300Z"
    }
   },
   "id": "47984c9623035c27",
   "execution_count": 276
  },
  {
   "cell_type": "code",
   "outputs": [
    {
     "data": {
      "text/plain": "   Gerçek Y  Tahmin Edilen Y\n0      22.1        17.970775\n1      10.4         9.147974\n2       9.3         7.850224\n3      18.5        14.234395\n4      12.9        15.627218\n5       7.2         7.446162\n6      11.8         9.765950\n7      13.2        12.746498\n8       4.8         7.441409\n9      10.6        16.530414",
      "text/html": "<div>\n<style scoped>\n    .dataframe tbody tr th:only-of-type {\n        vertical-align: middle;\n    }\n\n    .dataframe tbody tr th {\n        vertical-align: top;\n    }\n\n    .dataframe thead th {\n        text-align: right;\n    }\n</style>\n<table border=\"1\" class=\"dataframe\">\n  <thead>\n    <tr style=\"text-align: right;\">\n      <th></th>\n      <th>Gerçek Y</th>\n      <th>Tahmin Edilen Y</th>\n    </tr>\n  </thead>\n  <tbody>\n    <tr>\n      <th>0</th>\n      <td>22.1</td>\n      <td>17.970775</td>\n    </tr>\n    <tr>\n      <th>1</th>\n      <td>10.4</td>\n      <td>9.147974</td>\n    </tr>\n    <tr>\n      <th>2</th>\n      <td>9.3</td>\n      <td>7.850224</td>\n    </tr>\n    <tr>\n      <th>3</th>\n      <td>18.5</td>\n      <td>14.234395</td>\n    </tr>\n    <tr>\n      <th>4</th>\n      <td>12.9</td>\n      <td>15.627218</td>\n    </tr>\n    <tr>\n      <th>5</th>\n      <td>7.2</td>\n      <td>7.446162</td>\n    </tr>\n    <tr>\n      <th>6</th>\n      <td>11.8</td>\n      <td>9.765950</td>\n    </tr>\n    <tr>\n      <th>7</th>\n      <td>13.2</td>\n      <td>12.746498</td>\n    </tr>\n    <tr>\n      <th>8</th>\n      <td>4.8</td>\n      <td>7.441409</td>\n    </tr>\n    <tr>\n      <th>9</th>\n      <td>10.6</td>\n      <td>16.530414</td>\n    </tr>\n  </tbody>\n</table>\n</div>"
     },
     "execution_count": 277,
     "metadata": {},
     "output_type": "execute_result"
    }
   ],
   "source": [
    "hatalar"
   ],
   "metadata": {
    "collapsed": false,
    "ExecuteTime": {
     "end_time": "2024-02-25T15:27:40.278375100Z",
     "start_time": "2024-02-25T15:27:40.087126500Z"
    }
   },
   "id": "4fade442f7069c1d",
   "execution_count": 277
  },
  {
   "cell_type": "code",
   "outputs": [],
   "source": [
    "hatalar[\"hata\"] = hatalar[\"Gerçek Y\"] - hatalar[\"Tahmin Edilen Y\"]"
   ],
   "metadata": {
    "collapsed": false,
    "ExecuteTime": {
     "end_time": "2024-02-25T15:27:40.355416600Z",
     "start_time": "2024-02-25T15:27:40.195022100Z"
    }
   },
   "id": "6546347db37e1982",
   "execution_count": 278
  },
  {
   "cell_type": "code",
   "outputs": [
    {
     "data": {
      "text/plain": "   Gerçek Y  Tahmin Edilen Y      hata\n0      22.1        17.970775  4.129225\n1      10.4         9.147974  1.252026\n2       9.3         7.850224  1.449776\n3      18.5        14.234395  4.265605\n4      12.9        15.627218 -2.727218\n5       7.2         7.446162 -0.246162\n6      11.8         9.765950  2.034050\n7      13.2        12.746498  0.453502\n8       4.8         7.441409 -2.641409\n9      10.6        16.530414 -5.930414",
      "text/html": "<div>\n<style scoped>\n    .dataframe tbody tr th:only-of-type {\n        vertical-align: middle;\n    }\n\n    .dataframe tbody tr th {\n        vertical-align: top;\n    }\n\n    .dataframe thead th {\n        text-align: right;\n    }\n</style>\n<table border=\"1\" class=\"dataframe\">\n  <thead>\n    <tr style=\"text-align: right;\">\n      <th></th>\n      <th>Gerçek Y</th>\n      <th>Tahmin Edilen Y</th>\n      <th>hata</th>\n    </tr>\n  </thead>\n  <tbody>\n    <tr>\n      <th>0</th>\n      <td>22.1</td>\n      <td>17.970775</td>\n      <td>4.129225</td>\n    </tr>\n    <tr>\n      <th>1</th>\n      <td>10.4</td>\n      <td>9.147974</td>\n      <td>1.252026</td>\n    </tr>\n    <tr>\n      <th>2</th>\n      <td>9.3</td>\n      <td>7.850224</td>\n      <td>1.449776</td>\n    </tr>\n    <tr>\n      <th>3</th>\n      <td>18.5</td>\n      <td>14.234395</td>\n      <td>4.265605</td>\n    </tr>\n    <tr>\n      <th>4</th>\n      <td>12.9</td>\n      <td>15.627218</td>\n      <td>-2.727218</td>\n    </tr>\n    <tr>\n      <th>5</th>\n      <td>7.2</td>\n      <td>7.446162</td>\n      <td>-0.246162</td>\n    </tr>\n    <tr>\n      <th>6</th>\n      <td>11.8</td>\n      <td>9.765950</td>\n      <td>2.034050</td>\n    </tr>\n    <tr>\n      <th>7</th>\n      <td>13.2</td>\n      <td>12.746498</td>\n      <td>0.453502</td>\n    </tr>\n    <tr>\n      <th>8</th>\n      <td>4.8</td>\n      <td>7.441409</td>\n      <td>-2.641409</td>\n    </tr>\n    <tr>\n      <th>9</th>\n      <td>10.6</td>\n      <td>16.530414</td>\n      <td>-5.930414</td>\n    </tr>\n  </tbody>\n</table>\n</div>"
     },
     "execution_count": 279,
     "metadata": {},
     "output_type": "execute_result"
    }
   ],
   "source": [
    "hatalar"
   ],
   "metadata": {
    "collapsed": false,
    "ExecuteTime": {
     "end_time": "2024-02-25T15:27:40.576893800Z",
     "start_time": "2024-02-25T15:27:40.356412800Z"
    }
   },
   "id": "27f18317ab31a788",
   "execution_count": 279
  },
  {
   "cell_type": "code",
   "outputs": [],
   "source": [
    "hatalar[\"hata_karaler\"] = hatalar[\"hata\"]**2"
   ],
   "metadata": {
    "collapsed": false,
    "ExecuteTime": {
     "end_time": "2024-02-25T15:27:40.682487Z",
     "start_time": "2024-02-25T15:27:40.548888700Z"
    }
   },
   "id": "d8f0ab7b2d30836c",
   "execution_count": 280
  },
  {
   "cell_type": "code",
   "outputs": [
    {
     "data": {
      "text/plain": "   Gerçek Y  Tahmin Edilen Y      hata  hata_karaler\n0      22.1        17.970775  4.129225     17.050503\n1      10.4         9.147974  1.252026      1.567569\n2       9.3         7.850224  1.449776      2.101851\n3      18.5        14.234395  4.265605     18.195390\n4      12.9        15.627218 -2.727218      7.437719\n5       7.2         7.446162 -0.246162      0.060596\n6      11.8         9.765950  2.034050      4.137358\n7      13.2        12.746498  0.453502      0.205664\n8       4.8         7.441409 -2.641409      6.977040\n9      10.6        16.530414 -5.930414     35.169814",
      "text/html": "<div>\n<style scoped>\n    .dataframe tbody tr th:only-of-type {\n        vertical-align: middle;\n    }\n\n    .dataframe tbody tr th {\n        vertical-align: top;\n    }\n\n    .dataframe thead th {\n        text-align: right;\n    }\n</style>\n<table border=\"1\" class=\"dataframe\">\n  <thead>\n    <tr style=\"text-align: right;\">\n      <th></th>\n      <th>Gerçek Y</th>\n      <th>Tahmin Edilen Y</th>\n      <th>hata</th>\n      <th>hata_karaler</th>\n    </tr>\n  </thead>\n  <tbody>\n    <tr>\n      <th>0</th>\n      <td>22.1</td>\n      <td>17.970775</td>\n      <td>4.129225</td>\n      <td>17.050503</td>\n    </tr>\n    <tr>\n      <th>1</th>\n      <td>10.4</td>\n      <td>9.147974</td>\n      <td>1.252026</td>\n      <td>1.567569</td>\n    </tr>\n    <tr>\n      <th>2</th>\n      <td>9.3</td>\n      <td>7.850224</td>\n      <td>1.449776</td>\n      <td>2.101851</td>\n    </tr>\n    <tr>\n      <th>3</th>\n      <td>18.5</td>\n      <td>14.234395</td>\n      <td>4.265605</td>\n      <td>18.195390</td>\n    </tr>\n    <tr>\n      <th>4</th>\n      <td>12.9</td>\n      <td>15.627218</td>\n      <td>-2.727218</td>\n      <td>7.437719</td>\n    </tr>\n    <tr>\n      <th>5</th>\n      <td>7.2</td>\n      <td>7.446162</td>\n      <td>-0.246162</td>\n      <td>0.060596</td>\n    </tr>\n    <tr>\n      <th>6</th>\n      <td>11.8</td>\n      <td>9.765950</td>\n      <td>2.034050</td>\n      <td>4.137358</td>\n    </tr>\n    <tr>\n      <th>7</th>\n      <td>13.2</td>\n      <td>12.746498</td>\n      <td>0.453502</td>\n      <td>0.205664</td>\n    </tr>\n    <tr>\n      <th>8</th>\n      <td>4.8</td>\n      <td>7.441409</td>\n      <td>-2.641409</td>\n      <td>6.977040</td>\n    </tr>\n    <tr>\n      <th>9</th>\n      <td>10.6</td>\n      <td>16.530414</td>\n      <td>-5.930414</td>\n      <td>35.169814</td>\n    </tr>\n  </tbody>\n</table>\n</div>"
     },
     "execution_count": 281,
     "metadata": {},
     "output_type": "execute_result"
    }
   ],
   "source": [
    "hatalar"
   ],
   "metadata": {
    "collapsed": false,
    "ExecuteTime": {
     "end_time": "2024-02-25T15:27:40.855401300Z",
     "start_time": "2024-02-25T15:27:40.666463Z"
    }
   },
   "id": "1b4eab0b4a2d1833",
   "execution_count": 281
  },
  {
   "cell_type": "code",
   "outputs": [
    {
     "data": {
      "text/plain": "9.290350329638105"
     },
     "execution_count": 282,
     "metadata": {},
     "output_type": "execute_result"
    }
   ],
   "source": [
    "np.mean(hatalar[\"hata_karaler\"])"
   ],
   "metadata": {
    "collapsed": false,
    "ExecuteTime": {
     "end_time": "2024-02-25T15:27:41.028628900Z",
     "start_time": "2024-02-25T15:27:40.854405Z"
    }
   },
   "id": "d0abe9251ae717df",
   "execution_count": 282
  },
  {
   "cell_type": "markdown",
   "source": [
    "2-Çoklu Doğrusal Regresyon"
   ],
   "metadata": {
    "collapsed": false
   },
   "id": "13441159778aa5a1"
  },
  {
   "cell_type": "markdown",
   "source": [
    "2.1-Model"
   ],
   "metadata": {
    "collapsed": false
   },
   "id": "91c99ee02a80dcbd"
  },
  {
   "cell_type": "code",
   "outputs": [],
   "source": [
    "df = pd.read_csv(\"Advertising.csv\")"
   ],
   "metadata": {
    "collapsed": false,
    "ExecuteTime": {
     "end_time": "2024-02-25T15:27:41.160249300Z",
     "start_time": "2024-02-25T15:27:40.946956100Z"
    }
   },
   "id": "cf834f554fb500f0",
   "execution_count": 283
  },
  {
   "cell_type": "code",
   "outputs": [],
   "source": [
    "df = df.iloc[:,1:len(df)]"
   ],
   "metadata": {
    "collapsed": false,
    "ExecuteTime": {
     "end_time": "2024-02-25T15:27:41.289355100Z",
     "start_time": "2024-02-25T15:27:41.141797400Z"
    }
   },
   "id": "7b75c54890f3e942",
   "execution_count": 284
  },
  {
   "cell_type": "code",
   "outputs": [
    {
     "data": {
      "text/plain": "      TV  radio  newspaper  sales\n0  230.1   37.8       69.2   22.1\n1   44.5   39.3       45.1   10.4\n2   17.2   45.9       69.3    9.3\n3  151.5   41.3       58.5   18.5\n4  180.8   10.8       58.4   12.9",
      "text/html": "<div>\n<style scoped>\n    .dataframe tbody tr th:only-of-type {\n        vertical-align: middle;\n    }\n\n    .dataframe tbody tr th {\n        vertical-align: top;\n    }\n\n    .dataframe thead th {\n        text-align: right;\n    }\n</style>\n<table border=\"1\" class=\"dataframe\">\n  <thead>\n    <tr style=\"text-align: right;\">\n      <th></th>\n      <th>TV</th>\n      <th>radio</th>\n      <th>newspaper</th>\n      <th>sales</th>\n    </tr>\n  </thead>\n  <tbody>\n    <tr>\n      <th>0</th>\n      <td>230.1</td>\n      <td>37.8</td>\n      <td>69.2</td>\n      <td>22.1</td>\n    </tr>\n    <tr>\n      <th>1</th>\n      <td>44.5</td>\n      <td>39.3</td>\n      <td>45.1</td>\n      <td>10.4</td>\n    </tr>\n    <tr>\n      <th>2</th>\n      <td>17.2</td>\n      <td>45.9</td>\n      <td>69.3</td>\n      <td>9.3</td>\n    </tr>\n    <tr>\n      <th>3</th>\n      <td>151.5</td>\n      <td>41.3</td>\n      <td>58.5</td>\n      <td>18.5</td>\n    </tr>\n    <tr>\n      <th>4</th>\n      <td>180.8</td>\n      <td>10.8</td>\n      <td>58.4</td>\n      <td>12.9</td>\n    </tr>\n  </tbody>\n</table>\n</div>"
     },
     "execution_count": 285,
     "metadata": {},
     "output_type": "execute_result"
    }
   ],
   "source": [
    "df.head()"
   ],
   "metadata": {
    "collapsed": false,
    "ExecuteTime": {
     "end_time": "2024-02-25T15:27:41.470493300Z",
     "start_time": "2024-02-25T15:27:41.272890800Z"
    }
   },
   "id": "2dcf918251097cb0",
   "execution_count": 285
  },
  {
   "cell_type": "code",
   "outputs": [],
   "source": [
    "x = df.drop(\"sales\",axis=1)"
   ],
   "metadata": {
    "collapsed": false,
    "ExecuteTime": {
     "end_time": "2024-02-25T15:27:41.565261700Z",
     "start_time": "2024-02-25T15:27:41.449033200Z"
    }
   },
   "id": "24f179806ce1bae8",
   "execution_count": 286
  },
  {
   "cell_type": "code",
   "outputs": [],
   "source": [
    "y = df[[\"sales\"]]"
   ],
   "metadata": {
    "collapsed": false,
    "ExecuteTime": {
     "end_time": "2024-02-25T15:27:41.729584400Z",
     "start_time": "2024-02-25T15:27:41.562688900Z"
    }
   },
   "id": "d54f42cf38cd4f51",
   "execution_count": 287
  },
  {
   "cell_type": "code",
   "outputs": [
    {
     "data": {
      "text/plain": "   sales\n0   22.1\n1   10.4\n2    9.3\n3   18.5\n4   12.9",
      "text/html": "<div>\n<style scoped>\n    .dataframe tbody tr th:only-of-type {\n        vertical-align: middle;\n    }\n\n    .dataframe tbody tr th {\n        vertical-align: top;\n    }\n\n    .dataframe thead th {\n        text-align: right;\n    }\n</style>\n<table border=\"1\" class=\"dataframe\">\n  <thead>\n    <tr style=\"text-align: right;\">\n      <th></th>\n      <th>sales</th>\n    </tr>\n  </thead>\n  <tbody>\n    <tr>\n      <th>0</th>\n      <td>22.1</td>\n    </tr>\n    <tr>\n      <th>1</th>\n      <td>10.4</td>\n    </tr>\n    <tr>\n      <th>2</th>\n      <td>9.3</td>\n    </tr>\n    <tr>\n      <th>3</th>\n      <td>18.5</td>\n    </tr>\n    <tr>\n      <th>4</th>\n      <td>12.9</td>\n    </tr>\n  </tbody>\n</table>\n</div>"
     },
     "execution_count": 288,
     "metadata": {},
     "output_type": "execute_result"
    }
   ],
   "source": [
    "y.head()"
   ],
   "metadata": {
    "collapsed": false,
    "ExecuteTime": {
     "end_time": "2024-02-25T15:27:41.818831600Z",
     "start_time": "2024-02-25T15:27:41.696473100Z"
    }
   },
   "id": "a468d018817868d4",
   "execution_count": 288
  },
  {
   "cell_type": "code",
   "outputs": [
    {
     "data": {
      "text/plain": "      TV  radio  newspaper\n0  230.1   37.8       69.2\n1   44.5   39.3       45.1\n2   17.2   45.9       69.3\n3  151.5   41.3       58.5\n4  180.8   10.8       58.4",
      "text/html": "<div>\n<style scoped>\n    .dataframe tbody tr th:only-of-type {\n        vertical-align: middle;\n    }\n\n    .dataframe tbody tr th {\n        vertical-align: top;\n    }\n\n    .dataframe thead th {\n        text-align: right;\n    }\n</style>\n<table border=\"1\" class=\"dataframe\">\n  <thead>\n    <tr style=\"text-align: right;\">\n      <th></th>\n      <th>TV</th>\n      <th>radio</th>\n      <th>newspaper</th>\n    </tr>\n  </thead>\n  <tbody>\n    <tr>\n      <th>0</th>\n      <td>230.1</td>\n      <td>37.8</td>\n      <td>69.2</td>\n    </tr>\n    <tr>\n      <th>1</th>\n      <td>44.5</td>\n      <td>39.3</td>\n      <td>45.1</td>\n    </tr>\n    <tr>\n      <th>2</th>\n      <td>17.2</td>\n      <td>45.9</td>\n      <td>69.3</td>\n    </tr>\n    <tr>\n      <th>3</th>\n      <td>151.5</td>\n      <td>41.3</td>\n      <td>58.5</td>\n    </tr>\n    <tr>\n      <th>4</th>\n      <td>180.8</td>\n      <td>10.8</td>\n      <td>58.4</td>\n    </tr>\n  </tbody>\n</table>\n</div>"
     },
     "execution_count": 289,
     "metadata": {},
     "output_type": "execute_result"
    }
   ],
   "source": [
    "x.head()"
   ],
   "metadata": {
    "collapsed": false,
    "ExecuteTime": {
     "end_time": "2024-02-25T15:27:42.002660300Z",
     "start_time": "2024-02-25T15:27:41.781288800Z"
    }
   },
   "id": "7cb4a764e42282fd",
   "execution_count": 289
  },
  {
   "cell_type": "code",
   "outputs": [],
   "source": [
    "# Statsmodel ile model kurma"
   ],
   "metadata": {
    "collapsed": false,
    "ExecuteTime": {
     "end_time": "2024-02-25T15:27:42.167253900Z",
     "start_time": "2024-02-25T15:27:41.999670200Z"
    }
   },
   "id": "f75478cdd823f1e",
   "execution_count": 290
  },
  {
   "cell_type": "code",
   "outputs": [],
   "source": [
    "import statsmodels.api as sm"
   ],
   "metadata": {
    "collapsed": false,
    "ExecuteTime": {
     "end_time": "2024-02-25T15:27:42.346400600Z",
     "start_time": "2024-02-25T15:27:42.125280900Z"
    }
   },
   "id": "6ea6fbbf19c111ea",
   "execution_count": 291
  },
  {
   "cell_type": "code",
   "outputs": [],
   "source": [
    "lm = sm.OLS(y,x)"
   ],
   "metadata": {
    "collapsed": false,
    "ExecuteTime": {
     "end_time": "2024-02-25T15:27:42.482441700Z",
     "start_time": "2024-02-25T15:27:42.325240500Z"
    }
   },
   "id": "deba58c6f10b49a5",
   "execution_count": 292
  },
  {
   "cell_type": "code",
   "outputs": [
    {
     "data": {
      "text/plain": "<statsmodels.regression.linear_model.OLS at 0x2795bd97340>"
     },
     "execution_count": 293,
     "metadata": {},
     "output_type": "execute_result"
    }
   ],
   "source": [
    "lm"
   ],
   "metadata": {
    "collapsed": false,
    "ExecuteTime": {
     "end_time": "2024-02-25T15:27:42.657238600Z",
     "start_time": "2024-02-25T15:27:42.459952200Z"
    }
   },
   "id": "9190508ec56cdf91",
   "execution_count": 293
  },
  {
   "cell_type": "code",
   "outputs": [],
   "source": [
    "model = lm.fit() # Modeli eğitiyoruz"
   ],
   "metadata": {
    "collapsed": false,
    "ExecuteTime": {
     "end_time": "2024-02-25T15:27:42.732773500Z",
     "start_time": "2024-02-25T15:27:42.632713900Z"
    }
   },
   "id": "6bca4dd643466fe3",
   "execution_count": 294
  },
  {
   "cell_type": "code",
   "outputs": [
    {
     "data": {
      "text/plain": "<class 'statsmodels.iolib.summary.Summary'>\n\"\"\"\n                                 OLS Regression Results                                \n=======================================================================================\nDep. Variable:                  sales   R-squared (uncentered):                   0.982\nModel:                            OLS   Adj. R-squared (uncentered):              0.982\nMethod:                 Least Squares   F-statistic:                              3566.\nDate:                Sun, 25 Feb 2024   Prob (F-statistic):                   2.43e-171\nTime:                        18:27:42   Log-Likelihood:                         -423.54\nNo. Observations:                 200   AIC:                                      853.1\nDf Residuals:                     197   BIC:                                      863.0\nDf Model:                           3                                                  \nCovariance Type:            nonrobust                                                  \n==============================================================================\n                 coef    std err          t      P>|t|      [0.025      0.975]\n------------------------------------------------------------------------------\nTV             0.0538      0.001     40.507      0.000       0.051       0.056\nradio          0.2222      0.009     23.595      0.000       0.204       0.241\nnewspaper      0.0168      0.007      2.517      0.013       0.004       0.030\n==============================================================================\nOmnibus:                        5.982   Durbin-Watson:                   2.038\nProb(Omnibus):                  0.050   Jarque-Bera (JB):                7.039\nSkew:                          -0.232   Prob(JB):                       0.0296\nKurtosis:                       3.794   Cond. No.                         12.6\n==============================================================================\n\nNotes:\n[1] R² is computed without centering (uncentered) since the model does not contain a constant.\n[2] Standard Errors assume that the covariance matrix of the errors is correctly specified.\n\"\"\"",
      "text/html": "<table class=\"simpletable\">\n<caption>OLS Regression Results</caption>\n<tr>\n  <th>Dep. Variable:</th>          <td>sales</td>      <th>  R-squared (uncentered):</th>      <td>   0.982</td> \n</tr>\n<tr>\n  <th>Model:</th>                   <td>OLS</td>       <th>  Adj. R-squared (uncentered):</th> <td>   0.982</td> \n</tr>\n<tr>\n  <th>Method:</th>             <td>Least Squares</td>  <th>  F-statistic:       </th>          <td>   3566.</td> \n</tr>\n<tr>\n  <th>Date:</th>             <td>Sun, 25 Feb 2024</td> <th>  Prob (F-statistic):</th>          <td>2.43e-171</td>\n</tr>\n<tr>\n  <th>Time:</th>                 <td>18:27:42</td>     <th>  Log-Likelihood:    </th>          <td> -423.54</td> \n</tr>\n<tr>\n  <th>No. Observations:</th>      <td>   200</td>      <th>  AIC:               </th>          <td>   853.1</td> \n</tr>\n<tr>\n  <th>Df Residuals:</th>          <td>   197</td>      <th>  BIC:               </th>          <td>   863.0</td> \n</tr>\n<tr>\n  <th>Df Model:</th>              <td>     3</td>      <th>                     </th>              <td> </td>    \n</tr>\n<tr>\n  <th>Covariance Type:</th>      <td>nonrobust</td>    <th>                     </th>              <td> </td>    \n</tr>\n</table>\n<table class=\"simpletable\">\n<tr>\n      <td></td>         <th>coef</th>     <th>std err</th>      <th>t</th>      <th>P>|t|</th>  <th>[0.025</th>    <th>0.975]</th>  \n</tr>\n<tr>\n  <th>TV</th>        <td>    0.0538</td> <td>    0.001</td> <td>   40.507</td> <td> 0.000</td> <td>    0.051</td> <td>    0.056</td>\n</tr>\n<tr>\n  <th>radio</th>     <td>    0.2222</td> <td>    0.009</td> <td>   23.595</td> <td> 0.000</td> <td>    0.204</td> <td>    0.241</td>\n</tr>\n<tr>\n  <th>newspaper</th> <td>    0.0168</td> <td>    0.007</td> <td>    2.517</td> <td> 0.013</td> <td>    0.004</td> <td>    0.030</td>\n</tr>\n</table>\n<table class=\"simpletable\">\n<tr>\n  <th>Omnibus:</th>       <td> 5.982</td> <th>  Durbin-Watson:     </th> <td>   2.038</td>\n</tr>\n<tr>\n  <th>Prob(Omnibus):</th> <td> 0.050</td> <th>  Jarque-Bera (JB):  </th> <td>   7.039</td>\n</tr>\n<tr>\n  <th>Skew:</th>          <td>-0.232</td> <th>  Prob(JB):          </th> <td>  0.0296</td>\n</tr>\n<tr>\n  <th>Kurtosis:</th>      <td> 3.794</td> <th>  Cond. No.          </th> <td>    12.6</td>\n</tr>\n</table><br/><br/>Notes:<br/>[1] R² is computed without centering (uncentered) since the model does not contain a constant.<br/>[2] Standard Errors assume that the covariance matrix of the errors is correctly specified.",
      "text/latex": "\\begin{center}\n\\begin{tabular}{lclc}\n\\toprule\n\\textbf{Dep. Variable:}    &      sales       & \\textbf{  R-squared (uncentered):}      &     0.982   \\\\\n\\textbf{Model:}            &       OLS        & \\textbf{  Adj. R-squared (uncentered):} &     0.982   \\\\\n\\textbf{Method:}           &  Least Squares   & \\textbf{  F-statistic:       }          &     3566.   \\\\\n\\textbf{Date:}             & Sun, 25 Feb 2024 & \\textbf{  Prob (F-statistic):}          & 2.43e-171   \\\\\n\\textbf{Time:}             &     18:27:42     & \\textbf{  Log-Likelihood:    }          &   -423.54   \\\\\n\\textbf{No. Observations:} &         200      & \\textbf{  AIC:               }          &     853.1   \\\\\n\\textbf{Df Residuals:}     &         197      & \\textbf{  BIC:               }          &     863.0   \\\\\n\\textbf{Df Model:}         &           3      & \\textbf{                     }          &             \\\\\n\\textbf{Covariance Type:}  &    nonrobust     & \\textbf{                     }          &             \\\\\n\\bottomrule\n\\end{tabular}\n\\begin{tabular}{lcccccc}\n                   & \\textbf{coef} & \\textbf{std err} & \\textbf{t} & \\textbf{P$> |$t$|$} & \\textbf{[0.025} & \\textbf{0.975]}  \\\\\n\\midrule\n\\textbf{TV}        &       0.0538  &        0.001     &    40.507  &         0.000        &        0.051    &        0.056     \\\\\n\\textbf{radio}     &       0.2222  &        0.009     &    23.595  &         0.000        &        0.204    &        0.241     \\\\\n\\textbf{newspaper} &       0.0168  &        0.007     &     2.517  &         0.013        &        0.004    &        0.030     \\\\\n\\bottomrule\n\\end{tabular}\n\\begin{tabular}{lclc}\n\\textbf{Omnibus:}       &  5.982 & \\textbf{  Durbin-Watson:     } &    2.038  \\\\\n\\textbf{Prob(Omnibus):} &  0.050 & \\textbf{  Jarque-Bera (JB):  } &    7.039  \\\\\n\\textbf{Skew:}          & -0.232 & \\textbf{  Prob(JB):          } &   0.0296  \\\\\n\\textbf{Kurtosis:}      &  3.794 & \\textbf{  Cond. No.          } &     12.6  \\\\\n\\bottomrule\n\\end{tabular}\n%\\caption{OLS Regression Results}\n\\end{center}\n\nNotes: \\newline\n [1] R² is computed without centering (uncentered) since the model does not contain a constant. \\newline\n [2] Standard Errors assume that the covariance matrix of the errors is correctly specified."
     },
     "execution_count": 295,
     "metadata": {},
     "output_type": "execute_result"
    }
   ],
   "source": [
    "model.summary() # Model bilgilerini veriyor"
   ],
   "metadata": {
    "collapsed": false,
    "ExecuteTime": {
     "end_time": "2024-02-25T15:27:42.929953500Z",
     "start_time": "2024-02-25T15:27:42.717182200Z"
    }
   },
   "id": "3e57721165fe2bc",
   "execution_count": 295
  },
  {
   "cell_type": "code",
   "outputs": [],
   "source": [
    "## scikit learn ile model kurmak"
   ],
   "metadata": {
    "collapsed": false,
    "ExecuteTime": {
     "end_time": "2024-02-25T15:27:43.037202400Z",
     "start_time": "2024-02-25T15:27:42.876482700Z"
    }
   },
   "id": "71bd8d6dea2b2426",
   "execution_count": 296
  },
  {
   "cell_type": "code",
   "outputs": [],
   "source": [
    "from sklearn.linear_model import LinearRegression\n",
    "lm = LinearRegression()"
   ],
   "metadata": {
    "collapsed": false,
    "ExecuteTime": {
     "end_time": "2024-02-25T15:27:43.170834700Z",
     "start_time": "2024-02-25T15:27:43.006166500Z"
    }
   },
   "id": "956964738529f1e1",
   "execution_count": 297
  },
  {
   "cell_type": "code",
   "outputs": [],
   "source": [
    "model = lm.fit(x,y)"
   ],
   "metadata": {
    "collapsed": false,
    "ExecuteTime": {
     "end_time": "2024-02-25T15:27:43.319493Z",
     "start_time": "2024-02-25T15:27:43.150304700Z"
    }
   },
   "id": "bf907bac8626585a",
   "execution_count": 298
  },
  {
   "cell_type": "code",
   "outputs": [
    {
     "data": {
      "text/plain": "array([2.93888937])"
     },
     "execution_count": 299,
     "metadata": {},
     "output_type": "execute_result"
    }
   ],
   "source": [
    "model.intercept_"
   ],
   "metadata": {
    "collapsed": false,
    "ExecuteTime": {
     "end_time": "2024-02-25T15:27:43.384097300Z",
     "start_time": "2024-02-25T15:27:43.289961500Z"
    }
   },
   "id": "3484afb978a7f3ef",
   "execution_count": 299
  },
  {
   "cell_type": "code",
   "outputs": [
    {
     "data": {
      "text/plain": "array([[ 0.04576465,  0.18853002, -0.00103749]])"
     },
     "execution_count": 300,
     "metadata": {},
     "output_type": "execute_result"
    }
   ],
   "source": [
    "model.coef_"
   ],
   "metadata": {
    "collapsed": false,
    "ExecuteTime": {
     "end_time": "2024-02-25T15:27:43.516629300Z",
     "start_time": "2024-02-25T15:27:43.367062100Z"
    }
   },
   "id": "60e7e08457535c21",
   "execution_count": 300
  },
  {
   "cell_type": "markdown",
   "source": [
    "2.2-Tahmin"
   ],
   "metadata": {
    "collapsed": false
   },
   "id": "5fd44cae47add83c"
  },
  {
   "cell_type": "code",
   "outputs": [
    {
     "data": {
      "text/plain": "5.8999999999999995"
     },
     "execution_count": 301,
     "metadata": {},
     "output_type": "execute_result"
    }
   ],
   "source": [
    "# EL İLE HESAPLAMA\n",
    "# Sales = 2.94 + TV*0.04 + radio*0.18 - newspaper*0.001\n",
    "# 30 birim Tv, 10 birim Radio, 40birim Gazete\n",
    "Sales = 2.94 + 30*0.04 + 10*0.18 - 40*0.001\n",
    "Sales"
   ],
   "metadata": {
    "collapsed": false,
    "ExecuteTime": {
     "end_time": "2024-02-25T15:27:43.675675700Z",
     "start_time": "2024-02-25T15:27:43.503672200Z"
    }
   },
   "id": "b378cb7038a8cb8",
   "execution_count": 301
  },
  {
   "cell_type": "code",
   "outputs": [],
   "source": [
    "yeniVeri = [[30],[10],[40]]"
   ],
   "metadata": {
    "collapsed": false,
    "ExecuteTime": {
     "end_time": "2024-02-25T15:27:43.755650Z",
     "start_time": "2024-02-25T15:27:43.590749Z"
    }
   },
   "id": "e60ba1f92c9b7e1e",
   "execution_count": 302
  },
  {
   "cell_type": "code",
   "outputs": [],
   "source": [
    "yeniVeri = pd.DataFrame(yeniVeri).T # T transpoz için kullandık"
   ],
   "metadata": {
    "collapsed": false,
    "ExecuteTime": {
     "end_time": "2024-02-25T15:27:43.871328800Z",
     "start_time": "2024-02-25T15:27:43.755650Z"
    }
   },
   "id": "935dfb365626384a",
   "execution_count": 303
  },
  {
   "cell_type": "code",
   "outputs": [
    {
     "data": {
      "text/plain": "    0   1   2\n0  30  10  40",
      "text/html": "<div>\n<style scoped>\n    .dataframe tbody tr th:only-of-type {\n        vertical-align: middle;\n    }\n\n    .dataframe tbody tr th {\n        vertical-align: top;\n    }\n\n    .dataframe thead th {\n        text-align: right;\n    }\n</style>\n<table border=\"1\" class=\"dataframe\">\n  <thead>\n    <tr style=\"text-align: right;\">\n      <th></th>\n      <th>0</th>\n      <th>1</th>\n      <th>2</th>\n    </tr>\n  </thead>\n  <tbody>\n    <tr>\n      <th>0</th>\n      <td>30</td>\n      <td>10</td>\n      <td>40</td>\n    </tr>\n  </tbody>\n</table>\n</div>"
     },
     "execution_count": 304,
     "metadata": {},
     "output_type": "execute_result"
    }
   ],
   "source": [
    "yeniVeri"
   ],
   "metadata": {
    "collapsed": false,
    "ExecuteTime": {
     "end_time": "2024-02-25T15:27:43.956421100Z",
     "start_time": "2024-02-25T15:27:43.848889300Z"
    }
   },
   "id": "63305fb5be5214f4",
   "execution_count": 304
  },
  {
   "cell_type": "code",
   "outputs": [
    {
     "name": "stderr",
     "output_type": "stream",
     "text": [
      "C:\\Users\\arda_\\anaconda3\\lib\\site-packages\\sklearn\\base.py:464: UserWarning: X does not have valid feature names, but LinearRegression was fitted with feature names\n",
      "  warnings.warn(\n"
     ]
    },
    {
     "data": {
      "text/plain": "array([[6.15562918]])"
     },
     "execution_count": 305,
     "metadata": {},
     "output_type": "execute_result"
    }
   ],
   "source": [
    "model.predict(yeniVeri)"
   ],
   "metadata": {
    "collapsed": false,
    "ExecuteTime": {
     "end_time": "2024-02-25T15:27:44.091325800Z",
     "start_time": "2024-02-25T15:27:43.919498800Z"
    }
   },
   "id": "d2d3ba3164744216",
   "execution_count": 305
  },
  {
   "cell_type": "code",
   "outputs": [],
   "source": [
    "from sklearn.metrics import mean_squared_error # Model başarısını ölçmek için kullanılır"
   ],
   "metadata": {
    "collapsed": false,
    "ExecuteTime": {
     "end_time": "2024-02-25T15:27:44.264011700Z",
     "start_time": "2024-02-25T15:27:44.039028700Z"
    }
   },
   "id": "fe82fa502a6313e5",
   "execution_count": 306
  },
  {
   "cell_type": "code",
   "outputs": [
    {
     "data": {
      "text/plain": "   sales\n0   22.1\n1   10.4\n2    9.3\n3   18.5\n4   12.9",
      "text/html": "<div>\n<style scoped>\n    .dataframe tbody tr th:only-of-type {\n        vertical-align: middle;\n    }\n\n    .dataframe tbody tr th {\n        vertical-align: top;\n    }\n\n    .dataframe thead th {\n        text-align: right;\n    }\n</style>\n<table border=\"1\" class=\"dataframe\">\n  <thead>\n    <tr style=\"text-align: right;\">\n      <th></th>\n      <th>sales</th>\n    </tr>\n  </thead>\n  <tbody>\n    <tr>\n      <th>0</th>\n      <td>22.1</td>\n    </tr>\n    <tr>\n      <th>1</th>\n      <td>10.4</td>\n    </tr>\n    <tr>\n      <th>2</th>\n      <td>9.3</td>\n    </tr>\n    <tr>\n      <th>3</th>\n      <td>18.5</td>\n    </tr>\n    <tr>\n      <th>4</th>\n      <td>12.9</td>\n    </tr>\n  </tbody>\n</table>\n</div>"
     },
     "execution_count": 307,
     "metadata": {},
     "output_type": "execute_result"
    }
   ],
   "source": [
    "y.head()"
   ],
   "metadata": {
    "collapsed": false,
    "ExecuteTime": {
     "end_time": "2024-02-25T15:27:44.478124300Z",
     "start_time": "2024-02-25T15:27:44.251054500Z"
    }
   },
   "id": "c9f586807623a029",
   "execution_count": 307
  },
  {
   "cell_type": "code",
   "outputs": [
    {
     "data": {
      "text/plain": "array([[20.52397441],\n       [12.33785482],\n       [12.30767078],\n       [17.59782951],\n       [13.18867186],\n       [12.47834763],\n       [11.72975995],\n       [12.12295317],\n       [ 3.72734086],\n       [12.55084872]])"
     },
     "execution_count": 308,
     "metadata": {},
     "output_type": "execute_result"
    }
   ],
   "source": [
    "model.predict(x)[0:10]"
   ],
   "metadata": {
    "collapsed": false,
    "ExecuteTime": {
     "end_time": "2024-02-25T15:27:44.551243Z",
     "start_time": "2024-02-25T15:27:44.401497900Z"
    }
   },
   "id": "f664b0e13d4778b9",
   "execution_count": 308
  },
  {
   "cell_type": "code",
   "outputs": [],
   "source": [
    "mse = mean_squared_error(y,model.predict(x)) # sol taraf gerçek değerler sağ taraf tahmin edilen değerler"
   ],
   "metadata": {
    "collapsed": false,
    "ExecuteTime": {
     "end_time": "2024-02-25T15:27:44.785626200Z",
     "start_time": "2024-02-25T15:27:44.550252100Z"
    }
   },
   "id": "61879e1c6f9233a8",
   "execution_count": 309
  },
  {
   "cell_type": "code",
   "outputs": [
    {
     "data": {
      "text/plain": "2.784126314510936"
     },
     "execution_count": 310,
     "metadata": {},
     "output_type": "execute_result"
    }
   ],
   "source": [
    "mse"
   ],
   "metadata": {
    "collapsed": false,
    "ExecuteTime": {
     "end_time": "2024-02-25T15:27:44.900564100Z",
     "start_time": "2024-02-25T15:27:44.744212800Z"
    }
   },
   "id": "e6a5308f9783311a",
   "execution_count": 310
  },
  {
   "cell_type": "code",
   "outputs": [],
   "source": [
    "rmse = np.sqrt(mse)"
   ],
   "metadata": {
    "collapsed": false,
    "ExecuteTime": {
     "end_time": "2024-02-25T15:27:44.995191100Z",
     "start_time": "2024-02-25T15:27:44.883004500Z"
    }
   },
   "id": "570e74090ee8eeef",
   "execution_count": 311
  },
  {
   "cell_type": "code",
   "outputs": [
    {
     "data": {
      "text/plain": "1.6685701407225697"
     },
     "execution_count": 312,
     "metadata": {},
     "output_type": "execute_result"
    }
   ],
   "source": [
    "rmse"
   ],
   "metadata": {
    "collapsed": false,
    "ExecuteTime": {
     "end_time": "2024-02-25T15:27:45.070825100Z",
     "start_time": "2024-02-25T15:27:44.981559300Z"
    }
   },
   "id": "cae8814ac34fc215",
   "execution_count": 312
  },
  {
   "cell_type": "markdown",
   "source": [
    "2.3-Model Tuning"
   ],
   "metadata": {
    "collapsed": false
   },
   "id": "138fa8e6faa840b9"
  },
  {
   "cell_type": "code",
   "outputs": [
    {
     "data": {
      "text/plain": "      TV  radio  newspaper\n0  230.1   37.8       69.2\n1   44.5   39.3       45.1\n2   17.2   45.9       69.3\n3  151.5   41.3       58.5\n4  180.8   10.8       58.4",
      "text/html": "<div>\n<style scoped>\n    .dataframe tbody tr th:only-of-type {\n        vertical-align: middle;\n    }\n\n    .dataframe tbody tr th {\n        vertical-align: top;\n    }\n\n    .dataframe thead th {\n        text-align: right;\n    }\n</style>\n<table border=\"1\" class=\"dataframe\">\n  <thead>\n    <tr style=\"text-align: right;\">\n      <th></th>\n      <th>TV</th>\n      <th>radio</th>\n      <th>newspaper</th>\n    </tr>\n  </thead>\n  <tbody>\n    <tr>\n      <th>0</th>\n      <td>230.1</td>\n      <td>37.8</td>\n      <td>69.2</td>\n    </tr>\n    <tr>\n      <th>1</th>\n      <td>44.5</td>\n      <td>39.3</td>\n      <td>45.1</td>\n    </tr>\n    <tr>\n      <th>2</th>\n      <td>17.2</td>\n      <td>45.9</td>\n      <td>69.3</td>\n    </tr>\n    <tr>\n      <th>3</th>\n      <td>151.5</td>\n      <td>41.3</td>\n      <td>58.5</td>\n    </tr>\n    <tr>\n      <th>4</th>\n      <td>180.8</td>\n      <td>10.8</td>\n      <td>58.4</td>\n    </tr>\n  </tbody>\n</table>\n</div>"
     },
     "execution_count": 313,
     "metadata": {},
     "output_type": "execute_result"
    }
   ],
   "source": [
    "x.head()"
   ],
   "metadata": {
    "collapsed": false,
    "ExecuteTime": {
     "end_time": "2024-02-25T15:27:45.205994400Z",
     "start_time": "2024-02-25T15:27:45.059772300Z"
    }
   },
   "id": "534dbf91f0040189",
   "execution_count": 313
  },
  {
   "cell_type": "code",
   "outputs": [
    {
     "data": {
      "text/plain": "   sales\n0   22.1\n1   10.4\n2    9.3\n3   18.5\n4   12.9",
      "text/html": "<div>\n<style scoped>\n    .dataframe tbody tr th:only-of-type {\n        vertical-align: middle;\n    }\n\n    .dataframe tbody tr th {\n        vertical-align: top;\n    }\n\n    .dataframe thead th {\n        text-align: right;\n    }\n</style>\n<table border=\"1\" class=\"dataframe\">\n  <thead>\n    <tr style=\"text-align: right;\">\n      <th></th>\n      <th>sales</th>\n    </tr>\n  </thead>\n  <tbody>\n    <tr>\n      <th>0</th>\n      <td>22.1</td>\n    </tr>\n    <tr>\n      <th>1</th>\n      <td>10.4</td>\n    </tr>\n    <tr>\n      <th>2</th>\n      <td>9.3</td>\n    </tr>\n    <tr>\n      <th>3</th>\n      <td>18.5</td>\n    </tr>\n    <tr>\n      <th>4</th>\n      <td>12.9</td>\n    </tr>\n  </tbody>\n</table>\n</div>"
     },
     "execution_count": 314,
     "metadata": {},
     "output_type": "execute_result"
    }
   ],
   "source": [
    "y.head()"
   ],
   "metadata": {
    "collapsed": false,
    "ExecuteTime": {
     "end_time": "2024-02-25T15:27:45.370204600Z",
     "start_time": "2024-02-25T15:27:45.206991100Z"
    }
   },
   "id": "910c748c21a64627",
   "execution_count": 314
  },
  {
   "cell_type": "code",
   "outputs": [],
   "source": [
    "# sınama seti\n",
    "from sklearn.model_selection import train_test_split"
   ],
   "metadata": {
    "collapsed": false,
    "ExecuteTime": {
     "end_time": "2024-02-25T15:27:45.452900500Z",
     "start_time": "2024-02-25T15:27:45.281585200Z"
    }
   },
   "id": "16e1bd289fd3e2a6",
   "execution_count": 315
  },
  {
   "cell_type": "code",
   "outputs": [],
   "source": [
    "x_train, x_test, y_train, y_test = train_test_split(x, y, test_size=0.33,random_state=1)"
   ],
   "metadata": {
    "collapsed": false,
    "ExecuteTime": {
     "end_time": "2024-02-25T15:27:45.655007300Z",
     "start_time": "2024-02-25T15:27:45.435848500Z"
    }
   },
   "id": "10b2971724624f7c",
   "execution_count": 316
  },
  {
   "cell_type": "code",
   "outputs": [
    {
     "data": {
      "text/plain": "        TV  radio  newspaper\n127   80.2    0.0        9.2\n105  137.9   46.4       59.0\n48   227.2   15.8       49.9\n66    31.5   24.6        2.2\n54   262.7   28.8       15.9",
      "text/html": "<div>\n<style scoped>\n    .dataframe tbody tr th:only-of-type {\n        vertical-align: middle;\n    }\n\n    .dataframe tbody tr th {\n        vertical-align: top;\n    }\n\n    .dataframe thead th {\n        text-align: right;\n    }\n</style>\n<table border=\"1\" class=\"dataframe\">\n  <thead>\n    <tr style=\"text-align: right;\">\n      <th></th>\n      <th>TV</th>\n      <th>radio</th>\n      <th>newspaper</th>\n    </tr>\n  </thead>\n  <tbody>\n    <tr>\n      <th>127</th>\n      <td>80.2</td>\n      <td>0.0</td>\n      <td>9.2</td>\n    </tr>\n    <tr>\n      <th>105</th>\n      <td>137.9</td>\n      <td>46.4</td>\n      <td>59.0</td>\n    </tr>\n    <tr>\n      <th>48</th>\n      <td>227.2</td>\n      <td>15.8</td>\n      <td>49.9</td>\n    </tr>\n    <tr>\n      <th>66</th>\n      <td>31.5</td>\n      <td>24.6</td>\n      <td>2.2</td>\n    </tr>\n    <tr>\n      <th>54</th>\n      <td>262.7</td>\n      <td>28.8</td>\n      <td>15.9</td>\n    </tr>\n  </tbody>\n</table>\n</div>"
     },
     "execution_count": 317,
     "metadata": {},
     "output_type": "execute_result"
    }
   ],
   "source": [
    "x_train.head()"
   ],
   "metadata": {
    "collapsed": false,
    "ExecuteTime": {
     "end_time": "2024-02-25T15:27:45.835700900Z",
     "start_time": "2024-02-25T15:27:45.649002600Z"
    }
   },
   "id": "2e37d31c8be45fba",
   "execution_count": 317
  },
  {
   "cell_type": "code",
   "outputs": [
    {
     "data": {
      "text/plain": "     sales\n127    8.8\n105   19.2\n48    14.8\n66     9.5\n54    20.2",
      "text/html": "<div>\n<style scoped>\n    .dataframe tbody tr th:only-of-type {\n        vertical-align: middle;\n    }\n\n    .dataframe tbody tr th {\n        vertical-align: top;\n    }\n\n    .dataframe thead th {\n        text-align: right;\n    }\n</style>\n<table border=\"1\" class=\"dataframe\">\n  <thead>\n    <tr style=\"text-align: right;\">\n      <th></th>\n      <th>sales</th>\n    </tr>\n  </thead>\n  <tbody>\n    <tr>\n      <th>127</th>\n      <td>8.8</td>\n    </tr>\n    <tr>\n      <th>105</th>\n      <td>19.2</td>\n    </tr>\n    <tr>\n      <th>48</th>\n      <td>14.8</td>\n    </tr>\n    <tr>\n      <th>66</th>\n      <td>9.5</td>\n    </tr>\n    <tr>\n      <th>54</th>\n      <td>20.2</td>\n    </tr>\n  </tbody>\n</table>\n</div>"
     },
     "execution_count": 318,
     "metadata": {},
     "output_type": "execute_result"
    }
   ],
   "source": [
    "y_train.head()"
   ],
   "metadata": {
    "collapsed": false,
    "ExecuteTime": {
     "end_time": "2024-02-25T15:27:45.984380Z",
     "start_time": "2024-02-25T15:27:45.814693800Z"
    }
   },
   "id": "c7f4c044353caf9f",
   "execution_count": 318
  },
  {
   "cell_type": "code",
   "outputs": [
    {
     "data": {
      "text/plain": "        TV  radio  newspaper\n58   210.8   49.6       37.7\n40   202.5   22.3       31.6\n34    95.7    1.4        7.4\n102  280.2   10.1       21.4\n184  253.8   21.3       30.0",
      "text/html": "<div>\n<style scoped>\n    .dataframe tbody tr th:only-of-type {\n        vertical-align: middle;\n    }\n\n    .dataframe tbody tr th {\n        vertical-align: top;\n    }\n\n    .dataframe thead th {\n        text-align: right;\n    }\n</style>\n<table border=\"1\" class=\"dataframe\">\n  <thead>\n    <tr style=\"text-align: right;\">\n      <th></th>\n      <th>TV</th>\n      <th>radio</th>\n      <th>newspaper</th>\n    </tr>\n  </thead>\n  <tbody>\n    <tr>\n      <th>58</th>\n      <td>210.8</td>\n      <td>49.6</td>\n      <td>37.7</td>\n    </tr>\n    <tr>\n      <th>40</th>\n      <td>202.5</td>\n      <td>22.3</td>\n      <td>31.6</td>\n    </tr>\n    <tr>\n      <th>34</th>\n      <td>95.7</td>\n      <td>1.4</td>\n      <td>7.4</td>\n    </tr>\n    <tr>\n      <th>102</th>\n      <td>280.2</td>\n      <td>10.1</td>\n      <td>21.4</td>\n    </tr>\n    <tr>\n      <th>184</th>\n      <td>253.8</td>\n      <td>21.3</td>\n      <td>30.0</td>\n    </tr>\n  </tbody>\n</table>\n</div>"
     },
     "execution_count": 319,
     "metadata": {},
     "output_type": "execute_result"
    }
   ],
   "source": [
    "x_test.head()"
   ],
   "metadata": {
    "collapsed": false,
    "ExecuteTime": {
     "end_time": "2024-02-25T15:27:46.113447200Z",
     "start_time": "2024-02-25T15:27:45.962768300Z"
    }
   },
   "id": "2f4181ec9625f81e",
   "execution_count": 319
  },
  {
   "cell_type": "code",
   "outputs": [
    {
     "data": {
      "text/plain": "     sales\n58    23.8\n40    16.6\n34     9.5\n102   14.8\n184   17.6",
      "text/html": "<div>\n<style scoped>\n    .dataframe tbody tr th:only-of-type {\n        vertical-align: middle;\n    }\n\n    .dataframe tbody tr th {\n        vertical-align: top;\n    }\n\n    .dataframe thead th {\n        text-align: right;\n    }\n</style>\n<table border=\"1\" class=\"dataframe\">\n  <thead>\n    <tr style=\"text-align: right;\">\n      <th></th>\n      <th>sales</th>\n    </tr>\n  </thead>\n  <tbody>\n    <tr>\n      <th>58</th>\n      <td>23.8</td>\n    </tr>\n    <tr>\n      <th>40</th>\n      <td>16.6</td>\n    </tr>\n    <tr>\n      <th>34</th>\n      <td>9.5</td>\n    </tr>\n    <tr>\n      <th>102</th>\n      <td>14.8</td>\n    </tr>\n    <tr>\n      <th>184</th>\n      <td>17.6</td>\n    </tr>\n  </tbody>\n</table>\n</div>"
     },
     "execution_count": 320,
     "metadata": {},
     "output_type": "execute_result"
    }
   ],
   "source": [
    "y_test.head()"
   ],
   "metadata": {
    "collapsed": false,
    "ExecuteTime": {
     "end_time": "2024-02-25T15:27:46.321617100Z",
     "start_time": "2024-02-25T15:27:46.095994Z"
    }
   },
   "id": "4ba47c00aebcc720",
   "execution_count": 320
  },
  {
   "cell_type": "code",
   "outputs": [],
   "source": [
    "lm = LinearRegression()"
   ],
   "metadata": {
    "collapsed": false,
    "ExecuteTime": {
     "end_time": "2024-02-25T15:27:46.487551200Z",
     "start_time": "2024-02-25T15:27:46.302169100Z"
    }
   },
   "id": "82e7c69f30b6a156",
   "execution_count": 321
  },
  {
   "cell_type": "code",
   "outputs": [],
   "source": [
    "model = lm.fit(x_train, y_train)"
   ],
   "metadata": {
    "collapsed": false,
    "ExecuteTime": {
     "end_time": "2024-02-25T15:27:46.705517600Z",
     "start_time": "2024-02-25T15:27:46.470046900Z"
    }
   },
   "id": "46d7d08612203453",
   "execution_count": 322
  },
  {
   "cell_type": "code",
   "outputs": [
    {
     "data": {
      "text/plain": "LinearRegression()",
      "text/html": "<style>#sk-container-id-12 {color: black;}#sk-container-id-12 pre{padding: 0;}#sk-container-id-12 div.sk-toggleable {background-color: white;}#sk-container-id-12 label.sk-toggleable__label {cursor: pointer;display: block;width: 100%;margin-bottom: 0;padding: 0.3em;box-sizing: border-box;text-align: center;}#sk-container-id-12 label.sk-toggleable__label-arrow:before {content: \"▸\";float: left;margin-right: 0.25em;color: #696969;}#sk-container-id-12 label.sk-toggleable__label-arrow:hover:before {color: black;}#sk-container-id-12 div.sk-estimator:hover label.sk-toggleable__label-arrow:before {color: black;}#sk-container-id-12 div.sk-toggleable__content {max-height: 0;max-width: 0;overflow: hidden;text-align: left;background-color: #f0f8ff;}#sk-container-id-12 div.sk-toggleable__content pre {margin: 0.2em;color: black;border-radius: 0.25em;background-color: #f0f8ff;}#sk-container-id-12 input.sk-toggleable__control:checked~div.sk-toggleable__content {max-height: 200px;max-width: 100%;overflow: auto;}#sk-container-id-12 input.sk-toggleable__control:checked~label.sk-toggleable__label-arrow:before {content: \"▾\";}#sk-container-id-12 div.sk-estimator input.sk-toggleable__control:checked~label.sk-toggleable__label {background-color: #d4ebff;}#sk-container-id-12 div.sk-label input.sk-toggleable__control:checked~label.sk-toggleable__label {background-color: #d4ebff;}#sk-container-id-12 input.sk-hidden--visually {border: 0;clip: rect(1px 1px 1px 1px);clip: rect(1px, 1px, 1px, 1px);height: 1px;margin: -1px;overflow: hidden;padding: 0;position: absolute;width: 1px;}#sk-container-id-12 div.sk-estimator {font-family: monospace;background-color: #f0f8ff;border: 1px dotted black;border-radius: 0.25em;box-sizing: border-box;margin-bottom: 0.5em;}#sk-container-id-12 div.sk-estimator:hover {background-color: #d4ebff;}#sk-container-id-12 div.sk-parallel-item::after {content: \"\";width: 100%;border-bottom: 1px solid gray;flex-grow: 1;}#sk-container-id-12 div.sk-label:hover label.sk-toggleable__label {background-color: #d4ebff;}#sk-container-id-12 div.sk-serial::before {content: \"\";position: absolute;border-left: 1px solid gray;box-sizing: border-box;top: 0;bottom: 0;left: 50%;z-index: 0;}#sk-container-id-12 div.sk-serial {display: flex;flex-direction: column;align-items: center;background-color: white;padding-right: 0.2em;padding-left: 0.2em;position: relative;}#sk-container-id-12 div.sk-item {position: relative;z-index: 1;}#sk-container-id-12 div.sk-parallel {display: flex;align-items: stretch;justify-content: center;background-color: white;position: relative;}#sk-container-id-12 div.sk-item::before, #sk-container-id-12 div.sk-parallel-item::before {content: \"\";position: absolute;border-left: 1px solid gray;box-sizing: border-box;top: 0;bottom: 0;left: 50%;z-index: -1;}#sk-container-id-12 div.sk-parallel-item {display: flex;flex-direction: column;z-index: 1;position: relative;background-color: white;}#sk-container-id-12 div.sk-parallel-item:first-child::after {align-self: flex-end;width: 50%;}#sk-container-id-12 div.sk-parallel-item:last-child::after {align-self: flex-start;width: 50%;}#sk-container-id-12 div.sk-parallel-item:only-child::after {width: 0;}#sk-container-id-12 div.sk-dashed-wrapped {border: 1px dashed gray;margin: 0 0.4em 0.5em 0.4em;box-sizing: border-box;padding-bottom: 0.4em;background-color: white;}#sk-container-id-12 div.sk-label label {font-family: monospace;font-weight: bold;display: inline-block;line-height: 1.2em;}#sk-container-id-12 div.sk-label-container {text-align: center;}#sk-container-id-12 div.sk-container {/* jupyter's `normalize.less` sets `[hidden] { display: none; }` but bootstrap.min.css set `[hidden] { display: none !important; }` so we also need the `!important` here to be able to override the default hidden behavior on the sphinx rendered scikit-learn.org. See: https://github.com/scikit-learn/scikit-learn/issues/21755 */display: inline-block !important;position: relative;}#sk-container-id-12 div.sk-text-repr-fallback {display: none;}</style><div id=\"sk-container-id-12\" class=\"sk-top-container\"><div class=\"sk-text-repr-fallback\"><pre>LinearRegression()</pre><b>In a Jupyter environment, please rerun this cell to show the HTML representation or trust the notebook. <br />On GitHub, the HTML representation is unable to render, please try loading this page with nbviewer.org.</b></div><div class=\"sk-container\" hidden><div class=\"sk-item\"><div class=\"sk-estimator sk-toggleable\"><input class=\"sk-toggleable__control sk-hidden--visually\" id=\"sk-estimator-id-12\" type=\"checkbox\" checked><label for=\"sk-estimator-id-12\" class=\"sk-toggleable__label sk-toggleable__label-arrow\">LinearRegression</label><div class=\"sk-toggleable__content\"><pre>LinearRegression()</pre></div></div></div></div></div>"
     },
     "execution_count": 323,
     "metadata": {},
     "output_type": "execute_result"
    }
   ],
   "source": [
    "model"
   ],
   "metadata": {
    "collapsed": false,
    "ExecuteTime": {
     "end_time": "2024-02-25T15:27:46.862050400Z",
     "start_time": "2024-02-25T15:27:46.689060700Z"
    }
   },
   "id": "cb8bbb643f6725d6",
   "execution_count": 323
  },
  {
   "cell_type": "code",
   "outputs": [
    {
     "data": {
      "text/plain": "1.7441015348540263"
     },
     "execution_count": 324,
     "metadata": {},
     "output_type": "execute_result"
    }
   ],
   "source": [
    "# Eğitim Hatası\n",
    "np.sqrt(mean_squared_error(y_train, model.predict(x_train)))"
   ],
   "metadata": {
    "collapsed": false,
    "ExecuteTime": {
     "end_time": "2024-02-25T15:27:47.015858900Z",
     "start_time": "2024-02-25T15:27:46.781068900Z"
    }
   },
   "id": "108f24557d8458c9",
   "execution_count": 324
  },
  {
   "cell_type": "code",
   "outputs": [
    {
     "data": {
      "text/plain": "1.5180919240731634"
     },
     "execution_count": 325,
     "metadata": {},
     "output_type": "execute_result"
    }
   ],
   "source": [
    "# Test Hatası\n",
    "np.sqrt(mean_squared_error(y_test, model.predict(x_test)))"
   ],
   "metadata": {
    "collapsed": false,
    "ExecuteTime": {
     "end_time": "2024-02-25T15:27:47.179074500Z",
     "start_time": "2024-02-25T15:27:46.998351300Z"
    }
   },
   "id": "cc54098fa95d4f83",
   "execution_count": 325
  },
  {
   "cell_type": "code",
   "outputs": [],
   "source": [
    "# K-Katlı cv\n",
    "from sklearn.model_selection import cross_val_score"
   ],
   "metadata": {
    "collapsed": false,
    "ExecuteTime": {
     "end_time": "2024-02-25T15:27:47.240178100Z",
     "start_time": "2024-02-25T15:27:47.141519Z"
    }
   },
   "id": "6fdd8e212a668a1f",
   "execution_count": 326
  },
  {
   "cell_type": "code",
   "outputs": [
    {
     "data": {
      "text/plain": "array([-3.19693201, -2.10440566, -3.61810769, -7.80273436, -2.14630952,\n       -3.27924731, -3.07534883, -2.62218671, -1.08148537, -4.09113623])"
     },
     "execution_count": 327,
     "metadata": {},
     "output_type": "execute_result"
    }
   ],
   "source": [
    "cross_val_score(model, x_train, y_train, cv=10, scoring='neg_mean_squared_error') # cv katsayısnı belirler"
   ],
   "metadata": {
    "collapsed": false,
    "ExecuteTime": {
     "end_time": "2024-02-25T15:27:47.396376400Z",
     "start_time": "2024-02-25T15:27:47.227155300Z"
    }
   },
   "id": "749bbc1705db87fa",
   "execution_count": 327
  },
  {
   "cell_type": "code",
   "outputs": [],
   "source": [
    "# cv mse\n",
    "ortalamaHata = np.mean(-cross_val_score(model, x_train, y_train, cv=10, scoring='neg_mean_squared_error'))"
   ],
   "metadata": {
    "collapsed": false,
    "ExecuteTime": {
     "end_time": "2024-02-25T15:27:47.477931600Z",
     "start_time": "2024-02-25T15:27:47.351735200Z"
    }
   },
   "id": "f22c3dab73534094",
   "execution_count": 328
  },
  {
   "cell_type": "code",
   "outputs": [
    {
     "data": {
      "text/plain": "3.301789369198178"
     },
     "execution_count": 329,
     "metadata": {},
     "output_type": "execute_result"
    }
   ],
   "source": [
    "ortalamaHata"
   ],
   "metadata": {
    "collapsed": false,
    "ExecuteTime": {
     "end_time": "2024-02-25T15:27:47.586212700Z",
     "start_time": "2024-02-25T15:27:47.421423400Z"
    }
   },
   "id": "f6e966371cc74cc4",
   "execution_count": 329
  },
  {
   "cell_type": "code",
   "outputs": [],
   "source": [
    "# cv rmse\n",
    "ortalamaKareHata = np.sqrt(np.mean(-cross_val_score(model, x_train, y_train, cv=10, scoring='neg_mean_squared_error')))"
   ],
   "metadata": {
    "collapsed": false,
    "ExecuteTime": {
     "end_time": "2024-02-25T15:27:47.725446500Z",
     "start_time": "2024-02-25T15:27:47.577731800Z"
    }
   },
   "id": "9faf35c693a5b9cf",
   "execution_count": 330
  },
  {
   "cell_type": "code",
   "outputs": [
    {
     "data": {
      "text/plain": "1.8170826533755084"
     },
     "execution_count": 331,
     "metadata": {},
     "output_type": "execute_result"
    }
   ],
   "source": [
    "ortalamaKareHata"
   ],
   "metadata": {
    "collapsed": false,
    "ExecuteTime": {
     "end_time": "2024-02-25T15:27:47.784460Z",
     "start_time": "2024-02-25T15:27:47.685336Z"
    }
   },
   "id": "8253163b10c41366",
   "execution_count": 331
  },
  {
   "cell_type": "markdown",
   "source": [
    "3-RİDGE REGRESYON"
   ],
   "metadata": {
    "collapsed": false
   },
   "id": "f24ff906ad2d8525"
  },
  {
   "cell_type": "code",
   "outputs": [],
   "source": [
    "# GEREKLİ KÜTÜPHANELER\n",
    "import numpy as np\n",
    "import pandas as pd\n",
    "import matplotlib.pyplot as plt\n",
    "import seaborn as sns\n",
    "from sklearn.linear_model import Ridge\n",
    "from sklearn.model_selection import train_test_split\n",
    "from sklearn.metrics import mean_squared_error, r2_score\n",
    "from sklearn import model_selection\n",
    "from sklearn.linear_model import RidgeCV\n",
    "from sklearn.preprocessing import StandardScaler"
   ],
   "metadata": {
    "collapsed": false,
    "ExecuteTime": {
     "end_time": "2024-02-25T15:27:47.919636800Z",
     "start_time": "2024-02-25T15:27:47.769417900Z"
    }
   },
   "id": "5bfcb4792c5d0a7d",
   "execution_count": 332
  },
  {
   "cell_type": "markdown",
   "source": [
    "3.1-Veri Seti"
   ],
   "metadata": {
    "collapsed": false
   },
   "id": "18e1e6d9117dfa12"
  },
  {
   "cell_type": "code",
   "outputs": [],
   "source": [
    "df = pd.read_csv(\"Hitters.csv\")"
   ],
   "metadata": {
    "collapsed": false,
    "ExecuteTime": {
     "end_time": "2024-02-25T15:27:48.002710700Z",
     "start_time": "2024-02-25T15:27:47.878085300Z"
    }
   },
   "id": "184f68f8e1049852",
   "execution_count": 333
  },
  {
   "cell_type": "code",
   "outputs": [
    {
     "data": {
      "text/plain": "   AtBat  Hits  HmRun  Runs  RBI  Walks  Years  CAtBat  CHits  CHmRun  CRuns  \\\n0    293    66      1    30   29     14      1     293     66       1     30   \n1    315    81      7    24   38     39     14    3449    835      69    321   \n2    479   130     18    66   72     76      3    1624    457      63    224   \n3    496   141     20    65   78     37     11    5628   1575     225    828   \n4    321    87     10    39   42     30      2     396    101      12     48   \n5    594   169      4    74   51     35     11    4408   1133      19    501   \n6    185    37      1    23    8     21      2     214     42       1     30   \n7    298    73      0    24   24      7      3     509    108       0     41   \n8    323    81      6    26   32      8      2     341     86       6     32   \n9    401    92     17    49   66     65     13    5206   1332     253    784   \n\n   CRBI  CWalks League Division  PutOuts  Assists  Errors  Salary NewLeague  \n0    29      14      A        E      446       33      20     NaN         A  \n1   414     375      N        W      632       43      10   475.0         N  \n2   266     263      A        W      880       82      14   480.0         A  \n3   838     354      N        E      200       11       3   500.0         N  \n4    46      33      N        E      805       40       4    91.5         N  \n5   336     194      A        W      282      421      25   750.0         A  \n6     9      24      N        E       76      127       7    70.0         A  \n7    37      12      A        W      121      283       9   100.0         A  \n8    34       8      N        W      143      290      19    75.0         N  \n9   890     866      A        E        0        0       0  1100.0         A  ",
      "text/html": "<div>\n<style scoped>\n    .dataframe tbody tr th:only-of-type {\n        vertical-align: middle;\n    }\n\n    .dataframe tbody tr th {\n        vertical-align: top;\n    }\n\n    .dataframe thead th {\n        text-align: right;\n    }\n</style>\n<table border=\"1\" class=\"dataframe\">\n  <thead>\n    <tr style=\"text-align: right;\">\n      <th></th>\n      <th>AtBat</th>\n      <th>Hits</th>\n      <th>HmRun</th>\n      <th>Runs</th>\n      <th>RBI</th>\n      <th>Walks</th>\n      <th>Years</th>\n      <th>CAtBat</th>\n      <th>CHits</th>\n      <th>CHmRun</th>\n      <th>CRuns</th>\n      <th>CRBI</th>\n      <th>CWalks</th>\n      <th>League</th>\n      <th>Division</th>\n      <th>PutOuts</th>\n      <th>Assists</th>\n      <th>Errors</th>\n      <th>Salary</th>\n      <th>NewLeague</th>\n    </tr>\n  </thead>\n  <tbody>\n    <tr>\n      <th>0</th>\n      <td>293</td>\n      <td>66</td>\n      <td>1</td>\n      <td>30</td>\n      <td>29</td>\n      <td>14</td>\n      <td>1</td>\n      <td>293</td>\n      <td>66</td>\n      <td>1</td>\n      <td>30</td>\n      <td>29</td>\n      <td>14</td>\n      <td>A</td>\n      <td>E</td>\n      <td>446</td>\n      <td>33</td>\n      <td>20</td>\n      <td>NaN</td>\n      <td>A</td>\n    </tr>\n    <tr>\n      <th>1</th>\n      <td>315</td>\n      <td>81</td>\n      <td>7</td>\n      <td>24</td>\n      <td>38</td>\n      <td>39</td>\n      <td>14</td>\n      <td>3449</td>\n      <td>835</td>\n      <td>69</td>\n      <td>321</td>\n      <td>414</td>\n      <td>375</td>\n      <td>N</td>\n      <td>W</td>\n      <td>632</td>\n      <td>43</td>\n      <td>10</td>\n      <td>475.0</td>\n      <td>N</td>\n    </tr>\n    <tr>\n      <th>2</th>\n      <td>479</td>\n      <td>130</td>\n      <td>18</td>\n      <td>66</td>\n      <td>72</td>\n      <td>76</td>\n      <td>3</td>\n      <td>1624</td>\n      <td>457</td>\n      <td>63</td>\n      <td>224</td>\n      <td>266</td>\n      <td>263</td>\n      <td>A</td>\n      <td>W</td>\n      <td>880</td>\n      <td>82</td>\n      <td>14</td>\n      <td>480.0</td>\n      <td>A</td>\n    </tr>\n    <tr>\n      <th>3</th>\n      <td>496</td>\n      <td>141</td>\n      <td>20</td>\n      <td>65</td>\n      <td>78</td>\n      <td>37</td>\n      <td>11</td>\n      <td>5628</td>\n      <td>1575</td>\n      <td>225</td>\n      <td>828</td>\n      <td>838</td>\n      <td>354</td>\n      <td>N</td>\n      <td>E</td>\n      <td>200</td>\n      <td>11</td>\n      <td>3</td>\n      <td>500.0</td>\n      <td>N</td>\n    </tr>\n    <tr>\n      <th>4</th>\n      <td>321</td>\n      <td>87</td>\n      <td>10</td>\n      <td>39</td>\n      <td>42</td>\n      <td>30</td>\n      <td>2</td>\n      <td>396</td>\n      <td>101</td>\n      <td>12</td>\n      <td>48</td>\n      <td>46</td>\n      <td>33</td>\n      <td>N</td>\n      <td>E</td>\n      <td>805</td>\n      <td>40</td>\n      <td>4</td>\n      <td>91.5</td>\n      <td>N</td>\n    </tr>\n    <tr>\n      <th>5</th>\n      <td>594</td>\n      <td>169</td>\n      <td>4</td>\n      <td>74</td>\n      <td>51</td>\n      <td>35</td>\n      <td>11</td>\n      <td>4408</td>\n      <td>1133</td>\n      <td>19</td>\n      <td>501</td>\n      <td>336</td>\n      <td>194</td>\n      <td>A</td>\n      <td>W</td>\n      <td>282</td>\n      <td>421</td>\n      <td>25</td>\n      <td>750.0</td>\n      <td>A</td>\n    </tr>\n    <tr>\n      <th>6</th>\n      <td>185</td>\n      <td>37</td>\n      <td>1</td>\n      <td>23</td>\n      <td>8</td>\n      <td>21</td>\n      <td>2</td>\n      <td>214</td>\n      <td>42</td>\n      <td>1</td>\n      <td>30</td>\n      <td>9</td>\n      <td>24</td>\n      <td>N</td>\n      <td>E</td>\n      <td>76</td>\n      <td>127</td>\n      <td>7</td>\n      <td>70.0</td>\n      <td>A</td>\n    </tr>\n    <tr>\n      <th>7</th>\n      <td>298</td>\n      <td>73</td>\n      <td>0</td>\n      <td>24</td>\n      <td>24</td>\n      <td>7</td>\n      <td>3</td>\n      <td>509</td>\n      <td>108</td>\n      <td>0</td>\n      <td>41</td>\n      <td>37</td>\n      <td>12</td>\n      <td>A</td>\n      <td>W</td>\n      <td>121</td>\n      <td>283</td>\n      <td>9</td>\n      <td>100.0</td>\n      <td>A</td>\n    </tr>\n    <tr>\n      <th>8</th>\n      <td>323</td>\n      <td>81</td>\n      <td>6</td>\n      <td>26</td>\n      <td>32</td>\n      <td>8</td>\n      <td>2</td>\n      <td>341</td>\n      <td>86</td>\n      <td>6</td>\n      <td>32</td>\n      <td>34</td>\n      <td>8</td>\n      <td>N</td>\n      <td>W</td>\n      <td>143</td>\n      <td>290</td>\n      <td>19</td>\n      <td>75.0</td>\n      <td>N</td>\n    </tr>\n    <tr>\n      <th>9</th>\n      <td>401</td>\n      <td>92</td>\n      <td>17</td>\n      <td>49</td>\n      <td>66</td>\n      <td>65</td>\n      <td>13</td>\n      <td>5206</td>\n      <td>1332</td>\n      <td>253</td>\n      <td>784</td>\n      <td>890</td>\n      <td>866</td>\n      <td>A</td>\n      <td>E</td>\n      <td>0</td>\n      <td>0</td>\n      <td>0</td>\n      <td>1100.0</td>\n      <td>A</td>\n    </tr>\n  </tbody>\n</table>\n</div>"
     },
     "execution_count": 334,
     "metadata": {},
     "output_type": "execute_result"
    }
   ],
   "source": [
    "df.head(10)"
   ],
   "metadata": {
    "collapsed": false,
    "ExecuteTime": {
     "end_time": "2024-02-25T15:27:48.149424200Z",
     "start_time": "2024-02-25T15:27:48.008686200Z"
    }
   },
   "id": "8966520249b88d06",
   "execution_count": 334
  },
  {
   "cell_type": "code",
   "outputs": [
    {
     "name": "stdout",
     "output_type": "stream",
     "text": [
      "<class 'pandas.core.frame.DataFrame'>\n",
      "RangeIndex: 322 entries, 0 to 321\n",
      "Data columns (total 20 columns):\n",
      " #   Column     Non-Null Count  Dtype  \n",
      "---  ------     --------------  -----  \n",
      " 0   AtBat      322 non-null    int64  \n",
      " 1   Hits       322 non-null    int64  \n",
      " 2   HmRun      322 non-null    int64  \n",
      " 3   Runs       322 non-null    int64  \n",
      " 4   RBI        322 non-null    int64  \n",
      " 5   Walks      322 non-null    int64  \n",
      " 6   Years      322 non-null    int64  \n",
      " 7   CAtBat     322 non-null    int64  \n",
      " 8   CHits      322 non-null    int64  \n",
      " 9   CHmRun     322 non-null    int64  \n",
      " 10  CRuns      322 non-null    int64  \n",
      " 11  CRBI       322 non-null    int64  \n",
      " 12  CWalks     322 non-null    int64  \n",
      " 13  League     322 non-null    object \n",
      " 14  Division   322 non-null    object \n",
      " 15  PutOuts    322 non-null    int64  \n",
      " 16  Assists    322 non-null    int64  \n",
      " 17  Errors     322 non-null    int64  \n",
      " 18  Salary     263 non-null    float64\n",
      " 19  NewLeague  322 non-null    object \n",
      "dtypes: float64(1), int64(16), object(3)\n",
      "memory usage: 50.4+ KB\n"
     ]
    }
   ],
   "source": [
    "df.info()"
   ],
   "metadata": {
    "collapsed": false,
    "ExecuteTime": {
     "end_time": "2024-02-25T15:27:48.256653100Z",
     "start_time": "2024-02-25T15:27:48.127782500Z"
    }
   },
   "id": "d8cdf8fdb532919b",
   "execution_count": 335
  },
  {
   "cell_type": "code",
   "outputs": [],
   "source": [
    "df = df.dropna() #Eksik bilgileri sildik"
   ],
   "metadata": {
    "collapsed": false,
    "ExecuteTime": {
     "end_time": "2024-02-25T15:27:48.371227600Z",
     "start_time": "2024-02-25T15:27:48.240105900Z"
    }
   },
   "id": "895482b7a9e65c26",
   "execution_count": 336
  },
  {
   "cell_type": "code",
   "outputs": [
    {
     "data": {
      "text/plain": "     AtBat  Hits  HmRun  Runs  RBI  Walks  Years  CAtBat  CHits  CHmRun  \\\n1      315    81      7    24   38     39     14    3449    835      69   \n2      479   130     18    66   72     76      3    1624    457      63   \n3      496   141     20    65   78     37     11    5628   1575     225   \n4      321    87     10    39   42     30      2     396    101      12   \n5      594   169      4    74   51     35     11    4408   1133      19   \n..     ...   ...    ...   ...  ...    ...    ...     ...    ...     ...   \n317    497   127      7    65   48     37      5    2703    806      32   \n318    492   136      5    76   50     94     12    5511   1511      39   \n319    475   126      3    61   43     52      6    1700    433       7   \n320    573   144      9    85   60     78      8    3198    857      97   \n321    631   170      9    77   44     31     11    4908   1457      30   \n\n     CRuns  CRBI  CWalks League Division  PutOuts  Assists  Errors  Salary  \\\n1      321   414     375      N        W      632       43      10   475.0   \n2      224   266     263      A        W      880       82      14   480.0   \n3      828   838     354      N        E      200       11       3   500.0   \n4       48    46      33      N        E      805       40       4    91.5   \n5      501   336     194      A        W      282      421      25   750.0   \n..     ...   ...     ...    ...      ...      ...      ...     ...     ...   \n317    379   311     138      N        E      325        9       3   700.0   \n318    897   451     875      A        E      313      381      20   875.0   \n319    217    93     146      A        W       37      113       7   385.0   \n320    470   420     332      A        E     1314      131      12   960.0   \n321    775   357     249      A        W      408        4       3  1000.0   \n\n    NewLeague  \n1           N  \n2           A  \n3           N  \n4           N  \n5           A  \n..        ...  \n317         N  \n318         A  \n319         A  \n320         A  \n321         A  \n\n[263 rows x 20 columns]",
      "text/html": "<div>\n<style scoped>\n    .dataframe tbody tr th:only-of-type {\n        vertical-align: middle;\n    }\n\n    .dataframe tbody tr th {\n        vertical-align: top;\n    }\n\n    .dataframe thead th {\n        text-align: right;\n    }\n</style>\n<table border=\"1\" class=\"dataframe\">\n  <thead>\n    <tr style=\"text-align: right;\">\n      <th></th>\n      <th>AtBat</th>\n      <th>Hits</th>\n      <th>HmRun</th>\n      <th>Runs</th>\n      <th>RBI</th>\n      <th>Walks</th>\n      <th>Years</th>\n      <th>CAtBat</th>\n      <th>CHits</th>\n      <th>CHmRun</th>\n      <th>CRuns</th>\n      <th>CRBI</th>\n      <th>CWalks</th>\n      <th>League</th>\n      <th>Division</th>\n      <th>PutOuts</th>\n      <th>Assists</th>\n      <th>Errors</th>\n      <th>Salary</th>\n      <th>NewLeague</th>\n    </tr>\n  </thead>\n  <tbody>\n    <tr>\n      <th>1</th>\n      <td>315</td>\n      <td>81</td>\n      <td>7</td>\n      <td>24</td>\n      <td>38</td>\n      <td>39</td>\n      <td>14</td>\n      <td>3449</td>\n      <td>835</td>\n      <td>69</td>\n      <td>321</td>\n      <td>414</td>\n      <td>375</td>\n      <td>N</td>\n      <td>W</td>\n      <td>632</td>\n      <td>43</td>\n      <td>10</td>\n      <td>475.0</td>\n      <td>N</td>\n    </tr>\n    <tr>\n      <th>2</th>\n      <td>479</td>\n      <td>130</td>\n      <td>18</td>\n      <td>66</td>\n      <td>72</td>\n      <td>76</td>\n      <td>3</td>\n      <td>1624</td>\n      <td>457</td>\n      <td>63</td>\n      <td>224</td>\n      <td>266</td>\n      <td>263</td>\n      <td>A</td>\n      <td>W</td>\n      <td>880</td>\n      <td>82</td>\n      <td>14</td>\n      <td>480.0</td>\n      <td>A</td>\n    </tr>\n    <tr>\n      <th>3</th>\n      <td>496</td>\n      <td>141</td>\n      <td>20</td>\n      <td>65</td>\n      <td>78</td>\n      <td>37</td>\n      <td>11</td>\n      <td>5628</td>\n      <td>1575</td>\n      <td>225</td>\n      <td>828</td>\n      <td>838</td>\n      <td>354</td>\n      <td>N</td>\n      <td>E</td>\n      <td>200</td>\n      <td>11</td>\n      <td>3</td>\n      <td>500.0</td>\n      <td>N</td>\n    </tr>\n    <tr>\n      <th>4</th>\n      <td>321</td>\n      <td>87</td>\n      <td>10</td>\n      <td>39</td>\n      <td>42</td>\n      <td>30</td>\n      <td>2</td>\n      <td>396</td>\n      <td>101</td>\n      <td>12</td>\n      <td>48</td>\n      <td>46</td>\n      <td>33</td>\n      <td>N</td>\n      <td>E</td>\n      <td>805</td>\n      <td>40</td>\n      <td>4</td>\n      <td>91.5</td>\n      <td>N</td>\n    </tr>\n    <tr>\n      <th>5</th>\n      <td>594</td>\n      <td>169</td>\n      <td>4</td>\n      <td>74</td>\n      <td>51</td>\n      <td>35</td>\n      <td>11</td>\n      <td>4408</td>\n      <td>1133</td>\n      <td>19</td>\n      <td>501</td>\n      <td>336</td>\n      <td>194</td>\n      <td>A</td>\n      <td>W</td>\n      <td>282</td>\n      <td>421</td>\n      <td>25</td>\n      <td>750.0</td>\n      <td>A</td>\n    </tr>\n    <tr>\n      <th>...</th>\n      <td>...</td>\n      <td>...</td>\n      <td>...</td>\n      <td>...</td>\n      <td>...</td>\n      <td>...</td>\n      <td>...</td>\n      <td>...</td>\n      <td>...</td>\n      <td>...</td>\n      <td>...</td>\n      <td>...</td>\n      <td>...</td>\n      <td>...</td>\n      <td>...</td>\n      <td>...</td>\n      <td>...</td>\n      <td>...</td>\n      <td>...</td>\n      <td>...</td>\n    </tr>\n    <tr>\n      <th>317</th>\n      <td>497</td>\n      <td>127</td>\n      <td>7</td>\n      <td>65</td>\n      <td>48</td>\n      <td>37</td>\n      <td>5</td>\n      <td>2703</td>\n      <td>806</td>\n      <td>32</td>\n      <td>379</td>\n      <td>311</td>\n      <td>138</td>\n      <td>N</td>\n      <td>E</td>\n      <td>325</td>\n      <td>9</td>\n      <td>3</td>\n      <td>700.0</td>\n      <td>N</td>\n    </tr>\n    <tr>\n      <th>318</th>\n      <td>492</td>\n      <td>136</td>\n      <td>5</td>\n      <td>76</td>\n      <td>50</td>\n      <td>94</td>\n      <td>12</td>\n      <td>5511</td>\n      <td>1511</td>\n      <td>39</td>\n      <td>897</td>\n      <td>451</td>\n      <td>875</td>\n      <td>A</td>\n      <td>E</td>\n      <td>313</td>\n      <td>381</td>\n      <td>20</td>\n      <td>875.0</td>\n      <td>A</td>\n    </tr>\n    <tr>\n      <th>319</th>\n      <td>475</td>\n      <td>126</td>\n      <td>3</td>\n      <td>61</td>\n      <td>43</td>\n      <td>52</td>\n      <td>6</td>\n      <td>1700</td>\n      <td>433</td>\n      <td>7</td>\n      <td>217</td>\n      <td>93</td>\n      <td>146</td>\n      <td>A</td>\n      <td>W</td>\n      <td>37</td>\n      <td>113</td>\n      <td>7</td>\n      <td>385.0</td>\n      <td>A</td>\n    </tr>\n    <tr>\n      <th>320</th>\n      <td>573</td>\n      <td>144</td>\n      <td>9</td>\n      <td>85</td>\n      <td>60</td>\n      <td>78</td>\n      <td>8</td>\n      <td>3198</td>\n      <td>857</td>\n      <td>97</td>\n      <td>470</td>\n      <td>420</td>\n      <td>332</td>\n      <td>A</td>\n      <td>E</td>\n      <td>1314</td>\n      <td>131</td>\n      <td>12</td>\n      <td>960.0</td>\n      <td>A</td>\n    </tr>\n    <tr>\n      <th>321</th>\n      <td>631</td>\n      <td>170</td>\n      <td>9</td>\n      <td>77</td>\n      <td>44</td>\n      <td>31</td>\n      <td>11</td>\n      <td>4908</td>\n      <td>1457</td>\n      <td>30</td>\n      <td>775</td>\n      <td>357</td>\n      <td>249</td>\n      <td>A</td>\n      <td>W</td>\n      <td>408</td>\n      <td>4</td>\n      <td>3</td>\n      <td>1000.0</td>\n      <td>A</td>\n    </tr>\n  </tbody>\n</table>\n<p>263 rows × 20 columns</p>\n</div>"
     },
     "execution_count": 337,
     "metadata": {},
     "output_type": "execute_result"
    }
   ],
   "source": [
    "df"
   ],
   "metadata": {
    "collapsed": false,
    "ExecuteTime": {
     "end_time": "2024-02-25T15:27:48.604926600Z",
     "start_time": "2024-02-25T15:27:48.364246900Z"
    }
   },
   "id": "ee49a15aa2a61482",
   "execution_count": 337
  },
  {
   "cell_type": "code",
   "outputs": [],
   "source": [
    "dms = pd.get_dummies(df[[\"League\",\"Division\",\"NewLeague\"]]) # Kategorik verileri nümerik değerlere çevirdik"
   ],
   "metadata": {
    "collapsed": false,
    "ExecuteTime": {
     "end_time": "2024-02-25T15:27:48.663151300Z",
     "start_time": "2024-02-25T15:27:48.570422500Z"
    }
   },
   "id": "e68a4a88c4edd02e",
   "execution_count": 338
  },
  {
   "cell_type": "code",
   "outputs": [
    {
     "data": {
      "text/plain": "     League_A  League_N  Division_E  Division_W  NewLeague_A  NewLeague_N\n1           0         1           0           1            0            1\n2           1         0           0           1            1            0\n3           0         1           1           0            0            1\n4           0         1           1           0            0            1\n5           1         0           0           1            1            0\n..        ...       ...         ...         ...          ...          ...\n317         0         1           1           0            0            1\n318         1         0           1           0            1            0\n319         1         0           0           1            1            0\n320         1         0           1           0            1            0\n321         1         0           0           1            1            0\n\n[263 rows x 6 columns]",
      "text/html": "<div>\n<style scoped>\n    .dataframe tbody tr th:only-of-type {\n        vertical-align: middle;\n    }\n\n    .dataframe tbody tr th {\n        vertical-align: top;\n    }\n\n    .dataframe thead th {\n        text-align: right;\n    }\n</style>\n<table border=\"1\" class=\"dataframe\">\n  <thead>\n    <tr style=\"text-align: right;\">\n      <th></th>\n      <th>League_A</th>\n      <th>League_N</th>\n      <th>Division_E</th>\n      <th>Division_W</th>\n      <th>NewLeague_A</th>\n      <th>NewLeague_N</th>\n    </tr>\n  </thead>\n  <tbody>\n    <tr>\n      <th>1</th>\n      <td>0</td>\n      <td>1</td>\n      <td>0</td>\n      <td>1</td>\n      <td>0</td>\n      <td>1</td>\n    </tr>\n    <tr>\n      <th>2</th>\n      <td>1</td>\n      <td>0</td>\n      <td>0</td>\n      <td>1</td>\n      <td>1</td>\n      <td>0</td>\n    </tr>\n    <tr>\n      <th>3</th>\n      <td>0</td>\n      <td>1</td>\n      <td>1</td>\n      <td>0</td>\n      <td>0</td>\n      <td>1</td>\n    </tr>\n    <tr>\n      <th>4</th>\n      <td>0</td>\n      <td>1</td>\n      <td>1</td>\n      <td>0</td>\n      <td>0</td>\n      <td>1</td>\n    </tr>\n    <tr>\n      <th>5</th>\n      <td>1</td>\n      <td>0</td>\n      <td>0</td>\n      <td>1</td>\n      <td>1</td>\n      <td>0</td>\n    </tr>\n    <tr>\n      <th>...</th>\n      <td>...</td>\n      <td>...</td>\n      <td>...</td>\n      <td>...</td>\n      <td>...</td>\n      <td>...</td>\n    </tr>\n    <tr>\n      <th>317</th>\n      <td>0</td>\n      <td>1</td>\n      <td>1</td>\n      <td>0</td>\n      <td>0</td>\n      <td>1</td>\n    </tr>\n    <tr>\n      <th>318</th>\n      <td>1</td>\n      <td>0</td>\n      <td>1</td>\n      <td>0</td>\n      <td>1</td>\n      <td>0</td>\n    </tr>\n    <tr>\n      <th>319</th>\n      <td>1</td>\n      <td>0</td>\n      <td>0</td>\n      <td>1</td>\n      <td>1</td>\n      <td>0</td>\n    </tr>\n    <tr>\n      <th>320</th>\n      <td>1</td>\n      <td>0</td>\n      <td>1</td>\n      <td>0</td>\n      <td>1</td>\n      <td>0</td>\n    </tr>\n    <tr>\n      <th>321</th>\n      <td>1</td>\n      <td>0</td>\n      <td>0</td>\n      <td>1</td>\n      <td>1</td>\n      <td>0</td>\n    </tr>\n  </tbody>\n</table>\n<p>263 rows × 6 columns</p>\n</div>"
     },
     "execution_count": 339,
     "metadata": {},
     "output_type": "execute_result"
    }
   ],
   "source": [
    "dms"
   ],
   "metadata": {
    "collapsed": false,
    "ExecuteTime": {
     "end_time": "2024-02-25T15:27:48.796034Z",
     "start_time": "2024-02-25T15:27:48.647683300Z"
    }
   },
   "id": "68f0bb545907f5b2",
   "execution_count": 339
  },
  {
   "cell_type": "code",
   "outputs": [],
   "source": [
    "y = df[\"Salary\"] # Bağımlı değişkeni y'ye atadık"
   ],
   "metadata": {
    "collapsed": false,
    "ExecuteTime": {
     "end_time": "2024-02-25T15:27:48.957601Z",
     "start_time": "2024-02-25T15:27:48.783904800Z"
    }
   },
   "id": "fc7d9224f5a96610",
   "execution_count": 340
  },
  {
   "cell_type": "code",
   "outputs": [
    {
     "data": {
      "text/plain": "1       475.0\n2       480.0\n3       500.0\n4        91.5\n5       750.0\n        ...  \n317     700.0\n318     875.0\n319     385.0\n320     960.0\n321    1000.0\nName: Salary, Length: 263, dtype: float64"
     },
     "execution_count": 341,
     "metadata": {},
     "output_type": "execute_result"
    }
   ],
   "source": [
    "y"
   ],
   "metadata": {
    "collapsed": false,
    "ExecuteTime": {
     "end_time": "2024-02-25T15:27:49.141177700Z",
     "start_time": "2024-02-25T15:27:48.847964800Z"
    }
   },
   "id": "d3a1104eece9ceb8",
   "execution_count": 341
  },
  {
   "cell_type": "code",
   "outputs": [],
   "source": [
    "x_ = df.drop([\"Salary\",\"League\",\"Division\",\"NewLeague\"],axis=1).astype(\"float64\") # Bağımlı değişkeni ve kategorik değişkenleri attık"
   ],
   "metadata": {
    "collapsed": false,
    "ExecuteTime": {
     "end_time": "2024-02-25T15:27:49.279011800Z",
     "start_time": "2024-02-25T15:27:49.130699300Z"
    }
   },
   "id": "5d8769f2f9d62591",
   "execution_count": 342
  },
  {
   "cell_type": "code",
   "outputs": [
    {
     "data": {
      "text/plain": "     AtBat   Hits  HmRun  Runs   RBI  Walks  Years  CAtBat   CHits  CHmRun  \\\n1    315.0   81.0    7.0  24.0  38.0   39.0   14.0  3449.0   835.0    69.0   \n2    479.0  130.0   18.0  66.0  72.0   76.0    3.0  1624.0   457.0    63.0   \n3    496.0  141.0   20.0  65.0  78.0   37.0   11.0  5628.0  1575.0   225.0   \n4    321.0   87.0   10.0  39.0  42.0   30.0    2.0   396.0   101.0    12.0   \n5    594.0  169.0    4.0  74.0  51.0   35.0   11.0  4408.0  1133.0    19.0   \n..     ...    ...    ...   ...   ...    ...    ...     ...     ...     ...   \n317  497.0  127.0    7.0  65.0  48.0   37.0    5.0  2703.0   806.0    32.0   \n318  492.0  136.0    5.0  76.0  50.0   94.0   12.0  5511.0  1511.0    39.0   \n319  475.0  126.0    3.0  61.0  43.0   52.0    6.0  1700.0   433.0     7.0   \n320  573.0  144.0    9.0  85.0  60.0   78.0    8.0  3198.0   857.0    97.0   \n321  631.0  170.0    9.0  77.0  44.0   31.0   11.0  4908.0  1457.0    30.0   \n\n     CRuns   CRBI  CWalks  PutOuts  Assists  Errors  \n1    321.0  414.0   375.0    632.0     43.0    10.0  \n2    224.0  266.0   263.0    880.0     82.0    14.0  \n3    828.0  838.0   354.0    200.0     11.0     3.0  \n4     48.0   46.0    33.0    805.0     40.0     4.0  \n5    501.0  336.0   194.0    282.0    421.0    25.0  \n..     ...    ...     ...      ...      ...     ...  \n317  379.0  311.0   138.0    325.0      9.0     3.0  \n318  897.0  451.0   875.0    313.0    381.0    20.0  \n319  217.0   93.0   146.0     37.0    113.0     7.0  \n320  470.0  420.0   332.0   1314.0    131.0    12.0  \n321  775.0  357.0   249.0    408.0      4.0     3.0  \n\n[263 rows x 16 columns]",
      "text/html": "<div>\n<style scoped>\n    .dataframe tbody tr th:only-of-type {\n        vertical-align: middle;\n    }\n\n    .dataframe tbody tr th {\n        vertical-align: top;\n    }\n\n    .dataframe thead th {\n        text-align: right;\n    }\n</style>\n<table border=\"1\" class=\"dataframe\">\n  <thead>\n    <tr style=\"text-align: right;\">\n      <th></th>\n      <th>AtBat</th>\n      <th>Hits</th>\n      <th>HmRun</th>\n      <th>Runs</th>\n      <th>RBI</th>\n      <th>Walks</th>\n      <th>Years</th>\n      <th>CAtBat</th>\n      <th>CHits</th>\n      <th>CHmRun</th>\n      <th>CRuns</th>\n      <th>CRBI</th>\n      <th>CWalks</th>\n      <th>PutOuts</th>\n      <th>Assists</th>\n      <th>Errors</th>\n    </tr>\n  </thead>\n  <tbody>\n    <tr>\n      <th>1</th>\n      <td>315.0</td>\n      <td>81.0</td>\n      <td>7.0</td>\n      <td>24.0</td>\n      <td>38.0</td>\n      <td>39.0</td>\n      <td>14.0</td>\n      <td>3449.0</td>\n      <td>835.0</td>\n      <td>69.0</td>\n      <td>321.0</td>\n      <td>414.0</td>\n      <td>375.0</td>\n      <td>632.0</td>\n      <td>43.0</td>\n      <td>10.0</td>\n    </tr>\n    <tr>\n      <th>2</th>\n      <td>479.0</td>\n      <td>130.0</td>\n      <td>18.0</td>\n      <td>66.0</td>\n      <td>72.0</td>\n      <td>76.0</td>\n      <td>3.0</td>\n      <td>1624.0</td>\n      <td>457.0</td>\n      <td>63.0</td>\n      <td>224.0</td>\n      <td>266.0</td>\n      <td>263.0</td>\n      <td>880.0</td>\n      <td>82.0</td>\n      <td>14.0</td>\n    </tr>\n    <tr>\n      <th>3</th>\n      <td>496.0</td>\n      <td>141.0</td>\n      <td>20.0</td>\n      <td>65.0</td>\n      <td>78.0</td>\n      <td>37.0</td>\n      <td>11.0</td>\n      <td>5628.0</td>\n      <td>1575.0</td>\n      <td>225.0</td>\n      <td>828.0</td>\n      <td>838.0</td>\n      <td>354.0</td>\n      <td>200.0</td>\n      <td>11.0</td>\n      <td>3.0</td>\n    </tr>\n    <tr>\n      <th>4</th>\n      <td>321.0</td>\n      <td>87.0</td>\n      <td>10.0</td>\n      <td>39.0</td>\n      <td>42.0</td>\n      <td>30.0</td>\n      <td>2.0</td>\n      <td>396.0</td>\n      <td>101.0</td>\n      <td>12.0</td>\n      <td>48.0</td>\n      <td>46.0</td>\n      <td>33.0</td>\n      <td>805.0</td>\n      <td>40.0</td>\n      <td>4.0</td>\n    </tr>\n    <tr>\n      <th>5</th>\n      <td>594.0</td>\n      <td>169.0</td>\n      <td>4.0</td>\n      <td>74.0</td>\n      <td>51.0</td>\n      <td>35.0</td>\n      <td>11.0</td>\n      <td>4408.0</td>\n      <td>1133.0</td>\n      <td>19.0</td>\n      <td>501.0</td>\n      <td>336.0</td>\n      <td>194.0</td>\n      <td>282.0</td>\n      <td>421.0</td>\n      <td>25.0</td>\n    </tr>\n    <tr>\n      <th>...</th>\n      <td>...</td>\n      <td>...</td>\n      <td>...</td>\n      <td>...</td>\n      <td>...</td>\n      <td>...</td>\n      <td>...</td>\n      <td>...</td>\n      <td>...</td>\n      <td>...</td>\n      <td>...</td>\n      <td>...</td>\n      <td>...</td>\n      <td>...</td>\n      <td>...</td>\n      <td>...</td>\n    </tr>\n    <tr>\n      <th>317</th>\n      <td>497.0</td>\n      <td>127.0</td>\n      <td>7.0</td>\n      <td>65.0</td>\n      <td>48.0</td>\n      <td>37.0</td>\n      <td>5.0</td>\n      <td>2703.0</td>\n      <td>806.0</td>\n      <td>32.0</td>\n      <td>379.0</td>\n      <td>311.0</td>\n      <td>138.0</td>\n      <td>325.0</td>\n      <td>9.0</td>\n      <td>3.0</td>\n    </tr>\n    <tr>\n      <th>318</th>\n      <td>492.0</td>\n      <td>136.0</td>\n      <td>5.0</td>\n      <td>76.0</td>\n      <td>50.0</td>\n      <td>94.0</td>\n      <td>12.0</td>\n      <td>5511.0</td>\n      <td>1511.0</td>\n      <td>39.0</td>\n      <td>897.0</td>\n      <td>451.0</td>\n      <td>875.0</td>\n      <td>313.0</td>\n      <td>381.0</td>\n      <td>20.0</td>\n    </tr>\n    <tr>\n      <th>319</th>\n      <td>475.0</td>\n      <td>126.0</td>\n      <td>3.0</td>\n      <td>61.0</td>\n      <td>43.0</td>\n      <td>52.0</td>\n      <td>6.0</td>\n      <td>1700.0</td>\n      <td>433.0</td>\n      <td>7.0</td>\n      <td>217.0</td>\n      <td>93.0</td>\n      <td>146.0</td>\n      <td>37.0</td>\n      <td>113.0</td>\n      <td>7.0</td>\n    </tr>\n    <tr>\n      <th>320</th>\n      <td>573.0</td>\n      <td>144.0</td>\n      <td>9.0</td>\n      <td>85.0</td>\n      <td>60.0</td>\n      <td>78.0</td>\n      <td>8.0</td>\n      <td>3198.0</td>\n      <td>857.0</td>\n      <td>97.0</td>\n      <td>470.0</td>\n      <td>420.0</td>\n      <td>332.0</td>\n      <td>1314.0</td>\n      <td>131.0</td>\n      <td>12.0</td>\n    </tr>\n    <tr>\n      <th>321</th>\n      <td>631.0</td>\n      <td>170.0</td>\n      <td>9.0</td>\n      <td>77.0</td>\n      <td>44.0</td>\n      <td>31.0</td>\n      <td>11.0</td>\n      <td>4908.0</td>\n      <td>1457.0</td>\n      <td>30.0</td>\n      <td>775.0</td>\n      <td>357.0</td>\n      <td>249.0</td>\n      <td>408.0</td>\n      <td>4.0</td>\n      <td>3.0</td>\n    </tr>\n  </tbody>\n</table>\n<p>263 rows × 16 columns</p>\n</div>"
     },
     "execution_count": 343,
     "metadata": {},
     "output_type": "execute_result"
    }
   ],
   "source": [
    "x_"
   ],
   "metadata": {
    "collapsed": false,
    "ExecuteTime": {
     "end_time": "2024-02-25T15:27:49.445772900Z",
     "start_time": "2024-02-25T15:27:49.228389200Z"
    }
   },
   "id": "31cb8090debad4f",
   "execution_count": 343
  },
  {
   "cell_type": "code",
   "outputs": [],
   "source": [
    "x = pd.concat([x_,dms[[\"League_N\",'Division_W',\"NewLeague_N\"]]],axis=1) # bağımsız değişkenlerimizle, bağımlı değişkenleri ve dummiesleri bir araya getirdik. "
   ],
   "metadata": {
    "collapsed": false,
    "ExecuteTime": {
     "end_time": "2024-02-25T15:27:49.534321800Z",
     "start_time": "2024-02-25T15:27:49.443779500Z"
    }
   },
   "id": "f602cd3ed21b368",
   "execution_count": 344
  },
  {
   "cell_type": "code",
   "outputs": [
    {
     "data": {
      "text/plain": "     AtBat   Hits  HmRun  Runs   RBI  Walks  Years  CAtBat   CHits  CHmRun  \\\n1    315.0   81.0    7.0  24.0  38.0   39.0   14.0  3449.0   835.0    69.0   \n2    479.0  130.0   18.0  66.0  72.0   76.0    3.0  1624.0   457.0    63.0   \n3    496.0  141.0   20.0  65.0  78.0   37.0   11.0  5628.0  1575.0   225.0   \n4    321.0   87.0   10.0  39.0  42.0   30.0    2.0   396.0   101.0    12.0   \n5    594.0  169.0    4.0  74.0  51.0   35.0   11.0  4408.0  1133.0    19.0   \n..     ...    ...    ...   ...   ...    ...    ...     ...     ...     ...   \n317  497.0  127.0    7.0  65.0  48.0   37.0    5.0  2703.0   806.0    32.0   \n318  492.0  136.0    5.0  76.0  50.0   94.0   12.0  5511.0  1511.0    39.0   \n319  475.0  126.0    3.0  61.0  43.0   52.0    6.0  1700.0   433.0     7.0   \n320  573.0  144.0    9.0  85.0  60.0   78.0    8.0  3198.0   857.0    97.0   \n321  631.0  170.0    9.0  77.0  44.0   31.0   11.0  4908.0  1457.0    30.0   \n\n     CRuns   CRBI  CWalks  PutOuts  Assists  Errors  League_N  Division_W  \\\n1    321.0  414.0   375.0    632.0     43.0    10.0         1           1   \n2    224.0  266.0   263.0    880.0     82.0    14.0         0           1   \n3    828.0  838.0   354.0    200.0     11.0     3.0         1           0   \n4     48.0   46.0    33.0    805.0     40.0     4.0         1           0   \n5    501.0  336.0   194.0    282.0    421.0    25.0         0           1   \n..     ...    ...     ...      ...      ...     ...       ...         ...   \n317  379.0  311.0   138.0    325.0      9.0     3.0         1           0   \n318  897.0  451.0   875.0    313.0    381.0    20.0         0           0   \n319  217.0   93.0   146.0     37.0    113.0     7.0         0           1   \n320  470.0  420.0   332.0   1314.0    131.0    12.0         0           0   \n321  775.0  357.0   249.0    408.0      4.0     3.0         0           1   \n\n     NewLeague_N  \n1              1  \n2              0  \n3              1  \n4              1  \n5              0  \n..           ...  \n317            1  \n318            0  \n319            0  \n320            0  \n321            0  \n\n[263 rows x 19 columns]",
      "text/html": "<div>\n<style scoped>\n    .dataframe tbody tr th:only-of-type {\n        vertical-align: middle;\n    }\n\n    .dataframe tbody tr th {\n        vertical-align: top;\n    }\n\n    .dataframe thead th {\n        text-align: right;\n    }\n</style>\n<table border=\"1\" class=\"dataframe\">\n  <thead>\n    <tr style=\"text-align: right;\">\n      <th></th>\n      <th>AtBat</th>\n      <th>Hits</th>\n      <th>HmRun</th>\n      <th>Runs</th>\n      <th>RBI</th>\n      <th>Walks</th>\n      <th>Years</th>\n      <th>CAtBat</th>\n      <th>CHits</th>\n      <th>CHmRun</th>\n      <th>CRuns</th>\n      <th>CRBI</th>\n      <th>CWalks</th>\n      <th>PutOuts</th>\n      <th>Assists</th>\n      <th>Errors</th>\n      <th>League_N</th>\n      <th>Division_W</th>\n      <th>NewLeague_N</th>\n    </tr>\n  </thead>\n  <tbody>\n    <tr>\n      <th>1</th>\n      <td>315.0</td>\n      <td>81.0</td>\n      <td>7.0</td>\n      <td>24.0</td>\n      <td>38.0</td>\n      <td>39.0</td>\n      <td>14.0</td>\n      <td>3449.0</td>\n      <td>835.0</td>\n      <td>69.0</td>\n      <td>321.0</td>\n      <td>414.0</td>\n      <td>375.0</td>\n      <td>632.0</td>\n      <td>43.0</td>\n      <td>10.0</td>\n      <td>1</td>\n      <td>1</td>\n      <td>1</td>\n    </tr>\n    <tr>\n      <th>2</th>\n      <td>479.0</td>\n      <td>130.0</td>\n      <td>18.0</td>\n      <td>66.0</td>\n      <td>72.0</td>\n      <td>76.0</td>\n      <td>3.0</td>\n      <td>1624.0</td>\n      <td>457.0</td>\n      <td>63.0</td>\n      <td>224.0</td>\n      <td>266.0</td>\n      <td>263.0</td>\n      <td>880.0</td>\n      <td>82.0</td>\n      <td>14.0</td>\n      <td>0</td>\n      <td>1</td>\n      <td>0</td>\n    </tr>\n    <tr>\n      <th>3</th>\n      <td>496.0</td>\n      <td>141.0</td>\n      <td>20.0</td>\n      <td>65.0</td>\n      <td>78.0</td>\n      <td>37.0</td>\n      <td>11.0</td>\n      <td>5628.0</td>\n      <td>1575.0</td>\n      <td>225.0</td>\n      <td>828.0</td>\n      <td>838.0</td>\n      <td>354.0</td>\n      <td>200.0</td>\n      <td>11.0</td>\n      <td>3.0</td>\n      <td>1</td>\n      <td>0</td>\n      <td>1</td>\n    </tr>\n    <tr>\n      <th>4</th>\n      <td>321.0</td>\n      <td>87.0</td>\n      <td>10.0</td>\n      <td>39.0</td>\n      <td>42.0</td>\n      <td>30.0</td>\n      <td>2.0</td>\n      <td>396.0</td>\n      <td>101.0</td>\n      <td>12.0</td>\n      <td>48.0</td>\n      <td>46.0</td>\n      <td>33.0</td>\n      <td>805.0</td>\n      <td>40.0</td>\n      <td>4.0</td>\n      <td>1</td>\n      <td>0</td>\n      <td>1</td>\n    </tr>\n    <tr>\n      <th>5</th>\n      <td>594.0</td>\n      <td>169.0</td>\n      <td>4.0</td>\n      <td>74.0</td>\n      <td>51.0</td>\n      <td>35.0</td>\n      <td>11.0</td>\n      <td>4408.0</td>\n      <td>1133.0</td>\n      <td>19.0</td>\n      <td>501.0</td>\n      <td>336.0</td>\n      <td>194.0</td>\n      <td>282.0</td>\n      <td>421.0</td>\n      <td>25.0</td>\n      <td>0</td>\n      <td>1</td>\n      <td>0</td>\n    </tr>\n    <tr>\n      <th>...</th>\n      <td>...</td>\n      <td>...</td>\n      <td>...</td>\n      <td>...</td>\n      <td>...</td>\n      <td>...</td>\n      <td>...</td>\n      <td>...</td>\n      <td>...</td>\n      <td>...</td>\n      <td>...</td>\n      <td>...</td>\n      <td>...</td>\n      <td>...</td>\n      <td>...</td>\n      <td>...</td>\n      <td>...</td>\n      <td>...</td>\n      <td>...</td>\n    </tr>\n    <tr>\n      <th>317</th>\n      <td>497.0</td>\n      <td>127.0</td>\n      <td>7.0</td>\n      <td>65.0</td>\n      <td>48.0</td>\n      <td>37.0</td>\n      <td>5.0</td>\n      <td>2703.0</td>\n      <td>806.0</td>\n      <td>32.0</td>\n      <td>379.0</td>\n      <td>311.0</td>\n      <td>138.0</td>\n      <td>325.0</td>\n      <td>9.0</td>\n      <td>3.0</td>\n      <td>1</td>\n      <td>0</td>\n      <td>1</td>\n    </tr>\n    <tr>\n      <th>318</th>\n      <td>492.0</td>\n      <td>136.0</td>\n      <td>5.0</td>\n      <td>76.0</td>\n      <td>50.0</td>\n      <td>94.0</td>\n      <td>12.0</td>\n      <td>5511.0</td>\n      <td>1511.0</td>\n      <td>39.0</td>\n      <td>897.0</td>\n      <td>451.0</td>\n      <td>875.0</td>\n      <td>313.0</td>\n      <td>381.0</td>\n      <td>20.0</td>\n      <td>0</td>\n      <td>0</td>\n      <td>0</td>\n    </tr>\n    <tr>\n      <th>319</th>\n      <td>475.0</td>\n      <td>126.0</td>\n      <td>3.0</td>\n      <td>61.0</td>\n      <td>43.0</td>\n      <td>52.0</td>\n      <td>6.0</td>\n      <td>1700.0</td>\n      <td>433.0</td>\n      <td>7.0</td>\n      <td>217.0</td>\n      <td>93.0</td>\n      <td>146.0</td>\n      <td>37.0</td>\n      <td>113.0</td>\n      <td>7.0</td>\n      <td>0</td>\n      <td>1</td>\n      <td>0</td>\n    </tr>\n    <tr>\n      <th>320</th>\n      <td>573.0</td>\n      <td>144.0</td>\n      <td>9.0</td>\n      <td>85.0</td>\n      <td>60.0</td>\n      <td>78.0</td>\n      <td>8.0</td>\n      <td>3198.0</td>\n      <td>857.0</td>\n      <td>97.0</td>\n      <td>470.0</td>\n      <td>420.0</td>\n      <td>332.0</td>\n      <td>1314.0</td>\n      <td>131.0</td>\n      <td>12.0</td>\n      <td>0</td>\n      <td>0</td>\n      <td>0</td>\n    </tr>\n    <tr>\n      <th>321</th>\n      <td>631.0</td>\n      <td>170.0</td>\n      <td>9.0</td>\n      <td>77.0</td>\n      <td>44.0</td>\n      <td>31.0</td>\n      <td>11.0</td>\n      <td>4908.0</td>\n      <td>1457.0</td>\n      <td>30.0</td>\n      <td>775.0</td>\n      <td>357.0</td>\n      <td>249.0</td>\n      <td>408.0</td>\n      <td>4.0</td>\n      <td>3.0</td>\n      <td>0</td>\n      <td>1</td>\n      <td>0</td>\n    </tr>\n  </tbody>\n</table>\n<p>263 rows × 19 columns</p>\n</div>"
     },
     "execution_count": 345,
     "metadata": {},
     "output_type": "execute_result"
    }
   ],
   "source": [
    "x"
   ],
   "metadata": {
    "collapsed": false,
    "ExecuteTime": {
     "end_time": "2024-02-25T15:27:49.648416500Z",
     "start_time": "2024-02-25T15:27:49.511771900Z"
    }
   },
   "id": "623eead3625c0b7b",
   "execution_count": 345
  },
  {
   "cell_type": "code",
   "outputs": [],
   "source": [
    "x_train, x_test, y_train, y_test = model_selection.train_test_split(x,y,test_size=0.25,random_state=42)"
   ],
   "metadata": {
    "collapsed": false,
    "ExecuteTime": {
     "end_time": "2024-02-25T15:27:49.790240100Z",
     "start_time": "2024-02-25T15:27:49.645421800Z"
    }
   },
   "id": "bc7f629896eb422a",
   "execution_count": 346
  },
  {
   "cell_type": "code",
   "outputs": [
    {
     "data": {
      "text/plain": "     AtBat   Hits  HmRun  Runs    RBI  Walks  Years   CAtBat   CHits  CHmRun  \\\n183  328.0   91.0   12.0  51.0   43.0   33.0    2.0    342.0    94.0    12.0   \n229  514.0  144.0    0.0  67.0   54.0   79.0    9.0   4739.0  1169.0    13.0   \n286  593.0  152.0   23.0  69.0   75.0   53.0    6.0   2765.0   686.0   133.0   \n102  233.0   49.0    2.0  41.0   23.0   18.0    8.0   1350.0   336.0     7.0   \n153  341.0   95.0    6.0  48.0   42.0   20.0   10.0   2964.0   808.0    81.0   \n..     ...    ...    ...   ...    ...    ...    ...      ...     ...     ...   \n24   629.0  168.0   18.0  73.0  102.0   40.0   18.0   8424.0  2464.0   164.0   \n236  237.0   52.0    0.0  15.0   25.0   30.0   24.0  14053.0  4256.0   160.0   \n93   511.0  138.0   25.0  76.0   96.0   61.0    3.0    592.0   164.0    28.0   \n137  343.0  103.0    6.0  48.0   36.0   40.0   15.0   4338.0  1193.0    70.0   \n133  445.0   99.0    1.0  46.0   24.0   29.0    4.0    618.0   129.0     1.0   \n\n      CRuns    CRBI  CWalks  PutOuts  Assists  Errors  League_N  Division_W  \\\n183    51.0    44.0    33.0    145.0     59.0     8.0         1           0   \n229   583.0   374.0   528.0    229.0    453.0    15.0         1           0   \n286   369.0   384.0   321.0    315.0     10.0     6.0         0           1   \n102   166.0   122.0   106.0    102.0    132.0    10.0         0           0   \n153   379.0   428.0   221.0    158.0      4.0     5.0         1           1   \n..      ...     ...     ...      ...      ...     ...       ...         ...   \n24   1008.0  1072.0   402.0   1067.0    157.0    14.0         0           0   \n236  2165.0  1314.0  1566.0    523.0     43.0     6.0         1           1   \n93     87.0   110.0    71.0    157.0      7.0     8.0         0           1   \n137   581.0   421.0   325.0    211.0     56.0    13.0         0           0   \n133    72.0    31.0    48.0    278.0    415.0    16.0         0           1   \n\n     NewLeague_N  \n183            1  \n229            1  \n286            0  \n102            0  \n153            1  \n..           ...  \n24             0  \n236            1  \n93             0  \n137            0  \n133            0  \n\n[197 rows x 19 columns]",
      "text/html": "<div>\n<style scoped>\n    .dataframe tbody tr th:only-of-type {\n        vertical-align: middle;\n    }\n\n    .dataframe tbody tr th {\n        vertical-align: top;\n    }\n\n    .dataframe thead th {\n        text-align: right;\n    }\n</style>\n<table border=\"1\" class=\"dataframe\">\n  <thead>\n    <tr style=\"text-align: right;\">\n      <th></th>\n      <th>AtBat</th>\n      <th>Hits</th>\n      <th>HmRun</th>\n      <th>Runs</th>\n      <th>RBI</th>\n      <th>Walks</th>\n      <th>Years</th>\n      <th>CAtBat</th>\n      <th>CHits</th>\n      <th>CHmRun</th>\n      <th>CRuns</th>\n      <th>CRBI</th>\n      <th>CWalks</th>\n      <th>PutOuts</th>\n      <th>Assists</th>\n      <th>Errors</th>\n      <th>League_N</th>\n      <th>Division_W</th>\n      <th>NewLeague_N</th>\n    </tr>\n  </thead>\n  <tbody>\n    <tr>\n      <th>183</th>\n      <td>328.0</td>\n      <td>91.0</td>\n      <td>12.0</td>\n      <td>51.0</td>\n      <td>43.0</td>\n      <td>33.0</td>\n      <td>2.0</td>\n      <td>342.0</td>\n      <td>94.0</td>\n      <td>12.0</td>\n      <td>51.0</td>\n      <td>44.0</td>\n      <td>33.0</td>\n      <td>145.0</td>\n      <td>59.0</td>\n      <td>8.0</td>\n      <td>1</td>\n      <td>0</td>\n      <td>1</td>\n    </tr>\n    <tr>\n      <th>229</th>\n      <td>514.0</td>\n      <td>144.0</td>\n      <td>0.0</td>\n      <td>67.0</td>\n      <td>54.0</td>\n      <td>79.0</td>\n      <td>9.0</td>\n      <td>4739.0</td>\n      <td>1169.0</td>\n      <td>13.0</td>\n      <td>583.0</td>\n      <td>374.0</td>\n      <td>528.0</td>\n      <td>229.0</td>\n      <td>453.0</td>\n      <td>15.0</td>\n      <td>1</td>\n      <td>0</td>\n      <td>1</td>\n    </tr>\n    <tr>\n      <th>286</th>\n      <td>593.0</td>\n      <td>152.0</td>\n      <td>23.0</td>\n      <td>69.0</td>\n      <td>75.0</td>\n      <td>53.0</td>\n      <td>6.0</td>\n      <td>2765.0</td>\n      <td>686.0</td>\n      <td>133.0</td>\n      <td>369.0</td>\n      <td>384.0</td>\n      <td>321.0</td>\n      <td>315.0</td>\n      <td>10.0</td>\n      <td>6.0</td>\n      <td>0</td>\n      <td>1</td>\n      <td>0</td>\n    </tr>\n    <tr>\n      <th>102</th>\n      <td>233.0</td>\n      <td>49.0</td>\n      <td>2.0</td>\n      <td>41.0</td>\n      <td>23.0</td>\n      <td>18.0</td>\n      <td>8.0</td>\n      <td>1350.0</td>\n      <td>336.0</td>\n      <td>7.0</td>\n      <td>166.0</td>\n      <td>122.0</td>\n      <td>106.0</td>\n      <td>102.0</td>\n      <td>132.0</td>\n      <td>10.0</td>\n      <td>0</td>\n      <td>0</td>\n      <td>0</td>\n    </tr>\n    <tr>\n      <th>153</th>\n      <td>341.0</td>\n      <td>95.0</td>\n      <td>6.0</td>\n      <td>48.0</td>\n      <td>42.0</td>\n      <td>20.0</td>\n      <td>10.0</td>\n      <td>2964.0</td>\n      <td>808.0</td>\n      <td>81.0</td>\n      <td>379.0</td>\n      <td>428.0</td>\n      <td>221.0</td>\n      <td>158.0</td>\n      <td>4.0</td>\n      <td>5.0</td>\n      <td>1</td>\n      <td>1</td>\n      <td>1</td>\n    </tr>\n    <tr>\n      <th>...</th>\n      <td>...</td>\n      <td>...</td>\n      <td>...</td>\n      <td>...</td>\n      <td>...</td>\n      <td>...</td>\n      <td>...</td>\n      <td>...</td>\n      <td>...</td>\n      <td>...</td>\n      <td>...</td>\n      <td>...</td>\n      <td>...</td>\n      <td>...</td>\n      <td>...</td>\n      <td>...</td>\n      <td>...</td>\n      <td>...</td>\n      <td>...</td>\n    </tr>\n    <tr>\n      <th>24</th>\n      <td>629.0</td>\n      <td>168.0</td>\n      <td>18.0</td>\n      <td>73.0</td>\n      <td>102.0</td>\n      <td>40.0</td>\n      <td>18.0</td>\n      <td>8424.0</td>\n      <td>2464.0</td>\n      <td>164.0</td>\n      <td>1008.0</td>\n      <td>1072.0</td>\n      <td>402.0</td>\n      <td>1067.0</td>\n      <td>157.0</td>\n      <td>14.0</td>\n      <td>0</td>\n      <td>0</td>\n      <td>0</td>\n    </tr>\n    <tr>\n      <th>236</th>\n      <td>237.0</td>\n      <td>52.0</td>\n      <td>0.0</td>\n      <td>15.0</td>\n      <td>25.0</td>\n      <td>30.0</td>\n      <td>24.0</td>\n      <td>14053.0</td>\n      <td>4256.0</td>\n      <td>160.0</td>\n      <td>2165.0</td>\n      <td>1314.0</td>\n      <td>1566.0</td>\n      <td>523.0</td>\n      <td>43.0</td>\n      <td>6.0</td>\n      <td>1</td>\n      <td>1</td>\n      <td>1</td>\n    </tr>\n    <tr>\n      <th>93</th>\n      <td>511.0</td>\n      <td>138.0</td>\n      <td>25.0</td>\n      <td>76.0</td>\n      <td>96.0</td>\n      <td>61.0</td>\n      <td>3.0</td>\n      <td>592.0</td>\n      <td>164.0</td>\n      <td>28.0</td>\n      <td>87.0</td>\n      <td>110.0</td>\n      <td>71.0</td>\n      <td>157.0</td>\n      <td>7.0</td>\n      <td>8.0</td>\n      <td>0</td>\n      <td>1</td>\n      <td>0</td>\n    </tr>\n    <tr>\n      <th>137</th>\n      <td>343.0</td>\n      <td>103.0</td>\n      <td>6.0</td>\n      <td>48.0</td>\n      <td>36.0</td>\n      <td>40.0</td>\n      <td>15.0</td>\n      <td>4338.0</td>\n      <td>1193.0</td>\n      <td>70.0</td>\n      <td>581.0</td>\n      <td>421.0</td>\n      <td>325.0</td>\n      <td>211.0</td>\n      <td>56.0</td>\n      <td>13.0</td>\n      <td>0</td>\n      <td>0</td>\n      <td>0</td>\n    </tr>\n    <tr>\n      <th>133</th>\n      <td>445.0</td>\n      <td>99.0</td>\n      <td>1.0</td>\n      <td>46.0</td>\n      <td>24.0</td>\n      <td>29.0</td>\n      <td>4.0</td>\n      <td>618.0</td>\n      <td>129.0</td>\n      <td>1.0</td>\n      <td>72.0</td>\n      <td>31.0</td>\n      <td>48.0</td>\n      <td>278.0</td>\n      <td>415.0</td>\n      <td>16.0</td>\n      <td>0</td>\n      <td>1</td>\n      <td>0</td>\n    </tr>\n  </tbody>\n</table>\n<p>197 rows × 19 columns</p>\n</div>"
     },
     "execution_count": 347,
     "metadata": {},
     "output_type": "execute_result"
    }
   ],
   "source": [
    "x_train"
   ],
   "metadata": {
    "collapsed": false,
    "ExecuteTime": {
     "end_time": "2024-02-25T15:27:49.965470100Z",
     "start_time": "2024-02-25T15:27:49.763116900Z"
    }
   },
   "id": "f0e6d27fd79918d",
   "execution_count": 347
  },
  {
   "cell_type": "code",
   "outputs": [
    {
     "data": {
      "text/plain": "     AtBat   Hits  HmRun  Runs   RBI  Walks  Years  CAtBat   CHits  CHmRun  \\\n148  497.0  136.0    7.0  58.0  38.0   26.0   11.0  3871.0  1066.0    40.0   \n154  537.0  147.0   23.0  58.0  88.0   47.0   10.0  2744.0   730.0    97.0   \n318  492.0  136.0    5.0  76.0  50.0   94.0   12.0  5511.0  1511.0    39.0   \n279  439.0   96.0    0.0  44.0  36.0   65.0    4.0   711.0   148.0     1.0   \n88   155.0   41.0   12.0  21.0  29.0   22.0   16.0  5409.0  1338.0   181.0   \n..     ...    ...    ...   ...   ...    ...    ...     ...     ...     ...   \n122  539.0  139.0    5.0  93.0  58.0   69.0    5.0  1469.0   369.0    12.0   \n282  633.0  210.0    6.0  91.0  56.0   59.0    6.0  3070.0   872.0    19.0   \n111  325.0   76.0   16.0  33.0  52.0   37.0    5.0  1506.0   351.0    71.0   \n232  313.0   83.0    9.0  43.0  41.0   30.0   14.0  5885.0  1543.0   104.0   \n51   214.0   53.0    2.0  30.0  29.0   23.0    2.0   226.0    59.0     2.0   \n\n     CRuns   CRBI  CWalks  PutOuts  Assists  Errors  League_N  Division_W  \\\n148  450.0  367.0   241.0    304.0    347.0    10.0         0           0   \n154  302.0  351.0   174.0     92.0    257.0    20.0         1           0   \n318  897.0  451.0   875.0    313.0    381.0    20.0         0           0   \n279   68.0   56.0    99.0    229.0    406.0    22.0         1           0   \n88   746.0  805.0   875.0    165.0      9.0     1.0         0           1   \n..     ...    ...     ...      ...      ...     ...       ...         ...   \n122  247.0  126.0   198.0    462.0      9.0     7.0         0           1   \n282  420.0  230.0   274.0    367.0    432.0    16.0         1           1   \n111  195.0  219.0   214.0    726.0     87.0     3.0         1           1   \n232  751.0  714.0   535.0     58.0    141.0    23.0         1           1   \n51    32.0   32.0    27.0    109.0      7.0     3.0         1           0   \n\n     NewLeague_N  \n148            0  \n154            1  \n318            0  \n279            1  \n88             0  \n..           ...  \n122            0  \n282            1  \n111            0  \n232            1  \n51             1  \n\n[66 rows x 19 columns]",
      "text/html": "<div>\n<style scoped>\n    .dataframe tbody tr th:only-of-type {\n        vertical-align: middle;\n    }\n\n    .dataframe tbody tr th {\n        vertical-align: top;\n    }\n\n    .dataframe thead th {\n        text-align: right;\n    }\n</style>\n<table border=\"1\" class=\"dataframe\">\n  <thead>\n    <tr style=\"text-align: right;\">\n      <th></th>\n      <th>AtBat</th>\n      <th>Hits</th>\n      <th>HmRun</th>\n      <th>Runs</th>\n      <th>RBI</th>\n      <th>Walks</th>\n      <th>Years</th>\n      <th>CAtBat</th>\n      <th>CHits</th>\n      <th>CHmRun</th>\n      <th>CRuns</th>\n      <th>CRBI</th>\n      <th>CWalks</th>\n      <th>PutOuts</th>\n      <th>Assists</th>\n      <th>Errors</th>\n      <th>League_N</th>\n      <th>Division_W</th>\n      <th>NewLeague_N</th>\n    </tr>\n  </thead>\n  <tbody>\n    <tr>\n      <th>148</th>\n      <td>497.0</td>\n      <td>136.0</td>\n      <td>7.0</td>\n      <td>58.0</td>\n      <td>38.0</td>\n      <td>26.0</td>\n      <td>11.0</td>\n      <td>3871.0</td>\n      <td>1066.0</td>\n      <td>40.0</td>\n      <td>450.0</td>\n      <td>367.0</td>\n      <td>241.0</td>\n      <td>304.0</td>\n      <td>347.0</td>\n      <td>10.0</td>\n      <td>0</td>\n      <td>0</td>\n      <td>0</td>\n    </tr>\n    <tr>\n      <th>154</th>\n      <td>537.0</td>\n      <td>147.0</td>\n      <td>23.0</td>\n      <td>58.0</td>\n      <td>88.0</td>\n      <td>47.0</td>\n      <td>10.0</td>\n      <td>2744.0</td>\n      <td>730.0</td>\n      <td>97.0</td>\n      <td>302.0</td>\n      <td>351.0</td>\n      <td>174.0</td>\n      <td>92.0</td>\n      <td>257.0</td>\n      <td>20.0</td>\n      <td>1</td>\n      <td>0</td>\n      <td>1</td>\n    </tr>\n    <tr>\n      <th>318</th>\n      <td>492.0</td>\n      <td>136.0</td>\n      <td>5.0</td>\n      <td>76.0</td>\n      <td>50.0</td>\n      <td>94.0</td>\n      <td>12.0</td>\n      <td>5511.0</td>\n      <td>1511.0</td>\n      <td>39.0</td>\n      <td>897.0</td>\n      <td>451.0</td>\n      <td>875.0</td>\n      <td>313.0</td>\n      <td>381.0</td>\n      <td>20.0</td>\n      <td>0</td>\n      <td>0</td>\n      <td>0</td>\n    </tr>\n    <tr>\n      <th>279</th>\n      <td>439.0</td>\n      <td>96.0</td>\n      <td>0.0</td>\n      <td>44.0</td>\n      <td>36.0</td>\n      <td>65.0</td>\n      <td>4.0</td>\n      <td>711.0</td>\n      <td>148.0</td>\n      <td>1.0</td>\n      <td>68.0</td>\n      <td>56.0</td>\n      <td>99.0</td>\n      <td>229.0</td>\n      <td>406.0</td>\n      <td>22.0</td>\n      <td>1</td>\n      <td>0</td>\n      <td>1</td>\n    </tr>\n    <tr>\n      <th>88</th>\n      <td>155.0</td>\n      <td>41.0</td>\n      <td>12.0</td>\n      <td>21.0</td>\n      <td>29.0</td>\n      <td>22.0</td>\n      <td>16.0</td>\n      <td>5409.0</td>\n      <td>1338.0</td>\n      <td>181.0</td>\n      <td>746.0</td>\n      <td>805.0</td>\n      <td>875.0</td>\n      <td>165.0</td>\n      <td>9.0</td>\n      <td>1.0</td>\n      <td>0</td>\n      <td>1</td>\n      <td>0</td>\n    </tr>\n    <tr>\n      <th>...</th>\n      <td>...</td>\n      <td>...</td>\n      <td>...</td>\n      <td>...</td>\n      <td>...</td>\n      <td>...</td>\n      <td>...</td>\n      <td>...</td>\n      <td>...</td>\n      <td>...</td>\n      <td>...</td>\n      <td>...</td>\n      <td>...</td>\n      <td>...</td>\n      <td>...</td>\n      <td>...</td>\n      <td>...</td>\n      <td>...</td>\n      <td>...</td>\n    </tr>\n    <tr>\n      <th>122</th>\n      <td>539.0</td>\n      <td>139.0</td>\n      <td>5.0</td>\n      <td>93.0</td>\n      <td>58.0</td>\n      <td>69.0</td>\n      <td>5.0</td>\n      <td>1469.0</td>\n      <td>369.0</td>\n      <td>12.0</td>\n      <td>247.0</td>\n      <td>126.0</td>\n      <td>198.0</td>\n      <td>462.0</td>\n      <td>9.0</td>\n      <td>7.0</td>\n      <td>0</td>\n      <td>1</td>\n      <td>0</td>\n    </tr>\n    <tr>\n      <th>282</th>\n      <td>633.0</td>\n      <td>210.0</td>\n      <td>6.0</td>\n      <td>91.0</td>\n      <td>56.0</td>\n      <td>59.0</td>\n      <td>6.0</td>\n      <td>3070.0</td>\n      <td>872.0</td>\n      <td>19.0</td>\n      <td>420.0</td>\n      <td>230.0</td>\n      <td>274.0</td>\n      <td>367.0</td>\n      <td>432.0</td>\n      <td>16.0</td>\n      <td>1</td>\n      <td>1</td>\n      <td>1</td>\n    </tr>\n    <tr>\n      <th>111</th>\n      <td>325.0</td>\n      <td>76.0</td>\n      <td>16.0</td>\n      <td>33.0</td>\n      <td>52.0</td>\n      <td>37.0</td>\n      <td>5.0</td>\n      <td>1506.0</td>\n      <td>351.0</td>\n      <td>71.0</td>\n      <td>195.0</td>\n      <td>219.0</td>\n      <td>214.0</td>\n      <td>726.0</td>\n      <td>87.0</td>\n      <td>3.0</td>\n      <td>1</td>\n      <td>1</td>\n      <td>0</td>\n    </tr>\n    <tr>\n      <th>232</th>\n      <td>313.0</td>\n      <td>83.0</td>\n      <td>9.0</td>\n      <td>43.0</td>\n      <td>41.0</td>\n      <td>30.0</td>\n      <td>14.0</td>\n      <td>5885.0</td>\n      <td>1543.0</td>\n      <td>104.0</td>\n      <td>751.0</td>\n      <td>714.0</td>\n      <td>535.0</td>\n      <td>58.0</td>\n      <td>141.0</td>\n      <td>23.0</td>\n      <td>1</td>\n      <td>1</td>\n      <td>1</td>\n    </tr>\n    <tr>\n      <th>51</th>\n      <td>214.0</td>\n      <td>53.0</td>\n      <td>2.0</td>\n      <td>30.0</td>\n      <td>29.0</td>\n      <td>23.0</td>\n      <td>2.0</td>\n      <td>226.0</td>\n      <td>59.0</td>\n      <td>2.0</td>\n      <td>32.0</td>\n      <td>32.0</td>\n      <td>27.0</td>\n      <td>109.0</td>\n      <td>7.0</td>\n      <td>3.0</td>\n      <td>1</td>\n      <td>0</td>\n      <td>1</td>\n    </tr>\n  </tbody>\n</table>\n<p>66 rows × 19 columns</p>\n</div>"
     },
     "execution_count": 348,
     "metadata": {},
     "output_type": "execute_result"
    }
   ],
   "source": [
    "x_test"
   ],
   "metadata": {
    "collapsed": false,
    "ExecuteTime": {
     "end_time": "2024-02-25T15:27:50.191051600Z",
     "start_time": "2024-02-25T15:27:49.970552600Z"
    }
   },
   "id": "6e5f9c82052c0504",
   "execution_count": 348
  },
  {
   "cell_type": "code",
   "outputs": [
    {
     "data": {
      "text/plain": "183     125.000\n229    1940.000\n286     940.000\n102     375.000\n153     100.000\n         ...   \n24      776.667\n236     750.000\n93      145.000\n137     430.000\n133      87.500\nName: Salary, Length: 197, dtype: float64"
     },
     "execution_count": 349,
     "metadata": {},
     "output_type": "execute_result"
    }
   ],
   "source": [
    "y_train"
   ],
   "metadata": {
    "collapsed": false,
    "ExecuteTime": {
     "end_time": "2024-02-25T15:27:50.257626800Z",
     "start_time": "2024-02-25T15:27:50.045990100Z"
    }
   },
   "id": "851f9d3813bb853e",
   "execution_count": 349
  },
  {
   "cell_type": "code",
   "outputs": [
    {
     "data": {
      "text/plain": "148    850.0\n154    277.5\n318    875.0\n279    150.0\n88     260.0\n       ...  \n122    400.0\n282     90.0\n111    385.0\n232    450.0\n51      70.0\nName: Salary, Length: 66, dtype: float64"
     },
     "execution_count": 350,
     "metadata": {},
     "output_type": "execute_result"
    }
   ],
   "source": [
    "y_test"
   ],
   "metadata": {
    "collapsed": false,
    "ExecuteTime": {
     "end_time": "2024-02-25T15:27:50.414234400Z",
     "start_time": "2024-02-25T15:27:50.244666600Z"
    }
   },
   "id": "c4574e0aec498488",
   "execution_count": 350
  },
  {
   "cell_type": "code",
   "outputs": [
    {
     "data": {
      "text/plain": "(263, 20)"
     },
     "execution_count": 351,
     "metadata": {},
     "output_type": "execute_result"
    }
   ],
   "source": [
    "df.shape"
   ],
   "metadata": {
    "collapsed": false,
    "ExecuteTime": {
     "end_time": "2024-02-25T15:27:50.602826400Z",
     "start_time": "2024-02-25T15:27:50.413237300Z"
    }
   },
   "id": "6f9e60e85c974f5d",
   "execution_count": 351
  },
  {
   "cell_type": "code",
   "outputs": [],
   "source": [
    "ridgeModel = Ridge(alpha=5).fit(x_train,y_train) # alpha lamdaya denk geliyor"
   ],
   "metadata": {
    "collapsed": false,
    "ExecuteTime": {
     "end_time": "2024-02-25T15:27:50.815423500Z",
     "start_time": "2024-02-25T15:27:50.558353Z"
    }
   },
   "id": "f4fdfdf7dcc0999d",
   "execution_count": 352
  },
  {
   "cell_type": "code",
   "outputs": [
    {
     "data": {
      "text/plain": "Ridge(alpha=5)",
      "text/html": "<style>#sk-container-id-13 {color: black;}#sk-container-id-13 pre{padding: 0;}#sk-container-id-13 div.sk-toggleable {background-color: white;}#sk-container-id-13 label.sk-toggleable__label {cursor: pointer;display: block;width: 100%;margin-bottom: 0;padding: 0.3em;box-sizing: border-box;text-align: center;}#sk-container-id-13 label.sk-toggleable__label-arrow:before {content: \"▸\";float: left;margin-right: 0.25em;color: #696969;}#sk-container-id-13 label.sk-toggleable__label-arrow:hover:before {color: black;}#sk-container-id-13 div.sk-estimator:hover label.sk-toggleable__label-arrow:before {color: black;}#sk-container-id-13 div.sk-toggleable__content {max-height: 0;max-width: 0;overflow: hidden;text-align: left;background-color: #f0f8ff;}#sk-container-id-13 div.sk-toggleable__content pre {margin: 0.2em;color: black;border-radius: 0.25em;background-color: #f0f8ff;}#sk-container-id-13 input.sk-toggleable__control:checked~div.sk-toggleable__content {max-height: 200px;max-width: 100%;overflow: auto;}#sk-container-id-13 input.sk-toggleable__control:checked~label.sk-toggleable__label-arrow:before {content: \"▾\";}#sk-container-id-13 div.sk-estimator input.sk-toggleable__control:checked~label.sk-toggleable__label {background-color: #d4ebff;}#sk-container-id-13 div.sk-label input.sk-toggleable__control:checked~label.sk-toggleable__label {background-color: #d4ebff;}#sk-container-id-13 input.sk-hidden--visually {border: 0;clip: rect(1px 1px 1px 1px);clip: rect(1px, 1px, 1px, 1px);height: 1px;margin: -1px;overflow: hidden;padding: 0;position: absolute;width: 1px;}#sk-container-id-13 div.sk-estimator {font-family: monospace;background-color: #f0f8ff;border: 1px dotted black;border-radius: 0.25em;box-sizing: border-box;margin-bottom: 0.5em;}#sk-container-id-13 div.sk-estimator:hover {background-color: #d4ebff;}#sk-container-id-13 div.sk-parallel-item::after {content: \"\";width: 100%;border-bottom: 1px solid gray;flex-grow: 1;}#sk-container-id-13 div.sk-label:hover label.sk-toggleable__label {background-color: #d4ebff;}#sk-container-id-13 div.sk-serial::before {content: \"\";position: absolute;border-left: 1px solid gray;box-sizing: border-box;top: 0;bottom: 0;left: 50%;z-index: 0;}#sk-container-id-13 div.sk-serial {display: flex;flex-direction: column;align-items: center;background-color: white;padding-right: 0.2em;padding-left: 0.2em;position: relative;}#sk-container-id-13 div.sk-item {position: relative;z-index: 1;}#sk-container-id-13 div.sk-parallel {display: flex;align-items: stretch;justify-content: center;background-color: white;position: relative;}#sk-container-id-13 div.sk-item::before, #sk-container-id-13 div.sk-parallel-item::before {content: \"\";position: absolute;border-left: 1px solid gray;box-sizing: border-box;top: 0;bottom: 0;left: 50%;z-index: -1;}#sk-container-id-13 div.sk-parallel-item {display: flex;flex-direction: column;z-index: 1;position: relative;background-color: white;}#sk-container-id-13 div.sk-parallel-item:first-child::after {align-self: flex-end;width: 50%;}#sk-container-id-13 div.sk-parallel-item:last-child::after {align-self: flex-start;width: 50%;}#sk-container-id-13 div.sk-parallel-item:only-child::after {width: 0;}#sk-container-id-13 div.sk-dashed-wrapped {border: 1px dashed gray;margin: 0 0.4em 0.5em 0.4em;box-sizing: border-box;padding-bottom: 0.4em;background-color: white;}#sk-container-id-13 div.sk-label label {font-family: monospace;font-weight: bold;display: inline-block;line-height: 1.2em;}#sk-container-id-13 div.sk-label-container {text-align: center;}#sk-container-id-13 div.sk-container {/* jupyter's `normalize.less` sets `[hidden] { display: none; }` but bootstrap.min.css set `[hidden] { display: none !important; }` so we also need the `!important` here to be able to override the default hidden behavior on the sphinx rendered scikit-learn.org. See: https://github.com/scikit-learn/scikit-learn/issues/21755 */display: inline-block !important;position: relative;}#sk-container-id-13 div.sk-text-repr-fallback {display: none;}</style><div id=\"sk-container-id-13\" class=\"sk-top-container\"><div class=\"sk-text-repr-fallback\"><pre>Ridge(alpha=5)</pre><b>In a Jupyter environment, please rerun this cell to show the HTML representation or trust the notebook. <br />On GitHub, the HTML representation is unable to render, please try loading this page with nbviewer.org.</b></div><div class=\"sk-container\" hidden><div class=\"sk-item\"><div class=\"sk-estimator sk-toggleable\"><input class=\"sk-toggleable__control sk-hidden--visually\" id=\"sk-estimator-id-13\" type=\"checkbox\" checked><label for=\"sk-estimator-id-13\" class=\"sk-toggleable__label sk-toggleable__label-arrow\">Ridge</label><div class=\"sk-toggleable__content\"><pre>Ridge(alpha=5)</pre></div></div></div></div></div>"
     },
     "execution_count": 353,
     "metadata": {},
     "output_type": "execute_result"
    }
   ],
   "source": [
    "ridgeModel"
   ],
   "metadata": {
    "collapsed": false,
    "ExecuteTime": {
     "end_time": "2024-02-25T15:27:50.921577500Z",
     "start_time": "2024-02-25T15:27:50.801958700Z"
    }
   },
   "id": "d80344c6528d9635",
   "execution_count": 353
  },
  {
   "cell_type": "code",
   "outputs": [
    {
     "data": {
      "text/plain": "array([ -1.81040449,   8.87872786,   7.12487047,  -3.31713488,\n        -2.01162162,   5.40691525,   7.25828404,  -0.13033385,\n        -0.25425913,  -0.71109275,   1.81452   ,   0.77083457,\n        -0.6768975 ,   0.26211894,   0.2646614 ,  -0.36947934,\n        76.19519054, -90.15523668, -16.00453535])"
     },
     "execution_count": 354,
     "metadata": {},
     "output_type": "execute_result"
    }
   ],
   "source": [
    "ridgeModel.coef_"
   ],
   "metadata": {
    "collapsed": false,
    "ExecuteTime": {
     "end_time": "2024-02-25T15:27:51.058914700Z",
     "start_time": "2024-02-25T15:27:50.908514900Z"
    }
   },
   "id": "785afa7b5497e091",
   "execution_count": 354
  },
  {
   "cell_type": "code",
   "outputs": [
    {
     "data": {
      "text/plain": "-3.4251968687162844"
     },
     "execution_count": 355,
     "metadata": {},
     "output_type": "execute_result"
    }
   ],
   "source": [
    "ridgeModel.intercept_"
   ],
   "metadata": {
    "collapsed": false,
    "ExecuteTime": {
     "end_time": "2024-02-25T15:27:51.130442100Z",
     "start_time": "2024-02-25T15:27:51.019786600Z"
    }
   },
   "id": "608773d2cd06648a",
   "execution_count": 355
  },
  {
   "cell_type": "code",
   "outputs": [],
   "source": [
    "lamdalar = 10**np.linspace(10,-2,100)*0.5"
   ],
   "metadata": {
    "collapsed": false,
    "ExecuteTime": {
     "end_time": "2024-02-25T15:27:51.294046900Z",
     "start_time": "2024-02-25T15:27:51.115419800Z"
    }
   },
   "id": "c301ea2f5abda88",
   "execution_count": 356
  },
  {
   "cell_type": "code",
   "outputs": [
    {
     "data": {
      "text/plain": "array([5.00000000e+09, 3.78231664e+09, 2.86118383e+09, 2.16438064e+09,\n       1.63727458e+09, 1.23853818e+09, 9.36908711e+08, 7.08737081e+08,\n       5.36133611e+08, 4.05565415e+08, 3.06795364e+08, 2.32079442e+08,\n       1.75559587e+08, 1.32804389e+08, 1.00461650e+08, 7.59955541e+07,\n       5.74878498e+07, 4.34874501e+07, 3.28966612e+07, 2.48851178e+07,\n       1.88246790e+07, 1.42401793e+07, 1.07721735e+07, 8.14875417e+06,\n       6.16423370e+06, 4.66301673e+06, 3.52740116e+06, 2.66834962e+06,\n       2.01850863e+06, 1.52692775e+06, 1.15506485e+06, 8.73764200e+05,\n       6.60970574e+05, 5.00000000e+05, 3.78231664e+05, 2.86118383e+05,\n       2.16438064e+05, 1.63727458e+05, 1.23853818e+05, 9.36908711e+04,\n       7.08737081e+04, 5.36133611e+04, 4.05565415e+04, 3.06795364e+04,\n       2.32079442e+04, 1.75559587e+04, 1.32804389e+04, 1.00461650e+04,\n       7.59955541e+03, 5.74878498e+03, 4.34874501e+03, 3.28966612e+03,\n       2.48851178e+03, 1.88246790e+03, 1.42401793e+03, 1.07721735e+03,\n       8.14875417e+02, 6.16423370e+02, 4.66301673e+02, 3.52740116e+02,\n       2.66834962e+02, 2.01850863e+02, 1.52692775e+02, 1.15506485e+02,\n       8.73764200e+01, 6.60970574e+01, 5.00000000e+01, 3.78231664e+01,\n       2.86118383e+01, 2.16438064e+01, 1.63727458e+01, 1.23853818e+01,\n       9.36908711e+00, 7.08737081e+00, 5.36133611e+00, 4.05565415e+00,\n       3.06795364e+00, 2.32079442e+00, 1.75559587e+00, 1.32804389e+00,\n       1.00461650e+00, 7.59955541e-01, 5.74878498e-01, 4.34874501e-01,\n       3.28966612e-01, 2.48851178e-01, 1.88246790e-01, 1.42401793e-01,\n       1.07721735e-01, 8.14875417e-02, 6.16423370e-02, 4.66301673e-02,\n       3.52740116e-02, 2.66834962e-02, 2.01850863e-02, 1.52692775e-02,\n       1.15506485e-02, 8.73764200e-03, 6.60970574e-03, 5.00000000e-03])"
     },
     "execution_count": 357,
     "metadata": {},
     "output_type": "execute_result"
    }
   ],
   "source": [
    "lamdalar"
   ],
   "metadata": {
    "collapsed": false,
    "ExecuteTime": {
     "end_time": "2024-02-25T15:27:51.370584400Z",
     "start_time": "2024-02-25T15:27:51.269544500Z"
    }
   },
   "id": "2f575cafa60af8b",
   "execution_count": 357
  },
  {
   "cell_type": "code",
   "outputs": [],
   "source": [
    "ridgeModel = Ridge()\n",
    "katsayilar = []\n",
    "\n",
    "for i in lamdalar:\n",
    "    ridgeModel.set_params(alpha = i)\n",
    "    ridgeModel.fit(x_train,y_train)\n",
    "    katsayilar.append(ridgeModel.coef_) "
   ],
   "metadata": {
    "collapsed": false,
    "ExecuteTime": {
     "end_time": "2024-02-25T15:27:51.821881100Z",
     "start_time": "2024-02-25T15:27:51.367595Z"
    }
   },
   "id": "44efa14b106cb23b",
   "execution_count": 358
  },
  {
   "cell_type": "code",
   "outputs": [
    {
     "data": {
      "text/plain": "[array([ 1.08705828e-03,  3.59972026e-04,  5.52181027e-05,  1.92813177e-04,\n         1.96696069e-04,  1.59478501e-04,  2.78199599e-05,  1.78978518e-02,\n         5.28448603e-03,  6.33684784e-04,  2.78574434e-03,  2.70578331e-03,\n         1.95710128e-03,  1.87423190e-03,  1.54040667e-04,  2.97933111e-06,\n         2.39984989e-07, -1.51804510e-06,  3.31089982e-07]),\n array([ 1.41677983e-03,  4.69820454e-04,  7.18242293e-05,  2.52218183e-04,\n         2.55763476e-04,  2.07728851e-04,  3.41731833e-05,  2.22675231e-02,\n         6.58971645e-03,  7.96723486e-04,  3.48283639e-03,  3.38849662e-03,\n         2.44474193e-03,  2.46055074e-03,  2.00411447e-04,  4.05879985e-06,\n         3.06791363e-07, -2.00697735e-06,  4.22750663e-07]),\n array([ 1.84180994e-03,  6.11797854e-04,  9.31516430e-05,  3.29313865e-04,\n         3.31574150e-04,  2.69862282e-04,  4.11993224e-05,  2.73092348e-02,\n         8.10613246e-03,  9.90615632e-04,  4.29892819e-03,  4.19154557e-03,\n         3.01420413e-03,  3.22598807e-03,  2.59998767e-04,  5.54696646e-06,\n         3.89590845e-07, -2.65335139e-06,  5.35999686e-07]),\n array([ 2.38835573e-03,  7.94911180e-04,  1.20464748e-04,  4.29197870e-04,\n         4.28587877e-04,  3.49672945e-04,  4.85735865e-05,  3.29487297e-02,\n         9.81901671e-03,  1.21671761e-03,  5.23061273e-03,  5.11427511e-03,\n         3.66208312e-03,  4.22364586e-03,  3.36365620e-04,  7.59686227e-06,\n         4.91353840e-07, -3.50777634e-06,  6.74604224e-07]),\n array([ 3.09009626e-03,  1.03077807e-03,  1.55382775e-04,  5.58473604e-04,\n         5.52508877e-04,  4.52038103e-04,  5.57795062e-05,  3.90401495e-02,\n         1.16953022e-02,  1.47539158e-03,  6.26651564e-03,  6.14928402e-03,\n         4.37897884e-03,  5.52205602e-03,  4.34090225e-04,  1.04109479e-05,\n         6.15653427e-07, -4.63702970e-06,  8.42961127e-07]),\n array([ 3.99078636e-03,  1.33452564e-03,  2.00008537e-04,  7.25754223e-04,\n         7.10738029e-04,  5.83304802e-04,  6.21041602e-05,  4.53725039e-02,\n         1.36860237e-02,  1.76653067e-03,  7.38894131e-03,  7.28417751e-03,\n         5.15056825e-03,  7.20959605e-03,  5.59142468e-04,  1.42511133e-05,\n         7.67085867e-07, -6.12914603e-06,  1.04655631e-06]),\n array([ 5.14774210e-03,  1.72599105e-03,  2.57103265e-04,  9.42329790e-04,\n         9.12986699e-04,  7.51813035e-04,  6.66592521e-05,  5.16922252e-02,\n         1.57335162e-02,  2.09064895e-03,  8.57804087e-03,  8.50573034e-03,\n         5.96044306e-03,  9.39987293e-03,  7.19400260e-04,  1.94483594e-05,\n         9.51936629e-07, -8.10006447e-06,  1.29268236e-06]),\n array([ 6.63625037e-03,  2.23124851e-03,  3.30309746e-04,  1.22301529e-03,\n         1.17205779e-03,  9.68565766e-04,  6.84187693e-05,  5.77371815e-02,\n         1.77820817e-02,  2.45041949e-03,  9.81789688e-03,  9.80588055e-03,\n         6.79427058e-03,  1.22378921e-02,  9.25318808e-04,  2.64114755e-05,\n         1.17910270e-06, -1.07022908e-05,  1.59137023e-06]),\n array([ 8.55483745e-03,  2.88445935e-03,  4.24420527e-04,  1.58718502e-03,\n         1.50477879e-03,  1.24804330e-03,  6.62540589e-05,  6.32720806e-02,\n         1.97893052e-02,  2.85238338e-03,  1.11031502e-02,  1.11882336e-02,\n         7.64428385e-03,  1.59064960e-02,  1.19075375e-03,  3.56332379e-05,\n         1.46126190e-06, -1.41361477e-05,  1.95642271e-06]),\n array([ 1.10312454e-02,  3.73002061e-03,  5.45684591e-04,  2.05998878e-03,\n         1.93305764e-03,  1.60915216e-03,  5.89463545e-05,  6.81144258e-02,\n         2.17349754e-02,  3.30852528e-03,  1.24446956e-02,  1.26736367e-02,\n         8.51303131e-03,  2.06320735e-02,  1.53393253e-03,  4.76905218e-05,\n         1.81630840e-06, -1.86643235e-05,  2.40641302e-06]),\n array([ 1.42288809e-02,  4.82496917e-03,  7.02143825e-04,  2.67373455e-03,\n         2.48502252e-03,  2.07629541e-03,  4.51663040e-05,  7.21446369e-02,\n         2.36258289e-02,  3.83753128e-03,  1.38736179e-02,  1.43039512e-02,\n         9.41577138e-03,  2.66878486e-02,  1.97856321e-03,  6.32307599e-05,\n         2.26916665e-06, -2.46305879e-05,  2.96553891e-06]),\n array([ 1.83533492e-02,  6.24156186e-03,  9.03986475e-04,  3.46940075e-03,\n         3.19618820e-03,  2.68054308e-03,  2.34244013e-05,  7.53005841e-02,\n         2.54962052e-02,  4.46571897e-03,  1.54434962e-02,  1.61439894e-02,\n         1.03815693e-02,  3.43920784e-02,  2.55505046e-03,  8.29312258e-05,\n         2.85425312e-06, -3.24837353e-05,  3.66428247e-06]),\n array([ 2.36583931e-02,  8.06987606e-03,  1.16389452e-03,  4.49819833e-03,\n         4.11055071e-03,  3.46085782e-03, -7.99178240e-06,  7.75617205e-02,\n         2.74060905e-02,  5.22774181e-03,  1.72319022e-02,  1.82821668e-02,\n         1.14536429e-02,  4.40972790e-02,  3.30173084e-03,  1.07409746e-04,\n         3.61908966e-06, -4.28080520e-05,  4.53991031e-06]),\n array([ 3.04501016e-02,  1.04201578e-02,  1.49734514e-03,  5.82303756e-03,\n         5.28144612e-03,  4.46529082e-03, -5.10715931e-05,  7.89293976e-02,\n         2.94384183e-02,  6.16716441e-03,  1.93421004e-02,  2.08305107e-02,\n         1.26896156e-02,  5.61654836e-02,  4.26591900e-03,  1.37056133e-04,\n         4.62994572e-06, -5.63619514e-05,  5.63701574e-06]),\n array([ 3.90877335e-02,  1.34245129e-02,  1.92280724e-03,  7.51967840e-03,\n         6.77193714e-03,  5.75201908e-03, -1.08103747e-04,  7.94085363e-02,\n         3.16971295e-02,  7.33690583e-03,  2.19057141e-02,  2.39243876e-02,\n         1.41621442e-02,  7.09243460e-02,  5.50434864e-03,  1.71744357e-04,\n         5.98103051e-06, -7.41269482e-05,  7.00870479e-06]),\n array([ 4.99790908e-02,  1.72374527e-02,  2.46176162e-03,  9.67728453e-03,\n         8.65444650e-03,  7.39007141e-03, -1.81647005e-04,  7.89933590e-02,\n         3.43069156e-02,  8.79941161e-03,  2.50867048e-02,  2.77219584e-02,\n         1.59600508e-02,  8.86010366e-02,  7.08228283e-03,  2.10379504e-04,\n         7.80986903e-06, -9.73700195e-05,  8.71990580e-06]),\n array([ 6.35683184e-02,  2.20348389e-02,  3.13847615e-03,  1.23980931e-02,\n         1.10093810e-02,  9.45961578e-03, -2.74433813e-04,  7.76577086e-02,\n         3.74152151e-02,  1.06262815e-02,  2.90865964e-02,  3.24031662e-02,\n         1.81897361e-02,  1.09236939e-01,  9.07018129e-03,  2.50236073e-04,\n         1.03233178e-05, -1.27723784e-04,  1.08559283e-05]),\n array([ 8.03144193e-02,  2.80109646e-02,  3.97948810e-03,  1.57959666e-02,\n         1.39225986e-02,  1.20517651e-02, -3.89198631e-04,  7.53491228e-02,\n         4.11970425e-02,  1.28969399e-02,  3.41504870e-02,  3.81680540e-02,\n         2.09762607e-02,  1.32596777e-01,  1.15364715e-02,  2.86060551e-04,\n         1.38414001e-05, -1.67290929e-04,  1.35420021e-05]),\n array([ 1.00659415e-01,  3.53737763e-02,  5.01276201e-03,  1.99936664e-02,\n         1.74817046e-02,  1.52679591e-02, -5.28428627e-04,  7.19852765e-02,\n         4.58634610e-02,  1.56957180e-02,  4.05729409e-02,  4.52341750e-02,\n         2.44629669e-02,  1.58098532e-01,  1.45349889e-02,  3.08943729e-04,\n         1.88697449e-05, -2.18781763e-04,  1.69829249e-05]),\n array([ 1.24985300e-01,  4.43383743e-02,  6.26646135e-03,  2.51186578e-02,\n         2.17711724e-02,  1.92189991e-02, -6.94031851e-04,  6.74515998e-02,\n         5.16745666e-02,  1.91063111e-02,  4.87021870e-02,  5.38323815e-02,\n         2.88077603e-02,  1.84798490e-01,  1.80865855e-02,  3.05013003e-04,\n         2.62154267e-05, -2.85696212e-04,  2.15353352e-05]),\n array([ 1.53558197e-01,  5.51187291e-02,  7.76715884e-03,  3.12970555e-02,\n         2.68660409e-02,  2.40236617e-02, -8.86898780e-04,  6.15998145e-02,\n         5.89572171e-02,  2.32019817e-02,  5.89401216e-02,  6.41990135e-02,\n         3.41732141e-02,  2.11459552e-01,  2.21569148e-02,  2.54044649e-04,\n         3.71643214e-05, -3.72563522e-04,  2.78270230e-05]),\n array([ 1.86457341e-01,  6.79172663e-02,  9.53716658e-03,  3.86451070e-02,\n         3.28235831e-02,  2.98066321e-02, -1.10629915e-03,  5.42486226e-02,\n         6.81259518e-02,  2.80294254e-02,  7.17346292e-02,  7.65608732e-02,\n         4.07069956e-02,  2.36706263e-01,  2.66367239e-02,  1.28145040e-04,\n         5.37390333e-05, -4.85254784e-04,  3.69363946e-05]),\n array([ 2.23488679e-01,  8.29124771e-02,  1.15906901e-02,  4.72579656e-02,\n         3.96724511e-02,  3.66957155e-02, -1.34902777e-03,  4.51891944e-02,\n         7.97025208e-02,  3.35848087e-02,  8.75603655e-02,  9.11090818e-02,\n         4.85098565e-02,  2.59234910e-01,  3.13359801e-02, -1.09311057e-04,\n         7.90531634e-05, -6.31387074e-04,  5.06394947e-05]),\n array([ 2.64091406e-01,  1.00247072e-01,  1.39289695e-02,  5.71971039e-02,\n         4.74001434e-02,  4.48194982e-02, -1.60821935e-03,  3.41983905e-02,\n         9.43255889e-02,  3.97832322e-02,  1.06885319e-01,  1.07961438e-01,\n         5.75920571e-02,  2.78020879e-01,  3.60055069e-02, -5.04310897e-04,\n         1.17769153e-04, -8.20846578e-04,  7.17218276e-05]),\n array([ 3.07259930e-01,  1.20023291e-01,  1.65355470e-02,  6.84805408e-02,\n         5.59422985e-02,  5.43089014e-02, -1.87179996e-03,  2.10611519e-02,\n         1.12738462e-01,  4.64280598e-02,  1.30123747e-01,  1.27121136e-01,\n         6.78260905e-02,  2.92464684e-01,  4.03947313e-02, -1.11239332e-03,\n         1.76654795e-04, -1.06647321e-03,  1.04339598e-04]),\n array([ 3.51515911e-01,  1.42315715e-01,  1.93739007e-02,  8.10827983e-02,\n         6.51800228e-02,  6.53084038e-02, -2.12059533e-03,  5.60078488e-03,\n         1.35740789e-01,  5.31920946e-02,  1.57580614e-01,  1.48449082e-01,\n         7.89114962e-02,  3.02442388e-01,  4.43389399e-02, -1.99879194e-03,\n         2.65224510e-04, -1.38496929e-03,  1.54405607e-04]),\n array([ 3.94963670e-01,  1.67212044e-01,  2.23900744e-02,  9.49519148e-02,\n         7.49518524e-02,  7.80032771e-02, -2.32611607e-03, -1.22861853e-02,\n         1.64092518e-01,  5.96238619e-02,  1.89396119e-01,  1.71669244e-01,\n         9.03706006e-02,  3.08260068e-01,  4.78484595e-02, -3.23949414e-03,\n         3.96457704e-04, -1.79811559e-03,  2.29979158e-04]),\n array([ 4.35440787e-01,  1.94886967e-01,  2.55218451e-02,  1.10047299e-01,\n         8.50833041e-02,  9.26665587e-02, -2.44796656e-03, -3.25937122e-02,\n         1.98367303e-01,  6.51849964e-02,  2.25498900e-01,  1.96414281e-01,\n         1.01586618e-01,  3.10538783e-01,  5.11581599e-02, -4.92458797e-03,\n         5.87619775e-04, -2.33439666e-03,  3.41667593e-04]),\n array([ 0.4707398 ,  0.22570501,  0.02871347,  0.12639534,  0.09542999,\n         0.10972413, -0.00243074, -0.05516994,  0.23876852,  0.06931006,\n         0.26557372,  0.2222951 ,  0.11187863,  0.31006874,  0.05470242,\n        -0.00716513,  0.00086127, -0.00303116,  0.0005031 ]),\n array([ 0.49884358,  0.26033979,  0.03193236,  0.14415252,  0.10592353,\n         0.12983066, -0.00220023, -0.07968271,  0.28494095,  0.07146667,\n         0.30904807,  0.24895963,  0.12059091,  0.30767017,  0.05901068,\n        -0.01010398,  0.00124662, -0.00393745,  0.0007316 ]),\n array([ 0.51810441,  0.29989425,  0.03518278,  0.16366201,  0.11660696,\n         0.15394607, -0.00165906, -0.10559393,  0.33582833,  0.07119222,\n         0.35510609,  0.27611091,  0.12716769,  0.30408785,  0.06455753,\n        -0.01392994,  0.00178144, -0.00511776,  0.00104922]),\n array([ 0.52731238,  0.34600997,  0.0385126 ,  0.18549005,  0.1276497 ,\n         0.18340272, -0.00068181, -0.13215709,  0.38963232,  0.06809583,\n         0.40274434,  0.30348383,  0.13119077,  0.29993061,  0.07162596,\n        -0.01889366,  0.00251475, -0.0066569 ,  0.00148436]),\n array([ 0.52563557,  0.40096129,  0.04201125,  0.21043195,  0.13933819,\n         0.21995563,  0.00088985, -0.15845442,  0.44391197,  0.06183284,\n         0.45088281,  0.33080995,  0.13237205,  0.2956528 ,  0.08023781,\n        -0.02532345,  0.00351064, -0.00866639,  0.00207418]),\n array([ 0.51245689,  0.46773416,  0.04579935,  0.23947869,  0.15204364,\n         0.26581035,  0.00325215, -0.18347884,  0.49582229,  0.05207147,\n         0.49852755,  0.35780758,  0.13050722,  0.29156508,  0.09017435,\n        -0.03363913,  0.00485343, -0.01129272,  0.00286803]),\n array([ 0.48716485,  0.55008855,  0.05001106,  0.27373331,  0.16616941,\n         0.32362115,  0.00664439, -0.20624638,  0.54243844,  0.03847238,\n         0.54495307,  0.38421156,  0.1254093 ,  0.28786002,  0.10106927,\n        -0.04436196,  0.00665481, -0.01472784,  0.00393228]),\n array([ 0.4489693 ,  0.65259294,  0.0547705 ,  0.31425899,  0.18207896,\n         0.39644748,  0.01135508, -0.22590778,  0.58107838,  0.02069636,\n         0.58985146,  0.40982593,  0.11684682,  0.28464147,  0.11252912,\n        -0.05811777,  0.00906349, -0.01922258,  0.00535701]),\n array([ 0.3968063 ,  0.78060342,  0.06016408,  0.36183375,  0.20000384,\n         0.48764781,  0.01772912, -0.24182798,  0.60954426, -0.00155238,\n         0.63339787,  0.4345655 ,  0.10451029,  0.28195087,  0.12423297,\n        -0.07562832,  0.01227822, -0.02510361,  0.00726512]),\n array([ 0.32937467,  0.9401416 ,  0.06621354,  0.41658487,  0.21993467,\n         0.60068406,  0.02617569, -0.25361874,  0.62624781, -0.02844544,\n         0.67621095,  0.45845871,  0.0880216 ,  0.27978824,  0.13598169,\n        -0.09768359,  0.01656543, -0.03279487,  0.00982478]),\n array([ 0.24531948,  1.13761151,  0.07286178,  0.4774922 ,  0.2415094 ,\n         0.73881463,  0.03717582, -0.2611302 ,  0.63023671, -0.05991964,\n         0.71922379,  0.48160498,  0.06698821,  0.27812741,  0.1476926 ,\n        -0.12508529,  0.02228264, -0.04284536,  0.01326611]),\n array([ 0.1435482 ,  1.37929734,  0.07999484,  0.54179368,  0.26393219,\n         0.90467818,  0.05128863, -0.26442052,  0.62116703, -0.0955613 ,\n         0.76350787,  0.50410208,  0.04109169,  0.27692596,  0.15935413,\n        -0.15855204,  0.02990935, -0.05596537,  0.0179032 ]),\n array([ 0.02363255,  1.67061387,  0.08753565,  0.60440494,  0.28597299,\n         1.09981641,  0.06915608, -0.26372195,  0.59926001, -0.13453482,\n         0.81009977,  0.52597367,  0.01019011,  0.27613096,  0.17096354,\n        -0.19858115,  0.04008731, -0.07307487,  0.0241626 ]),\n array([-0.11378671,  2.01514908,  0.09564972,  0.65756367,  0.30609314,\n         1.32423652,  0.0915081 , -0.2594123 ,  0.56525502, -0.17562381,\n         0.85987142,  0.54713291, -0.02559235,  0.27568181,  0.18246959,\n        -0.2452718 ,  0.05367214, -0.09536904,  0.0326191 ]),\n array([-0.26670385,  2.41363844,  0.10508862,  0.69098126,  0.32269376,\n         1.57613996,  0.11917122, -0.25199043,  0.52034556, -0.21743938,\n         0.91346331,  0.56741057, -0.06581575,  0.27551143,  0.19373753,\n        -0.29813006,  0.07179912, -0.12440747,  0.04403999]),\n array([-0.43167285,  2.86310628,  0.11765572,  0.6927572 ,  0.33439715,\n         1.85191019,  0.15308516, -0.24204868,  0.46608227, -0.25878513,\n         0.97127119,  0.58665136, -0.10973206,  0.2755476 ,  0.20454612,\n        -0.35589354,  0.09596621, -0.16223522,  0.05943915]),\n array([-0.6040179 ,  3.35644666,  0.13671717,  0.65112408,  0.34019682,\n         2.14635766,  0.19433224, -0.23023687,  0.40424807, -0.29906764,\n         1.03344795,  0.60484538, -0.15634765,  0.27571572,  0.21461709,\n        -0.41642724,  0.12813948, -0.21154533,  0.0801436 ]),\n array([-0.77830722,  3.88264504,  0.16761906,  0.55675758,  0.33933019,\n         2.45312403,  0.24418475, -0.21721953,  0.33673633, -0.3385693 ,\n         1.09987502,  0.62223123, -0.20451768,  0.27594368,  0.2236679 ,\n        -0.47674786,  0.17088798, -0.27589485,  0.10787726]),\n array([-0.94897769,  4.42767568,  0.21783329,  0.40503507,  0.33087526,\n         2.76512455,  0.30417652, -0.20363305,  0.26546633, -0.37843093,\n         1.17008688,  0.63931124, -0.25304248,  0.27616801,  0.23147139,\n        -0.53322691,  0.22755856, -0.35998977,  0.14486916]),\n array([-1.11095288,  4.97592285,  0.29665745,  0.19746729,  0.31327399,\n         3.07497739,  0.37620355, -0.19005043,  0.19234109, -0.42032842,\n         1.24318757,  0.65676164, -0.30074808,  0.27633977,  0.23790421,\n        -0.58199675,  0.3025042 , -0.47005898,  0.19399524]),\n array([-1.26011918,  5.51184871,  0.4143498 , -0.05827957,  0.28409378,\n         3.37545591,  0.46264872, -0.17695715,  0.11921725, -0.46597955,\n         1.31783559,  0.67527456, -0.34655253,  0.27642815,  0.24297057,\n        -0.61952664,  0.40138114, -0.61434165,  0.25896264]),\n array([-1.39359306,  6.02159062,  0.58069505, -0.34983106,  0.24025666,\n         3.66000488,  0.56650459, -0.16473766,  0.04784951, -0.51667315,\n         1.39235321,  0.69539447, -0.389528  ,  0.27642056,  0.24679657,\n        -0.64325304,  0.5315299 , -0.80371445,  0.34454253]),\n array([-1.5097815 ,  6.49419307,  0.80316402, -0.66248462,  0.17873841,\n         3.9232733 ,  0.69144007, -0.15367066, -0.02019658, -0.57295067,\n         1.46494569,  0.71739679, -0.42895941,  0.27631954,  0.24959917,\n        -0.6520776 ,  0.70245206, -1.05248262,  0.45685054]),\n array([-1.60827968,  6.92225972,  1.0850129 , -0.98166033,  0.09750881,\n         4.16152392,  0.84173537, -0.14393249, -0.08363246, -0.63446354,\n         1.5339501 ,  0.74122336, -0.46438666,  0.2761376 ,  0.2516403 ,\n        -0.64655042,  0.92638753, -1.37935217,  0.60366354]),\n array([-1.68966187e+00,  7.30195969e+00,  1.42381149e+00, -1.29468666e+00,\n        -3.62900944e-03,  4.37278186e+00,  1.02201054e+00, -1.35608227e-01,\n        -1.41494723e-01, -6.99968600e-01,  1.59802280e+00,  7.66468354e-01,\n        -4.95614137e-01,  2.75891667e-01,  2.53178738e-01, -6.28664546e-01,\n         1.21898388e+00, -1.80858680e+00,  7.94743507e-01]),\n array([-1.75521934,  7.63250922,  1.810921  , -1.59163889, -0.12260881,\n         4.55668845,  1.23670227, -0.12870825, -0.19313812, -0.76742926,\n         1.65621877,  0.79240809, -0.52268312,  0.27559826,  0.25443116,\n        -0.60134741,  1.60002415, -2.37132894,  1.04210968]),\n array([-1.80669081,  7.91538656,  2.23228563, -1.86540884, -0.25524844,\n         4.71414786,  1.4893048 , -0.12318631, -0.23819186, -0.83422019,\n         1.70797608,  0.81807576, -0.54581766,  0.27526998,  0.25554995,\n        -0.56784719,  2.09413745, -3.10702231,  1.36015201]),\n array([-1.8460197 ,  8.15355087,  2.67052913, -2.11139641, -0.39594744,\n         4.84691116,  1.7814807 , -0.11895504, -0.2765114 , -0.89743421,\n         1.75305172,  0.84237965, -0.56536284,  0.27491346,  0.25661944,\n        -0.53121227,  2.73135033, -4.06480085,  1.76540696]),\n array([-1.87515919,  8.35083325,  3.107865  , -2.32714395, -0.53872158,\n         4.95721543,  2.11225087, -0.115897  , -0.30814612, -0.95425156,\n         1.79145062,  0.8642477 , -0.58173065,  0.27452851,  0.2576669 ,\n        -0.49397252,  3.5472491 , -5.30458807,  2.27572284]),\n array([-1.89593262,  8.51152795,  3.52898445, -2.51203537, -0.67825363,\n         5.04752698,  2.47754217, -0.11387258, -0.33332037, -1.00228798,\n         1.82336571,  0.88276469, -0.59535973,  0.27410836,  0.25868123,\n        -0.45802465,  4.5824306 , -6.89746573,  2.9084461 ]),\n array([-1.90994639,  8.64011983,  3.92310473, -2.66702658, -0.81066339,\n         5.12038018,  2.87033297, -0.11272745, -0.3524116 , -1.03983364,\n         1.84912635,  0.89726768, -0.60668768,  0.2736409 ,  0.25963217,\n        -0.42465708,  5.88086742, -8.92461954,  3.67721061]),\n array([ -1.9185465 ,   8.74107098,   4.28473642,  -2.79433964,\n         -0.9338395 ,   5.17828063,   3.28144629,  -0.11230164,\n         -0.36591278,  -1.06594   ,   1.86914816,   0.90738272,\n         -0.61613119,   0.27311095,   0.26048537,  -0.39463809,\n          7.48688573, -11.47390082,   4.58699972]),\n array([ -1.92280945,   8.81862902,   4.61322124,  -2.89710054,\n         -1.0473443 ,   5.22364529,   3.70075885,  -0.11244021,\n         -0.3743809 ,  -1.08037534,   1.88388412,   0.91301087,\n         -0.62407042,   0.27250335,   0.26121161,  -0.36831577,\n          9.44075517, -14.63288659,   5.62749321]),\n array([ -1.92356056,   8.87666466,   4.91143543,  -2.97895449,\n         -1.15201594,   5.25876301,   4.1183964 ,  -0.11300313,\n         -0.37838604,  -1.08351161,   1.89378531,   0.9142872 ,\n         -0.63083652,   0.27180653,   0.26179136,  -0.34571301,\n         11.77349146, -18.47751473,   6.76539754]),\n array([ -1.92141509,   8.91856616,   5.18414497,  -3.04370749,\n         -1.24942102,   5.28576369,   4.52552842,  -0.11387199,\n         -0.37847759,  -1.07620488,   1.89928279,   0.9115363 ,\n         -0.63670275,   0.2710162 ,   0.26221639,  -0.32662596,\n         14.50228148, -23.05623072,   7.93741531]),\n array([ -1.9168372 ,   8.94720973,   5.43641484,  -3.09502361,\n         -1.34128685,   5.3065845 ,   4.91465054,  -0.11495231,\n         -0.37517654,  -1.05970019,   1.90079754,   0.90523597,\n         -0.64188083,   0.2701382 ,   0.26249027,  -0.31073979,\n         17.62856776, -28.37133375,   9.04636776]),\n array([ -1.91020764,   8.96500212,   5.67234167,  -3.13618385,\n         -1.42900845,   5.322925  ,   5.27955004,  -0.11617225,\n         -0.3689901 ,  -1.03555364,   1.8987753 ,   0.89598626,\n         -0.64652367,   0.26918984,   0.2626287 ,  -0.29776325,\n         21.14061583, -34.36165434,   9.96309192]),\n array([ -1.9018865 ,   8.97396885,   5.89427279,  -3.1699073 ,\n         -1.51330506,   5.33619318,   5.61526783,  -0.11747948,\n         -0.36043415,  -1.00554354,   1.89373069,   0.88447345,\n         -0.65073445,   0.26819911,   0.2626597 ,  -0.28756179,\n         25.02082282, -40.89283183,  10.53556402]),\n array([ -1.8922552 ,   8.97585015,   6.10259019,  -3.19824669,\n         -1.59408394,   5.34745951,   5.91823878,  -0.11883796,\n         -0.35004602,  -0.97154793,   1.8862764 ,   0.87142105,\n         -0.65458032,   0.26720152,   0.26262266,  -0.28024984,\n         29.25541136, -47.76155677,  10.6044871 ]),\n array([ -1.88172685,   8.9721717 ,   6.29603819,  -3.22257863,\n         -1.67053515,   5.35744342,   6.18654873,  -0.12022504,\n         -0.33837543,  -0.93539098,   1.87711554,   0.85752944,\n         -0.65810715,   0.26623519,   0.26256519,  -0.27620138,\n         33.84186587, -54.71675408,  10.02251324]),\n array([ -1.87072564,   8.96427673,   6.47244819,  -3.24369538,\n         -1.74141952,   5.36654802,   6.42009476,  -0.12162856,\n         -0.3259544 ,  -0.89868802,   1.86699113,   0.84341625,\n         -0.66135151,   0.2653354 ,   0.26253754,  -0.27596038,\n         38.78918874, -61.4943233 ,   8.673658  ]),\n array([ -1.85964908,   8.95332991,   6.62960686,  -3.26197325,\n         -1.80544929,   5.37493759,   6.62047039,  -0.12304314,\n         -0.3132593 ,  -0.86273123,   1.85660844,   0.82957352,\n         -0.6643471 ,   0.26452985,   0.26258525,  -0.28006946,\n         44.10843684, -67.8558909 ,   6.49041872]),\n array([ -1.8488328 ,   8.94031682,   6.76599454,  -3.27756575,\n         -1.86163425,   5.38263336,   6.79055551,  -0.12446563,\n         -0.30068277,  -0.82844672,   1.84655905,   0.81635288,\n         -0.66712531,   0.26383594,   0.26274191,  -0.28886809,\n         49.79512404, -73.62002534,   3.46727923]),\n array([ -1.83853302,   8.92605782,   6.88120801,  -3.29056742,\n         -1.90949634,   5.38959863,   6.93393754,  -0.12589019,\n         -0.28852654,  -0.79642622,   1.83727272,   0.80397943,\n         -0.66971175,   0.26326004,   0.26302387,  -0.3023224 ,\n         55.80914591, -78.67794982,  -0.33080214]),\n array([ -1.82892927,   8.91123827,   6.97602686,  -3.30111624,\n         -1.94912136,   5.3957956 ,   7.05434244,  -0.12730447,\n         -0.27701409,  -0.76700798,   1.82900728,   0.7925838 ,\n         -0.67212183,   0.26279885,   0.26342829,  -0.31993817,\n         62.06019241, -82.99251808,  -4.76760501]),\n array([ -1.82013957,   8.89644106,   7.05220527,  -3.30943185,\n         -1.98107762,   5.40121196,   7.15521511,  -0.12868815,\n         -0.26631147,  -0.74036794,   1.82187009,   0.78223736,\n         -0.6743585 ,   0.26244179,   0.26393489,  -0.34078382,\n         68.40592996, -86.58497542,  -9.64589406]),\n array([ -1.81223659,   8.88216502,   7.11212329,  -3.31580617,\n         -2.00626147,   5.40586611,   7.23950667,  -0.13001458,\n         -0.25654371,  -0.71658759,   1.81585603,   0.77297757,\n         -0.67641368,   0.26217392,   0.26451098,  -0.36361883,\n         74.66612748, -89.51629481, -14.73005735]),\n array([ -1.80525773,   8.86882244,   7.15842076,  -3.32056982,\n         -2.02572792,   5.40980189,   7.30964794,  -0.13125507,\n         -0.24780017,  -0.6956852 ,   1.81088769,   0.76481873,\n         -0.67827327,   0.26197859,   0.26511835,  -0.38709127,\n         80.64955348, -91.86889443, -19.77787797]),\n array([ -1.79920825,   8.85672296,   7.19369451,  -3.32405395,\n         -2.04054656,   5.41308056,   7.36763964,  -0.13238414,\n         -0.240131  ,  -0.6776179 ,   1.80684908,   0.75775145,\n         -0.67992366,   0.26183963,   0.2657202 ,  -0.40994665,\n         86.18494577, -93.73207465, -24.57357986]),\n array([ -1.79406187,   8.84605857,   7.22029406,  -3.32655991,\n         -2.05170136,   5.41577356,   7.41517936,  -0.13338387,\n         -0.23354184,  -0.66227339,   1.80360973,   0.75173836,\n         -0.68135748,   0.26174274,   0.26628654,  -0.43119   ,\n         91.14591671, -95.19217684, -28.95307797]),\n array([ -1.78976306,   8.83690199,   7.24021679,  -3.32834172,\n         -2.06003641,   5.41795666,   7.45376709,  -0.13424612,\n         -0.22799326,  -0.64946793,   1.80104019,   0.74671281,\n         -0.6825766 ,   0.26167617,   0.26679692,  -0.45016675,\n         95.463099  , -96.32699505, -32.81562242]),\n array([ -1.78623299,   8.82922177,   7.25508225,  -3.32960072,\n         -2.06623906,   5.41970537,   7.48476496,  -0.1349722 ,\n         -0.22340746,  -0.63895756,   1.79902077,   0.74258307,\n         -0.68359234,   0.26163086,   0.26724066,  -0.46656117,\n         99.12270867, -97.2033658 , -36.12157378]),\n array([ -1.7833782 ,   8.82290913,   7.26615816,  -3.33048896,\n         -2.07084791,   5.42109133,   7.509416  ,  -0.13557094,\n         -0.21968008,  -0.63045984,   1.79744589,   0.739241  ,\n         -0.68442333,   0.26160015,   0.26761525,  -0.48033703,\n        102.15545096, -97.87681855, -38.88050737]),\n array([ -1.78109993,   8.81780859,   7.27441217,  -3.33111713,\n         -2.07427357,   5.42217975,   7.5288397 ,  -0.13605601,\n         -0.21669368,  -0.6236789 ,   1.7962255 ,   0.73657218,\n         -0.68509255,   0.26157929,   0.26792401,  -0.49165312,\n        104.62138682, -98.39238568, -41.13535508]),\n array([ -1.77930191,   8.81374517,   7.28057067,  -3.33156368,\n         -2.07682349,   5.42302793,   7.54402153,  -0.13644325,\n         -0.21432963,  -0.61832752,   1.79528467,   0.7344648 ,\n         -0.68562444,   0.26156506,   0.26817367,  -0.5007805 ,\n        106.59540858, -98.78594571, -42.94724371]),\n array([ -1.77789585,   8.81054479,   7.28517355,  -3.33188334,\n         -2.07872539,   5.42368469,   7.55580725,  -0.13674874,\n         -0.21247661,  -0.61414271,   1.79456241,   0.7328161 ,\n         -0.68604264,   0.26155527,   0.26837251,  -0.5080364 ,\n        108.15589045, -99.08571269, -44.38358387]),\n array([ -1.7768044 ,   8.80804703,   7.28862022,  -3.33211392,\n         -2.08014706,   5.42419062,   7.56490537,  -0.13698747,\n         -0.21103564,  -0.61089419,   1.79400976,   0.73153586,\n         -0.68636864,   0.26154846,   0.268529  ,  -0.51373905,\n        109.37719305, -99.31365911, -45.51008002]),\n array([ -1.77596212,   8.80611157,   7.29120578,  -3.33228154,\n         -2.08121201,   5.42457876,   7.57189709,  -0.13717263,\n         -0.20992213,  -0.60838725,   1.79358801,   0.73054761,\n         -0.68662101,   0.26154367,   0.26865103,  -0.51818117,\n        110.32555799, -99.48677333, -46.38619364]),\n array([ -1.77531513,   8.80462022,   7.29314852,  -3.33240426,\n         -2.08201127,   5.42487557,   7.57725081,  -0.13731541,\n         -0.2090659 ,  -0.60646148,   1.7932668 ,   0.72978833,\n         -0.68681534,   0.26154026,   0.2687455 ,  -0.52161761,\n        111.05748828, -99.61811926, -47.06315392]),\n array([ -1.77481992,   8.80347606,   7.29461029,  -3.33249467,\n         -2.0826121 ,   5.42510197,   7.58133874,  -0.13742502,\n         -0.20841002,  -0.60498748,   1.79302257,   0.72920707,\n         -0.68696435,   0.2615378 ,   0.26881824,  -0.52426193,\n        111.61971017, -99.71770228, -47.5836089 ]),\n array([ -1.77444193,   8.80260119,   7.29571143,  -3.33256165,\n         -2.08306438,   5.42527432,   7.58445333,  -0.13750886,\n         -0.20790911,  -0.60386238,   1.79283708,   0.72876336,\n         -0.68707825,   0.26153602,   0.26887401,  -0.52628845,\n        112.05000242, -99.79316204, -47.98219881]),\n array([ -1.77415404,   8.80193394,   7.29654169,  -3.33261149,\n         -2.0834052 ,   5.42540533,   7.5868223 ,  -0.13757282,\n         -0.20752741,  -0.60300544,   1.79269635,   0.72842537,\n         -0.6871651 ,   0.26153472,   0.26891663,  -0.52783666,\n        112.3784051 , -99.85031844, -48.28655768]),\n array([ -1.77393513,   8.80142605,   7.29716817,  -3.33264871,\n         -2.08366225,   5.4255048 ,   7.58862182,  -0.13762153,\n         -0.20723707,  -0.60235381,   1.79258964,   0.72816834,\n         -0.68723119,   0.26153376,   0.26894912,  -0.52901664,\n        112.62851072, -99.89359748, -48.5184391 ]),\n array([ -1.77376887,   8.80104004,   7.29764116,  -3.33267659,\n         -2.08385626,   5.42558026,   7.5899874 ,  -0.13765855,\n         -0.20701651,  -0.60185892,   1.79250878,   0.72797313,\n         -0.68728141,   0.26153305,   0.26897385,  -0.52991435,\n        112.81867726, -99.92636072, -48.69479898]),\n array([ -1.77364273,   8.80074698,   7.29799843,  -3.33269751,\n         -2.08400277,   5.42563746,   7.59102289,  -0.13768666,\n         -0.20684914,  -0.60148343,   1.79244754,   0.72782501,\n         -0.68731954,   0.26153252,   0.26899264,  -0.53059637,\n        112.96309068, -99.9511588 , -48.82875626]),\n array([ -1.77354709,   8.80052469,   7.29826839,  -3.33271325,\n         -2.08411345,   5.4256808 ,   7.59180764,  -0.13770798,\n         -0.20672221,  -0.60119874,   1.79240116,   0.7277127 ,\n         -0.68734845,   0.26153212,   0.26900689,  -0.53111398,\n        113.07265596, -99.96992559, -48.93040498]),\n array([ -1.77347462,   8.8003562 ,   7.29847242,  -3.3327251 ,\n         -2.08419709,   5.42571363,   7.59240209,  -0.13772415,\n         -0.20662603,  -0.60098301,   1.79236605,   0.7276276 ,\n         -0.68737037,   0.26153183,   0.26901771,  -0.5315065 ,\n        113.15572296, -99.98412652, -49.00747947]),\n array([ -1.77341973,   8.80022854,   7.29862666,  -3.33273404,\n         -2.08426031,   5.42573848,   7.59285224,  -0.1377364 ,\n         -0.20655316,  -0.6008196 ,   1.79233948,   0.72756313,\n         -0.68738697,   0.2615316 ,   0.26902591,  -0.53180399,\n        113.21866622, -99.99487162, -49.06588735]),\n array([  -1.77337816,    8.80013185,    7.29874329,   -3.33274078,\n          -2.08430811,    5.4257573 ,    7.59319304,   -0.13774567,\n          -0.20649799,   -0.60069587,    1.79231937,    0.72751432,\n          -0.68739955,    0.26153143,    0.26903212,   -0.53202934,\n         113.26634136, -100.00300137,  -49.11013034]),\n array([  -1.77334669,    8.80005865,    7.29883147,   -3.33274587,\n          -2.08434425,    5.42577154,    7.59345099,   -0.1377527 ,\n          -0.20645621,   -0.6006022 ,    1.79230415,    0.72747737,\n          -0.68740907,    0.26153131,    0.26903682,   -0.5322    ,\n         113.30244074, -100.00915209,  -49.1436327 ]),\n array([  -1.77332287,    8.80000323,    7.29889816,   -3.33274971,\n          -2.08437158,    5.42578232,    7.59364621,   -0.13775801,\n          -0.2064246 ,   -0.6005313 ,    1.79229263,    0.7274494 ,\n          -0.68741627,    0.26153121,    0.26904038,   -0.5323292 ,\n         113.32976859, -100.01380537,  -49.16899556]),\n array([  -1.77330485,    8.79996129,    7.2989486 ,   -3.33275262,\n          -2.08439225,    5.42579047,    7.59379394,   -0.13776204,\n          -0.20640067,   -0.60047764,    1.79228392,    0.72742823,\n          -0.68742173,    0.26153114,    0.26904307,   -0.532427  ,\n         113.35045256, -100.01732569,  -49.18819285])]"
     },
     "execution_count": 359,
     "metadata": {},
     "output_type": "execute_result"
    }
   ],
   "source": [
    "katsayilar"
   ],
   "metadata": {
    "collapsed": false,
    "ExecuteTime": {
     "end_time": "2024-02-25T15:27:51.838469100Z",
     "start_time": "2024-02-25T15:27:51.557472700Z"
    }
   },
   "id": "114b9a89643c1764",
   "execution_count": 359
  },
  {
   "cell_type": "code",
   "outputs": [
    {
     "data": {
      "text/plain": "<Figure size 640x480 with 1 Axes>",
      "image/png": "[encoded data removed]"
     },
     "metadata": {},
     "output_type": "display_data"
    }
   ],
   "source": [
    "ax = plt.gca()\n",
    "ax.plot(lamdalar,katsayilar)\n",
    "ax.set_xscale(\"log\")"
   ],
   "metadata": {
    "collapsed": false,
    "ExecuteTime": {
     "end_time": "2024-02-25T15:27:52.138708100Z",
     "start_time": "2024-02-25T15:27:51.783367900Z"
    }
   },
   "id": "d3906a89c97dfd3a",
   "execution_count": 360
  },
  {
   "cell_type": "markdown",
   "source": [
    "3.2-Tahmin"
   ],
   "metadata": {
    "collapsed": false
   },
   "id": "bdd841108103ca6d"
  },
  {
   "cell_type": "code",
   "outputs": [],
   "source": [
    "ridgeModel = Ridge().fit(x_train,y_train)"
   ],
   "metadata": {
    "collapsed": false,
    "ExecuteTime": {
     "end_time": "2024-02-25T15:27:52.172223100Z",
     "start_time": "2024-02-25T15:27:52.033311700Z"
    }
   },
   "id": "f51252f404e4e4fb",
   "execution_count": 361
  },
  {
   "cell_type": "code",
   "outputs": [],
   "source": [
    "yTahmin = ridgeModel.predict(x_train)"
   ],
   "metadata": {
    "collapsed": false,
    "ExecuteTime": {
     "end_time": "2024-02-25T15:27:52.303992400Z",
     "start_time": "2024-02-25T15:27:52.105252300Z"
    }
   },
   "id": "dc3fc0465c5d41bf",
   "execution_count": 362
  },
  {
   "cell_type": "code",
   "outputs": [
    {
     "data": {
      "text/plain": "array([ 376.25245449,  803.38498121,  496.17669652,  112.69554648,\n        427.60020221, 1003.6309402 ,  153.45713944,  361.33880956,\n        483.29143665,  916.91439669])"
     },
     "execution_count": 363,
     "metadata": {},
     "output_type": "execute_result"
    }
   ],
   "source": [
    "yTahmin[0:10]"
   ],
   "metadata": {
    "collapsed": false,
    "ExecuteTime": {
     "end_time": "2024-02-25T15:27:52.412673600Z",
     "start_time": "2024-02-25T15:27:52.297011600Z"
    }
   },
   "id": "29610ce713814063",
   "execution_count": 363
  },
  {
   "cell_type": "code",
   "outputs": [
    {
     "data": {
      "text/plain": "183     125.0\n229    1940.0\n286     940.0\n102     375.0\n153     100.0\n320     960.0\n135      90.0\n213     100.0\n308     750.0\n161     657.0\nName: Salary, dtype: float64"
     },
     "execution_count": 364,
     "metadata": {},
     "output_type": "execute_result"
    }
   ],
   "source": [
    "y_train[0:10]"
   ],
   "metadata": {
    "collapsed": false,
    "ExecuteTime": {
     "end_time": "2024-02-25T15:27:52.508928500Z",
     "start_time": "2024-02-25T15:27:52.391131200Z"
    }
   },
   "id": "9fb3344f040af6b2",
   "execution_count": 364
  },
  {
   "cell_type": "code",
   "outputs": [],
   "source": [
    "# Train Hatası\n",
    "rmse = np.sqrt(mean_squared_error(y_train,yTahmin))"
   ],
   "metadata": {
    "collapsed": false,
    "ExecuteTime": {
     "end_time": "2024-02-25T15:27:52.578500900Z",
     "start_time": "2024-02-25T15:27:52.498864Z"
    }
   },
   "id": "f9177915dc907978",
   "execution_count": 365
  },
  {
   "cell_type": "code",
   "outputs": [
    {
     "data": {
      "text/plain": "289.34470696006565"
     },
     "execution_count": 366,
     "metadata": {},
     "output_type": "execute_result"
    }
   ],
   "source": [
    "rmse"
   ],
   "metadata": {
    "collapsed": false,
    "ExecuteTime": {
     "end_time": "2024-02-25T15:27:52.666461700Z",
     "start_time": "2024-02-25T15:27:52.553493600Z"
    }
   },
   "id": "42862b1fa24a7189",
   "execution_count": 366
  },
  {
   "cell_type": "code",
   "outputs": [],
   "source": [
    "ortalamaKareHata = np.sqrt(np.mean(-cross_val_score(ridgeModel, x_train, y_train, cv=10, scoring='neg_mean_squared_error')))"
   ],
   "metadata": {
    "collapsed": false,
    "ExecuteTime": {
     "end_time": "2024-02-25T15:27:52.798520700Z",
     "start_time": "2024-02-25T15:27:52.657434400Z"
    }
   },
   "id": "1880e214ba4f780c",
   "execution_count": 367
  },
  {
   "cell_type": "code",
   "outputs": [
    {
     "data": {
      "text/plain": "351.3931585606329"
     },
     "execution_count": 368,
     "metadata": {},
     "output_type": "execute_result"
    }
   ],
   "source": [
    "ortalamaKareHata"
   ],
   "metadata": {
    "collapsed": false,
    "ExecuteTime": {
     "end_time": "2024-02-25T15:27:52.860658600Z",
     "start_time": "2024-02-25T15:27:52.709948200Z"
    }
   },
   "id": "b6b4cfe3680d87bc",
   "execution_count": 368
  },
  {
   "cell_type": "code",
   "outputs": [],
   "source": [
    "# Test Hatası\n",
    "yTahmin = ridgeModel.predict(x_test)"
   ],
   "metadata": {
    "collapsed": false,
    "ExecuteTime": {
     "end_time": "2024-02-25T15:27:52.981864200Z",
     "start_time": "2024-02-25T15:27:52.853169700Z"
    }
   },
   "id": "7052a3570356c98a",
   "execution_count": 369
  },
  {
   "cell_type": "code",
   "outputs": [],
   "source": [
    "RMSE = np.sqrt(mean_squared_error(y_test, yTahmin))"
   ],
   "metadata": {
    "collapsed": false,
    "ExecuteTime": {
     "end_time": "2024-02-25T15:27:53.039926700Z",
     "start_time": "2024-02-25T15:27:52.954748400Z"
    }
   },
   "id": "ea93fc9dcb720c36",
   "execution_count": 370
  },
  {
   "cell_type": "code",
   "outputs": [
    {
     "data": {
      "text/plain": "289.34470696006565"
     },
     "execution_count": 371,
     "metadata": {},
     "output_type": "execute_result"
    }
   ],
   "source": [
    "rmse"
   ],
   "metadata": {
    "collapsed": false,
    "ExecuteTime": {
     "end_time": "2024-02-25T15:27:53.132957100Z",
     "start_time": "2024-02-25T15:27:53.038929400Z"
    }
   },
   "id": "b2829a5d48d2f34d",
   "execution_count": 371
  },
  {
   "cell_type": "markdown",
   "source": [
    "3.3-Model Tuning"
   ],
   "metadata": {
    "collapsed": false
   },
   "id": "29a8999bdd0fdf95"
  },
  {
   "cell_type": "code",
   "outputs": [],
   "source": [
    "ridgeModel = Ridge(1).fit(x_train,y_train)"
   ],
   "metadata": {
    "collapsed": false,
    "ExecuteTime": {
     "end_time": "2024-02-25T15:27:53.188914900Z",
     "start_time": "2024-02-25T15:27:53.117972600Z"
    }
   },
   "id": "9045e9f7b7b9d1f4",
   "execution_count": 372
  },
  {
   "cell_type": "code",
   "outputs": [],
   "source": [
    "yTahmin = ridgeModel.predict(x_test)"
   ],
   "metadata": {
    "collapsed": false,
    "ExecuteTime": {
     "end_time": "2024-02-25T15:27:53.298286200Z",
     "start_time": "2024-02-25T15:27:53.172400200Z"
    }
   },
   "id": "67fc9cd2ada80398",
   "execution_count": 373
  },
  {
   "cell_type": "code",
   "outputs": [
    {
     "data": {
      "text/plain": "356.8082905730246"
     },
     "execution_count": 374,
     "metadata": {},
     "output_type": "execute_result"
    }
   ],
   "source": [
    "np.sqrt(mean_squared_error(y_test, yTahmin))"
   ],
   "metadata": {
    "collapsed": false,
    "ExecuteTime": {
     "end_time": "2024-02-25T15:27:53.357409300Z",
     "start_time": "2024-02-25T15:27:53.279348100Z"
    }
   },
   "id": "8c198e98a03c863f",
   "execution_count": 374
  },
  {
   "cell_type": "code",
   "outputs": [],
   "source": [
    "lambdalar1 = np.random.randint(0,100,10)"
   ],
   "metadata": {
    "collapsed": false,
    "ExecuteTime": {
     "end_time": "2024-02-25T15:27:53.460502600Z",
     "start_time": "2024-02-25T15:27:53.342844100Z"
    }
   },
   "id": "cf0d90c1c2f1157f",
   "execution_count": 375
  },
  {
   "cell_type": "code",
   "outputs": [
    {
     "data": {
      "text/plain": "array([40, 30, 48, 97,  8, 21, 27, 46, 22, 89])"
     },
     "execution_count": 376,
     "metadata": {},
     "output_type": "execute_result"
    }
   ],
   "source": [
    "lambdalar1 "
   ],
   "metadata": {
    "collapsed": false,
    "ExecuteTime": {
     "end_time": "2024-02-25T15:27:53.535012600Z",
     "start_time": "2024-02-25T15:27:53.452469800Z"
    }
   },
   "id": "6e26809ebfe3a084",
   "execution_count": 376
  },
  {
   "cell_type": "code",
   "outputs": [],
   "source": [
    "lambdalar2 = 10**np.linspace(10,-2,100)*0.5"
   ],
   "metadata": {
    "collapsed": false,
    "ExecuteTime": {
     "end_time": "2024-02-25T15:27:53.622606700Z",
     "start_time": "2024-02-25T15:27:53.526497200Z"
    }
   },
   "id": "145d8f0a6150e428",
   "execution_count": 377
  },
  {
   "cell_type": "code",
   "outputs": [
    {
     "data": {
      "text/plain": "array([5.00000000e+09, 3.78231664e+09, 2.86118383e+09, 2.16438064e+09,\n       1.63727458e+09, 1.23853818e+09, 9.36908711e+08, 7.08737081e+08,\n       5.36133611e+08, 4.05565415e+08, 3.06795364e+08, 2.32079442e+08,\n       1.75559587e+08, 1.32804389e+08, 1.00461650e+08, 7.59955541e+07,\n       5.74878498e+07, 4.34874501e+07, 3.28966612e+07, 2.48851178e+07,\n       1.88246790e+07, 1.42401793e+07, 1.07721735e+07, 8.14875417e+06,\n       6.16423370e+06, 4.66301673e+06, 3.52740116e+06, 2.66834962e+06,\n       2.01850863e+06, 1.52692775e+06, 1.15506485e+06, 8.73764200e+05,\n       6.60970574e+05, 5.00000000e+05, 3.78231664e+05, 2.86118383e+05,\n       2.16438064e+05, 1.63727458e+05, 1.23853818e+05, 9.36908711e+04,\n       7.08737081e+04, 5.36133611e+04, 4.05565415e+04, 3.06795364e+04,\n       2.32079442e+04, 1.75559587e+04, 1.32804389e+04, 1.00461650e+04,\n       7.59955541e+03, 5.74878498e+03, 4.34874501e+03, 3.28966612e+03,\n       2.48851178e+03, 1.88246790e+03, 1.42401793e+03, 1.07721735e+03,\n       8.14875417e+02, 6.16423370e+02, 4.66301673e+02, 3.52740116e+02,\n       2.66834962e+02, 2.01850863e+02, 1.52692775e+02, 1.15506485e+02,\n       8.73764200e+01, 6.60970574e+01, 5.00000000e+01, 3.78231664e+01,\n       2.86118383e+01, 2.16438064e+01, 1.63727458e+01, 1.23853818e+01,\n       9.36908711e+00, 7.08737081e+00, 5.36133611e+00, 4.05565415e+00,\n       3.06795364e+00, 2.32079442e+00, 1.75559587e+00, 1.32804389e+00,\n       1.00461650e+00, 7.59955541e-01, 5.74878498e-01, 4.34874501e-01,\n       3.28966612e-01, 2.48851178e-01, 1.88246790e-01, 1.42401793e-01,\n       1.07721735e-01, 8.14875417e-02, 6.16423370e-02, 4.66301673e-02,\n       3.52740116e-02, 2.66834962e-02, 2.01850863e-02, 1.52692775e-02,\n       1.15506485e-02, 8.73764200e-03, 6.60970574e-03, 5.00000000e-03])"
     },
     "execution_count": 378,
     "metadata": {},
     "output_type": "execute_result"
    }
   ],
   "source": [
    "lambdalar2"
   ],
   "metadata": {
    "collapsed": false,
    "ExecuteTime": {
     "end_time": "2024-02-25T15:27:53.671627100Z",
     "start_time": "2024-02-25T15:27:53.610641800Z"
    }
   },
   "id": "95b6180a896b4e71",
   "execution_count": 378
  },
  {
   "cell_type": "code",
   "outputs": [
    {
     "data": {
      "text/plain": "RidgeCV(alphas=array([40, 30, 48, 97,  8, 21, 27, 46, 22, 89]), cv=10,\n        scoring='neg_mean_squared_error')",
      "text/html": "<style>#sk-container-id-14 {color: black;}#sk-container-id-14 pre{padding: 0;}#sk-container-id-14 div.sk-toggleable {background-color: white;}#sk-container-id-14 label.sk-toggleable__label {cursor: pointer;display: block;width: 100%;margin-bottom: 0;padding: 0.3em;box-sizing: border-box;text-align: center;}#sk-container-id-14 label.sk-toggleable__label-arrow:before {content: \"▸\";float: left;margin-right: 0.25em;color: #696969;}#sk-container-id-14 label.sk-toggleable__label-arrow:hover:before {color: black;}#sk-container-id-14 div.sk-estimator:hover label.sk-toggleable__label-arrow:before {color: black;}#sk-container-id-14 div.sk-toggleable__content {max-height: 0;max-width: 0;overflow: hidden;text-align: left;background-color: #f0f8ff;}#sk-container-id-14 div.sk-toggleable__content pre {margin: 0.2em;color: black;border-radius: 0.25em;background-color: #f0f8ff;}#sk-container-id-14 input.sk-toggleable__control:checked~div.sk-toggleable__content {max-height: 200px;max-width: 100%;overflow: auto;}#sk-container-id-14 input.sk-toggleable__control:checked~label.sk-toggleable__label-arrow:before {content: \"▾\";}#sk-container-id-14 div.sk-estimator input.sk-toggleable__control:checked~label.sk-toggleable__label {background-color: #d4ebff;}#sk-container-id-14 div.sk-label input.sk-toggleable__control:checked~label.sk-toggleable__label {background-color: #d4ebff;}#sk-container-id-14 input.sk-hidden--visually {border: 0;clip: rect(1px 1px 1px 1px);clip: rect(1px, 1px, 1px, 1px);height: 1px;margin: -1px;overflow: hidden;padding: 0;position: absolute;width: 1px;}#sk-container-id-14 div.sk-estimator {font-family: monospace;background-color: #f0f8ff;border: 1px dotted black;border-radius: 0.25em;box-sizing: border-box;margin-bottom: 0.5em;}#sk-container-id-14 div.sk-estimator:hover {background-color: #d4ebff;}#sk-container-id-14 div.sk-parallel-item::after {content: \"\";width: 100%;border-bottom: 1px solid gray;flex-grow: 1;}#sk-container-id-14 div.sk-label:hover label.sk-toggleable__label {background-color: #d4ebff;}#sk-container-id-14 div.sk-serial::before {content: \"\";position: absolute;border-left: 1px solid gray;box-sizing: border-box;top: 0;bottom: 0;left: 50%;z-index: 0;}#sk-container-id-14 div.sk-serial {display: flex;flex-direction: column;align-items: center;background-color: white;padding-right: 0.2em;padding-left: 0.2em;position: relative;}#sk-container-id-14 div.sk-item {position: relative;z-index: 1;}#sk-container-id-14 div.sk-parallel {display: flex;align-items: stretch;justify-content: center;background-color: white;position: relative;}#sk-container-id-14 div.sk-item::before, #sk-container-id-14 div.sk-parallel-item::before {content: \"\";position: absolute;border-left: 1px solid gray;box-sizing: border-box;top: 0;bottom: 0;left: 50%;z-index: -1;}#sk-container-id-14 div.sk-parallel-item {display: flex;flex-direction: column;z-index: 1;position: relative;background-color: white;}#sk-container-id-14 div.sk-parallel-item:first-child::after {align-self: flex-end;width: 50%;}#sk-container-id-14 div.sk-parallel-item:last-child::after {align-self: flex-start;width: 50%;}#sk-container-id-14 div.sk-parallel-item:only-child::after {width: 0;}#sk-container-id-14 div.sk-dashed-wrapped {border: 1px dashed gray;margin: 0 0.4em 0.5em 0.4em;box-sizing: border-box;padding-bottom: 0.4em;background-color: white;}#sk-container-id-14 div.sk-label label {font-family: monospace;font-weight: bold;display: inline-block;line-height: 1.2em;}#sk-container-id-14 div.sk-label-container {text-align: center;}#sk-container-id-14 div.sk-container {/* jupyter's `normalize.less` sets `[hidden] { display: none; }` but bootstrap.min.css set `[hidden] { display: none !important; }` so we also need the `!important` here to be able to override the default hidden behavior on the sphinx rendered scikit-learn.org. See: https://github.com/scikit-learn/scikit-learn/issues/21755 */display: inline-block !important;position: relative;}#sk-container-id-14 div.sk-text-repr-fallback {display: none;}</style><div id=\"sk-container-id-14\" class=\"sk-top-container\"><div class=\"sk-text-repr-fallback\"><pre>RidgeCV(alphas=array([40, 30, 48, 97,  8, 21, 27, 46, 22, 89]), cv=10,\n        scoring=&#x27;neg_mean_squared_error&#x27;)</pre><b>In a Jupyter environment, please rerun this cell to show the HTML representation or trust the notebook. <br />On GitHub, the HTML representation is unable to render, please try loading this page with nbviewer.org.</b></div><div class=\"sk-container\" hidden><div class=\"sk-item\"><div class=\"sk-estimator sk-toggleable\"><input class=\"sk-toggleable__control sk-hidden--visually\" id=\"sk-estimator-id-14\" type=\"checkbox\" checked><label for=\"sk-estimator-id-14\" class=\"sk-toggleable__label sk-toggleable__label-arrow\">RidgeCV</label><div class=\"sk-toggleable__content\"><pre>RidgeCV(alphas=array([40, 30, 48, 97,  8, 21, 27, 46, 22, 89]), cv=10,\n        scoring=&#x27;neg_mean_squared_error&#x27;)</pre></div></div></div></div></div>"
     },
     "execution_count": 379,
     "metadata": {},
     "output_type": "execute_result"
    }
   ],
   "source": [
    "ridgeCv = RidgeCV(alphas=lambdalar1, scoring=\"neg_mean_squared_error\", cv=10)\n",
    "ridgeCv.fit(x_train,y_train)"
   ],
   "metadata": {
    "collapsed": false,
    "ExecuteTime": {
     "end_time": "2024-02-25T15:27:54.073698400Z",
     "start_time": "2024-02-25T15:27:53.665114800Z"
    }
   },
   "id": "940a54b839edfbca",
   "execution_count": 379
  },
  {
   "cell_type": "code",
   "outputs": [
    {
     "data": {
      "text/plain": "8"
     },
     "execution_count": 380,
     "metadata": {},
     "output_type": "execute_result"
    }
   ],
   "source": [
    "ridgeCv.alpha_"
   ],
   "metadata": {
    "collapsed": false,
    "ExecuteTime": {
     "end_time": "2024-02-25T15:27:54.128761200Z",
     "start_time": "2024-02-25T15:27:54.039263200Z"
    }
   },
   "id": "e997468edd675338",
   "execution_count": 380
  },
  {
   "cell_type": "code",
   "outputs": [],
   "source": [
    "# Final Modeli\n",
    "ridgeTuned = Ridge(alpha= ridgeCv.alpha_).fit(x_train,y_train)"
   ],
   "metadata": {
    "collapsed": false,
    "ExecuteTime": {
     "end_time": "2024-02-25T15:27:54.187867500Z",
     "start_time": "2024-02-25T15:27:54.055250500Z"
    }
   },
   "id": "b5a1dfb2d7a0909d",
   "execution_count": 381
  },
  {
   "cell_type": "code",
   "outputs": [
    {
     "data": {
      "text/plain": "Ridge(alpha=8)",
      "text/html": "<style>#sk-container-id-15 {color: black;}#sk-container-id-15 pre{padding: 0;}#sk-container-id-15 div.sk-toggleable {background-color: white;}#sk-container-id-15 label.sk-toggleable__label {cursor: pointer;display: block;width: 100%;margin-bottom: 0;padding: 0.3em;box-sizing: border-box;text-align: center;}#sk-container-id-15 label.sk-toggleable__label-arrow:before {content: \"▸\";float: left;margin-right: 0.25em;color: #696969;}#sk-container-id-15 label.sk-toggleable__label-arrow:hover:before {color: black;}#sk-container-id-15 div.sk-estimator:hover label.sk-toggleable__label-arrow:before {color: black;}#sk-container-id-15 div.sk-toggleable__content {max-height: 0;max-width: 0;overflow: hidden;text-align: left;background-color: #f0f8ff;}#sk-container-id-15 div.sk-toggleable__content pre {margin: 0.2em;color: black;border-radius: 0.25em;background-color: #f0f8ff;}#sk-container-id-15 input.sk-toggleable__control:checked~div.sk-toggleable__content {max-height: 200px;max-width: 100%;overflow: auto;}#sk-container-id-15 input.sk-toggleable__control:checked~label.sk-toggleable__label-arrow:before {content: \"▾\";}#sk-container-id-15 div.sk-estimator input.sk-toggleable__control:checked~label.sk-toggleable__label {background-color: #d4ebff;}#sk-container-id-15 div.sk-label input.sk-toggleable__control:checked~label.sk-toggleable__label {background-color: #d4ebff;}#sk-container-id-15 input.sk-hidden--visually {border: 0;clip: rect(1px 1px 1px 1px);clip: rect(1px, 1px, 1px, 1px);height: 1px;margin: -1px;overflow: hidden;padding: 0;position: absolute;width: 1px;}#sk-container-id-15 div.sk-estimator {font-family: monospace;background-color: #f0f8ff;border: 1px dotted black;border-radius: 0.25em;box-sizing: border-box;margin-bottom: 0.5em;}#sk-container-id-15 div.sk-estimator:hover {background-color: #d4ebff;}#sk-container-id-15 div.sk-parallel-item::after {content: \"\";width: 100%;border-bottom: 1px solid gray;flex-grow: 1;}#sk-container-id-15 div.sk-label:hover label.sk-toggleable__label {background-color: #d4ebff;}#sk-container-id-15 div.sk-serial::before {content: \"\";position: absolute;border-left: 1px solid gray;box-sizing: border-box;top: 0;bottom: 0;left: 50%;z-index: 0;}#sk-container-id-15 div.sk-serial {display: flex;flex-direction: column;align-items: center;background-color: white;padding-right: 0.2em;padding-left: 0.2em;position: relative;}#sk-container-id-15 div.sk-item {position: relative;z-index: 1;}#sk-container-id-15 div.sk-parallel {display: flex;align-items: stretch;justify-content: center;background-color: white;position: relative;}#sk-container-id-15 div.sk-item::before, #sk-container-id-15 div.sk-parallel-item::before {content: \"\";position: absolute;border-left: 1px solid gray;box-sizing: border-box;top: 0;bottom: 0;left: 50%;z-index: -1;}#sk-container-id-15 div.sk-parallel-item {display: flex;flex-direction: column;z-index: 1;position: relative;background-color: white;}#sk-container-id-15 div.sk-parallel-item:first-child::after {align-self: flex-end;width: 50%;}#sk-container-id-15 div.sk-parallel-item:last-child::after {align-self: flex-start;width: 50%;}#sk-container-id-15 div.sk-parallel-item:only-child::after {width: 0;}#sk-container-id-15 div.sk-dashed-wrapped {border: 1px dashed gray;margin: 0 0.4em 0.5em 0.4em;box-sizing: border-box;padding-bottom: 0.4em;background-color: white;}#sk-container-id-15 div.sk-label label {font-family: monospace;font-weight: bold;display: inline-block;line-height: 1.2em;}#sk-container-id-15 div.sk-label-container {text-align: center;}#sk-container-id-15 div.sk-container {/* jupyter's `normalize.less` sets `[hidden] { display: none; }` but bootstrap.min.css set `[hidden] { display: none !important; }` so we also need the `!important` here to be able to override the default hidden behavior on the sphinx rendered scikit-learn.org. See: https://github.com/scikit-learn/scikit-learn/issues/21755 */display: inline-block !important;position: relative;}#sk-container-id-15 div.sk-text-repr-fallback {display: none;}</style><div id=\"sk-container-id-15\" class=\"sk-top-container\"><div class=\"sk-text-repr-fallback\"><pre>Ridge(alpha=8)</pre><b>In a Jupyter environment, please rerun this cell to show the HTML representation or trust the notebook. <br />On GitHub, the HTML representation is unable to render, please try loading this page with nbviewer.org.</b></div><div class=\"sk-container\" hidden><div class=\"sk-item\"><div class=\"sk-estimator sk-toggleable\"><input class=\"sk-toggleable__control sk-hidden--visually\" id=\"sk-estimator-id-15\" type=\"checkbox\" checked><label for=\"sk-estimator-id-15\" class=\"sk-toggleable__label sk-toggleable__label-arrow\">Ridge</label><div class=\"sk-toggleable__content\"><pre>Ridge(alpha=8)</pre></div></div></div></div></div>"
     },
     "execution_count": 382,
     "metadata": {},
     "output_type": "execute_result"
    }
   ],
   "source": [
    "ridgeTuned"
   ],
   "metadata": {
    "collapsed": false,
    "ExecuteTime": {
     "end_time": "2024-02-25T15:27:54.240775200Z",
     "start_time": "2024-02-25T15:27:54.066721800Z"
    }
   },
   "id": "bf377735d389d197",
   "execution_count": 382
  },
  {
   "cell_type": "code",
   "outputs": [],
   "source": [
    "yTahmin = ridgeModel.predict(x_test)"
   ],
   "metadata": {
    "collapsed": false,
    "ExecuteTime": {
     "end_time": "2024-02-25T15:27:54.264256600Z",
     "start_time": "2024-02-25T15:27:54.086799600Z"
    }
   },
   "id": "e3e5ccb57cdc6e83",
   "execution_count": 383
  },
  {
   "cell_type": "code",
   "outputs": [
    {
     "data": {
      "text/plain": "array([ 610.65617195,  693.026009  , 1015.18797916,  408.93538433,\n        420.8066687 ,  342.03579451,  659.24206436,  447.06500871,\n        911.97037648,  647.245175  ,  686.583434  ,  890.24593382,\n        226.18707176,  441.614535  ,  267.92008058,  508.9150287 ,\n        803.80833843,   44.67259153, 1236.36494415,  319.27803482,\n        428.47161008,  746.13915494,  571.82766371,  650.06046955,\n        618.57144278,  203.32868858,  898.88810564,  253.94481411,\n        428.00138505,   84.95373396,  144.73497819,  128.19533463,\n        373.57050545,  461.63869681,  274.01133172,  266.17833459,\n       1325.48420514,  105.43741271,  133.94688883,  246.93565593,\n         54.93975319,  298.59466534,  586.8827676 ,  400.44947425,\n        767.62525395,  684.20156598,  359.35422132,  258.27138434,\n        254.49103808,  668.21885022,  750.89774598,  321.95939673,\n        773.5695824 ,  188.35424688,  278.41811003,  591.14042866,\n        667.01715039,  809.18614133,  159.66790484, 1165.73939587,\n       1658.59478715,  414.98668646,  996.31240855,  479.62708874,\n        591.47334896,  186.21643198])"
     },
     "execution_count": 384,
     "metadata": {},
     "output_type": "execute_result"
    }
   ],
   "source": [
    "yTahmin"
   ],
   "metadata": {
    "collapsed": false,
    "ExecuteTime": {
     "end_time": "2024-02-25T15:27:54.289732700Z",
     "start_time": "2024-02-25T15:27:54.100263200Z"
    }
   },
   "id": "58ae06663471cbc6",
   "execution_count": 384
  },
  {
   "cell_type": "code",
   "outputs": [
    {
     "data": {
      "text/plain": "356.8082905730246"
     },
     "execution_count": 385,
     "metadata": {},
     "output_type": "execute_result"
    }
   ],
   "source": [
    "np.sqrt(mean_squared_error(y_test, yTahmin))"
   ],
   "metadata": {
    "collapsed": false,
    "ExecuteTime": {
     "end_time": "2024-02-25T15:27:54.328254900Z",
     "start_time": "2024-02-25T15:27:54.124774100Z"
    }
   },
   "id": "4c859785b9b9d1a9",
   "execution_count": 385
  },
  {
   "cell_type": "markdown",
   "source": [
    "4- LASSO REGRESYONU"
   ],
   "metadata": {
    "collapsed": false
   },
   "id": "cc0ffc72243523d2"
  },
  {
   "cell_type": "code",
   "outputs": [],
   "source": [
    "# GEREKLİ KÜTÜPHANELER\n",
    "import numpy as np\n",
    "import pandas as pd\n",
    "import matplotlib.pyplot as plt\n",
    "import seaborn as sns\n",
    "from sklearn.linear_model import Ridge,Lasso\n",
    "from sklearn.model_selection import train_test_split\n",
    "from sklearn.metrics import mean_squared_error, r2_score\n",
    "from sklearn import model_selection\n",
    "from sklearn.linear_model import RidgeCV, LassoCV"
   ],
   "metadata": {
    "collapsed": false,
    "ExecuteTime": {
     "end_time": "2024-02-25T18:18:44.059829400Z",
     "start_time": "2024-02-25T18:18:43.959972800Z"
    }
   },
   "id": "a5fe5ce3750ca8e3",
   "execution_count": 498
  },
  {
   "cell_type": "markdown",
   "source": [
    "4.1-Veri Seti"
   ],
   "metadata": {
    "collapsed": false
   },
   "id": "117ec45de7876489"
  },
  {
   "cell_type": "code",
   "outputs": [],
   "source": [
    "df = pd.read_csv(\"Hitters.csv\")"
   ],
   "metadata": {
    "collapsed": false,
    "ExecuteTime": {
     "end_time": "2024-02-25T18:17:48.417276900Z",
     "start_time": "2024-02-25T18:17:48.318680Z"
    }
   },
   "id": "398d9c4174e20714",
   "execution_count": 459
  },
  {
   "cell_type": "code",
   "outputs": [
    {
     "data": {
      "text/plain": "   AtBat  Hits  HmRun  Runs  RBI  Walks  Years  CAtBat  CHits  CHmRun  CRuns  \\\n0    293    66      1    30   29     14      1     293     66       1     30   \n1    315    81      7    24   38     39     14    3449    835      69    321   \n2    479   130     18    66   72     76      3    1624    457      63    224   \n3    496   141     20    65   78     37     11    5628   1575     225    828   \n4    321    87     10    39   42     30      2     396    101      12     48   \n5    594   169      4    74   51     35     11    4408   1133      19    501   \n6    185    37      1    23    8     21      2     214     42       1     30   \n7    298    73      0    24   24      7      3     509    108       0     41   \n8    323    81      6    26   32      8      2     341     86       6     32   \n9    401    92     17    49   66     65     13    5206   1332     253    784   \n\n   CRBI  CWalks League Division  PutOuts  Assists  Errors  Salary NewLeague  \n0    29      14      A        E      446       33      20     NaN         A  \n1   414     375      N        W      632       43      10   475.0         N  \n2   266     263      A        W      880       82      14   480.0         A  \n3   838     354      N        E      200       11       3   500.0         N  \n4    46      33      N        E      805       40       4    91.5         N  \n5   336     194      A        W      282      421      25   750.0         A  \n6     9      24      N        E       76      127       7    70.0         A  \n7    37      12      A        W      121      283       9   100.0         A  \n8    34       8      N        W      143      290      19    75.0         N  \n9   890     866      A        E        0        0       0  1100.0         A  ",
      "text/html": "<div>\n<style scoped>\n    .dataframe tbody tr th:only-of-type {\n        vertical-align: middle;\n    }\n\n    .dataframe tbody tr th {\n        vertical-align: top;\n    }\n\n    .dataframe thead th {\n        text-align: right;\n    }\n</style>\n<table border=\"1\" class=\"dataframe\">\n  <thead>\n    <tr style=\"text-align: right;\">\n      <th></th>\n      <th>AtBat</th>\n      <th>Hits</th>\n      <th>HmRun</th>\n      <th>Runs</th>\n      <th>RBI</th>\n      <th>Walks</th>\n      <th>Years</th>\n      <th>CAtBat</th>\n      <th>CHits</th>\n      <th>CHmRun</th>\n      <th>CRuns</th>\n      <th>CRBI</th>\n      <th>CWalks</th>\n      <th>League</th>\n      <th>Division</th>\n      <th>PutOuts</th>\n      <th>Assists</th>\n      <th>Errors</th>\n      <th>Salary</th>\n      <th>NewLeague</th>\n    </tr>\n  </thead>\n  <tbody>\n    <tr>\n      <th>0</th>\n      <td>293</td>\n      <td>66</td>\n      <td>1</td>\n      <td>30</td>\n      <td>29</td>\n      <td>14</td>\n      <td>1</td>\n      <td>293</td>\n      <td>66</td>\n      <td>1</td>\n      <td>30</td>\n      <td>29</td>\n      <td>14</td>\n      <td>A</td>\n      <td>E</td>\n      <td>446</td>\n      <td>33</td>\n      <td>20</td>\n      <td>NaN</td>\n      <td>A</td>\n    </tr>\n    <tr>\n      <th>1</th>\n      <td>315</td>\n      <td>81</td>\n      <td>7</td>\n      <td>24</td>\n      <td>38</td>\n      <td>39</td>\n      <td>14</td>\n      <td>3449</td>\n      <td>835</td>\n      <td>69</td>\n      <td>321</td>\n      <td>414</td>\n      <td>375</td>\n      <td>N</td>\n      <td>W</td>\n      <td>632</td>\n      <td>43</td>\n      <td>10</td>\n      <td>475.0</td>\n      <td>N</td>\n    </tr>\n    <tr>\n      <th>2</th>\n      <td>479</td>\n      <td>130</td>\n      <td>18</td>\n      <td>66</td>\n      <td>72</td>\n      <td>76</td>\n      <td>3</td>\n      <td>1624</td>\n      <td>457</td>\n      <td>63</td>\n      <td>224</td>\n      <td>266</td>\n      <td>263</td>\n      <td>A</td>\n      <td>W</td>\n      <td>880</td>\n      <td>82</td>\n      <td>14</td>\n      <td>480.0</td>\n      <td>A</td>\n    </tr>\n    <tr>\n      <th>3</th>\n      <td>496</td>\n      <td>141</td>\n      <td>20</td>\n      <td>65</td>\n      <td>78</td>\n      <td>37</td>\n      <td>11</td>\n      <td>5628</td>\n      <td>1575</td>\n      <td>225</td>\n      <td>828</td>\n      <td>838</td>\n      <td>354</td>\n      <td>N</td>\n      <td>E</td>\n      <td>200</td>\n      <td>11</td>\n      <td>3</td>\n      <td>500.0</td>\n      <td>N</td>\n    </tr>\n    <tr>\n      <th>4</th>\n      <td>321</td>\n      <td>87</td>\n      <td>10</td>\n      <td>39</td>\n      <td>42</td>\n      <td>30</td>\n      <td>2</td>\n      <td>396</td>\n      <td>101</td>\n      <td>12</td>\n      <td>48</td>\n      <td>46</td>\n      <td>33</td>\n      <td>N</td>\n      <td>E</td>\n      <td>805</td>\n      <td>40</td>\n      <td>4</td>\n      <td>91.5</td>\n      <td>N</td>\n    </tr>\n    <tr>\n      <th>5</th>\n      <td>594</td>\n      <td>169</td>\n      <td>4</td>\n      <td>74</td>\n      <td>51</td>\n      <td>35</td>\n      <td>11</td>\n      <td>4408</td>\n      <td>1133</td>\n      <td>19</td>\n      <td>501</td>\n      <td>336</td>\n      <td>194</td>\n      <td>A</td>\n      <td>W</td>\n      <td>282</td>\n      <td>421</td>\n      <td>25</td>\n      <td>750.0</td>\n      <td>A</td>\n    </tr>\n    <tr>\n      <th>6</th>\n      <td>185</td>\n      <td>37</td>\n      <td>1</td>\n      <td>23</td>\n      <td>8</td>\n      <td>21</td>\n      <td>2</td>\n      <td>214</td>\n      <td>42</td>\n      <td>1</td>\n      <td>30</td>\n      <td>9</td>\n      <td>24</td>\n      <td>N</td>\n      <td>E</td>\n      <td>76</td>\n      <td>127</td>\n      <td>7</td>\n      <td>70.0</td>\n      <td>A</td>\n    </tr>\n    <tr>\n      <th>7</th>\n      <td>298</td>\n      <td>73</td>\n      <td>0</td>\n      <td>24</td>\n      <td>24</td>\n      <td>7</td>\n      <td>3</td>\n      <td>509</td>\n      <td>108</td>\n      <td>0</td>\n      <td>41</td>\n      <td>37</td>\n      <td>12</td>\n      <td>A</td>\n      <td>W</td>\n      <td>121</td>\n      <td>283</td>\n      <td>9</td>\n      <td>100.0</td>\n      <td>A</td>\n    </tr>\n    <tr>\n      <th>8</th>\n      <td>323</td>\n      <td>81</td>\n      <td>6</td>\n      <td>26</td>\n      <td>32</td>\n      <td>8</td>\n      <td>2</td>\n      <td>341</td>\n      <td>86</td>\n      <td>6</td>\n      <td>32</td>\n      <td>34</td>\n      <td>8</td>\n      <td>N</td>\n      <td>W</td>\n      <td>143</td>\n      <td>290</td>\n      <td>19</td>\n      <td>75.0</td>\n      <td>N</td>\n    </tr>\n    <tr>\n      <th>9</th>\n      <td>401</td>\n      <td>92</td>\n      <td>17</td>\n      <td>49</td>\n      <td>66</td>\n      <td>65</td>\n      <td>13</td>\n      <td>5206</td>\n      <td>1332</td>\n      <td>253</td>\n      <td>784</td>\n      <td>890</td>\n      <td>866</td>\n      <td>A</td>\n      <td>E</td>\n      <td>0</td>\n      <td>0</td>\n      <td>0</td>\n      <td>1100.0</td>\n      <td>A</td>\n    </tr>\n  </tbody>\n</table>\n</div>"
     },
     "execution_count": 460,
     "metadata": {},
     "output_type": "execute_result"
    }
   ],
   "source": [
    "df.head(10)"
   ],
   "metadata": {
    "collapsed": false,
    "ExecuteTime": {
     "end_time": "2024-02-25T18:17:48.707091900Z",
     "start_time": "2024-02-25T18:17:48.558697Z"
    }
   },
   "id": "4988b99e185c0583",
   "execution_count": 460
  },
  {
   "cell_type": "code",
   "outputs": [
    {
     "name": "stdout",
     "output_type": "stream",
     "text": [
      "<class 'pandas.core.frame.DataFrame'>\n",
      "RangeIndex: 322 entries, 0 to 321\n",
      "Data columns (total 20 columns):\n",
      " #   Column     Non-Null Count  Dtype  \n",
      "---  ------     --------------  -----  \n",
      " 0   AtBat      322 non-null    int64  \n",
      " 1   Hits       322 non-null    int64  \n",
      " 2   HmRun      322 non-null    int64  \n",
      " 3   Runs       322 non-null    int64  \n",
      " 4   RBI        322 non-null    int64  \n",
      " 5   Walks      322 non-null    int64  \n",
      " 6   Years      322 non-null    int64  \n",
      " 7   CAtBat     322 non-null    int64  \n",
      " 8   CHits      322 non-null    int64  \n",
      " 9   CHmRun     322 non-null    int64  \n",
      " 10  CRuns      322 non-null    int64  \n",
      " 11  CRBI       322 non-null    int64  \n",
      " 12  CWalks     322 non-null    int64  \n",
      " 13  League     322 non-null    object \n",
      " 14  Division   322 non-null    object \n",
      " 15  PutOuts    322 non-null    int64  \n",
      " 16  Assists    322 non-null    int64  \n",
      " 17  Errors     322 non-null    int64  \n",
      " 18  Salary     263 non-null    float64\n",
      " 19  NewLeague  322 non-null    object \n",
      "dtypes: float64(1), int64(16), object(3)\n",
      "memory usage: 50.4+ KB\n"
     ]
    }
   ],
   "source": [
    "df.info()"
   ],
   "metadata": {
    "collapsed": false,
    "ExecuteTime": {
     "end_time": "2024-02-25T18:17:49.003233500Z",
     "start_time": "2024-02-25T18:17:48.745623100Z"
    }
   },
   "id": "9e374f738e774e79",
   "execution_count": 461
  },
  {
   "cell_type": "code",
   "outputs": [],
   "source": [
    "df = df.dropna() #Eksik bilgileri sildik"
   ],
   "metadata": {
    "collapsed": false,
    "ExecuteTime": {
     "end_time": "2024-02-25T18:17:49.315696900Z",
     "start_time": "2024-02-25T18:17:49.066235600Z"
    }
   },
   "id": "e798469174cca04a",
   "execution_count": 462
  },
  {
   "cell_type": "code",
   "outputs": [
    {
     "data": {
      "text/plain": "     AtBat  Hits  HmRun  Runs  RBI  Walks  Years  CAtBat  CHits  CHmRun  \\\n1      315    81      7    24   38     39     14    3449    835      69   \n2      479   130     18    66   72     76      3    1624    457      63   \n3      496   141     20    65   78     37     11    5628   1575     225   \n4      321    87     10    39   42     30      2     396    101      12   \n5      594   169      4    74   51     35     11    4408   1133      19   \n..     ...   ...    ...   ...  ...    ...    ...     ...    ...     ...   \n317    497   127      7    65   48     37      5    2703    806      32   \n318    492   136      5    76   50     94     12    5511   1511      39   \n319    475   126      3    61   43     52      6    1700    433       7   \n320    573   144      9    85   60     78      8    3198    857      97   \n321    631   170      9    77   44     31     11    4908   1457      30   \n\n     CRuns  CRBI  CWalks League Division  PutOuts  Assists  Errors  Salary  \\\n1      321   414     375      N        W      632       43      10   475.0   \n2      224   266     263      A        W      880       82      14   480.0   \n3      828   838     354      N        E      200       11       3   500.0   \n4       48    46      33      N        E      805       40       4    91.5   \n5      501   336     194      A        W      282      421      25   750.0   \n..     ...   ...     ...    ...      ...      ...      ...     ...     ...   \n317    379   311     138      N        E      325        9       3   700.0   \n318    897   451     875      A        E      313      381      20   875.0   \n319    217    93     146      A        W       37      113       7   385.0   \n320    470   420     332      A        E     1314      131      12   960.0   \n321    775   357     249      A        W      408        4       3  1000.0   \n\n    NewLeague  \n1           N  \n2           A  \n3           N  \n4           N  \n5           A  \n..        ...  \n317         N  \n318         A  \n319         A  \n320         A  \n321         A  \n\n[263 rows x 20 columns]",
      "text/html": "<div>\n<style scoped>\n    .dataframe tbody tr th:only-of-type {\n        vertical-align: middle;\n    }\n\n    .dataframe tbody tr th {\n        vertical-align: top;\n    }\n\n    .dataframe thead th {\n        text-align: right;\n    }\n</style>\n<table border=\"1\" class=\"dataframe\">\n  <thead>\n    <tr style=\"text-align: right;\">\n      <th></th>\n      <th>AtBat</th>\n      <th>Hits</th>\n      <th>HmRun</th>\n      <th>Runs</th>\n      <th>RBI</th>\n      <th>Walks</th>\n      <th>Years</th>\n      <th>CAtBat</th>\n      <th>CHits</th>\n      <th>CHmRun</th>\n      <th>CRuns</th>\n      <th>CRBI</th>\n      <th>CWalks</th>\n      <th>League</th>\n      <th>Division</th>\n      <th>PutOuts</th>\n      <th>Assists</th>\n      <th>Errors</th>\n      <th>Salary</th>\n      <th>NewLeague</th>\n    </tr>\n  </thead>\n  <tbody>\n    <tr>\n      <th>1</th>\n      <td>315</td>\n      <td>81</td>\n      <td>7</td>\n      <td>24</td>\n      <td>38</td>\n      <td>39</td>\n      <td>14</td>\n      <td>3449</td>\n      <td>835</td>\n      <td>69</td>\n      <td>321</td>\n      <td>414</td>\n      <td>375</td>\n      <td>N</td>\n      <td>W</td>\n      <td>632</td>\n      <td>43</td>\n      <td>10</td>\n      <td>475.0</td>\n      <td>N</td>\n    </tr>\n    <tr>\n      <th>2</th>\n      <td>479</td>\n      <td>130</td>\n      <td>18</td>\n      <td>66</td>\n      <td>72</td>\n      <td>76</td>\n      <td>3</td>\n      <td>1624</td>\n      <td>457</td>\n      <td>63</td>\n      <td>224</td>\n      <td>266</td>\n      <td>263</td>\n      <td>A</td>\n      <td>W</td>\n      <td>880</td>\n      <td>82</td>\n      <td>14</td>\n      <td>480.0</td>\n      <td>A</td>\n    </tr>\n    <tr>\n      <th>3</th>\n      <td>496</td>\n      <td>141</td>\n      <td>20</td>\n      <td>65</td>\n      <td>78</td>\n      <td>37</td>\n      <td>11</td>\n      <td>5628</td>\n      <td>1575</td>\n      <td>225</td>\n      <td>828</td>\n      <td>838</td>\n      <td>354</td>\n      <td>N</td>\n      <td>E</td>\n      <td>200</td>\n      <td>11</td>\n      <td>3</td>\n      <td>500.0</td>\n      <td>N</td>\n    </tr>\n    <tr>\n      <th>4</th>\n      <td>321</td>\n      <td>87</td>\n      <td>10</td>\n      <td>39</td>\n      <td>42</td>\n      <td>30</td>\n      <td>2</td>\n      <td>396</td>\n      <td>101</td>\n      <td>12</td>\n      <td>48</td>\n      <td>46</td>\n      <td>33</td>\n      <td>N</td>\n      <td>E</td>\n      <td>805</td>\n      <td>40</td>\n      <td>4</td>\n      <td>91.5</td>\n      <td>N</td>\n    </tr>\n    <tr>\n      <th>5</th>\n      <td>594</td>\n      <td>169</td>\n      <td>4</td>\n      <td>74</td>\n      <td>51</td>\n      <td>35</td>\n      <td>11</td>\n      <td>4408</td>\n      <td>1133</td>\n      <td>19</td>\n      <td>501</td>\n      <td>336</td>\n      <td>194</td>\n      <td>A</td>\n      <td>W</td>\n      <td>282</td>\n      <td>421</td>\n      <td>25</td>\n      <td>750.0</td>\n      <td>A</td>\n    </tr>\n    <tr>\n      <th>...</th>\n      <td>...</td>\n      <td>...</td>\n      <td>...</td>\n      <td>...</td>\n      <td>...</td>\n      <td>...</td>\n      <td>...</td>\n      <td>...</td>\n      <td>...</td>\n      <td>...</td>\n      <td>...</td>\n      <td>...</td>\n      <td>...</td>\n      <td>...</td>\n      <td>...</td>\n      <td>...</td>\n      <td>...</td>\n      <td>...</td>\n      <td>...</td>\n      <td>...</td>\n    </tr>\n    <tr>\n      <th>317</th>\n      <td>497</td>\n      <td>127</td>\n      <td>7</td>\n      <td>65</td>\n      <td>48</td>\n      <td>37</td>\n      <td>5</td>\n      <td>2703</td>\n      <td>806</td>\n      <td>32</td>\n      <td>379</td>\n      <td>311</td>\n      <td>138</td>\n      <td>N</td>\n      <td>E</td>\n      <td>325</td>\n      <td>9</td>\n      <td>3</td>\n      <td>700.0</td>\n      <td>N</td>\n    </tr>\n    <tr>\n      <th>318</th>\n      <td>492</td>\n      <td>136</td>\n      <td>5</td>\n      <td>76</td>\n      <td>50</td>\n      <td>94</td>\n      <td>12</td>\n      <td>5511</td>\n      <td>1511</td>\n      <td>39</td>\n      <td>897</td>\n      <td>451</td>\n      <td>875</td>\n      <td>A</td>\n      <td>E</td>\n      <td>313</td>\n      <td>381</td>\n      <td>20</td>\n      <td>875.0</td>\n      <td>A</td>\n    </tr>\n    <tr>\n      <th>319</th>\n      <td>475</td>\n      <td>126</td>\n      <td>3</td>\n      <td>61</td>\n      <td>43</td>\n      <td>52</td>\n      <td>6</td>\n      <td>1700</td>\n      <td>433</td>\n      <td>7</td>\n      <td>217</td>\n      <td>93</td>\n      <td>146</td>\n      <td>A</td>\n      <td>W</td>\n      <td>37</td>\n      <td>113</td>\n      <td>7</td>\n      <td>385.0</td>\n      <td>A</td>\n    </tr>\n    <tr>\n      <th>320</th>\n      <td>573</td>\n      <td>144</td>\n      <td>9</td>\n      <td>85</td>\n      <td>60</td>\n      <td>78</td>\n      <td>8</td>\n      <td>3198</td>\n      <td>857</td>\n      <td>97</td>\n      <td>470</td>\n      <td>420</td>\n      <td>332</td>\n      <td>A</td>\n      <td>E</td>\n      <td>1314</td>\n      <td>131</td>\n      <td>12</td>\n      <td>960.0</td>\n      <td>A</td>\n    </tr>\n    <tr>\n      <th>321</th>\n      <td>631</td>\n      <td>170</td>\n      <td>9</td>\n      <td>77</td>\n      <td>44</td>\n      <td>31</td>\n      <td>11</td>\n      <td>4908</td>\n      <td>1457</td>\n      <td>30</td>\n      <td>775</td>\n      <td>357</td>\n      <td>249</td>\n      <td>A</td>\n      <td>W</td>\n      <td>408</td>\n      <td>4</td>\n      <td>3</td>\n      <td>1000.0</td>\n      <td>A</td>\n    </tr>\n  </tbody>\n</table>\n<p>263 rows × 20 columns</p>\n</div>"
     },
     "execution_count": 463,
     "metadata": {},
     "output_type": "execute_result"
    }
   ],
   "source": [
    "df"
   ],
   "metadata": {
    "collapsed": false,
    "ExecuteTime": {
     "end_time": "2024-02-25T18:17:49.504945800Z",
     "start_time": "2024-02-25T18:17:49.323239900Z"
    }
   },
   "id": "f806cec51c28bb7b",
   "execution_count": 463
  },
  {
   "cell_type": "code",
   "outputs": [],
   "source": [
    "dms = pd.get_dummies(df[[\"League\",\"Division\",\"NewLeague\"]]) # Kategorik verileri nümerik değerlere çevirdik"
   ],
   "metadata": {
    "collapsed": false,
    "ExecuteTime": {
     "end_time": "2024-02-25T18:17:49.748751600Z",
     "start_time": "2024-02-25T18:17:49.480996800Z"
    }
   },
   "id": "5245d74f0c11c682",
   "execution_count": 464
  },
  {
   "cell_type": "code",
   "outputs": [
    {
     "data": {
      "text/plain": "     League_A  League_N  Division_E  Division_W  NewLeague_A  NewLeague_N\n1           0         1           0           1            0            1\n2           1         0           0           1            1            0\n3           0         1           1           0            0            1\n4           0         1           1           0            0            1\n5           1         0           0           1            1            0\n..        ...       ...         ...         ...          ...          ...\n317         0         1           1           0            0            1\n318         1         0           1           0            1            0\n319         1         0           0           1            1            0\n320         1         0           1           0            1            0\n321         1         0           0           1            1            0\n\n[263 rows x 6 columns]",
      "text/html": "<div>\n<style scoped>\n    .dataframe tbody tr th:only-of-type {\n        vertical-align: middle;\n    }\n\n    .dataframe tbody tr th {\n        vertical-align: top;\n    }\n\n    .dataframe thead th {\n        text-align: right;\n    }\n</style>\n<table border=\"1\" class=\"dataframe\">\n  <thead>\n    <tr style=\"text-align: right;\">\n      <th></th>\n      <th>League_A</th>\n      <th>League_N</th>\n      <th>Division_E</th>\n      <th>Division_W</th>\n      <th>NewLeague_A</th>\n      <th>NewLeague_N</th>\n    </tr>\n  </thead>\n  <tbody>\n    <tr>\n      <th>1</th>\n      <td>0</td>\n      <td>1</td>\n      <td>0</td>\n      <td>1</td>\n      <td>0</td>\n      <td>1</td>\n    </tr>\n    <tr>\n      <th>2</th>\n      <td>1</td>\n      <td>0</td>\n      <td>0</td>\n      <td>1</td>\n      <td>1</td>\n      <td>0</td>\n    </tr>\n    <tr>\n      <th>3</th>\n      <td>0</td>\n      <td>1</td>\n      <td>1</td>\n      <td>0</td>\n      <td>0</td>\n      <td>1</td>\n    </tr>\n    <tr>\n      <th>4</th>\n      <td>0</td>\n      <td>1</td>\n      <td>1</td>\n      <td>0</td>\n      <td>0</td>\n      <td>1</td>\n    </tr>\n    <tr>\n      <th>5</th>\n      <td>1</td>\n      <td>0</td>\n      <td>0</td>\n      <td>1</td>\n      <td>1</td>\n      <td>0</td>\n    </tr>\n    <tr>\n      <th>...</th>\n      <td>...</td>\n      <td>...</td>\n      <td>...</td>\n      <td>...</td>\n      <td>...</td>\n      <td>...</td>\n    </tr>\n    <tr>\n      <th>317</th>\n      <td>0</td>\n      <td>1</td>\n      <td>1</td>\n      <td>0</td>\n      <td>0</td>\n      <td>1</td>\n    </tr>\n    <tr>\n      <th>318</th>\n      <td>1</td>\n      <td>0</td>\n      <td>1</td>\n      <td>0</td>\n      <td>1</td>\n      <td>0</td>\n    </tr>\n    <tr>\n      <th>319</th>\n      <td>1</td>\n      <td>0</td>\n      <td>0</td>\n      <td>1</td>\n      <td>1</td>\n      <td>0</td>\n    </tr>\n    <tr>\n      <th>320</th>\n      <td>1</td>\n      <td>0</td>\n      <td>1</td>\n      <td>0</td>\n      <td>1</td>\n      <td>0</td>\n    </tr>\n    <tr>\n      <th>321</th>\n      <td>1</td>\n      <td>0</td>\n      <td>0</td>\n      <td>1</td>\n      <td>1</td>\n      <td>0</td>\n    </tr>\n  </tbody>\n</table>\n<p>263 rows × 6 columns</p>\n</div>"
     },
     "execution_count": 465,
     "metadata": {},
     "output_type": "execute_result"
    }
   ],
   "source": [
    "dms"
   ],
   "metadata": {
    "collapsed": false,
    "ExecuteTime": {
     "end_time": "2024-02-25T18:17:50.011523500Z",
     "start_time": "2024-02-25T18:17:49.699144300Z"
    }
   },
   "id": "c9e88c079cb11201",
   "execution_count": 465
  },
  {
   "cell_type": "code",
   "outputs": [],
   "source": [
    "y = df[\"Salary\"] # Bağımlı değişkeni y'ye atadık"
   ],
   "metadata": {
    "collapsed": false,
    "ExecuteTime": {
     "end_time": "2024-02-25T18:17:50.360430700Z",
     "start_time": "2024-02-25T18:17:49.998049200Z"
    }
   },
   "id": "f4267da2d893e3b6",
   "execution_count": 466
  },
  {
   "cell_type": "code",
   "outputs": [
    {
     "data": {
      "text/plain": "1       475.0\n2       480.0\n3       500.0\n4        91.5\n5       750.0\n        ...  \n317     700.0\n318     875.0\n319     385.0\n320     960.0\n321    1000.0\nName: Salary, Length: 263, dtype: float64"
     },
     "execution_count": 467,
     "metadata": {},
     "output_type": "execute_result"
    }
   ],
   "source": [
    "y"
   ],
   "metadata": {
    "collapsed": false,
    "ExecuteTime": {
     "end_time": "2024-02-25T18:17:50.609351500Z",
     "start_time": "2024-02-25T18:17:50.308869800Z"
    }
   },
   "id": "9cb28802b472db0a",
   "execution_count": 467
  },
  {
   "cell_type": "code",
   "outputs": [],
   "source": [
    "x_ = df.drop([\"Salary\",\"League\",\"Division\",\"NewLeague\"],axis=1).astype(\"float64\") # Bağımlı değişkeni ve kategorik değişkenleri attık"
   ],
   "metadata": {
    "collapsed": false,
    "ExecuteTime": {
     "end_time": "2024-02-25T18:17:50.757228600Z",
     "start_time": "2024-02-25T18:17:50.513669200Z"
    }
   },
   "id": "6d87c480592c3244",
   "execution_count": 468
  },
  {
   "cell_type": "code",
   "outputs": [
    {
     "data": {
      "text/plain": "     AtBat   Hits  HmRun  Runs   RBI  Walks  Years  CAtBat   CHits  CHmRun  \\\n1    315.0   81.0    7.0  24.0  38.0   39.0   14.0  3449.0   835.0    69.0   \n2    479.0  130.0   18.0  66.0  72.0   76.0    3.0  1624.0   457.0    63.0   \n3    496.0  141.0   20.0  65.0  78.0   37.0   11.0  5628.0  1575.0   225.0   \n4    321.0   87.0   10.0  39.0  42.0   30.0    2.0   396.0   101.0    12.0   \n5    594.0  169.0    4.0  74.0  51.0   35.0   11.0  4408.0  1133.0    19.0   \n..     ...    ...    ...   ...   ...    ...    ...     ...     ...     ...   \n317  497.0  127.0    7.0  65.0  48.0   37.0    5.0  2703.0   806.0    32.0   \n318  492.0  136.0    5.0  76.0  50.0   94.0   12.0  5511.0  1511.0    39.0   \n319  475.0  126.0    3.0  61.0  43.0   52.0    6.0  1700.0   433.0     7.0   \n320  573.0  144.0    9.0  85.0  60.0   78.0    8.0  3198.0   857.0    97.0   \n321  631.0  170.0    9.0  77.0  44.0   31.0   11.0  4908.0  1457.0    30.0   \n\n     CRuns   CRBI  CWalks  PutOuts  Assists  Errors  \n1    321.0  414.0   375.0    632.0     43.0    10.0  \n2    224.0  266.0   263.0    880.0     82.0    14.0  \n3    828.0  838.0   354.0    200.0     11.0     3.0  \n4     48.0   46.0    33.0    805.0     40.0     4.0  \n5    501.0  336.0   194.0    282.0    421.0    25.0  \n..     ...    ...     ...      ...      ...     ...  \n317  379.0  311.0   138.0    325.0      9.0     3.0  \n318  897.0  451.0   875.0    313.0    381.0    20.0  \n319  217.0   93.0   146.0     37.0    113.0     7.0  \n320  470.0  420.0   332.0   1314.0    131.0    12.0  \n321  775.0  357.0   249.0    408.0      4.0     3.0  \n\n[263 rows x 16 columns]",
      "text/html": "<div>\n<style scoped>\n    .dataframe tbody tr th:only-of-type {\n        vertical-align: middle;\n    }\n\n    .dataframe tbody tr th {\n        vertical-align: top;\n    }\n\n    .dataframe thead th {\n        text-align: right;\n    }\n</style>\n<table border=\"1\" class=\"dataframe\">\n  <thead>\n    <tr style=\"text-align: right;\">\n      <th></th>\n      <th>AtBat</th>\n      <th>Hits</th>\n      <th>HmRun</th>\n      <th>Runs</th>\n      <th>RBI</th>\n      <th>Walks</th>\n      <th>Years</th>\n      <th>CAtBat</th>\n      <th>CHits</th>\n      <th>CHmRun</th>\n      <th>CRuns</th>\n      <th>CRBI</th>\n      <th>CWalks</th>\n      <th>PutOuts</th>\n      <th>Assists</th>\n      <th>Errors</th>\n    </tr>\n  </thead>\n  <tbody>\n    <tr>\n      <th>1</th>\n      <td>315.0</td>\n      <td>81.0</td>\n      <td>7.0</td>\n      <td>24.0</td>\n      <td>38.0</td>\n      <td>39.0</td>\n      <td>14.0</td>\n      <td>3449.0</td>\n      <td>835.0</td>\n      <td>69.0</td>\n      <td>321.0</td>\n      <td>414.0</td>\n      <td>375.0</td>\n      <td>632.0</td>\n      <td>43.0</td>\n      <td>10.0</td>\n    </tr>\n    <tr>\n      <th>2</th>\n      <td>479.0</td>\n      <td>130.0</td>\n      <td>18.0</td>\n      <td>66.0</td>\n      <td>72.0</td>\n      <td>76.0</td>\n      <td>3.0</td>\n      <td>1624.0</td>\n      <td>457.0</td>\n      <td>63.0</td>\n      <td>224.0</td>\n      <td>266.0</td>\n      <td>263.0</td>\n      <td>880.0</td>\n      <td>82.0</td>\n      <td>14.0</td>\n    </tr>\n    <tr>\n      <th>3</th>\n      <td>496.0</td>\n      <td>141.0</td>\n      <td>20.0</td>\n      <td>65.0</td>\n      <td>78.0</td>\n      <td>37.0</td>\n      <td>11.0</td>\n      <td>5628.0</td>\n      <td>1575.0</td>\n      <td>225.0</td>\n      <td>828.0</td>\n      <td>838.0</td>\n      <td>354.0</td>\n      <td>200.0</td>\n      <td>11.0</td>\n      <td>3.0</td>\n    </tr>\n    <tr>\n      <th>4</th>\n      <td>321.0</td>\n      <td>87.0</td>\n      <td>10.0</td>\n      <td>39.0</td>\n      <td>42.0</td>\n      <td>30.0</td>\n      <td>2.0</td>\n      <td>396.0</td>\n      <td>101.0</td>\n      <td>12.0</td>\n      <td>48.0</td>\n      <td>46.0</td>\n      <td>33.0</td>\n      <td>805.0</td>\n      <td>40.0</td>\n      <td>4.0</td>\n    </tr>\n    <tr>\n      <th>5</th>\n      <td>594.0</td>\n      <td>169.0</td>\n      <td>4.0</td>\n      <td>74.0</td>\n      <td>51.0</td>\n      <td>35.0</td>\n      <td>11.0</td>\n      <td>4408.0</td>\n      <td>1133.0</td>\n      <td>19.0</td>\n      <td>501.0</td>\n      <td>336.0</td>\n      <td>194.0</td>\n      <td>282.0</td>\n      <td>421.0</td>\n      <td>25.0</td>\n    </tr>\n    <tr>\n      <th>...</th>\n      <td>...</td>\n      <td>...</td>\n      <td>...</td>\n      <td>...</td>\n      <td>...</td>\n      <td>...</td>\n      <td>...</td>\n      <td>...</td>\n      <td>...</td>\n      <td>...</td>\n      <td>...</td>\n      <td>...</td>\n      <td>...</td>\n      <td>...</td>\n      <td>...</td>\n      <td>...</td>\n    </tr>\n    <tr>\n      <th>317</th>\n      <td>497.0</td>\n      <td>127.0</td>\n      <td>7.0</td>\n      <td>65.0</td>\n      <td>48.0</td>\n      <td>37.0</td>\n      <td>5.0</td>\n      <td>2703.0</td>\n      <td>806.0</td>\n      <td>32.0</td>\n      <td>379.0</td>\n      <td>311.0</td>\n      <td>138.0</td>\n      <td>325.0</td>\n      <td>9.0</td>\n      <td>3.0</td>\n    </tr>\n    <tr>\n      <th>318</th>\n      <td>492.0</td>\n      <td>136.0</td>\n      <td>5.0</td>\n      <td>76.0</td>\n      <td>50.0</td>\n      <td>94.0</td>\n      <td>12.0</td>\n      <td>5511.0</td>\n      <td>1511.0</td>\n      <td>39.0</td>\n      <td>897.0</td>\n      <td>451.0</td>\n      <td>875.0</td>\n      <td>313.0</td>\n      <td>381.0</td>\n      <td>20.0</td>\n    </tr>\n    <tr>\n      <th>319</th>\n      <td>475.0</td>\n      <td>126.0</td>\n      <td>3.0</td>\n      <td>61.0</td>\n      <td>43.0</td>\n      <td>52.0</td>\n      <td>6.0</td>\n      <td>1700.0</td>\n      <td>433.0</td>\n      <td>7.0</td>\n      <td>217.0</td>\n      <td>93.0</td>\n      <td>146.0</td>\n      <td>37.0</td>\n      <td>113.0</td>\n      <td>7.0</td>\n    </tr>\n    <tr>\n      <th>320</th>\n      <td>573.0</td>\n      <td>144.0</td>\n      <td>9.0</td>\n      <td>85.0</td>\n      <td>60.0</td>\n      <td>78.0</td>\n      <td>8.0</td>\n      <td>3198.0</td>\n      <td>857.0</td>\n      <td>97.0</td>\n      <td>470.0</td>\n      <td>420.0</td>\n      <td>332.0</td>\n      <td>1314.0</td>\n      <td>131.0</td>\n      <td>12.0</td>\n    </tr>\n    <tr>\n      <th>321</th>\n      <td>631.0</td>\n      <td>170.0</td>\n      <td>9.0</td>\n      <td>77.0</td>\n      <td>44.0</td>\n      <td>31.0</td>\n      <td>11.0</td>\n      <td>4908.0</td>\n      <td>1457.0</td>\n      <td>30.0</td>\n      <td>775.0</td>\n      <td>357.0</td>\n      <td>249.0</td>\n      <td>408.0</td>\n      <td>4.0</td>\n      <td>3.0</td>\n    </tr>\n  </tbody>\n</table>\n<p>263 rows × 16 columns</p>\n</div>"
     },
     "execution_count": 469,
     "metadata": {},
     "output_type": "execute_result"
    }
   ],
   "source": [
    "x_"
   ],
   "metadata": {
    "collapsed": false,
    "ExecuteTime": {
     "end_time": "2024-02-25T18:17:51.007514800Z",
     "start_time": "2024-02-25T18:17:50.759221800Z"
    }
   },
   "id": "6a00b7385ad9335c",
   "execution_count": 469
  },
  {
   "cell_type": "code",
   "outputs": [],
   "source": [
    "x = pd.concat([x_,dms[[\"League_N\",'Division_W',\"NewLeague_N\"]]],axis=1) # bağımsız değişkenlerimizle, bağımlı değişkenleri ve dummiesleri bir araya getirdik. "
   ],
   "metadata": {
    "collapsed": false,
    "ExecuteTime": {
     "end_time": "2024-02-25T18:17:51.176247500Z",
     "start_time": "2024-02-25T18:17:50.970728800Z"
    }
   },
   "id": "ecc1f96e0bb11772",
   "execution_count": 470
  },
  {
   "cell_type": "code",
   "outputs": [
    {
     "data": {
      "text/plain": "     AtBat   Hits  HmRun  Runs   RBI  Walks  Years  CAtBat   CHits  CHmRun  \\\n1    315.0   81.0    7.0  24.0  38.0   39.0   14.0  3449.0   835.0    69.0   \n2    479.0  130.0   18.0  66.0  72.0   76.0    3.0  1624.0   457.0    63.0   \n3    496.0  141.0   20.0  65.0  78.0   37.0   11.0  5628.0  1575.0   225.0   \n4    321.0   87.0   10.0  39.0  42.0   30.0    2.0   396.0   101.0    12.0   \n5    594.0  169.0    4.0  74.0  51.0   35.0   11.0  4408.0  1133.0    19.0   \n..     ...    ...    ...   ...   ...    ...    ...     ...     ...     ...   \n317  497.0  127.0    7.0  65.0  48.0   37.0    5.0  2703.0   806.0    32.0   \n318  492.0  136.0    5.0  76.0  50.0   94.0   12.0  5511.0  1511.0    39.0   \n319  475.0  126.0    3.0  61.0  43.0   52.0    6.0  1700.0   433.0     7.0   \n320  573.0  144.0    9.0  85.0  60.0   78.0    8.0  3198.0   857.0    97.0   \n321  631.0  170.0    9.0  77.0  44.0   31.0   11.0  4908.0  1457.0    30.0   \n\n     CRuns   CRBI  CWalks  PutOuts  Assists  Errors  League_N  Division_W  \\\n1    321.0  414.0   375.0    632.0     43.0    10.0         1           1   \n2    224.0  266.0   263.0    880.0     82.0    14.0         0           1   \n3    828.0  838.0   354.0    200.0     11.0     3.0         1           0   \n4     48.0   46.0    33.0    805.0     40.0     4.0         1           0   \n5    501.0  336.0   194.0    282.0    421.0    25.0         0           1   \n..     ...    ...     ...      ...      ...     ...       ...         ...   \n317  379.0  311.0   138.0    325.0      9.0     3.0         1           0   \n318  897.0  451.0   875.0    313.0    381.0    20.0         0           0   \n319  217.0   93.0   146.0     37.0    113.0     7.0         0           1   \n320  470.0  420.0   332.0   1314.0    131.0    12.0         0           0   \n321  775.0  357.0   249.0    408.0      4.0     3.0         0           1   \n\n     NewLeague_N  \n1              1  \n2              0  \n3              1  \n4              1  \n5              0  \n..           ...  \n317            1  \n318            0  \n319            0  \n320            0  \n321            0  \n\n[263 rows x 19 columns]",
      "text/html": "<div>\n<style scoped>\n    .dataframe tbody tr th:only-of-type {\n        vertical-align: middle;\n    }\n\n    .dataframe tbody tr th {\n        vertical-align: top;\n    }\n\n    .dataframe thead th {\n        text-align: right;\n    }\n</style>\n<table border=\"1\" class=\"dataframe\">\n  <thead>\n    <tr style=\"text-align: right;\">\n      <th></th>\n      <th>AtBat</th>\n      <th>Hits</th>\n      <th>HmRun</th>\n      <th>Runs</th>\n      <th>RBI</th>\n      <th>Walks</th>\n      <th>Years</th>\n      <th>CAtBat</th>\n      <th>CHits</th>\n      <th>CHmRun</th>\n      <th>CRuns</th>\n      <th>CRBI</th>\n      <th>CWalks</th>\n      <th>PutOuts</th>\n      <th>Assists</th>\n      <th>Errors</th>\n      <th>League_N</th>\n      <th>Division_W</th>\n      <th>NewLeague_N</th>\n    </tr>\n  </thead>\n  <tbody>\n    <tr>\n      <th>1</th>\n      <td>315.0</td>\n      <td>81.0</td>\n      <td>7.0</td>\n      <td>24.0</td>\n      <td>38.0</td>\n      <td>39.0</td>\n      <td>14.0</td>\n      <td>3449.0</td>\n      <td>835.0</td>\n      <td>69.0</td>\n      <td>321.0</td>\n      <td>414.0</td>\n      <td>375.0</td>\n      <td>632.0</td>\n      <td>43.0</td>\n      <td>10.0</td>\n      <td>1</td>\n      <td>1</td>\n      <td>1</td>\n    </tr>\n    <tr>\n      <th>2</th>\n      <td>479.0</td>\n      <td>130.0</td>\n      <td>18.0</td>\n      <td>66.0</td>\n      <td>72.0</td>\n      <td>76.0</td>\n      <td>3.0</td>\n      <td>1624.0</td>\n      <td>457.0</td>\n      <td>63.0</td>\n      <td>224.0</td>\n      <td>266.0</td>\n      <td>263.0</td>\n      <td>880.0</td>\n      <td>82.0</td>\n      <td>14.0</td>\n      <td>0</td>\n      <td>1</td>\n      <td>0</td>\n    </tr>\n    <tr>\n      <th>3</th>\n      <td>496.0</td>\n      <td>141.0</td>\n      <td>20.0</td>\n      <td>65.0</td>\n      <td>78.0</td>\n      <td>37.0</td>\n      <td>11.0</td>\n      <td>5628.0</td>\n      <td>1575.0</td>\n      <td>225.0</td>\n      <td>828.0</td>\n      <td>838.0</td>\n      <td>354.0</td>\n      <td>200.0</td>\n      <td>11.0</td>\n      <td>3.0</td>\n      <td>1</td>\n      <td>0</td>\n      <td>1</td>\n    </tr>\n    <tr>\n      <th>4</th>\n      <td>321.0</td>\n      <td>87.0</td>\n      <td>10.0</td>\n      <td>39.0</td>\n      <td>42.0</td>\n      <td>30.0</td>\n      <td>2.0</td>\n      <td>396.0</td>\n      <td>101.0</td>\n      <td>12.0</td>\n      <td>48.0</td>\n      <td>46.0</td>\n      <td>33.0</td>\n      <td>805.0</td>\n      <td>40.0</td>\n      <td>4.0</td>\n      <td>1</td>\n      <td>0</td>\n      <td>1</td>\n    </tr>\n    <tr>\n      <th>5</th>\n      <td>594.0</td>\n      <td>169.0</td>\n      <td>4.0</td>\n      <td>74.0</td>\n      <td>51.0</td>\n      <td>35.0</td>\n      <td>11.0</td>\n      <td>4408.0</td>\n      <td>1133.0</td>\n      <td>19.0</td>\n      <td>501.0</td>\n      <td>336.0</td>\n      <td>194.0</td>\n      <td>282.0</td>\n      <td>421.0</td>\n      <td>25.0</td>\n      <td>0</td>\n      <td>1</td>\n      <td>0</td>\n    </tr>\n    <tr>\n      <th>...</th>\n      <td>...</td>\n      <td>...</td>\n      <td>...</td>\n      <td>...</td>\n      <td>...</td>\n      <td>...</td>\n      <td>...</td>\n      <td>...</td>\n      <td>...</td>\n      <td>...</td>\n      <td>...</td>\n      <td>...</td>\n      <td>...</td>\n      <td>...</td>\n      <td>...</td>\n      <td>...</td>\n      <td>...</td>\n      <td>...</td>\n      <td>...</td>\n    </tr>\n    <tr>\n      <th>317</th>\n      <td>497.0</td>\n      <td>127.0</td>\n      <td>7.0</td>\n      <td>65.0</td>\n      <td>48.0</td>\n      <td>37.0</td>\n      <td>5.0</td>\n      <td>2703.0</td>\n      <td>806.0</td>\n      <td>32.0</td>\n      <td>379.0</td>\n      <td>311.0</td>\n      <td>138.0</td>\n      <td>325.0</td>\n      <td>9.0</td>\n      <td>3.0</td>\n      <td>1</td>\n      <td>0</td>\n      <td>1</td>\n    </tr>\n    <tr>\n      <th>318</th>\n      <td>492.0</td>\n      <td>136.0</td>\n      <td>5.0</td>\n      <td>76.0</td>\n      <td>50.0</td>\n      <td>94.0</td>\n      <td>12.0</td>\n      <td>5511.0</td>\n      <td>1511.0</td>\n      <td>39.0</td>\n      <td>897.0</td>\n      <td>451.0</td>\n      <td>875.0</td>\n      <td>313.0</td>\n      <td>381.0</td>\n      <td>20.0</td>\n      <td>0</td>\n      <td>0</td>\n      <td>0</td>\n    </tr>\n    <tr>\n      <th>319</th>\n      <td>475.0</td>\n      <td>126.0</td>\n      <td>3.0</td>\n      <td>61.0</td>\n      <td>43.0</td>\n      <td>52.0</td>\n      <td>6.0</td>\n      <td>1700.0</td>\n      <td>433.0</td>\n      <td>7.0</td>\n      <td>217.0</td>\n      <td>93.0</td>\n      <td>146.0</td>\n      <td>37.0</td>\n      <td>113.0</td>\n      <td>7.0</td>\n      <td>0</td>\n      <td>1</td>\n      <td>0</td>\n    </tr>\n    <tr>\n      <th>320</th>\n      <td>573.0</td>\n      <td>144.0</td>\n      <td>9.0</td>\n      <td>85.0</td>\n      <td>60.0</td>\n      <td>78.0</td>\n      <td>8.0</td>\n      <td>3198.0</td>\n      <td>857.0</td>\n      <td>97.0</td>\n      <td>470.0</td>\n      <td>420.0</td>\n      <td>332.0</td>\n      <td>1314.0</td>\n      <td>131.0</td>\n      <td>12.0</td>\n      <td>0</td>\n      <td>0</td>\n      <td>0</td>\n    </tr>\n    <tr>\n      <th>321</th>\n      <td>631.0</td>\n      <td>170.0</td>\n      <td>9.0</td>\n      <td>77.0</td>\n      <td>44.0</td>\n      <td>31.0</td>\n      <td>11.0</td>\n      <td>4908.0</td>\n      <td>1457.0</td>\n      <td>30.0</td>\n      <td>775.0</td>\n      <td>357.0</td>\n      <td>249.0</td>\n      <td>408.0</td>\n      <td>4.0</td>\n      <td>3.0</td>\n      <td>0</td>\n      <td>1</td>\n      <td>0</td>\n    </tr>\n  </tbody>\n</table>\n<p>263 rows × 19 columns</p>\n</div>"
     },
     "execution_count": 471,
     "metadata": {},
     "output_type": "execute_result"
    }
   ],
   "source": [
    "x"
   ],
   "metadata": {
    "collapsed": false,
    "ExecuteTime": {
     "end_time": "2024-02-25T18:17:51.504489100Z",
     "start_time": "2024-02-25T18:17:51.182231300Z"
    }
   },
   "id": "f90ad27829885689",
   "execution_count": 471
  },
  {
   "cell_type": "code",
   "outputs": [],
   "source": [
    "x_train, x_test, y_train, y_test = model_selection.train_test_split(x,y,test_size=0.25,random_state=42)"
   ],
   "metadata": {
    "collapsed": false,
    "ExecuteTime": {
     "end_time": "2024-02-25T18:17:51.743745700Z",
     "start_time": "2024-02-25T18:17:51.466942200Z"
    }
   },
   "id": "abb6810d0433604",
   "execution_count": 472
  },
  {
   "cell_type": "code",
   "outputs": [
    {
     "data": {
      "text/plain": "     AtBat   Hits  HmRun  Runs    RBI  Walks  Years   CAtBat   CHits  CHmRun  \\\n183  328.0   91.0   12.0  51.0   43.0   33.0    2.0    342.0    94.0    12.0   \n229  514.0  144.0    0.0  67.0   54.0   79.0    9.0   4739.0  1169.0    13.0   \n286  593.0  152.0   23.0  69.0   75.0   53.0    6.0   2765.0   686.0   133.0   \n102  233.0   49.0    2.0  41.0   23.0   18.0    8.0   1350.0   336.0     7.0   \n153  341.0   95.0    6.0  48.0   42.0   20.0   10.0   2964.0   808.0    81.0   \n..     ...    ...    ...   ...    ...    ...    ...      ...     ...     ...   \n24   629.0  168.0   18.0  73.0  102.0   40.0   18.0   8424.0  2464.0   164.0   \n236  237.0   52.0    0.0  15.0   25.0   30.0   24.0  14053.0  4256.0   160.0   \n93   511.0  138.0   25.0  76.0   96.0   61.0    3.0    592.0   164.0    28.0   \n137  343.0  103.0    6.0  48.0   36.0   40.0   15.0   4338.0  1193.0    70.0   \n133  445.0   99.0    1.0  46.0   24.0   29.0    4.0    618.0   129.0     1.0   \n\n      CRuns    CRBI  CWalks  PutOuts  Assists  Errors  League_N  Division_W  \\\n183    51.0    44.0    33.0    145.0     59.0     8.0         1           0   \n229   583.0   374.0   528.0    229.0    453.0    15.0         1           0   \n286   369.0   384.0   321.0    315.0     10.0     6.0         0           1   \n102   166.0   122.0   106.0    102.0    132.0    10.0         0           0   \n153   379.0   428.0   221.0    158.0      4.0     5.0         1           1   \n..      ...     ...     ...      ...      ...     ...       ...         ...   \n24   1008.0  1072.0   402.0   1067.0    157.0    14.0         0           0   \n236  2165.0  1314.0  1566.0    523.0     43.0     6.0         1           1   \n93     87.0   110.0    71.0    157.0      7.0     8.0         0           1   \n137   581.0   421.0   325.0    211.0     56.0    13.0         0           0   \n133    72.0    31.0    48.0    278.0    415.0    16.0         0           1   \n\n     NewLeague_N  \n183            1  \n229            1  \n286            0  \n102            0  \n153            1  \n..           ...  \n24             0  \n236            1  \n93             0  \n137            0  \n133            0  \n\n[197 rows x 19 columns]",
      "text/html": "<div>\n<style scoped>\n    .dataframe tbody tr th:only-of-type {\n        vertical-align: middle;\n    }\n\n    .dataframe tbody tr th {\n        vertical-align: top;\n    }\n\n    .dataframe thead th {\n        text-align: right;\n    }\n</style>\n<table border=\"1\" class=\"dataframe\">\n  <thead>\n    <tr style=\"text-align: right;\">\n      <th></th>\n      <th>AtBat</th>\n      <th>Hits</th>\n      <th>HmRun</th>\n      <th>Runs</th>\n      <th>RBI</th>\n      <th>Walks</th>\n      <th>Years</th>\n      <th>CAtBat</th>\n      <th>CHits</th>\n      <th>CHmRun</th>\n      <th>CRuns</th>\n      <th>CRBI</th>\n      <th>CWalks</th>\n      <th>PutOuts</th>\n      <th>Assists</th>\n      <th>Errors</th>\n      <th>League_N</th>\n      <th>Division_W</th>\n      <th>NewLeague_N</th>\n    </tr>\n  </thead>\n  <tbody>\n    <tr>\n      <th>183</th>\n      <td>328.0</td>\n      <td>91.0</td>\n      <td>12.0</td>\n      <td>51.0</td>\n      <td>43.0</td>\n      <td>33.0</td>\n      <td>2.0</td>\n      <td>342.0</td>\n      <td>94.0</td>\n      <td>12.0</td>\n      <td>51.0</td>\n      <td>44.0</td>\n      <td>33.0</td>\n      <td>145.0</td>\n      <td>59.0</td>\n      <td>8.0</td>\n      <td>1</td>\n      <td>0</td>\n      <td>1</td>\n    </tr>\n    <tr>\n      <th>229</th>\n      <td>514.0</td>\n      <td>144.0</td>\n      <td>0.0</td>\n      <td>67.0</td>\n      <td>54.0</td>\n      <td>79.0</td>\n      <td>9.0</td>\n      <td>4739.0</td>\n      <td>1169.0</td>\n      <td>13.0</td>\n      <td>583.0</td>\n      <td>374.0</td>\n      <td>528.0</td>\n      <td>229.0</td>\n      <td>453.0</td>\n      <td>15.0</td>\n      <td>1</td>\n      <td>0</td>\n      <td>1</td>\n    </tr>\n    <tr>\n      <th>286</th>\n      <td>593.0</td>\n      <td>152.0</td>\n      <td>23.0</td>\n      <td>69.0</td>\n      <td>75.0</td>\n      <td>53.0</td>\n      <td>6.0</td>\n      <td>2765.0</td>\n      <td>686.0</td>\n      <td>133.0</td>\n      <td>369.0</td>\n      <td>384.0</td>\n      <td>321.0</td>\n      <td>315.0</td>\n      <td>10.0</td>\n      <td>6.0</td>\n      <td>0</td>\n      <td>1</td>\n      <td>0</td>\n    </tr>\n    <tr>\n      <th>102</th>\n      <td>233.0</td>\n      <td>49.0</td>\n      <td>2.0</td>\n      <td>41.0</td>\n      <td>23.0</td>\n      <td>18.0</td>\n      <td>8.0</td>\n      <td>1350.0</td>\n      <td>336.0</td>\n      <td>7.0</td>\n      <td>166.0</td>\n      <td>122.0</td>\n      <td>106.0</td>\n      <td>102.0</td>\n      <td>132.0</td>\n      <td>10.0</td>\n      <td>0</td>\n      <td>0</td>\n      <td>0</td>\n    </tr>\n    <tr>\n      <th>153</th>\n      <td>341.0</td>\n      <td>95.0</td>\n      <td>6.0</td>\n      <td>48.0</td>\n      <td>42.0</td>\n      <td>20.0</td>\n      <td>10.0</td>\n      <td>2964.0</td>\n      <td>808.0</td>\n      <td>81.0</td>\n      <td>379.0</td>\n      <td>428.0</td>\n      <td>221.0</td>\n      <td>158.0</td>\n      <td>4.0</td>\n      <td>5.0</td>\n      <td>1</td>\n      <td>1</td>\n      <td>1</td>\n    </tr>\n    <tr>\n      <th>...</th>\n      <td>...</td>\n      <td>...</td>\n      <td>...</td>\n      <td>...</td>\n      <td>...</td>\n      <td>...</td>\n      <td>...</td>\n      <td>...</td>\n      <td>...</td>\n      <td>...</td>\n      <td>...</td>\n      <td>...</td>\n      <td>...</td>\n      <td>...</td>\n      <td>...</td>\n      <td>...</td>\n      <td>...</td>\n      <td>...</td>\n      <td>...</td>\n    </tr>\n    <tr>\n      <th>24</th>\n      <td>629.0</td>\n      <td>168.0</td>\n      <td>18.0</td>\n      <td>73.0</td>\n      <td>102.0</td>\n      <td>40.0</td>\n      <td>18.0</td>\n      <td>8424.0</td>\n      <td>2464.0</td>\n      <td>164.0</td>\n      <td>1008.0</td>\n      <td>1072.0</td>\n      <td>402.0</td>\n      <td>1067.0</td>\n      <td>157.0</td>\n      <td>14.0</td>\n      <td>0</td>\n      <td>0</td>\n      <td>0</td>\n    </tr>\n    <tr>\n      <th>236</th>\n      <td>237.0</td>\n      <td>52.0</td>\n      <td>0.0</td>\n      <td>15.0</td>\n      <td>25.0</td>\n      <td>30.0</td>\n      <td>24.0</td>\n      <td>14053.0</td>\n      <td>4256.0</td>\n      <td>160.0</td>\n      <td>2165.0</td>\n      <td>1314.0</td>\n      <td>1566.0</td>\n      <td>523.0</td>\n      <td>43.0</td>\n      <td>6.0</td>\n      <td>1</td>\n      <td>1</td>\n      <td>1</td>\n    </tr>\n    <tr>\n      <th>93</th>\n      <td>511.0</td>\n      <td>138.0</td>\n      <td>25.0</td>\n      <td>76.0</td>\n      <td>96.0</td>\n      <td>61.0</td>\n      <td>3.0</td>\n      <td>592.0</td>\n      <td>164.0</td>\n      <td>28.0</td>\n      <td>87.0</td>\n      <td>110.0</td>\n      <td>71.0</td>\n      <td>157.0</td>\n      <td>7.0</td>\n      <td>8.0</td>\n      <td>0</td>\n      <td>1</td>\n      <td>0</td>\n    </tr>\n    <tr>\n      <th>137</th>\n      <td>343.0</td>\n      <td>103.0</td>\n      <td>6.0</td>\n      <td>48.0</td>\n      <td>36.0</td>\n      <td>40.0</td>\n      <td>15.0</td>\n      <td>4338.0</td>\n      <td>1193.0</td>\n      <td>70.0</td>\n      <td>581.0</td>\n      <td>421.0</td>\n      <td>325.0</td>\n      <td>211.0</td>\n      <td>56.0</td>\n      <td>13.0</td>\n      <td>0</td>\n      <td>0</td>\n      <td>0</td>\n    </tr>\n    <tr>\n      <th>133</th>\n      <td>445.0</td>\n      <td>99.0</td>\n      <td>1.0</td>\n      <td>46.0</td>\n      <td>24.0</td>\n      <td>29.0</td>\n      <td>4.0</td>\n      <td>618.0</td>\n      <td>129.0</td>\n      <td>1.0</td>\n      <td>72.0</td>\n      <td>31.0</td>\n      <td>48.0</td>\n      <td>278.0</td>\n      <td>415.0</td>\n      <td>16.0</td>\n      <td>0</td>\n      <td>1</td>\n      <td>0</td>\n    </tr>\n  </tbody>\n</table>\n<p>197 rows × 19 columns</p>\n</div>"
     },
     "execution_count": 473,
     "metadata": {},
     "output_type": "execute_result"
    }
   ],
   "source": [
    "x_train"
   ],
   "metadata": {
    "collapsed": false,
    "ExecuteTime": {
     "end_time": "2024-02-25T18:17:51.965168900Z",
     "start_time": "2024-02-25T18:17:51.748724900Z"
    }
   },
   "id": "a03e34c5b7cc21f2",
   "execution_count": 473
  },
  {
   "cell_type": "code",
   "outputs": [
    {
     "data": {
      "text/plain": "     AtBat   Hits  HmRun  Runs   RBI  Walks  Years  CAtBat   CHits  CHmRun  \\\n148  497.0  136.0    7.0  58.0  38.0   26.0   11.0  3871.0  1066.0    40.0   \n154  537.0  147.0   23.0  58.0  88.0   47.0   10.0  2744.0   730.0    97.0   \n318  492.0  136.0    5.0  76.0  50.0   94.0   12.0  5511.0  1511.0    39.0   \n279  439.0   96.0    0.0  44.0  36.0   65.0    4.0   711.0   148.0     1.0   \n88   155.0   41.0   12.0  21.0  29.0   22.0   16.0  5409.0  1338.0   181.0   \n..     ...    ...    ...   ...   ...    ...    ...     ...     ...     ...   \n122  539.0  139.0    5.0  93.0  58.0   69.0    5.0  1469.0   369.0    12.0   \n282  633.0  210.0    6.0  91.0  56.0   59.0    6.0  3070.0   872.0    19.0   \n111  325.0   76.0   16.0  33.0  52.0   37.0    5.0  1506.0   351.0    71.0   \n232  313.0   83.0    9.0  43.0  41.0   30.0   14.0  5885.0  1543.0   104.0   \n51   214.0   53.0    2.0  30.0  29.0   23.0    2.0   226.0    59.0     2.0   \n\n     CRuns   CRBI  CWalks  PutOuts  Assists  Errors  League_N  Division_W  \\\n148  450.0  367.0   241.0    304.0    347.0    10.0         0           0   \n154  302.0  351.0   174.0     92.0    257.0    20.0         1           0   \n318  897.0  451.0   875.0    313.0    381.0    20.0         0           0   \n279   68.0   56.0    99.0    229.0    406.0    22.0         1           0   \n88   746.0  805.0   875.0    165.0      9.0     1.0         0           1   \n..     ...    ...     ...      ...      ...     ...       ...         ...   \n122  247.0  126.0   198.0    462.0      9.0     7.0         0           1   \n282  420.0  230.0   274.0    367.0    432.0    16.0         1           1   \n111  195.0  219.0   214.0    726.0     87.0     3.0         1           1   \n232  751.0  714.0   535.0     58.0    141.0    23.0         1           1   \n51    32.0   32.0    27.0    109.0      7.0     3.0         1           0   \n\n     NewLeague_N  \n148            0  \n154            1  \n318            0  \n279            1  \n88             0  \n..           ...  \n122            0  \n282            1  \n111            0  \n232            1  \n51             1  \n\n[66 rows x 19 columns]",
      "text/html": "<div>\n<style scoped>\n    .dataframe tbody tr th:only-of-type {\n        vertical-align: middle;\n    }\n\n    .dataframe tbody tr th {\n        vertical-align: top;\n    }\n\n    .dataframe thead th {\n        text-align: right;\n    }\n</style>\n<table border=\"1\" class=\"dataframe\">\n  <thead>\n    <tr style=\"text-align: right;\">\n      <th></th>\n      <th>AtBat</th>\n      <th>Hits</th>\n      <th>HmRun</th>\n      <th>Runs</th>\n      <th>RBI</th>\n      <th>Walks</th>\n      <th>Years</th>\n      <th>CAtBat</th>\n      <th>CHits</th>\n      <th>CHmRun</th>\n      <th>CRuns</th>\n      <th>CRBI</th>\n      <th>CWalks</th>\n      <th>PutOuts</th>\n      <th>Assists</th>\n      <th>Errors</th>\n      <th>League_N</th>\n      <th>Division_W</th>\n      <th>NewLeague_N</th>\n    </tr>\n  </thead>\n  <tbody>\n    <tr>\n      <th>148</th>\n      <td>497.0</td>\n      <td>136.0</td>\n      <td>7.0</td>\n      <td>58.0</td>\n      <td>38.0</td>\n      <td>26.0</td>\n      <td>11.0</td>\n      <td>3871.0</td>\n      <td>1066.0</td>\n      <td>40.0</td>\n      <td>450.0</td>\n      <td>367.0</td>\n      <td>241.0</td>\n      <td>304.0</td>\n      <td>347.0</td>\n      <td>10.0</td>\n      <td>0</td>\n      <td>0</td>\n      <td>0</td>\n    </tr>\n    <tr>\n      <th>154</th>\n      <td>537.0</td>\n      <td>147.0</td>\n      <td>23.0</td>\n      <td>58.0</td>\n      <td>88.0</td>\n      <td>47.0</td>\n      <td>10.0</td>\n      <td>2744.0</td>\n      <td>730.0</td>\n      <td>97.0</td>\n      <td>302.0</td>\n      <td>351.0</td>\n      <td>174.0</td>\n      <td>92.0</td>\n      <td>257.0</td>\n      <td>20.0</td>\n      <td>1</td>\n      <td>0</td>\n      <td>1</td>\n    </tr>\n    <tr>\n      <th>318</th>\n      <td>492.0</td>\n      <td>136.0</td>\n      <td>5.0</td>\n      <td>76.0</td>\n      <td>50.0</td>\n      <td>94.0</td>\n      <td>12.0</td>\n      <td>5511.0</td>\n      <td>1511.0</td>\n      <td>39.0</td>\n      <td>897.0</td>\n      <td>451.0</td>\n      <td>875.0</td>\n      <td>313.0</td>\n      <td>381.0</td>\n      <td>20.0</td>\n      <td>0</td>\n      <td>0</td>\n      <td>0</td>\n    </tr>\n    <tr>\n      <th>279</th>\n      <td>439.0</td>\n      <td>96.0</td>\n      <td>0.0</td>\n      <td>44.0</td>\n      <td>36.0</td>\n      <td>65.0</td>\n      <td>4.0</td>\n      <td>711.0</td>\n      <td>148.0</td>\n      <td>1.0</td>\n      <td>68.0</td>\n      <td>56.0</td>\n      <td>99.0</td>\n      <td>229.0</td>\n      <td>406.0</td>\n      <td>22.0</td>\n      <td>1</td>\n      <td>0</td>\n      <td>1</td>\n    </tr>\n    <tr>\n      <th>88</th>\n      <td>155.0</td>\n      <td>41.0</td>\n      <td>12.0</td>\n      <td>21.0</td>\n      <td>29.0</td>\n      <td>22.0</td>\n      <td>16.0</td>\n      <td>5409.0</td>\n      <td>1338.0</td>\n      <td>181.0</td>\n      <td>746.0</td>\n      <td>805.0</td>\n      <td>875.0</td>\n      <td>165.0</td>\n      <td>9.0</td>\n      <td>1.0</td>\n      <td>0</td>\n      <td>1</td>\n      <td>0</td>\n    </tr>\n    <tr>\n      <th>...</th>\n      <td>...</td>\n      <td>...</td>\n      <td>...</td>\n      <td>...</td>\n      <td>...</td>\n      <td>...</td>\n      <td>...</td>\n      <td>...</td>\n      <td>...</td>\n      <td>...</td>\n      <td>...</td>\n      <td>...</td>\n      <td>...</td>\n      <td>...</td>\n      <td>...</td>\n      <td>...</td>\n      <td>...</td>\n      <td>...</td>\n      <td>...</td>\n    </tr>\n    <tr>\n      <th>122</th>\n      <td>539.0</td>\n      <td>139.0</td>\n      <td>5.0</td>\n      <td>93.0</td>\n      <td>58.0</td>\n      <td>69.0</td>\n      <td>5.0</td>\n      <td>1469.0</td>\n      <td>369.0</td>\n      <td>12.0</td>\n      <td>247.0</td>\n      <td>126.0</td>\n      <td>198.0</td>\n      <td>462.0</td>\n      <td>9.0</td>\n      <td>7.0</td>\n      <td>0</td>\n      <td>1</td>\n      <td>0</td>\n    </tr>\n    <tr>\n      <th>282</th>\n      <td>633.0</td>\n      <td>210.0</td>\n      <td>6.0</td>\n      <td>91.0</td>\n      <td>56.0</td>\n      <td>59.0</td>\n      <td>6.0</td>\n      <td>3070.0</td>\n      <td>872.0</td>\n      <td>19.0</td>\n      <td>420.0</td>\n      <td>230.0</td>\n      <td>274.0</td>\n      <td>367.0</td>\n      <td>432.0</td>\n      <td>16.0</td>\n      <td>1</td>\n      <td>1</td>\n      <td>1</td>\n    </tr>\n    <tr>\n      <th>111</th>\n      <td>325.0</td>\n      <td>76.0</td>\n      <td>16.0</td>\n      <td>33.0</td>\n      <td>52.0</td>\n      <td>37.0</td>\n      <td>5.0</td>\n      <td>1506.0</td>\n      <td>351.0</td>\n      <td>71.0</td>\n      <td>195.0</td>\n      <td>219.0</td>\n      <td>214.0</td>\n      <td>726.0</td>\n      <td>87.0</td>\n      <td>3.0</td>\n      <td>1</td>\n      <td>1</td>\n      <td>0</td>\n    </tr>\n    <tr>\n      <th>232</th>\n      <td>313.0</td>\n      <td>83.0</td>\n      <td>9.0</td>\n      <td>43.0</td>\n      <td>41.0</td>\n      <td>30.0</td>\n      <td>14.0</td>\n      <td>5885.0</td>\n      <td>1543.0</td>\n      <td>104.0</td>\n      <td>751.0</td>\n      <td>714.0</td>\n      <td>535.0</td>\n      <td>58.0</td>\n      <td>141.0</td>\n      <td>23.0</td>\n      <td>1</td>\n      <td>1</td>\n      <td>1</td>\n    </tr>\n    <tr>\n      <th>51</th>\n      <td>214.0</td>\n      <td>53.0</td>\n      <td>2.0</td>\n      <td>30.0</td>\n      <td>29.0</td>\n      <td>23.0</td>\n      <td>2.0</td>\n      <td>226.0</td>\n      <td>59.0</td>\n      <td>2.0</td>\n      <td>32.0</td>\n      <td>32.0</td>\n      <td>27.0</td>\n      <td>109.0</td>\n      <td>7.0</td>\n      <td>3.0</td>\n      <td>1</td>\n      <td>0</td>\n      <td>1</td>\n    </tr>\n  </tbody>\n</table>\n<p>66 rows × 19 columns</p>\n</div>"
     },
     "execution_count": 474,
     "metadata": {},
     "output_type": "execute_result"
    }
   ],
   "source": [
    "x_test"
   ],
   "metadata": {
    "collapsed": false,
    "ExecuteTime": {
     "end_time": "2024-02-25T18:17:52.200959900Z",
     "start_time": "2024-02-25T18:17:51.963176100Z"
    }
   },
   "id": "adc8b4e59542c487",
   "execution_count": 474
  },
  {
   "cell_type": "code",
   "outputs": [
    {
     "data": {
      "text/plain": "148    850.0\n154    277.5\n318    875.0\n279    150.0\n88     260.0\n       ...  \n122    400.0\n282     90.0\n111    385.0\n232    450.0\n51      70.0\nName: Salary, Length: 66, dtype: float64"
     },
     "execution_count": 475,
     "metadata": {},
     "output_type": "execute_result"
    }
   ],
   "source": [
    "y_test"
   ],
   "metadata": {
    "collapsed": false,
    "ExecuteTime": {
     "end_time": "2024-02-25T18:17:52.337188300Z",
     "start_time": "2024-02-25T18:17:52.169411100Z"
    }
   },
   "id": "c774ba97c96fb4ce",
   "execution_count": 475
  },
  {
   "cell_type": "code",
   "outputs": [
    {
     "data": {
      "text/plain": "183     125.000\n229    1940.000\n286     940.000\n102     375.000\n153     100.000\n         ...   \n24      776.667\n236     750.000\n93      145.000\n137     430.000\n133      87.500\nName: Salary, Length: 197, dtype: float64"
     },
     "execution_count": 476,
     "metadata": {},
     "output_type": "execute_result"
    }
   ],
   "source": [
    "y_train"
   ],
   "metadata": {
    "collapsed": false,
    "ExecuteTime": {
     "end_time": "2024-02-25T18:17:52.590575800Z",
     "start_time": "2024-02-25T18:17:52.323675100Z"
    }
   },
   "id": "f962953f98655f46",
   "execution_count": 476
  },
  {
   "cell_type": "code",
   "outputs": [
    {
     "data": {
      "text/plain": "(263, 20)"
     },
     "execution_count": 477,
     "metadata": {},
     "output_type": "execute_result"
    }
   ],
   "source": [
    "df.shape"
   ],
   "metadata": {
    "collapsed": false,
    "ExecuteTime": {
     "end_time": "2024-02-25T18:17:52.904898800Z",
     "start_time": "2024-02-25T18:17:52.589578500Z"
    }
   },
   "id": "fc424e84f488bef6",
   "execution_count": 477
  },
  {
   "cell_type": "code",
   "outputs": [
    {
     "name": "stderr",
     "output_type": "stream",
     "text": [
      "C:\\Users\\arda_\\anaconda3\\lib\\site-packages\\sklearn\\linear_model\\_coordinate_descent.py:628: ConvergenceWarning: Objective did not converge. You might want to increase the number of iterations, check the scale of the features or consider increasing regularisation. Duality gap: 8.257e+06, tolerance: 3.899e+03\n",
      "  model = cd_fast.enet_coordinate_descent(\n"
     ]
    },
    {
     "data": {
      "text/plain": "Lasso()",
      "text/html": "<style>#sk-container-id-22 {color: black;}#sk-container-id-22 pre{padding: 0;}#sk-container-id-22 div.sk-toggleable {background-color: white;}#sk-container-id-22 label.sk-toggleable__label {cursor: pointer;display: block;width: 100%;margin-bottom: 0;padding: 0.3em;box-sizing: border-box;text-align: center;}#sk-container-id-22 label.sk-toggleable__label-arrow:before {content: \"▸\";float: left;margin-right: 0.25em;color: #696969;}#sk-container-id-22 label.sk-toggleable__label-arrow:hover:before {color: black;}#sk-container-id-22 div.sk-estimator:hover label.sk-toggleable__label-arrow:before {color: black;}#sk-container-id-22 div.sk-toggleable__content {max-height: 0;max-width: 0;overflow: hidden;text-align: left;background-color: #f0f8ff;}#sk-container-id-22 div.sk-toggleable__content pre {margin: 0.2em;color: black;border-radius: 0.25em;background-color: #f0f8ff;}#sk-container-id-22 input.sk-toggleable__control:checked~div.sk-toggleable__content {max-height: 200px;max-width: 100%;overflow: auto;}#sk-container-id-22 input.sk-toggleable__control:checked~label.sk-toggleable__label-arrow:before {content: \"▾\";}#sk-container-id-22 div.sk-estimator input.sk-toggleable__control:checked~label.sk-toggleable__label {background-color: #d4ebff;}#sk-container-id-22 div.sk-label input.sk-toggleable__control:checked~label.sk-toggleable__label {background-color: #d4ebff;}#sk-container-id-22 input.sk-hidden--visually {border: 0;clip: rect(1px 1px 1px 1px);clip: rect(1px, 1px, 1px, 1px);height: 1px;margin: -1px;overflow: hidden;padding: 0;position: absolute;width: 1px;}#sk-container-id-22 div.sk-estimator {font-family: monospace;background-color: #f0f8ff;border: 1px dotted black;border-radius: 0.25em;box-sizing: border-box;margin-bottom: 0.5em;}#sk-container-id-22 div.sk-estimator:hover {background-color: #d4ebff;}#sk-container-id-22 div.sk-parallel-item::after {content: \"\";width: 100%;border-bottom: 1px solid gray;flex-grow: 1;}#sk-container-id-22 div.sk-label:hover label.sk-toggleable__label {background-color: #d4ebff;}#sk-container-id-22 div.sk-serial::before {content: \"\";position: absolute;border-left: 1px solid gray;box-sizing: border-box;top: 0;bottom: 0;left: 50%;z-index: 0;}#sk-container-id-22 div.sk-serial {display: flex;flex-direction: column;align-items: center;background-color: white;padding-right: 0.2em;padding-left: 0.2em;position: relative;}#sk-container-id-22 div.sk-item {position: relative;z-index: 1;}#sk-container-id-22 div.sk-parallel {display: flex;align-items: stretch;justify-content: center;background-color: white;position: relative;}#sk-container-id-22 div.sk-item::before, #sk-container-id-22 div.sk-parallel-item::before {content: \"\";position: absolute;border-left: 1px solid gray;box-sizing: border-box;top: 0;bottom: 0;left: 50%;z-index: -1;}#sk-container-id-22 div.sk-parallel-item {display: flex;flex-direction: column;z-index: 1;position: relative;background-color: white;}#sk-container-id-22 div.sk-parallel-item:first-child::after {align-self: flex-end;width: 50%;}#sk-container-id-22 div.sk-parallel-item:last-child::after {align-self: flex-start;width: 50%;}#sk-container-id-22 div.sk-parallel-item:only-child::after {width: 0;}#sk-container-id-22 div.sk-dashed-wrapped {border: 1px dashed gray;margin: 0 0.4em 0.5em 0.4em;box-sizing: border-box;padding-bottom: 0.4em;background-color: white;}#sk-container-id-22 div.sk-label label {font-family: monospace;font-weight: bold;display: inline-block;line-height: 1.2em;}#sk-container-id-22 div.sk-label-container {text-align: center;}#sk-container-id-22 div.sk-container {/* jupyter's `normalize.less` sets `[hidden] { display: none; }` but bootstrap.min.css set `[hidden] { display: none !important; }` so we also need the `!important` here to be able to override the default hidden behavior on the sphinx rendered scikit-learn.org. See: https://github.com/scikit-learn/scikit-learn/issues/21755 */display: inline-block !important;position: relative;}#sk-container-id-22 div.sk-text-repr-fallback {display: none;}</style><div id=\"sk-container-id-22\" class=\"sk-top-container\"><div class=\"sk-text-repr-fallback\"><pre>Lasso()</pre><b>In a Jupyter environment, please rerun this cell to show the HTML representation or trust the notebook. <br />On GitHub, the HTML representation is unable to render, please try loading this page with nbviewer.org.</b></div><div class=\"sk-container\" hidden><div class=\"sk-item\"><div class=\"sk-estimator sk-toggleable\"><input class=\"sk-toggleable__control sk-hidden--visually\" id=\"sk-estimator-id-22\" type=\"checkbox\" checked><label for=\"sk-estimator-id-22\" class=\"sk-toggleable__label sk-toggleable__label-arrow\">Lasso</label><div class=\"sk-toggleable__content\"><pre>Lasso()</pre></div></div></div></div></div>"
     },
     "execution_count": 478,
     "metadata": {},
     "output_type": "execute_result"
    }
   ],
   "source": [
    "lassoModel = Lasso(alpha = 1.0)  \n",
    "lassoModel.fit(x_train, y_train)"
   ],
   "metadata": {
    "collapsed": false,
    "ExecuteTime": {
     "end_time": "2024-02-25T18:17:53.026410800Z",
     "start_time": "2024-02-25T18:17:52.810888600Z"
    }
   },
   "id": "1ce434b92a7e00a",
   "execution_count": 478
  },
  {
   "cell_type": "code",
   "outputs": [
    {
     "data": {
      "text/plain": "-5.587450677336733"
     },
     "execution_count": 479,
     "metadata": {},
     "output_type": "execute_result"
    }
   ],
   "source": [
    "lassoModel.intercept_"
   ],
   "metadata": {
    "collapsed": false,
    "ExecuteTime": {
     "end_time": "2024-02-25T18:17:53.330512900Z",
     "start_time": "2024-02-25T18:17:53.011363Z"
    }
   },
   "id": "f702e511d2bfd3be",
   "execution_count": 479
  },
  {
   "cell_type": "code",
   "outputs": [
    {
     "data": {
      "text/plain": "array([-1.74875691e+00,  8.59204135e+00,  6.67993798e+00, -3.06715333e+00,\n       -1.91843070e+00,  5.32372890e+00,  8.39184117e+00, -1.63172447e-01,\n       -8.22311277e-02, -3.93602861e-01,  1.71118530e+00,  6.55730545e-01,\n       -6.48379405e-01,  2.59815358e-01,  2.73041157e-01, -4.41440454e-01,\n        8.54474011e+01, -9.59701213e+01, -2.13086605e+01])"
     },
     "execution_count": 480,
     "metadata": {},
     "output_type": "execute_result"
    }
   ],
   "source": [
    "lassoModel.coef_"
   ],
   "metadata": {
    "collapsed": false,
    "ExecuteTime": {
     "end_time": "2024-02-25T18:17:53.659429900Z",
     "start_time": "2024-02-25T18:17:53.316995300Z"
    }
   },
   "id": "5f29373644668a72",
   "execution_count": 480
  },
  {
   "cell_type": "code",
   "outputs": [],
   "source": [
    "# Farklı lambda değerlerine karsılık katsayilar"
   ],
   "metadata": {
    "collapsed": false,
    "ExecuteTime": {
     "end_time": "2024-02-25T18:17:53.740026700Z",
     "start_time": "2024-02-25T18:17:53.585352800Z"
    }
   },
   "id": "a518a2eecc94b33f",
   "execution_count": 481
  },
  {
   "cell_type": "code",
   "outputs": [
    {
     "name": "stderr",
     "output_type": "stream",
     "text": [
      "C:\\Users\\arda_\\anaconda3\\lib\\site-packages\\sklearn\\linear_model\\_coordinate_descent.py:628: ConvergenceWarning: Objective did not converge. You might want to increase the number of iterations, check the scale of the features or consider increasing regularisation. Duality gap: 4.451e+03, tolerance: 3.899e+03\n",
      "  model = cd_fast.enet_coordinate_descent(\n",
      "C:\\Users\\arda_\\anaconda3\\lib\\site-packages\\sklearn\\linear_model\\_coordinate_descent.py:628: ConvergenceWarning: Objective did not converge. You might want to increase the number of iterations, check the scale of the features or consider increasing regularisation. Duality gap: 1.063e+04, tolerance: 3.899e+03\n",
      "  model = cd_fast.enet_coordinate_descent(\n",
      "C:\\Users\\arda_\\anaconda3\\lib\\site-packages\\sklearn\\linear_model\\_coordinate_descent.py:628: ConvergenceWarning: Objective did not converge. You might want to increase the number of iterations, check the scale of the features or consider increasing regularisation. Duality gap: 8.240e+06, tolerance: 3.899e+03\n",
      "  model = cd_fast.enet_coordinate_descent(\n",
      "C:\\Users\\arda_\\anaconda3\\lib\\site-packages\\sklearn\\linear_model\\_coordinate_descent.py:628: ConvergenceWarning: Objective did not converge. You might want to increase the number of iterations, check the scale of the features or consider increasing regularisation. Duality gap: 6.553e+03, tolerance: 3.899e+03\n",
      "  model = cd_fast.enet_coordinate_descent(\n",
      "C:\\Users\\arda_\\anaconda3\\lib\\site-packages\\sklearn\\linear_model\\_coordinate_descent.py:628: ConvergenceWarning: Objective did not converge. You might want to increase the number of iterations, check the scale of the features or consider increasing regularisation. Duality gap: 5.392e+03, tolerance: 3.899e+03\n",
      "  model = cd_fast.enet_coordinate_descent(\n",
      "C:\\Users\\arda_\\anaconda3\\lib\\site-packages\\sklearn\\linear_model\\_coordinate_descent.py:628: ConvergenceWarning: Objective did not converge. You might want to increase the number of iterations, check the scale of the features or consider increasing regularisation. Duality gap: 8.224e+06, tolerance: 3.899e+03\n",
      "  model = cd_fast.enet_coordinate_descent(\n",
      "C:\\Users\\arda_\\anaconda3\\lib\\site-packages\\sklearn\\linear_model\\_coordinate_descent.py:628: ConvergenceWarning: Objective did not converge. You might want to increase the number of iterations, check the scale of the features or consider increasing regularisation. Duality gap: 7.277e+03, tolerance: 3.899e+03\n",
      "  model = cd_fast.enet_coordinate_descent(\n",
      "C:\\Users\\arda_\\anaconda3\\lib\\site-packages\\sklearn\\linear_model\\_coordinate_descent.py:628: ConvergenceWarning: Objective did not converge. You might want to increase the number of iterations, check the scale of the features or consider increasing regularisation. Duality gap: 3.741e+06, tolerance: 3.899e+03\n",
      "  model = cd_fast.enet_coordinate_descent(\n",
      "C:\\Users\\arda_\\anaconda3\\lib\\site-packages\\sklearn\\linear_model\\_coordinate_descent.py:628: ConvergenceWarning: Objective did not converge. You might want to increase the number of iterations, check the scale of the features or consider increasing regularisation. Duality gap: 4.377e+03, tolerance: 3.899e+03\n",
      "  model = cd_fast.enet_coordinate_descent(\n",
      "C:\\Users\\arda_\\anaconda3\\lib\\site-packages\\sklearn\\linear_model\\_coordinate_descent.py:628: ConvergenceWarning: Objective did not converge. You might want to increase the number of iterations, check the scale of the features or consider increasing regularisation. Duality gap: 6.494e+06, tolerance: 3.899e+03\n",
      "  model = cd_fast.enet_coordinate_descent(\n"
     ]
    }
   ],
   "source": [
    "coefs = []\n",
    "alphas = np.random.randint(0, 100, 10)\n",
    "\n",
    "for a in alphas:\n",
    "    lassoModel.set_params(alpha=a)\n",
    "    lassoModel.fit(x_train, y_train)"
   ],
   "metadata": {
    "collapsed": false,
    "ExecuteTime": {
     "end_time": "2024-02-25T18:17:53.951958100Z",
     "start_time": "2024-02-25T18:17:53.741023700Z"
    }
   },
   "id": "90658782b2ce8535",
   "execution_count": 482
  },
  {
   "cell_type": "code",
   "outputs": [
    {
     "ename": "ValueError",
     "evalue": "x and y must have same first dimension, but have shapes (10,) and (0,)",
     "output_type": "error",
     "traceback": [
      "\u001B[1;31m---------------------------------------------------------------------------\u001B[0m",
      "\u001B[1;31mValueError\u001B[0m                                Traceback (most recent call last)",
      "Cell \u001B[1;32mIn[483], line 2\u001B[0m\n\u001B[0;32m      1\u001B[0m ax \u001B[38;5;241m=\u001B[39m plt\u001B[38;5;241m.\u001B[39mgca()\n\u001B[1;32m----> 2\u001B[0m \u001B[43max\u001B[49m\u001B[38;5;241;43m.\u001B[39;49m\u001B[43mplot\u001B[49m\u001B[43m(\u001B[49m\u001B[43malphas\u001B[49m\u001B[43m,\u001B[49m\u001B[43mcoefs\u001B[49m\u001B[43m)\u001B[49m\n\u001B[0;32m      3\u001B[0m ax\u001B[38;5;241m.\u001B[39mset_xscale(\u001B[38;5;124m\"\u001B[39m\u001B[38;5;124mlog\u001B[39m\u001B[38;5;124m\"\u001B[39m)\n",
      "File \u001B[1;32m~\\anaconda3\\lib\\site-packages\\matplotlib\\axes\\_axes.py:1688\u001B[0m, in \u001B[0;36mAxes.plot\u001B[1;34m(self, scalex, scaley, data, *args, **kwargs)\u001B[0m\n\u001B[0;32m   1445\u001B[0m \u001B[38;5;250m\u001B[39m\u001B[38;5;124;03m\"\"\"\u001B[39;00m\n\u001B[0;32m   1446\u001B[0m \u001B[38;5;124;03mPlot y versus x as lines and/or markers.\u001B[39;00m\n\u001B[0;32m   1447\u001B[0m \n\u001B[1;32m   (...)\u001B[0m\n\u001B[0;32m   1685\u001B[0m \u001B[38;5;124;03m(``'green'``) or hex strings (``'#008000'``).\u001B[39;00m\n\u001B[0;32m   1686\u001B[0m \u001B[38;5;124;03m\"\"\"\u001B[39;00m\n\u001B[0;32m   1687\u001B[0m kwargs \u001B[38;5;241m=\u001B[39m cbook\u001B[38;5;241m.\u001B[39mnormalize_kwargs(kwargs, mlines\u001B[38;5;241m.\u001B[39mLine2D)\n\u001B[1;32m-> 1688\u001B[0m lines \u001B[38;5;241m=\u001B[39m [\u001B[38;5;241m*\u001B[39m\u001B[38;5;28mself\u001B[39m\u001B[38;5;241m.\u001B[39m_get_lines(\u001B[38;5;241m*\u001B[39margs, data\u001B[38;5;241m=\u001B[39mdata, \u001B[38;5;241m*\u001B[39m\u001B[38;5;241m*\u001B[39mkwargs)]\n\u001B[0;32m   1689\u001B[0m \u001B[38;5;28;01mfor\u001B[39;00m line \u001B[38;5;129;01min\u001B[39;00m lines:\n\u001B[0;32m   1690\u001B[0m     \u001B[38;5;28mself\u001B[39m\u001B[38;5;241m.\u001B[39madd_line(line)\n",
      "File \u001B[1;32m~\\anaconda3\\lib\\site-packages\\matplotlib\\axes\\_base.py:311\u001B[0m, in \u001B[0;36m_process_plot_var_args.__call__\u001B[1;34m(self, data, *args, **kwargs)\u001B[0m\n\u001B[0;32m    309\u001B[0m     this \u001B[38;5;241m+\u001B[39m\u001B[38;5;241m=\u001B[39m args[\u001B[38;5;241m0\u001B[39m],\n\u001B[0;32m    310\u001B[0m     args \u001B[38;5;241m=\u001B[39m args[\u001B[38;5;241m1\u001B[39m:]\n\u001B[1;32m--> 311\u001B[0m \u001B[38;5;28;01myield from\u001B[39;00m \u001B[38;5;28;43mself\u001B[39;49m\u001B[38;5;241;43m.\u001B[39;49m\u001B[43m_plot_args\u001B[49m\u001B[43m(\u001B[49m\n\u001B[0;32m    312\u001B[0m \u001B[43m    \u001B[49m\u001B[43mthis\u001B[49m\u001B[43m,\u001B[49m\u001B[43m \u001B[49m\u001B[43mkwargs\u001B[49m\u001B[43m,\u001B[49m\u001B[43m \u001B[49m\u001B[43mambiguous_fmt_datakey\u001B[49m\u001B[38;5;241;43m=\u001B[39;49m\u001B[43mambiguous_fmt_datakey\u001B[49m\u001B[43m)\u001B[49m\n",
      "File \u001B[1;32m~\\anaconda3\\lib\\site-packages\\matplotlib\\axes\\_base.py:504\u001B[0m, in \u001B[0;36m_process_plot_var_args._plot_args\u001B[1;34m(self, tup, kwargs, return_kwargs, ambiguous_fmt_datakey)\u001B[0m\n\u001B[0;32m    501\u001B[0m     \u001B[38;5;28mself\u001B[39m\u001B[38;5;241m.\u001B[39maxes\u001B[38;5;241m.\u001B[39myaxis\u001B[38;5;241m.\u001B[39mupdate_units(y)\n\u001B[0;32m    503\u001B[0m \u001B[38;5;28;01mif\u001B[39;00m x\u001B[38;5;241m.\u001B[39mshape[\u001B[38;5;241m0\u001B[39m] \u001B[38;5;241m!=\u001B[39m y\u001B[38;5;241m.\u001B[39mshape[\u001B[38;5;241m0\u001B[39m]:\n\u001B[1;32m--> 504\u001B[0m     \u001B[38;5;28;01mraise\u001B[39;00m \u001B[38;5;167;01mValueError\u001B[39;00m(\u001B[38;5;124mf\u001B[39m\u001B[38;5;124m\"\u001B[39m\u001B[38;5;124mx and y must have same first dimension, but \u001B[39m\u001B[38;5;124m\"\u001B[39m\n\u001B[0;32m    505\u001B[0m                      \u001B[38;5;124mf\u001B[39m\u001B[38;5;124m\"\u001B[39m\u001B[38;5;124mhave shapes \u001B[39m\u001B[38;5;132;01m{\u001B[39;00mx\u001B[38;5;241m.\u001B[39mshape\u001B[38;5;132;01m}\u001B[39;00m\u001B[38;5;124m and \u001B[39m\u001B[38;5;132;01m{\u001B[39;00my\u001B[38;5;241m.\u001B[39mshape\u001B[38;5;132;01m}\u001B[39;00m\u001B[38;5;124m\"\u001B[39m)\n\u001B[0;32m    506\u001B[0m \u001B[38;5;28;01mif\u001B[39;00m x\u001B[38;5;241m.\u001B[39mndim \u001B[38;5;241m>\u001B[39m \u001B[38;5;241m2\u001B[39m \u001B[38;5;129;01mor\u001B[39;00m y\u001B[38;5;241m.\u001B[39mndim \u001B[38;5;241m>\u001B[39m \u001B[38;5;241m2\u001B[39m:\n\u001B[0;32m    507\u001B[0m     \u001B[38;5;28;01mraise\u001B[39;00m \u001B[38;5;167;01mValueError\u001B[39;00m(\u001B[38;5;124mf\u001B[39m\u001B[38;5;124m\"\u001B[39m\u001B[38;5;124mx and y can be no greater than 2D, but have \u001B[39m\u001B[38;5;124m\"\u001B[39m\n\u001B[0;32m    508\u001B[0m                      \u001B[38;5;124mf\u001B[39m\u001B[38;5;124m\"\u001B[39m\u001B[38;5;124mshapes \u001B[39m\u001B[38;5;132;01m{\u001B[39;00mx\u001B[38;5;241m.\u001B[39mshape\u001B[38;5;132;01m}\u001B[39;00m\u001B[38;5;124m and \u001B[39m\u001B[38;5;132;01m{\u001B[39;00my\u001B[38;5;241m.\u001B[39mshape\u001B[38;5;132;01m}\u001B[39;00m\u001B[38;5;124m\"\u001B[39m)\n",
      "\u001B[1;31mValueError\u001B[0m: x and y must have same first dimension, but have shapes (10,) and (0,)"
     ]
    },
    {
     "data": {
      "text/plain": "<Figure size 640x480 with 1 Axes>",
      "image/png": "[encoded data removed]"
     },
     "metadata": {},
     "output_type": "display_data"
    }
   ],
   "source": [
    "ax = plt.gca()\n",
    "ax.plot(alphas,coefs)\n",
    "ax.set_xscale(\"log\")"
   ],
   "metadata": {
    "collapsed": false,
    "ExecuteTime": {
     "end_time": "2024-02-25T18:17:54.339655200Z",
     "start_time": "2024-02-25T18:17:53.951958100Z"
    }
   },
   "id": "d69f2212a7fcf566",
   "execution_count": 483
  },
  {
   "cell_type": "markdown",
   "source": [
    "4.2-Tahmin"
   ],
   "metadata": {
    "collapsed": false
   },
   "id": "1f327784831d254d"
  },
  {
   "cell_type": "code",
   "outputs": [],
   "source": [
    "lassoModel"
   ],
   "metadata": {
    "collapsed": false,
    "ExecuteTime": {
     "start_time": "2024-02-25T18:17:54.138403900Z"
    }
   },
   "id": "13cf96184118258e",
   "execution_count": null
  },
  {
   "cell_type": "code",
   "outputs": [
    {
     "data": {
      "text/plain": "array([ 300.58274732,  779.84880764,  540.51014643,  118.49284575,\n        451.69402813, 1013.31672037,   72.82926264,  275.928728  ,\n        394.62594891,  862.61107673, 1610.61614464,  824.46895678,\n        901.89874426,  708.4137029 ,  584.64480116,  634.29148615,\n       1033.56319701,  158.75681856,  215.56972752,  378.25636567,\n        769.47494591,  964.99832326,  465.1334139 ,  326.71409399,\n        106.06205131,  798.2195273 ,  546.61762437,  223.79482088,\n        378.11317568,  261.63779909,   84.78694444,  535.98584621,\n       1017.8554066 ,  208.8365909 ,  427.65164384,  389.17778734,\n        449.79482775,  726.95879175,  337.66559372,  253.47930461,\n        222.89607303,  307.67893085,  195.05548227,  205.3901275 ,\n        232.29845067, 1071.72664671,  412.57499875,  562.18126533,\n        233.51879447,  343.44086221,  405.59979777,  501.76627549,\n        298.1918732 ,  432.56379053,  568.63689454,  341.36402687,\n        542.44212431,  713.30847728,  196.31611529, 1548.22287813,\n        296.88463603,  198.76706156,  247.00354404,  346.40304735,\n        214.20477922,  861.60464994,  173.70401753,  416.31805658,\n        203.88107226,  248.8203263 ,  215.86759128,  780.550267  ,\n        822.38990089,  747.58097405, 1461.34561375,  517.89778195,\n        530.44524489,  449.94136603,  368.98475842,  927.00203345,\n        642.76431389,  511.40064655,  677.51603637,  616.19182985,\n        109.22030492,  761.33868253,  793.38811387, 1051.3031079 ,\n       1070.18002986,  671.42452935,  284.36909549,  245.98439905,\n       1156.48876857,  196.59291778,  395.2165024 , 1236.53761744,\n       1039.46623148,  462.69758586,  797.9945316 ,  721.36303524,\n        441.86317252,  262.89945278,  612.12032972, 1403.36864407,\n        400.92033897, 1396.22663159,  801.29325165,  248.79203462,\n        123.07989816,  699.7746416 ,  705.88643299,  495.67805806,\n        293.77558848,  595.41636292,  485.25594827,  449.15718807,\n        855.45378041,  772.66522708,  358.2994429 ,  422.80364861,\n        563.29891848,  763.93463651, 1068.42052953,  227.87508906,\n         78.62332998,  474.34046355, 1321.30693605,  173.11457739,\n        206.40918359,  612.1705667 ,  820.73148169,  771.41533178,\n       1085.87540144,  750.78138806,  775.26509492,  280.24303851,\n        684.43981611,  259.49593919,  335.59372543,  848.71449578,\n        113.87778572,  302.12917125,  306.06965897,  564.84086033,\n        121.96732896,  303.5401863 ,  230.53214113,  543.01902518,\n        586.63241079, 1140.43334804,  340.64903725,  173.28745063,\n        249.22083353,  250.23439134,  785.02490334,  184.53595521,\n       1069.44631221,   98.17954165,  879.02071688,  598.79162848,\n        268.59536733,  417.46822468, 1316.56025517,  163.60190107,\n        555.05328889,  746.04131266,  401.1003883 ,  217.54097554,\n        704.87127616,  540.400095  ,  767.96150239,  192.2874749 ,\n        583.2708492 ,  863.53716135,  230.75014404,  236.48809702,\n        322.45472664,  786.31186483,  603.142188  ,  967.86510513,\n        190.11466096,  447.40807027,  195.25827702,  556.91352482,\n        458.95056466,  848.64605612,  614.02035028,  562.30094768,\n        233.53434381,  342.88631785,  245.22936841,  842.66245964,\n       1239.87101261, 1336.60078084,  459.33915977,  683.58470469,\n        215.31484078])"
     },
     "execution_count": 484,
     "metadata": {},
     "output_type": "execute_result"
    }
   ],
   "source": [
    "lassoModel.predict(x_train)"
   ],
   "metadata": {
    "collapsed": false,
    "ExecuteTime": {
     "end_time": "2024-02-25T18:17:54.777453900Z",
     "start_time": "2024-02-25T18:17:54.349132800Z"
    }
   },
   "id": "f2aa4bdc60b86efa",
   "execution_count": 484
  },
  {
   "cell_type": "code",
   "outputs": [
    {
     "data": {
      "text/plain": "array([ 557.1272511 ,  561.47794736, 1038.72838233,  336.38700869,\n        501.13204094,  289.0253132 ,  577.08304314,  467.57633839,\n        906.69816348,  712.16917776,  708.39679328,  937.63144954,\n        200.04813206,  353.27818468,  364.45065961,  563.39032569,\n        773.46897193,  132.49797592, 1272.30099566,  402.9528711 ,\n        449.99688567,  807.14646557,  566.09157469,  584.13197324,\n        632.32521523,  239.90022829,  923.14904233,  329.8072909 ,\n        342.34166323,  146.79179286,  164.92899546,   63.89182304,\n        365.75347931,  389.66641747,  269.71674594,  384.00779825,\n       1346.42714385,  114.19756423,   49.68448644,  269.79800673,\n        157.86600033,  270.12484305,  695.25056364,  402.62252974,\n        897.04540146,  690.41907187,  358.24951788,  407.81283381,\n        328.5182716 ,  683.93769731,  693.29421784,  276.32328845,\n        779.85406502,  297.88896177,  193.29064205,  534.01161286,\n        593.47851444,  765.78901356,  143.06519398, 1173.67530216,\n       1685.54295807,  550.78198987, 1012.19948179,  441.40110866,\n        614.10669042,  151.83423712])"
     },
     "execution_count": 485,
     "metadata": {},
     "output_type": "execute_result"
    }
   ],
   "source": [
    "lassoModel.predict(x_test)"
   ],
   "metadata": {
    "collapsed": false,
    "ExecuteTime": {
     "end_time": "2024-02-25T18:17:54.965601Z",
     "start_time": "2024-02-25T18:17:54.600613900Z"
    }
   },
   "id": "82718dda7172be0b",
   "execution_count": 485
  },
  {
   "cell_type": "code",
   "outputs": [],
   "source": [
    "yTahmin  = lassoModel.predict(x_test)"
   ],
   "metadata": {
    "collapsed": false,
    "ExecuteTime": {
     "end_time": "2024-02-25T18:17:55.146034100Z",
     "start_time": "2024-02-25T18:17:54.955118900Z"
    }
   },
   "id": "f396b94d72047755",
   "execution_count": 486
  },
  {
   "cell_type": "code",
   "outputs": [],
   "source": [
    "ortalamaKareHata = np.sqrt(mean_squared_error(y_test, yTahmin))"
   ],
   "metadata": {
    "collapsed": false,
    "ExecuteTime": {
     "end_time": "2024-02-25T18:17:55.357353300Z",
     "start_time": "2024-02-25T18:17:55.136067500Z"
    }
   },
   "id": "71b8fc3d29c1ec78",
   "execution_count": 487
  },
  {
   "cell_type": "code",
   "outputs": [
    {
     "data": {
      "text/plain": "357.70155180024483"
     },
     "execution_count": 488,
     "metadata": {},
     "output_type": "execute_result"
    }
   ],
   "source": [
    "ortalamaKareHata"
   ],
   "metadata": {
    "collapsed": false,
    "ExecuteTime": {
     "end_time": "2024-02-25T18:17:55.423021400Z",
     "start_time": "2024-02-25T18:17:55.221036200Z"
    }
   },
   "id": "b8b771d499410d32",
   "execution_count": 488
  },
  {
   "cell_type": "code",
   "outputs": [
    {
     "data": {
      "text/plain": "0.4089391341615004"
     },
     "execution_count": 489,
     "metadata": {},
     "output_type": "execute_result"
    }
   ],
   "source": [
    "r2_score(y_test,yTahmin)"
   ],
   "metadata": {
    "collapsed": false,
    "ExecuteTime": {
     "end_time": "2024-02-25T18:17:55.617643600Z",
     "start_time": "2024-02-25T18:17:55.387878200Z"
    }
   },
   "id": "774d94e56612fa2e",
   "execution_count": 489
  },
  {
   "cell_type": "markdown",
   "source": [
    "4.3-Model Tuning"
   ],
   "metadata": {
    "collapsed": false
   },
   "id": "4f97cbd68af33c43"
  },
  {
   "cell_type": "code",
   "outputs": [],
   "source": [
    "lassoCvModel = LassoCV(alphas= alphas, cv=10, max_iter = 10000).fit(x_train, y_train)"
   ],
   "metadata": {
    "collapsed": false,
    "ExecuteTime": {
     "end_time": "2024-02-25T18:17:55.865511700Z",
     "start_time": "2024-02-25T18:17:55.606167500Z"
    }
   },
   "id": "925d23d26e5c8d18",
   "execution_count": 490
  },
  {
   "cell_type": "code",
   "outputs": [
    {
     "data": {
      "text/plain": "99"
     },
     "execution_count": 491,
     "metadata": {},
     "output_type": "execute_result"
    }
   ],
   "source": [
    "lassoCvModel.alpha_"
   ],
   "metadata": {
    "collapsed": false,
    "ExecuteTime": {
     "end_time": "2024-02-25T18:17:56.029755800Z",
     "start_time": "2024-02-25T18:17:55.823544500Z"
    }
   },
   "id": "e8d09ee7479bac6c",
   "execution_count": 491
  },
  {
   "cell_type": "code",
   "outputs": [
    {
     "name": "stderr",
     "output_type": "stream",
     "text": [
      "C:\\Users\\arda_\\anaconda3\\lib\\site-packages\\sklearn\\linear_model\\_coordinate_descent.py:628: ConvergenceWarning: Objective did not converge. You might want to increase the number of iterations, check the scale of the features or consider increasing regularisation. Duality gap: 4.377e+03, tolerance: 3.899e+03\n",
      "  model = cd_fast.enet_coordinate_descent(\n"
     ]
    }
   ],
   "source": [
    "lassoTuned = Lasso().set_params(alpha=lassoCvModel.alpha_).fit(x_train, y_train)\n",
    "# Aynı Yöntem\n",
    "# lassoTuned = Lasso(alpha=lassoCvModel.alpha_).fit(x_train, y_train)"
   ],
   "metadata": {
    "collapsed": false,
    "ExecuteTime": {
     "end_time": "2024-02-25T18:17:56.247328600Z",
     "start_time": "2024-02-25T18:17:56.025768500Z"
    }
   },
   "id": "9037c31c45cf45d5",
   "execution_count": 492
  },
  {
   "cell_type": "code",
   "outputs": [
    {
     "data": {
      "text/plain": "Lasso(alpha=99)",
      "text/html": "<style>#sk-container-id-23 {color: black;}#sk-container-id-23 pre{padding: 0;}#sk-container-id-23 div.sk-toggleable {background-color: white;}#sk-container-id-23 label.sk-toggleable__label {cursor: pointer;display: block;width: 100%;margin-bottom: 0;padding: 0.3em;box-sizing: border-box;text-align: center;}#sk-container-id-23 label.sk-toggleable__label-arrow:before {content: \"▸\";float: left;margin-right: 0.25em;color: #696969;}#sk-container-id-23 label.sk-toggleable__label-arrow:hover:before {color: black;}#sk-container-id-23 div.sk-estimator:hover label.sk-toggleable__label-arrow:before {color: black;}#sk-container-id-23 div.sk-toggleable__content {max-height: 0;max-width: 0;overflow: hidden;text-align: left;background-color: #f0f8ff;}#sk-container-id-23 div.sk-toggleable__content pre {margin: 0.2em;color: black;border-radius: 0.25em;background-color: #f0f8ff;}#sk-container-id-23 input.sk-toggleable__control:checked~div.sk-toggleable__content {max-height: 200px;max-width: 100%;overflow: auto;}#sk-container-id-23 input.sk-toggleable__control:checked~label.sk-toggleable__label-arrow:before {content: \"▾\";}#sk-container-id-23 div.sk-estimator input.sk-toggleable__control:checked~label.sk-toggleable__label {background-color: #d4ebff;}#sk-container-id-23 div.sk-label input.sk-toggleable__control:checked~label.sk-toggleable__label {background-color: #d4ebff;}#sk-container-id-23 input.sk-hidden--visually {border: 0;clip: rect(1px 1px 1px 1px);clip: rect(1px, 1px, 1px, 1px);height: 1px;margin: -1px;overflow: hidden;padding: 0;position: absolute;width: 1px;}#sk-container-id-23 div.sk-estimator {font-family: monospace;background-color: #f0f8ff;border: 1px dotted black;border-radius: 0.25em;box-sizing: border-box;margin-bottom: 0.5em;}#sk-container-id-23 div.sk-estimator:hover {background-color: #d4ebff;}#sk-container-id-23 div.sk-parallel-item::after {content: \"\";width: 100%;border-bottom: 1px solid gray;flex-grow: 1;}#sk-container-id-23 div.sk-label:hover label.sk-toggleable__label {background-color: #d4ebff;}#sk-container-id-23 div.sk-serial::before {content: \"\";position: absolute;border-left: 1px solid gray;box-sizing: border-box;top: 0;bottom: 0;left: 50%;z-index: 0;}#sk-container-id-23 div.sk-serial {display: flex;flex-direction: column;align-items: center;background-color: white;padding-right: 0.2em;padding-left: 0.2em;position: relative;}#sk-container-id-23 div.sk-item {position: relative;z-index: 1;}#sk-container-id-23 div.sk-parallel {display: flex;align-items: stretch;justify-content: center;background-color: white;position: relative;}#sk-container-id-23 div.sk-item::before, #sk-container-id-23 div.sk-parallel-item::before {content: \"\";position: absolute;border-left: 1px solid gray;box-sizing: border-box;top: 0;bottom: 0;left: 50%;z-index: -1;}#sk-container-id-23 div.sk-parallel-item {display: flex;flex-direction: column;z-index: 1;position: relative;background-color: white;}#sk-container-id-23 div.sk-parallel-item:first-child::after {align-self: flex-end;width: 50%;}#sk-container-id-23 div.sk-parallel-item:last-child::after {align-self: flex-start;width: 50%;}#sk-container-id-23 div.sk-parallel-item:only-child::after {width: 0;}#sk-container-id-23 div.sk-dashed-wrapped {border: 1px dashed gray;margin: 0 0.4em 0.5em 0.4em;box-sizing: border-box;padding-bottom: 0.4em;background-color: white;}#sk-container-id-23 div.sk-label label {font-family: monospace;font-weight: bold;display: inline-block;line-height: 1.2em;}#sk-container-id-23 div.sk-label-container {text-align: center;}#sk-container-id-23 div.sk-container {/* jupyter's `normalize.less` sets `[hidden] { display: none; }` but bootstrap.min.css set `[hidden] { display: none !important; }` so we also need the `!important` here to be able to override the default hidden behavior on the sphinx rendered scikit-learn.org. See: https://github.com/scikit-learn/scikit-learn/issues/21755 */display: inline-block !important;position: relative;}#sk-container-id-23 div.sk-text-repr-fallback {display: none;}</style><div id=\"sk-container-id-23\" class=\"sk-top-container\"><div class=\"sk-text-repr-fallback\"><pre>Lasso(alpha=99)</pre><b>In a Jupyter environment, please rerun this cell to show the HTML representation or trust the notebook. <br />On GitHub, the HTML representation is unable to render, please try loading this page with nbviewer.org.</b></div><div class=\"sk-container\" hidden><div class=\"sk-item\"><div class=\"sk-estimator sk-toggleable\"><input class=\"sk-toggleable__control sk-hidden--visually\" id=\"sk-estimator-id-23\" type=\"checkbox\" checked><label for=\"sk-estimator-id-23\" class=\"sk-toggleable__label sk-toggleable__label-arrow\">Lasso</label><div class=\"sk-toggleable__content\"><pre>Lasso(alpha=99)</pre></div></div></div></div></div>"
     },
     "execution_count": 493,
     "metadata": {},
     "output_type": "execute_result"
    }
   ],
   "source": [
    "lassoTuned"
   ],
   "metadata": {
    "collapsed": false,
    "ExecuteTime": {
     "end_time": "2024-02-25T18:17:56.423512300Z",
     "start_time": "2024-02-25T18:17:56.211360300Z"
    }
   },
   "id": "98671b35f026d838",
   "execution_count": 493
  },
  {
   "cell_type": "code",
   "outputs": [],
   "source": [
    "yTahmin  = lassoModel.predict(x_test)"
   ],
   "metadata": {
    "collapsed": false,
    "ExecuteTime": {
     "end_time": "2024-02-25T18:17:56.667212900Z",
     "start_time": "2024-02-25T18:17:56.407863900Z"
    }
   },
   "id": "d8635f11bf269828",
   "execution_count": 494
  },
  {
   "cell_type": "code",
   "outputs": [],
   "source": [
    "ortalamaKareHata = np.sqrt(mean_squared_error(y_test, yTahmin))"
   ],
   "metadata": {
    "collapsed": false,
    "ExecuteTime": {
     "end_time": "2024-02-25T18:17:56.837062500Z",
     "start_time": "2024-02-25T18:17:56.538207700Z"
    }
   },
   "id": "57d83050d2b64abf",
   "execution_count": 495
  },
  {
   "cell_type": "code",
   "outputs": [
    {
     "data": {
      "text/plain": "357.70155180024483"
     },
     "execution_count": 496,
     "metadata": {},
     "output_type": "execute_result"
    }
   ],
   "source": [
    "ortalamaKareHata"
   ],
   "metadata": {
    "collapsed": false,
    "ExecuteTime": {
     "end_time": "2024-02-25T18:17:56.947123300Z",
     "start_time": "2024-02-25T18:17:56.747952700Z"
    }
   },
   "id": "ef5ae0a9899bc03d",
   "execution_count": 496
  },
  {
   "cell_type": "code",
   "outputs": [
    {
     "data": {
      "text/plain": "AtBat         -1.570458\nHits           6.660055\nHmRun          0.000000\nRuns          -0.000000\nRBI            0.000000\nWalks          3.643508\nYears          0.000000\nCAtBat        -0.147146\nCHits          0.110086\nCHmRun        -0.000000\nCRuns          1.220365\nCRBI           0.491742\nCWalks        -0.356975\nPutOuts        0.275471\nAssists        0.215021\nErrors        -0.000000\nLeague_N       0.000000\nDivision_W    -0.000000\nNewLeague_N    0.000000\ndtype: float64"
     },
     "execution_count": 497,
     "metadata": {},
     "output_type": "execute_result"
    }
   ],
   "source": [
    "pd.Series(lassoTuned.coef_, index=x_train.columns)"
   ],
   "metadata": {
    "collapsed": false,
    "ExecuteTime": {
     "end_time": "2024-02-25T18:17:57.191885200Z",
     "start_time": "2024-02-25T18:17:56.939145700Z"
    }
   },
   "id": "35515ab20f5e46f9",
   "execution_count": 497
  },
  {
   "cell_type": "markdown",
   "source": [
    "5-ElasticNet Regresyonu"
   ],
   "metadata": {
    "collapsed": false
   },
   "id": "616cf62f7ddb23a9"
  },
  {
   "cell_type": "code",
   "outputs": [],
   "source": [
    "# GEREKLİ KÜTÜPHANELER\n",
    "import numpy as np\n",
    "import pandas as pd\n",
    "import matplotlib.pyplot as plt\n",
    "import seaborn as sns\n",
    "from sklearn.linear_model import Ridge,Lasso, ElasticNet\n",
    "from sklearn.model_selection import train_test_split\n",
    "from sklearn.metrics import mean_squared_error, r2_score\n",
    "from sklearn import model_selection\n",
    "from sklearn.linear_model import RidgeCV, LassoCV,ElasticNetCV"
   ],
   "metadata": {
    "collapsed": false,
    "ExecuteTime": {
     "end_time": "2024-02-25T18:18:54.163473Z",
     "start_time": "2024-02-25T18:18:54.061869Z"
    }
   },
   "id": "314932d09f1d83e6",
   "execution_count": 499
  },
  {
   "cell_type": "markdown",
   "source": [
    "5.1-Veri Seti"
   ],
   "metadata": {
    "collapsed": false
   },
   "id": "1031b2a4e25d4970"
  },
  {
   "cell_type": "code",
   "outputs": [
    {
     "name": "stdout",
     "output_type": "stream",
     "text": [
      "<class 'pandas.core.frame.DataFrame'>\n",
      "Int64Index: 263 entries, 1 to 321\n",
      "Data columns (total 20 columns):\n",
      " #   Column     Non-Null Count  Dtype  \n",
      "---  ------     --------------  -----  \n",
      " 0   AtBat      263 non-null    int64  \n",
      " 1   Hits       263 non-null    int64  \n",
      " 2   HmRun      263 non-null    int64  \n",
      " 3   Runs       263 non-null    int64  \n",
      " 4   RBI        263 non-null    int64  \n",
      " 5   Walks      263 non-null    int64  \n",
      " 6   Years      263 non-null    int64  \n",
      " 7   CAtBat     263 non-null    int64  \n",
      " 8   CHits      263 non-null    int64  \n",
      " 9   CHmRun     263 non-null    int64  \n",
      " 10  CRuns      263 non-null    int64  \n",
      " 11  CRBI       263 non-null    int64  \n",
      " 12  CWalks     263 non-null    int64  \n",
      " 13  League     263 non-null    object \n",
      " 14  Division   263 non-null    object \n",
      " 15  PutOuts    263 non-null    int64  \n",
      " 16  Assists    263 non-null    int64  \n",
      " 17  Errors     263 non-null    int64  \n",
      " 18  Salary     263 non-null    float64\n",
      " 19  NewLeague  263 non-null    object \n",
      "dtypes: float64(1), int64(16), object(3)\n",
      "memory usage: 43.1+ KB\n"
     ]
    }
   ],
   "source": [
    "df.info()"
   ],
   "metadata": {
    "collapsed": false,
    "ExecuteTime": {
     "end_time": "2024-02-25T18:21:11.701268500Z",
     "start_time": "2024-02-25T18:21:11.511192400Z"
    }
   },
   "id": "6b4a577d7d9e6cd4",
   "execution_count": 504
  },
  {
   "cell_type": "code",
   "outputs": [],
   "source": [
    "df = df.dropna()  #Eksik bilgileri sildik"
   ],
   "metadata": {
    "collapsed": false,
    "ExecuteTime": {
     "end_time": "2024-02-25T18:21:12.362712Z",
     "start_time": "2024-02-25T18:21:12.239497900Z"
    }
   },
   "id": "a71b9fedee431493",
   "execution_count": 505
  },
  {
   "cell_type": "code",
   "outputs": [
    {
     "data": {
      "text/plain": "     AtBat  Hits  HmRun  Runs  RBI  Walks  Years  CAtBat  CHits  CHmRun  \\\n1      315    81      7    24   38     39     14    3449    835      69   \n2      479   130     18    66   72     76      3    1624    457      63   \n3      496   141     20    65   78     37     11    5628   1575     225   \n4      321    87     10    39   42     30      2     396    101      12   \n5      594   169      4    74   51     35     11    4408   1133      19   \n..     ...   ...    ...   ...  ...    ...    ...     ...    ...     ...   \n317    497   127      7    65   48     37      5    2703    806      32   \n318    492   136      5    76   50     94     12    5511   1511      39   \n319    475   126      3    61   43     52      6    1700    433       7   \n320    573   144      9    85   60     78      8    3198    857      97   \n321    631   170      9    77   44     31     11    4908   1457      30   \n\n     CRuns  CRBI  CWalks League Division  PutOuts  Assists  Errors  Salary  \\\n1      321   414     375      N        W      632       43      10   475.0   \n2      224   266     263      A        W      880       82      14   480.0   \n3      828   838     354      N        E      200       11       3   500.0   \n4       48    46      33      N        E      805       40       4    91.5   \n5      501   336     194      A        W      282      421      25   750.0   \n..     ...   ...     ...    ...      ...      ...      ...     ...     ...   \n317    379   311     138      N        E      325        9       3   700.0   \n318    897   451     875      A        E      313      381      20   875.0   \n319    217    93     146      A        W       37      113       7   385.0   \n320    470   420     332      A        E     1314      131      12   960.0   \n321    775   357     249      A        W      408        4       3  1000.0   \n\n    NewLeague  \n1           N  \n2           A  \n3           N  \n4           N  \n5           A  \n..        ...  \n317         N  \n318         A  \n319         A  \n320         A  \n321         A  \n\n[263 rows x 20 columns]",
      "text/html": "<div>\n<style scoped>\n    .dataframe tbody tr th:only-of-type {\n        vertical-align: middle;\n    }\n\n    .dataframe tbody tr th {\n        vertical-align: top;\n    }\n\n    .dataframe thead th {\n        text-align: right;\n    }\n</style>\n<table border=\"1\" class=\"dataframe\">\n  <thead>\n    <tr style=\"text-align: right;\">\n      <th></th>\n      <th>AtBat</th>\n      <th>Hits</th>\n      <th>HmRun</th>\n      <th>Runs</th>\n      <th>RBI</th>\n      <th>Walks</th>\n      <th>Years</th>\n      <th>CAtBat</th>\n      <th>CHits</th>\n      <th>CHmRun</th>\n      <th>CRuns</th>\n      <th>CRBI</th>\n      <th>CWalks</th>\n      <th>League</th>\n      <th>Division</th>\n      <th>PutOuts</th>\n      <th>Assists</th>\n      <th>Errors</th>\n      <th>Salary</th>\n      <th>NewLeague</th>\n    </tr>\n  </thead>\n  <tbody>\n    <tr>\n      <th>1</th>\n      <td>315</td>\n      <td>81</td>\n      <td>7</td>\n      <td>24</td>\n      <td>38</td>\n      <td>39</td>\n      <td>14</td>\n      <td>3449</td>\n      <td>835</td>\n      <td>69</td>\n      <td>321</td>\n      <td>414</td>\n      <td>375</td>\n      <td>N</td>\n      <td>W</td>\n      <td>632</td>\n      <td>43</td>\n      <td>10</td>\n      <td>475.0</td>\n      <td>N</td>\n    </tr>\n    <tr>\n      <th>2</th>\n      <td>479</td>\n      <td>130</td>\n      <td>18</td>\n      <td>66</td>\n      <td>72</td>\n      <td>76</td>\n      <td>3</td>\n      <td>1624</td>\n      <td>457</td>\n      <td>63</td>\n      <td>224</td>\n      <td>266</td>\n      <td>263</td>\n      <td>A</td>\n      <td>W</td>\n      <td>880</td>\n      <td>82</td>\n      <td>14</td>\n      <td>480.0</td>\n      <td>A</td>\n    </tr>\n    <tr>\n      <th>3</th>\n      <td>496</td>\n      <td>141</td>\n      <td>20</td>\n      <td>65</td>\n      <td>78</td>\n      <td>37</td>\n      <td>11</td>\n      <td>5628</td>\n      <td>1575</td>\n      <td>225</td>\n      <td>828</td>\n      <td>838</td>\n      <td>354</td>\n      <td>N</td>\n      <td>E</td>\n      <td>200</td>\n      <td>11</td>\n      <td>3</td>\n      <td>500.0</td>\n      <td>N</td>\n    </tr>\n    <tr>\n      <th>4</th>\n      <td>321</td>\n      <td>87</td>\n      <td>10</td>\n      <td>39</td>\n      <td>42</td>\n      <td>30</td>\n      <td>2</td>\n      <td>396</td>\n      <td>101</td>\n      <td>12</td>\n      <td>48</td>\n      <td>46</td>\n      <td>33</td>\n      <td>N</td>\n      <td>E</td>\n      <td>805</td>\n      <td>40</td>\n      <td>4</td>\n      <td>91.5</td>\n      <td>N</td>\n    </tr>\n    <tr>\n      <th>5</th>\n      <td>594</td>\n      <td>169</td>\n      <td>4</td>\n      <td>74</td>\n      <td>51</td>\n      <td>35</td>\n      <td>11</td>\n      <td>4408</td>\n      <td>1133</td>\n      <td>19</td>\n      <td>501</td>\n      <td>336</td>\n      <td>194</td>\n      <td>A</td>\n      <td>W</td>\n      <td>282</td>\n      <td>421</td>\n      <td>25</td>\n      <td>750.0</td>\n      <td>A</td>\n    </tr>\n    <tr>\n      <th>...</th>\n      <td>...</td>\n      <td>...</td>\n      <td>...</td>\n      <td>...</td>\n      <td>...</td>\n      <td>...</td>\n      <td>...</td>\n      <td>...</td>\n      <td>...</td>\n      <td>...</td>\n      <td>...</td>\n      <td>...</td>\n      <td>...</td>\n      <td>...</td>\n      <td>...</td>\n      <td>...</td>\n      <td>...</td>\n      <td>...</td>\n      <td>...</td>\n      <td>...</td>\n    </tr>\n    <tr>\n      <th>317</th>\n      <td>497</td>\n      <td>127</td>\n      <td>7</td>\n      <td>65</td>\n      <td>48</td>\n      <td>37</td>\n      <td>5</td>\n      <td>2703</td>\n      <td>806</td>\n      <td>32</td>\n      <td>379</td>\n      <td>311</td>\n      <td>138</td>\n      <td>N</td>\n      <td>E</td>\n      <td>325</td>\n      <td>9</td>\n      <td>3</td>\n      <td>700.0</td>\n      <td>N</td>\n    </tr>\n    <tr>\n      <th>318</th>\n      <td>492</td>\n      <td>136</td>\n      <td>5</td>\n      <td>76</td>\n      <td>50</td>\n      <td>94</td>\n      <td>12</td>\n      <td>5511</td>\n      <td>1511</td>\n      <td>39</td>\n      <td>897</td>\n      <td>451</td>\n      <td>875</td>\n      <td>A</td>\n      <td>E</td>\n      <td>313</td>\n      <td>381</td>\n      <td>20</td>\n      <td>875.0</td>\n      <td>A</td>\n    </tr>\n    <tr>\n      <th>319</th>\n      <td>475</td>\n      <td>126</td>\n      <td>3</td>\n      <td>61</td>\n      <td>43</td>\n      <td>52</td>\n      <td>6</td>\n      <td>1700</td>\n      <td>433</td>\n      <td>7</td>\n      <td>217</td>\n      <td>93</td>\n      <td>146</td>\n      <td>A</td>\n      <td>W</td>\n      <td>37</td>\n      <td>113</td>\n      <td>7</td>\n      <td>385.0</td>\n      <td>A</td>\n    </tr>\n    <tr>\n      <th>320</th>\n      <td>573</td>\n      <td>144</td>\n      <td>9</td>\n      <td>85</td>\n      <td>60</td>\n      <td>78</td>\n      <td>8</td>\n      <td>3198</td>\n      <td>857</td>\n      <td>97</td>\n      <td>470</td>\n      <td>420</td>\n      <td>332</td>\n      <td>A</td>\n      <td>E</td>\n      <td>1314</td>\n      <td>131</td>\n      <td>12</td>\n      <td>960.0</td>\n      <td>A</td>\n    </tr>\n    <tr>\n      <th>321</th>\n      <td>631</td>\n      <td>170</td>\n      <td>9</td>\n      <td>77</td>\n      <td>44</td>\n      <td>31</td>\n      <td>11</td>\n      <td>4908</td>\n      <td>1457</td>\n      <td>30</td>\n      <td>775</td>\n      <td>357</td>\n      <td>249</td>\n      <td>A</td>\n      <td>W</td>\n      <td>408</td>\n      <td>4</td>\n      <td>3</td>\n      <td>1000.0</td>\n      <td>A</td>\n    </tr>\n  </tbody>\n</table>\n<p>263 rows × 20 columns</p>\n</div>"
     },
     "execution_count": 506,
     "metadata": {},
     "output_type": "execute_result"
    }
   ],
   "source": [
    "df"
   ],
   "metadata": {
    "collapsed": false,
    "ExecuteTime": {
     "end_time": "2024-02-25T18:21:12.917883300Z",
     "start_time": "2024-02-25T18:21:12.755226200Z"
    }
   },
   "id": "a9123e01a5d6e1c9",
   "execution_count": 506
  },
  {
   "cell_type": "code",
   "outputs": [],
   "source": [
    "dms = pd.get_dummies(df[[\"League\", \"Division\", \"NewLeague\"]])  # Kategorik "
   ],
   "metadata": {
    "collapsed": false,
    "ExecuteTime": {
     "end_time": "2024-02-25T18:21:13.335867Z",
     "start_time": "2024-02-25T18:21:13.188301700Z"
    }
   },
   "id": "4df77b127ad88c2",
   "execution_count": 507
  },
  {
   "cell_type": "code",
   "outputs": [
    {
     "data": {
      "text/plain": "     League_A  League_N  Division_E  Division_W  NewLeague_A  NewLeague_N\n1           0         1           0           1            0            1\n2           1         0           0           1            1            0\n3           0         1           1           0            0            1\n4           0         1           1           0            0            1\n5           1         0           0           1            1            0\n..        ...       ...         ...         ...          ...          ...\n317         0         1           1           0            0            1\n318         1         0           1           0            1            0\n319         1         0           0           1            1            0\n320         1         0           1           0            1            0\n321         1         0           0           1            1            0\n\n[263 rows x 6 columns]",
      "text/html": "<div>\n<style scoped>\n    .dataframe tbody tr th:only-of-type {\n        vertical-align: middle;\n    }\n\n    .dataframe tbody tr th {\n        vertical-align: top;\n    }\n\n    .dataframe thead th {\n        text-align: right;\n    }\n</style>\n<table border=\"1\" class=\"dataframe\">\n  <thead>\n    <tr style=\"text-align: right;\">\n      <th></th>\n      <th>League_A</th>\n      <th>League_N</th>\n      <th>Division_E</th>\n      <th>Division_W</th>\n      <th>NewLeague_A</th>\n      <th>NewLeague_N</th>\n    </tr>\n  </thead>\n  <tbody>\n    <tr>\n      <th>1</th>\n      <td>0</td>\n      <td>1</td>\n      <td>0</td>\n      <td>1</td>\n      <td>0</td>\n      <td>1</td>\n    </tr>\n    <tr>\n      <th>2</th>\n      <td>1</td>\n      <td>0</td>\n      <td>0</td>\n      <td>1</td>\n      <td>1</td>\n      <td>0</td>\n    </tr>\n    <tr>\n      <th>3</th>\n      <td>0</td>\n      <td>1</td>\n      <td>1</td>\n      <td>0</td>\n      <td>0</td>\n      <td>1</td>\n    </tr>\n    <tr>\n      <th>4</th>\n      <td>0</td>\n      <td>1</td>\n      <td>1</td>\n      <td>0</td>\n      <td>0</td>\n      <td>1</td>\n    </tr>\n    <tr>\n      <th>5</th>\n      <td>1</td>\n      <td>0</td>\n      <td>0</td>\n      <td>1</td>\n      <td>1</td>\n      <td>0</td>\n    </tr>\n    <tr>\n      <th>...</th>\n      <td>...</td>\n      <td>...</td>\n      <td>...</td>\n      <td>...</td>\n      <td>...</td>\n      <td>...</td>\n    </tr>\n    <tr>\n      <th>317</th>\n      <td>0</td>\n      <td>1</td>\n      <td>1</td>\n      <td>0</td>\n      <td>0</td>\n      <td>1</td>\n    </tr>\n    <tr>\n      <th>318</th>\n      <td>1</td>\n      <td>0</td>\n      <td>1</td>\n      <td>0</td>\n      <td>1</td>\n      <td>0</td>\n    </tr>\n    <tr>\n      <th>319</th>\n      <td>1</td>\n      <td>0</td>\n      <td>0</td>\n      <td>1</td>\n      <td>1</td>\n      <td>0</td>\n    </tr>\n    <tr>\n      <th>320</th>\n      <td>1</td>\n      <td>0</td>\n      <td>1</td>\n      <td>0</td>\n      <td>1</td>\n      <td>0</td>\n    </tr>\n    <tr>\n      <th>321</th>\n      <td>1</td>\n      <td>0</td>\n      <td>0</td>\n      <td>1</td>\n      <td>1</td>\n      <td>0</td>\n    </tr>\n  </tbody>\n</table>\n<p>263 rows × 6 columns</p>\n</div>"
     },
     "execution_count": 508,
     "metadata": {},
     "output_type": "execute_result"
    }
   ],
   "source": [
    "dms"
   ],
   "metadata": {
    "collapsed": false,
    "ExecuteTime": {
     "end_time": "2024-02-25T18:21:14.158832400Z",
     "start_time": "2024-02-25T18:21:14.055199200Z"
    }
   },
   "id": "3c9b74655a0122ac",
   "execution_count": 508
  },
  {
   "cell_type": "code",
   "outputs": [],
   "source": [
    "y = df[\"Salary\"]  # Bağımlı değişkeni y'ye atadık\n"
   ],
   "metadata": {
    "collapsed": false,
    "ExecuteTime": {
     "end_time": "2024-02-25T18:21:17.390855Z",
     "start_time": "2024-02-25T18:21:17.288144500Z"
    }
   },
   "id": "8ecee231db2f5b8a",
   "execution_count": 509
  },
  {
   "cell_type": "code",
   "outputs": [
    {
     "data": {
      "text/plain": "1       475.0\n2       480.0\n3       500.0\n4        91.5\n5       750.0\n        ...  \n317     700.0\n318     875.0\n319     385.0\n320     960.0\n321    1000.0\nName: Salary, Length: 263, dtype: float64"
     },
     "execution_count": 510,
     "metadata": {},
     "output_type": "execute_result"
    }
   ],
   "source": [
    "y"
   ],
   "metadata": {
    "collapsed": false,
    "ExecuteTime": {
     "end_time": "2024-02-25T18:21:19.334576300Z",
     "start_time": "2024-02-25T18:21:19.238988500Z"
    }
   },
   "id": "51b43267678dfae0",
   "execution_count": 510
  },
  {
   "cell_type": "code",
   "outputs": [],
   "source": [
    "x_ = df.drop([\"Salary\",\"League\",\"Division\",\"NewLeague\"],axis=1).astype(\"float64\") # Bağımlı değişkeni ve kategorik değişkenleri attık"
   ],
   "metadata": {
    "collapsed": false,
    "ExecuteTime": {
     "end_time": "2024-02-25T18:23:07.533692500Z",
     "start_time": "2024-02-25T18:23:07.448319400Z"
    }
   },
   "id": "253008df63ca4815",
   "execution_count": 511
  },
  {
   "cell_type": "code",
   "outputs": [
    {
     "data": {
      "text/plain": "     AtBat   Hits  HmRun  Runs   RBI  Walks  Years  CAtBat   CHits  CHmRun  \\\n1    315.0   81.0    7.0  24.0  38.0   39.0   14.0  3449.0   835.0    69.0   \n2    479.0  130.0   18.0  66.0  72.0   76.0    3.0  1624.0   457.0    63.0   \n3    496.0  141.0   20.0  65.0  78.0   37.0   11.0  5628.0  1575.0   225.0   \n4    321.0   87.0   10.0  39.0  42.0   30.0    2.0   396.0   101.0    12.0   \n5    594.0  169.0    4.0  74.0  51.0   35.0   11.0  4408.0  1133.0    19.0   \n..     ...    ...    ...   ...   ...    ...    ...     ...     ...     ...   \n317  497.0  127.0    7.0  65.0  48.0   37.0    5.0  2703.0   806.0    32.0   \n318  492.0  136.0    5.0  76.0  50.0   94.0   12.0  5511.0  1511.0    39.0   \n319  475.0  126.0    3.0  61.0  43.0   52.0    6.0  1700.0   433.0     7.0   \n320  573.0  144.0    9.0  85.0  60.0   78.0    8.0  3198.0   857.0    97.0   \n321  631.0  170.0    9.0  77.0  44.0   31.0   11.0  4908.0  1457.0    30.0   \n\n     CRuns   CRBI  CWalks  PutOuts  Assists  Errors  \n1    321.0  414.0   375.0    632.0     43.0    10.0  \n2    224.0  266.0   263.0    880.0     82.0    14.0  \n3    828.0  838.0   354.0    200.0     11.0     3.0  \n4     48.0   46.0    33.0    805.0     40.0     4.0  \n5    501.0  336.0   194.0    282.0    421.0    25.0  \n..     ...    ...     ...      ...      ...     ...  \n317  379.0  311.0   138.0    325.0      9.0     3.0  \n318  897.0  451.0   875.0    313.0    381.0    20.0  \n319  217.0   93.0   146.0     37.0    113.0     7.0  \n320  470.0  420.0   332.0   1314.0    131.0    12.0  \n321  775.0  357.0   249.0    408.0      4.0     3.0  \n\n[263 rows x 16 columns]",
      "text/html": "<div>\n<style scoped>\n    .dataframe tbody tr th:only-of-type {\n        vertical-align: middle;\n    }\n\n    .dataframe tbody tr th {\n        vertical-align: top;\n    }\n\n    .dataframe thead th {\n        text-align: right;\n    }\n</style>\n<table border=\"1\" class=\"dataframe\">\n  <thead>\n    <tr style=\"text-align: right;\">\n      <th></th>\n      <th>AtBat</th>\n      <th>Hits</th>\n      <th>HmRun</th>\n      <th>Runs</th>\n      <th>RBI</th>\n      <th>Walks</th>\n      <th>Years</th>\n      <th>CAtBat</th>\n      <th>CHits</th>\n      <th>CHmRun</th>\n      <th>CRuns</th>\n      <th>CRBI</th>\n      <th>CWalks</th>\n      <th>PutOuts</th>\n      <th>Assists</th>\n      <th>Errors</th>\n    </tr>\n  </thead>\n  <tbody>\n    <tr>\n      <th>1</th>\n      <td>315.0</td>\n      <td>81.0</td>\n      <td>7.0</td>\n      <td>24.0</td>\n      <td>38.0</td>\n      <td>39.0</td>\n      <td>14.0</td>\n      <td>3449.0</td>\n      <td>835.0</td>\n      <td>69.0</td>\n      <td>321.0</td>\n      <td>414.0</td>\n      <td>375.0</td>\n      <td>632.0</td>\n      <td>43.0</td>\n      <td>10.0</td>\n    </tr>\n    <tr>\n      <th>2</th>\n      <td>479.0</td>\n      <td>130.0</td>\n      <td>18.0</td>\n      <td>66.0</td>\n      <td>72.0</td>\n      <td>76.0</td>\n      <td>3.0</td>\n      <td>1624.0</td>\n      <td>457.0</td>\n      <td>63.0</td>\n      <td>224.0</td>\n      <td>266.0</td>\n      <td>263.0</td>\n      <td>880.0</td>\n      <td>82.0</td>\n      <td>14.0</td>\n    </tr>\n    <tr>\n      <th>3</th>\n      <td>496.0</td>\n      <td>141.0</td>\n      <td>20.0</td>\n      <td>65.0</td>\n      <td>78.0</td>\n      <td>37.0</td>\n      <td>11.0</td>\n      <td>5628.0</td>\n      <td>1575.0</td>\n      <td>225.0</td>\n      <td>828.0</td>\n      <td>838.0</td>\n      <td>354.0</td>\n      <td>200.0</td>\n      <td>11.0</td>\n      <td>3.0</td>\n    </tr>\n    <tr>\n      <th>4</th>\n      <td>321.0</td>\n      <td>87.0</td>\n      <td>10.0</td>\n      <td>39.0</td>\n      <td>42.0</td>\n      <td>30.0</td>\n      <td>2.0</td>\n      <td>396.0</td>\n      <td>101.0</td>\n      <td>12.0</td>\n      <td>48.0</td>\n      <td>46.0</td>\n      <td>33.0</td>\n      <td>805.0</td>\n      <td>40.0</td>\n      <td>4.0</td>\n    </tr>\n    <tr>\n      <th>5</th>\n      <td>594.0</td>\n      <td>169.0</td>\n      <td>4.0</td>\n      <td>74.0</td>\n      <td>51.0</td>\n      <td>35.0</td>\n      <td>11.0</td>\n      <td>4408.0</td>\n      <td>1133.0</td>\n      <td>19.0</td>\n      <td>501.0</td>\n      <td>336.0</td>\n      <td>194.0</td>\n      <td>282.0</td>\n      <td>421.0</td>\n      <td>25.0</td>\n    </tr>\n    <tr>\n      <th>...</th>\n      <td>...</td>\n      <td>...</td>\n      <td>...</td>\n      <td>...</td>\n      <td>...</td>\n      <td>...</td>\n      <td>...</td>\n      <td>...</td>\n      <td>...</td>\n      <td>...</td>\n      <td>...</td>\n      <td>...</td>\n      <td>...</td>\n      <td>...</td>\n      <td>...</td>\n      <td>...</td>\n    </tr>\n    <tr>\n      <th>317</th>\n      <td>497.0</td>\n      <td>127.0</td>\n      <td>7.0</td>\n      <td>65.0</td>\n      <td>48.0</td>\n      <td>37.0</td>\n      <td>5.0</td>\n      <td>2703.0</td>\n      <td>806.0</td>\n      <td>32.0</td>\n      <td>379.0</td>\n      <td>311.0</td>\n      <td>138.0</td>\n      <td>325.0</td>\n      <td>9.0</td>\n      <td>3.0</td>\n    </tr>\n    <tr>\n      <th>318</th>\n      <td>492.0</td>\n      <td>136.0</td>\n      <td>5.0</td>\n      <td>76.0</td>\n      <td>50.0</td>\n      <td>94.0</td>\n      <td>12.0</td>\n      <td>5511.0</td>\n      <td>1511.0</td>\n      <td>39.0</td>\n      <td>897.0</td>\n      <td>451.0</td>\n      <td>875.0</td>\n      <td>313.0</td>\n      <td>381.0</td>\n      <td>20.0</td>\n    </tr>\n    <tr>\n      <th>319</th>\n      <td>475.0</td>\n      <td>126.0</td>\n      <td>3.0</td>\n      <td>61.0</td>\n      <td>43.0</td>\n      <td>52.0</td>\n      <td>6.0</td>\n      <td>1700.0</td>\n      <td>433.0</td>\n      <td>7.0</td>\n      <td>217.0</td>\n      <td>93.0</td>\n      <td>146.0</td>\n      <td>37.0</td>\n      <td>113.0</td>\n      <td>7.0</td>\n    </tr>\n    <tr>\n      <th>320</th>\n      <td>573.0</td>\n      <td>144.0</td>\n      <td>9.0</td>\n      <td>85.0</td>\n      <td>60.0</td>\n      <td>78.0</td>\n      <td>8.0</td>\n      <td>3198.0</td>\n      <td>857.0</td>\n      <td>97.0</td>\n      <td>470.0</td>\n      <td>420.0</td>\n      <td>332.0</td>\n      <td>1314.0</td>\n      <td>131.0</td>\n      <td>12.0</td>\n    </tr>\n    <tr>\n      <th>321</th>\n      <td>631.0</td>\n      <td>170.0</td>\n      <td>9.0</td>\n      <td>77.0</td>\n      <td>44.0</td>\n      <td>31.0</td>\n      <td>11.0</td>\n      <td>4908.0</td>\n      <td>1457.0</td>\n      <td>30.0</td>\n      <td>775.0</td>\n      <td>357.0</td>\n      <td>249.0</td>\n      <td>408.0</td>\n      <td>4.0</td>\n      <td>3.0</td>\n    </tr>\n  </tbody>\n</table>\n<p>263 rows × 16 columns</p>\n</div>"
     },
     "execution_count": 512,
     "metadata": {},
     "output_type": "execute_result"
    }
   ],
   "source": [
    "x_"
   ],
   "metadata": {
    "collapsed": false,
    "ExecuteTime": {
     "end_time": "2024-02-25T18:23:11.973730300Z",
     "start_time": "2024-02-25T18:23:11.893158200Z"
    }
   },
   "id": "c2ba38d3a9f06b5",
   "execution_count": 512
  },
  {
   "cell_type": "code",
   "outputs": [],
   "source": [
    "x = pd.concat([x_,dms[[\"League_N\",'Division_W',\"NewLeague_N\"]]],axis=1) # bağımsız değişkenlerimizle, bağımlı değişkenleri ve dummiesleri bir araya getirdik. "
   ],
   "metadata": {
    "collapsed": false,
    "ExecuteTime": {
     "end_time": "2024-02-25T18:23:37.049037800Z",
     "start_time": "2024-02-25T18:23:36.949931500Z"
    }
   },
   "id": "62f39e9dee5646c4",
   "execution_count": 513
  },
  {
   "cell_type": "code",
   "outputs": [
    {
     "data": {
      "text/plain": "     AtBat   Hits  HmRun  Runs   RBI  Walks  Years  CAtBat   CHits  CHmRun  \\\n1    315.0   81.0    7.0  24.0  38.0   39.0   14.0  3449.0   835.0    69.0   \n2    479.0  130.0   18.0  66.0  72.0   76.0    3.0  1624.0   457.0    63.0   \n3    496.0  141.0   20.0  65.0  78.0   37.0   11.0  5628.0  1575.0   225.0   \n4    321.0   87.0   10.0  39.0  42.0   30.0    2.0   396.0   101.0    12.0   \n5    594.0  169.0    4.0  74.0  51.0   35.0   11.0  4408.0  1133.0    19.0   \n..     ...    ...    ...   ...   ...    ...    ...     ...     ...     ...   \n317  497.0  127.0    7.0  65.0  48.0   37.0    5.0  2703.0   806.0    32.0   \n318  492.0  136.0    5.0  76.0  50.0   94.0   12.0  5511.0  1511.0    39.0   \n319  475.0  126.0    3.0  61.0  43.0   52.0    6.0  1700.0   433.0     7.0   \n320  573.0  144.0    9.0  85.0  60.0   78.0    8.0  3198.0   857.0    97.0   \n321  631.0  170.0    9.0  77.0  44.0   31.0   11.0  4908.0  1457.0    30.0   \n\n     CRuns   CRBI  CWalks  PutOuts  Assists  Errors  League_N  Division_W  \\\n1    321.0  414.0   375.0    632.0     43.0    10.0         1           1   \n2    224.0  266.0   263.0    880.0     82.0    14.0         0           1   \n3    828.0  838.0   354.0    200.0     11.0     3.0         1           0   \n4     48.0   46.0    33.0    805.0     40.0     4.0         1           0   \n5    501.0  336.0   194.0    282.0    421.0    25.0         0           1   \n..     ...    ...     ...      ...      ...     ...       ...         ...   \n317  379.0  311.0   138.0    325.0      9.0     3.0         1           0   \n318  897.0  451.0   875.0    313.0    381.0    20.0         0           0   \n319  217.0   93.0   146.0     37.0    113.0     7.0         0           1   \n320  470.0  420.0   332.0   1314.0    131.0    12.0         0           0   \n321  775.0  357.0   249.0    408.0      4.0     3.0         0           1   \n\n     NewLeague_N  \n1              1  \n2              0  \n3              1  \n4              1  \n5              0  \n..           ...  \n317            1  \n318            0  \n319            0  \n320            0  \n321            0  \n\n[263 rows x 19 columns]",
      "text/html": "<div>\n<style scoped>\n    .dataframe tbody tr th:only-of-type {\n        vertical-align: middle;\n    }\n\n    .dataframe tbody tr th {\n        vertical-align: top;\n    }\n\n    .dataframe thead th {\n        text-align: right;\n    }\n</style>\n<table border=\"1\" class=\"dataframe\">\n  <thead>\n    <tr style=\"text-align: right;\">\n      <th></th>\n      <th>AtBat</th>\n      <th>Hits</th>\n      <th>HmRun</th>\n      <th>Runs</th>\n      <th>RBI</th>\n      <th>Walks</th>\n      <th>Years</th>\n      <th>CAtBat</th>\n      <th>CHits</th>\n      <th>CHmRun</th>\n      <th>CRuns</th>\n      <th>CRBI</th>\n      <th>CWalks</th>\n      <th>PutOuts</th>\n      <th>Assists</th>\n      <th>Errors</th>\n      <th>League_N</th>\n      <th>Division_W</th>\n      <th>NewLeague_N</th>\n    </tr>\n  </thead>\n  <tbody>\n    <tr>\n      <th>1</th>\n      <td>315.0</td>\n      <td>81.0</td>\n      <td>7.0</td>\n      <td>24.0</td>\n      <td>38.0</td>\n      <td>39.0</td>\n      <td>14.0</td>\n      <td>3449.0</td>\n      <td>835.0</td>\n      <td>69.0</td>\n      <td>321.0</td>\n      <td>414.0</td>\n      <td>375.0</td>\n      <td>632.0</td>\n      <td>43.0</td>\n      <td>10.0</td>\n      <td>1</td>\n      <td>1</td>\n      <td>1</td>\n    </tr>\n    <tr>\n      <th>2</th>\n      <td>479.0</td>\n      <td>130.0</td>\n      <td>18.0</td>\n      <td>66.0</td>\n      <td>72.0</td>\n      <td>76.0</td>\n      <td>3.0</td>\n      <td>1624.0</td>\n      <td>457.0</td>\n      <td>63.0</td>\n      <td>224.0</td>\n      <td>266.0</td>\n      <td>263.0</td>\n      <td>880.0</td>\n      <td>82.0</td>\n      <td>14.0</td>\n      <td>0</td>\n      <td>1</td>\n      <td>0</td>\n    </tr>\n    <tr>\n      <th>3</th>\n      <td>496.0</td>\n      <td>141.0</td>\n      <td>20.0</td>\n      <td>65.0</td>\n      <td>78.0</td>\n      <td>37.0</td>\n      <td>11.0</td>\n      <td>5628.0</td>\n      <td>1575.0</td>\n      <td>225.0</td>\n      <td>828.0</td>\n      <td>838.0</td>\n      <td>354.0</td>\n      <td>200.0</td>\n      <td>11.0</td>\n      <td>3.0</td>\n      <td>1</td>\n      <td>0</td>\n      <td>1</td>\n    </tr>\n    <tr>\n      <th>4</th>\n      <td>321.0</td>\n      <td>87.0</td>\n      <td>10.0</td>\n      <td>39.0</td>\n      <td>42.0</td>\n      <td>30.0</td>\n      <td>2.0</td>\n      <td>396.0</td>\n      <td>101.0</td>\n      <td>12.0</td>\n      <td>48.0</td>\n      <td>46.0</td>\n      <td>33.0</td>\n      <td>805.0</td>\n      <td>40.0</td>\n      <td>4.0</td>\n      <td>1</td>\n      <td>0</td>\n      <td>1</td>\n    </tr>\n    <tr>\n      <th>5</th>\n      <td>594.0</td>\n      <td>169.0</td>\n      <td>4.0</td>\n      <td>74.0</td>\n      <td>51.0</td>\n      <td>35.0</td>\n      <td>11.0</td>\n      <td>4408.0</td>\n      <td>1133.0</td>\n      <td>19.0</td>\n      <td>501.0</td>\n      <td>336.0</td>\n      <td>194.0</td>\n      <td>282.0</td>\n      <td>421.0</td>\n      <td>25.0</td>\n      <td>0</td>\n      <td>1</td>\n      <td>0</td>\n    </tr>\n    <tr>\n      <th>...</th>\n      <td>...</td>\n      <td>...</td>\n      <td>...</td>\n      <td>...</td>\n      <td>...</td>\n      <td>...</td>\n      <td>...</td>\n      <td>...</td>\n      <td>...</td>\n      <td>...</td>\n      <td>...</td>\n      <td>...</td>\n      <td>...</td>\n      <td>...</td>\n      <td>...</td>\n      <td>...</td>\n      <td>...</td>\n      <td>...</td>\n      <td>...</td>\n    </tr>\n    <tr>\n      <th>317</th>\n      <td>497.0</td>\n      <td>127.0</td>\n      <td>7.0</td>\n      <td>65.0</td>\n      <td>48.0</td>\n      <td>37.0</td>\n      <td>5.0</td>\n      <td>2703.0</td>\n      <td>806.0</td>\n      <td>32.0</td>\n      <td>379.0</td>\n      <td>311.0</td>\n      <td>138.0</td>\n      <td>325.0</td>\n      <td>9.0</td>\n      <td>3.0</td>\n      <td>1</td>\n      <td>0</td>\n      <td>1</td>\n    </tr>\n    <tr>\n      <th>318</th>\n      <td>492.0</td>\n      <td>136.0</td>\n      <td>5.0</td>\n      <td>76.0</td>\n      <td>50.0</td>\n      <td>94.0</td>\n      <td>12.0</td>\n      <td>5511.0</td>\n      <td>1511.0</td>\n      <td>39.0</td>\n      <td>897.0</td>\n      <td>451.0</td>\n      <td>875.0</td>\n      <td>313.0</td>\n      <td>381.0</td>\n      <td>20.0</td>\n      <td>0</td>\n      <td>0</td>\n      <td>0</td>\n    </tr>\n    <tr>\n      <th>319</th>\n      <td>475.0</td>\n      <td>126.0</td>\n      <td>3.0</td>\n      <td>61.0</td>\n      <td>43.0</td>\n      <td>52.0</td>\n      <td>6.0</td>\n      <td>1700.0</td>\n      <td>433.0</td>\n      <td>7.0</td>\n      <td>217.0</td>\n      <td>93.0</td>\n      <td>146.0</td>\n      <td>37.0</td>\n      <td>113.0</td>\n      <td>7.0</td>\n      <td>0</td>\n      <td>1</td>\n      <td>0</td>\n    </tr>\n    <tr>\n      <th>320</th>\n      <td>573.0</td>\n      <td>144.0</td>\n      <td>9.0</td>\n      <td>85.0</td>\n      <td>60.0</td>\n      <td>78.0</td>\n      <td>8.0</td>\n      <td>3198.0</td>\n      <td>857.0</td>\n      <td>97.0</td>\n      <td>470.0</td>\n      <td>420.0</td>\n      <td>332.0</td>\n      <td>1314.0</td>\n      <td>131.0</td>\n      <td>12.0</td>\n      <td>0</td>\n      <td>0</td>\n      <td>0</td>\n    </tr>\n    <tr>\n      <th>321</th>\n      <td>631.0</td>\n      <td>170.0</td>\n      <td>9.0</td>\n      <td>77.0</td>\n      <td>44.0</td>\n      <td>31.0</td>\n      <td>11.0</td>\n      <td>4908.0</td>\n      <td>1457.0</td>\n      <td>30.0</td>\n      <td>775.0</td>\n      <td>357.0</td>\n      <td>249.0</td>\n      <td>408.0</td>\n      <td>4.0</td>\n      <td>3.0</td>\n      <td>0</td>\n      <td>1</td>\n      <td>0</td>\n    </tr>\n  </tbody>\n</table>\n<p>263 rows × 19 columns</p>\n</div>"
     },
     "execution_count": 514,
     "metadata": {},
     "output_type": "execute_result"
    }
   ],
   "source": [
    "x"
   ],
   "metadata": {
    "collapsed": false,
    "ExecuteTime": {
     "end_time": "2024-02-25T18:23:38.677703500Z",
     "start_time": "2024-02-25T18:23:38.600186100Z"
    }
   },
   "id": "9ae5b759226c65f0",
   "execution_count": 514
  },
  {
   "cell_type": "code",
   "outputs": [],
   "source": [
    "x_train, x_test, y_train, y_test = train_test_split(x,y,test_size=0.25,random_state=42)"
   ],
   "metadata": {
    "collapsed": false,
    "ExecuteTime": {
     "end_time": "2024-02-25T18:24:24.709306Z",
     "start_time": "2024-02-25T18:24:24.579757800Z"
    }
   },
   "id": "b3cec400fbb4f79f",
   "execution_count": 515
  },
  {
   "cell_type": "code",
   "outputs": [
    {
     "data": {
      "text/plain": "     AtBat   Hits  HmRun  Runs    RBI  Walks  Years   CAtBat   CHits  CHmRun  \\\n183  328.0   91.0   12.0  51.0   43.0   33.0    2.0    342.0    94.0    12.0   \n229  514.0  144.0    0.0  67.0   54.0   79.0    9.0   4739.0  1169.0    13.0   \n286  593.0  152.0   23.0  69.0   75.0   53.0    6.0   2765.0   686.0   133.0   \n102  233.0   49.0    2.0  41.0   23.0   18.0    8.0   1350.0   336.0     7.0   \n153  341.0   95.0    6.0  48.0   42.0   20.0   10.0   2964.0   808.0    81.0   \n..     ...    ...    ...   ...    ...    ...    ...      ...     ...     ...   \n24   629.0  168.0   18.0  73.0  102.0   40.0   18.0   8424.0  2464.0   164.0   \n236  237.0   52.0    0.0  15.0   25.0   30.0   24.0  14053.0  4256.0   160.0   \n93   511.0  138.0   25.0  76.0   96.0   61.0    3.0    592.0   164.0    28.0   \n137  343.0  103.0    6.0  48.0   36.0   40.0   15.0   4338.0  1193.0    70.0   \n133  445.0   99.0    1.0  46.0   24.0   29.0    4.0    618.0   129.0     1.0   \n\n      CRuns    CRBI  CWalks  PutOuts  Assists  Errors  League_N  Division_W  \\\n183    51.0    44.0    33.0    145.0     59.0     8.0         1           0   \n229   583.0   374.0   528.0    229.0    453.0    15.0         1           0   \n286   369.0   384.0   321.0    315.0     10.0     6.0         0           1   \n102   166.0   122.0   106.0    102.0    132.0    10.0         0           0   \n153   379.0   428.0   221.0    158.0      4.0     5.0         1           1   \n..      ...     ...     ...      ...      ...     ...       ...         ...   \n24   1008.0  1072.0   402.0   1067.0    157.0    14.0         0           0   \n236  2165.0  1314.0  1566.0    523.0     43.0     6.0         1           1   \n93     87.0   110.0    71.0    157.0      7.0     8.0         0           1   \n137   581.0   421.0   325.0    211.0     56.0    13.0         0           0   \n133    72.0    31.0    48.0    278.0    415.0    16.0         0           1   \n\n     NewLeague_N  \n183            1  \n229            1  \n286            0  \n102            0  \n153            1  \n..           ...  \n24             0  \n236            1  \n93             0  \n137            0  \n133            0  \n\n[197 rows x 19 columns]",
      "text/html": "<div>\n<style scoped>\n    .dataframe tbody tr th:only-of-type {\n        vertical-align: middle;\n    }\n\n    .dataframe tbody tr th {\n        vertical-align: top;\n    }\n\n    .dataframe thead th {\n        text-align: right;\n    }\n</style>\n<table border=\"1\" class=\"dataframe\">\n  <thead>\n    <tr style=\"text-align: right;\">\n      <th></th>\n      <th>AtBat</th>\n      <th>Hits</th>\n      <th>HmRun</th>\n      <th>Runs</th>\n      <th>RBI</th>\n      <th>Walks</th>\n      <th>Years</th>\n      <th>CAtBat</th>\n      <th>CHits</th>\n      <th>CHmRun</th>\n      <th>CRuns</th>\n      <th>CRBI</th>\n      <th>CWalks</th>\n      <th>PutOuts</th>\n      <th>Assists</th>\n      <th>Errors</th>\n      <th>League_N</th>\n      <th>Division_W</th>\n      <th>NewLeague_N</th>\n    </tr>\n  </thead>\n  <tbody>\n    <tr>\n      <th>183</th>\n      <td>328.0</td>\n      <td>91.0</td>\n      <td>12.0</td>\n      <td>51.0</td>\n      <td>43.0</td>\n      <td>33.0</td>\n      <td>2.0</td>\n      <td>342.0</td>\n      <td>94.0</td>\n      <td>12.0</td>\n      <td>51.0</td>\n      <td>44.0</td>\n      <td>33.0</td>\n      <td>145.0</td>\n      <td>59.0</td>\n      <td>8.0</td>\n      <td>1</td>\n      <td>0</td>\n      <td>1</td>\n    </tr>\n    <tr>\n      <th>229</th>\n      <td>514.0</td>\n      <td>144.0</td>\n      <td>0.0</td>\n      <td>67.0</td>\n      <td>54.0</td>\n      <td>79.0</td>\n      <td>9.0</td>\n      <td>4739.0</td>\n      <td>1169.0</td>\n      <td>13.0</td>\n      <td>583.0</td>\n      <td>374.0</td>\n      <td>528.0</td>\n      <td>229.0</td>\n      <td>453.0</td>\n      <td>15.0</td>\n      <td>1</td>\n      <td>0</td>\n      <td>1</td>\n    </tr>\n    <tr>\n      <th>286</th>\n      <td>593.0</td>\n      <td>152.0</td>\n      <td>23.0</td>\n      <td>69.0</td>\n      <td>75.0</td>\n      <td>53.0</td>\n      <td>6.0</td>\n      <td>2765.0</td>\n      <td>686.0</td>\n      <td>133.0</td>\n      <td>369.0</td>\n      <td>384.0</td>\n      <td>321.0</td>\n      <td>315.0</td>\n      <td>10.0</td>\n      <td>6.0</td>\n      <td>0</td>\n      <td>1</td>\n      <td>0</td>\n    </tr>\n    <tr>\n      <th>102</th>\n      <td>233.0</td>\n      <td>49.0</td>\n      <td>2.0</td>\n      <td>41.0</td>\n      <td>23.0</td>\n      <td>18.0</td>\n      <td>8.0</td>\n      <td>1350.0</td>\n      <td>336.0</td>\n      <td>7.0</td>\n      <td>166.0</td>\n      <td>122.0</td>\n      <td>106.0</td>\n      <td>102.0</td>\n      <td>132.0</td>\n      <td>10.0</td>\n      <td>0</td>\n      <td>0</td>\n      <td>0</td>\n    </tr>\n    <tr>\n      <th>153</th>\n      <td>341.0</td>\n      <td>95.0</td>\n      <td>6.0</td>\n      <td>48.0</td>\n      <td>42.0</td>\n      <td>20.0</td>\n      <td>10.0</td>\n      <td>2964.0</td>\n      <td>808.0</td>\n      <td>81.0</td>\n      <td>379.0</td>\n      <td>428.0</td>\n      <td>221.0</td>\n      <td>158.0</td>\n      <td>4.0</td>\n      <td>5.0</td>\n      <td>1</td>\n      <td>1</td>\n      <td>1</td>\n    </tr>\n    <tr>\n      <th>...</th>\n      <td>...</td>\n      <td>...</td>\n      <td>...</td>\n      <td>...</td>\n      <td>...</td>\n      <td>...</td>\n      <td>...</td>\n      <td>...</td>\n      <td>...</td>\n      <td>...</td>\n      <td>...</td>\n      <td>...</td>\n      <td>...</td>\n      <td>...</td>\n      <td>...</td>\n      <td>...</td>\n      <td>...</td>\n      <td>...</td>\n      <td>...</td>\n    </tr>\n    <tr>\n      <th>24</th>\n      <td>629.0</td>\n      <td>168.0</td>\n      <td>18.0</td>\n      <td>73.0</td>\n      <td>102.0</td>\n      <td>40.0</td>\n      <td>18.0</td>\n      <td>8424.0</td>\n      <td>2464.0</td>\n      <td>164.0</td>\n      <td>1008.0</td>\n      <td>1072.0</td>\n      <td>402.0</td>\n      <td>1067.0</td>\n      <td>157.0</td>\n      <td>14.0</td>\n      <td>0</td>\n      <td>0</td>\n      <td>0</td>\n    </tr>\n    <tr>\n      <th>236</th>\n      <td>237.0</td>\n      <td>52.0</td>\n      <td>0.0</td>\n      <td>15.0</td>\n      <td>25.0</td>\n      <td>30.0</td>\n      <td>24.0</td>\n      <td>14053.0</td>\n      <td>4256.0</td>\n      <td>160.0</td>\n      <td>2165.0</td>\n      <td>1314.0</td>\n      <td>1566.0</td>\n      <td>523.0</td>\n      <td>43.0</td>\n      <td>6.0</td>\n      <td>1</td>\n      <td>1</td>\n      <td>1</td>\n    </tr>\n    <tr>\n      <th>93</th>\n      <td>511.0</td>\n      <td>138.0</td>\n      <td>25.0</td>\n      <td>76.0</td>\n      <td>96.0</td>\n      <td>61.0</td>\n      <td>3.0</td>\n      <td>592.0</td>\n      <td>164.0</td>\n      <td>28.0</td>\n      <td>87.0</td>\n      <td>110.0</td>\n      <td>71.0</td>\n      <td>157.0</td>\n      <td>7.0</td>\n      <td>8.0</td>\n      <td>0</td>\n      <td>1</td>\n      <td>0</td>\n    </tr>\n    <tr>\n      <th>137</th>\n      <td>343.0</td>\n      <td>103.0</td>\n      <td>6.0</td>\n      <td>48.0</td>\n      <td>36.0</td>\n      <td>40.0</td>\n      <td>15.0</td>\n      <td>4338.0</td>\n      <td>1193.0</td>\n      <td>70.0</td>\n      <td>581.0</td>\n      <td>421.0</td>\n      <td>325.0</td>\n      <td>211.0</td>\n      <td>56.0</td>\n      <td>13.0</td>\n      <td>0</td>\n      <td>0</td>\n      <td>0</td>\n    </tr>\n    <tr>\n      <th>133</th>\n      <td>445.0</td>\n      <td>99.0</td>\n      <td>1.0</td>\n      <td>46.0</td>\n      <td>24.0</td>\n      <td>29.0</td>\n      <td>4.0</td>\n      <td>618.0</td>\n      <td>129.0</td>\n      <td>1.0</td>\n      <td>72.0</td>\n      <td>31.0</td>\n      <td>48.0</td>\n      <td>278.0</td>\n      <td>415.0</td>\n      <td>16.0</td>\n      <td>0</td>\n      <td>1</td>\n      <td>0</td>\n    </tr>\n  </tbody>\n</table>\n<p>197 rows × 19 columns</p>\n</div>"
     },
     "execution_count": 516,
     "metadata": {},
     "output_type": "execute_result"
    }
   ],
   "source": [
    "x_train"
   ],
   "metadata": {
    "collapsed": false,
    "ExecuteTime": {
     "end_time": "2024-02-25T18:24:35.368379600Z",
     "start_time": "2024-02-25T18:24:35.242853500Z"
    }
   },
   "id": "fba114cd72673003",
   "execution_count": 516
  },
  {
   "cell_type": "code",
   "outputs": [
    {
     "data": {
      "text/plain": "     AtBat   Hits  HmRun  Runs   RBI  Walks  Years  CAtBat   CHits  CHmRun  \\\n148  497.0  136.0    7.0  58.0  38.0   26.0   11.0  3871.0  1066.0    40.0   \n154  537.0  147.0   23.0  58.0  88.0   47.0   10.0  2744.0   730.0    97.0   \n318  492.0  136.0    5.0  76.0  50.0   94.0   12.0  5511.0  1511.0    39.0   \n279  439.0   96.0    0.0  44.0  36.0   65.0    4.0   711.0   148.0     1.0   \n88   155.0   41.0   12.0  21.0  29.0   22.0   16.0  5409.0  1338.0   181.0   \n..     ...    ...    ...   ...   ...    ...    ...     ...     ...     ...   \n122  539.0  139.0    5.0  93.0  58.0   69.0    5.0  1469.0   369.0    12.0   \n282  633.0  210.0    6.0  91.0  56.0   59.0    6.0  3070.0   872.0    19.0   \n111  325.0   76.0   16.0  33.0  52.0   37.0    5.0  1506.0   351.0    71.0   \n232  313.0   83.0    9.0  43.0  41.0   30.0   14.0  5885.0  1543.0   104.0   \n51   214.0   53.0    2.0  30.0  29.0   23.0    2.0   226.0    59.0     2.0   \n\n     CRuns   CRBI  CWalks  PutOuts  Assists  Errors  League_N  Division_W  \\\n148  450.0  367.0   241.0    304.0    347.0    10.0         0           0   \n154  302.0  351.0   174.0     92.0    257.0    20.0         1           0   \n318  897.0  451.0   875.0    313.0    381.0    20.0         0           0   \n279   68.0   56.0    99.0    229.0    406.0    22.0         1           0   \n88   746.0  805.0   875.0    165.0      9.0     1.0         0           1   \n..     ...    ...     ...      ...      ...     ...       ...         ...   \n122  247.0  126.0   198.0    462.0      9.0     7.0         0           1   \n282  420.0  230.0   274.0    367.0    432.0    16.0         1           1   \n111  195.0  219.0   214.0    726.0     87.0     3.0         1           1   \n232  751.0  714.0   535.0     58.0    141.0    23.0         1           1   \n51    32.0   32.0    27.0    109.0      7.0     3.0         1           0   \n\n     NewLeague_N  \n148            0  \n154            1  \n318            0  \n279            1  \n88             0  \n..           ...  \n122            0  \n282            1  \n111            0  \n232            1  \n51             1  \n\n[66 rows x 19 columns]",
      "text/html": "<div>\n<style scoped>\n    .dataframe tbody tr th:only-of-type {\n        vertical-align: middle;\n    }\n\n    .dataframe tbody tr th {\n        vertical-align: top;\n    }\n\n    .dataframe thead th {\n        text-align: right;\n    }\n</style>\n<table border=\"1\" class=\"dataframe\">\n  <thead>\n    <tr style=\"text-align: right;\">\n      <th></th>\n      <th>AtBat</th>\n      <th>Hits</th>\n      <th>HmRun</th>\n      <th>Runs</th>\n      <th>RBI</th>\n      <th>Walks</th>\n      <th>Years</th>\n      <th>CAtBat</th>\n      <th>CHits</th>\n      <th>CHmRun</th>\n      <th>CRuns</th>\n      <th>CRBI</th>\n      <th>CWalks</th>\n      <th>PutOuts</th>\n      <th>Assists</th>\n      <th>Errors</th>\n      <th>League_N</th>\n      <th>Division_W</th>\n      <th>NewLeague_N</th>\n    </tr>\n  </thead>\n  <tbody>\n    <tr>\n      <th>148</th>\n      <td>497.0</td>\n      <td>136.0</td>\n      <td>7.0</td>\n      <td>58.0</td>\n      <td>38.0</td>\n      <td>26.0</td>\n      <td>11.0</td>\n      <td>3871.0</td>\n      <td>1066.0</td>\n      <td>40.0</td>\n      <td>450.0</td>\n      <td>367.0</td>\n      <td>241.0</td>\n      <td>304.0</td>\n      <td>347.0</td>\n      <td>10.0</td>\n      <td>0</td>\n      <td>0</td>\n      <td>0</td>\n    </tr>\n    <tr>\n      <th>154</th>\n      <td>537.0</td>\n      <td>147.0</td>\n      <td>23.0</td>\n      <td>58.0</td>\n      <td>88.0</td>\n      <td>47.0</td>\n      <td>10.0</td>\n      <td>2744.0</td>\n      <td>730.0</td>\n      <td>97.0</td>\n      <td>302.0</td>\n      <td>351.0</td>\n      <td>174.0</td>\n      <td>92.0</td>\n      <td>257.0</td>\n      <td>20.0</td>\n      <td>1</td>\n      <td>0</td>\n      <td>1</td>\n    </tr>\n    <tr>\n      <th>318</th>\n      <td>492.0</td>\n      <td>136.0</td>\n      <td>5.0</td>\n      <td>76.0</td>\n      <td>50.0</td>\n      <td>94.0</td>\n      <td>12.0</td>\n      <td>5511.0</td>\n      <td>1511.0</td>\n      <td>39.0</td>\n      <td>897.0</td>\n      <td>451.0</td>\n      <td>875.0</td>\n      <td>313.0</td>\n      <td>381.0</td>\n      <td>20.0</td>\n      <td>0</td>\n      <td>0</td>\n      <td>0</td>\n    </tr>\n    <tr>\n      <th>279</th>\n      <td>439.0</td>\n      <td>96.0</td>\n      <td>0.0</td>\n      <td>44.0</td>\n      <td>36.0</td>\n      <td>65.0</td>\n      <td>4.0</td>\n      <td>711.0</td>\n      <td>148.0</td>\n      <td>1.0</td>\n      <td>68.0</td>\n      <td>56.0</td>\n      <td>99.0</td>\n      <td>229.0</td>\n      <td>406.0</td>\n      <td>22.0</td>\n      <td>1</td>\n      <td>0</td>\n      <td>1</td>\n    </tr>\n    <tr>\n      <th>88</th>\n      <td>155.0</td>\n      <td>41.0</td>\n      <td>12.0</td>\n      <td>21.0</td>\n      <td>29.0</td>\n      <td>22.0</td>\n      <td>16.0</td>\n      <td>5409.0</td>\n      <td>1338.0</td>\n      <td>181.0</td>\n      <td>746.0</td>\n      <td>805.0</td>\n      <td>875.0</td>\n      <td>165.0</td>\n      <td>9.0</td>\n      <td>1.0</td>\n      <td>0</td>\n      <td>1</td>\n      <td>0</td>\n    </tr>\n    <tr>\n      <th>...</th>\n      <td>...</td>\n      <td>...</td>\n      <td>...</td>\n      <td>...</td>\n      <td>...</td>\n      <td>...</td>\n      <td>...</td>\n      <td>...</td>\n      <td>...</td>\n      <td>...</td>\n      <td>...</td>\n      <td>...</td>\n      <td>...</td>\n      <td>...</td>\n      <td>...</td>\n      <td>...</td>\n      <td>...</td>\n      <td>...</td>\n      <td>...</td>\n    </tr>\n    <tr>\n      <th>122</th>\n      <td>539.0</td>\n      <td>139.0</td>\n      <td>5.0</td>\n      <td>93.0</td>\n      <td>58.0</td>\n      <td>69.0</td>\n      <td>5.0</td>\n      <td>1469.0</td>\n      <td>369.0</td>\n      <td>12.0</td>\n      <td>247.0</td>\n      <td>126.0</td>\n      <td>198.0</td>\n      <td>462.0</td>\n      <td>9.0</td>\n      <td>7.0</td>\n      <td>0</td>\n      <td>1</td>\n      <td>0</td>\n    </tr>\n    <tr>\n      <th>282</th>\n      <td>633.0</td>\n      <td>210.0</td>\n      <td>6.0</td>\n      <td>91.0</td>\n      <td>56.0</td>\n      <td>59.0</td>\n      <td>6.0</td>\n      <td>3070.0</td>\n      <td>872.0</td>\n      <td>19.0</td>\n      <td>420.0</td>\n      <td>230.0</td>\n      <td>274.0</td>\n      <td>367.0</td>\n      <td>432.0</td>\n      <td>16.0</td>\n      <td>1</td>\n      <td>1</td>\n      <td>1</td>\n    </tr>\n    <tr>\n      <th>111</th>\n      <td>325.0</td>\n      <td>76.0</td>\n      <td>16.0</td>\n      <td>33.0</td>\n      <td>52.0</td>\n      <td>37.0</td>\n      <td>5.0</td>\n      <td>1506.0</td>\n      <td>351.0</td>\n      <td>71.0</td>\n      <td>195.0</td>\n      <td>219.0</td>\n      <td>214.0</td>\n      <td>726.0</td>\n      <td>87.0</td>\n      <td>3.0</td>\n      <td>1</td>\n      <td>1</td>\n      <td>0</td>\n    </tr>\n    <tr>\n      <th>232</th>\n      <td>313.0</td>\n      <td>83.0</td>\n      <td>9.0</td>\n      <td>43.0</td>\n      <td>41.0</td>\n      <td>30.0</td>\n      <td>14.0</td>\n      <td>5885.0</td>\n      <td>1543.0</td>\n      <td>104.0</td>\n      <td>751.0</td>\n      <td>714.0</td>\n      <td>535.0</td>\n      <td>58.0</td>\n      <td>141.0</td>\n      <td>23.0</td>\n      <td>1</td>\n      <td>1</td>\n      <td>1</td>\n    </tr>\n    <tr>\n      <th>51</th>\n      <td>214.0</td>\n      <td>53.0</td>\n      <td>2.0</td>\n      <td>30.0</td>\n      <td>29.0</td>\n      <td>23.0</td>\n      <td>2.0</td>\n      <td>226.0</td>\n      <td>59.0</td>\n      <td>2.0</td>\n      <td>32.0</td>\n      <td>32.0</td>\n      <td>27.0</td>\n      <td>109.0</td>\n      <td>7.0</td>\n      <td>3.0</td>\n      <td>1</td>\n      <td>0</td>\n      <td>1</td>\n    </tr>\n  </tbody>\n</table>\n<p>66 rows × 19 columns</p>\n</div>"
     },
     "execution_count": 517,
     "metadata": {},
     "output_type": "execute_result"
    }
   ],
   "source": [
    "x_test"
   ],
   "metadata": {
    "collapsed": false,
    "ExecuteTime": {
     "end_time": "2024-02-25T18:24:39.788877700Z",
     "start_time": "2024-02-25T18:24:39.681479800Z"
    }
   },
   "id": "af93313c00d0d745",
   "execution_count": 517
  },
  {
   "cell_type": "code",
   "outputs": [
    {
     "data": {
      "text/plain": "183     125.000\n229    1940.000\n286     940.000\n102     375.000\n153     100.000\n         ...   \n24      776.667\n236     750.000\n93      145.000\n137     430.000\n133      87.500\nName: Salary, Length: 197, dtype: float64"
     },
     "execution_count": 518,
     "metadata": {},
     "output_type": "execute_result"
    }
   ],
   "source": [
    "y_train"
   ],
   "metadata": {
    "collapsed": false,
    "ExecuteTime": {
     "end_time": "2024-02-25T18:24:51.511401400Z",
     "start_time": "2024-02-25T18:24:51.406314Z"
    }
   },
   "id": "bc69c306bdfcdc2f",
   "execution_count": 518
  },
  {
   "cell_type": "code",
   "outputs": [
    {
     "data": {
      "text/plain": "183     125.000\n229    1940.000\n286     940.000\n102     375.000\n153     100.000\n         ...   \n24      776.667\n236     750.000\n93      145.000\n137     430.000\n133      87.500\nName: Salary, Length: 197, dtype: float64"
     },
     "execution_count": 519,
     "metadata": {},
     "output_type": "execute_result"
    }
   ],
   "source": [
    "y_train"
   ],
   "metadata": {
    "collapsed": false,
    "ExecuteTime": {
     "end_time": "2024-02-25T18:24:55.491863200Z",
     "start_time": "2024-02-25T18:24:55.384732100Z"
    }
   },
   "id": "b4641f4b66a5eeff",
   "execution_count": 519
  },
  {
   "cell_type": "code",
   "outputs": [
    {
     "name": "stderr",
     "output_type": "stream",
     "text": [
      "C:\\Users\\arda_\\anaconda3\\lib\\site-packages\\sklearn\\linear_model\\_coordinate_descent.py:628: ConvergenceWarning: Objective did not converge. You might want to increase the number of iterations, check the scale of the features or consider increasing regularisation. Duality gap: 8.488e+06, tolerance: 3.899e+03\n",
      "  model = cd_fast.enet_coordinate_descent(\n"
     ]
    }
   ],
   "source": [
    "enetModel = ElasticNet().fit(x_train,y_train)"
   ],
   "metadata": {
    "collapsed": false,
    "ExecuteTime": {
     "end_time": "2024-02-25T18:25:19.795744900Z",
     "start_time": "2024-02-25T18:25:19.673488700Z"
    }
   },
   "id": "c8fb338183f06b3f",
   "execution_count": 520
  },
  {
   "cell_type": "code",
   "outputs": [
    {
     "data": {
      "text/plain": "array([ -1.86256172,   8.70489065,   5.10426375,  -2.89875799,\n        -1.28642985,   5.24343682,   6.04480276,  -0.14701495,\n        -0.21566628,  -0.7897201 ,   1.80813117,   0.80914508,\n        -0.61262382,   0.26816203,   0.27172387,  -0.36530729,\n        19.2186222 , -31.16586592,   8.98369938])"
     },
     "execution_count": 521,
     "metadata": {},
     "output_type": "execute_result"
    }
   ],
   "source": [
    "enetModel.coef_"
   ],
   "metadata": {
    "collapsed": false,
    "ExecuteTime": {
     "end_time": "2024-02-25T18:25:29.734953700Z",
     "start_time": "2024-02-25T18:25:29.604770200Z"
    }
   },
   "id": "e10204a0c62c3464",
   "execution_count": 521
  },
  {
   "cell_type": "code",
   "outputs": [
    {
     "data": {
      "text/plain": "-6.46595560211324"
     },
     "execution_count": 522,
     "metadata": {},
     "output_type": "execute_result"
    }
   ],
   "source": [
    "enetModel.intercept_"
   ],
   "metadata": {
    "collapsed": false,
    "ExecuteTime": {
     "end_time": "2024-02-25T18:25:43.587530Z",
     "start_time": "2024-02-25T18:25:43.481941500Z"
    }
   },
   "id": "253b3fad42ed227",
   "execution_count": 522
  },
  {
   "cell_type": "markdown",
   "source": [
    "5.2-Tahmin"
   ],
   "metadata": {
    "collapsed": false
   },
   "id": "33fc35bcbfd8cc0b"
  },
  {
   "cell_type": "code",
   "outputs": [
    {
     "data": {
      "text/plain": "array([ 325.74706292,  776.06632333,  522.86508419,  107.64091955,\n        449.03139566,  997.76095723,   99.78828622,  311.33763086,\n        418.50335021,  879.9502608 , 1628.05423879,  831.63172575,\n        909.34196881,  715.67274292,  601.33595953,  657.40417507,\n       1068.2110763 ,  149.6849625 ,  190.40513329,  385.31235163,\n        752.37991572, 1022.76166475,  486.94874949,  349.7945189 ,\n         69.28225147,  783.98489255,  551.11613877,  205.84644387,\n        367.25234577,  303.22135065,   98.44933333,  533.19866378,\n       1000.16419322,  245.20490159,  448.10920305,  401.93188524,\n        457.71559572,  713.00914559,  333.18157434,  235.45584771,\n        210.52615243,  309.20890759,  190.6560382 ,  183.01443111,\n        238.19688018, 1080.44877923,  380.19569305,  551.45922356,\n        278.3820838 ,  338.53829531,  427.9529666 ,  476.71228336,\n        297.09609267,  435.8113557 ,  592.18850471,  320.60291497,\n        510.97484699,  698.77992314,  218.04297483, 1535.95190547,\n        293.10294265,  189.6299643 ,  234.90776798,  292.46815931,\n        207.24518123,  818.58104675,  150.51114025,  436.90141101,\n        227.80627101,  269.85875334,  228.75251874,  780.27519788,\n        790.36841186,  741.23503574, 1471.96251995,  488.41242285,\n        541.340134  ,  475.37932197,  333.97175487,  980.7843625 ,\n        643.39081546,  506.9794147 ,  649.83293921,  657.68449241,\n        104.01854397,  770.91177319,  792.76875776, 1111.41642422,\n       1099.71214918,  687.51265812,  294.10741874,  234.27767447,\n       1152.45117423,  183.93307336,  416.51170979, 1250.71311433,\n       1069.48439424,  472.06592669,  774.67244657,  717.23343434,\n        403.94514963,  284.75403794,  635.563956  , 1367.1386377 ,\n        426.62941453, 1387.50330574,  788.84926559,  241.97390702,\n         81.08356292,  706.29629041,  711.58342115,  490.4396005 ,\n        297.57395148,  602.92224964,  508.11006727,  474.12896418,\n        882.09816344,  751.00437516,  357.20084916,  437.13439809,\n        583.87140404,  745.9400723 , 1095.58826183,  230.422316  ,\n         67.43611578,  462.88657696, 1333.51100827,  179.44710228,\n        175.02625103,  574.86154315,  864.61114064,  751.34019514,\n       1063.33937786,  792.97192467,  805.58654591,  271.79287773,\n        681.48678634,  301.90547349,  318.18177591,  854.62559948,\n         88.88633801,  323.13973702,  328.57213353,  610.07706981,\n        160.77168119,  304.03494572,  208.57272221,  495.22439088,\n        542.02278066, 1131.38585393,  304.83922126,  138.00288021,\n        225.79384761,  220.99925679,  807.46978324,  176.31037592,\n       1060.79953783,   82.56736518,  883.28621752,  590.85539065,\n        271.74633798,  392.51784598, 1325.87568879,  152.77512134,\n        563.94879139,  722.74191545,  383.97710112,  205.75411198,\n        687.09863653,  555.76395905,  757.14018923,  218.42681886,\n        589.69766034,  853.80452947,  236.54404615,  261.69506818,\n        314.24244215,  751.62770032,  573.53145529, 1008.25667824,\n        185.92925298,  442.71794918,  218.86121002,  569.79705306,\n        462.86048261,  818.8213985 ,  625.42364577,  568.07903425,\n        201.63756561,  360.92335494,  211.78706205,  849.65108444,\n       1220.03033522, 1286.49474847,  433.04566885,  705.66251327,\n        200.30497031])"
     },
     "execution_count": 535,
     "metadata": {},
     "output_type": "execute_result"
    }
   ],
   "source": [
    "enetModel.predict(x_train)"
   ],
   "metadata": {
    "collapsed": false,
    "ExecuteTime": {
     "end_time": "2024-02-25T18:29:31.135203700Z",
     "start_time": "2024-02-25T18:29:30.990518600Z"
    }
   },
   "id": "3cb2dffcac1c31c8",
   "execution_count": 535
  },
  {
   "cell_type": "code",
   "outputs": [
    {
     "data": {
      "text/plain": "array([ 577.79111731,  617.33202224, 1031.39113156,  364.95861575,\n        489.51894393,  300.74185842,  604.522666  ,  465.34678732,\n        901.44473965,  703.20357123,  702.9157117 ,  931.50283407,\n        184.87939803,  385.14973787,  325.38944176,  546.99346574,\n        774.28001821,  101.83114992, 1250.86758812,  370.67651244,\n        442.05734523,  781.17288513,  578.63736538,  609.31927808,\n        608.31719597,  227.46556223,  921.85505228,  301.1202457 ,\n        386.31721051,  133.61143326,  162.28505608,   88.29793182,\n        359.9068418 ,  422.51268445,  265.8663769 ,  355.70450908,\n       1329.36312363,  125.05506935,   82.74580002,  269.17483075,\n        117.13319397,  274.13484779,  648.4957249 ,  409.47065999,\n        846.27919406,  712.04817644,  341.10596674,  368.24259678,\n        305.70477656,  680.05724792,  716.13640636,  295.93204262,\n        773.06445823,  249.28224916,  221.46794589,  541.2713245 ,\n        611.50212372,  770.80228024,  168.45143906, 1159.05660731,\n       1655.73440058,  487.79019015, 1013.23932071,  443.91500502,\n        613.83293616,  152.85401115])"
     },
     "execution_count": 526,
     "metadata": {},
     "output_type": "execute_result"
    }
   ],
   "source": [
    "enetModel.predict(x_test)"
   ],
   "metadata": {
    "collapsed": false,
    "ExecuteTime": {
     "end_time": "2024-02-25T18:26:31.505306Z",
     "start_time": "2024-02-25T18:26:31.380018400Z"
    }
   },
   "id": "ba9843c3626370f3",
   "execution_count": 526
  },
  {
   "cell_type": "code",
   "outputs": [],
   "source": [
    "yTahmin = enetModel.predict(x_test)"
   ],
   "metadata": {
    "collapsed": false,
    "ExecuteTime": {
     "end_time": "2024-02-25T18:26:59.672289700Z",
     "start_time": "2024-02-25T18:26:59.549160100Z"
    }
   },
   "id": "618bf5be883911e5",
   "execution_count": 527
  },
  {
   "cell_type": "code",
   "outputs": [
    {
     "data": {
      "text/plain": "array([ 577.79111731,  617.33202224, 1031.39113156,  364.95861575,\n        489.51894393,  300.74185842,  604.522666  ,  465.34678732,\n        901.44473965,  703.20357123,  702.9157117 ,  931.50283407,\n        184.87939803,  385.14973787,  325.38944176,  546.99346574,\n        774.28001821,  101.83114992, 1250.86758812,  370.67651244,\n        442.05734523,  781.17288513,  578.63736538,  609.31927808,\n        608.31719597,  227.46556223,  921.85505228,  301.1202457 ,\n        386.31721051,  133.61143326,  162.28505608,   88.29793182,\n        359.9068418 ,  422.51268445,  265.8663769 ,  355.70450908,\n       1329.36312363,  125.05506935,   82.74580002,  269.17483075,\n        117.13319397,  274.13484779,  648.4957249 ,  409.47065999,\n        846.27919406,  712.04817644,  341.10596674,  368.24259678,\n        305.70477656,  680.05724792,  716.13640636,  295.93204262,\n        773.06445823,  249.28224916,  221.46794589,  541.2713245 ,\n        611.50212372,  770.80228024,  168.45143906, 1159.05660731,\n       1655.73440058,  487.79019015, 1013.23932071,  443.91500502,\n        613.83293616,  152.85401115])"
     },
     "execution_count": 528,
     "metadata": {},
     "output_type": "execute_result"
    }
   ],
   "source": [
    "yTahmin"
   ],
   "metadata": {
    "collapsed": false,
    "ExecuteTime": {
     "end_time": "2024-02-25T18:27:02.834602700Z",
     "start_time": "2024-02-25T18:27:02.697028900Z"
    }
   },
   "id": "72d7432898ed83d9",
   "execution_count": 528
  },
  {
   "cell_type": "code",
   "outputs": [],
   "source": [
    "ortalamaKareHata=  np.sqrt(mean_squared_error(y_test, yTahmin))"
   ],
   "metadata": {
    "collapsed": false,
    "ExecuteTime": {
     "end_time": "2024-02-25T18:28:01.188561Z",
     "start_time": "2024-02-25T18:28:01.055915600Z"
    }
   },
   "id": "355100ff1aea0b30",
   "execution_count": 530
  },
  {
   "cell_type": "code",
   "outputs": [
    {
     "data": {
      "text/plain": "357.1676548181246"
     },
     "execution_count": 531,
     "metadata": {},
     "output_type": "execute_result"
    }
   ],
   "source": [
    "ortalamaKareHata"
   ],
   "metadata": {
    "collapsed": false,
    "ExecuteTime": {
     "end_time": "2024-02-25T18:28:04.842985100Z",
     "start_time": "2024-02-25T18:28:04.717768300Z"
    }
   },
   "id": "6e4b54515f8cd0c0",
   "execution_count": 531
  },
  {
   "cell_type": "code",
   "outputs": [
    {
     "data": {
      "text/plain": "0.41070222469326867"
     },
     "execution_count": 534,
     "metadata": {},
     "output_type": "execute_result"
    }
   ],
   "source": [
    "r2_score(y_test,yTahmin)"
   ],
   "metadata": {
    "collapsed": false,
    "ExecuteTime": {
     "end_time": "2024-02-25T18:28:41.613776100Z",
     "start_time": "2024-02-25T18:28:41.497818900Z"
    }
   },
   "id": "18459e3ea8163bff",
   "execution_count": 534
  },
  {
   "cell_type": "markdown",
   "source": [
    "5.3-Model Tuning"
   ],
   "metadata": {
    "collapsed": false
   },
   "id": "a02dd8046ce001ce"
  },
  {
   "cell_type": "code",
   "outputs": [],
   "source": [
    "enetCvModel = ElasticNetCV(cv=10).fit(x_train,y_train)"
   ],
   "metadata": {
    "collapsed": false,
    "ExecuteTime": {
     "end_time": "2024-02-25T18:30:33.312688500Z",
     "start_time": "2024-02-25T18:30:33.141836900Z"
    }
   },
   "id": "226a6094f492980e",
   "execution_count": 536
  },
  {
   "cell_type": "code",
   "outputs": [
    {
     "data": {
      "text/plain": "ElasticNetCV(cv=10)",
      "text/html": "<style>#sk-container-id-24 {color: black;}#sk-container-id-24 pre{padding: 0;}#sk-container-id-24 div.sk-toggleable {background-color: white;}#sk-container-id-24 label.sk-toggleable__label {cursor: pointer;display: block;width: 100%;margin-bottom: 0;padding: 0.3em;box-sizing: border-box;text-align: center;}#sk-container-id-24 label.sk-toggleable__label-arrow:before {content: \"▸\";float: left;margin-right: 0.25em;color: #696969;}#sk-container-id-24 label.sk-toggleable__label-arrow:hover:before {color: black;}#sk-container-id-24 div.sk-estimator:hover label.sk-toggleable__label-arrow:before {color: black;}#sk-container-id-24 div.sk-toggleable__content {max-height: 0;max-width: 0;overflow: hidden;text-align: left;background-color: #f0f8ff;}#sk-container-id-24 div.sk-toggleable__content pre {margin: 0.2em;color: black;border-radius: 0.25em;background-color: #f0f8ff;}#sk-container-id-24 input.sk-toggleable__control:checked~div.sk-toggleable__content {max-height: 200px;max-width: 100%;overflow: auto;}#sk-container-id-24 input.sk-toggleable__control:checked~label.sk-toggleable__label-arrow:before {content: \"▾\";}#sk-container-id-24 div.sk-estimator input.sk-toggleable__control:checked~label.sk-toggleable__label {background-color: #d4ebff;}#sk-container-id-24 div.sk-label input.sk-toggleable__control:checked~label.sk-toggleable__label {background-color: #d4ebff;}#sk-container-id-24 input.sk-hidden--visually {border: 0;clip: rect(1px 1px 1px 1px);clip: rect(1px, 1px, 1px, 1px);height: 1px;margin: -1px;overflow: hidden;padding: 0;position: absolute;width: 1px;}#sk-container-id-24 div.sk-estimator {font-family: monospace;background-color: #f0f8ff;border: 1px dotted black;border-radius: 0.25em;box-sizing: border-box;margin-bottom: 0.5em;}#sk-container-id-24 div.sk-estimator:hover {background-color: #d4ebff;}#sk-container-id-24 div.sk-parallel-item::after {content: \"\";width: 100%;border-bottom: 1px solid gray;flex-grow: 1;}#sk-container-id-24 div.sk-label:hover label.sk-toggleable__label {background-color: #d4ebff;}#sk-container-id-24 div.sk-serial::before {content: \"\";position: absolute;border-left: 1px solid gray;box-sizing: border-box;top: 0;bottom: 0;left: 50%;z-index: 0;}#sk-container-id-24 div.sk-serial {display: flex;flex-direction: column;align-items: center;background-color: white;padding-right: 0.2em;padding-left: 0.2em;position: relative;}#sk-container-id-24 div.sk-item {position: relative;z-index: 1;}#sk-container-id-24 div.sk-parallel {display: flex;align-items: stretch;justify-content: center;background-color: white;position: relative;}#sk-container-id-24 div.sk-item::before, #sk-container-id-24 div.sk-parallel-item::before {content: \"\";position: absolute;border-left: 1px solid gray;box-sizing: border-box;top: 0;bottom: 0;left: 50%;z-index: -1;}#sk-container-id-24 div.sk-parallel-item {display: flex;flex-direction: column;z-index: 1;position: relative;background-color: white;}#sk-container-id-24 div.sk-parallel-item:first-child::after {align-self: flex-end;width: 50%;}#sk-container-id-24 div.sk-parallel-item:last-child::after {align-self: flex-start;width: 50%;}#sk-container-id-24 div.sk-parallel-item:only-child::after {width: 0;}#sk-container-id-24 div.sk-dashed-wrapped {border: 1px dashed gray;margin: 0 0.4em 0.5em 0.4em;box-sizing: border-box;padding-bottom: 0.4em;background-color: white;}#sk-container-id-24 div.sk-label label {font-family: monospace;font-weight: bold;display: inline-block;line-height: 1.2em;}#sk-container-id-24 div.sk-label-container {text-align: center;}#sk-container-id-24 div.sk-container {/* jupyter's `normalize.less` sets `[hidden] { display: none; }` but bootstrap.min.css set `[hidden] { display: none !important; }` so we also need the `!important` here to be able to override the default hidden behavior on the sphinx rendered scikit-learn.org. See: https://github.com/scikit-learn/scikit-learn/issues/21755 */display: inline-block !important;position: relative;}#sk-container-id-24 div.sk-text-repr-fallback {display: none;}</style><div id=\"sk-container-id-24\" class=\"sk-top-container\"><div class=\"sk-text-repr-fallback\"><pre>ElasticNetCV(cv=10)</pre><b>In a Jupyter environment, please rerun this cell to show the HTML representation or trust the notebook. <br />On GitHub, the HTML representation is unable to render, please try loading this page with nbviewer.org.</b></div><div class=\"sk-container\" hidden><div class=\"sk-item\"><div class=\"sk-estimator sk-toggleable\"><input class=\"sk-toggleable__control sk-hidden--visually\" id=\"sk-estimator-id-24\" type=\"checkbox\" checked><label for=\"sk-estimator-id-24\" class=\"sk-toggleable__label sk-toggleable__label-arrow\">ElasticNetCV</label><div class=\"sk-toggleable__content\"><pre>ElasticNetCV(cv=10)</pre></div></div></div></div></div>"
     },
     "execution_count": 537,
     "metadata": {},
     "output_type": "execute_result"
    }
   ],
   "source": [
    "enetCvModel"
   ],
   "metadata": {
    "collapsed": false,
    "ExecuteTime": {
     "end_time": "2024-02-25T18:30:36.610863300Z",
     "start_time": "2024-02-25T18:30:36.496555700Z"
    }
   },
   "id": "d0ddf24d6bfcfa82",
   "execution_count": 537
  },
  {
   "cell_type": "code",
   "outputs": [
    {
     "data": {
      "text/plain": "5230.764736479864"
     },
     "execution_count": 538,
     "metadata": {},
     "output_type": "execute_result"
    }
   ],
   "source": [
    "enetCvModel.alpha_"
   ],
   "metadata": {
    "collapsed": false,
    "ExecuteTime": {
     "end_time": "2024-02-25T18:30:50.441647400Z",
     "start_time": "2024-02-25T18:30:50.331297200Z"
    }
   },
   "id": "6ab3625a1866c737",
   "execution_count": 538
  },
  {
   "cell_type": "code",
   "outputs": [
    {
     "data": {
      "text/plain": "-38.51940558394301"
     },
     "execution_count": 539,
     "metadata": {},
     "output_type": "execute_result"
    }
   ],
   "source": [
    "enetCvModel.intercept_"
   ],
   "metadata": {
    "collapsed": false,
    "ExecuteTime": {
     "end_time": "2024-02-25T18:31:00.493675600Z",
     "start_time": "2024-02-25T18:31:00.381444Z"
    }
   },
   "id": "ecbe455d66fd08b3",
   "execution_count": 539
  },
  {
   "cell_type": "code",
   "outputs": [
    {
     "data": {
      "text/plain": "array([ 0.62845434,  0.        ,  0.        ,  0.        ,  0.        ,\n        0.        , -0.        ,  0.        ,  0.09788752,  0.        ,\n        0.27265769,  0.19270075,  0.00758665,  0.3106529 ,  0.        ,\n       -0.        ,  0.        , -0.        ,  0.        ])"
     },
     "execution_count": 540,
     "metadata": {},
     "output_type": "execute_result"
    }
   ],
   "source": [
    "enetCvModel.coef_"
   ],
   "metadata": {
    "collapsed": false,
    "ExecuteTime": {
     "end_time": "2024-02-25T18:31:06.842661500Z",
     "start_time": "2024-02-25T18:31:06.729928500Z"
    }
   },
   "id": "ba3181b5e789bae6",
   "execution_count": 540
  },
  {
   "cell_type": "markdown",
   "source": [
    "5.4 Final Model"
   ],
   "metadata": {
    "collapsed": false
   },
   "id": "de05a7e7a73def69"
  },
  {
   "cell_type": "code",
   "outputs": [],
   "source": [
    "enetTuned = ElasticNet(alpha = enetCvModel.alpha_).fit(x_train,y_train)"
   ],
   "metadata": {
    "collapsed": false,
    "ExecuteTime": {
     "end_time": "2024-02-25T18:32:40.719839900Z",
     "start_time": "2024-02-25T18:32:40.606644200Z"
    }
   },
   "id": "7d6f617241756dc3",
   "execution_count": 542
  },
  {
   "cell_type": "code",
   "outputs": [
    {
     "data": {
      "text/plain": "ElasticNet(alpha=5230.764736479864)",
      "text/html": "<style>#sk-container-id-25 {color: black;}#sk-container-id-25 pre{padding: 0;}#sk-container-id-25 div.sk-toggleable {background-color: white;}#sk-container-id-25 label.sk-toggleable__label {cursor: pointer;display: block;width: 100%;margin-bottom: 0;padding: 0.3em;box-sizing: border-box;text-align: center;}#sk-container-id-25 label.sk-toggleable__label-arrow:before {content: \"▸\";float: left;margin-right: 0.25em;color: #696969;}#sk-container-id-25 label.sk-toggleable__label-arrow:hover:before {color: black;}#sk-container-id-25 div.sk-estimator:hover label.sk-toggleable__label-arrow:before {color: black;}#sk-container-id-25 div.sk-toggleable__content {max-height: 0;max-width: 0;overflow: hidden;text-align: left;background-color: #f0f8ff;}#sk-container-id-25 div.sk-toggleable__content pre {margin: 0.2em;color: black;border-radius: 0.25em;background-color: #f0f8ff;}#sk-container-id-25 input.sk-toggleable__control:checked~div.sk-toggleable__content {max-height: 200px;max-width: 100%;overflow: auto;}#sk-container-id-25 input.sk-toggleable__control:checked~label.sk-toggleable__label-arrow:before {content: \"▾\";}#sk-container-id-25 div.sk-estimator input.sk-toggleable__control:checked~label.sk-toggleable__label {background-color: #d4ebff;}#sk-container-id-25 div.sk-label input.sk-toggleable__control:checked~label.sk-toggleable__label {background-color: #d4ebff;}#sk-container-id-25 input.sk-hidden--visually {border: 0;clip: rect(1px 1px 1px 1px);clip: rect(1px, 1px, 1px, 1px);height: 1px;margin: -1px;overflow: hidden;padding: 0;position: absolute;width: 1px;}#sk-container-id-25 div.sk-estimator {font-family: monospace;background-color: #f0f8ff;border: 1px dotted black;border-radius: 0.25em;box-sizing: border-box;margin-bottom: 0.5em;}#sk-container-id-25 div.sk-estimator:hover {background-color: #d4ebff;}#sk-container-id-25 div.sk-parallel-item::after {content: \"\";width: 100%;border-bottom: 1px solid gray;flex-grow: 1;}#sk-container-id-25 div.sk-label:hover label.sk-toggleable__label {background-color: #d4ebff;}#sk-container-id-25 div.sk-serial::before {content: \"\";position: absolute;border-left: 1px solid gray;box-sizing: border-box;top: 0;bottom: 0;left: 50%;z-index: 0;}#sk-container-id-25 div.sk-serial {display: flex;flex-direction: column;align-items: center;background-color: white;padding-right: 0.2em;padding-left: 0.2em;position: relative;}#sk-container-id-25 div.sk-item {position: relative;z-index: 1;}#sk-container-id-25 div.sk-parallel {display: flex;align-items: stretch;justify-content: center;background-color: white;position: relative;}#sk-container-id-25 div.sk-item::before, #sk-container-id-25 div.sk-parallel-item::before {content: \"\";position: absolute;border-left: 1px solid gray;box-sizing: border-box;top: 0;bottom: 0;left: 50%;z-index: -1;}#sk-container-id-25 div.sk-parallel-item {display: flex;flex-direction: column;z-index: 1;position: relative;background-color: white;}#sk-container-id-25 div.sk-parallel-item:first-child::after {align-self: flex-end;width: 50%;}#sk-container-id-25 div.sk-parallel-item:last-child::after {align-self: flex-start;width: 50%;}#sk-container-id-25 div.sk-parallel-item:only-child::after {width: 0;}#sk-container-id-25 div.sk-dashed-wrapped {border: 1px dashed gray;margin: 0 0.4em 0.5em 0.4em;box-sizing: border-box;padding-bottom: 0.4em;background-color: white;}#sk-container-id-25 div.sk-label label {font-family: monospace;font-weight: bold;display: inline-block;line-height: 1.2em;}#sk-container-id-25 div.sk-label-container {text-align: center;}#sk-container-id-25 div.sk-container {/* jupyter's `normalize.less` sets `[hidden] { display: none; }` but bootstrap.min.css set `[hidden] { display: none !important; }` so we also need the `!important` here to be able to override the default hidden behavior on the sphinx rendered scikit-learn.org. See: https://github.com/scikit-learn/scikit-learn/issues/21755 */display: inline-block !important;position: relative;}#sk-container-id-25 div.sk-text-repr-fallback {display: none;}</style><div id=\"sk-container-id-25\" class=\"sk-top-container\"><div class=\"sk-text-repr-fallback\"><pre>ElasticNet(alpha=5230.764736479864)</pre><b>In a Jupyter environment, please rerun this cell to show the HTML representation or trust the notebook. <br />On GitHub, the HTML representation is unable to render, please try loading this page with nbviewer.org.</b></div><div class=\"sk-container\" hidden><div class=\"sk-item\"><div class=\"sk-estimator sk-toggleable\"><input class=\"sk-toggleable__control sk-hidden--visually\" id=\"sk-estimator-id-25\" type=\"checkbox\" checked><label for=\"sk-estimator-id-25\" class=\"sk-toggleable__label sk-toggleable__label-arrow\">ElasticNet</label><div class=\"sk-toggleable__content\"><pre>ElasticNet(alpha=5230.764736479864)</pre></div></div></div></div></div>"
     },
     "execution_count": 543,
     "metadata": {},
     "output_type": "execute_result"
    }
   ],
   "source": [
    "enetTuned"
   ],
   "metadata": {
    "collapsed": false,
    "ExecuteTime": {
     "end_time": "2024-02-25T18:32:46.466260500Z",
     "start_time": "2024-02-25T18:32:46.354408Z"
    }
   },
   "id": "c879b57efe601970",
   "execution_count": 543
  },
  {
   "cell_type": "code",
   "outputs": [],
   "source": [
    "yTahmin = enetTuned.predict(x_test)"
   ],
   "metadata": {
    "collapsed": false,
    "ExecuteTime": {
     "end_time": "2024-02-25T18:33:38.874028900Z",
     "start_time": "2024-02-25T18:33:38.759714700Z"
    }
   },
   "id": "b73afe666ab2b4ce",
   "execution_count": 544
  },
  {
   "cell_type": "code",
   "outputs": [
    {
     "data": {
      "text/plain": "394.1528056321879"
     },
     "execution_count": 545,
     "metadata": {},
     "output_type": "execute_result"
    }
   ],
   "source": [
    "np.sqrt(mean_squared_error(y_test, yTahmin))"
   ],
   "metadata": {
    "collapsed": false,
    "ExecuteTime": {
     "end_time": "2024-02-25T18:33:48.133653700Z",
     "start_time": "2024-02-25T18:33:48.015729500Z"
    }
   },
   "id": "98e283ded4473b37",
   "execution_count": 545
  },
  {
   "cell_type": "code",
   "outputs": [],
   "source": [
    "?ElasticNet"
   ],
   "metadata": {
    "collapsed": false,
    "ExecuteTime": {
     "end_time": "2024-02-25T18:34:59.088444800Z",
     "start_time": "2024-02-25T18:34:58.923117300Z"
    }
   },
   "id": "50918d68233897ad",
   "execution_count": 546
  },
  {
   "cell_type": "code",
   "outputs": [],
   "source": [],
   "metadata": {
    "collapsed": false
   },
   "id": "b43fd2c1786daa42"
  }
 ],
 "metadata": {
  "kernelspec": {
   "display_name": "Python 3",
   "language": "python",
   "name": "python3"
  },
  "language_info": {
   "codemirror_mode": {
    "name": "ipython",
    "version": 2
   },
   "file_extension": ".py",
   "mimetype": "text/x-python",
   "name": "python",
   "nbconvert_exporter": "python",
   "pygments_lexer": "ipython2",
   "version": "2.7.6"
  }
 },
 "nbformat": 4,
 "nbformat_minor": 5
}
